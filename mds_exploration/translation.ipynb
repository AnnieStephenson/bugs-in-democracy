{
 "cells": [
  {
   "cell_type": "code",
   "execution_count": 3,
   "metadata": {},
   "outputs": [],
   "source": [
    "import numpy as np\n",
    "\n",
    "def generate_rcv_simulated(Ncand, numranks, Nsimvoters):\n",
    "    # Set up\n",
    "    a = np.arange(1, Ncand + 1)\n",
    "    w = 1 / np.arange(1, Ncand + 1)  # Exclude 0 to avoid division by zero\n",
    "\n",
    "    N = Nsimvoters * numranks\n",
    "\n",
    "    # Make some randomly chosen groups of candidates (NYC style)\n",
    "    R = np.random.choice(a, size=N, p=w/np.sum(w))\n",
    "    selections = R.reshape(Nsimvoters, numranks)\n",
    "\n",
    "    # Assume candidates are at 1/(N+1) spacing\n",
    "    candidateposition = a / (Ncand + 1)\n",
    "\n",
    "    # Pick a random location on [0, 1] axis for voter\n",
    "    voterposition = np.random.rand(Nsimvoters, 1)\n",
    "\n",
    "    # Calculate distance to each candidate\n",
    "    ballots = np.zeros_like(selections)\n",
    "    for i in range(Nsimvoters):\n",
    "        dist_to_candidate = np.abs(voterposition[i] - candidateposition[selections[i, :] - 1])  # Adjust for 0-based indexing\n",
    "        preferences = np.argsort(dist_to_candidate)\n",
    "        ballots[i, :] = selections[i, preferences]\n",
    "\n",
    "    # Rank candidates by distance, make that the ballot\n",
    "    return ballots"
   ]
  },
  {
   "cell_type": "code",
   "execution_count": null,
   "metadata": {},
   "outputs": [],
   "source": [
    "# Test the function with some parameters\n",
    "Ncand = 4  # Number of candidates\n",
    "numranks = 5  # Number of ranks\n",
    "Nsimvoters = 200000  # Number of voters\n",
    "ballots = generate_rcv_simulated(Ncand, numranks, Nsimvoters)\n",
    "print(ballots)"
   ]
  },
  {
   "cell_type": "code",
   "execution_count": 22,
   "metadata": {},
   "outputs": [],
   "source": [
    "from sklearn.manifold import MDS\n",
    "import pymds\n",
    "import matplotlib.pyplot as plt\n",
    "\n",
    "def rcv_dimensionality(ballots, choices, names, Ncand):\n",
    "    numballots, numranks = ballots.shape\n",
    "\n",
    "    # ranked candidates 1...C; other codes count down from 99\n",
    "    # get rid of zeros to simplify later calculations\n",
    "    ballots[ballots == 0] = 97\n",
    "\n",
    "    # count up frequencies of consecutive-pair ballot choices\n",
    "    counts = np.zeros((Ncand, Ncand))\n",
    "    for i in range(numballots):\n",
    "        for j in range(numranks - 1):\n",
    "            if ballots[i, j] <= Ncand and ballots[i, j+1] <= Ncand:\n",
    "                counts[ballots[i, j]-1, ballots[i, j+1]-1] += 1\n",
    "\n",
    "    # how many ballots contain a particular pair of preferences anywhere in list?\n",
    "    mentioned_together = np.zeros((Ncand, Ncand))\n",
    "    for i in range(numballots):\n",
    "        for j in range(numranks):\n",
    "            for k in range(numranks):\n",
    "                if ballots[i, j] <= Ncand and ballots[i, k] <= Ncand:\n",
    "                    mentioned_together[ballots[i, j]-1, ballots[i, k]-1] += 1\n",
    "\n",
    "    # normalize to frequencies relative to votes cast for the two candidates\n",
    "    freq = counts / mentioned_together\n",
    "\n",
    "    # combine freq in either direction to create symmetric matrix\n",
    "    # self-self pairs are zeroed out\n",
    "    freq_upptri = np.zeros((Ncand, Ncand))\n",
    "    for i in range(Ncand):\n",
    "        for j in range(i+1, Ncand):\n",
    "            freq_upptri[i, j] = (freq[i, j] + freq[j, i]) / 2\n",
    "            freq_upptri[j, i] = freq_upptri[i, j]\n",
    "\n",
    "    foo = np.min(freq_upptri[freq_upptri > 0])\n",
    "    d = 1 / np.sqrt(freq_upptri)\n",
    "    d[np.isnan(d) | np.isinf(d)] = 2 / foo\n",
    "    for i in range(Ncand):\n",
    "        d[i, i] = 0\n",
    "\n",
    "    # MDS for 1 dimension\n",
    "    #mds = MDS(n_components=1, dissimilarity='precomputed', metric=False)\n",
    "    # YY = mds.fit_transform(d)\n",
    "    YY = pymds.mds(d, n_components=1)\n",
    "    \n",
    "\n",
    "    plt.figure()\n",
    "    plt.scatter(YY * 0, YY)\n",
    "    for i in range(Ncand):\n",
    "        plt.text(0.2, YY[i], names[i])\n",
    "    plt.xlim([-1, 1.5])\n",
    "    plt.ylim([np.min(YY), np.max(YY) * 1.2])\n",
    "\n",
    "    # MDS for 2 dimensions\n",
    "    #mds = MDS(n_components=2, dissimilarity='precomputed', metric=False)\n",
    "    #Y = mds.fit_transform(d)\n",
    "    Y = pymds.mds(d, n_components=2)\n",
    "    \n",
    "\n",
    "    plt.figure()\n",
    "    plt.scatter(Y[:, 0], Y[:, 1])\n",
    "    for i in range(Ncand):\n",
    "        plt.text(Y[i, 0] + 0.02, Y[i, 1] + 0.02, names[i])\n",
    "    plt.xlim([np.min(Y[:, 0]) * 1.2, np.max(Y[:, 0]) * 1.2])\n",
    "    plt.ylim([np.min(Y[:, 1]) * 1.2, np.max(Y[:, 1]) * 1.2])\n",
    "    plt.grid(True)\n",
    "\n",
    "    # Return the frequency, counts and distance matrix for verification\n",
    "    return freq, counts, d"
   ]
  },
  {
   "cell_type": "code",
   "execution_count": null,
   "metadata": {},
   "outputs": [],
   "source": [
    "# Test the function with some parameters\n",
    "choices = [1, 2, 3, 4, 97, 98, 99]\n",
    "names = [\"Poliquin\", \"Golden\", \"Bond\", \"Hoar\", \"skipped\", \"overvote\", \"writein\"]\n",
    "Ncand = 4  # Number of candidates\n",
    "freq, counts, d = rcv_dimensionality(ballots, choices, names, Ncand)\n",
    "print(\"Frequencies:\")\n",
    "print(freq)\n",
    "print(\"\\nCounts:\")\n",
    "print(counts)\n",
    "print(\"\\nDistance matrix:\")\n",
    "print(d)"
   ]
  },
  {
   "cell_type": "code",
   "execution_count": 18,
   "metadata": {},
   "outputs": [],
   "source": [
    "import os\n",
    "from scipy.io import loadmat\n",
    "\n",
    "# Load the .mat file\n",
    "mat_file_path = os.path.join('NYCspace.mat')\n",
    "mat_data = loadmat(mat_file_path)\n",
    "\n",
    "# Prepare the inputs for the rcv_dimensionality function\n",
    "Ncand = mat_data['Ncand'][0, 0]\n",
    "ballots = mat_data['ballots']\n",
    "choices = mat_data['choices']\n",
    "names = [\"Adams\",\"Wiley\",\"Donovan\",\"Stringer\",\"Garcia\",\"Morales\",\"Prince\",\"Yang\",\"McGuire\",\"Taylor\",\"Chang\",\"Foldenauer\",\"Wright\", \"skipped\", \"overvote\", \"writein\"]"
   ]
  },
  {
   "cell_type": "code",
   "execution_count": 23,
   "metadata": {},
   "outputs": [
    {
     "name": "stderr",
     "output_type": "stream",
     "text": [
      "C:\\Users\\Eric Simpson\\AppData\\Local\\Temp\\ipykernel_16184\\1663181314.py:39: RuntimeWarning: divide by zero encountered in true_divide\n",
      "  d = 1 / np.sqrt(freq_upptri)\n"
     ]
    },
    {
     "ename": "TypeError",
     "evalue": "'module' object is not callable",
     "output_type": "error",
     "traceback": [
      "\u001b[1;31m---------------------------------------------------------------------------\u001b[0m",
      "\u001b[1;31mTypeError\u001b[0m                                 Traceback (most recent call last)",
      "\u001b[1;32mc:\\Users\\Eric Simpson\\Downloads\\RCV-june-2022-SW-stuff\\translation.ipynb Cell 6\u001b[0m in \u001b[0;36m<cell line: 2>\u001b[1;34m()\u001b[0m\n\u001b[0;32m      <a href='vscode-notebook-cell:/c%3A/Users/Eric%20Simpson/Downloads/RCV-june-2022-SW-stuff/translation.ipynb#W3sZmlsZQ%3D%3D?line=0'>1</a>\u001b[0m \u001b[39m# Call the rcv_dimensionality function\u001b[39;00m\n\u001b[1;32m----> <a href='vscode-notebook-cell:/c%3A/Users/Eric%20Simpson/Downloads/RCV-june-2022-SW-stuff/translation.ipynb#W3sZmlsZQ%3D%3D?line=1'>2</a>\u001b[0m freq, counts, d \u001b[39m=\u001b[39m rcv_dimensionality(ballots, choices, names, Ncand)\n\u001b[0;32m      <a href='vscode-notebook-cell:/c%3A/Users/Eric%20Simpson/Downloads/RCV-june-2022-SW-stuff/translation.ipynb#W3sZmlsZQ%3D%3D?line=3'>4</a>\u001b[0m \u001b[39mprint\u001b[39m(\u001b[39m\"\u001b[39m\u001b[39mFrequencies:\u001b[39m\u001b[39m\"\u001b[39m)\n\u001b[0;32m      <a href='vscode-notebook-cell:/c%3A/Users/Eric%20Simpson/Downloads/RCV-june-2022-SW-stuff/translation.ipynb#W3sZmlsZQ%3D%3D?line=4'>5</a>\u001b[0m \u001b[39mprint\u001b[39m(freq)\n",
      "\u001b[1;32mc:\\Users\\Eric Simpson\\Downloads\\RCV-june-2022-SW-stuff\\translation.ipynb Cell 6\u001b[0m in \u001b[0;36mrcv_dimensionality\u001b[1;34m(ballots, choices, names, Ncand)\u001b[0m\n\u001b[0;32m     <a href='vscode-notebook-cell:/c%3A/Users/Eric%20Simpson/Downloads/RCV-june-2022-SW-stuff/translation.ipynb#W3sZmlsZQ%3D%3D?line=41'>42</a>\u001b[0m     d[i, i] \u001b[39m=\u001b[39m \u001b[39m0\u001b[39m\n\u001b[0;32m     <a href='vscode-notebook-cell:/c%3A/Users/Eric%20Simpson/Downloads/RCV-june-2022-SW-stuff/translation.ipynb#W3sZmlsZQ%3D%3D?line=43'>44</a>\u001b[0m \u001b[39m# MDS for 1 dimension\u001b[39;00m\n\u001b[0;32m     <a href='vscode-notebook-cell:/c%3A/Users/Eric%20Simpson/Downloads/RCV-june-2022-SW-stuff/translation.ipynb#W3sZmlsZQ%3D%3D?line=44'>45</a>\u001b[0m \u001b[39m#mds = MDS(n_components=1, dissimilarity='precomputed', metric=False)\u001b[39;00m\n\u001b[0;32m     <a href='vscode-notebook-cell:/c%3A/Users/Eric%20Simpson/Downloads/RCV-june-2022-SW-stuff/translation.ipynb#W3sZmlsZQ%3D%3D?line=45'>46</a>\u001b[0m \u001b[39m# YY = mds.fit_transform(d)\u001b[39;00m\n\u001b[1;32m---> <a href='vscode-notebook-cell:/c%3A/Users/Eric%20Simpson/Downloads/RCV-june-2022-SW-stuff/translation.ipynb#W3sZmlsZQ%3D%3D?line=46'>47</a>\u001b[0m YY \u001b[39m=\u001b[39m pymds\u001b[39m.\u001b[39;49mmds(d, n_components\u001b[39m=\u001b[39;49m\u001b[39m1\u001b[39;49m)\n\u001b[0;32m     <a href='vscode-notebook-cell:/c%3A/Users/Eric%20Simpson/Downloads/RCV-june-2022-SW-stuff/translation.ipynb#W3sZmlsZQ%3D%3D?line=49'>50</a>\u001b[0m plt\u001b[39m.\u001b[39mfigure()\n\u001b[0;32m     <a href='vscode-notebook-cell:/c%3A/Users/Eric%20Simpson/Downloads/RCV-june-2022-SW-stuff/translation.ipynb#W3sZmlsZQ%3D%3D?line=50'>51</a>\u001b[0m plt\u001b[39m.\u001b[39mscatter(YY \u001b[39m*\u001b[39m \u001b[39m0\u001b[39m, YY)\n",
      "\u001b[1;31mTypeError\u001b[0m: 'module' object is not callable"
     ]
    }
   ],
   "source": [
    "# Call the rcv_dimensionality function\n",
    "freq, counts, d = rcv_dimensionality(ballots, choices, names, Ncand)\n",
    "\n",
    "print(\"Frequencies:\")\n",
    "print(freq)\n",
    "print(\"\\nCounts:\")\n",
    "print(counts)\n",
    "print(\"\\nDistance matrix:\")\n",
    "print(d)"
   ]
  }
 ],
 "metadata": {
  "kernelspec": {
   "display_name": "Python 3",
   "language": "python",
   "name": "python3"
  },
  "language_info": {
   "codemirror_mode": {
    "name": "ipython",
    "version": 3
   },
   "file_extension": ".py",
   "mimetype": "text/x-python",
   "name": "python",
   "nbconvert_exporter": "python",
   "pygments_lexer": "ipython3",
   "version": "3.10.0"
  },
  "orig_nbformat": 4
 },
 "nbformat": 4,
 "nbformat_minor": 2
}
