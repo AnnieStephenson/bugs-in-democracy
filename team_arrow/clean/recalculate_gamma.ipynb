{
 "cells": [
  {
   "cell_type": "code",
   "execution_count": 2,
   "metadata": {},
   "outputs": [],
   "source": [
    "import pandas as pd \n",
    "import seaborn as sns\n",
    "from scipy.stats import kurtosis, skew\n",
    "import os \n",
    "\n",
    "from rcv_dimensionality import *\n",
    "from rcv_distribution import *\n",
    "from voting_rules import *"
   ]
  },
  {
   "cell_type": "code",
   "execution_count": 11,
   "metadata": {},
   "outputs": [
    {
     "name": "stdout",
     "output_type": "stream",
     "text": [
      "95\n"
     ]
    }
   ],
   "source": [
    "directory = \"dataverse_files\"\n",
    "new_gamma = pd.read_csv(\"gamma.csv\")\n",
    "row_num = new_gamma[new_gamma[\"filename\"] == \"Easthampton_11022021_Mayor.csv\"].index[0]\n",
    "print(row_num)\n",
    "new_gamma.loc[row_num, \"new_gamma\"] = \"rewrite\"\n",
    "new_gamma.to_csv(\"new_gamma.csv\")"
   ]
  },
  {
   "cell_type": "code",
   "execution_count": 6,
   "metadata": {},
   "outputs": [
    {
     "name": "stdout",
     "output_type": "stream",
     "text": [
      "95\n"
     ]
    },
    {
     "name": "stderr",
     "output_type": "stream",
     "text": [
      "c:\\Users\\mahsh\\Documents\\GitHub\\bugs-in-democracy\\team_arrow\\clean\\rcv_dimensionality.py:170: RuntimeWarning: divide by zero encountered in true_divide\n",
      "  distance = 1 / np.sqrt(freq_upper_triangle)\n"
     ]
    },
    {
     "name": "stdout",
     "output_type": "stream",
     "text": [
      "gamma for  Alaska_04102020_PRESIDENTOFTHEUNITEDSTATES.csv  is:  0.48774187012460746\n"
     ]
    },
    {
     "name": "stderr",
     "output_type": "stream",
     "text": [
      "c:\\Users\\mahsh\\Documents\\GitHub\\bugs-in-democracy\\team_arrow\\clean\\rcv_dimensionality.py:170: RuntimeWarning: divide by zero encountered in true_divide\n",
      "  distance = 1 / np.sqrt(freq_upper_triangle)\n",
      "c:\\Users\\mahsh\\Documents\\GitHub\\bugs-in-democracy\\team_arrow\\clean\\rcv_dimensionality.py:170: RuntimeWarning: divide by zero encountered in true_divide\n",
      "  distance = 1 / np.sqrt(freq_upper_triangle)\n",
      "c:\\Users\\mahsh\\Documents\\GitHub\\bugs-in-democracy\\team_arrow\\clean\\rcv_dimensionality.py:170: RuntimeWarning: divide by zero encountered in true_divide\n",
      "  distance = 1 / np.sqrt(freq_upper_triangle)\n",
      "c:\\Users\\mahsh\\Documents\\GitHub\\bugs-in-democracy\\team_arrow\\clean\\rcv_dimensionality.py:170: RuntimeWarning: divide by zero encountered in true_divide\n",
      "  distance = 1 / np.sqrt(freq_upper_triangle)\n",
      "c:\\Users\\mahsh\\Documents\\GitHub\\bugs-in-democracy\\team_arrow\\clean\\rcv_dimensionality.py:170: RuntimeWarning: divide by zero encountered in true_divide\n",
      "  distance = 1 / np.sqrt(freq_upper_triangle)\n",
      "c:\\Users\\mahsh\\Documents\\GitHub\\bugs-in-democracy\\team_arrow\\clean\\rcv_dimensionality.py:170: RuntimeWarning: divide by zero encountered in true_divide\n",
      "  distance = 1 / np.sqrt(freq_upper_triangle)\n",
      "c:\\Users\\mahsh\\Documents\\GitHub\\bugs-in-democracy\\team_arrow\\clean\\rcv_dimensionality.py:170: RuntimeWarning: divide by zero encountered in true_divide\n",
      "  distance = 1 / np.sqrt(freq_upper_triangle)\n",
      "c:\\Users\\mahsh\\Documents\\GitHub\\bugs-in-democracy\\team_arrow\\clean\\rcv_dimensionality.py:170: RuntimeWarning: divide by zero encountered in true_divide\n",
      "  distance = 1 / np.sqrt(freq_upper_triangle)\n",
      "c:\\Users\\mahsh\\Documents\\GitHub\\bugs-in-democracy\\team_arrow\\clean\\rcv_dimensionality.py:170: RuntimeWarning: divide by zero encountered in true_divide\n",
      "  distance = 1 / np.sqrt(freq_upper_triangle)\n",
      "c:\\Users\\mahsh\\Documents\\GitHub\\bugs-in-democracy\\team_arrow\\clean\\rcv_dimensionality.py:170: RuntimeWarning: divide by zero encountered in true_divide\n",
      "  distance = 1 / np.sqrt(freq_upper_triangle)\n",
      "c:\\Users\\mahsh\\Documents\\GitHub\\bugs-in-democracy\\team_arrow\\clean\\rcv_dimensionality.py:170: RuntimeWarning: divide by zero encountered in true_divide\n",
      "  distance = 1 / np.sqrt(freq_upper_triangle)\n",
      "c:\\Users\\mahsh\\Documents\\GitHub\\bugs-in-democracy\\team_arrow\\clean\\rcv_dimensionality.py:170: RuntimeWarning: divide by zero encountered in true_divide\n",
      "  distance = 1 / np.sqrt(freq_upper_triangle)\n",
      "c:\\Users\\mahsh\\Documents\\GitHub\\bugs-in-democracy\\team_arrow\\clean\\rcv_dimensionality.py:170: RuntimeWarning: divide by zero encountered in true_divide\n",
      "  distance = 1 / np.sqrt(freq_upper_triangle)\n",
      "c:\\Users\\mahsh\\Documents\\GitHub\\bugs-in-democracy\\team_arrow\\clean\\rcv_dimensionality.py:170: RuntimeWarning: divide by zero encountered in true_divide\n",
      "  distance = 1 / np.sqrt(freq_upper_triangle)\n",
      "c:\\Users\\mahsh\\Documents\\GitHub\\bugs-in-democracy\\team_arrow\\clean\\rcv_dimensionality.py:170: RuntimeWarning: divide by zero encountered in true_divide\n",
      "  distance = 1 / np.sqrt(freq_upper_triangle)\n",
      "c:\\Users\\mahsh\\Documents\\GitHub\\bugs-in-democracy\\team_arrow\\clean\\rcv_dimensionality.py:170: RuntimeWarning: divide by zero encountered in true_divide\n",
      "  distance = 1 / np.sqrt(freq_upper_triangle)\n",
      "c:\\Users\\mahsh\\Documents\\GitHub\\bugs-in-democracy\\team_arrow\\clean\\rcv_dimensionality.py:170: RuntimeWarning: divide by zero encountered in true_divide\n",
      "  distance = 1 / np.sqrt(freq_upper_triangle)\n",
      "c:\\Users\\mahsh\\Documents\\GitHub\\bugs-in-democracy\\team_arrow\\clean\\rcv_dimensionality.py:170: RuntimeWarning: divide by zero encountered in true_divide\n",
      "  distance = 1 / np.sqrt(freq_upper_triangle)\n",
      "c:\\Users\\mahsh\\Documents\\GitHub\\bugs-in-democracy\\team_arrow\\clean\\rcv_dimensionality.py:170: RuntimeWarning: divide by zero encountered in true_divide\n",
      "  distance = 1 / np.sqrt(freq_upper_triangle)\n",
      "c:\\Users\\mahsh\\Documents\\GitHub\\bugs-in-democracy\\team_arrow\\clean\\rcv_dimensionality.py:170: RuntimeWarning: divide by zero encountered in true_divide\n",
      "  distance = 1 / np.sqrt(freq_upper_triangle)\n",
      "c:\\Users\\mahsh\\Documents\\GitHub\\bugs-in-democracy\\team_arrow\\clean\\rcv_dimensionality.py:170: RuntimeWarning: divide by zero encountered in true_divide\n",
      "  distance = 1 / np.sqrt(freq_upper_triangle)\n",
      "c:\\Users\\mahsh\\Documents\\GitHub\\bugs-in-democracy\\team_arrow\\clean\\rcv_dimensionality.py:170: RuntimeWarning: divide by zero encountered in true_divide\n",
      "  distance = 1 / np.sqrt(freq_upper_triangle)\n",
      "c:\\Users\\mahsh\\Documents\\GitHub\\bugs-in-democracy\\team_arrow\\clean\\rcv_dimensionality.py:170: RuntimeWarning: divide by zero encountered in true_divide\n",
      "  distance = 1 / np.sqrt(freq_upper_triangle)\n",
      "c:\\Users\\mahsh\\Documents\\GitHub\\bugs-in-democracy\\team_arrow\\clean\\rcv_dimensionality.py:170: RuntimeWarning: divide by zero encountered in true_divide\n",
      "  distance = 1 / np.sqrt(freq_upper_triangle)\n"
     ]
    },
    {
     "name": "stdout",
     "output_type": "stream",
     "text": [
      "an exception occured:   Alaska_11082022_HouseDistrict3.csv\n"
     ]
    },
    {
     "name": "stderr",
     "output_type": "stream",
     "text": [
      "c:\\Users\\mahsh\\Documents\\GitHub\\bugs-in-democracy\\team_arrow\\clean\\rcv_dimensionality.py:170: RuntimeWarning: divide by zero encountered in true_divide\n",
      "  distance = 1 / np.sqrt(freq_upper_triangle)\n",
      "c:\\Users\\mahsh\\Documents\\GitHub\\bugs-in-democracy\\team_arrow\\clean\\rcv_dimensionality.py:170: RuntimeWarning: divide by zero encountered in true_divide\n",
      "  distance = 1 / np.sqrt(freq_upper_triangle)\n",
      "c:\\Users\\mahsh\\Documents\\GitHub\\bugs-in-democracy\\team_arrow\\clean\\rcv_dimensionality.py:170: RuntimeWarning: divide by zero encountered in true_divide\n",
      "  distance = 1 / np.sqrt(freq_upper_triangle)\n"
     ]
    },
    {
     "name": "stdout",
     "output_type": "stream",
     "text": [
      "an exception occured:   Alaska_11082022_HouseDistrict33.csv\n"
     ]
    },
    {
     "name": "stderr",
     "output_type": "stream",
     "text": [
      "c:\\Users\\mahsh\\Documents\\GitHub\\bugs-in-democracy\\team_arrow\\clean\\rcv_dimensionality.py:170: RuntimeWarning: divide by zero encountered in true_divide\n",
      "  distance = 1 / np.sqrt(freq_upper_triangle)\n",
      "c:\\Users\\mahsh\\Documents\\GitHub\\bugs-in-democracy\\team_arrow\\clean\\rcv_dimensionality.py:170: RuntimeWarning: divide by zero encountered in true_divide\n",
      "  distance = 1 / np.sqrt(freq_upper_triangle)\n",
      "c:\\Users\\mahsh\\Documents\\GitHub\\bugs-in-democracy\\team_arrow\\clean\\rcv_dimensionality.py:170: RuntimeWarning: divide by zero encountered in true_divide\n",
      "  distance = 1 / np.sqrt(freq_upper_triangle)\n"
     ]
    },
    {
     "name": "stdout",
     "output_type": "stream",
     "text": [
      "an exception occured:   Alaska_11082022_HouseDistrict37.csv\n",
      "an exception occured:   Alaska_11082022_HouseDistrict38.csv\n"
     ]
    },
    {
     "name": "stderr",
     "output_type": "stream",
     "text": [
      "c:\\Users\\mahsh\\Documents\\GitHub\\bugs-in-democracy\\team_arrow\\clean\\rcv_dimensionality.py:170: RuntimeWarning: divide by zero encountered in true_divide\n",
      "  distance = 1 / np.sqrt(freq_upper_triangle)\n",
      "c:\\Users\\mahsh\\Documents\\GitHub\\bugs-in-democracy\\team_arrow\\clean\\rcv_dimensionality.py:170: RuntimeWarning: divide by zero encountered in true_divide\n",
      "  distance = 1 / np.sqrt(freq_upper_triangle)\n"
     ]
    },
    {
     "name": "stdout",
     "output_type": "stream",
     "text": [
      "an exception occured:   Alaska_11082022_HouseDistrict40.csv\n"
     ]
    },
    {
     "name": "stderr",
     "output_type": "stream",
     "text": [
      "c:\\Users\\mahsh\\Documents\\GitHub\\bugs-in-democracy\\team_arrow\\clean\\rcv_dimensionality.py:170: RuntimeWarning: divide by zero encountered in true_divide\n",
      "  distance = 1 / np.sqrt(freq_upper_triangle)\n",
      "c:\\Users\\mahsh\\Documents\\GitHub\\bugs-in-democracy\\team_arrow\\clean\\rcv_dimensionality.py:170: RuntimeWarning: divide by zero encountered in true_divide\n",
      "  distance = 1 / np.sqrt(freq_upper_triangle)\n",
      "c:\\Users\\mahsh\\Documents\\GitHub\\bugs-in-democracy\\team_arrow\\clean\\rcv_dimensionality.py:170: RuntimeWarning: divide by zero encountered in true_divide\n",
      "  distance = 1 / np.sqrt(freq_upper_triangle)\n"
     ]
    },
    {
     "name": "stdout",
     "output_type": "stream",
     "text": [
      "an exception occured:   Alaska_11082022_HouseDistrict8.csv\n"
     ]
    },
    {
     "name": "stderr",
     "output_type": "stream",
     "text": [
      "c:\\Users\\mahsh\\Documents\\GitHub\\bugs-in-democracy\\team_arrow\\clean\\rcv_dimensionality.py:170: RuntimeWarning: divide by zero encountered in true_divide\n",
      "  distance = 1 / np.sqrt(freq_upper_triangle)\n",
      "c:\\Users\\mahsh\\Documents\\GitHub\\bugs-in-democracy\\team_arrow\\clean\\rcv_dimensionality.py:170: RuntimeWarning: divide by zero encountered in true_divide\n",
      "  distance = 1 / np.sqrt(freq_upper_triangle)\n"
     ]
    },
    {
     "name": "stdout",
     "output_type": "stream",
     "text": [
      "an exception occured:   Alaska_11082022_SenateDistrictB.csv\n"
     ]
    },
    {
     "name": "stderr",
     "output_type": "stream",
     "text": [
      "c:\\Users\\mahsh\\Documents\\GitHub\\bugs-in-democracy\\team_arrow\\clean\\rcv_dimensionality.py:170: RuntimeWarning: divide by zero encountered in true_divide\n",
      "  distance = 1 / np.sqrt(freq_upper_triangle)\n",
      "c:\\Users\\mahsh\\Documents\\GitHub\\bugs-in-democracy\\team_arrow\\clean\\rcv_dimensionality.py:170: RuntimeWarning: divide by zero encountered in true_divide\n",
      "  distance = 1 / np.sqrt(freq_upper_triangle)\n",
      "c:\\Users\\mahsh\\Documents\\GitHub\\bugs-in-democracy\\team_arrow\\clean\\rcv_dimensionality.py:170: RuntimeWarning: divide by zero encountered in true_divide\n",
      "  distance = 1 / np.sqrt(freq_upper_triangle)\n",
      "c:\\Users\\mahsh\\Documents\\GitHub\\bugs-in-democracy\\team_arrow\\clean\\rcv_dimensionality.py:170: RuntimeWarning: divide by zero encountered in true_divide\n",
      "  distance = 1 / np.sqrt(freq_upper_triangle)\n",
      "c:\\Users\\mahsh\\Documents\\GitHub\\bugs-in-democracy\\team_arrow\\clean\\rcv_dimensionality.py:170: RuntimeWarning: divide by zero encountered in true_divide\n",
      "  distance = 1 / np.sqrt(freq_upper_triangle)\n",
      "c:\\Users\\mahsh\\Documents\\GitHub\\bugs-in-democracy\\team_arrow\\clean\\rcv_dimensionality.py:170: RuntimeWarning: divide by zero encountered in true_divide\n",
      "  distance = 1 / np.sqrt(freq_upper_triangle)\n",
      "c:\\Users\\mahsh\\Documents\\GitHub\\bugs-in-democracy\\team_arrow\\clean\\rcv_dimensionality.py:170: RuntimeWarning: divide by zero encountered in true_divide\n",
      "  distance = 1 / np.sqrt(freq_upper_triangle)\n",
      "c:\\Users\\mahsh\\Documents\\GitHub\\bugs-in-democracy\\team_arrow\\clean\\rcv_dimensionality.py:170: RuntimeWarning: divide by zero encountered in true_divide\n",
      "  distance = 1 / np.sqrt(freq_upper_triangle)\n",
      "c:\\Users\\mahsh\\Documents\\GitHub\\bugs-in-democracy\\team_arrow\\clean\\rcv_dimensionality.py:170: RuntimeWarning: divide by zero encountered in true_divide\n",
      "  distance = 1 / np.sqrt(freq_upper_triangle)\n",
      "c:\\Users\\mahsh\\Documents\\GitHub\\bugs-in-democracy\\team_arrow\\clean\\rcv_dimensionality.py:170: RuntimeWarning: divide by zero encountered in true_divide\n",
      "  distance = 1 / np.sqrt(freq_upper_triangle)\n",
      "c:\\Users\\mahsh\\Documents\\GitHub\\bugs-in-democracy\\team_arrow\\clean\\rcv_dimensionality.py:170: RuntimeWarning: divide by zero encountered in true_divide\n",
      "  distance = 1 / np.sqrt(freq_upper_triangle)\n",
      "c:\\Users\\mahsh\\Documents\\GitHub\\bugs-in-democracy\\team_arrow\\clean\\rcv_dimensionality.py:170: RuntimeWarning: divide by zero encountered in true_divide\n",
      "  distance = 1 / np.sqrt(freq_upper_triangle)\n",
      "c:\\Users\\mahsh\\Documents\\GitHub\\bugs-in-democracy\\team_arrow\\clean\\rcv_dimensionality.py:170: RuntimeWarning: divide by zero encountered in true_divide\n",
      "  distance = 1 / np.sqrt(freq_upper_triangle)\n"
     ]
    },
    {
     "name": "stdout",
     "output_type": "stream",
     "text": [
      "gamma for  Alaska_11082022_SenateDistrictO.csv  is:  1.0\n"
     ]
    },
    {
     "name": "stderr",
     "output_type": "stream",
     "text": [
      "c:\\Users\\mahsh\\Documents\\GitHub\\bugs-in-democracy\\team_arrow\\clean\\rcv_dimensionality.py:170: RuntimeWarning: divide by zero encountered in true_divide\n",
      "  distance = 1 / np.sqrt(freq_upper_triangle)\n",
      "c:\\Users\\mahsh\\Documents\\GitHub\\bugs-in-democracy\\team_arrow\\clean\\rcv_dimensionality.py:170: RuntimeWarning: divide by zero encountered in true_divide\n",
      "  distance = 1 / np.sqrt(freq_upper_triangle)\n",
      "c:\\Users\\mahsh\\Documents\\GitHub\\bugs-in-democracy\\team_arrow\\clean\\rcv_dimensionality.py:170: RuntimeWarning: divide by zero encountered in true_divide\n",
      "  distance = 1 / np.sqrt(freq_upper_triangle)\n",
      "c:\\Users\\mahsh\\Documents\\GitHub\\bugs-in-democracy\\team_arrow\\clean\\rcv_dimensionality.py:170: RuntimeWarning: divide by zero encountered in true_divide\n",
      "  distance = 1 / np.sqrt(freq_upper_triangle)\n",
      "c:\\Users\\mahsh\\Documents\\GitHub\\bugs-in-democracy\\team_arrow\\clean\\rcv_dimensionality.py:170: RuntimeWarning: divide by zero encountered in true_divide\n",
      "  distance = 1 / np.sqrt(freq_upper_triangle)\n",
      "c:\\Users\\mahsh\\Documents\\GitHub\\bugs-in-democracy\\team_arrow\\clean\\rcv_dimensionality.py:170: RuntimeWarning: divide by zero encountered in true_divide\n",
      "  distance = 1 / np.sqrt(freq_upper_triangle)\n",
      "c:\\Users\\mahsh\\Documents\\GitHub\\bugs-in-democracy\\team_arrow\\clean\\rcv_dimensionality.py:170: RuntimeWarning: divide by zero encountered in true_divide\n",
      "  distance = 1 / np.sqrt(freq_upper_triangle)\n",
      "c:\\Users\\mahsh\\Documents\\GitHub\\bugs-in-democracy\\team_arrow\\clean\\rcv_dimensionality.py:170: RuntimeWarning: divide by zero encountered in true_divide\n",
      "  distance = 1 / np.sqrt(freq_upper_triangle)\n",
      "c:\\Users\\mahsh\\Documents\\GitHub\\bugs-in-democracy\\team_arrow\\clean\\rcv_dimensionality.py:170: RuntimeWarning: divide by zero encountered in true_divide\n",
      "  distance = 1 / np.sqrt(freq_upper_triangle)\n",
      "c:\\Users\\mahsh\\Documents\\GitHub\\bugs-in-democracy\\team_arrow\\clean\\rcv_dimensionality.py:170: RuntimeWarning: divide by zero encountered in true_divide\n",
      "  distance = 1 / np.sqrt(freq_upper_triangle)\n"
     ]
    },
    {
     "name": "stdout",
     "output_type": "stream",
     "text": [
      "an exception occured:   Berkeley_11022010_CityAuditor.csv\n"
     ]
    },
    {
     "name": "stderr",
     "output_type": "stream",
     "text": [
      "c:\\Users\\mahsh\\Documents\\GitHub\\bugs-in-democracy\\team_arrow\\clean\\rcv_dimensionality.py:170: RuntimeWarning: divide by zero encountered in true_divide\n",
      "  distance = 1 / np.sqrt(freq_upper_triangle)\n",
      "c:\\Users\\mahsh\\Documents\\GitHub\\bugs-in-democracy\\team_arrow\\clean\\rcv_dimensionality.py:170: RuntimeWarning: divide by zero encountered in true_divide\n",
      "  distance = 1 / np.sqrt(freq_upper_triangle)\n",
      "c:\\Users\\mahsh\\Documents\\GitHub\\bugs-in-democracy\\team_arrow\\clean\\rcv_dimensionality.py:170: RuntimeWarning: divide by zero encountered in true_divide\n",
      "  distance = 1 / np.sqrt(freq_upper_triangle)\n",
      "c:\\Users\\mahsh\\Documents\\GitHub\\bugs-in-democracy\\team_arrow\\clean\\rcv_dimensionality.py:170: RuntimeWarning: divide by zero encountered in true_divide\n",
      "  distance = 1 / np.sqrt(freq_upper_triangle)\n",
      "c:\\Users\\mahsh\\Documents\\GitHub\\bugs-in-democracy\\team_arrow\\clean\\rcv_dimensionality.py:170: RuntimeWarning: divide by zero encountered in true_divide\n",
      "  distance = 1 / np.sqrt(freq_upper_triangle)\n",
      "c:\\Users\\mahsh\\Documents\\GitHub\\bugs-in-democracy\\team_arrow\\clean\\rcv_dimensionality.py:170: RuntimeWarning: divide by zero encountered in true_divide\n",
      "  distance = 1 / np.sqrt(freq_upper_triangle)\n",
      "c:\\Users\\mahsh\\Documents\\GitHub\\bugs-in-democracy\\team_arrow\\clean\\rcv_dimensionality.py:170: RuntimeWarning: divide by zero encountered in true_divide\n",
      "  distance = 1 / np.sqrt(freq_upper_triangle)\n",
      "c:\\Users\\mahsh\\Documents\\GitHub\\bugs-in-democracy\\team_arrow\\clean\\rcv_dimensionality.py:170: RuntimeWarning: divide by zero encountered in true_divide\n",
      "  distance = 1 / np.sqrt(freq_upper_triangle)\n",
      "c:\\Users\\mahsh\\Documents\\GitHub\\bugs-in-democracy\\team_arrow\\clean\\rcv_dimensionality.py:170: RuntimeWarning: divide by zero encountered in true_divide\n",
      "  distance = 1 / np.sqrt(freq_upper_triangle)\n"
     ]
    },
    {
     "name": "stdout",
     "output_type": "stream",
     "text": [
      "an exception occured:   Berkeley_11042014_CityAuditor.csv\n"
     ]
    },
    {
     "name": "stderr",
     "output_type": "stream",
     "text": [
      "c:\\Users\\mahsh\\Documents\\GitHub\\bugs-in-democracy\\team_arrow\\clean\\rcv_dimensionality.py:170: RuntimeWarning: divide by zero encountered in true_divide\n",
      "  distance = 1 / np.sqrt(freq_upper_triangle)\n",
      "c:\\Users\\mahsh\\Documents\\GitHub\\bugs-in-democracy\\team_arrow\\clean\\rcv_dimensionality.py:170: RuntimeWarning: divide by zero encountered in true_divide\n",
      "  distance = 1 / np.sqrt(freq_upper_triangle)\n",
      "c:\\Users\\mahsh\\Documents\\GitHub\\bugs-in-democracy\\team_arrow\\clean\\rcv_dimensionality.py:170: RuntimeWarning: divide by zero encountered in true_divide\n",
      "  distance = 1 / np.sqrt(freq_upper_triangle)\n",
      "c:\\Users\\mahsh\\Documents\\GitHub\\bugs-in-democracy\\team_arrow\\clean\\rcv_dimensionality.py:170: RuntimeWarning: divide by zero encountered in true_divide\n",
      "  distance = 1 / np.sqrt(freq_upper_triangle)\n",
      "c:\\Users\\mahsh\\Documents\\GitHub\\bugs-in-democracy\\team_arrow\\clean\\rcv_dimensionality.py:170: RuntimeWarning: divide by zero encountered in true_divide\n",
      "  distance = 1 / np.sqrt(freq_upper_triangle)\n",
      "c:\\Users\\mahsh\\Documents\\GitHub\\bugs-in-democracy\\team_arrow\\clean\\rcv_dimensionality.py:170: RuntimeWarning: divide by zero encountered in true_divide\n",
      "  distance = 1 / np.sqrt(freq_upper_triangle)\n",
      "c:\\Users\\mahsh\\Documents\\GitHub\\bugs-in-democracy\\team_arrow\\clean\\rcv_dimensionality.py:170: RuntimeWarning: divide by zero encountered in true_divide\n",
      "  distance = 1 / np.sqrt(freq_upper_triangle)\n",
      "c:\\Users\\mahsh\\Documents\\GitHub\\bugs-in-democracy\\team_arrow\\clean\\rcv_dimensionality.py:170: RuntimeWarning: divide by zero encountered in true_divide\n",
      "  distance = 1 / np.sqrt(freq_upper_triangle)\n",
      "c:\\Users\\mahsh\\Documents\\GitHub\\bugs-in-democracy\\team_arrow\\clean\\rcv_dimensionality.py:170: RuntimeWarning: divide by zero encountered in true_divide\n",
      "  distance = 1 / np.sqrt(freq_upper_triangle)\n",
      "c:\\Users\\mahsh\\Documents\\GitHub\\bugs-in-democracy\\team_arrow\\clean\\rcv_dimensionality.py:170: RuntimeWarning: divide by zero encountered in true_divide\n",
      "  distance = 1 / np.sqrt(freq_upper_triangle)\n",
      "c:\\Users\\mahsh\\Documents\\GitHub\\bugs-in-democracy\\team_arrow\\clean\\rcv_dimensionality.py:170: RuntimeWarning: divide by zero encountered in true_divide\n",
      "  distance = 1 / np.sqrt(freq_upper_triangle)\n",
      "c:\\Users\\mahsh\\Documents\\GitHub\\bugs-in-democracy\\team_arrow\\clean\\rcv_dimensionality.py:170: RuntimeWarning: divide by zero encountered in true_divide\n",
      "  distance = 1 / np.sqrt(freq_upper_triangle)\n",
      "c:\\Users\\mahsh\\Documents\\GitHub\\bugs-in-democracy\\team_arrow\\clean\\rcv_dimensionality.py:170: RuntimeWarning: divide by zero encountered in true_divide\n",
      "  distance = 1 / np.sqrt(freq_upper_triangle)\n",
      "c:\\Users\\mahsh\\Documents\\GitHub\\bugs-in-democracy\\team_arrow\\clean\\rcv_dimensionality.py:170: RuntimeWarning: divide by zero encountered in true_divide\n",
      "  distance = 1 / np.sqrt(freq_upper_triangle)\n",
      "c:\\Users\\mahsh\\Documents\\GitHub\\bugs-in-democracy\\team_arrow\\clean\\rcv_dimensionality.py:170: RuntimeWarning: divide by zero encountered in true_divide\n",
      "  distance = 1 / np.sqrt(freq_upper_triangle)\n",
      "c:\\Users\\mahsh\\Documents\\GitHub\\bugs-in-democracy\\team_arrow\\clean\\rcv_dimensionality.py:170: RuntimeWarning: divide by zero encountered in true_divide\n",
      "  distance = 1 / np.sqrt(freq_upper_triangle)\n",
      "c:\\Users\\mahsh\\Documents\\GitHub\\bugs-in-democracy\\team_arrow\\clean\\rcv_dimensionality.py:170: RuntimeWarning: divide by zero encountered in true_divide\n",
      "  distance = 1 / np.sqrt(freq_upper_triangle)\n",
      "c:\\Users\\mahsh\\Documents\\GitHub\\bugs-in-democracy\\team_arrow\\clean\\rcv_dimensionality.py:170: RuntimeWarning: divide by zero encountered in true_divide\n",
      "  distance = 1 / np.sqrt(freq_upper_triangle)\n",
      "c:\\Users\\mahsh\\Documents\\GitHub\\bugs-in-democracy\\team_arrow\\clean\\rcv_dimensionality.py:170: RuntimeWarning: divide by zero encountered in true_divide\n",
      "  distance = 1 / np.sqrt(freq_upper_triangle)\n",
      "c:\\Users\\mahsh\\Documents\\GitHub\\bugs-in-democracy\\team_arrow\\clean\\rcv_dimensionality.py:170: RuntimeWarning: divide by zero encountered in true_divide\n",
      "  distance = 1 / np.sqrt(freq_upper_triangle)\n",
      "c:\\Users\\mahsh\\Documents\\GitHub\\bugs-in-democracy\\team_arrow\\clean\\rcv_dimensionality.py:170: RuntimeWarning: divide by zero encountered in true_divide\n",
      "  distance = 1 / np.sqrt(freq_upper_triangle)\n",
      "c:\\Users\\mahsh\\Documents\\GitHub\\bugs-in-democracy\\team_arrow\\clean\\rcv_dimensionality.py:170: RuntimeWarning: divide by zero encountered in true_divide\n",
      "  distance = 1 / np.sqrt(freq_upper_triangle)\n"
     ]
    },
    {
     "name": "stdout",
     "output_type": "stream",
     "text": [
      "an exception occured:   Burlington_03072023_CityCouncilNorthDistrict.csv\n"
     ]
    },
    {
     "name": "stderr",
     "output_type": "stream",
     "text": [
      "c:\\Users\\mahsh\\Documents\\GitHub\\bugs-in-democracy\\team_arrow\\clean\\rcv_dimensionality.py:170: RuntimeWarning: divide by zero encountered in true_divide\n",
      "  distance = 1 / np.sqrt(freq_upper_triangle)\n",
      "c:\\Users\\mahsh\\Documents\\GitHub\\bugs-in-democracy\\team_arrow\\clean\\rcv_dimensionality.py:170: RuntimeWarning: divide by zero encountered in true_divide\n",
      "  distance = 1 / np.sqrt(freq_upper_triangle)\n",
      "c:\\Users\\mahsh\\Documents\\GitHub\\bugs-in-democracy\\team_arrow\\clean\\rcv_dimensionality.py:170: RuntimeWarning: divide by zero encountered in true_divide\n",
      "  distance = 1 / np.sqrt(freq_upper_triangle)\n",
      "c:\\Users\\mahsh\\Documents\\GitHub\\bugs-in-democracy\\team_arrow\\clean\\rcv_dimensionality.py:159: RuntimeWarning: divide by zero encountered in true_divide\n",
      "  frequencies = counts / mentioned_together\n",
      "c:\\Users\\mahsh\\Documents\\GitHub\\bugs-in-democracy\\team_arrow\\clean\\rcv_dimensionality.py:159: RuntimeWarning: invalid value encountered in true_divide\n",
      "  frequencies = counts / mentioned_together\n",
      "c:\\Users\\mahsh\\Documents\\GitHub\\bugs-in-democracy\\team_arrow\\clean\\rcv_dimensionality.py:170: RuntimeWarning: divide by zero encountered in true_divide\n",
      "  distance = 1 / np.sqrt(freq_upper_triangle)\n",
      "c:\\Users\\mahsh\\Documents\\GitHub\\bugs-in-democracy\\team_arrow\\clean\\rcv_dimensionality.py:170: RuntimeWarning: divide by zero encountered in true_divide\n",
      "  distance = 1 / np.sqrt(freq_upper_triangle)\n",
      "c:\\Users\\mahsh\\Documents\\GitHub\\bugs-in-democracy\\team_arrow\\clean\\rcv_dimensionality.py:170: RuntimeWarning: divide by zero encountered in true_divide\n",
      "  distance = 1 / np.sqrt(freq_upper_triangle)\n",
      "c:\\Users\\mahsh\\Documents\\GitHub\\bugs-in-democracy\\team_arrow\\clean\\rcv_dimensionality.py:170: RuntimeWarning: divide by zero encountered in true_divide\n",
      "  distance = 1 / np.sqrt(freq_upper_triangle)\n",
      "c:\\Users\\mahsh\\Documents\\GitHub\\bugs-in-democracy\\team_arrow\\clean\\rcv_dimensionality.py:170: RuntimeWarning: divide by zero encountered in true_divide\n",
      "  distance = 1 / np.sqrt(freq_upper_triangle)\n",
      "c:\\Users\\mahsh\\Documents\\GitHub\\bugs-in-democracy\\team_arrow\\clean\\rcv_dimensionality.py:170: RuntimeWarning: divide by zero encountered in true_divide\n",
      "  distance = 1 / np.sqrt(freq_upper_triangle)\n"
     ]
    },
    {
     "name": "stdout",
     "output_type": "stream",
     "text": [
      "gamma for  Hawaii_05232020_PresidentoftheUnitedStateCD2.csv  is:  0.41730005394007746\n"
     ]
    },
    {
     "name": "stderr",
     "output_type": "stream",
     "text": [
      "c:\\Users\\mahsh\\Documents\\GitHub\\bugs-in-democracy\\team_arrow\\clean\\rcv_dimensionality.py:170: RuntimeWarning: divide by zero encountered in true_divide\n",
      "  distance = 1 / np.sqrt(freq_upper_triangle)\n",
      "c:\\Users\\mahsh\\Documents\\GitHub\\bugs-in-democracy\\team_arrow\\clean\\rcv_dimensionality.py:170: RuntimeWarning: divide by zero encountered in true_divide\n",
      "  distance = 1 / np.sqrt(freq_upper_triangle)\n",
      "c:\\Users\\mahsh\\Documents\\GitHub\\bugs-in-democracy\\team_arrow\\clean\\rcv_dimensionality.py:170: RuntimeWarning: divide by zero encountered in true_divide\n",
      "  distance = 1 / np.sqrt(freq_upper_triangle)\n",
      "c:\\Users\\mahsh\\Documents\\GitHub\\bugs-in-democracy\\team_arrow\\clean\\rcv_dimensionality.py:170: RuntimeWarning: divide by zero encountered in true_divide\n",
      "  distance = 1 / np.sqrt(freq_upper_triangle)\n",
      "c:\\Users\\mahsh\\Documents\\GitHub\\bugs-in-democracy\\team_arrow\\clean\\rcv_dimensionality.py:170: RuntimeWarning: divide by zero encountered in true_divide\n",
      "  distance = 1 / np.sqrt(freq_upper_triangle)\n",
      "c:\\Users\\mahsh\\Documents\\GitHub\\bugs-in-democracy\\team_arrow\\clean\\rcv_dimensionality.py:170: RuntimeWarning: divide by zero encountered in true_divide\n",
      "  distance = 1 / np.sqrt(freq_upper_triangle)\n",
      "c:\\Users\\mahsh\\Documents\\GitHub\\bugs-in-democracy\\team_arrow\\clean\\rcv_dimensionality.py:170: RuntimeWarning: divide by zero encountered in true_divide\n",
      "  distance = 1 / np.sqrt(freq_upper_triangle)\n",
      "c:\\Users\\mahsh\\Documents\\GitHub\\bugs-in-democracy\\team_arrow\\clean\\rcv_dimensionality.py:170: RuntimeWarning: divide by zero encountered in true_divide\n",
      "  distance = 1 / np.sqrt(freq_upper_triangle)\n",
      "c:\\Users\\mahsh\\Documents\\GitHub\\bugs-in-democracy\\team_arrow\\clean\\rcv_dimensionality.py:170: RuntimeWarning: divide by zero encountered in true_divide\n",
      "  distance = 1 / np.sqrt(freq_upper_triangle)\n",
      "c:\\Users\\mahsh\\Documents\\GitHub\\bugs-in-democracy\\team_arrow\\clean\\rcv_dimensionality.py:170: RuntimeWarning: divide by zero encountered in true_divide\n",
      "  distance = 1 / np.sqrt(freq_upper_triangle)\n",
      "c:\\Users\\mahsh\\Documents\\GitHub\\bugs-in-democracy\\team_arrow\\clean\\rcv_dimensionality.py:170: RuntimeWarning: divide by zero encountered in true_divide\n",
      "  distance = 1 / np.sqrt(freq_upper_triangle)\n",
      "c:\\Users\\mahsh\\Documents\\GitHub\\bugs-in-democracy\\team_arrow\\clean\\rcv_dimensionality.py:170: RuntimeWarning: divide by zero encountered in true_divide\n",
      "  distance = 1 / np.sqrt(freq_upper_triangle)\n",
      "c:\\Users\\mahsh\\Documents\\GitHub\\bugs-in-democracy\\team_arrow\\clean\\rcv_dimensionality.py:170: RuntimeWarning: divide by zero encountered in true_divide\n",
      "  distance = 1 / np.sqrt(freq_upper_triangle)\n",
      "c:\\Users\\mahsh\\Documents\\GitHub\\bugs-in-democracy\\team_arrow\\clean\\rcv_dimensionality.py:170: RuntimeWarning: divide by zero encountered in true_divide\n",
      "  distance = 1 / np.sqrt(freq_upper_triangle)\n",
      "c:\\Users\\mahsh\\Documents\\GitHub\\bugs-in-democracy\\team_arrow\\clean\\rcv_dimensionality.py:170: RuntimeWarning: divide by zero encountered in true_divide\n",
      "  distance = 1 / np.sqrt(freq_upper_triangle)\n",
      "c:\\Users\\mahsh\\Documents\\GitHub\\bugs-in-democracy\\team_arrow\\clean\\rcv_dimensionality.py:170: RuntimeWarning: divide by zero encountered in true_divide\n",
      "  distance = 1 / np.sqrt(freq_upper_triangle)\n",
      "c:\\Users\\mahsh\\Documents\\GitHub\\bugs-in-democracy\\team_arrow\\clean\\rcv_dimensionality.py:170: RuntimeWarning: divide by zero encountered in true_divide\n",
      "  distance = 1 / np.sqrt(freq_upper_triangle)\n",
      "c:\\Users\\mahsh\\Documents\\GitHub\\bugs-in-democracy\\team_arrow\\clean\\rcv_dimensionality.py:170: RuntimeWarning: divide by zero encountered in true_divide\n",
      "  distance = 1 / np.sqrt(freq_upper_triangle)\n",
      "c:\\Users\\mahsh\\Documents\\GitHub\\bugs-in-democracy\\team_arrow\\clean\\rcv_dimensionality.py:170: RuntimeWarning: divide by zero encountered in true_divide\n",
      "  distance = 1 / np.sqrt(freq_upper_triangle)\n",
      "c:\\Users\\mahsh\\Documents\\GitHub\\bugs-in-democracy\\team_arrow\\clean\\rcv_dimensionality.py:170: RuntimeWarning: divide by zero encountered in true_divide\n",
      "  distance = 1 / np.sqrt(freq_upper_triangle)\n",
      "c:\\Users\\mahsh\\Documents\\GitHub\\bugs-in-democracy\\team_arrow\\clean\\rcv_dimensionality.py:170: RuntimeWarning: divide by zero encountered in true_divide\n",
      "  distance = 1 / np.sqrt(freq_upper_triangle)\n",
      "c:\\Users\\mahsh\\Documents\\GitHub\\bugs-in-democracy\\team_arrow\\clean\\rcv_dimensionality.py:170: RuntimeWarning: divide by zero encountered in true_divide\n",
      "  distance = 1 / np.sqrt(freq_upper_triangle)\n",
      "c:\\Users\\mahsh\\Documents\\GitHub\\bugs-in-democracy\\team_arrow\\clean\\rcv_dimensionality.py:170: RuntimeWarning: divide by zero encountered in true_divide\n",
      "  distance = 1 / np.sqrt(freq_upper_triangle)\n",
      "c:\\Users\\mahsh\\Documents\\GitHub\\bugs-in-democracy\\team_arrow\\clean\\rcv_dimensionality.py:170: RuntimeWarning: divide by zero encountered in true_divide\n",
      "  distance = 1 / np.sqrt(freq_upper_triangle)\n",
      "c:\\Users\\mahsh\\Documents\\GitHub\\bugs-in-democracy\\team_arrow\\clean\\rcv_dimensionality.py:170: RuntimeWarning: divide by zero encountered in true_divide\n",
      "  distance = 1 / np.sqrt(freq_upper_triangle)\n",
      "c:\\Users\\mahsh\\Documents\\GitHub\\bugs-in-democracy\\team_arrow\\clean\\rcv_dimensionality.py:170: RuntimeWarning: divide by zero encountered in true_divide\n",
      "  distance = 1 / np.sqrt(freq_upper_triangle)\n",
      "c:\\Users\\mahsh\\Documents\\GitHub\\bugs-in-democracy\\team_arrow\\clean\\rcv_dimensionality.py:170: RuntimeWarning: divide by zero encountered in true_divide\n",
      "  distance = 1 / np.sqrt(freq_upper_triangle)\n",
      "c:\\Users\\mahsh\\Documents\\GitHub\\bugs-in-democracy\\team_arrow\\clean\\rcv_dimensionality.py:170: RuntimeWarning: divide by zero encountered in true_divide\n",
      "  distance = 1 / np.sqrt(freq_upper_triangle)\n",
      "c:\\Users\\mahsh\\Documents\\GitHub\\bugs-in-democracy\\team_arrow\\clean\\rcv_dimensionality.py:159: RuntimeWarning: divide by zero encountered in true_divide\n",
      "  frequencies = counts / mentioned_together\n",
      "c:\\Users\\mahsh\\Documents\\GitHub\\bugs-in-democracy\\team_arrow\\clean\\rcv_dimensionality.py:159: RuntimeWarning: invalid value encountered in true_divide\n",
      "  frequencies = counts / mentioned_together\n",
      "c:\\Users\\mahsh\\Documents\\GitHub\\bugs-in-democracy\\team_arrow\\clean\\rcv_dimensionality.py:170: RuntimeWarning: divide by zero encountered in true_divide\n",
      "  distance = 1 / np.sqrt(freq_upper_triangle)\n",
      "c:\\Users\\mahsh\\Documents\\GitHub\\bugs-in-democracy\\team_arrow\\clean\\rcv_dimensionality.py:170: RuntimeWarning: divide by zero encountered in true_divide\n",
      "  distance = 1 / np.sqrt(freq_upper_triangle)\n"
     ]
    },
    {
     "name": "stdout",
     "output_type": "stream",
     "text": [
      "an exception occured:   Minneapolis_11022021_ParkBoardDistrict1.csv\n"
     ]
    },
    {
     "name": "stderr",
     "output_type": "stream",
     "text": [
      "c:\\Users\\mahsh\\Documents\\GitHub\\bugs-in-democracy\\team_arrow\\clean\\rcv_dimensionality.py:170: RuntimeWarning: divide by zero encountered in true_divide\n",
      "  distance = 1 / np.sqrt(freq_upper_triangle)\n",
      "c:\\Users\\mahsh\\Documents\\GitHub\\bugs-in-democracy\\team_arrow\\clean\\rcv_dimensionality.py:170: RuntimeWarning: divide by zero encountered in true_divide\n",
      "  distance = 1 / np.sqrt(freq_upper_triangle)\n",
      "c:\\Users\\mahsh\\Documents\\GitHub\\bugs-in-democracy\\team_arrow\\clean\\rcv_dimensionality.py:170: RuntimeWarning: divide by zero encountered in true_divide\n",
      "  distance = 1 / np.sqrt(freq_upper_triangle)\n",
      "c:\\Users\\mahsh\\Documents\\GitHub\\bugs-in-democracy\\team_arrow\\clean\\rcv_dimensionality.py:170: RuntimeWarning: divide by zero encountered in true_divide\n",
      "  distance = 1 / np.sqrt(freq_upper_triangle)\n",
      "c:\\Users\\mahsh\\Documents\\GitHub\\bugs-in-democracy\\team_arrow\\clean\\rcv_dimensionality.py:170: RuntimeWarning: divide by zero encountered in true_divide\n",
      "  distance = 1 / np.sqrt(freq_upper_triangle)\n",
      "c:\\Users\\mahsh\\Documents\\GitHub\\bugs-in-democracy\\team_arrow\\clean\\rcv_dimensionality.py:159: RuntimeWarning: divide by zero encountered in true_divide\n",
      "  frequencies = counts / mentioned_together\n",
      "c:\\Users\\mahsh\\Documents\\GitHub\\bugs-in-democracy\\team_arrow\\clean\\rcv_dimensionality.py:170: RuntimeWarning: divide by zero encountered in true_divide\n",
      "  distance = 1 / np.sqrt(freq_upper_triangle)\n",
      "c:\\Users\\mahsh\\Documents\\GitHub\\bugs-in-democracy\\team_arrow\\clean\\rcv_dimensionality.py:170: RuntimeWarning: divide by zero encountered in true_divide\n",
      "  distance = 1 / np.sqrt(freq_upper_triangle)\n",
      "c:\\Users\\mahsh\\Documents\\GitHub\\bugs-in-democracy\\team_arrow\\clean\\rcv_dimensionality.py:170: RuntimeWarning: divide by zero encountered in true_divide\n",
      "  distance = 1 / np.sqrt(freq_upper_triangle)\n",
      "c:\\Users\\mahsh\\Documents\\GitHub\\bugs-in-democracy\\team_arrow\\clean\\rcv_dimensionality.py:170: RuntimeWarning: divide by zero encountered in true_divide\n",
      "  distance = 1 / np.sqrt(freq_upper_triangle)\n",
      "c:\\Users\\mahsh\\Documents\\GitHub\\bugs-in-democracy\\team_arrow\\clean\\rcv_dimensionality.py:170: RuntimeWarning: divide by zero encountered in true_divide\n",
      "  distance = 1 / np.sqrt(freq_upper_triangle)\n",
      "c:\\Users\\mahsh\\Documents\\GitHub\\bugs-in-democracy\\team_arrow\\clean\\rcv_dimensionality.py:170: RuntimeWarning: divide by zero encountered in true_divide\n",
      "  distance = 1 / np.sqrt(freq_upper_triangle)\n",
      "c:\\Users\\mahsh\\Documents\\GitHub\\bugs-in-democracy\\team_arrow\\clean\\rcv_dimensionality.py:170: RuntimeWarning: divide by zero encountered in true_divide\n",
      "  distance = 1 / np.sqrt(freq_upper_triangle)\n",
      "c:\\Users\\mahsh\\Documents\\GitHub\\bugs-in-democracy\\team_arrow\\clean\\rcv_dimensionality.py:170: RuntimeWarning: divide by zero encountered in true_divide\n",
      "  distance = 1 / np.sqrt(freq_upper_triangle)\n",
      "c:\\Users\\mahsh\\Documents\\GitHub\\bugs-in-democracy\\team_arrow\\clean\\rcv_dimensionality.py:170: RuntimeWarning: divide by zero encountered in true_divide\n",
      "  distance = 1 / np.sqrt(freq_upper_triangle)\n",
      "c:\\Users\\mahsh\\Documents\\GitHub\\bugs-in-democracy\\team_arrow\\clean\\rcv_dimensionality.py:170: RuntimeWarning: divide by zero encountered in true_divide\n",
      "  distance = 1 / np.sqrt(freq_upper_triangle)\n"
     ]
    },
    {
     "name": "stdout",
     "output_type": "stream",
     "text": [
      "an exception occured:   Minneapolis_11062009_PRBoardDistrict4.csv\n"
     ]
    },
    {
     "name": "stderr",
     "output_type": "stream",
     "text": [
      "c:\\Users\\mahsh\\Documents\\GitHub\\bugs-in-democracy\\team_arrow\\clean\\rcv_dimensionality.py:170: RuntimeWarning: divide by zero encountered in true_divide\n",
      "  distance = 1 / np.sqrt(freq_upper_triangle)\n",
      "c:\\Users\\mahsh\\Documents\\GitHub\\bugs-in-democracy\\team_arrow\\clean\\rcv_dimensionality.py:170: RuntimeWarning: divide by zero encountered in true_divide\n",
      "  distance = 1 / np.sqrt(freq_upper_triangle)\n",
      "c:\\Users\\mahsh\\Documents\\GitHub\\bugs-in-democracy\\team_arrow\\clean\\rcv_dimensionality.py:170: RuntimeWarning: divide by zero encountered in true_divide\n",
      "  distance = 1 / np.sqrt(freq_upper_triangle)\n",
      "c:\\Users\\mahsh\\Documents\\GitHub\\bugs-in-democracy\\team_arrow\\clean\\rcv_dimensionality.py:170: RuntimeWarning: divide by zero encountered in true_divide\n",
      "  distance = 1 / np.sqrt(freq_upper_triangle)\n",
      "c:\\Users\\mahsh\\Documents\\GitHub\\bugs-in-democracy\\team_arrow\\clean\\rcv_dimensionality.py:170: RuntimeWarning: divide by zero encountered in true_divide\n",
      "  distance = 1 / np.sqrt(freq_upper_triangle)\n",
      "c:\\Users\\mahsh\\Documents\\GitHub\\bugs-in-democracy\\team_arrow\\clean\\rcv_dimensionality.py:170: RuntimeWarning: divide by zero encountered in true_divide\n",
      "  distance = 1 / np.sqrt(freq_upper_triangle)\n",
      "c:\\Users\\mahsh\\Documents\\GitHub\\bugs-in-democracy\\team_arrow\\clean\\rcv_dimensionality.py:170: RuntimeWarning: divide by zero encountered in true_divide\n",
      "  distance = 1 / np.sqrt(freq_upper_triangle)\n",
      "c:\\Users\\mahsh\\Documents\\GitHub\\bugs-in-democracy\\team_arrow\\clean\\rcv_dimensionality.py:170: RuntimeWarning: divide by zero encountered in true_divide\n",
      "  distance = 1 / np.sqrt(freq_upper_triangle)\n",
      "c:\\Users\\mahsh\\Documents\\GitHub\\bugs-in-democracy\\team_arrow\\clean\\rcv_dimensionality.py:170: RuntimeWarning: divide by zero encountered in true_divide\n",
      "  distance = 1 / np.sqrt(freq_upper_triangle)\n"
     ]
    },
    {
     "name": "stdout",
     "output_type": "stream",
     "text": [
      "gamma for  Minneapolis_11062009_Ward3CityCouncil.csv  is:  0.9017816354499771\n"
     ]
    },
    {
     "name": "stderr",
     "output_type": "stream",
     "text": [
      "c:\\Users\\mahsh\\Documents\\GitHub\\bugs-in-democracy\\team_arrow\\clean\\rcv_dimensionality.py:170: RuntimeWarning: divide by zero encountered in true_divide\n",
      "  distance = 1 / np.sqrt(freq_upper_triangle)\n",
      "c:\\Users\\mahsh\\Documents\\GitHub\\bugs-in-democracy\\team_arrow\\clean\\rcv_dimensionality.py:170: RuntimeWarning: divide by zero encountered in true_divide\n",
      "  distance = 1 / np.sqrt(freq_upper_triangle)\n",
      "c:\\Users\\mahsh\\Documents\\GitHub\\bugs-in-democracy\\team_arrow\\clean\\rcv_dimensionality.py:170: RuntimeWarning: divide by zero encountered in true_divide\n",
      "  distance = 1 / np.sqrt(freq_upper_triangle)\n",
      "c:\\Users\\mahsh\\Documents\\GitHub\\bugs-in-democracy\\team_arrow\\clean\\rcv_dimensionality.py:170: RuntimeWarning: divide by zero encountered in true_divide\n",
      "  distance = 1 / np.sqrt(freq_upper_triangle)\n",
      "c:\\Users\\mahsh\\Documents\\GitHub\\bugs-in-democracy\\team_arrow\\clean\\rcv_dimensionality.py:170: RuntimeWarning: divide by zero encountered in true_divide\n",
      "  distance = 1 / np.sqrt(freq_upper_triangle)\n",
      "c:\\Users\\mahsh\\Documents\\GitHub\\bugs-in-democracy\\team_arrow\\clean\\rcv_dimensionality.py:170: RuntimeWarning: divide by zero encountered in true_divide\n",
      "  distance = 1 / np.sqrt(freq_upper_triangle)\n",
      "c:\\Users\\mahsh\\Documents\\GitHub\\bugs-in-democracy\\team_arrow\\clean\\rcv_dimensionality.py:159: RuntimeWarning: divide by zero encountered in true_divide\n",
      "  frequencies = counts / mentioned_together\n",
      "c:\\Users\\mahsh\\Documents\\GitHub\\bugs-in-democracy\\team_arrow\\clean\\rcv_dimensionality.py:159: RuntimeWarning: invalid value encountered in true_divide\n",
      "  frequencies = counts / mentioned_together\n",
      "c:\\Users\\mahsh\\Documents\\GitHub\\bugs-in-democracy\\team_arrow\\clean\\rcv_dimensionality.py:170: RuntimeWarning: divide by zero encountered in true_divide\n",
      "  distance = 1 / np.sqrt(freq_upper_triangle)\n",
      "c:\\Users\\mahsh\\Documents\\GitHub\\bugs-in-democracy\\team_arrow\\clean\\rcv_dimensionality.py:170: RuntimeWarning: divide by zero encountered in true_divide\n",
      "  distance = 1 / np.sqrt(freq_upper_triangle)\n",
      "c:\\Users\\mahsh\\Documents\\GitHub\\bugs-in-democracy\\team_arrow\\clean\\rcv_dimensionality.py:170: RuntimeWarning: divide by zero encountered in true_divide\n",
      "  distance = 1 / np.sqrt(freq_upper_triangle)\n",
      "c:\\Users\\mahsh\\Documents\\GitHub\\bugs-in-democracy\\team_arrow\\clean\\rcv_dimensionality.py:170: RuntimeWarning: divide by zero encountered in true_divide\n",
      "  distance = 1 / np.sqrt(freq_upper_triangle)\n",
      "c:\\Users\\mahsh\\Documents\\GitHub\\bugs-in-democracy\\team_arrow\\clean\\rcv_dimensionality.py:170: RuntimeWarning: divide by zero encountered in true_divide\n",
      "  distance = 1 / np.sqrt(freq_upper_triangle)\n",
      "c:\\Users\\mahsh\\Documents\\GitHub\\bugs-in-democracy\\team_arrow\\clean\\rcv_dimensionality.py:170: RuntimeWarning: divide by zero encountered in true_divide\n",
      "  distance = 1 / np.sqrt(freq_upper_triangle)\n",
      "c:\\Users\\mahsh\\Documents\\GitHub\\bugs-in-democracy\\team_arrow\\clean\\rcv_dimensionality.py:170: RuntimeWarning: divide by zero encountered in true_divide\n",
      "  distance = 1 / np.sqrt(freq_upper_triangle)\n",
      "c:\\Users\\mahsh\\Documents\\GitHub\\bugs-in-democracy\\team_arrow\\clean\\rcv_dimensionality.py:170: RuntimeWarning: divide by zero encountered in true_divide\n",
      "  distance = 1 / np.sqrt(freq_upper_triangle)\n",
      "c:\\Users\\mahsh\\Documents\\GitHub\\bugs-in-democracy\\team_arrow\\clean\\rcv_dimensionality.py:170: RuntimeWarning: divide by zero encountered in true_divide\n",
      "  distance = 1 / np.sqrt(freq_upper_triangle)\n",
      "c:\\Users\\mahsh\\Documents\\GitHub\\bugs-in-democracy\\team_arrow\\clean\\rcv_dimensionality.py:170: RuntimeWarning: divide by zero encountered in true_divide\n",
      "  distance = 1 / np.sqrt(freq_upper_triangle)\n",
      "c:\\Users\\mahsh\\Documents\\GitHub\\bugs-in-democracy\\team_arrow\\clean\\rcv_dimensionality.py:170: RuntimeWarning: divide by zero encountered in true_divide\n",
      "  distance = 1 / np.sqrt(freq_upper_triangle)\n",
      "c:\\Users\\mahsh\\Documents\\GitHub\\bugs-in-democracy\\team_arrow\\clean\\rcv_dimensionality.py:170: RuntimeWarning: divide by zero encountered in true_divide\n",
      "  distance = 1 / np.sqrt(freq_upper_triangle)\n"
     ]
    },
    {
     "name": "stdout",
     "output_type": "stream",
     "text": [
      "an exception occured:   Minneapolis_11072017_Ward2CityCouncil.csv\n"
     ]
    },
    {
     "name": "stderr",
     "output_type": "stream",
     "text": [
      "c:\\Users\\mahsh\\Documents\\GitHub\\bugs-in-democracy\\team_arrow\\clean\\rcv_dimensionality.py:170: RuntimeWarning: divide by zero encountered in true_divide\n",
      "  distance = 1 / np.sqrt(freq_upper_triangle)\n",
      "c:\\Users\\mahsh\\Documents\\GitHub\\bugs-in-democracy\\team_arrow\\clean\\rcv_dimensionality.py:170: RuntimeWarning: divide by zero encountered in true_divide\n",
      "  distance = 1 / np.sqrt(freq_upper_triangle)\n",
      "c:\\Users\\mahsh\\Documents\\GitHub\\bugs-in-democracy\\team_arrow\\clean\\rcv_dimensionality.py:170: RuntimeWarning: divide by zero encountered in true_divide\n",
      "  distance = 1 / np.sqrt(freq_upper_triangle)\n",
      "c:\\Users\\mahsh\\Documents\\GitHub\\bugs-in-democracy\\team_arrow\\clean\\rcv_dimensionality.py:170: RuntimeWarning: divide by zero encountered in true_divide\n",
      "  distance = 1 / np.sqrt(freq_upper_triangle)\n",
      "c:\\Users\\mahsh\\Documents\\GitHub\\bugs-in-democracy\\team_arrow\\clean\\rcv_dimensionality.py:170: RuntimeWarning: divide by zero encountered in true_divide\n",
      "  distance = 1 / np.sqrt(freq_upper_triangle)\n",
      "c:\\Users\\mahsh\\Documents\\GitHub\\bugs-in-democracy\\team_arrow\\clean\\rcv_dimensionality.py:170: RuntimeWarning: divide by zero encountered in true_divide\n",
      "  distance = 1 / np.sqrt(freq_upper_triangle)\n",
      "c:\\Users\\mahsh\\Documents\\GitHub\\bugs-in-democracy\\team_arrow\\clean\\rcv_dimensionality.py:170: RuntimeWarning: divide by zero encountered in true_divide\n",
      "  distance = 1 / np.sqrt(freq_upper_triangle)\n",
      "c:\\Users\\mahsh\\Documents\\GitHub\\bugs-in-democracy\\team_arrow\\clean\\rcv_dimensionality.py:170: RuntimeWarning: divide by zero encountered in true_divide\n",
      "  distance = 1 / np.sqrt(freq_upper_triangle)\n",
      "c:\\Users\\mahsh\\Documents\\GitHub\\bugs-in-democracy\\team_arrow\\clean\\rcv_dimensionality.py:170: RuntimeWarning: divide by zero encountered in true_divide\n",
      "  distance = 1 / np.sqrt(freq_upper_triangle)\n",
      "c:\\Users\\mahsh\\Documents\\GitHub\\bugs-in-democracy\\team_arrow\\clean\\rcv_dimensionality.py:170: RuntimeWarning: divide by zero encountered in true_divide\n",
      "  distance = 1 / np.sqrt(freq_upper_triangle)\n",
      "c:\\Users\\mahsh\\Documents\\GitHub\\bugs-in-democracy\\team_arrow\\clean\\rcv_dimensionality.py:170: RuntimeWarning: divide by zero encountered in true_divide\n",
      "  distance = 1 / np.sqrt(freq_upper_triangle)\n",
      "c:\\Users\\mahsh\\Documents\\GitHub\\bugs-in-democracy\\team_arrow\\clean\\rcv_dimensionality.py:170: RuntimeWarning: divide by zero encountered in true_divide\n",
      "  distance = 1 / np.sqrt(freq_upper_triangle)\n",
      "c:\\Users\\mahsh\\Documents\\GitHub\\bugs-in-democracy\\team_arrow\\clean\\rcv_dimensionality.py:170: RuntimeWarning: divide by zero encountered in true_divide\n",
      "  distance = 1 / np.sqrt(freq_upper_triangle)\n",
      "c:\\Users\\mahsh\\Documents\\GitHub\\bugs-in-democracy\\team_arrow\\clean\\rcv_dimensionality.py:170: RuntimeWarning: divide by zero encountered in true_divide\n",
      "  distance = 1 / np.sqrt(freq_upper_triangle)\n",
      "c:\\Users\\mahsh\\Documents\\GitHub\\bugs-in-democracy\\team_arrow\\clean\\rcv_dimensionality.py:170: RuntimeWarning: divide by zero encountered in true_divide\n",
      "  distance = 1 / np.sqrt(freq_upper_triangle)\n",
      "c:\\Users\\mahsh\\Documents\\GitHub\\bugs-in-democracy\\team_arrow\\clean\\rcv_dimensionality.py:170: RuntimeWarning: divide by zero encountered in true_divide\n",
      "  distance = 1 / np.sqrt(freq_upper_triangle)\n",
      "c:\\Users\\mahsh\\Documents\\GitHub\\bugs-in-democracy\\team_arrow\\clean\\rcv_dimensionality.py:170: RuntimeWarning: divide by zero encountered in true_divide\n",
      "  distance = 1 / np.sqrt(freq_upper_triangle)\n",
      "c:\\Users\\mahsh\\Documents\\GitHub\\bugs-in-democracy\\team_arrow\\clean\\rcv_dimensionality.py:170: RuntimeWarning: divide by zero encountered in true_divide\n",
      "  distance = 1 / np.sqrt(freq_upper_triangle)\n",
      "c:\\Users\\mahsh\\Documents\\GitHub\\bugs-in-democracy\\team_arrow\\clean\\rcv_dimensionality.py:170: RuntimeWarning: divide by zero encountered in true_divide\n",
      "  distance = 1 / np.sqrt(freq_upper_triangle)\n",
      "c:\\Users\\mahsh\\Documents\\GitHub\\bugs-in-democracy\\team_arrow\\clean\\rcv_dimensionality.py:170: RuntimeWarning: divide by zero encountered in true_divide\n",
      "  distance = 1 / np.sqrt(freq_upper_triangle)\n"
     ]
    },
    {
     "name": "stdout",
     "output_type": "stream",
     "text": [
      "gamma for  NewYorkCity_06222021_DEMCouncilMember12thCouncilDistrict.csv  is:  0.8115448936047518\n"
     ]
    },
    {
     "name": "stderr",
     "output_type": "stream",
     "text": [
      "c:\\Users\\mahsh\\Documents\\GitHub\\bugs-in-democracy\\team_arrow\\clean\\rcv_dimensionality.py:170: RuntimeWarning: divide by zero encountered in true_divide\n",
      "  distance = 1 / np.sqrt(freq_upper_triangle)\n",
      "c:\\Users\\mahsh\\Documents\\GitHub\\bugs-in-democracy\\team_arrow\\clean\\rcv_dimensionality.py:170: RuntimeWarning: divide by zero encountered in true_divide\n",
      "  distance = 1 / np.sqrt(freq_upper_triangle)\n",
      "c:\\Users\\mahsh\\Documents\\GitHub\\bugs-in-democracy\\team_arrow\\clean\\rcv_dimensionality.py:170: RuntimeWarning: divide by zero encountered in true_divide\n",
      "  distance = 1 / np.sqrt(freq_upper_triangle)\n",
      "c:\\Users\\mahsh\\Documents\\GitHub\\bugs-in-democracy\\team_arrow\\clean\\rcv_dimensionality.py:170: RuntimeWarning: divide by zero encountered in true_divide\n",
      "  distance = 1 / np.sqrt(freq_upper_triangle)\n",
      "c:\\Users\\mahsh\\Documents\\GitHub\\bugs-in-democracy\\team_arrow\\clean\\rcv_dimensionality.py:170: RuntimeWarning: divide by zero encountered in true_divide\n",
      "  distance = 1 / np.sqrt(freq_upper_triangle)\n",
      "c:\\Users\\mahsh\\Documents\\GitHub\\bugs-in-democracy\\team_arrow\\clean\\rcv_dimensionality.py:170: RuntimeWarning: divide by zero encountered in true_divide\n",
      "  distance = 1 / np.sqrt(freq_upper_triangle)\n",
      "c:\\Users\\mahsh\\Documents\\GitHub\\bugs-in-democracy\\team_arrow\\clean\\rcv_dimensionality.py:170: RuntimeWarning: divide by zero encountered in true_divide\n",
      "  distance = 1 / np.sqrt(freq_upper_triangle)\n",
      "c:\\Users\\mahsh\\Documents\\GitHub\\bugs-in-democracy\\team_arrow\\clean\\rcv_dimensionality.py:170: RuntimeWarning: divide by zero encountered in true_divide\n",
      "  distance = 1 / np.sqrt(freq_upper_triangle)\n",
      "c:\\Users\\mahsh\\Documents\\GitHub\\bugs-in-democracy\\team_arrow\\clean\\rcv_dimensionality.py:170: RuntimeWarning: divide by zero encountered in true_divide\n",
      "  distance = 1 / np.sqrt(freq_upper_triangle)\n",
      "c:\\Users\\mahsh\\Documents\\GitHub\\bugs-in-democracy\\team_arrow\\clean\\rcv_dimensionality.py:170: RuntimeWarning: divide by zero encountered in true_divide\n",
      "  distance = 1 / np.sqrt(freq_upper_triangle)\n",
      "c:\\Users\\mahsh\\Documents\\GitHub\\bugs-in-democracy\\team_arrow\\clean\\rcv_dimensionality.py:170: RuntimeWarning: divide by zero encountered in true_divide\n",
      "  distance = 1 / np.sqrt(freq_upper_triangle)\n",
      "c:\\Users\\mahsh\\Documents\\GitHub\\bugs-in-democracy\\team_arrow\\clean\\rcv_dimensionality.py:170: RuntimeWarning: divide by zero encountered in true_divide\n",
      "  distance = 1 / np.sqrt(freq_upper_triangle)\n",
      "c:\\Users\\mahsh\\Documents\\GitHub\\bugs-in-democracy\\team_arrow\\clean\\rcv_dimensionality.py:170: RuntimeWarning: divide by zero encountered in true_divide\n",
      "  distance = 1 / np.sqrt(freq_upper_triangle)\n",
      "c:\\Users\\mahsh\\Documents\\GitHub\\bugs-in-democracy\\team_arrow\\clean\\rcv_dimensionality.py:170: RuntimeWarning: divide by zero encountered in true_divide\n",
      "  distance = 1 / np.sqrt(freq_upper_triangle)\n",
      "c:\\Users\\mahsh\\Documents\\GitHub\\bugs-in-democracy\\team_arrow\\clean\\rcv_dimensionality.py:170: RuntimeWarning: divide by zero encountered in true_divide\n",
      "  distance = 1 / np.sqrt(freq_upper_triangle)\n",
      "c:\\Users\\mahsh\\Documents\\GitHub\\bugs-in-democracy\\team_arrow\\clean\\rcv_dimensionality.py:170: RuntimeWarning: divide by zero encountered in true_divide\n",
      "  distance = 1 / np.sqrt(freq_upper_triangle)\n",
      "c:\\Users\\mahsh\\Documents\\GitHub\\bugs-in-democracy\\team_arrow\\clean\\rcv_dimensionality.py:170: RuntimeWarning: divide by zero encountered in true_divide\n",
      "  distance = 1 / np.sqrt(freq_upper_triangle)\n",
      "c:\\Users\\mahsh\\Documents\\GitHub\\bugs-in-democracy\\team_arrow\\clean\\rcv_dimensionality.py:170: RuntimeWarning: divide by zero encountered in true_divide\n",
      "  distance = 1 / np.sqrt(freq_upper_triangle)\n",
      "c:\\Users\\mahsh\\Documents\\GitHub\\bugs-in-democracy\\team_arrow\\clean\\rcv_dimensionality.py:170: RuntimeWarning: divide by zero encountered in true_divide\n",
      "  distance = 1 / np.sqrt(freq_upper_triangle)\n",
      "c:\\Users\\mahsh\\Documents\\GitHub\\bugs-in-democracy\\team_arrow\\clean\\rcv_dimensionality.py:170: RuntimeWarning: divide by zero encountered in true_divide\n",
      "  distance = 1 / np.sqrt(freq_upper_triangle)\n",
      "c:\\Users\\mahsh\\Documents\\GitHub\\bugs-in-democracy\\team_arrow\\clean\\rcv_dimensionality.py:170: RuntimeWarning: divide by zero encountered in true_divide\n",
      "  distance = 1 / np.sqrt(freq_upper_triangle)\n",
      "c:\\Users\\mahsh\\Documents\\GitHub\\bugs-in-democracy\\team_arrow\\clean\\rcv_dimensionality.py:170: RuntimeWarning: divide by zero encountered in true_divide\n",
      "  distance = 1 / np.sqrt(freq_upper_triangle)\n",
      "c:\\Users\\mahsh\\Documents\\GitHub\\bugs-in-democracy\\team_arrow\\clean\\rcv_dimensionality.py:170: RuntimeWarning: divide by zero encountered in true_divide\n",
      "  distance = 1 / np.sqrt(freq_upper_triangle)\n",
      "c:\\Users\\mahsh\\Documents\\GitHub\\bugs-in-democracy\\team_arrow\\clean\\rcv_dimensionality.py:170: RuntimeWarning: divide by zero encountered in true_divide\n",
      "  distance = 1 / np.sqrt(freq_upper_triangle)\n",
      "c:\\Users\\mahsh\\Documents\\GitHub\\bugs-in-democracy\\team_arrow\\clean\\rcv_dimensionality.py:170: RuntimeWarning: divide by zero encountered in true_divide\n",
      "  distance = 1 / np.sqrt(freq_upper_triangle)\n",
      "c:\\Users\\mahsh\\Documents\\GitHub\\bugs-in-democracy\\team_arrow\\clean\\rcv_dimensionality.py:170: RuntimeWarning: divide by zero encountered in true_divide\n",
      "  distance = 1 / np.sqrt(freq_upper_triangle)\n",
      "c:\\Users\\mahsh\\Documents\\GitHub\\bugs-in-democracy\\team_arrow\\clean\\rcv_dimensionality.py:170: RuntimeWarning: divide by zero encountered in true_divide\n",
      "  distance = 1 / np.sqrt(freq_upper_triangle)\n",
      "c:\\Users\\mahsh\\Documents\\GitHub\\bugs-in-democracy\\team_arrow\\clean\\rcv_dimensionality.py:170: RuntimeWarning: divide by zero encountered in true_divide\n",
      "  distance = 1 / np.sqrt(freq_upper_triangle)\n",
      "c:\\Users\\mahsh\\Documents\\GitHub\\bugs-in-democracy\\team_arrow\\clean\\rcv_dimensionality.py:170: RuntimeWarning: divide by zero encountered in true_divide\n",
      "  distance = 1 / np.sqrt(freq_upper_triangle)\n",
      "c:\\Users\\mahsh\\Documents\\GitHub\\bugs-in-democracy\\team_arrow\\clean\\rcv_dimensionality.py:170: RuntimeWarning: divide by zero encountered in true_divide\n",
      "  distance = 1 / np.sqrt(freq_upper_triangle)\n",
      "c:\\Users\\mahsh\\Documents\\GitHub\\bugs-in-democracy\\team_arrow\\clean\\rcv_dimensionality.py:170: RuntimeWarning: divide by zero encountered in true_divide\n",
      "  distance = 1 / np.sqrt(freq_upper_triangle)\n",
      "c:\\Users\\mahsh\\Documents\\GitHub\\bugs-in-democracy\\team_arrow\\clean\\rcv_dimensionality.py:170: RuntimeWarning: divide by zero encountered in true_divide\n",
      "  distance = 1 / np.sqrt(freq_upper_triangle)\n",
      "c:\\Users\\mahsh\\Documents\\GitHub\\bugs-in-democracy\\team_arrow\\clean\\rcv_dimensionality.py:170: RuntimeWarning: divide by zero encountered in true_divide\n",
      "  distance = 1 / np.sqrt(freq_upper_triangle)\n",
      "c:\\Users\\mahsh\\Documents\\GitHub\\bugs-in-democracy\\team_arrow\\clean\\rcv_dimensionality.py:170: RuntimeWarning: divide by zero encountered in true_divide\n",
      "  distance = 1 / np.sqrt(freq_upper_triangle)\n",
      "c:\\Users\\mahsh\\Documents\\GitHub\\bugs-in-democracy\\team_arrow\\clean\\rcv_dimensionality.py:170: RuntimeWarning: divide by zero encountered in true_divide\n",
      "  distance = 1 / np.sqrt(freq_upper_triangle)\n",
      "c:\\Users\\mahsh\\Documents\\GitHub\\bugs-in-democracy\\team_arrow\\clean\\rcv_dimensionality.py:170: RuntimeWarning: divide by zero encountered in true_divide\n",
      "  distance = 1 / np.sqrt(freq_upper_triangle)\n",
      "c:\\Users\\mahsh\\Documents\\GitHub\\bugs-in-democracy\\team_arrow\\clean\\rcv_dimensionality.py:170: RuntimeWarning: divide by zero encountered in true_divide\n",
      "  distance = 1 / np.sqrt(freq_upper_triangle)\n",
      "c:\\Users\\mahsh\\Documents\\GitHub\\bugs-in-democracy\\team_arrow\\clean\\rcv_dimensionality.py:170: RuntimeWarning: divide by zero encountered in true_divide\n",
      "  distance = 1 / np.sqrt(freq_upper_triangle)\n",
      "c:\\Users\\mahsh\\Documents\\GitHub\\bugs-in-democracy\\team_arrow\\clean\\rcv_dimensionality.py:170: RuntimeWarning: divide by zero encountered in true_divide\n",
      "  distance = 1 / np.sqrt(freq_upper_triangle)\n",
      "c:\\Users\\mahsh\\Documents\\GitHub\\bugs-in-democracy\\team_arrow\\clean\\rcv_dimensionality.py:170: RuntimeWarning: divide by zero encountered in true_divide\n",
      "  distance = 1 / np.sqrt(freq_upper_triangle)\n",
      "c:\\Users\\mahsh\\Documents\\GitHub\\bugs-in-democracy\\team_arrow\\clean\\rcv_dimensionality.py:170: RuntimeWarning: divide by zero encountered in true_divide\n",
      "  distance = 1 / np.sqrt(freq_upper_triangle)\n",
      "c:\\Users\\mahsh\\Documents\\GitHub\\bugs-in-democracy\\team_arrow\\clean\\rcv_dimensionality.py:170: RuntimeWarning: divide by zero encountered in true_divide\n",
      "  distance = 1 / np.sqrt(freq_upper_triangle)\n",
      "c:\\Users\\mahsh\\Documents\\GitHub\\bugs-in-democracy\\team_arrow\\clean\\rcv_dimensionality.py:170: RuntimeWarning: divide by zero encountered in true_divide\n",
      "  distance = 1 / np.sqrt(freq_upper_triangle)\n",
      "c:\\Users\\mahsh\\Documents\\GitHub\\bugs-in-democracy\\team_arrow\\clean\\rcv_dimensionality.py:170: RuntimeWarning: divide by zero encountered in true_divide\n",
      "  distance = 1 / np.sqrt(freq_upper_triangle)\n",
      "c:\\Users\\mahsh\\Documents\\GitHub\\bugs-in-democracy\\team_arrow\\clean\\rcv_dimensionality.py:170: RuntimeWarning: divide by zero encountered in true_divide\n",
      "  distance = 1 / np.sqrt(freq_upper_triangle)\n",
      "c:\\Users\\mahsh\\Documents\\GitHub\\bugs-in-democracy\\team_arrow\\clean\\rcv_dimensionality.py:170: RuntimeWarning: divide by zero encountered in true_divide\n",
      "  distance = 1 / np.sqrt(freq_upper_triangle)\n",
      "c:\\Users\\mahsh\\Documents\\GitHub\\bugs-in-democracy\\team_arrow\\clean\\rcv_dimensionality.py:170: RuntimeWarning: divide by zero encountered in true_divide\n",
      "  distance = 1 / np.sqrt(freq_upper_triangle)\n",
      "c:\\Users\\mahsh\\Documents\\GitHub\\bugs-in-democracy\\team_arrow\\clean\\rcv_dimensionality.py:170: RuntimeWarning: divide by zero encountered in true_divide\n",
      "  distance = 1 / np.sqrt(freq_upper_triangle)\n",
      "c:\\Users\\mahsh\\Documents\\GitHub\\bugs-in-democracy\\team_arrow\\clean\\rcv_dimensionality.py:170: RuntimeWarning: divide by zero encountered in true_divide\n",
      "  distance = 1 / np.sqrt(freq_upper_triangle)\n",
      "c:\\Users\\mahsh\\Documents\\GitHub\\bugs-in-democracy\\team_arrow\\clean\\rcv_dimensionality.py:170: RuntimeWarning: divide by zero encountered in true_divide\n",
      "  distance = 1 / np.sqrt(freq_upper_triangle)\n",
      "c:\\Users\\mahsh\\Documents\\GitHub\\bugs-in-democracy\\team_arrow\\clean\\rcv_dimensionality.py:170: RuntimeWarning: divide by zero encountered in true_divide\n",
      "  distance = 1 / np.sqrt(freq_upper_triangle)\n",
      "c:\\Users\\mahsh\\Documents\\GitHub\\bugs-in-democracy\\team_arrow\\clean\\rcv_dimensionality.py:170: RuntimeWarning: divide by zero encountered in true_divide\n",
      "  distance = 1 / np.sqrt(freq_upper_triangle)\n",
      "c:\\Users\\mahsh\\Documents\\GitHub\\bugs-in-democracy\\team_arrow\\clean\\rcv_dimensionality.py:170: RuntimeWarning: divide by zero encountered in true_divide\n",
      "  distance = 1 / np.sqrt(freq_upper_triangle)\n",
      "c:\\Users\\mahsh\\Documents\\GitHub\\bugs-in-democracy\\team_arrow\\clean\\rcv_dimensionality.py:170: RuntimeWarning: divide by zero encountered in true_divide\n",
      "  distance = 1 / np.sqrt(freq_upper_triangle)\n",
      "c:\\Users\\mahsh\\Documents\\GitHub\\bugs-in-democracy\\team_arrow\\clean\\rcv_dimensionality.py:170: RuntimeWarning: divide by zero encountered in true_divide\n",
      "  distance = 1 / np.sqrt(freq_upper_triangle)\n",
      "c:\\Users\\mahsh\\Documents\\GitHub\\bugs-in-democracy\\team_arrow\\clean\\rcv_dimensionality.py:170: RuntimeWarning: divide by zero encountered in true_divide\n",
      "  distance = 1 / np.sqrt(freq_upper_triangle)\n",
      "c:\\Users\\mahsh\\Documents\\GitHub\\bugs-in-democracy\\team_arrow\\clean\\rcv_dimensionality.py:170: RuntimeWarning: divide by zero encountered in true_divide\n",
      "  distance = 1 / np.sqrt(freq_upper_triangle)\n",
      "c:\\Users\\mahsh\\Documents\\GitHub\\bugs-in-democracy\\team_arrow\\clean\\rcv_dimensionality.py:170: RuntimeWarning: divide by zero encountered in true_divide\n",
      "  distance = 1 / np.sqrt(freq_upper_triangle)\n"
     ]
    },
    {
     "name": "stdout",
     "output_type": "stream",
     "text": [
      "gamma for  Oakland_11022010_CityCouncilDistrict6.csv  is:  0.7736244948709978\n"
     ]
    },
    {
     "name": "stderr",
     "output_type": "stream",
     "text": [
      "c:\\Users\\mahsh\\Documents\\GitHub\\bugs-in-democracy\\team_arrow\\clean\\rcv_dimensionality.py:170: RuntimeWarning: divide by zero encountered in true_divide\n",
      "  distance = 1 / np.sqrt(freq_upper_triangle)\n"
     ]
    },
    {
     "name": "stdout",
     "output_type": "stream",
     "text": [
      "an exception occured:   Oakland_11022010_SchoolDirectorDistrict2.csv\n"
     ]
    },
    {
     "name": "stderr",
     "output_type": "stream",
     "text": [
      "c:\\Users\\mahsh\\Documents\\GitHub\\bugs-in-democracy\\team_arrow\\clean\\rcv_dimensionality.py:170: RuntimeWarning: divide by zero encountered in true_divide\n",
      "  distance = 1 / np.sqrt(freq_upper_triangle)\n"
     ]
    },
    {
     "name": "stdout",
     "output_type": "stream",
     "text": [
      "an exception occured:   Oakland_11022010_SchoolDirectorDistrict6.csv\n"
     ]
    },
    {
     "name": "stderr",
     "output_type": "stream",
     "text": [
      "c:\\Users\\mahsh\\Documents\\GitHub\\bugs-in-democracy\\team_arrow\\clean\\rcv_dimensionality.py:170: RuntimeWarning: divide by zero encountered in true_divide\n",
      "  distance = 1 / np.sqrt(freq_upper_triangle)\n",
      "c:\\Users\\mahsh\\Documents\\GitHub\\bugs-in-democracy\\team_arrow\\clean\\rcv_dimensionality.py:170: RuntimeWarning: divide by zero encountered in true_divide\n",
      "  distance = 1 / np.sqrt(freq_upper_triangle)\n",
      "c:\\Users\\mahsh\\Documents\\GitHub\\bugs-in-democracy\\team_arrow\\clean\\rcv_dimensionality.py:170: RuntimeWarning: divide by zero encountered in true_divide\n",
      "  distance = 1 / np.sqrt(freq_upper_triangle)\n",
      "c:\\Users\\mahsh\\Documents\\GitHub\\bugs-in-democracy\\team_arrow\\clean\\rcv_dimensionality.py:170: RuntimeWarning: divide by zero encountered in true_divide\n",
      "  distance = 1 / np.sqrt(freq_upper_triangle)\n",
      "c:\\Users\\mahsh\\Documents\\GitHub\\bugs-in-democracy\\team_arrow\\clean\\rcv_dimensionality.py:170: RuntimeWarning: divide by zero encountered in true_divide\n",
      "  distance = 1 / np.sqrt(freq_upper_triangle)\n",
      "c:\\Users\\mahsh\\Documents\\GitHub\\bugs-in-democracy\\team_arrow\\clean\\rcv_dimensionality.py:170: RuntimeWarning: divide by zero encountered in true_divide\n",
      "  distance = 1 / np.sqrt(freq_upper_triangle)\n",
      "c:\\Users\\mahsh\\Documents\\GitHub\\bugs-in-democracy\\team_arrow\\clean\\rcv_dimensionality.py:170: RuntimeWarning: divide by zero encountered in true_divide\n",
      "  distance = 1 / np.sqrt(freq_upper_triangle)\n",
      "c:\\Users\\mahsh\\Documents\\GitHub\\bugs-in-democracy\\team_arrow\\clean\\rcv_dimensionality.py:170: RuntimeWarning: divide by zero encountered in true_divide\n",
      "  distance = 1 / np.sqrt(freq_upper_triangle)\n",
      "c:\\Users\\mahsh\\Documents\\GitHub\\bugs-in-democracy\\team_arrow\\clean\\rcv_dimensionality.py:170: RuntimeWarning: divide by zero encountered in true_divide\n",
      "  distance = 1 / np.sqrt(freq_upper_triangle)\n",
      "c:\\Users\\mahsh\\Documents\\GitHub\\bugs-in-democracy\\team_arrow\\clean\\rcv_dimensionality.py:170: RuntimeWarning: divide by zero encountered in true_divide\n",
      "  distance = 1 / np.sqrt(freq_upper_triangle)\n",
      "c:\\Users\\mahsh\\Documents\\GitHub\\bugs-in-democracy\\team_arrow\\clean\\rcv_dimensionality.py:170: RuntimeWarning: divide by zero encountered in true_divide\n",
      "  distance = 1 / np.sqrt(freq_upper_triangle)\n",
      "c:\\Users\\mahsh\\Documents\\GitHub\\bugs-in-democracy\\team_arrow\\clean\\rcv_dimensionality.py:170: RuntimeWarning: divide by zero encountered in true_divide\n",
      "  distance = 1 / np.sqrt(freq_upper_triangle)\n",
      "c:\\Users\\mahsh\\Documents\\GitHub\\bugs-in-democracy\\team_arrow\\clean\\rcv_dimensionality.py:170: RuntimeWarning: divide by zero encountered in true_divide\n",
      "  distance = 1 / np.sqrt(freq_upper_triangle)\n",
      "c:\\Users\\mahsh\\Documents\\GitHub\\bugs-in-democracy\\team_arrow\\clean\\rcv_dimensionality.py:170: RuntimeWarning: divide by zero encountered in true_divide\n",
      "  distance = 1 / np.sqrt(freq_upper_triangle)\n",
      "c:\\Users\\mahsh\\Documents\\GitHub\\bugs-in-democracy\\team_arrow\\clean\\rcv_dimensionality.py:159: RuntimeWarning: divide by zero encountered in true_divide\n",
      "  frequencies = counts / mentioned_together\n",
      "c:\\Users\\mahsh\\Documents\\GitHub\\bugs-in-democracy\\team_arrow\\clean\\rcv_dimensionality.py:170: RuntimeWarning: divide by zero encountered in true_divide\n",
      "  distance = 1 / np.sqrt(freq_upper_triangle)\n",
      "c:\\Users\\mahsh\\Documents\\GitHub\\bugs-in-democracy\\team_arrow\\clean\\rcv_dimensionality.py:170: RuntimeWarning: divide by zero encountered in true_divide\n",
      "  distance = 1 / np.sqrt(freq_upper_triangle)\n",
      "c:\\Users\\mahsh\\Documents\\GitHub\\bugs-in-democracy\\team_arrow\\clean\\rcv_dimensionality.py:170: RuntimeWarning: divide by zero encountered in true_divide\n",
      "  distance = 1 / np.sqrt(freq_upper_triangle)\n",
      "c:\\Users\\mahsh\\Documents\\GitHub\\bugs-in-democracy\\team_arrow\\clean\\rcv_dimensionality.py:170: RuntimeWarning: divide by zero encountered in true_divide\n",
      "  distance = 1 / np.sqrt(freq_upper_triangle)\n",
      "c:\\Users\\mahsh\\Documents\\GitHub\\bugs-in-democracy\\team_arrow\\clean\\rcv_dimensionality.py:170: RuntimeWarning: divide by zero encountered in true_divide\n",
      "  distance = 1 / np.sqrt(freq_upper_triangle)\n",
      "c:\\Users\\mahsh\\Documents\\GitHub\\bugs-in-democracy\\team_arrow\\clean\\rcv_dimensionality.py:170: RuntimeWarning: divide by zero encountered in true_divide\n",
      "  distance = 1 / np.sqrt(freq_upper_triangle)\n",
      "c:\\Users\\mahsh\\Documents\\GitHub\\bugs-in-democracy\\team_arrow\\clean\\rcv_dimensionality.py:170: RuntimeWarning: divide by zero encountered in true_divide\n",
      "  distance = 1 / np.sqrt(freq_upper_triangle)\n",
      "c:\\Users\\mahsh\\Documents\\GitHub\\bugs-in-democracy\\team_arrow\\clean\\rcv_dimensionality.py:170: RuntimeWarning: divide by zero encountered in true_divide\n",
      "  distance = 1 / np.sqrt(freq_upper_triangle)\n",
      "c:\\Users\\mahsh\\Documents\\GitHub\\bugs-in-democracy\\team_arrow\\clean\\rcv_dimensionality.py:170: RuntimeWarning: divide by zero encountered in true_divide\n",
      "  distance = 1 / np.sqrt(freq_upper_triangle)\n",
      "c:\\Users\\mahsh\\Documents\\GitHub\\bugs-in-democracy\\team_arrow\\clean\\rcv_dimensionality.py:170: RuntimeWarning: divide by zero encountered in true_divide\n",
      "  distance = 1 / np.sqrt(freq_upper_triangle)\n",
      "c:\\Users\\mahsh\\Documents\\GitHub\\bugs-in-democracy\\team_arrow\\clean\\rcv_dimensionality.py:170: RuntimeWarning: divide by zero encountered in true_divide\n",
      "  distance = 1 / np.sqrt(freq_upper_triangle)\n",
      "c:\\Users\\mahsh\\Documents\\GitHub\\bugs-in-democracy\\team_arrow\\clean\\rcv_dimensionality.py:170: RuntimeWarning: divide by zero encountered in true_divide\n",
      "  distance = 1 / np.sqrt(freq_upper_triangle)\n",
      "c:\\Users\\mahsh\\Documents\\GitHub\\bugs-in-democracy\\team_arrow\\clean\\rcv_dimensionality.py:170: RuntimeWarning: divide by zero encountered in true_divide\n",
      "  distance = 1 / np.sqrt(freq_upper_triangle)\n",
      "c:\\Users\\mahsh\\Documents\\GitHub\\bugs-in-democracy\\team_arrow\\clean\\rcv_dimensionality.py:170: RuntimeWarning: divide by zero encountered in true_divide\n",
      "  distance = 1 / np.sqrt(freq_upper_triangle)\n",
      "c:\\Users\\mahsh\\Documents\\GitHub\\bugs-in-democracy\\team_arrow\\clean\\rcv_dimensionality.py:170: RuntimeWarning: divide by zero encountered in true_divide\n",
      "  distance = 1 / np.sqrt(freq_upper_triangle)\n",
      "c:\\Users\\mahsh\\Documents\\GitHub\\bugs-in-democracy\\team_arrow\\clean\\rcv_dimensionality.py:170: RuntimeWarning: divide by zero encountered in true_divide\n",
      "  distance = 1 / np.sqrt(freq_upper_triangle)\n"
     ]
    }
   ],
   "source": [
    "directory = \"dataverse_files\"\n",
    "new_gamma = pd.read_csv(\"gamma.csv\")\n",
    "row_num = new_gamma[new_gamma[\"filename\"] == \"Easthampton_11022021_Mayor.csv\"].index[0]\n",
    "print(row_num)\n",
    "\n",
    "for filename in os.listdir(directory):\n",
    "    try:\n",
    "        row_num = new_gamma[new_gamma[\"filename\"] == filename].index[0]\n",
    "        ballots, candidates = parse_election_data(os.path.join(directory, filename))\n",
    "\n",
    "        test = perform_rcv_analysis(os.path.join(directory, filename), n_runs=1000)\n",
    "        mds_1d_coordinates, mds_2d_coordinates, most_common_order, order_frequencies, candidate_names = test\n",
    "\n",
    "        normalized_distances = get_distances_normalized(most_common_order, mds_1d_coordinates, candidate_names)\n",
    "\n",
    "        normalized_points = []\n",
    "        normalized_names = []\n",
    "        for name in normalized_distances:\n",
    "            normalized_names.append(name)\n",
    "            normalized_points.append(normalized_distances[name])\n",
    "        \n",
    "        gamma = get_gamma(normalized_distances, ballots)\n",
    "        if row_num % 50 == 0:\n",
    "            print(\"gamma for \", filename, \" is: \", gamma)\n",
    "        \n",
    "        new_gamma.loc[row_num, \"new_gamma\"] = gamma\n",
    "    except:\n",
    "        print(\"an exception occured:  \", filename)\n",
    "\n",
    "new_gamma.to_csv(\"recalculate_gamma.csv\")\n"
   ]
  },
  {
   "cell_type": "code",
   "execution_count": null,
   "metadata": {},
   "outputs": [],
   "source": [
    "print(new_gamma)"
   ]
  },
  {
   "cell_type": "code",
   "execution_count": null,
   "metadata": {},
   "outputs": [],
   "source": [
    "new_gamma.to_csv(\"new_gamma.csv\")"
   ]
  },
  {
   "cell_type": "code",
   "execution_count": null,
   "metadata": {},
   "outputs": [],
   "source": []
  }
 ],
 "metadata": {
  "kernelspec": {
   "display_name": "Python 3",
   "language": "python",
   "name": "python3"
  },
  "language_info": {
   "codemirror_mode": {
    "name": "ipython",
    "version": 3
   },
   "file_extension": ".py",
   "mimetype": "text/x-python",
   "name": "python",
   "nbconvert_exporter": "python",
   "pygments_lexer": "ipython3",
   "version": "3.9.12"
  },
  "orig_nbformat": 4
 },
 "nbformat": 4,
 "nbformat_minor": 2
}
