{
 "cells": [
  {
   "cell_type": "code",
   "execution_count": 27,
   "metadata": {},
   "outputs": [
    {
     "name": "stdout",
     "output_type": "stream",
     "text": [
      "[[ 0.83937147  1.        ]\n",
      " [ 1.41767905  1.        ]\n",
      " [ 1.42523094  1.        ]\n",
      " ...\n",
      " [ 0.82236511  1.        ]\n",
      " [ 1.57289318  1.        ]\n",
      " [-0.06738412  1.        ]]\n"
     ]
    }
   ],
   "source": [
    "import scipy.io\n",
    "import pandas as pd\n",
    "import seaborn as sns\n",
    "from scipy.stats import gaussian_kde\n",
    "from scipy.stats import kurtosis, skew\n",
    "\n",
    "from rcv_distribution import *\n",
    "from rcv_dimensionality import *\n",
    "from voting_rules import *\n",
    "import itertools\n",
    "import itertools\n",
    "import random\n",
    "\n",
    "# Load data from a .mat file\n",
    "mat_data = scipy.io.loadmat('data/Alaska_08162022_HouseofRepresentativesSpecial.mat')\n",
    "data_list = []\n",
    "for i in range(len(mat_data['my_data'])):\n",
    "    data_list.append(mat_data['my_data'][i][0])\n",
    "\n",
    "print(mat_data['my_data'])\n",
    "\n",
    "\n"
   ]
  },
  {
   "cell_type": "code",
   "execution_count": null,
   "metadata": {},
   "outputs": [],
   "source": [
    "# Load data from a .mat file\n",
    "mat_data = scipy.io.loadmat('data/Alaska_08162022_HouseofRepresentativesSpecial.mat')\n",
    "data_list = []\n",
    "for i in range(len(mat_data['my_data'])):\n",
    "    data_list.append(mat_data['my_data'][i][0])"
   ]
  },
  {
   "cell_type": "code",
   "execution_count": null,
   "metadata": {},
   "outputs": [],
   "source": [
    "\n",
    "def sample_from_data(data, size=1):\n",
    "    kde = gaussian_kde(data)\n",
    "    samples = kde.resample(size=size)\n",
    "    return samples\n"
   ]
  },
  {
   "cell_type": "code",
   "execution_count": null,
   "metadata": {},
   "outputs": [],
   "source": [
    "def generate_ballots(gamma, voters, candidates, V):\n",
    "    ballots = {}\n",
    "    for position in voters:\n",
    "        ranking = ()\n",
    "        bullet = False\n",
    "        for candidate in candidates:\n",
    "            if position == candidate:\n",
    "                ranking = (candidate)\n",
    "                if ranking not in ballots:\n",
    "                    ballots[ranking] = 1\n",
    "                else:\n",
    "                    ballots[ranking] += 1\n",
    "                bullet = True\n",
    "        if bullet is not True:\n",
    "            sorted_list = sorted(candidates, key=lambda x: abs(x - position))\n",
    "            for c in sorted_list:\n",
    "                ranking += (c,)\n",
    "            if ranking not in ballots:\n",
    "                ballots[ranking] = 1\n",
    "            else:\n",
    "                ballots[ranking] += 1\n",
    "    all_combinations = list(itertools.combinations(candidates, len(candidates)))\n",
    "    random_combinations = random.sample(all_combinations, (1 - gamma) * V)\n",
    "    for i in random_combinations:\n",
    "        ranking = ()\n",
    "        for c in random_combinations[i]:\n",
    "            ranking += (c,)\n",
    "        if ranking not in ballots:\n",
    "            ballots[ranking] = 1\n",
    "        else:\n",
    "            ballots[ranking] += 1\n",
    "        \n",
    "    return ballots\n",
    "\n",
    "            \n",
    "            \n",
    "            "
   ]
  },
  {
   "cell_type": "code",
   "execution_count": null,
   "metadata": {},
   "outputs": [],
   "source": [
    "def simulator(gamma, voters, candidates, V, C):\n",
    "    sample_consistent = sample_from_data(voters, gamma*V)\n",
    "    '''sample_candidates = sample_from_data(candidates, C)\n",
    "    sample_candidates = sorted(sample_candidates)'''\n",
    "    ballots = generate_ballots(gamma, sample_consistent, candidates, V)\n",
    "\n"
   ]
  },
  {
   "cell_type": "code",
   "execution_count": null,
   "metadata": {},
   "outputs": [],
   "source": [
    "plt.figure(figsize=(10, 6))\n",
    "sns.kdeplot(sampled_values[0], fill=True)\n",
    "plt.title('Kernel Density Estimation of Data')\n",
    "#plt.xticks(normalized_points, normalized_names, rotation=45)\n",
    "plt.xlabel('Value')\n",
    "plt.ylabel('Density')\n",
    "plt.grid(True)\n",
    "plt.show()"
   ]
  }
 ],
 "metadata": {
  "kernelspec": {
   "display_name": "base",
   "language": "python",
   "name": "python3"
  },
  "language_info": {
   "codemirror_mode": {
    "name": "ipython",
    "version": 3
   },
   "file_extension": ".py",
   "mimetype": "text/x-python",
   "name": "python",
   "nbconvert_exporter": "python",
   "pygments_lexer": "ipython3",
   "version": "3.9.12"
  },
  "orig_nbformat": 4
 },
 "nbformat": 4,
 "nbformat_minor": 2
}
