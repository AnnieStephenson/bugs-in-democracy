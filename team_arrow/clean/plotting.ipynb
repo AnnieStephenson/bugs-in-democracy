{
 "cells": [
  {
   "cell_type": "code",
   "execution_count": 1,
   "metadata": {},
   "outputs": [],
   "source": [
    "import seaborn as sns\n",
    "\n",
    "from scipy.stats import kurtosis, skew\n",
    "\n",
    "from rcv_distribution import *\n",
    "from rcv_dimensionality import *\n",
    "from voting_rules import *"
   ]
  },
  {
   "cell_type": "code",
   "execution_count": 2,
   "metadata": {},
   "outputs": [
    {
     "name": "stderr",
     "output_type": "stream",
     "text": [
      "/Users/es5891/Documents/GitHub/bugs-in-democracy/team_arrow/clean/rcv_dimensionality.py:170: RuntimeWarning: divide by zero encountered in divide\n",
      "  distance = 1 / np.sqrt(freq_upper_triangle)\n"
     ]
    }
   ],
   "source": [
    "file = \"../../rcv_elections_database/classic/Maine_11062018_CongressionalDistrict2.csv\"\n",
    "ballots, candidates = parse_election_data(file)\n",
    "\n",
    "n = len(candidates)\n",
    "test = perform_rcv_analysis(file, n_runs=1000)\n",
    "mds_1d_coordinates, mds_2d_coordinates, most_common_order, order_frequencies, candidate_names = test\n",
    "\n",
    "normalized_distances = get_distances_normalized(most_common_order, mds_1d_coordinates, candidate_names)\n",
    "normalized_names = []\n",
    "normalized_points = []\n",
    "for candidate in normalized_distances:\n",
    "    normalized_names.append(candidate)\n",
    "    normalized_points.append(normalized_distances[candidate])\n"
   ]
  },
  {
   "cell_type": "code",
   "execution_count": 7,
   "metadata": {},
   "outputs": [
    {
     "name": "stdout",
     "output_type": "stream",
     "text": [
      "{'DEM Golden, Jared F.': 0.0, 'Bond, Tiffany L.': 0.9459271114896624, 'Hoar, William R.S.': 1.733120651865034, 'REP Poliquin, Bruce': 3.0}\n"
     ]
    },
    {
     "ename": "NameError",
     "evalue": "name 'center' is not defined",
     "output_type": "error",
     "traceback": [
      "\u001b[0;31m---------------------------------------------------------------------------\u001b[0m",
      "\u001b[0;31mNameError\u001b[0m                                 Traceback (most recent call last)",
      "Cell \u001b[0;32mIn[7], line 40\u001b[0m\n\u001b[1;32m     38\u001b[0m         center \u001b[39m=\u001b[39m normalized_distances[first_place] \u001b[39m+\u001b[39m (normalized_distances[first_place] \u001b[39m-\u001b[39m normalized_distances[normalized_names[i \u001b[39m-\u001b[39m \u001b[39m1\u001b[39m]])\u001b[39m/\u001b[39m\u001b[39m4\u001b[39m\n\u001b[1;32m     39\u001b[0m         width \u001b[39m=\u001b[39m (normalized_distances[normalized_names[i \u001b[39m+\u001b[39m \u001b[39m1\u001b[39m]] \u001b[39m-\u001b[39m normalized_distances[first_place])\u001b[39m/\u001b[39m\u001b[39m2\u001b[39m\n\u001b[0;32m---> 40\u001b[0m \u001b[39mif\u001b[39;00m (center, width) \u001b[39mnot\u001b[39;00m \u001b[39min\u001b[39;00m bar:\n\u001b[1;32m     41\u001b[0m     bar[(center, width)] \u001b[39m=\u001b[39m \u001b[39m0\u001b[39m\n\u001b[1;32m     42\u001b[0m \u001b[39mif\u001b[39;00m \u001b[39mlen\u001b[39m(ballot) \u001b[39m>\u001b[39m \u001b[39m1\u001b[39m:\n",
      "\u001b[0;31mNameError\u001b[0m: name 'center' is not defined"
     ]
    }
   ],
   "source": [
    "print(normalized_distances)\n",
    "temp = {}\n",
    "i = 0\n",
    "for candidate in normalized_distances:\n",
    "    temp[candidate] = i\n",
    "    i += 1\n",
    "bar = {}\n",
    "bullet = {}\n",
    "for ballot in ballots:\n",
    "    if len(ballot) == 0:\n",
    "        continue\n",
    "    ballot_num = []\n",
    "    for candidate in ballot:\n",
    "        ballot_num.append(temp[candidate])\n",
    "    \n",
    "    consistency = evaluate_ballot_consistency(ballot_num)\n",
    "    if consistency[0] is True:\n",
    "        point = consistency[1]\n",
    "        first_place = ballot[0]\n",
    "        if len(ballot) == 1:\n",
    "            if normalized_distances[ballot[0]] not in bullet:\n",
    "                bullet[normalized_distances[ballot[0]]] = 0\n",
    "            bullet[normalized_distances[ballot[0]]] += ballots[ballot]\n",
    "\n",
    "        elif normalized_distances[first_place] == 0:\n",
    "            center = normalized_distances[first_place]\n",
    "            width = normalized_points[1] - normalized_points[0]\n",
    "        elif normalized_distances[first_place] == n - 1:\n",
    "            center = normalized_distances[first_place]\n",
    "            width = normalized_points[n - 1] - normalized_points[n - 2]\n",
    "        else:\n",
    "            if point < normalized_distances[first_place]:\n",
    "                i = normalized_names.index(first_place)\n",
    "                center = normalized_distances[first_place] - (normalized_distances[first_place] - normalized_distances[normalized_names[i - 1]])/4\n",
    "                width = (normalized_distances[first_place] - normalized_distances[normalized_names[i - 1]])/2\n",
    "            else:\n",
    "                i = normalized_names.index(first_place)\n",
    "                center = normalized_distances[first_place] + (normalized_distances[first_place] - normalized_distances[normalized_names[i - 1]])/4\n",
    "                width = (normalized_distances[normalized_names[i + 1]] - normalized_distances[first_place])/2\n",
    "        if (center, width) not in bar:\n",
    "            bar[(center, width)] = 0\n",
    "        if len(ballot) > 1:\n",
    "            bar[(center, width)] += ballots[ballot]\n",
    "\n",
    "x = []\n",
    "y = []\n",
    "widths = []\n",
    "for t in bar:\n",
    "    x.append(t[0])\n",
    "    y.append(bar[t]/t[1])\n",
    "    widths.append(t[1])\n",
    "\n",
    "x_bullet = []\n",
    "y_bullet = []\n",
    "for p in bullet:\n",
    "    x_bullet.append(p)\n",
    "    y_bullet.append(bullet[p]/0.2)\n",
    "    \n"
   ]
  },
  {
   "cell_type": "code",
   "execution_count": null,
   "metadata": {},
   "outputs": [],
   "source": [
    "print(x)\n",
    "print(y)"
   ]
  },
  {
   "cell_type": "code",
   "execution_count": null,
   "metadata": {},
   "outputs": [
    {
     "data": {
      "image/png": "[encoded data removed]",
      "text/plain": [
       "<Figure size 432x288 with 1 Axes>"
      ]
     },
     "metadata": {
      "needs_background": "light"
     },
     "output_type": "display_data"
    }
   ],
   "source": [
    "fig, ax = plt.subplots()\n",
    "for i in range(len(x)):\n",
    "    ax.bar(x[i], y[i], width=widths[i], color=(0.2, 0.4, 0.6, 0.5))\n",
    "\n",
    "for i in range(len(x_bullet)):\n",
    "    ax.bar(x_bullet[i], y_bullet[i], width=0.2, color=\"blue\")"
   ]
  },
  {
   "cell_type": "code",
   "execution_count": null,
   "metadata": {},
   "outputs": [],
   "source": []
  }
 ],
 "metadata": {
  "kernelspec": {
   "display_name": "base",
   "language": "python",
   "name": "python3"
  },
  "language_info": {
   "codemirror_mode": {
    "name": "ipython",
    "version": 3
   },
   "file_extension": ".py",
   "mimetype": "text/x-python",
   "name": "python",
   "nbconvert_exporter": "python",
   "pygments_lexer": "ipython3",
   "version": "3.9.7"
  },
  "orig_nbformat": 4
 },
 "nbformat": 4,
 "nbformat_minor": 2
}
