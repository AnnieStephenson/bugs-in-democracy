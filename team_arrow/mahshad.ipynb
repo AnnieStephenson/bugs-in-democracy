{
 "cells": [
  {
   "cell_type": "code",
   "execution_count": null,
   "metadata": {},
   "outputs": [],
   "source": [
    "# Function to iterate over all rows in the metadata DataFrame\n",
    "def iterate_over_metadata(metadata_df):\n",
    "    results = []\n",
    "    base_dir = 'rcv_elections_database'\n",
    "    for idx, row in metadata_df.iterrows():\n",
    "        if row['file_exists']:\n",
    "            csv_file = f\"{base_dir}/{row['sub_dir_path']}/{row['filename']}\"\n",
    "            \n",
    "            try:\n",
    "                \n",
    "                '''\n",
    "                result = perform_rcv_analysis(csv_file)\n",
    "                result['race_id'] = row['race_id']\n",
    "                results.append(result)\n",
    "                '''\n",
    "\n",
    "            except Exception as e:\n",
    "                print(f\"Error processing file {csv_file}: {e}\")\n",
    "    return results"
   ]
  }
 ],
 "metadata": {
  "language_info": {
   "name": "python"
  },
  "orig_nbformat": 4
 },
 "nbformat": 4,
 "nbformat_minor": 2
}
