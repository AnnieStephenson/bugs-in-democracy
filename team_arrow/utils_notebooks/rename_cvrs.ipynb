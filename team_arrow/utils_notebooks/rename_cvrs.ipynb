{
 "cells": [
  {
   "attachments": {},
   "cell_type": "markdown",
   "metadata": {},
   "source": [
    "Cast vote record (CVR) files are downloaded from here: https://dataverse.harvard.edu/dataverse/rcv_cvrs\n",
    "\n",
    "They are unpacked and placed into the corresponding folders in the \"cvr_records/raw\" folder, single winner cvrs in the \"single\" folder, proportional in the \"proportional\" folder, and sequential in the \"sequential\" folder.\n",
    "\n",
    "In order to get more precise information about each cvr, without modifiying the actual cvr files, the CVR files are renamed to follow this format \"[YYYY.MM.DD]_-_[City,_County,_State]_-_[Office].cvr\", it could of course be done in a JSON file, but this is nicer to read and understand and allows easier interopability with other programs. The \".cvr\" format is a \".csv\" but it's saved this wait to play nice with GitHub large file storage (LFS) and git ignore.\n",
    "\n",
    "The files names are then manipulated in the \"raw\" folder with the following code:"
   ]
  },
  {
   "cell_type": "code",
   "execution_count": 14,
   "metadata": {},
   "outputs": [
    {
     "name": "stdout",
     "output_type": "stream",
     "text": [
      "/Users/es5891/Documents/GitHub/bugs-in-democracy/team_arrow/utils_notebooks/../cvr_records/raw\n"
     ]
    }
   ],
   "source": [
    "import os\n",
    "import re\n",
    "\n",
    "\n",
    "base_dir = r'..'\n",
    "base_dir = os.path.join(base_dir, 'cvr_records')\n",
    "base_dir = os.path.join(base_dir, 'raw')\n",
    "current_dir = os.getcwd()\n",
    "path = os.path.join(current_dir, base_dir)\n",
    "\n",
    "print(path)"
   ]
  },
  {
   "attachments": {},
   "cell_type": "markdown",
   "metadata": {},
   "source": [
    "Since all single winner CVRs are in the same format, with LOCATION_DATE_OFFICE.csv, we can parse and convert, repeating whatever the marked location is. Afterwards we add the additonal location information manually (sorry)."
   ]
  },
  {
   "cell_type": "code",
   "execution_count": 15,
   "metadata": {},
   "outputs": [],
   "source": [
    "def rename_files(directory):\n",
    "    for filename in os.listdir(directory):\n",
    "        if filename.endswith('.csv'):\n",
    "            # Extract details from the filename\n",
    "            parts = re.split('_', filename)  # This splits the filename at underscores and dots\n",
    "\n",
    "            # Here, we make some assumptions about how your current filenames are formatted\n",
    "            location = parts[0]  # e.g., Berkeley\n",
    "            date = parts[1]  # e.g., 11032020\n",
    "            office = parts[2].replace('.csv','')  # e.g., MemberCityCouncilDist2BerkeleyRCV\n",
    "\n",
    "            # Reformat the date\n",
    "            date = date[4:8] + '-' + date[0:2] + '-' + date[2:4]  # change from MMDDYYYY to YYYY-MM-DD\n",
    "\n",
    "            # Construct the new filename\n",
    "            new_filename = f'[{date}]_[{location},_{location},_{location}]_[{office}].cvr'\n",
    "\n",
    "            # Rename the file\n",
    "            os.rename(os.path.join(directory, filename), os.path.join(directory, new_filename))"
   ]
  },
  {
   "attachments": {},
   "cell_type": "markdown",
   "metadata": {},
   "source": [
    "Now we rename the single winner CVRs to the format described above."
   ]
  },
  {
   "cell_type": "code",
   "execution_count": 16,
   "metadata": {},
   "outputs": [
    {
     "name": "stdout",
     "output_type": "stream",
     "text": [
      "../cvr_records/raw/single\n"
     ]
    }
   ],
   "source": [
    "dir_path = os.path.join(base_dir, 'single')\n",
    "rename_files(dir_path)\n",
    "\n",
    "print(dir_path)"
   ]
  },
  {
   "attachments": {},
   "cell_type": "markdown",
   "metadata": {},
   "source": [
    "The final task now for the single winner CVRs is adding the additional location information, and standardizing the office names. Unfortunately, this has to be done manually (for now), but it is a one time task. \n",
    "\n",
    "Following from the single CVR procedure, we will now do the same for the sequential CVRs. However the sequential CVR dataset also include pretabulated CVRs, which are not needed for the analysis, so we will remove them.\n",
    "\n",
    "Once again the file names are manipulated in the \"raw\" folder with the following code:"
   ]
  },
  {
   "cell_type": "code",
   "execution_count": null,
   "metadata": {},
   "outputs": [],
   "source": [
    "def rename_files(directory):\n",
    "    for filename in os.listdir(directory):\n",
    "        if filename.endswith('.csv'):\n",
    "            # Extract details from the filename\n",
    "            parts = re.split('_', filename)  # This splits the filename at underscores and dots\n",
    "\n",
    "            # Here, we make some assumptions about how your current filenames are formatted\n",
    "            location = parts[0]  # e.g., Berkeley\n",
    "            date = parts[1]  # e.g., 11032020\n",
    "            office = parts[2].replace('.csv','')  # e.g., MemberCityCouncilDist2BerkeleyRCV\n",
    "\n",
    "            # If there exists a fourth part, it's the pretabulated CVR, so we delete the file\n",
    "            if len(parts) > 3:\n",
    "                os.remove(os.path.join(directory, filename))\n",
    "                continue\n",
    "\n",
    "            # Reformat the date\n",
    "            date = date[4:8] + '-' + date[0:2] + '-' + date[2:4]  # change from MMDDYYYY to YYYY-MM-DD\n",
    "\n",
    "            # Construct the new filename\n",
    "            new_filename = f'[{date}]_[{location},_{location},_{location}]_[{office}].cvr'\n",
    "\n",
    "            # Rename the file\n",
    "            os.rename(os.path.join(directory, filename), os.path.join(directory, new_filename))"
   ]
  },
  {
   "attachments": {},
   "cell_type": "markdown",
   "metadata": {},
   "source": [
    "Now we remove the pretabulated CVRs and rename the sequential CVRs to the format described above."
   ]
  },
  {
   "cell_type": "code",
   "execution_count": 17,
   "metadata": {},
   "outputs": [
    {
     "name": "stdout",
     "output_type": "stream",
     "text": [
      "../cvr_records/raw/sequential\n"
     ]
    }
   ],
   "source": [
    "dir_path = os.path.join(base_dir, 'sequential')\n",
    "rename_files(dir_path)\n",
    "\n",
    "print(dir_path)"
   ]
  },
  {
   "attachments": {},
   "cell_type": "markdown",
   "metadata": {},
   "source": [
    "Similar to the single CVRs, we will have to manually add the additional location information, and standardize the office names. Unfortunately, this has to be done manually (for now), but it is a one time task. \n",
    "\n",
    "Finally, we will do the same for the proportional CVRs. There is one CVR file that is not in a standard format, specifically \"Minneapolis 2013-board of estimation and taxation cvr.csv\", so we will have to manually rename it. Please go rename that now to either the output format or the standard input format.\n",
    "\n",
    "The code for the proportional CVRs is as follows:"
   ]
  },
  {
   "cell_type": "code",
   "execution_count": null,
   "metadata": {},
   "outputs": [],
   "source": []
  },
  {
   "attachments": {},
   "cell_type": "markdown",
   "metadata": {},
   "source": [
    "### TODO - Add proportional and sequential cvr renaming\n",
    "### TODO - Add additional location information to single winner cvrs\n",
    "### TODO - Standardize office names\n",
    "### TODO - Talk to Sam about GitHub LFS (CVRs are too large for 1GB free tier limit)"
   ]
  }
 ],
 "metadata": {
  "kernelspec": {
   "display_name": "Python 3",
   "language": "python",
   "name": "python3"
  },
  "language_info": {
   "codemirror_mode": {
    "name": "ipython",
    "version": 3
   },
   "file_extension": ".py",
   "mimetype": "text/x-python",
   "name": "python",
   "nbconvert_exporter": "python",
   "pygments_lexer": "ipython3",
   "version": "3.9.7"
  },
  "orig_nbformat": 4
 },
 "nbformat": 4,
 "nbformat_minor": 2
}
