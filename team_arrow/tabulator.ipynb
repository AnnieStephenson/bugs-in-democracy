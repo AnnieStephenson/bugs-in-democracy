{
 "cells": [
  {
   "cell_type": "code",
   "execution_count": 17,
   "metadata": {},
   "outputs": [],
   "source": [
    "import os\n",
    "\n",
    "#! Modified Minneapolis 2013-board of estimation and taxation cvr.csv to Minneapolis_01012013_board of estimation and taxation cvr.csv\n",
    "\n",
    "# list of election records\n",
    "elections = []\n",
    "\n",
    "# default dictionary for each election record\n",
    "election = {\n",
    "    'location': '',\n",
    "    'date': '',\n",
    "    'office': '',\n",
    "    'type': '',\n",
    "}\n",
    "\n",
    "# here we iterate over the CSV filenames in the tabulator_input directory\n",
    "subdirs = [x[0] for x in os.walk('tabulator_input')][1:]\n",
    "for subdir in subdirs:\n",
    "    files = os.walk(subdir).__next__()[2]\n",
    "\n",
    "    # get election type from subdir name\n",
    "    type = subdir.split('/')[1]\n",
    "    #print(type)\n",
    "\n",
    "    if (len(files) > 0):\n",
    "        for file in files:\n",
    "            \n",
    "            # create new election record\n",
    "            election = {}\n",
    "            election['type'] = type\n",
    "\n",
    "            # get election location from filename\n",
    "            location = file.split('_')[0]\n",
    "            election['location'] = location\n",
    "            #print(location)\n",
    "\n",
    "            # get election date from filename\n",
    "            date = file.split('_')[1]\n",
    "            date = date[0:2] + '/' + date[2:4] + '/' + date[4:]\n",
    "            election['date'] = date\n",
    "            #print(date)\n",
    "\n",
    "            # get election office from filename\n",
    "            office = file.split('_')[2]\n",
    "            election['office'] = office\n",
    "            #print(office)\n",
    "\n",
    "            # add election record to list\n",
    "            elections.append(election)\n",
    "            #print(election)"
   ]
  },
  {
   "cell_type": "code",
   "execution_count": null,
   "metadata": {},
   "outputs": [],
   "source": []
  }
 ],
 "metadata": {
  "kernelspec": {
   "display_name": "Python 3",
   "language": "python",
   "name": "python3"
  },
  "language_info": {
   "codemirror_mode": {
    "name": "ipython",
    "version": 3
   },
   "file_extension": ".py",
   "mimetype": "text/x-python",
   "name": "python",
   "nbconvert_exporter": "python",
   "pygments_lexer": "ipython3",
   "version": "3.9.7"
  },
  "orig_nbformat": 4
 },
 "nbformat": 4,
 "nbformat_minor": 2
}
