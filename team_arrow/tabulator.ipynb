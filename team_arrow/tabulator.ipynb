{
 "cells": [
  {
   "cell_type": "code",
   "execution_count": 5,
   "metadata": {},
   "outputs": [],
   "source": [
    "from rcv_cruncher import STVFractionalBallot, rank_column_csv\n",
    "\n",
    "# CVR file assumed to be downloaded and in current working directory\n",
    "cvr_file = 'tabulator_input/minneapolis2013.csv'\n",
    "out_dir = 'tabulator_output/minneapolis2013'\n",
    "\n",
    "# the constructor for the election class will run the tabulation\n",
    "election = STVFractionalBallot(\n",
    "     jurisdiction='Minneapolis',\n",
    "     state='MN',\n",
    "     year='2013',\n",
    "     office='Board of Estimates and Taxation',\n",
    "     parser_func=rank_column_csv,\n",
    "     parser_args={'cvr_path': cvr_file},\n",
    "     exhaust_on_duplicate_candidate_marks=False,\n",
    "     exhaust_on_overvote_marks=False,\n",
    "     exhaust_on_N_repeated_skipped_marks=0,\n",
    "     n_winners=2\n",
    " )\n",
    "\n",
    "# save a csv table of the results to out_dir\n",
    "STVFractionalBallot.write_round_by_round_table(election, out_dir)\n",
    "\n",
    "# or the json for RCVIS\n",
    "STVFractionalBallot.write_round_by_round_json(election, out_dir)"
   ]
  },
  {
   "cell_type": "code",
   "execution_count": null,
   "metadata": {},
   "outputs": [],
   "source": []
  }
 ],
 "metadata": {
  "kernelspec": {
   "display_name": "Python 3",
   "language": "python",
   "name": "python3"
  },
  "language_info": {
   "codemirror_mode": {
    "name": "ipython",
    "version": 3
   },
   "file_extension": ".py",
   "mimetype": "text/x-python",
   "name": "python",
   "nbconvert_exporter": "python",
   "pygments_lexer": "ipython3",
   "version": "3.11.4"
  },
  "orig_nbformat": 4
 },
 "nbformat": 4,
 "nbformat_minor": 2
}
