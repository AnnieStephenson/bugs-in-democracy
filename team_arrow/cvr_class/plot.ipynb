{
 "cells": [
  {
   "cell_type": "code",
   "execution_count": 5,
   "metadata": {},
   "outputs": [],
   "source": [
    "import parser \n",
    "import pandas as pd\n",
    "import itertools\n",
    "import numpy as np\n",
    "import os \n",
    "import matplotlib.pyplot as plt\n",
    "import seaborn as sns\n",
    "from voting_rules import voting_rules as vr\n",
    "import rcv_dimensionality\n",
    "from sklearn.linear_model import LinearRegression"
   ]
  },
  {
   "cell_type": "code",
   "execution_count": 6,
   "metadata": {},
   "outputs": [],
   "source": [
    "def is_consistent(ballot):\n",
    "    if len(ballot) == 0: \n",
    "        return (True, None) \n",
    "    if len(ballot) == 1:\n",
    "        return (True, ballot[0]) \n",
    "    x = 0 \n",
    "    v = 0.25\n",
    "    i = 1\n",
    "    while (i < len(ballot)):\n",
    "        if ballot[i] < ballot[i - 1]:\n",
    "            x -= (v * min(abs(ballot[i] - ballot[0]), abs(ballot[i] - ballot[i - 1])))\n",
    "        else:\n",
    "            x += (v * min(abs(ballot[i] - ballot[0]), abs(ballot[i] - ballot[i - 1])))\n",
    "        v *= 0.5\n",
    "        i += 1\n",
    "    l = []\n",
    "    if abs(x) >= (ballot[1] - ballot[0])/2 or x == 0:\n",
    "        return (False, x + ballot[0]) \n",
    "    x += ballot[0]\n",
    "    for c in ballot:\n",
    "        l.append(abs(c - x))\n",
    "    if(all(l[i] <= l[i + 1] for i in range(len(l) -  1))):\n",
    "        return (True, x)\n",
    "    return (False, x)"
   ]
  },
  {
   "cell_type": "code",
   "execution_count": 7,
   "metadata": {},
   "outputs": [],
   "source": [
    "def points(filename, mcp, mcp_num):\n",
    "\n",
    "    ballots, candidates = parser.parser(filename)\n",
    "    election = vr(ballots, candidates)\n",
    "    print (election.irv())\n",
    "    #plotting based on consistency based on the distances of the candiates\n",
    "    points = {}\n",
    "    temp = {}\n",
    "    for i in range(len(mcp)):\n",
    "        temp[mcp[i]] = mcp_num[i]\n",
    "    \n",
    "    for b in ballots:\n",
    "        b_num = []\n",
    "        for c in b:\n",
    "            b_num.append(temp[c])\n",
    "        \n",
    "        t = is_consistent(b_num)\n",
    "        if t[0] is True and t[1] is not None:\n",
    "            x = t[1] \n",
    "            if x not in points:\n",
    "                points[x] = 0\n",
    "            points[x] += ballots[b]\n",
    "    return points"
   ]
  },
  {
   "cell_type": "code",
   "execution_count": 8,
   "metadata": {},
   "outputs": [],
   "source": [
    "def get_points(file):\n",
    "    \n",
    "    d = rcv_dimensionality.perform_rcv_and_normalize(file)\n",
    "    mcp = []\n",
    "    mcp_num = []\n",
    "    for k in d:\n",
    "        mcp.append(k)\n",
    "        mcp_num.append(d[k])\n",
    "    \n",
    "    return points(file, mcp, mcp_num)"
   ]
  },
  {
   "cell_type": "code",
   "execution_count": null,
   "metadata": {},
   "outputs": [],
   "source": []
  }
 ],
 "metadata": {
  "kernelspec": {
   "display_name": "Python 3",
   "language": "python",
   "name": "python3"
  },
  "language_info": {
   "codemirror_mode": {
    "name": "ipython",
    "version": 3
   },
   "file_extension": ".py",
   "mimetype": "text/x-python",
   "name": "python",
   "nbconvert_exporter": "python",
   "pygments_lexer": "ipython3",
   "version": "3.9.7"
  },
  "orig_nbformat": 4
 },
 "nbformat": 4,
 "nbformat_minor": 2
}
