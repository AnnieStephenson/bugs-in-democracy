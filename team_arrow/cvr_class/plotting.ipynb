{
 "cells": [
  {
   "cell_type": "code",
   "execution_count": 1,
   "metadata": {},
   "outputs": [],
   "source": [
    "import parser \n",
    "import pandas as pd\n",
    "import itertools\n",
    "import numpy as np\n",
    "import os \n",
    "import matplotlib.pyplot as plt\n",
    "import seaborn as sns\n",
    "from voting_rules import voting_rules as vr"
   ]
  },
  {
   "cell_type": "code",
   "execution_count": 10,
   "metadata": {},
   "outputs": [],
   "source": [
    "def is_consistent(ballot):\n",
    "    if len(ballot) == 0: \n",
    "        return (True, None) \n",
    "    if len(ballot) == 1:\n",
    "        return (True, ballot[0]) \n",
    "    x = 0 \n",
    "    v = 0.25\n",
    "    i = 1\n",
    "    while (i < len(ballot)):\n",
    "        if ballot[i] < ballot[i - 1]:\n",
    "            x -= (v * min(abs(ballot[i] - ballot[0]), abs(ballot[i] - ballot[i - 1])))\n",
    "        else:\n",
    "            x += (v * min(abs(ballot[i] - ballot[0]), abs(ballot[i] - ballot[i - 1])))\n",
    "        v *= 0.5\n",
    "        i += 1\n",
    "    l = []\n",
    "    if abs(x) >= (ballot[1] - ballot[0])/2 or x == 0:\n",
    "        return (False, x + ballot[0]) \n",
    "    x += ballot[0]\n",
    "    for c in ballot:\n",
    "        l.append(abs(c - x))\n",
    "    if(all(l[i] <= l[i + 1] for i in range(len(l) -  1))):\n",
    "        return (True, x)\n",
    "    return (False, x)"
   ]
  },
  {
   "cell_type": "code",
   "execution_count": 14,
   "metadata": {},
   "outputs": [],
   "source": [
    "def plot(filename, mcp, mcp_num):\n",
    "\n",
    "    ballots, candidates = parser.parser(filename)\n",
    "    election = vr(ballots, candidates)\n",
    "    print (election.irv())\n",
    "    #plotting based on consistency based on the distances of the candiates\n",
    "    points = {}\n",
    "    temp = {}\n",
    "    for i in range(len(mcp)):\n",
    "        temp[mcp[i]] = mcp_num[i]\n",
    "    \n",
    "    for b in ballots:\n",
    "        b_num = []\n",
    "        for c in b:\n",
    "            b_num.append(temp[c])\n",
    "        \n",
    "        t = is_consistent(b_num)\n",
    "        if t[0] is True and t[1] is not None:\n",
    "            x = t[1] \n",
    "            if x not in points:\n",
    "                points[x] = 0\n",
    "            points[x] += ballots[b]\n",
    "    \n",
    "    \n",
    "    plt.figure(figsize=(10, 6))\n",
    "\n",
    "    for x, y in points.items():\n",
    "        plt.scatter(x, y, color='b')"
   ]
  },
  {
   "cell_type": "code",
   "execution_count": 15,
   "metadata": {},
   "outputs": [
    {
     "name": "stdout",
     "output_type": "stream",
     "text": [
      "DEM Golden, Jared F.\n"
     ]
    },
    {
     "data": {
      "image/png": "[encoded data removed]",
      "text/plain": [
       "<Figure size 1000x600 with 1 Axes>"
      ]
     },
     "metadata": {},
     "output_type": "display_data"
    }
   ],
   "source": [
    "plot(\"dataverse_files/Maine_11062018_CongressionalDistrict2.csv\", [\"REP Poliquin, Bruce\", \"Hoar, William R.S.\", \"Bond, Tiffany L.\", \"DEM Golden, Jared F.\" ], [1, 2, 3, 4])"
   ]
  },
  {
   "cell_type": "code",
   "execution_count": null,
   "metadata": {},
   "outputs": [],
   "source": []
  }
 ],
 "metadata": {
  "kernelspec": {
   "display_name": "Python 3",
   "language": "python",
   "name": "python3"
  },
  "language_info": {
   "codemirror_mode": {
    "name": "ipython",
    "version": 3
   },
   "file_extension": ".py",
   "mimetype": "text/x-python",
   "name": "python",
   "nbconvert_exporter": "python",
   "pygments_lexer": "ipython3",
   "version": "3.9.7"
  },
  "orig_nbformat": 4
 },
 "nbformat": 4,
 "nbformat_minor": 2
}
