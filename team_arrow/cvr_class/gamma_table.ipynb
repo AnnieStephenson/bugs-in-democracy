{
 "cells": [
  {
   "cell_type": "code",
   "execution_count": 8,
   "metadata": {},
   "outputs": [],
   "source": [
    "import parser \n",
    "import pandas as pd\n",
    "import itertools\n",
    "import numpy as np\n",
    "import os \n",
    "import matplotlib.pyplot as plt\n",
    "import seaborn as sns\n",
    "from voting_rules import voting_rules as vr\n",
    "import rcv_dimensionality\n",
    "import statistics\n",
    "import rcv_distribution"
   ]
  },
  {
   "cell_type": "code",
   "execution_count": 2,
   "metadata": {},
   "outputs": [],
   "source": [
    "def is_consistent(ballot):\n",
    "    if len(ballot) == 0 or len(ballot) == 1:\n",
    "        return True\n",
    "    x = 0 \n",
    "    v = 0.25\n",
    "    i = 1\n",
    "    while (i < len(ballot)):\n",
    "        if ballot[i] < ballot[i - 1]:\n",
    "            x -= (v * min(abs(ballot[i] - ballot[0]), abs(ballot[i] - ballot[i - 1])))\n",
    "        else:\n",
    "            x += (v * min(abs(ballot[i] - ballot[0]), abs(ballot[i] - ballot[i - 1])))\n",
    "        v *= 0.5\n",
    "        i += 1\n",
    "    l = []\n",
    "    if abs(x) >= 0.5 or x == 0:\n",
    "        return False \n",
    "    x += ballot[0]\n",
    "    for c in ballot:\n",
    "        l.append(abs(c - x))\n",
    "    if(all(l[i] <= l[i + 1] for i in range(len(l) -  1))):\n",
    "        return True \n",
    "    return False"
   ]
  },
  {
   "cell_type": "code",
   "execution_count": 3,
   "metadata": {},
   "outputs": [],
   "source": [
    "def dim(ballots, candidates):\n",
    "    perms = list(itertools.permutations(candidates))\n",
    "    #most consistant permutation\n",
    "    mcp = None\n",
    "    c_mcp = 0\n",
    "    x = len(candidates)\n",
    "    l = [i for i in range(1, x + 1)]\n",
    "    \n",
    "    for perm in perms:\n",
    "        temp = {}\n",
    "        i = 1\n",
    "        for candidate in perm:\n",
    "            temp[candidate] = i\n",
    "            i += 1\n",
    "        c = 0\n",
    "        total = 0\n",
    "        for b in ballots:\n",
    "            if len(b) > 0:\n",
    "                total += ballots[b]\n",
    "                b_num = []\n",
    "                for candidate in b:\n",
    "                    b_num.append(temp[candidate])\n",
    "                if (is_consistent(b_num)):\n",
    "                    c += ballots[b]\n",
    "            if mcp is None or c > c_mcp:\n",
    "                c_mcp = c\n",
    "                mcp = perm\n",
    "    return (c_mcp/total), mcp"
   ]
  },
  {
   "cell_type": "code",
   "execution_count": 4,
   "metadata": {},
   "outputs": [],
   "source": [
    "def get_gamma(mds, ballots, candidates):\n",
    "    mcp = []\n",
    "    mcp_num = []\n",
    "    for k in mds:\n",
    "        mcp.append(k)\n",
    "        mcp_num.append(mds[k])\n",
    "\n",
    "    perms = itertools.permutations(candidates)\n",
    "    c_mcp = 0\n",
    "    x = len(candidates)\n",
    "    \n",
    "    temp = {}\n",
    "    for i in range(len(mcp)):\n",
    "        temp[mcp[i]] = mcp_num[i]\n",
    "    c = 0\n",
    "    total = 0\n",
    "    for b in ballots:\n",
    "        if len(b) > 0:\n",
    "            total += ballots[b] \n",
    "            b_num = []\n",
    "            for candidate in b:\n",
    "                if candidate in mcp:\n",
    "                    b_num.append(temp[candidate])\n",
    "            if (is_consistent(b_num)):\n",
    "                c += ballots[b]\n",
    "    \n",
    "    return (c/total), mcp"
   ]
  },
  {
   "cell_type": "code",
   "execution_count": null,
   "metadata": {},
   "outputs": [],
   "source": [
    "def freq(ballots, candidates):\n",
    "    result_freq = {}\n",
    "    result_first = {}\n",
    "\n",
    "    frequency = {}\n",
    "    first = {}\n",
    "    empty = 0\n",
    "    for c in candidates:\n",
    "        frequency[c] = 0\n",
    "        first[c] = 0\n",
    "    \n",
    "    for b in ballots:\n",
    "        if len(b) > 0:\n",
    "            first[b[0]] += ballots[b]\n",
    "        else:\n",
    "            empty += ballots[b]\n",
    "        for c in b:\n",
    "            frequency[c] += ballots[b]\n",
    "    \n",
    "    total = sum(ballots.values())\n",
    "    total -= empty \n",
    "    for c in sorted(frequency):\n",
    "        result_freq[c] = (frequency[c]/total) * 100\n",
    "    for c in sorted(first):\n",
    "        result_first[c] = (first[c]/total) * 100\n",
    "    \n",
    "   \n",
    "    return result_freq, result_first\n",
    "\n",
    "\n"
   ]
  },
  {
   "cell_type": "code",
   "execution_count": null,
   "metadata": {},
   "outputs": [],
   "source": [
    "directory = \"dataverse_files\"\n",
    "elections = pd.read_csv(\"matched.csv\")\n",
    "election_analysis = pd.read_csv(\"election_analysis.csv\")\n",
    "\n",
    "for filename in os.listdir(directory):\n",
    "    \n",
    "    ballots, candidates = rcv_distribution.parse_election_data(os.path.join(directory, filename))\n",
    "    row_num = election_analysis[election_analysis[\"filename\"] == filename].index[0]\n",
    "\n",
    "    #mds\n",
    "    try:\n",
    "        mds = rcv_dimensionality.perform_rcv_and_normalize(os.path.join(directory, filename))\n",
    "        gamma_mds, mcp_mds = get_gamma(mds, ballots, candidates)\n",
    "        election_analysis.loc[row_num, \"gamma mds\"] = gamma_mds\n",
    "    except:\n",
    "        print(filename)\n",
    "\n",
    "    #brute force \n",
    "    gamma_bf, mcp_bf = dim(ballots, candidates)\n",
    "    election_analysis.loc[row_num, \"gamma bf\"] = gamma_bf\n",
    "\n",
    "    election_analysis.loc[row_num, \"candidates\"] = len(candidates)\n",
    "\n",
    "    data = pd.read_csv(os.path.join(directory, filename), low_memory=False)\n",
    "    choices = int(data.columns[-1][-1])\n",
    "    election_analysis.loc[row_num, \"choices\"] = choices\n",
    "    \n",
    "    freq, first = freq(ballots, candidates)\n",
    "    most_frequennt = []\n",
    "    for c in sorted(freq):\n",
    "        most_frequennt.append(freq[c])\n",
    "\n",
    "    for rank in range(1, min(6, len(candidates) + 1)):\n",
    "        column = '#' + str(rank) + \" candidate\"\n",
    "        election_analysis.loc[row_num, column] = most_frequennt[rank - 1]\n",
    "\n",
    "    \n",
    "   \n",
    "\n"
   ]
  },
  {
   "cell_type": "code",
   "execution_count": 10,
   "metadata": {},
   "outputs": [
    {
     "name": "stderr",
     "output_type": "stream",
     "text": [
      "/Users/Mahshad/Documents/GitHub/bugs-in-democracy/team_arrow/cvr_class/rcv_dimensionality.py:170: RuntimeWarning: divide by zero encountered in divide\n",
      "  distance = 1 / np.sqrt(freq_upper_triangle)\n"
     ]
    },
    {
     "name": "stdout",
     "output_type": "stream",
     "text": [
      "mds:  {'DEM Golden, Jared F.': 0.0, 'Bond, Tiffany L.': 0.9459271114896626, 'Hoar, William R.S.': 1.733120651865034, 'REP Poliquin, Bruce': 3.0}\n",
      "['REP Poliquin, Bruce', 'DEM Golden, Jared F.', 'Bond, Tiffany L.', 'Hoar, William R.S.']\n",
      "{('REP Poliquin, Bruce',): 89669, ('DEM Golden, Jared F.', 'Bond, Tiffany L.'): 10505, ('REP Poliquin, Bruce', 'DEM Golden, Jared F.', 'Bond, Tiffany L.', 'Hoar, William R.S.'): 3467, ('Hoar, William R.S.', 'REP Poliquin, Bruce', 'Bond, Tiffany L.', 'DEM Golden, Jared F.'): 306, (): 5928, ('DEM Golden, Jared F.', 'Bond, Tiffany L.', 'Hoar, William R.S.', 'REP Poliquin, Bruce'): 23140, ('REP Poliquin, Bruce', 'Hoar, William R.S.', 'Bond, Tiffany L.', 'DEM Golden, Jared F.'): 11600, ('Hoar, William R.S.', 'Bond, Tiffany L.', 'REP Poliquin, Bruce', 'DEM Golden, Jared F.'): 579, ('DEM Golden, Jared F.',): 51673, ('Hoar, William R.S.', 'REP Poliquin, Bruce', 'DEM Golden, Jared F.', 'Bond, Tiffany L.'): 200, ('DEM Golden, Jared F.', 'Hoar, William R.S.', 'REP Poliquin, Bruce'): 605, ('DEM Golden, Jared F.', 'Bond, Tiffany L.', 'Hoar, William R.S.'): 17464, ('Bond, Tiffany L.', 'DEM Golden, Jared F.', 'Hoar, William R.S.'): 948, ('REP Poliquin, Bruce', 'Hoar, William R.S.'): 2801, ('Bond, Tiffany L.', 'Hoar, William R.S.'): 1138, ('REP Poliquin, Bruce', 'Hoar, William R.S.', 'Bond, Tiffany L.'): 2748, ('Bond, Tiffany L.', 'Hoar, William R.S.', 'REP Poliquin, Bruce', 'DEM Golden, Jared F.'): 1210, ('REP Poliquin, Bruce', 'DEM Golden, Jared F.'): 3337, ('REP Poliquin, Bruce', 'Hoar, William R.S.', 'DEM Golden, Jared F.'): 398, ('DEM Golden, Jared F.', 'Hoar, William R.S.', 'Bond, Tiffany L.', 'REP Poliquin, Bruce'): 8105, ('Bond, Tiffany L.', 'DEM Golden, Jared F.', 'Hoar, William R.S.', 'REP Poliquin, Bruce'): 2187, ('Bond, Tiffany L.', 'REP Poliquin, Bruce', 'DEM Golden, Jared F.', 'Hoar, William R.S.'): 342, ('DEM Golden, Jared F.', 'Hoar, William R.S.'): 3250, ('DEM Golden, Jared F.', 'REP Poliquin, Bruce', 'Bond, Tiffany L.', 'Hoar, William R.S.'): 2763, ('Bond, Tiffany L.',): 4401, ('Bond, Tiffany L.', 'Hoar, William R.S.', 'DEM Golden, Jared F.', 'REP Poliquin, Bruce'): 2380, ('REP Poliquin, Bruce', 'Bond, Tiffany L.'): 2767, ('REP Poliquin, Bruce', 'Bond, Tiffany L.', 'Hoar, William R.S.', 'DEM Golden, Jared F.'): 8160, ('REP Poliquin, Bruce', 'Bond, Tiffany L.', 'DEM Golden, Jared F.'): 652, ('DEM Golden, Jared F.', 'Hoar, William R.S.', 'Bond, Tiffany L.'): 5827, ('REP Poliquin, Bruce', 'Bond, Tiffany L.', 'DEM Golden, Jared F.', 'Hoar, William R.S.'): 1759, ('Bond, Tiffany L.', 'DEM Golden, Jared F.', 'REP Poliquin, Bruce', 'Hoar, William R.S.'): 420, ('DEM Golden, Jared F.', 'Hoar, William R.S.', 'REP Poliquin, Bruce', 'Bond, Tiffany L.'): 709, ('DEM Golden, Jared F.', 'Bond, Tiffany L.', 'REP Poliquin, Bruce', 'Hoar, William R.S.'): 1281, ('DEM Golden, Jared F.', 'Bond, Tiffany L.', 'REP Poliquin, Bruce'): 806, ('REP Poliquin, Bruce', 'DEM Golden, Jared F.', 'Hoar, William R.S.', 'Bond, Tiffany L.'): 2212, ('Hoar, William R.S.', 'Bond, Tiffany L.', 'DEM Golden, Jared F.', 'REP Poliquin, Bruce'): 1087, ('Hoar, William R.S.', 'DEM Golden, Jared F.', 'Bond, Tiffany L.', 'REP Poliquin, Bruce'): 518, ('REP Poliquin, Bruce', 'Bond, Tiffany L.', 'Hoar, William R.S.'): 1992, ('DEM Golden, Jared F.', 'REP Poliquin, Bruce'): 3553, ('DEM Golden, Jared F.', 'REP Poliquin, Bruce', 'Hoar, William R.S.', 'Bond, Tiffany L.'): 1758, ('Hoar, William R.S.',): 2180, ('REP Poliquin, Bruce', 'DEM Golden, Jared F.', 'Bond, Tiffany L.'): 579, ('Bond, Tiffany L.', 'DEM Golden, Jared F.'): 1131, ('REP Poliquin, Bruce', 'Hoar, William R.S.', 'DEM Golden, Jared F.', 'Bond, Tiffany L.'): 1985, ('Hoar, William R.S.', 'REP Poliquin, Bruce'): 271, ('Hoar, William R.S.', 'DEM Golden, Jared F.'): 291, ('Bond, Tiffany L.', 'Hoar, William R.S.', 'DEM Golden, Jared F.'): 659, ('Bond, Tiffany L.', 'DEM Golden, Jared F.', 'REP Poliquin, Bruce'): 181, ('DEM Golden, Jared F.', 'REP Poliquin, Bruce', 'Hoar, William R.S.'): 167, ('Bond, Tiffany L.', 'Hoar, William R.S.', 'REP Poliquin, Bruce'): 310, ('Hoar, William R.S.', 'Bond, Tiffany L.', 'DEM Golden, Jared F.'): 290, ('Hoar, William R.S.', 'Bond, Tiffany L.', 'REP Poliquin, Bruce'): 179, ('Hoar, William R.S.', 'DEM Golden, Jared F.', 'REP Poliquin, Bruce'): 68, ('REP Poliquin, Bruce', 'DEM Golden, Jared F.', 'Hoar, William R.S.'): 232, ('Bond, Tiffany L.', 'REP Poliquin, Bruce'): 499, ('Hoar, William R.S.', 'REP Poliquin, Bruce', 'DEM Golden, Jared F.'): 52, ('DEM Golden, Jared F.', 'REP Poliquin, Bruce', 'Bond, Tiffany L.'): 539, ('Bond, Tiffany L.', 'REP Poliquin, Bruce', 'Hoar, William R.S.', 'DEM Golden, Jared F.'): 620, ('Hoar, William R.S.', 'DEM Golden, Jared F.', 'REP Poliquin, Bruce', 'Bond, Tiffany L.'): 122, ('Hoar, William R.S.', 'Bond, Tiffany L.'): 528, ('Bond, Tiffany L.', 'REP Poliquin, Bruce', 'DEM Golden, Jared F.'): 103, ('Hoar, William R.S.', 'DEM Golden, Jared F.', 'Bond, Tiffany L.'): 237, ('Hoar, William R.S.', 'REP Poliquin, Bruce', 'Bond, Tiffany L.'): 88, ('Bond, Tiffany L.', 'REP Poliquin, Bruce', 'Hoar, William R.S.'): 121}\n"
     ]
    }
   ],
   "source": [
    "file = \"dataverse_files/Maine_11062018_CongressionalDistrict2.csv\"\n",
    "\n",
    "\n",
    "mds = rcv_dimensionality.perform_rcv_and_normalize(file)\n",
    "print(\"mds: \", mds)\n",
    "\n",
    "ballots, candidates = rcv_distribution.parse_election_data(file)\n",
    "print(candidates)\n",
    "print(ballots)"
   ]
  },
  {
   "cell_type": "code",
   "execution_count": 13,
   "metadata": {},
   "outputs": [
    {
     "name": "stdout",
     "output_type": "stream",
     "text": [
      "5\n"
     ]
    }
   ],
   "source": [
    "file = \"dataverse_files/Maine_11062018_CongressionalDistrict2.csv\"\n",
    "data = pd.read_csv(file, low_memory=False)\n",
    "\n",
    "print(int(data.columns[-1][-1]))"
   ]
  },
  {
   "cell_type": "code",
   "execution_count": 15,
   "metadata": {},
   "outputs": [
    {
     "name": "stdout",
     "output_type": "stream",
     "text": [
      "mds: \n"
     ]
    },
    {
     "name": "stderr",
     "output_type": "stream",
     "text": [
      "/Users/Mahshad/Documents/GitHub/bugs-in-democracy/team_arrow/cvr_class/rcv_dimensionality.py:170: RuntimeWarning: divide by zero encountered in divide\n",
      "  distance = 1 / np.sqrt(freq_upper_triangle)\n"
     ]
    },
    {
     "name": "stdout",
     "output_type": "stream",
     "text": [
      "mcp:  ['Lynette Lungay Dumalag', 'John Basill']\n",
      "gamma:  1.0\n"
     ]
    }
   ],
   "source": [
    "print(\"mds: \")\n",
    "mds = rcv_dimensionality.perform_rcv_and_normalize(file)\n",
    "gamma, mcp = get_gamma(mds, ballots, candidates)\n",
    "print(\"mcp: \", mcp)\n",
    "print(\"gamma: \", gamma)"
   ]
  },
  {
   "cell_type": "code",
   "execution_count": 5,
   "metadata": {},
   "outputs": [
    {
     "name": "stdout",
     "output_type": "stream",
     "text": [
      "False\n"
     ]
    }
   ],
   "source": [
    "ignore_values = ['^(WRITE-IN)', '^writein', '^Write-In', '^Write-in', '^skipped', '^overvote', '^Undeclared', '^undervote']\n",
    "name = \"me(WRITE_IN)\"\n",
    "\n",
    "print(name in ignore_values)"
   ]
  },
  {
   "cell_type": "code",
   "execution_count": null,
   "metadata": {},
   "outputs": [],
   "source": []
  }
 ],
 "metadata": {
  "kernelspec": {
   "display_name": "Python 3",
   "language": "python",
   "name": "python3"
  },
  "language_info": {
   "codemirror_mode": {
    "name": "ipython",
    "version": 3
   },
   "file_extension": ".py",
   "mimetype": "text/x-python",
   "name": "python",
   "nbconvert_exporter": "python",
   "pygments_lexer": "ipython3",
   "version": "3.9.7"
  },
  "orig_nbformat": 4
 },
 "nbformat": 4,
 "nbformat_minor": 2
}
