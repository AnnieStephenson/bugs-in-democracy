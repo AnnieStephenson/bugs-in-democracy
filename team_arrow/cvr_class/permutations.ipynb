{
 "cells": [
  {
   "cell_type": "code",
   "execution_count": 1,
   "metadata": {},
   "outputs": [],
   "source": [
    "import parser \n",
    "import pandas as pd\n",
    "import itertools\n",
    "import numpy as np\n",
    "import os \n",
    "import matplotlib.pyplot as plt"
   ]
  },
  {
   "cell_type": "code",
   "execution_count": 3,
   "metadata": {},
   "outputs": [],
   "source": [
    "def is_consistant(ballot, perm):\n",
    "\n",
    "    if len(ballot) == 0:\n",
    "        return True\n",
    "    c = ballot[0]\n",
    "    index = 0\n",
    "    for i in range(len(perm)):\n",
    "        if (c == perm[i]):\n",
    "            index = i\n",
    "            break\n",
    "    def check(i, j, p):\n",
    "        '''\n",
    "        i: index in the ballot\n",
    "        j: index in the permutation\n",
    "        p = parent \n",
    "        '''\n",
    "        if j < 0 or j > len(perm):\n",
    "            return False\n",
    "        \n",
    "        if (i == len(ballot) - 1):\n",
    "            return True\n",
    "        \n",
    "        if (i == 0):\n",
    "            if (j + 1 >= len(perm)):\n",
    "                if ballot[i + 1] != perm[j - 1]:\n",
    "                    return False \n",
    "            if j - 1 < 0:\n",
    "                if ballot[i + 1] != perm[j + 1]:\n",
    "                    return False\n",
    "            if ballot[i + 1] != perm[j - 1] and ballot[i + 1] != perm[j + 1]:\n",
    "                return False\n",
    "\n",
    "        if p != j + 1 and j + 1 < len(perm) and ballot[i + 1] == perm[j + 1]:\n",
    "            return check(i + 1, j + 1, j)\n",
    "        elif p != j - 1 and ballot[i + 1] == perm[j - 1]:\n",
    "            return check(i + 1, j - 1, j)\n",
    "        else:\n",
    "            if p != j:\n",
    "                return check(i, p, p)\n",
    "            else:\n",
    "                return False\n",
    "    return check(0, index, -1)\n"
   ]
  },
  {
   "cell_type": "code",
   "execution_count": 7,
   "metadata": {},
   "outputs": [
    {
     "name": "stdout",
     "output_type": "stream",
     "text": [
      "0    0.0\n",
      "Name: Partisan, dtype: float64\n"
     ]
    }
   ],
   "source": [
    "df = pd.read_csv(\"MatchedElections.csv\")\n",
    "print(df.query(\"filename=='Cambridge_11032009_CityCouncil.csv'\")[\"Partisan\"])"
   ]
  },
  {
   "cell_type": "code",
   "execution_count": 4,
   "metadata": {},
   "outputs": [],
   "source": [
    "def dim():\n",
    "    df = pd.read_csv(\"MatchedElections.csv\")\n",
    "    directory = \"dataverse_files\"\n",
    "    d_p = {}\n",
    "    d_nonp = {}\n",
    "    label  = 0\n",
    "    for filename in os.listdir(directory):\n",
    "        label += 1\n",
    "        ballots, candidates = parser.parser(os.path.join(directory, filename))\n",
    "        x = len(candidates)\n",
    "        partisan = False\n",
    "        if x <=6:\n",
    "            if filename not in df[\"filename\"]:\n",
    "                print(filename)\n",
    "                continue\n",
    "            s = \"filename==\" + filename\n",
    "            if df.query(s)[\"Partisan\"] == 0:\n",
    "                partisan = False\n",
    "            else:\n",
    "                partisan = True\n",
    "            if partisan:\n",
    "                if x not in d_p:\n",
    "                    d_p[x] = []\n",
    "            else:\n",
    "                if x not in d_nonp:\n",
    "                    d_nonp[x] = []\n",
    "            print(d_p)\n",
    "            print(d_nonp)\n",
    "            perms = list(itertools.permutations(candidates))\n",
    "            #most consistant permutation\n",
    "            mcp = None\n",
    "            c_mcp = 0\n",
    "            for p in perms:\n",
    "                c = 0\n",
    "                for b in ballots:\n",
    "                    if (is_consistant(b, p)):\n",
    "                        c += ballots[b]\n",
    "                if mcp is None or c > c_mcp:\n",
    "                    c_mcp = c\n",
    "                    mcp = p\n",
    "            if partisan:\n",
    "                d_p[x].append(c_mcp/sum(ballots.values()))\n",
    "            else:\n",
    "                d_nonp[x].append(c_mcp/sum(ballots.values()))\n",
    "            '''print(filename)\n",
    "        print(\"MCP: \", mcp)\n",
    "        print (\"Consistanty: \", c_mcp, \"%: \", (100*(c_mcp/sum(ballots.values()))))\n",
    "        print()'''\n",
    "    #print(d)\n",
    "    return d_p, d_nonp\n",
    "\n"
   ]
  },
  {
   "cell_type": "code",
   "execution_count": 5,
   "metadata": {},
   "outputs": [
    {
     "name": "stdout",
     "output_type": "stream",
     "text": [
      "Oakland_11042014_SchoolDirectorDistrict2.csv\n",
      "Albany_11082022_CityCouncil.csv\n",
      "Berkeley_11032020_MemberCityCouncilDist2BerkeleyRCV.csv\n",
      "Berkeley_11042014_CityAuditor.csv\n",
      "Alaska_11082022_HouseDistrict23.csv\n",
      "Berkeley_11042014_CityCouncilDistrict8.csv\n",
      "Alaska_11082022_HouseDistrict37.csv\n",
      "Minneapolis_11072017_Ward6CityCouncil.csv\n",
      "Oakland_11082016_CouncilAtLrg.csv\n",
      "SanFrancisco_11082016_BoardofSupervisorsDistrict7.csv\n",
      "Berkeley_11062018_CityCouncilDistrict1.csv\n",
      "NewYorkCity_06222021_REPCouncilMember23rdCouncilDistrict.csv\n",
      "Minneapolis_11062009_PRBoardDistrict6.csv\n",
      "Minneapolis_11062009_Ward10CityCouncil.csv\n",
      "Minneapolis_11052013_PRBoardDistrict2.csv\n",
      "LasCruces_11052019_COUNCILORPOSITION2CITYOFLASCRUCESDISTRICT2COUNCILOR.csv\n",
      "Maine_07142020_DemocraticCandidateforMaineStateHouseDistrict90.csv\n",
      "SanFrancisco_11032020_BOARDOFSUPERVISORSDISTRICT9.csv\n",
      "Oakland_11062012_CityAttorney.csv\n",
      "Alaska_11082022_HouseDistrict36.csv\n",
      "Alaska_11082022_HouseDistrict22.csv\n",
      "Maine_07142020_DemocraticCandidateforMaineStateHouseDistrict47.csv\n",
      "SantaFe_03062018_Mayor.csv\n",
      "Maine_11082022_CongressionalDistrict2.csv\n",
      "Springville_11022021_Mayor.csv\n",
      "LasCruces_11052019_COUNCILORPOSITION4CITYOFLASCRUCESDISTRICT4COUNCILOR.csv\n"
     ]
    },
    {
     "name": "stdout",
     "output_type": "stream",
     "text": [
      "SanLeandro_11062018_Mayor.csv\n",
      "SantaFe_03062018_CityCouncilDistrict4.csv\n",
      "Corvallis_11082022_CityCouncilWard9.csv\n",
      "Oakland_11022010_SchoolDirectorDistrict6.csv\n"
     ]
    }
   ],
   "source": [
    "d_p, d_nonp = dim()"
   ]
  },
  {
   "cell_type": "code",
   "execution_count": 11,
   "metadata": {},
   "outputs": [
    {
     "name": "stdout",
     "output_type": "stream",
     "text": [
      "{}\n"
     ]
    }
   ],
   "source": [
    "print(d_nonp)"
   ]
  },
  {
   "cell_type": "code",
   "execution_count": 6,
   "metadata": {},
   "outputs": [
    {
     "data": {
      "text/plain": [
       "<Figure size 1000x600 with 0 Axes>"
      ]
     },
     "metadata": {},
     "output_type": "display_data"
    }
   ],
   "source": [
    "plt.figure(figsize=(10, 6))\n",
    "\n",
    "for x, y_values in d_p.items():\n",
    "    for y in y_values:\n",
    "        plt.scatter(x, y, color='r')\n",
    "\n",
    "\"\"\"for x, y_values in d_nonp.items():\n",
    "    for y in y_values:\n",
    "        plt.scatter(x, y, color='b')\"\"\"\n",
    "plt.show()"
   ]
  },
  {
   "cell_type": "code",
   "execution_count": 7,
   "metadata": {},
   "outputs": [
    {
     "data": {
      "text/plain": [
       "<Figure size 1000x600 with 0 Axes>"
      ]
     },
     "metadata": {},
     "output_type": "display_data"
    }
   ],
   "source": [
    "plt.figure(figsize=(10, 6))\n",
    "\n",
    "for x, y_values in d_p.items():\n",
    "    for y in y_values:\n",
    "        plt.scatter(x, y, color='r')\n",
    "\n",
    "for x, y_values in d_nonp.items():\n",
    "    for y in y_values:\n",
    "        plt.scatter(x, y, color='b')\n",
    "plt.show()"
   ]
  },
  {
   "cell_type": "code",
   "execution_count": null,
   "metadata": {},
   "outputs": [],
   "source": []
  }
 ],
 "metadata": {
  "kernelspec": {
   "display_name": "Python 3",
   "language": "python",
   "name": "python3"
  },
  "language_info": {
   "codemirror_mode": {
    "name": "ipython",
    "version": 3
   },
   "file_extension": ".py",
   "mimetype": "text/x-python",
   "name": "python",
   "nbconvert_exporter": "python",
   "pygments_lexer": "ipython3",
   "version": "3.9.7"
  },
  "orig_nbformat": 4
 },
 "nbformat": 4,
 "nbformat_minor": 2
}
