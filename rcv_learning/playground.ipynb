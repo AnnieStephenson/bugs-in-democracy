{
 "cells": [
  {
   "cell_type": "code",
   "execution_count": 1,
   "metadata": {},
   "outputs": [],
   "source": [
    "import seaborn as sns\n",
    "\n",
    "from rcv_distribution import *"
   ]
  },
  {
   "cell_type": "code",
   "execution_count": 2,
   "metadata": {},
   "outputs": [
    {
     "name": "stderr",
     "output_type": "stream",
     "text": [
      "/Users/es5891/Documents/GitHub/bugs-in-democracy/rcv_learning/rcv_dimensionality.py:170: RuntimeWarning: divide by zero encountered in divide\n",
      "  distance = 1 / np.sqrt(freq_upper_triangle)\n"
     ]
    },
    {
     "data": {
      "text/plain": [
       "{0.0: 89669,\n",
       " 0.47423947404876676: 11600,\n",
       " 1.4136378554535023: 579,\n",
       " 3.0: 51673,\n",
       " 2.192155473835831: 948,\n",
       " 0.3167198370337414: 2801,\n",
       " 0.41511902958066277: 2748,\n",
       " 0.75: 3337,\n",
       " 0.5333599185168707: 398,\n",
       " 2.0540728885103365: 4401,\n",
       " 0.5135182221275841: 2767,\n",
       " 0.6317591110637921: 652,\n",
       " 1.5027386629065809: 1087,\n",
       " 1.2668793481349656: 2180,\n",
       " 2.2905546663827523: 1131,\n",
       " 1.7001595111012242: 291,\n",
       " 2.03379555531896: 181,\n",
       " 1.5819186221650163: 290,\n",
       " 1.3053178147119375: 179,\n",
       " 1.5417995925843535: 68,\n",
       " 1.4636777332288085: 528}"
      ]
     },
     "execution_count": 2,
     "metadata": {},
     "output_type": "execute_result"
    }
   ],
   "source": [
    "# Get the consistency points for the election\n",
    "points = get_consistency_points(\"../rcv_elections_database/classic/Maine_11062018_CongressionalDistrict2.csv\")\n",
    "\n",
    "points"
   ]
  },
  {
   "cell_type": "code",
   "execution_count": 3,
   "metadata": {},
   "outputs": [
    {
     "data": {
      "text/plain": [
       "0.9173969066559533"
      ]
     },
     "execution_count": 3,
     "metadata": {},
     "output_type": "execute_result"
    }
   ],
   "source": [
    "import numpy as np\n",
    "from scipy.stats import kurtosis, skew\n",
    "\n",
    "# Create a list of data points\n",
    "data_points = []\n",
    "for key, value in points.items():\n",
    "    data_points.extend([key] * value)\n",
    "\n",
    "# Convert to numpy array\n",
    "data_points = np.array(data_points)\n",
    "\n",
    "# Calculate skewness and kurtosis\n",
    "g = skew(data_points)\n",
    "k = kurtosis(data_points)\n",
    "\n",
    "# Calculate bimodality coefficient\n",
    "n = len(data_points)\n",
    "BC = (g**2 + 1) / (k + 3 * (n-1)**2 / ((n-2) * (n-3)))\n",
    "\n",
    "BC"
   ]
  },
  {
   "cell_type": "code",
   "execution_count": null,
   "metadata": {},
   "outputs": [],
   "source": [
    "# Get the consistency points for the election\n",
    "points = get_consistency_points(\"../rcv_elections_database/classic/Maine_11062018_CongressionalDistrict2.csv\")\n",
    "\n",
    "# Prepare data for histogram\n",
    "data_list = [x for x, count in points.items() for _ in range(count)]\n",
    "\n",
    "# Plot histogram\n",
    "plt.figure(figsize=(5, 3))\n",
    "plt.hist(data_list, bins=50, density=True, alpha=0.7)\n",
    "plt.title('Histogram of Data')\n",
    "plt.xlabel('Value')\n",
    "plt.ylabel('Density')\n",
    "plt.grid(True)\n",
    "plt.show()\n",
    "\n",
    "# Plot kernal density estimation\n",
    "plt.figure(figsize=(5, 3))\n",
    "sns.kdeplot(data_list, fill=True)\n",
    "plt.title('Kernel Density Estimation of Data')\n",
    "plt.xlabel('Value')\n",
    "plt.ylabel('Density')\n",
    "plt.grid(True)\n",
    "plt.show()"
   ]
  },
  {
   "cell_type": "code",
   "execution_count": null,
   "metadata": {},
   "outputs": [],
   "source": [
    "# Get the consistency points for the election\n",
    "points = get_consistency_points(\"../rcv_elections_database/classic/Alaska_11082022_USRepresentative.csv\")\n",
    "\n",
    "# Prepare data for histogram\n",
    "data_list = [x for x, count in points.items() for _ in range(count)]\n",
    "\n",
    "# Plot histogram\n",
    "plt.figure(figsize=(5, 3))\n",
    "plt.hist(data_list, bins=50, density=True, alpha=0.7)\n",
    "plt.title('Histogram of Data')\n",
    "plt.xlabel('Value')\n",
    "plt.ylabel('Density')\n",
    "plt.grid(True)\n",
    "plt.show()\n",
    "\n",
    "# Plot kernal density estimation\n",
    "plt.figure(figsize=(5, 3))\n",
    "sns.kdeplot(data_list, fill=True)\n",
    "plt.title('Kernel Density Estimation of Data')\n",
    "plt.xlabel('Value')\n",
    "plt.ylabel('Density')\n",
    "plt.grid(True)\n",
    "plt.show()"
   ]
  },
  {
   "cell_type": "code",
   "execution_count": null,
   "metadata": {},
   "outputs": [],
   "source": [
    "# Get the consistency points for the election\n",
    "points = get_consistency_points(\"../rcv_elections_database/classic/Alaska_08162022_HouseofRepresentativesSpecial.csv\")\n",
    "\n",
    "# Prepare data for histogram\n",
    "data_list = [x for x, count in points.items() for _ in range(count)]\n",
    "\n",
    "# Plot histogram\n",
    "plt.figure(figsize=(5, 3))\n",
    "plt.hist(data_list, bins=50, density=True, alpha=0.7)\n",
    "plt.title('Histogram of Data')\n",
    "plt.xlabel('Value')\n",
    "plt.ylabel('Density')\n",
    "plt.grid(True)\n",
    "plt.show()\n",
    "\n",
    "# Plot kernal density estimation\n",
    "plt.figure(figsize=(5, 3))\n",
    "sns.kdeplot(data_list, fill=True)\n",
    "plt.title('Kernel Density Estimation of Data')\n",
    "plt.xlabel('Value')\n",
    "plt.ylabel('Density')\n",
    "plt.grid(True)\n",
    "plt.show()"
   ]
  },
  {
   "cell_type": "code",
   "execution_count": null,
   "metadata": {},
   "outputs": [],
   "source": [
    "# Get the consistency points for the election\n",
    "points = get_consistency_points(\"../rcv_elections_database/classic/Alaska_04102020_PRESIDENTOFTHEUNITEDSTATES.csv\")\n",
    "\n",
    "# Prepare data for histogram\n",
    "data_list = [x for x, count in points.items() for _ in range(count)]\n",
    "\n",
    "# Plot histogram\n",
    "plt.figure(figsize=(5, 3))\n",
    "plt.hist(data_list, bins=50, density=True, alpha=0.7)\n",
    "plt.title('Histogram of Data')\n",
    "plt.xlabel('Value')\n",
    "plt.ylabel('Density')\n",
    "plt.grid(True)\n",
    "plt.show()\n",
    "\n",
    "# Plot kernal density estimation\n",
    "plt.figure(figsize=(5, 3))\n",
    "sns.kdeplot(data_list, fill=True)\n",
    "plt.title('Kernel Density Estimation of Data')\n",
    "plt.xlabel('Value')\n",
    "plt.ylabel('Density')\n",
    "plt.grid(True)\n",
    "plt.show()"
   ]
  },
  {
   "cell_type": "code",
   "execution_count": null,
   "metadata": {},
   "outputs": [],
   "source": [
    "# Get the consistency points for the election\n",
    "points = get_consistency_points(\"../rcv_elections_database/classic/NewYorkCity_06222021_DEMMayorCitywide.csv\")\n",
    "\n",
    "# Prepare data for histogram\n",
    "data_list = [x for x, count in points.items() for _ in range(count)]\n",
    "\n",
    "# Plot histogram\n",
    "plt.figure(figsize=(5, 3))\n",
    "plt.hist(data_list, bins=50, density=True, alpha=0.7)\n",
    "plt.title('Histogram of Data')\n",
    "plt.xlabel('Value')\n",
    "plt.ylabel('Density')\n",
    "plt.grid(True)\n",
    "plt.show()\n",
    "\n",
    "# Plot kernal density estimation\n",
    "plt.figure(figsize=(5, 3))\n",
    "sns.kdeplot(data_list, fill=True)\n",
    "plt.title('Kernel Density Estimation of Data')\n",
    "plt.xlabel('Value')\n",
    "plt.ylabel('Density')\n",
    "plt.grid(True)\n",
    "plt.show()"
   ]
  }
 ],
 "metadata": {
  "kernelspec": {
   "display_name": "Python 3",
   "language": "python",
   "name": "python3"
  },
  "language_info": {
   "codemirror_mode": {
    "name": "ipython",
    "version": 3
   },
   "file_extension": ".py",
   "mimetype": "text/x-python",
   "name": "python",
   "nbconvert_exporter": "python",
   "pygments_lexer": "ipython3",
   "version": "3.9.7"
  },
  "orig_nbformat": 4
 },
 "nbformat": 4,
 "nbformat_minor": 2
}
