{
 "cells": [
  {
   "cell_type": "code",
   "execution_count": 4,
   "metadata": {},
   "outputs": [],
   "source": [
    "import seaborn as sns\n",
    "\n",
    "from rcv_distribution import *"
   ]
  },
  {
   "cell_type": "code",
   "execution_count": 8,
   "metadata": {},
   "outputs": [
    {
     "name": "stdout",
     "output_type": "stream",
     "text": [
      "../rcv_elections_database/CandidateDetails.csv\n",
      "Error in file: ../rcv_elections_database/CandidateDetails.csv\n",
      "../rcv_elections_database/SingleWinnerRCV.csv\n",
      "Error in file: ../rcv_elections_database/SingleWinnerRCV.csv\n",
      "../rcv_elections_database/MatchedElections.csv\n",
      "Error in file: ../rcv_elections_database/MatchedElections.csv\n",
      "../rcv_elections_database/SequentialRCV.csv\n",
      "Error in file: ../rcv_elections_database/SequentialRCV.csv\n",
      "../rcv_elections_database/ProportionalRCV.csv\n",
      "Error in file: ../rcv_elections_database/ProportionalRCV.csv\n",
      "../rcv_elections_database/proportional/Minneapolis_11072017_BoardofEstimateandTaxation.csv\n"
     ]
    },
    {
     "name": "stderr",
     "output_type": "stream",
     "text": [
      "/Users/es5891/Documents/GitHub/bugs-in-democracy/rcv_learning/rcv_dimensionality.py:159: RuntimeWarning: invalid value encountered in divide\n",
      "  frequencies = counts / mentioned_together\n",
      "/Users/es5891/Documents/GitHub/bugs-in-democracy/rcv_learning/rcv_dimensionality.py:170: RuntimeWarning: divide by zero encountered in divide\n",
      "  distance = 1 / np.sqrt(freq_upper_triangle)\n"
     ]
    },
    {
     "name": "stdout",
     "output_type": "stream",
     "text": [
      "../rcv_elections_database/proportional/Minneapolis_11072017_ParkBoardAtLarge.csv\n"
     ]
    },
    {
     "name": "stderr",
     "output_type": "stream",
     "text": [
      "/Users/es5891/Documents/GitHub/bugs-in-democracy/rcv_learning/rcv_dimensionality.py:159: RuntimeWarning: divide by zero encountered in divide\n",
      "  frequencies = counts / mentioned_together\n",
      "/Users/es5891/Documents/GitHub/bugs-in-democracy/rcv_learning/rcv_dimensionality.py:170: RuntimeWarning: divide by zero encountered in divide\n",
      "  distance = 1 / np.sqrt(freq_upper_triangle)\n"
     ]
    },
    {
     "name": "stdout",
     "output_type": "stream",
     "text": [
      "../rcv_elections_database/proportional/Cambridge_11082011_CityCouncil.csv\n"
     ]
    },
    {
     "name": "stderr",
     "output_type": "stream",
     "text": [
      "/Users/es5891/Documents/GitHub/bugs-in-democracy/rcv_learning/rcv_dimensionality.py:170: RuntimeWarning: divide by zero encountered in divide\n",
      "  distance = 1 / np.sqrt(freq_upper_triangle)\n"
     ]
    },
    {
     "name": "stdout",
     "output_type": "stream",
     "text": [
      "../rcv_elections_database/proportional/Minneapolis_11022021_BoardofEstimateandTaxationAtLarge.csv\n"
     ]
    },
    {
     "name": "stderr",
     "output_type": "stream",
     "text": [
      "/Users/es5891/Documents/GitHub/bugs-in-democracy/rcv_learning/rcv_dimensionality.py:170: RuntimeWarning: divide by zero encountered in divide\n",
      "  distance = 1 / np.sqrt(freq_upper_triangle)\n"
     ]
    },
    {
     "name": "stdout",
     "output_type": "stream",
     "text": [
      "../rcv_elections_database/proportional/Cambridge_11152019_CityCouncil.csv\n"
     ]
    },
    {
     "name": "stderr",
     "output_type": "stream",
     "text": [
      "/Users/es5891/Documents/GitHub/bugs-in-democracy/rcv_learning/rcv_dimensionality.py:170: RuntimeWarning: divide by zero encountered in divide\n",
      "  distance = 1 / np.sqrt(freq_upper_triangle)\n"
     ]
    },
    {
     "name": "stdout",
     "output_type": "stream",
     "text": [
      "../rcv_elections_database/proportional/Minneapolis_11062009_BoardofEstimateandTaxation.csv\n"
     ]
    },
    {
     "name": "stderr",
     "output_type": "stream",
     "text": [
      "/Users/es5891/Documents/GitHub/bugs-in-democracy/rcv_learning/rcv_dimensionality.py:170: RuntimeWarning: divide by zero encountered in divide\n",
      "  distance = 1 / np.sqrt(freq_upper_triangle)\n"
     ]
    },
    {
     "name": "stdout",
     "output_type": "stream",
     "text": [
      "../rcv_elections_database/proportional/Cambridge_11072017_CityCouncil.csv\n"
     ]
    },
    {
     "name": "stderr",
     "output_type": "stream",
     "text": [
      "/Users/es5891/Documents/GitHub/bugs-in-democracy/rcv_learning/rcv_dimensionality.py:170: RuntimeWarning: divide by zero encountered in divide\n",
      "  distance = 1 / np.sqrt(freq_upper_triangle)\n"
     ]
    },
    {
     "name": "stdout",
     "output_type": "stream",
     "text": [
      "../rcv_elections_database/proportional/Cambridge_11062001_CityCouncil.csv\n"
     ]
    },
    {
     "name": "stderr",
     "output_type": "stream",
     "text": [
      "/Users/es5891/Documents/GitHub/bugs-in-democracy/rcv_learning/rcv_dimensionality.py:170: RuntimeWarning: divide by zero encountered in divide\n",
      "  distance = 1 / np.sqrt(freq_upper_triangle)\n"
     ]
    },
    {
     "name": "stdout",
     "output_type": "stream",
     "text": [
      "../rcv_elections_database/proportional/Cambridge_11032009_CityCouncil.csv\n"
     ]
    },
    {
     "name": "stderr",
     "output_type": "stream",
     "text": [
      "/Users/es5891/Documents/GitHub/bugs-in-democracy/rcv_learning/rcv_dimensionality.py:170: RuntimeWarning: divide by zero encountered in divide\n",
      "  distance = 1 / np.sqrt(freq_upper_triangle)\n"
     ]
    },
    {
     "name": "stdout",
     "output_type": "stream",
     "text": [
      "../rcv_elections_database/proportional/Cambridge_11062007_SchoolCommittee.csv\n"
     ]
    },
    {
     "name": "stderr",
     "output_type": "stream",
     "text": [
      "/Users/es5891/Documents/GitHub/bugs-in-democracy/rcv_learning/rcv_dimensionality.py:170: RuntimeWarning: divide by zero encountered in divide\n",
      "  distance = 1 / np.sqrt(freq_upper_triangle)\n"
     ]
    },
    {
     "name": "stdout",
     "output_type": "stream",
     "text": [
      "../rcv_elections_database/proportional/Cambridge_11052013_SchoolCommittee.csv\n"
     ]
    },
    {
     "name": "stderr",
     "output_type": "stream",
     "text": [
      "/Users/es5891/Documents/GitHub/bugs-in-democracy/rcv_learning/rcv_dimensionality.py:170: RuntimeWarning: divide by zero encountered in divide\n",
      "  distance = 1 / np.sqrt(freq_upper_triangle)\n"
     ]
    },
    {
     "name": "stdout",
     "output_type": "stream",
     "text": [
      "../rcv_elections_database/proportional/Eastpointe_11022021_CityCouncil.csv\n"
     ]
    },
    {
     "name": "stderr",
     "output_type": "stream",
     "text": [
      "/Users/es5891/Documents/GitHub/bugs-in-democracy/rcv_learning/rcv_dimensionality.py:170: RuntimeWarning: divide by zero encountered in divide\n",
      "  distance = 1 / np.sqrt(freq_upper_triangle)\n"
     ]
    },
    {
     "name": "stdout",
     "output_type": "stream",
     "text": [
      "../rcv_elections_database/proportional/Cambridge_11062007_CityCouncil.csv\n"
     ]
    },
    {
     "name": "stderr",
     "output_type": "stream",
     "text": [
      "/Users/es5891/Documents/GitHub/bugs-in-democracy/rcv_learning/rcv_dimensionality.py:170: RuntimeWarning: divide by zero encountered in divide\n",
      "  distance = 1 / np.sqrt(freq_upper_triangle)\n"
     ]
    },
    {
     "name": "stdout",
     "output_type": "stream",
     "text": [
      "../rcv_elections_database/proportional/Cambridge_11152019_SchoolCommittee.csv\n"
     ]
    },
    {
     "name": "stderr",
     "output_type": "stream",
     "text": [
      "/Users/es5891/Documents/GitHub/bugs-in-democracy/rcv_learning/rcv_dimensionality.py:170: RuntimeWarning: divide by zero encountered in divide\n",
      "  distance = 1 / np.sqrt(freq_upper_triangle)\n"
     ]
    },
    {
     "name": "stdout",
     "output_type": "stream",
     "text": [
      "../rcv_elections_database/proportional/Cambridge_11032015_SchoolCommittee.csv\n"
     ]
    },
    {
     "name": "stderr",
     "output_type": "stream",
     "text": [
      "/Users/es5891/Documents/GitHub/bugs-in-democracy/rcv_learning/rcv_dimensionality.py:170: RuntimeWarning: divide by zero encountered in divide\n",
      "  distance = 1 / np.sqrt(freq_upper_triangle)\n"
     ]
    },
    {
     "name": "stdout",
     "output_type": "stream",
     "text": [
      "../rcv_elections_database/proportional/Cambridge_11082011_SchoolCommittee.csv\n"
     ]
    },
    {
     "name": "stderr",
     "output_type": "stream",
     "text": [
      "/Users/es5891/Documents/GitHub/bugs-in-democracy/rcv_learning/rcv_dimensionality.py:170: RuntimeWarning: divide by zero encountered in divide\n",
      "  distance = 1 / np.sqrt(freq_upper_triangle)\n"
     ]
    },
    {
     "name": "stdout",
     "output_type": "stream",
     "text": [
      "../rcv_elections_database/proportional/Minneapolis_11052013_ParkRecBoardAtLarge.csv\n"
     ]
    },
    {
     "name": "stderr",
     "output_type": "stream",
     "text": [
      "/Users/es5891/Documents/GitHub/bugs-in-democracy/rcv_learning/rcv_dimensionality.py:170: RuntimeWarning: divide by zero encountered in divide\n",
      "  distance = 1 / np.sqrt(freq_upper_triangle)\n"
     ]
    },
    {
     "name": "stdout",
     "output_type": "stream",
     "text": [
      "../rcv_elections_database/proportional/Eastpointe_11052019_CityCouncil.csv\n"
     ]
    },
    {
     "name": "stderr",
     "output_type": "stream",
     "text": [
      "/Users/es5891/Documents/GitHub/bugs-in-democracy/rcv_learning/rcv_dimensionality.py:170: RuntimeWarning: divide by zero encountered in divide\n",
      "  distance = 1 / np.sqrt(freq_upper_triangle)\n"
     ]
    },
    {
     "name": "stdout",
     "output_type": "stream",
     "text": [
      "../rcv_elections_database/proportional/Cambridge_11052013_CityCouncil.csv\n"
     ]
    },
    {
     "name": "stderr",
     "output_type": "stream",
     "text": [
      "/Users/es5891/Documents/GitHub/bugs-in-democracy/rcv_learning/rcv_dimensionality.py:170: RuntimeWarning: divide by zero encountered in divide\n",
      "  distance = 1 / np.sqrt(freq_upper_triangle)\n"
     ]
    },
    {
     "name": "stdout",
     "output_type": "stream",
     "text": [
      "../rcv_elections_database/proportional/Minneapolis_11062009_MinneapolisParkRecBoard.csv\n"
     ]
    },
    {
     "name": "stderr",
     "output_type": "stream",
     "text": [
      "/Users/es5891/Documents/GitHub/bugs-in-democracy/rcv_learning/rcv_dimensionality.py:170: RuntimeWarning: divide by zero encountered in divide\n",
      "  distance = 1 / np.sqrt(freq_upper_triangle)\n"
     ]
    },
    {
     "name": "stdout",
     "output_type": "stream",
     "text": [
      "../rcv_elections_database/proportional/Cambridge_11042003_SchoolCommittee.csv\n"
     ]
    },
    {
     "name": "stderr",
     "output_type": "stream",
     "text": [
      "/Users/es5891/Documents/GitHub/bugs-in-democracy/rcv_learning/rcv_dimensionality.py:170: RuntimeWarning: divide by zero encountered in divide\n",
      "  distance = 1 / np.sqrt(freq_upper_triangle)\n"
     ]
    },
    {
     "name": "stdout",
     "output_type": "stream",
     "text": [
      "../rcv_elections_database/proportional/Cambridge_11072017_SchoolCommittee.csv\n"
     ]
    },
    {
     "name": "stderr",
     "output_type": "stream",
     "text": [
      "/Users/es5891/Documents/GitHub/bugs-in-democracy/rcv_learning/rcv_dimensionality.py:170: RuntimeWarning: divide by zero encountered in divide\n",
      "  distance = 1 / np.sqrt(freq_upper_triangle)\n"
     ]
    },
    {
     "name": "stdout",
     "output_type": "stream",
     "text": [
      "../rcv_elections_database/proportional/Cambridge_11032015_CityCouncil.csv\n"
     ]
    },
    {
     "name": "stderr",
     "output_type": "stream",
     "text": [
      "/Users/es5891/Documents/GitHub/bugs-in-democracy/rcv_learning/rcv_dimensionality.py:170: RuntimeWarning: divide by zero encountered in divide\n",
      "  distance = 1 / np.sqrt(freq_upper_triangle)\n"
     ]
    },
    {
     "name": "stdout",
     "output_type": "stream",
     "text": [
      "../rcv_elections_database/proportional/Cambridge_11082005_CityCouncil.csv\n"
     ]
    },
    {
     "name": "stderr",
     "output_type": "stream",
     "text": [
      "/Users/es5891/Documents/GitHub/bugs-in-democracy/rcv_learning/rcv_dimensionality.py:170: RuntimeWarning: divide by zero encountered in divide\n",
      "  distance = 1 / np.sqrt(freq_upper_triangle)\n"
     ]
    },
    {
     "name": "stdout",
     "output_type": "stream",
     "text": [
      "../rcv_elections_database/proportional/Minneapolis 2013-board of estimation and taxation cvr.csv\n"
     ]
    },
    {
     "name": "stderr",
     "output_type": "stream",
     "text": [
      "/Users/es5891/Documents/GitHub/bugs-in-democracy/rcv_learning/rcv_dimensionality.py:170: RuntimeWarning: divide by zero encountered in divide\n",
      "  distance = 1 / np.sqrt(freq_upper_triangle)\n"
     ]
    },
    {
     "name": "stdout",
     "output_type": "stream",
     "text": [
      "../rcv_elections_database/proportional/Cambridge_11042003_CityCouncil.csv\n"
     ]
    },
    {
     "name": "stderr",
     "output_type": "stream",
     "text": [
      "/Users/es5891/Documents/GitHub/bugs-in-democracy/rcv_learning/rcv_dimensionality.py:170: RuntimeWarning: divide by zero encountered in divide\n",
      "  distance = 1 / np.sqrt(freq_upper_triangle)\n"
     ]
    },
    {
     "name": "stdout",
     "output_type": "stream",
     "text": [
      "../rcv_elections_database/proportional/Cambridge_11082005_SchoolCommittee.csv\n"
     ]
    },
    {
     "name": "stderr",
     "output_type": "stream",
     "text": [
      "/Users/es5891/Documents/GitHub/bugs-in-democracy/rcv_learning/rcv_dimensionality.py:170: RuntimeWarning: divide by zero encountered in divide\n",
      "  distance = 1 / np.sqrt(freq_upper_triangle)\n"
     ]
    },
    {
     "name": "stdout",
     "output_type": "stream",
     "text": [
      "../rcv_elections_database/classic/Albany_11082022_CityCouncil.csv\n"
     ]
    },
    {
     "name": "stderr",
     "output_type": "stream",
     "text": [
      "/Users/es5891/Documents/GitHub/bugs-in-democracy/rcv_learning/rcv_dimensionality.py:170: RuntimeWarning: divide by zero encountered in divide\n",
      "  distance = 1 / np.sqrt(freq_upper_triangle)\n"
     ]
    },
    {
     "name": "stdout",
     "output_type": "stream",
     "text": [
      "../rcv_elections_database/classic/Alaska_08162022_HouseofRepresentativesSpecial.csv\n"
     ]
    },
    {
     "name": "stderr",
     "output_type": "stream",
     "text": [
      "/Users/es5891/Documents/GitHub/bugs-in-democracy/rcv_learning/rcv_dimensionality.py:170: RuntimeWarning: divide by zero encountered in divide\n",
      "  distance = 1 / np.sqrt(freq_upper_triangle)\n"
     ]
    },
    {
     "name": "stdout",
     "output_type": "stream",
     "text": [
      "../rcv_elections_database/classic/Portland_06142022_SchoolboardAL-1.csv\n"
     ]
    },
    {
     "name": "stderr",
     "output_type": "stream",
     "text": [
      "/Users/es5891/Documents/GitHub/bugs-in-democracy/rcv_learning/rcv_dimensionality.py:170: RuntimeWarning: divide by zero encountered in divide\n",
      "  distance = 1 / np.sqrt(freq_upper_triangle)\n"
     ]
    },
    {
     "name": "stdout",
     "output_type": "stream",
     "text": [
      "../rcv_elections_database/classic/Maine_11062018_CongressionalDistrict2.csv\n"
     ]
    },
    {
     "name": "stderr",
     "output_type": "stream",
     "text": [
      "/Users/es5891/Documents/GitHub/bugs-in-democracy/rcv_learning/rcv_dimensionality.py:170: RuntimeWarning: divide by zero encountered in divide\n",
      "  distance = 1 / np.sqrt(freq_upper_triangle)\n"
     ]
    },
    {
     "name": "stdout",
     "output_type": "stream",
     "text": [
      "../rcv_elections_database/classic/Portland_06082021_charter_commission_at_large.csv\n"
     ]
    },
    {
     "name": "stderr",
     "output_type": "stream",
     "text": [
      "/Users/es5891/Documents/GitHub/bugs-in-democracy/rcv_learning/rcv_dimensionality.py:170: RuntimeWarning: divide by zero encountered in divide\n",
      "  distance = 1 / np.sqrt(freq_upper_triangle)\n"
     ]
    },
    {
     "name": "stdout",
     "output_type": "stream",
     "text": [
      "../rcv_elections_database/classic/LasCruces_11052019_MAYORCITYOFLASCRUCES.csv\n"
     ]
    },
    {
     "name": "stderr",
     "output_type": "stream",
     "text": [
      "/Users/es5891/Documents/GitHub/bugs-in-democracy/rcv_learning/rcv_dimensionality.py:170: RuntimeWarning: divide by zero encountered in divide\n",
      "  distance = 1 / np.sqrt(freq_upper_triangle)\n"
     ]
    },
    {
     "name": "stdout",
     "output_type": "stream",
     "text": [
      "../rcv_elections_database/classic/Minneapolis_11052013_Mayor.csv\n"
     ]
    },
    {
     "name": "stderr",
     "output_type": "stream",
     "text": [
      "/Users/es5891/Documents/GitHub/bugs-in-democracy/rcv_learning/rcv_dimensionality.py:159: RuntimeWarning: divide by zero encountered in divide\n",
      "  frequencies = counts / mentioned_together\n",
      "/Users/es5891/Documents/GitHub/bugs-in-democracy/rcv_learning/rcv_dimensionality.py:170: RuntimeWarning: divide by zero encountered in divide\n",
      "  distance = 1 / np.sqrt(freq_upper_triangle)\n"
     ]
    },
    {
     "name": "stdout",
     "output_type": "stream",
     "text": [
      "../rcv_elections_database/classic/Alaska_11082022_USRepresentative.csv\n"
     ]
    },
    {
     "name": "stderr",
     "output_type": "stream",
     "text": [
      "/Users/es5891/Documents/GitHub/bugs-in-democracy/rcv_learning/rcv_dimensionality.py:170: RuntimeWarning: divide by zero encountered in divide\n",
      "  distance = 1 / np.sqrt(freq_upper_triangle)\n"
     ]
    },
    {
     "name": "stdout",
     "output_type": "stream",
     "text": [
      "../rcv_elections_database/classic/TakomaPark_11082022_Mayor.csv\n"
     ]
    },
    {
     "name": "stderr",
     "output_type": "stream",
     "text": [
      "/Users/es5891/Documents/GitHub/bugs-in-democracy/rcv_learning/rcv_dimensionality.py:159: RuntimeWarning: divide by zero encountered in divide\n",
      "  frequencies = counts / mentioned_together\n",
      "/Users/es5891/Documents/GitHub/bugs-in-democracy/rcv_learning/rcv_dimensionality.py:159: RuntimeWarning: invalid value encountered in divide\n",
      "  frequencies = counts / mentioned_together\n",
      "/Users/es5891/Documents/GitHub/bugs-in-democracy/rcv_learning/rcv_dimensionality.py:170: RuntimeWarning: divide by zero encountered in divide\n",
      "  distance = 1 / np.sqrt(freq_upper_triangle)\n"
     ]
    },
    {
     "name": "stdout",
     "output_type": "stream",
     "text": [
      "../rcv_elections_database/classic/Easthampton_11022021_Mayor.csv\n"
     ]
    },
    {
     "name": "stderr",
     "output_type": "stream",
     "text": [
      "/Users/es5891/Documents/GitHub/bugs-in-democracy/rcv_learning/rcv_dimensionality.py:159: RuntimeWarning: divide by zero encountered in divide\n",
      "  frequencies = counts / mentioned_together\n",
      "/Users/es5891/Documents/GitHub/bugs-in-democracy/rcv_learning/rcv_dimensionality.py:159: RuntimeWarning: invalid value encountered in divide\n",
      "  frequencies = counts / mentioned_together\n",
      "/Users/es5891/Documents/GitHub/bugs-in-democracy/rcv_learning/rcv_dimensionality.py:170: RuntimeWarning: divide by zero encountered in divide\n",
      "  distance = 1 / np.sqrt(freq_upper_triangle)\n"
     ]
    },
    {
     "name": "stdout",
     "output_type": "stream",
     "text": [
      "../rcv_elections_database/classic/Vineyard_11052019_CityCouncil.csv\n"
     ]
    },
    {
     "name": "stderr",
     "output_type": "stream",
     "text": [
      "/Users/es5891/Documents/GitHub/bugs-in-democracy/rcv_learning/rcv_dimensionality.py:170: RuntimeWarning: divide by zero encountered in divide\n",
      "  distance = 1 / np.sqrt(freq_upper_triangle)\n"
     ]
    },
    {
     "name": "stdout",
     "output_type": "stream",
     "text": [
      "../rcv_elections_database/classic/NewYorkCity_06222021_DEMBoroughPresidentNewYork.csv\n"
     ]
    },
    {
     "name": "stderr",
     "output_type": "stream",
     "text": [
      "/Users/es5891/Documents/GitHub/bugs-in-democracy/rcv_learning/rcv_dimensionality.py:170: RuntimeWarning: divide by zero encountered in divide\n",
      "  distance = 1 / np.sqrt(freq_upper_triangle)\n"
     ]
    },
    {
     "name": "stdout",
     "output_type": "stream",
     "text": [
      "../rcv_elections_database/classic/Alaska_04102020_PRESIDENTOFTHEUNITEDSTATES.csv\n"
     ]
    },
    {
     "name": "stderr",
     "output_type": "stream",
     "text": [
      "/Users/es5891/Documents/GitHub/bugs-in-democracy/rcv_learning/rcv_dimensionality.py:170: RuntimeWarning: divide by zero encountered in divide\n",
      "  distance = 1 / np.sqrt(freq_upper_triangle)\n"
     ]
    },
    {
     "name": "stdout",
     "output_type": "stream",
     "text": [
      "../rcv_elections_database/classic/Payson_11052019_CityCouncil.csv\n"
     ]
    },
    {
     "name": "stderr",
     "output_type": "stream",
     "text": [
      "/Users/es5891/Documents/GitHub/bugs-in-democracy/rcv_learning/rcv_dimensionality.py:170: RuntimeWarning: divide by zero encountered in divide\n",
      "  distance = 1 / np.sqrt(freq_upper_triangle)\n"
     ]
    },
    {
     "name": "stdout",
     "output_type": "stream",
     "text": [
      "../rcv_elections_database/classic/SanFrancisco_11032020_BOARDOFSUPERVISORSDISTRICT7.csv\n"
     ]
    },
    {
     "name": "stderr",
     "output_type": "stream",
     "text": [
      "/Users/es5891/Documents/GitHub/bugs-in-democracy/rcv_learning/rcv_dimensionality.py:170: RuntimeWarning: divide by zero encountered in divide\n",
      "  distance = 1 / np.sqrt(freq_upper_triangle)\n"
     ]
    },
    {
     "name": "stdout",
     "output_type": "stream",
     "text": [
      "../rcv_elections_database/classic/custom.csv\n"
     ]
    },
    {
     "name": "stderr",
     "output_type": "stream",
     "text": [
      "/Users/es5891/Documents/GitHub/bugs-in-democracy/rcv_learning/rcv_dimensionality.py:170: RuntimeWarning: divide by zero encountered in divide\n",
      "  distance = 1 / np.sqrt(freq_upper_triangle)\n"
     ]
    },
    {
     "name": "stdout",
     "output_type": "stream",
     "text": [
      "../rcv_elections_database/sequential/Vineyard_11052019_CityCouncil_tab2.csv\n",
      "Error in file: ../rcv_elections_database/sequential/Vineyard_11052019_CityCouncil_tab2.csv\n",
      "../rcv_elections_database/sequential/Payson_11052019_CityCouncil_tab1.csv\n",
      "Error in file: ../rcv_elections_database/sequential/Payson_11052019_CityCouncil_tab1.csv\n",
      "../rcv_elections_database/sequential/WoodlandHills_11022021_CityCouncil.csv\n"
     ]
    },
    {
     "name": "stderr",
     "output_type": "stream",
     "text": [
      "/Users/es5891/Documents/GitHub/bugs-in-democracy/rcv_learning/rcv_dimensionality.py:170: RuntimeWarning: divide by zero encountered in divide\n",
      "  distance = 1 / np.sqrt(freq_upper_triangle)\n"
     ]
    },
    {
     "name": "stdout",
     "output_type": "stream",
     "text": [
      "../rcv_elections_database/sequential/Vineyard_11052019_CityCouncil_tab1.csv\n",
      "Error in file: ../rcv_elections_database/sequential/Vineyard_11052019_CityCouncil_tab1.csv\n",
      "../rcv_elections_database/sequential/Payson_11052019_CityCouncil_tab2.csv\n",
      "Error in file: ../rcv_elections_database/sequential/Payson_11052019_CityCouncil_tab2.csv\n",
      "../rcv_elections_database/sequential/Payson_11052019_CityCouncil_tab3.csv\n",
      "Error in file: ../rcv_elections_database/sequential/Payson_11052019_CityCouncil_tab3.csv\n",
      "../rcv_elections_database/sequential/Springville_11022021_CityCouncil4yr.csv\n"
     ]
    },
    {
     "name": "stderr",
     "output_type": "stream",
     "text": [
      "/Users/es5891/Documents/GitHub/bugs-in-democracy/rcv_learning/rcv_dimensionality.py:170: RuntimeWarning: divide by zero encountered in divide\n",
      "  distance = 1 / np.sqrt(freq_upper_triangle)\n"
     ]
    },
    {
     "name": "stdout",
     "output_type": "stream",
     "text": [
      "../rcv_elections_database/sequential/Vineyard_11022021_CityCouncil.csv\n"
     ]
    },
    {
     "name": "stderr",
     "output_type": "stream",
     "text": [
      "/Users/es5891/Documents/GitHub/bugs-in-democracy/rcv_learning/rcv_dimensionality.py:159: RuntimeWarning: divide by zero encountered in divide\n",
      "  frequencies = counts / mentioned_together\n",
      "/Users/es5891/Documents/GitHub/bugs-in-democracy/rcv_learning/rcv_dimensionality.py:170: RuntimeWarning: divide by zero encountered in divide\n",
      "  distance = 1 / np.sqrt(freq_upper_triangle)\n"
     ]
    },
    {
     "name": "stdout",
     "output_type": "stream",
     "text": [
      "../rcv_elections_database/sequential/Genola_11022021_CityCouncil.csv\n"
     ]
    },
    {
     "name": "stderr",
     "output_type": "stream",
     "text": [
      "/Users/es5891/Documents/GitHub/bugs-in-democracy/rcv_learning/rcv_dimensionality.py:170: RuntimeWarning: divide by zero encountered in divide\n",
      "  distance = 1 / np.sqrt(freq_upper_triangle)\n"
     ]
    },
    {
     "name": "stdout",
     "output_type": "stream",
     "text": [
      "../rcv_elections_database/sequential/Portland_06142022_Schoolboarddistrict5.csv\n"
     ]
    },
    {
     "name": "stderr",
     "output_type": "stream",
     "text": [
      "/Users/es5891/Documents/GitHub/bugs-in-democracy/rcv_learning/rcv_dimensionality.py:159: RuntimeWarning: divide by zero encountered in divide\n",
      "  frequencies = counts / mentioned_together\n",
      "/Users/es5891/Documents/GitHub/bugs-in-democracy/rcv_learning/rcv_dimensionality.py:159: RuntimeWarning: invalid value encountered in divide\n",
      "  frequencies = counts / mentioned_together\n",
      "/Users/es5891/Documents/GitHub/bugs-in-democracy/rcv_learning/rcv_dimensionality.py:170: RuntimeWarning: divide by zero encountered in divide\n",
      "  distance = 1 / np.sqrt(freq_upper_triangle)\n"
     ]
    },
    {
     "name": "stdout",
     "output_type": "stream",
     "text": [
      "../rcv_elections_database/sequential/Moab_11022021_CityCouncil.csv\n"
     ]
    },
    {
     "name": "stderr",
     "output_type": "stream",
     "text": [
      "/Users/es5891/Documents/GitHub/bugs-in-democracy/rcv_learning/rcv_dimensionality.py:170: RuntimeWarning: divide by zero encountered in divide\n",
      "  distance = 1 / np.sqrt(freq_upper_triangle)\n"
     ]
    },
    {
     "name": "stdout",
     "output_type": "stream",
     "text": [
      "../rcv_elections_database/sequential/Portland_06142022_SchoolboardAL.csv\n"
     ]
    },
    {
     "name": "stderr",
     "output_type": "stream",
     "text": [
      "/Users/es5891/Documents/GitHub/bugs-in-democracy/rcv_learning/rcv_dimensionality.py:159: RuntimeWarning: divide by zero encountered in divide\n",
      "  frequencies = counts / mentioned_together\n",
      "/Users/es5891/Documents/GitHub/bugs-in-democracy/rcv_learning/rcv_dimensionality.py:159: RuntimeWarning: invalid value encountered in divide\n",
      "  frequencies = counts / mentioned_together\n",
      "/Users/es5891/Documents/GitHub/bugs-in-democracy/rcv_learning/rcv_dimensionality.py:170: RuntimeWarning: divide by zero encountered in divide\n",
      "  distance = 1 / np.sqrt(freq_upper_triangle)\n"
     ]
    },
    {
     "name": "stdout",
     "output_type": "stream",
     "text": [
      "../rcv_elections_database/sequential/Lehi_11022021_CityCouncil.csv\n"
     ]
    },
    {
     "name": "stderr",
     "output_type": "stream",
     "text": [
      "/Users/es5891/Documents/GitHub/bugs-in-democracy/rcv_learning/rcv_dimensionality.py:170: RuntimeWarning: divide by zero encountered in divide\n",
      "  distance = 1 / np.sqrt(freq_upper_triangle)\n"
     ]
    },
    {
     "name": "stdout",
     "output_type": "stream",
     "text": [
      "../rcv_elections_database/single/SanFrancisco_11022010_BoardofSupervisorsDistrict6.csv\n"
     ]
    },
    {
     "name": "stderr",
     "output_type": "stream",
     "text": [
      "/Users/es5891/Documents/GitHub/bugs-in-democracy/rcv_learning/rcv_dimensionality.py:170: RuntimeWarning: divide by zero encountered in divide\n",
      "  distance = 1 / np.sqrt(freq_upper_triangle)\n"
     ]
    },
    {
     "name": "stdout",
     "output_type": "stream",
     "text": [
      "../rcv_elections_database/single/Oakland_11042014_SchoolDirectorDistrict2.csv\n"
     ]
    },
    {
     "name": "stderr",
     "output_type": "stream",
     "text": [
      "/Users/es5891/Documents/GitHub/bugs-in-democracy/rcv_learning/rcv_dimensionality.py:170: RuntimeWarning: divide by zero encountered in divide\n",
      "  distance = 1 / np.sqrt(freq_upper_triangle)\n"
     ]
    },
    {
     "name": "stdout",
     "output_type": "stream",
     "text": [
      "../rcv_elections_database/single/Albany_11082022_CityCouncil.csv\n"
     ]
    },
    {
     "name": "stderr",
     "output_type": "stream",
     "text": [
      "/Users/es5891/Documents/GitHub/bugs-in-democracy/rcv_learning/rcv_dimensionality.py:170: RuntimeWarning: divide by zero encountered in divide\n",
      "  distance = 1 / np.sqrt(freq_upper_triangle)\n"
     ]
    },
    {
     "name": "stdout",
     "output_type": "stream",
     "text": [
      "../rcv_elections_database/single/Berkeley_11032020_MemberCityCouncilDist2BerkeleyRCV.csv\n"
     ]
    },
    {
     "name": "stderr",
     "output_type": "stream",
     "text": [
      "/Users/es5891/Documents/GitHub/bugs-in-democracy/rcv_learning/rcv_dimensionality.py:170: RuntimeWarning: divide by zero encountered in divide\n",
      "  distance = 1 / np.sqrt(freq_upper_triangle)\n"
     ]
    },
    {
     "name": "stdout",
     "output_type": "stream",
     "text": [
      "../rcv_elections_database/single/Berkeley_11042014_CityAuditor.csv\n",
      "Error in file: ../rcv_elections_database/single/Berkeley_11042014_CityAuditor.csv\n",
      "../rcv_elections_database/single/Alaska_11082022_HouseDistrict23.csv\n"
     ]
    },
    {
     "name": "stderr",
     "output_type": "stream",
     "text": [
      "/Users/es5891/Documents/GitHub/bugs-in-democracy/rcv_learning/rcv_dimensionality.py:170: RuntimeWarning: divide by zero encountered in divide\n",
      "  distance = 1 / np.sqrt(freq_upper_triangle)\n"
     ]
    },
    {
     "name": "stdout",
     "output_type": "stream",
     "text": [
      "../rcv_elections_database/single/Berkeley_11042014_CityCouncilDistrict8.csv\n"
     ]
    },
    {
     "name": "stderr",
     "output_type": "stream",
     "text": [
      "/Users/es5891/Documents/GitHub/bugs-in-democracy/rcv_learning/rcv_dimensionality.py:170: RuntimeWarning: divide by zero encountered in divide\n",
      "  distance = 1 / np.sqrt(freq_upper_triangle)\n"
     ]
    },
    {
     "name": "stdout",
     "output_type": "stream",
     "text": [
      "../rcv_elections_database/single/Alaska_11082022_HouseDistrict37.csv\n",
      "Error in file: ../rcv_elections_database/single/Alaska_11082022_HouseDistrict37.csv\n",
      "../rcv_elections_database/single/Minneapolis_11072017_Ward6CityCouncil.csv\n"
     ]
    },
    {
     "name": "stderr",
     "output_type": "stream",
     "text": [
      "/Users/es5891/Documents/GitHub/bugs-in-democracy/rcv_learning/rcv_dimensionality.py:170: RuntimeWarning: divide by zero encountered in divide\n",
      "  distance = 1 / np.sqrt(freq_upper_triangle)\n"
     ]
    },
    {
     "name": "stdout",
     "output_type": "stream",
     "text": [
      "../rcv_elections_database/single/Oakland_11082016_CouncilAtLrg.csv\n"
     ]
    },
    {
     "name": "stderr",
     "output_type": "stream",
     "text": [
      "/Users/es5891/Documents/GitHub/bugs-in-democracy/rcv_learning/rcv_dimensionality.py:170: RuntimeWarning: divide by zero encountered in divide\n",
      "  distance = 1 / np.sqrt(freq_upper_triangle)\n"
     ]
    },
    {
     "name": "stdout",
     "output_type": "stream",
     "text": [
      "../rcv_elections_database/single/SanFrancisco_11082016_BoardofSupervisorsDistrict7.csv\n"
     ]
    },
    {
     "name": "stderr",
     "output_type": "stream",
     "text": [
      "/Users/es5891/Documents/GitHub/bugs-in-democracy/rcv_learning/rcv_dimensionality.py:170: RuntimeWarning: divide by zero encountered in divide\n",
      "  distance = 1 / np.sqrt(freq_upper_triangle)\n"
     ]
    },
    {
     "name": "stdout",
     "output_type": "stream",
     "text": [
      "../rcv_elections_database/single/Minneapolis_11072017_Mayor.csv\n"
     ]
    },
    {
     "name": "stderr",
     "output_type": "stream",
     "text": [
      "/Users/es5891/Documents/GitHub/bugs-in-democracy/rcv_learning/rcv_dimensionality.py:159: RuntimeWarning: divide by zero encountered in divide\n",
      "  frequencies = counts / mentioned_together\n",
      "/Users/es5891/Documents/GitHub/bugs-in-democracy/rcv_learning/rcv_dimensionality.py:159: RuntimeWarning: invalid value encountered in divide\n",
      "  frequencies = counts / mentioned_together\n",
      "/Users/es5891/Documents/GitHub/bugs-in-democracy/rcv_learning/rcv_dimensionality.py:170: RuntimeWarning: divide by zero encountered in divide\n",
      "  distance = 1 / np.sqrt(freq_upper_triangle)\n"
     ]
    },
    {
     "name": "stdout",
     "output_type": "stream",
     "text": [
      "../rcv_elections_database/single/Berkeley_11062018_CityCouncilDistrict1.csv\n"
     ]
    },
    {
     "name": "stderr",
     "output_type": "stream",
     "text": [
      "/Users/es5891/Documents/GitHub/bugs-in-democracy/rcv_learning/rcv_dimensionality.py:170: RuntimeWarning: divide by zero encountered in divide\n",
      "  distance = 1 / np.sqrt(freq_upper_triangle)\n"
     ]
    },
    {
     "name": "stdout",
     "output_type": "stream",
     "text": [
      "../rcv_elections_database/single/NewYorkCity_06222021_REPCouncilMember23rdCouncilDistrict.csv\n"
     ]
    },
    {
     "name": "stderr",
     "output_type": "stream",
     "text": [
      "/Users/es5891/Documents/GitHub/bugs-in-democracy/rcv_learning/rcv_dimensionality.py:131: DtypeWarning: Columns (1) have mixed types. Specify dtype option on import or set low_memory=False.\n",
      "  df = pd.read_csv(csv_file, low_memory=False)\n",
      "/Users/es5891/Documents/GitHub/bugs-in-democracy/rcv_learning/rcv_dimensionality.py:170: RuntimeWarning: divide by zero encountered in divide\n",
      "  distance = 1 / np.sqrt(freq_upper_triangle)\n"
     ]
    },
    {
     "name": "stdout",
     "output_type": "stream",
     "text": [
      "../rcv_elections_database/single/Hawaii_05232020_PresidentoftheUnitedStateCD1.csv\n"
     ]
    },
    {
     "name": "stderr",
     "output_type": "stream",
     "text": [
      "/Users/es5891/Documents/GitHub/bugs-in-democracy/rcv_learning/rcv_dimensionality.py:170: RuntimeWarning: divide by zero encountered in divide\n",
      "  distance = 1 / np.sqrt(freq_upper_triangle)\n"
     ]
    },
    {
     "name": "stdout",
     "output_type": "stream",
     "text": [
      "../rcv_elections_database/single/Minneapolis_11062009_PRBoardDistrict6.csv\n"
     ]
    },
    {
     "name": "stderr",
     "output_type": "stream",
     "text": [
      "/Users/es5891/Documents/GitHub/bugs-in-democracy/rcv_learning/rcv_dimensionality.py:170: RuntimeWarning: divide by zero encountered in divide\n",
      "  distance = 1 / np.sqrt(freq_upper_triangle)\n"
     ]
    },
    {
     "name": "stdout",
     "output_type": "stream",
     "text": [
      "../rcv_elections_database/single/SanFrancisco_06052018_Mayor.csv\n"
     ]
    },
    {
     "name": "stderr",
     "output_type": "stream",
     "text": [
      "/Users/es5891/Documents/GitHub/bugs-in-democracy/rcv_learning/rcv_dimensionality.py:170: RuntimeWarning: divide by zero encountered in divide\n",
      "  distance = 1 / np.sqrt(freq_upper_triangle)\n"
     ]
    },
    {
     "name": "stdout",
     "output_type": "stream",
     "text": [
      "../rcv_elections_database/single/Minneapolis_11062009_Ward10CityCouncil.csv\n"
     ]
    },
    {
     "name": "stderr",
     "output_type": "stream",
     "text": [
      "/Users/es5891/Documents/GitHub/bugs-in-democracy/rcv_learning/rcv_dimensionality.py:170: RuntimeWarning: divide by zero encountered in divide\n",
      "  distance = 1 / np.sqrt(freq_upper_triangle)\n"
     ]
    },
    {
     "name": "stdout",
     "output_type": "stream",
     "text": [
      "../rcv_elections_database/single/Minneapolis_11052013_PRBoardDistrict2.csv\n"
     ]
    },
    {
     "name": "stderr",
     "output_type": "stream",
     "text": [
      "/Users/es5891/Documents/GitHub/bugs-in-democracy/rcv_learning/rcv_dimensionality.py:170: RuntimeWarning: divide by zero encountered in divide\n",
      "  distance = 1 / np.sqrt(freq_upper_triangle)\n"
     ]
    },
    {
     "name": "stdout",
     "output_type": "stream",
     "text": [
      "../rcv_elections_database/single/LasCruces_11052019_COUNCILORPOSITION2CITYOFLASCRUCESDISTRICT2COUNCILOR.csv\n"
     ]
    },
    {
     "name": "stderr",
     "output_type": "stream",
     "text": [
      "/Users/es5891/Documents/GitHub/bugs-in-democracy/rcv_learning/rcv_dimensionality.py:170: RuntimeWarning: divide by zero encountered in divide\n",
      "  distance = 1 / np.sqrt(freq_upper_triangle)\n"
     ]
    },
    {
     "name": "stdout",
     "output_type": "stream",
     "text": [
      "../rcv_elections_database/single/Maine_07142020_DemocraticCandidateforMaineStateHouseDistrict90.csv\n"
     ]
    },
    {
     "name": "stderr",
     "output_type": "stream",
     "text": [
      "/Users/es5891/Documents/GitHub/bugs-in-democracy/rcv_learning/rcv_dimensionality.py:170: RuntimeWarning: divide by zero encountered in divide\n",
      "  distance = 1 / np.sqrt(freq_upper_triangle)\n"
     ]
    },
    {
     "name": "stdout",
     "output_type": "stream",
     "text": [
      "../rcv_elections_database/single/NewYorkCity_06222021_DEMCouncilMember27thCouncilDistrict.csv\n"
     ]
    },
    {
     "name": "stderr",
     "output_type": "stream",
     "text": [
      "/Users/es5891/Documents/GitHub/bugs-in-democracy/rcv_learning/rcv_dimensionality.py:131: DtypeWarning: Columns (1) have mixed types. Specify dtype option on import or set low_memory=False.\n",
      "  df = pd.read_csv(csv_file, low_memory=False)\n",
      "/Users/es5891/Documents/GitHub/bugs-in-democracy/rcv_learning/rcv_dimensionality.py:170: RuntimeWarning: divide by zero encountered in divide\n",
      "  distance = 1 / np.sqrt(freq_upper_triangle)\n"
     ]
    },
    {
     "name": "stdout",
     "output_type": "stream",
     "text": [
      "../rcv_elections_database/single/SanFrancisco_11032020_BOARDOFSUPERVISORSDISTRICT9.csv\n"
     ]
    },
    {
     "name": "stderr",
     "output_type": "stream",
     "text": [
      "/Users/es5891/Documents/GitHub/bugs-in-democracy/rcv_learning/rcv_dimensionality.py:170: RuntimeWarning: divide by zero encountered in divide\n",
      "  distance = 1 / np.sqrt(freq_upper_triangle)\n"
     ]
    },
    {
     "name": "stdout",
     "output_type": "stream",
     "text": [
      "../rcv_elections_database/single/Oakland_11062012_CityAttorney.csv\n"
     ]
    },
    {
     "name": "stderr",
     "output_type": "stream",
     "text": [
      "/Users/es5891/Documents/GitHub/bugs-in-democracy/rcv_learning/rcv_dimensionality.py:170: RuntimeWarning: divide by zero encountered in divide\n",
      "  distance = 1 / np.sqrt(freq_upper_triangle)\n"
     ]
    },
    {
     "name": "stdout",
     "output_type": "stream",
     "text": [
      "../rcv_elections_database/single/Alaska_11082022_HouseDistrict36.csv\n"
     ]
    },
    {
     "name": "stderr",
     "output_type": "stream",
     "text": [
      "/Users/es5891/Documents/GitHub/bugs-in-democracy/rcv_learning/rcv_dimensionality.py:170: RuntimeWarning: divide by zero encountered in divide\n",
      "  distance = 1 / np.sqrt(freq_upper_triangle)\n"
     ]
    },
    {
     "name": "stdout",
     "output_type": "stream",
     "text": [
      "../rcv_elections_database/single/Alaska_11082022_HouseDistrict22.csv\n"
     ]
    },
    {
     "name": "stderr",
     "output_type": "stream",
     "text": [
      "/Users/es5891/Documents/GitHub/bugs-in-democracy/rcv_learning/rcv_dimensionality.py:170: RuntimeWarning: divide by zero encountered in divide\n",
      "  distance = 1 / np.sqrt(freq_upper_triangle)\n"
     ]
    },
    {
     "name": "stdout",
     "output_type": "stream",
     "text": [
      "../rcv_elections_database/single/Berkeley_11082016_Mayor.csv\n"
     ]
    },
    {
     "name": "stderr",
     "output_type": "stream",
     "text": [
      "/Users/es5891/Documents/GitHub/bugs-in-democracy/rcv_learning/rcv_dimensionality.py:170: RuntimeWarning: divide by zero encountered in divide\n",
      "  distance = 1 / np.sqrt(freq_upper_triangle)\n"
     ]
    },
    {
     "name": "stdout",
     "output_type": "stream",
     "text": [
      "../rcv_elections_database/single/Maine_07142020_DemocraticCandidateforMaineStateHouseDistrict47.csv\n"
     ]
    },
    {
     "name": "stderr",
     "output_type": "stream",
     "text": [
      "/Users/es5891/Documents/GitHub/bugs-in-democracy/rcv_learning/rcv_dimensionality.py:170: RuntimeWarning: divide by zero encountered in divide\n",
      "  distance = 1 / np.sqrt(freq_upper_triangle)\n"
     ]
    },
    {
     "name": "stdout",
     "output_type": "stream",
     "text": [
      "../rcv_elections_database/single/SantaFe_03062018_Mayor.csv\n"
     ]
    },
    {
     "name": "stderr",
     "output_type": "stream",
     "text": [
      "/Users/es5891/Documents/GitHub/bugs-in-democracy/rcv_learning/rcv_dimensionality.py:170: RuntimeWarning: divide by zero encountered in divide\n",
      "  distance = 1 / np.sqrt(freq_upper_triangle)\n"
     ]
    },
    {
     "name": "stdout",
     "output_type": "stream",
     "text": [
      "../rcv_elections_database/single/Maine_11082022_CongressionalDistrict2.csv\n"
     ]
    },
    {
     "name": "stderr",
     "output_type": "stream",
     "text": [
      "/Users/es5891/Documents/GitHub/bugs-in-democracy/rcv_learning/rcv_dimensionality.py:170: RuntimeWarning: divide by zero encountered in divide\n",
      "  distance = 1 / np.sqrt(freq_upper_triangle)\n"
     ]
    },
    {
     "name": "stdout",
     "output_type": "stream",
     "text": [
      "../rcv_elections_database/single/Springville_11022021_Mayor.csv\n"
     ]
    },
    {
     "name": "stderr",
     "output_type": "stream",
     "text": [
      "/Users/es5891/Documents/GitHub/bugs-in-democracy/rcv_learning/rcv_dimensionality.py:170: RuntimeWarning: divide by zero encountered in divide\n",
      "  distance = 1 / np.sqrt(freq_upper_triangle)\n"
     ]
    },
    {
     "name": "stdout",
     "output_type": "stream",
     "text": [
      "../rcv_elections_database/single/LasCruces_11052019_COUNCILORPOSITION4CITYOFLASCRUCESDISTRICT4COUNCILOR.csv\n"
     ]
    },
    {
     "name": "stderr",
     "output_type": "stream",
     "text": [
      "/Users/es5891/Documents/GitHub/bugs-in-democracy/rcv_learning/rcv_dimensionality.py:170: RuntimeWarning: divide by zero encountered in divide\n",
      "  distance = 1 / np.sqrt(freq_upper_triangle)\n"
     ]
    },
    {
     "name": "stdout",
     "output_type": "stream",
     "text": [
      "../rcv_elections_database/single/SanLeandro_11062018_Mayor.csv\n"
     ]
    },
    {
     "name": "stderr",
     "output_type": "stream",
     "text": [
      "/Users/es5891/Documents/GitHub/bugs-in-democracy/rcv_learning/rcv_dimensionality.py:170: RuntimeWarning: divide by zero encountered in divide\n",
      "  distance = 1 / np.sqrt(freq_upper_triangle)\n"
     ]
    },
    {
     "name": "stdout",
     "output_type": "stream",
     "text": [
      "../rcv_elections_database/single/SantaFe_03062018_CityCouncilDistrict4.csv\n"
     ]
    },
    {
     "name": "stderr",
     "output_type": "stream",
     "text": [
      "/Users/es5891/Documents/GitHub/bugs-in-democracy/rcv_learning/rcv_dimensionality.py:170: RuntimeWarning: divide by zero encountered in divide\n",
      "  distance = 1 / np.sqrt(freq_upper_triangle)\n"
     ]
    },
    {
     "name": "stdout",
     "output_type": "stream",
     "text": [
      "../rcv_elections_database/single/Corvallis_11082022_CityCouncilWard9.csv\n"
     ]
    },
    {
     "name": "stderr",
     "output_type": "stream",
     "text": [
      "/Users/es5891/Documents/GitHub/bugs-in-democracy/rcv_learning/rcv_dimensionality.py:170: RuntimeWarning: divide by zero encountered in divide\n",
      "  distance = 1 / np.sqrt(freq_upper_triangle)\n"
     ]
    },
    {
     "name": "stdout",
     "output_type": "stream",
     "text": [
      "../rcv_elections_database/single/Oakland_11022010_SchoolDirectorDistrict6.csv\n",
      "Error in file: ../rcv_elections_database/single/Oakland_11022010_SchoolDirectorDistrict6.csv\n",
      "../rcv_elections_database/single/Oakland_11022010_SchoolDirectorDistrict4.csv\n"
     ]
    },
    {
     "name": "stderr",
     "output_type": "stream",
     "text": [
      "/Users/es5891/Documents/GitHub/bugs-in-democracy/rcv_learning/rcv_dimensionality.py:170: RuntimeWarning: divide by zero encountered in divide\n",
      "  distance = 1 / np.sqrt(freq_upper_triangle)\n"
     ]
    },
    {
     "name": "stdout",
     "output_type": "stream",
     "text": [
      "../rcv_elections_database/single/Berkeley_11032020_MemberCityCouncilDist5BerkeleyRCV.csv\n"
     ]
    },
    {
     "name": "stderr",
     "output_type": "stream",
     "text": [
      "/Users/es5891/Documents/GitHub/bugs-in-democracy/rcv_learning/rcv_dimensionality.py:170: RuntimeWarning: divide by zero encountered in divide\n",
      "  distance = 1 / np.sqrt(freq_upper_triangle)\n"
     ]
    },
    {
     "name": "stdout",
     "output_type": "stream",
     "text": [
      "../rcv_elections_database/single/NewYorkCity_06222021_DEMCouncilMember33rdCouncilDistrict.csv\n"
     ]
    },
    {
     "name": "stderr",
     "output_type": "stream",
     "text": [
      "/Users/es5891/Documents/GitHub/bugs-in-democracy/rcv_learning/rcv_dimensionality.py:131: DtypeWarning: Columns (1) have mixed types. Specify dtype option on import or set low_memory=False.\n",
      "  df = pd.read_csv(csv_file, low_memory=False)\n",
      "/Users/es5891/Documents/GitHub/bugs-in-democracy/rcv_learning/rcv_dimensionality.py:170: RuntimeWarning: divide by zero encountered in divide\n",
      "  distance = 1 / np.sqrt(freq_upper_triangle)\n"
     ]
    },
    {
     "name": "stdout",
     "output_type": "stream",
     "text": [
      "../rcv_elections_database/single/Alaska_08162022_HouseofRepresentativesSpecial.csv\n"
     ]
    },
    {
     "name": "stderr",
     "output_type": "stream",
     "text": [
      "/Users/es5891/Documents/GitHub/bugs-in-democracy/rcv_learning/rcv_dimensionality.py:170: RuntimeWarning: divide by zero encountered in divide\n",
      "  distance = 1 / np.sqrt(freq_upper_triangle)\n"
     ]
    },
    {
     "name": "stdout",
     "output_type": "stream",
     "text": [
      "../rcv_elections_database/single/NewYorkCity_06222021_REPBoroughPresidentRichmond.csv\n"
     ]
    },
    {
     "name": "stderr",
     "output_type": "stream",
     "text": [
      "/Users/es5891/Documents/GitHub/bugs-in-democracy/rcv_learning/rcv_dimensionality.py:170: RuntimeWarning: divide by zero encountered in divide\n",
      "  distance = 1 / np.sqrt(freq_upper_triangle)\n"
     ]
    },
    {
     "name": "stdout",
     "output_type": "stream",
     "text": [
      "../rcv_elections_database/single/NewYorkCity_06222021_DEMCouncilMember10thCouncilDistrict.csv\n"
     ]
    },
    {
     "name": "stderr",
     "output_type": "stream",
     "text": [
      "/Users/es5891/Documents/GitHub/bugs-in-democracy/rcv_learning/rcv_dimensionality.py:170: RuntimeWarning: divide by zero encountered in divide\n",
      "  distance = 1 / np.sqrt(freq_upper_triangle)\n"
     ]
    },
    {
     "name": "stdout",
     "output_type": "stream",
     "text": [
      "../rcv_elections_database/single/Alaska_11082022_HouseDistrict34.csv\n"
     ]
    },
    {
     "name": "stderr",
     "output_type": "stream",
     "text": [
      "/Users/es5891/Documents/GitHub/bugs-in-democracy/rcv_learning/rcv_dimensionality.py:170: RuntimeWarning: divide by zero encountered in divide\n",
      "  distance = 1 / np.sqrt(freq_upper_triangle)\n"
     ]
    },
    {
     "name": "stdout",
     "output_type": "stream",
     "text": [
      "../rcv_elections_database/single/Alaska_11082022_HouseDistrict20.csv\n"
     ]
    },
    {
     "name": "stderr",
     "output_type": "stream",
     "text": [
      "/Users/es5891/Documents/GitHub/bugs-in-democracy/rcv_learning/rcv_dimensionality.py:170: RuntimeWarning: divide by zero encountered in divide\n",
      "  distance = 1 / np.sqrt(freq_upper_triangle)\n"
     ]
    },
    {
     "name": "stdout",
     "output_type": "stream",
     "text": [
      "../rcv_elections_database/single/Kansas_05022020_PRESIDENTOFTHEUNITEDSTATES.csv\n"
     ]
    },
    {
     "name": "stderr",
     "output_type": "stream",
     "text": [
      "/Users/es5891/Documents/GitHub/bugs-in-democracy/rcv_learning/rcv_dimensionality.py:170: RuntimeWarning: divide by zero encountered in divide\n",
      "  distance = 1 / np.sqrt(freq_upper_triangle)\n"
     ]
    },
    {
     "name": "stdout",
     "output_type": "stream",
     "text": [
      "../rcv_elections_database/single/Hawaii_05232020_PresidentoftheUnitedStateCD2.csv\n"
     ]
    },
    {
     "name": "stderr",
     "output_type": "stream",
     "text": [
      "/Users/es5891/Documents/GitHub/bugs-in-democracy/rcv_learning/rcv_dimensionality.py:170: RuntimeWarning: divide by zero encountered in divide\n",
      "  distance = 1 / np.sqrt(freq_upper_triangle)\n"
     ]
    },
    {
     "name": "stdout",
     "output_type": "stream",
     "text": [
      "../rcv_elections_database/single/NewYorkCity_06222021_DEMCouncilMember28thCouncilDistrict.csv\n"
     ]
    },
    {
     "name": "stderr",
     "output_type": "stream",
     "text": [
      "/Users/es5891/Documents/GitHub/bugs-in-democracy/rcv_learning/rcv_dimensionality.py:131: DtypeWarning: Columns (1) have mixed types. Specify dtype option on import or set low_memory=False.\n",
      "  df = pd.read_csv(csv_file, low_memory=False)\n",
      "/Users/es5891/Documents/GitHub/bugs-in-democracy/rcv_learning/rcv_dimensionality.py:170: RuntimeWarning: divide by zero encountered in divide\n",
      "  distance = 1 / np.sqrt(freq_upper_triangle)\n"
     ]
    },
    {
     "name": "stdout",
     "output_type": "stream",
     "text": [
      "../rcv_elections_database/single/Minneapolis_11072017_Ward1CityCouncil.csv\n"
     ]
    },
    {
     "name": "stderr",
     "output_type": "stream",
     "text": [
      "/Users/es5891/Documents/GitHub/bugs-in-democracy/rcv_learning/rcv_dimensionality.py:170: RuntimeWarning: divide by zero encountered in divide\n",
      "  distance = 1 / np.sqrt(freq_upper_triangle)\n"
     ]
    },
    {
     "name": "stdout",
     "output_type": "stream",
     "text": [
      "../rcv_elections_database/single/Minneapolis_11062009_PRBoardDistrict5.csv\n"
     ]
    },
    {
     "name": "stderr",
     "output_type": "stream",
     "text": [
      "/Users/es5891/Documents/GitHub/bugs-in-democracy/rcv_learning/rcv_dimensionality.py:170: RuntimeWarning: divide by zero encountered in divide\n",
      "  distance = 1 / np.sqrt(freq_upper_triangle)\n"
     ]
    },
    {
     "name": "stdout",
     "output_type": "stream",
     "text": [
      "../rcv_elections_database/single/NewYorkCity_06222021_DEMCouncilMember15thCouncilDistrict.csv\n"
     ]
    },
    {
     "name": "stderr",
     "output_type": "stream",
     "text": [
      "/Users/es5891/Documents/GitHub/bugs-in-democracy/rcv_learning/rcv_dimensionality.py:170: RuntimeWarning: divide by zero encountered in divide\n",
      "  distance = 1 / np.sqrt(freq_upper_triangle)\n"
     ]
    },
    {
     "name": "stdout",
     "output_type": "stream",
     "text": [
      "../rcv_elections_database/single/Minneapolis_11062009_PRBoardDistrict4.csv\n",
      "Error in file: ../rcv_elections_database/single/Minneapolis_11062009_PRBoardDistrict4.csv\n",
      "../rcv_elections_database/single/Minneapolis_11072017_Ward9CityCouncil.csv\n"
     ]
    },
    {
     "name": "stderr",
     "output_type": "stream",
     "text": [
      "/Users/es5891/Documents/GitHub/bugs-in-democracy/rcv_learning/rcv_dimensionality.py:170: RuntimeWarning: divide by zero encountered in divide\n",
      "  distance = 1 / np.sqrt(freq_upper_triangle)\n"
     ]
    },
    {
     "name": "stdout",
     "output_type": "stream",
     "text": [
      "../rcv_elections_database/single/SanFrancisco_11082016_BoardofSupervisorsDistrict5.csv\n"
     ]
    },
    {
     "name": "stderr",
     "output_type": "stream",
     "text": [
      "/Users/es5891/Documents/GitHub/bugs-in-democracy/rcv_learning/rcv_dimensionality.py:170: RuntimeWarning: divide by zero encountered in divide\n",
      "  distance = 1 / np.sqrt(freq_upper_triangle)\n"
     ]
    },
    {
     "name": "stdout",
     "output_type": "stream",
     "text": [
      "../rcv_elections_database/single/Burlington_03072023_CityCouncilEastDistrict.csv\n"
     ]
    },
    {
     "name": "stderr",
     "output_type": "stream",
     "text": [
      "/Users/es5891/Documents/GitHub/bugs-in-democracy/rcv_learning/rcv_dimensionality.py:170: RuntimeWarning: divide by zero encountered in divide\n",
      "  distance = 1 / np.sqrt(freq_upper_triangle)\n"
     ]
    },
    {
     "name": "stdout",
     "output_type": "stream",
     "text": [
      "../rcv_elections_database/single/SanFrancisco_11062018_BoardofSupervisorsDistrict10.csv\n"
     ]
    },
    {
     "name": "stderr",
     "output_type": "stream",
     "text": [
      "/Users/es5891/Documents/GitHub/bugs-in-democracy/rcv_learning/rcv_dimensionality.py:170: RuntimeWarning: divide by zero encountered in divide\n",
      "  distance = 1 / np.sqrt(freq_upper_triangle)\n"
     ]
    },
    {
     "name": "stdout",
     "output_type": "stream",
     "text": [
      "../rcv_elections_database/single/Alaska_11082022_HouseDistrict21.csv\n"
     ]
    },
    {
     "name": "stderr",
     "output_type": "stream",
     "text": [
      "/Users/es5891/Documents/GitHub/bugs-in-democracy/rcv_learning/rcv_dimensionality.py:170: RuntimeWarning: divide by zero encountered in divide\n",
      "  distance = 1 / np.sqrt(freq_upper_triangle)\n"
     ]
    },
    {
     "name": "stdout",
     "output_type": "stream",
     "text": [
      "../rcv_elections_database/single/Alaska_11082022_HouseDistrict35.csv\n"
     ]
    },
    {
     "name": "stderr",
     "output_type": "stream",
     "text": [
      "/Users/es5891/Documents/GitHub/bugs-in-democracy/rcv_learning/rcv_dimensionality.py:170: RuntimeWarning: divide by zero encountered in divide\n",
      "  distance = 1 / np.sqrt(freq_upper_triangle)\n"
     ]
    },
    {
     "name": "stdout",
     "output_type": "stream",
     "text": [
      "../rcv_elections_database/single/Portland_06142022_SchoolboardAL-1.csv\n"
     ]
    },
    {
     "name": "stderr",
     "output_type": "stream",
     "text": [
      "/Users/es5891/Documents/GitHub/bugs-in-democracy/rcv_learning/rcv_dimensionality.py:170: RuntimeWarning: divide by zero encountered in divide\n",
      "  distance = 1 / np.sqrt(freq_upper_triangle)\n"
     ]
    },
    {
     "name": "stdout",
     "output_type": "stream",
     "text": [
      "../rcv_elections_database/single/Portland_06142022_Schoolboarddistrict5-1.csv\n"
     ]
    },
    {
     "name": "stderr",
     "output_type": "stream",
     "text": [
      "/Users/es5891/Documents/GitHub/bugs-in-democracy/rcv_learning/rcv_dimensionality.py:170: RuntimeWarning: divide by zero encountered in divide\n",
      "  distance = 1 / np.sqrt(freq_upper_triangle)\n"
     ]
    },
    {
     "name": "stdout",
     "output_type": "stream",
     "text": [
      "../rcv_elections_database/single/NewYorkCity_06222021_DEMMayorCitywide.csv\n"
     ]
    },
    {
     "name": "stderr",
     "output_type": "stream",
     "text": [
      "/Users/es5891/Documents/GitHub/bugs-in-democracy/rcv_learning/rcv_dimensionality.py:131: DtypeWarning: Columns (1) have mixed types. Specify dtype option on import or set low_memory=False.\n",
      "  df = pd.read_csv(csv_file, low_memory=False)\n",
      "/Users/es5891/Documents/GitHub/bugs-in-democracy/rcv_learning/rcv_dimensionality.py:170: RuntimeWarning: divide by zero encountered in divide\n",
      "  distance = 1 / np.sqrt(freq_upper_triangle)\n"
     ]
    },
    {
     "name": "stdout",
     "output_type": "stream",
     "text": [
      "../rcv_elections_database/single/Oakland_11042014_SchoolDirectorDistrict4.csv\n"
     ]
    },
    {
     "name": "stderr",
     "output_type": "stream",
     "text": [
      "/Users/es5891/Documents/GitHub/bugs-in-democracy/rcv_learning/rcv_dimensionality.py:170: RuntimeWarning: divide by zero encountered in divide\n",
      "  distance = 1 / np.sqrt(freq_upper_triangle)\n"
     ]
    },
    {
     "name": "stdout",
     "output_type": "stream",
     "text": [
      "../rcv_elections_database/single/SanFrancisco_11082005_AssessorRecorder.csv\n"
     ]
    },
    {
     "name": "stderr",
     "output_type": "stream",
     "text": [
      "/Users/es5891/Documents/GitHub/bugs-in-democracy/rcv_learning/rcv_dimensionality.py:170: RuntimeWarning: divide by zero encountered in divide\n",
      "  distance = 1 / np.sqrt(freq_upper_triangle)\n"
     ]
    },
    {
     "name": "stdout",
     "output_type": "stream",
     "text": [
      "../rcv_elections_database/single/SanFrancisco_11062018_BoardofSupervisorsDistrict8.csv\n"
     ]
    },
    {
     "name": "stderr",
     "output_type": "stream",
     "text": [
      "/Users/es5891/Documents/GitHub/bugs-in-democracy/rcv_learning/rcv_dimensionality.py:170: RuntimeWarning: divide by zero encountered in divide\n",
      "  distance = 1 / np.sqrt(freq_upper_triangle)\n"
     ]
    },
    {
     "name": "stdout",
     "output_type": "stream",
     "text": [
      "../rcv_elections_database/single/Minneapolis_11072017_Ward8CityCouncil.csv\n"
     ]
    },
    {
     "name": "stderr",
     "output_type": "stream",
     "text": [
      "/Users/es5891/Documents/GitHub/bugs-in-democracy/rcv_learning/rcv_dimensionality.py:170: RuntimeWarning: divide by zero encountered in divide\n",
      "  distance = 1 / np.sqrt(freq_upper_triangle)\n"
     ]
    },
    {
     "name": "stdout",
     "output_type": "stream",
     "text": [
      "../rcv_elections_database/single/Oakland_11082022_CityAuditor.csv\n",
      "Error in file: ../rcv_elections_database/single/Oakland_11082022_CityAuditor.csv\n",
      "../rcv_elections_database/single/Alaska_11082022_HouseDistrict19.csv\n"
     ]
    },
    {
     "name": "stderr",
     "output_type": "stream",
     "text": [
      "/Users/es5891/Documents/GitHub/bugs-in-democracy/rcv_learning/rcv_dimensionality.py:170: RuntimeWarning: divide by zero encountered in divide\n",
      "  distance = 1 / np.sqrt(freq_upper_triangle)\n"
     ]
    },
    {
     "name": "stdout",
     "output_type": "stream",
     "text": [
      "../rcv_elections_database/single/Maine_11062018_CongressionalDistrict2.csv\n"
     ]
    },
    {
     "name": "stderr",
     "output_type": "stream",
     "text": [
      "/Users/es5891/Documents/GitHub/bugs-in-democracy/rcv_learning/rcv_dimensionality.py:170: RuntimeWarning: divide by zero encountered in divide\n",
      "  distance = 1 / np.sqrt(freq_upper_triangle)\n"
     ]
    },
    {
     "name": "stdout",
     "output_type": "stream",
     "text": [
      "../rcv_elections_database/single/Alaska_11082022_HouseDistrict31.csv\n"
     ]
    },
    {
     "name": "stderr",
     "output_type": "stream",
     "text": [
      "/Users/es5891/Documents/GitHub/bugs-in-democracy/rcv_learning/rcv_dimensionality.py:170: RuntimeWarning: divide by zero encountered in divide\n",
      "  distance = 1 / np.sqrt(freq_upper_triangle)\n"
     ]
    },
    {
     "name": "stdout",
     "output_type": "stream",
     "text": [
      "../rcv_elections_database/single/Alaska_11082022_HouseDistrict25.csv\n"
     ]
    },
    {
     "name": "stderr",
     "output_type": "stream",
     "text": [
      "/Users/es5891/Documents/GitHub/bugs-in-democracy/rcv_learning/rcv_dimensionality.py:170: RuntimeWarning: divide by zero encountered in divide\n",
      "  distance = 1 / np.sqrt(freq_upper_triangle)\n"
     ]
    },
    {
     "name": "stdout",
     "output_type": "stream",
     "text": [
      "../rcv_elections_database/single/SanFrancisco_11082016_BoardofSupervisorsDistrict1.csv\n"
     ]
    },
    {
     "name": "stderr",
     "output_type": "stream",
     "text": [
      "/Users/es5891/Documents/GitHub/bugs-in-democracy/rcv_learning/rcv_dimensionality.py:170: RuntimeWarning: divide by zero encountered in divide\n",
      "  distance = 1 / np.sqrt(freq_upper_triangle)\n"
     ]
    },
    {
     "name": "stdout",
     "output_type": "stream",
     "text": [
      "../rcv_elections_database/single/Berkeley_11062018_CityCouncilDistrict7.csv\n"
     ]
    },
    {
     "name": "stderr",
     "output_type": "stream",
     "text": [
      "/Users/es5891/Documents/GitHub/bugs-in-democracy/rcv_learning/rcv_dimensionality.py:170: RuntimeWarning: divide by zero encountered in divide\n",
      "  distance = 1 / np.sqrt(freq_upper_triangle)\n"
     ]
    },
    {
     "name": "stdout",
     "output_type": "stream",
     "text": [
      "../rcv_elections_database/single/SanFrancisco_11052019_CityAttorney.csv\n",
      "Error in file: ../rcv_elections_database/single/SanFrancisco_11052019_CityAttorney.csv\n",
      "../rcv_elections_database/single/Maine_06122018_DemocraticPrimaryforCD2.csv\n"
     ]
    },
    {
     "name": "stderr",
     "output_type": "stream",
     "text": [
      "/Users/es5891/Documents/GitHub/bugs-in-democracy/rcv_learning/rcv_dimensionality.py:170: RuntimeWarning: divide by zero encountered in divide\n",
      "  distance = 1 / np.sqrt(freq_upper_triangle)\n"
     ]
    },
    {
     "name": "stdout",
     "output_type": "stream",
     "text": [
      "../rcv_elections_database/single/Minneapolis_11022021_Mayor.csv\n"
     ]
    },
    {
     "name": "stderr",
     "output_type": "stream",
     "text": [
      "/Users/es5891/Documents/GitHub/bugs-in-democracy/rcv_learning/rcv_dimensionality.py:159: RuntimeWarning: divide by zero encountered in divide\n",
      "  frequencies = counts / mentioned_together\n",
      "/Users/es5891/Documents/GitHub/bugs-in-democracy/rcv_learning/rcv_dimensionality.py:159: RuntimeWarning: invalid value encountered in divide\n",
      "  frequencies = counts / mentioned_together\n",
      "/Users/es5891/Documents/GitHub/bugs-in-democracy/rcv_learning/rcv_dimensionality.py:170: RuntimeWarning: divide by zero encountered in divide\n",
      "  distance = 1 / np.sqrt(freq_upper_triangle)\n"
     ]
    },
    {
     "name": "stdout",
     "output_type": "stream",
     "text": [
      "../rcv_elections_database/single/NewYorkCity_06222021_DEMCouncilMember46thCouncilDistrict.csv\n"
     ]
    },
    {
     "name": "stderr",
     "output_type": "stream",
     "text": [
      "/Users/es5891/Documents/GitHub/bugs-in-democracy/rcv_learning/rcv_dimensionality.py:131: DtypeWarning: Columns (1) have mixed types. Specify dtype option on import or set low_memory=False.\n",
      "  df = pd.read_csv(csv_file, low_memory=False)\n",
      "/Users/es5891/Documents/GitHub/bugs-in-democracy/rcv_learning/rcv_dimensionality.py:170: RuntimeWarning: divide by zero encountered in divide\n",
      "  distance = 1 / np.sqrt(freq_upper_triangle)\n"
     ]
    },
    {
     "name": "stdout",
     "output_type": "stream",
     "text": [
      "../rcv_elections_database/single/Minneapolis_11062009_PRBoardDistrict1.csv\n"
     ]
    },
    {
     "name": "stderr",
     "output_type": "stream",
     "text": [
      "/Users/es5891/Documents/GitHub/bugs-in-democracy/rcv_learning/rcv_dimensionality.py:170: RuntimeWarning: divide by zero encountered in divide\n",
      "  distance = 1 / np.sqrt(freq_upper_triangle)\n"
     ]
    },
    {
     "name": "stdout",
     "output_type": "stream",
     "text": [
      "../rcv_elections_database/single/Oakland_11022010_Mayor.csv\n"
     ]
    },
    {
     "name": "stderr",
     "output_type": "stream",
     "text": [
      "/Users/es5891/Documents/GitHub/bugs-in-democracy/rcv_learning/rcv_dimensionality.py:170: RuntimeWarning: divide by zero encountered in divide\n",
      "  distance = 1 / np.sqrt(freq_upper_triangle)\n"
     ]
    },
    {
     "name": "stdout",
     "output_type": "stream",
     "text": [
      "../rcv_elections_database/single/Alaska_11082022_HouseDistrict24.csv\n"
     ]
    },
    {
     "name": "stderr",
     "output_type": "stream",
     "text": [
      "/Users/es5891/Documents/GitHub/bugs-in-democracy/rcv_learning/rcv_dimensionality.py:170: RuntimeWarning: divide by zero encountered in divide\n",
      "  distance = 1 / np.sqrt(freq_upper_triangle)\n"
     ]
    },
    {
     "name": "stdout",
     "output_type": "stream",
     "text": [
      "../rcv_elections_database/single/Maine_07142020_DemocraticCandidateforMaineStateHouseDistrict41.csv\n"
     ]
    },
    {
     "name": "stderr",
     "output_type": "stream",
     "text": [
      "/Users/es5891/Documents/GitHub/bugs-in-democracy/rcv_learning/rcv_dimensionality.py:170: RuntimeWarning: divide by zero encountered in divide\n",
      "  distance = 1 / np.sqrt(freq_upper_triangle)\n"
     ]
    },
    {
     "name": "stdout",
     "output_type": "stream",
     "text": [
      "../rcv_elections_database/single/Alaska_11082022_HouseDistrict30.csv\n"
     ]
    },
    {
     "name": "stderr",
     "output_type": "stream",
     "text": [
      "/Users/es5891/Documents/GitHub/bugs-in-democracy/rcv_learning/rcv_dimensionality.py:170: RuntimeWarning: divide by zero encountered in divide\n",
      "  distance = 1 / np.sqrt(freq_upper_triangle)\n"
     ]
    },
    {
     "name": "stdout",
     "output_type": "stream",
     "text": [
      "../rcv_elections_database/single/Alaska_11082022_HouseDistrict18.csv\n"
     ]
    },
    {
     "name": "stderr",
     "output_type": "stream",
     "text": [
      "/Users/es5891/Documents/GitHub/bugs-in-democracy/rcv_learning/rcv_dimensionality.py:170: RuntimeWarning: divide by zero encountered in divide\n",
      "  distance = 1 / np.sqrt(freq_upper_triangle)\n"
     ]
    },
    {
     "name": "stdout",
     "output_type": "stream",
     "text": [
      "../rcv_elections_database/single/NewYorkCity_06222021_DEMBoroughPresidentKings.csv\n"
     ]
    },
    {
     "name": "stderr",
     "output_type": "stream",
     "text": [
      "/Users/es5891/Documents/GitHub/bugs-in-democracy/rcv_learning/rcv_dimensionality.py:131: DtypeWarning: Columns (1) have mixed types. Specify dtype option on import or set low_memory=False.\n",
      "  df = pd.read_csv(csv_file, low_memory=False)\n",
      "/Users/es5891/Documents/GitHub/bugs-in-democracy/rcv_learning/rcv_dimensionality.py:170: RuntimeWarning: divide by zero encountered in divide\n",
      "  distance = 1 / np.sqrt(freq_upper_triangle)\n"
     ]
    },
    {
     "name": "stdout",
     "output_type": "stream",
     "text": [
      "../rcv_elections_database/single/Minneapolis_11022021_ParkBoardAtLarge.csv\n"
     ]
    },
    {
     "name": "stderr",
     "output_type": "stream",
     "text": [
      "/Users/es5891/Documents/GitHub/bugs-in-democracy/rcv_learning/rcv_dimensionality.py:170: RuntimeWarning: divide by zero encountered in divide\n",
      "  distance = 1 / np.sqrt(freq_upper_triangle)\n"
     ]
    },
    {
     "name": "stdout",
     "output_type": "stream",
     "text": [
      "../rcv_elections_database/single/SantaFe_03062018_CityCouncilDistrict2.csv\n"
     ]
    },
    {
     "name": "stderr",
     "output_type": "stream",
     "text": [
      "/Users/es5891/Documents/GitHub/bugs-in-democracy/rcv_learning/rcv_dimensionality.py:170: RuntimeWarning: divide by zero encountered in divide\n",
      "  distance = 1 / np.sqrt(freq_upper_triangle)\n"
     ]
    },
    {
     "name": "stdout",
     "output_type": "stream",
     "text": [
      "../rcv_elections_database/single/NewYorkCity_06222021_DEMCouncilMember31stCouncilDistrict.csv\n"
     ]
    },
    {
     "name": "stderr",
     "output_type": "stream",
     "text": [
      "/Users/es5891/Documents/GitHub/bugs-in-democracy/rcv_learning/rcv_dimensionality.py:131: DtypeWarning: Columns (1) have mixed types. Specify dtype option on import or set low_memory=False.\n",
      "  df = pd.read_csv(csv_file, low_memory=False)\n",
      "/Users/es5891/Documents/GitHub/bugs-in-democracy/rcv_learning/rcv_dimensionality.py:170: RuntimeWarning: divide by zero encountered in divide\n",
      "  distance = 1 / np.sqrt(freq_upper_triangle)\n"
     ]
    },
    {
     "name": "stdout",
     "output_type": "stream",
     "text": [
      "../rcv_elections_database/single/Portland_06082021_charter_commission_at_large.csv\n"
     ]
    },
    {
     "name": "stderr",
     "output_type": "stream",
     "text": [
      "/Users/es5891/Documents/GitHub/bugs-in-democracy/rcv_learning/rcv_dimensionality.py:170: RuntimeWarning: divide by zero encountered in divide\n",
      "  distance = 1 / np.sqrt(freq_upper_triangle)\n"
     ]
    },
    {
     "name": "stdout",
     "output_type": "stream",
     "text": [
      "../rcv_elections_database/single/Oakland_11022010_SchoolDirectorDistrict2.csv\n",
      "Error in file: ../rcv_elections_database/single/Oakland_11022010_SchoolDirectorDistrict2.csv\n",
      "../rcv_elections_database/single/NewYorkCity_06222021_DEMCouncilMember35thCouncilDistrict.csv\n"
     ]
    },
    {
     "name": "stderr",
     "output_type": "stream",
     "text": [
      "/Users/es5891/Documents/GitHub/bugs-in-democracy/rcv_learning/rcv_dimensionality.py:131: DtypeWarning: Columns (1) have mixed types. Specify dtype option on import or set low_memory=False.\n",
      "  df = pd.read_csv(csv_file, low_memory=False)\n",
      "/Users/es5891/Documents/GitHub/bugs-in-democracy/rcv_learning/rcv_dimensionality.py:170: RuntimeWarning: divide by zero encountered in divide\n",
      "  distance = 1 / np.sqrt(freq_upper_triangle)\n"
     ]
    },
    {
     "name": "stdout",
     "output_type": "stream",
     "text": [
      "../rcv_elections_database/single/Oakland_11032020_MemberCityCouncilDist5OaklandRCV.csv\n"
     ]
    },
    {
     "name": "stderr",
     "output_type": "stream",
     "text": [
      "/Users/es5891/Documents/GitHub/bugs-in-democracy/rcv_learning/rcv_dimensionality.py:170: RuntimeWarning: divide by zero encountered in divide\n",
      "  distance = 1 / np.sqrt(freq_upper_triangle)\n"
     ]
    },
    {
     "name": "stdout",
     "output_type": "stream",
     "text": [
      "../rcv_elections_database/single/SanFrancisco_11052019_Mayor.csv\n"
     ]
    },
    {
     "name": "stderr",
     "output_type": "stream",
     "text": [
      "/Users/es5891/Documents/GitHub/bugs-in-democracy/rcv_learning/rcv_dimensionality.py:170: RuntimeWarning: divide by zero encountered in divide\n",
      "  distance = 1 / np.sqrt(freq_upper_triangle)\n"
     ]
    },
    {
     "name": "stdout",
     "output_type": "stream",
     "text": [
      "../rcv_elections_database/single/Minneapolis_11062009_Ward11CityCouncil.csv\n"
     ]
    },
    {
     "name": "stderr",
     "output_type": "stream",
     "text": [
      "/Users/es5891/Documents/GitHub/bugs-in-democracy/rcv_learning/rcv_dimensionality.py:170: RuntimeWarning: divide by zero encountered in divide\n",
      "  distance = 1 / np.sqrt(freq_upper_triangle)\n"
     ]
    },
    {
     "name": "stdout",
     "output_type": "stream",
     "text": [
      "../rcv_elections_database/single/SanFrancisco_11042008_BoardofSupervisorsDistrict9.csv\n"
     ]
    },
    {
     "name": "stderr",
     "output_type": "stream",
     "text": [
      "/Users/es5891/Documents/GitHub/bugs-in-democracy/rcv_learning/rcv_dimensionality.py:170: RuntimeWarning: divide by zero encountered in divide\n",
      "  distance = 1 / np.sqrt(freq_upper_triangle)\n"
     ]
    },
    {
     "name": "stdout",
     "output_type": "stream",
     "text": [
      "../rcv_elections_database/single/Oakland_11082022_Mayor.csv\n"
     ]
    },
    {
     "name": "stderr",
     "output_type": "stream",
     "text": [
      "/Users/es5891/Documents/GitHub/bugs-in-democracy/rcv_learning/rcv_dimensionality.py:170: RuntimeWarning: divide by zero encountered in divide\n",
      "  distance = 1 / np.sqrt(freq_upper_triangle)\n"
     ]
    },
    {
     "name": "stdout",
     "output_type": "stream",
     "text": [
      "../rcv_elections_database/single/Maine_07142020_RepublicanCandidateforUSHouseofRepresentativesDistrict2.csv\n"
     ]
    },
    {
     "name": "stderr",
     "output_type": "stream",
     "text": [
      "/Users/es5891/Documents/GitHub/bugs-in-democracy/rcv_learning/rcv_dimensionality.py:170: RuntimeWarning: divide by zero encountered in divide\n",
      "  distance = 1 / np.sqrt(freq_upper_triangle)\n"
     ]
    },
    {
     "name": "stdout",
     "output_type": "stream",
     "text": [
      "../rcv_elections_database/single/Alaska_11082022_HouseDistrict26.csv\n"
     ]
    },
    {
     "name": "stderr",
     "output_type": "stream",
     "text": [
      "/Users/es5891/Documents/GitHub/bugs-in-democracy/rcv_learning/rcv_dimensionality.py:170: RuntimeWarning: divide by zero encountered in divide\n",
      "  distance = 1 / np.sqrt(freq_upper_triangle)\n"
     ]
    },
    {
     "name": "stdout",
     "output_type": "stream",
     "text": [
      "../rcv_elections_database/single/Alaska_11082022_HouseDistrict32.csv\n"
     ]
    },
    {
     "name": "stderr",
     "output_type": "stream",
     "text": [
      "/Users/es5891/Documents/GitHub/bugs-in-democracy/rcv_learning/rcv_dimensionality.py:170: RuntimeWarning: divide by zero encountered in divide\n",
      "  distance = 1 / np.sqrt(freq_upper_triangle)\n"
     ]
    },
    {
     "name": "stdout",
     "output_type": "stream",
     "text": [
      "../rcv_elections_database/single/Berkeley_11062018_CityCouncilDistrict4.csv\n"
     ]
    },
    {
     "name": "stderr",
     "output_type": "stream",
     "text": [
      "/Users/es5891/Documents/GitHub/bugs-in-democracy/rcv_learning/rcv_dimensionality.py:170: RuntimeWarning: divide by zero encountered in divide\n",
      "  distance = 1 / np.sqrt(freq_upper_triangle)\n"
     ]
    },
    {
     "name": "stdout",
     "output_type": "stream",
     "text": [
      "../rcv_elections_database/single/NewYorkCity_06222021_DEMCouncilMember32ndCouncilDistrict.csv\n"
     ]
    },
    {
     "name": "stderr",
     "output_type": "stream",
     "text": [
      "/Users/es5891/Documents/GitHub/bugs-in-democracy/rcv_learning/rcv_dimensionality.py:131: DtypeWarning: Columns (1) have mixed types. Specify dtype option on import or set low_memory=False.\n",
      "  df = pd.read_csv(csv_file, low_memory=False)\n",
      "/Users/es5891/Documents/GitHub/bugs-in-democracy/rcv_learning/rcv_dimensionality.py:170: RuntimeWarning: divide by zero encountered in divide\n",
      "  distance = 1 / np.sqrt(freq_upper_triangle)\n"
     ]
    },
    {
     "name": "stdout",
     "output_type": "stream",
     "text": [
      "../rcv_elections_database/single/Minneapolis_11052013_PRBoardDistrict6.csv\n"
     ]
    },
    {
     "name": "stderr",
     "output_type": "stream",
     "text": [
      "/Users/es5891/Documents/GitHub/bugs-in-democracy/rcv_learning/rcv_dimensionality.py:170: RuntimeWarning: divide by zero encountered in divide\n",
      "  distance = 1 / np.sqrt(freq_upper_triangle)\n"
     ]
    },
    {
     "name": "stdout",
     "output_type": "stream",
     "text": [
      "../rcv_elections_database/single/Minneapolis_11062009_PRBoardDistrict3.csv\n"
     ]
    },
    {
     "name": "stderr",
     "output_type": "stream",
     "text": [
      "/Users/es5891/Documents/GitHub/bugs-in-democracy/rcv_learning/rcv_dimensionality.py:170: RuntimeWarning: divide by zero encountered in divide\n",
      "  distance = 1 / np.sqrt(freq_upper_triangle)\n"
     ]
    },
    {
     "name": "stdout",
     "output_type": "stream",
     "text": [
      "../rcv_elections_database/single/Berkeley_03072017_CityCouncilDistrict4.csv\n"
     ]
    },
    {
     "name": "stderr",
     "output_type": "stream",
     "text": [
      "/Users/es5891/Documents/GitHub/bugs-in-democracy/rcv_learning/rcv_dimensionality.py:170: RuntimeWarning: divide by zero encountered in divide\n",
      "  distance = 1 / np.sqrt(freq_upper_triangle)\n"
     ]
    },
    {
     "name": "stdout",
     "output_type": "stream",
     "text": [
      "../rcv_elections_database/single/Minneapolis_11062009_PRBoardDistrict2.csv\n"
     ]
    },
    {
     "name": "stderr",
     "output_type": "stream",
     "text": [
      "/Users/es5891/Documents/GitHub/bugs-in-democracy/rcv_learning/rcv_dimensionality.py:170: RuntimeWarning: divide by zero encountered in divide\n",
      "  distance = 1 / np.sqrt(freq_upper_triangle)\n"
     ]
    },
    {
     "name": "stdout",
     "output_type": "stream",
     "text": [
      "../rcv_elections_database/single/Berkeley_11032020_MemberCityCouncilDist3BerkeleyRCV.csv\n"
     ]
    },
    {
     "name": "stderr",
     "output_type": "stream",
     "text": [
      "/Users/es5891/Documents/GitHub/bugs-in-democracy/rcv_learning/rcv_dimensionality.py:170: RuntimeWarning: divide by zero encountered in divide\n",
      "  distance = 1 / np.sqrt(freq_upper_triangle)\n"
     ]
    },
    {
     "name": "stdout",
     "output_type": "stream",
     "text": [
      "../rcv_elections_database/single/Oakland_11032020_MemberCityCouncilDist1OaklandRCV.csv\n"
     ]
    },
    {
     "name": "stderr",
     "output_type": "stream",
     "text": [
      "/Users/es5891/Documents/GitHub/bugs-in-democracy/rcv_learning/rcv_dimensionality.py:170: RuntimeWarning: divide by zero encountered in divide\n",
      "  distance = 1 / np.sqrt(freq_upper_triangle)\n"
     ]
    },
    {
     "name": "stdout",
     "output_type": "stream",
     "text": [
      "../rcv_elections_database/single/SanFrancisco_11082022_PublicDefender.csv\n"
     ]
    },
    {
     "name": "stderr",
     "output_type": "stream",
     "text": [
      "/Users/es5891/Documents/GitHub/bugs-in-democracy/rcv_learning/rcv_dimensionality.py:170: RuntimeWarning: divide by zero encountered in divide\n",
      "  distance = 1 / np.sqrt(freq_upper_triangle)\n"
     ]
    },
    {
     "name": "stdout",
     "output_type": "stream",
     "text": [
      "../rcv_elections_database/single/NewYorkCity_06222021_DEMCouncilMember30thCouncilDistrict.csv\n"
     ]
    },
    {
     "name": "stderr",
     "output_type": "stream",
     "text": [
      "/Users/es5891/Documents/GitHub/bugs-in-democracy/rcv_learning/rcv_dimensionality.py:131: DtypeWarning: Columns (1) have mixed types. Specify dtype option on import or set low_memory=False.\n",
      "  df = pd.read_csv(csv_file, low_memory=False)\n",
      "/Users/es5891/Documents/GitHub/bugs-in-democracy/rcv_learning/rcv_dimensionality.py:170: RuntimeWarning: divide by zero encountered in divide\n",
      "  distance = 1 / np.sqrt(freq_upper_triangle)\n"
     ]
    },
    {
     "name": "stdout",
     "output_type": "stream",
     "text": [
      "../rcv_elections_database/single/NewYorkCity_06222021_DEMCouncilMember49thCouncilDistrict.csv\n"
     ]
    },
    {
     "name": "stderr",
     "output_type": "stream",
     "text": [
      "/Users/es5891/Documents/GitHub/bugs-in-democracy/rcv_learning/rcv_dimensionality.py:170: RuntimeWarning: divide by zero encountered in divide\n",
      "  distance = 1 / np.sqrt(freq_upper_triangle)\n"
     ]
    },
    {
     "name": "stdout",
     "output_type": "stream",
     "text": [
      "../rcv_elections_database/single/SanFrancisco_11082016_BoardofSupervisorsDistrict3.csv\n"
     ]
    },
    {
     "name": "stderr",
     "output_type": "stream",
     "text": [
      "/Users/es5891/Documents/GitHub/bugs-in-democracy/rcv_learning/rcv_dimensionality.py:170: RuntimeWarning: divide by zero encountered in divide\n",
      "  distance = 1 / np.sqrt(freq_upper_triangle)\n"
     ]
    },
    {
     "name": "stdout",
     "output_type": "stream",
     "text": [
      "../rcv_elections_database/single/Alaska_11082022_HouseDistrict33.csv\n",
      "Error in file: ../rcv_elections_database/single/Alaska_11082022_HouseDistrict33.csv\n",
      "../rcv_elections_database/single/Alaska_11082022_HouseDistrict27.csv\n"
     ]
    },
    {
     "name": "stderr",
     "output_type": "stream",
     "text": [
      "/Users/es5891/Documents/GitHub/bugs-in-democracy/rcv_learning/rcv_dimensionality.py:170: RuntimeWarning: divide by zero encountered in divide\n",
      "  distance = 1 / np.sqrt(freq_upper_triangle)\n"
     ]
    },
    {
     "name": "stdout",
     "output_type": "stream",
     "text": [
      "../rcv_elections_database/single/Burlington_03072006_Mayor.csv\n"
     ]
    },
    {
     "name": "stderr",
     "output_type": "stream",
     "text": [
      "/Users/es5891/Documents/GitHub/bugs-in-democracy/rcv_learning/rcv_dimensionality.py:170: RuntimeWarning: divide by zero encountered in divide\n",
      "  distance = 1 / np.sqrt(freq_upper_triangle)\n"
     ]
    },
    {
     "name": "stdout",
     "output_type": "stream",
     "text": [
      "../rcv_elections_database/single/Minneapolis_11072017_Ward7CityCouncil.csv\n"
     ]
    },
    {
     "name": "stderr",
     "output_type": "stream",
     "text": [
      "/Users/es5891/Documents/GitHub/bugs-in-democracy/rcv_learning/rcv_dimensionality.py:170: RuntimeWarning: divide by zero encountered in divide\n",
      "  distance = 1 / np.sqrt(freq_upper_triangle)\n"
     ]
    },
    {
     "name": "stdout",
     "output_type": "stream",
     "text": [
      "../rcv_elections_database/single/SanFrancisco_11052019_Treasurer.csv\n",
      "Error in file: ../rcv_elections_database/single/SanFrancisco_11052019_Treasurer.csv\n",
      "../rcv_elections_database/single/SanFrancisco_11022010_BoardofSupervisorsDistrict2.csv\n"
     ]
    },
    {
     "name": "stderr",
     "output_type": "stream",
     "text": [
      "/Users/es5891/Documents/GitHub/bugs-in-democracy/rcv_learning/rcv_dimensionality.py:170: RuntimeWarning: divide by zero encountered in divide\n",
      "  distance = 1 / np.sqrt(freq_upper_triangle)\n"
     ]
    },
    {
     "name": "stdout",
     "output_type": "stream",
     "text": [
      "../rcv_elections_database/single/Oakland_11042014_SchoolDirectorDistrict6.csv\n"
     ]
    },
    {
     "name": "stderr",
     "output_type": "stream",
     "text": [
      "/Users/es5891/Documents/GitHub/bugs-in-democracy/rcv_learning/rcv_dimensionality.py:170: RuntimeWarning: divide by zero encountered in divide\n",
      "  distance = 1 / np.sqrt(freq_upper_triangle)\n"
     ]
    },
    {
     "name": "stdout",
     "output_type": "stream",
     "text": [
      "../rcv_elections_database/single/SanFrancisco_11082022_BoardofSupervisorsD8.csv\n"
     ]
    },
    {
     "name": "stderr",
     "output_type": "stream",
     "text": [
      "/Users/es5891/Documents/GitHub/bugs-in-democracy/rcv_learning/rcv_dimensionality.py:170: RuntimeWarning: divide by zero encountered in divide\n",
      "  distance = 1 / np.sqrt(freq_upper_triangle)\n"
     ]
    },
    {
     "name": "stdout",
     "output_type": "stream",
     "text": [
      "../rcv_elections_database/single/NewYorkCity_06222021_DEMCouncilMember29thCouncilDistrict.csv\n"
     ]
    },
    {
     "name": "stderr",
     "output_type": "stream",
     "text": [
      "/Users/es5891/Documents/GitHub/bugs-in-democracy/rcv_learning/rcv_dimensionality.py:131: DtypeWarning: Columns (1) have mixed types. Specify dtype option on import or set low_memory=False.\n",
      "  df = pd.read_csv(csv_file, low_memory=False)\n",
      "/Users/es5891/Documents/GitHub/bugs-in-democracy/rcv_learning/rcv_dimensionality.py:170: RuntimeWarning: divide by zero encountered in divide\n",
      "  distance = 1 / np.sqrt(freq_upper_triangle)\n"
     ]
    },
    {
     "name": "stdout",
     "output_type": "stream",
     "text": [
      "../rcv_elections_database/single/Oakland_11082016_SchoolDirectorDistrict3.csv\n"
     ]
    },
    {
     "name": "stderr",
     "output_type": "stream",
     "text": [
      "/Users/es5891/Documents/GitHub/bugs-in-democracy/rcv_learning/rcv_dimensionality.py:170: RuntimeWarning: divide by zero encountered in divide\n",
      "  distance = 1 / np.sqrt(freq_upper_triangle)\n"
     ]
    },
    {
     "name": "stdout",
     "output_type": "stream",
     "text": [
      "../rcv_elections_database/single/Maine_07142020_DemocraticCandidateforMaineStateSenateDistrict11.csv\n"
     ]
    },
    {
     "name": "stderr",
     "output_type": "stream",
     "text": [
      "/Users/es5891/Documents/GitHub/bugs-in-democracy/rcv_learning/rcv_dimensionality.py:170: RuntimeWarning: divide by zero encountered in divide\n",
      "  distance = 1 / np.sqrt(freq_upper_triangle)\n"
     ]
    },
    {
     "name": "stdout",
     "output_type": "stream",
     "text": [
      "../rcv_elections_database/single/Oakland_11032020_SchoolDirectorDist3OaklandRCV.csv\n"
     ]
    },
    {
     "name": "stderr",
     "output_type": "stream",
     "text": [
      "/Users/es5891/Documents/GitHub/bugs-in-democracy/rcv_learning/rcv_dimensionality.py:170: RuntimeWarning: divide by zero encountered in divide\n",
      "  distance = 1 / np.sqrt(freq_upper_triangle)\n"
     ]
    },
    {
     "name": "stdout",
     "output_type": "stream",
     "text": [
      "../rcv_elections_database/single/LasCruces_11052019_MAYORCITYOFLASCRUCES.csv\n"
     ]
    },
    {
     "name": "stderr",
     "output_type": "stream",
     "text": [
      "/Users/es5891/Documents/GitHub/bugs-in-democracy/rcv_learning/rcv_dimensionality.py:170: RuntimeWarning: divide by zero encountered in divide\n",
      "  distance = 1 / np.sqrt(freq_upper_triangle)\n"
     ]
    },
    {
     "name": "stdout",
     "output_type": "stream",
     "text": [
      "../rcv_elections_database/single/Alaska_11082022_HouseDistrict40.csv\n",
      "Error in file: ../rcv_elections_database/single/Alaska_11082022_HouseDistrict40.csv\n",
      "../rcv_elections_database/single/SanFrancisco_11052019_MemberBoardofSupervisorsDistrict5.csv\n"
     ]
    },
    {
     "name": "stderr",
     "output_type": "stream",
     "text": [
      "/Users/es5891/Documents/GitHub/bugs-in-democracy/rcv_learning/rcv_dimensionality.py:170: RuntimeWarning: divide by zero encountered in divide\n",
      "  distance = 1 / np.sqrt(freq_upper_triangle)\n"
     ]
    },
    {
     "name": "stdout",
     "output_type": "stream",
     "text": [
      "../rcv_elections_database/single/Minneapolis_11022021_CityCouncilWard4.csv\n"
     ]
    },
    {
     "name": "stderr",
     "output_type": "stream",
     "text": [
      "/Users/es5891/Documents/GitHub/bugs-in-democracy/rcv_learning/rcv_dimensionality.py:170: RuntimeWarning: divide by zero encountered in divide\n",
      "  distance = 1 / np.sqrt(freq_upper_triangle)\n"
     ]
    },
    {
     "name": "stdout",
     "output_type": "stream",
     "text": [
      "../rcv_elections_database/single/Minneapolis_11022021_CityCouncilWard11.csv\n"
     ]
    },
    {
     "name": "stderr",
     "output_type": "stream",
     "text": [
      "/Users/es5891/Documents/GitHub/bugs-in-democracy/rcv_learning/rcv_dimensionality.py:170: RuntimeWarning: divide by zero encountered in divide\n",
      "  distance = 1 / np.sqrt(freq_upper_triangle)\n"
     ]
    },
    {
     "name": "stdout",
     "output_type": "stream",
     "text": [
      "../rcv_elections_database/single/Minneapolis_11062009_Ward13CityCouncil.csv\n"
     ]
    },
    {
     "name": "stderr",
     "output_type": "stream",
     "text": [
      "/Users/es5891/Documents/GitHub/bugs-in-democracy/rcv_learning/rcv_dimensionality.py:170: RuntimeWarning: divide by zero encountered in divide\n",
      "  distance = 1 / np.sqrt(freq_upper_triangle)\n"
     ]
    },
    {
     "name": "stdout",
     "output_type": "stream",
     "text": [
      "../rcv_elections_database/single/NewYorkCity_06222021_DEMCouncilMember11thCouncilDistrict.csv\n"
     ]
    },
    {
     "name": "stderr",
     "output_type": "stream",
     "text": [
      "/Users/es5891/Documents/GitHub/bugs-in-democracy/rcv_learning/rcv_dimensionality.py:170: RuntimeWarning: divide by zero encountered in divide\n",
      "  distance = 1 / np.sqrt(freq_upper_triangle)\n"
     ]
    },
    {
     "name": "stdout",
     "output_type": "stream",
     "text": [
      "../rcv_elections_database/single/SanFrancisco_11062012_BoardofSupervisorsDistrict5.csv\n"
     ]
    },
    {
     "name": "stderr",
     "output_type": "stream",
     "text": [
      "/Users/es5891/Documents/GitHub/bugs-in-democracy/rcv_learning/rcv_dimensionality.py:170: RuntimeWarning: divide by zero encountered in divide\n",
      "  distance = 1 / np.sqrt(freq_upper_triangle)\n"
     ]
    },
    {
     "name": "stdout",
     "output_type": "stream",
     "text": [
      "../rcv_elections_database/single/SanFrancisco_11052019_DistrictAttorney.csv\n"
     ]
    },
    {
     "name": "stderr",
     "output_type": "stream",
     "text": [
      "/Users/es5891/Documents/GitHub/bugs-in-democracy/rcv_learning/rcv_dimensionality.py:170: RuntimeWarning: divide by zero encountered in divide\n",
      "  distance = 1 / np.sqrt(freq_upper_triangle)\n"
     ]
    },
    {
     "name": "stdout",
     "output_type": "stream",
     "text": [
      "../rcv_elections_database/single/SanFrancisco_11052019_PublicDefender.csv\n",
      "Error in file: ../rcv_elections_database/single/SanFrancisco_11052019_PublicDefender.csv\n",
      "../rcv_elections_database/single/SanFrancisco_11022004_BoardofSupervisorsDistrict2.csv\n"
     ]
    },
    {
     "name": "stderr",
     "output_type": "stream",
     "text": [
      "/Users/es5891/Documents/GitHub/bugs-in-democracy/rcv_learning/rcv_dimensionality.py:170: RuntimeWarning: divide by zero encountered in divide\n",
      "  distance = 1 / np.sqrt(freq_upper_triangle)\n"
     ]
    },
    {
     "name": "stdout",
     "output_type": "stream",
     "text": [
      "../rcv_elections_database/single/Alaska_11082022_HouseDistrict1.csv\n"
     ]
    },
    {
     "name": "stderr",
     "output_type": "stream",
     "text": [
      "/Users/es5891/Documents/GitHub/bugs-in-democracy/rcv_learning/rcv_dimensionality.py:170: RuntimeWarning: divide by zero encountered in divide\n",
      "  distance = 1 / np.sqrt(freq_upper_triangle)\n"
     ]
    },
    {
     "name": "stdout",
     "output_type": "stream",
     "text": [
      "../rcv_elections_database/single/PierceCounty_11042008_CountyExecutiveMember.csv\n"
     ]
    },
    {
     "name": "stderr",
     "output_type": "stream",
     "text": [
      "/Users/es5891/Documents/GitHub/bugs-in-democracy/rcv_learning/rcv_dimensionality.py:170: RuntimeWarning: divide by zero encountered in divide\n",
      "  distance = 1 / np.sqrt(freq_upper_triangle)\n"
     ]
    },
    {
     "name": "stdout",
     "output_type": "stream",
     "text": [
      "../rcv_elections_database/single/Oakland_11032020_SchoolDirectorDist7OaklandRCV.csv\n"
     ]
    },
    {
     "name": "stderr",
     "output_type": "stream",
     "text": [
      "/Users/es5891/Documents/GitHub/bugs-in-democracy/rcv_learning/rcv_dimensionality.py:170: RuntimeWarning: divide by zero encountered in divide\n",
      "  distance = 1 / np.sqrt(freq_upper_triangle)\n"
     ]
    },
    {
     "name": "stdout",
     "output_type": "stream",
     "text": [
      "../rcv_elections_database/single/Minneapolis_11072017_Ward5CityCouncil.csv\n"
     ]
    },
    {
     "name": "stderr",
     "output_type": "stream",
     "text": [
      "/Users/es5891/Documents/GitHub/bugs-in-democracy/rcv_learning/rcv_dimensionality.py:170: RuntimeWarning: divide by zero encountered in divide\n",
      "  distance = 1 / np.sqrt(freq_upper_triangle)\n"
     ]
    },
    {
     "name": "stdout",
     "output_type": "stream",
     "text": [
      "../rcv_elections_database/single/SanFrancisco_11022004_BoardofSupervisorsDistrict3.csv\n"
     ]
    },
    {
     "name": "stderr",
     "output_type": "stream",
     "text": [
      "/Users/es5891/Documents/GitHub/bugs-in-democracy/rcv_learning/rcv_dimensionality.py:170: RuntimeWarning: divide by zero encountered in divide\n",
      "  distance = 1 / np.sqrt(freq_upper_triangle)\n"
     ]
    },
    {
     "name": "stdout",
     "output_type": "stream",
     "text": [
      "../rcv_elections_database/single/Oakland_11062012_SchoolDirectorDistrict1.csv\n"
     ]
    },
    {
     "name": "stderr",
     "output_type": "stream",
     "text": [
      "/Users/es5891/Documents/GitHub/bugs-in-democracy/rcv_learning/rcv_dimensionality.py:170: RuntimeWarning: divide by zero encountered in divide\n",
      "  distance = 1 / np.sqrt(freq_upper_triangle)\n"
     ]
    },
    {
     "name": "stdout",
     "output_type": "stream",
     "text": [
      "../rcv_elections_database/single/Oakland_11062018_SchoolDirectorDistrict6.csv\n"
     ]
    },
    {
     "name": "stderr",
     "output_type": "stream",
     "text": [
      "/Users/es5891/Documents/GitHub/bugs-in-democracy/rcv_learning/rcv_dimensionality.py:170: RuntimeWarning: divide by zero encountered in divide\n",
      "  distance = 1 / np.sqrt(freq_upper_triangle)\n"
     ]
    },
    {
     "name": "stdout",
     "output_type": "stream",
     "text": [
      "../rcv_elections_database/single/Minneapolis_11022021_CityCouncilWard10.csv\n"
     ]
    },
    {
     "name": "stderr",
     "output_type": "stream",
     "text": [
      "/Users/es5891/Documents/GitHub/bugs-in-democracy/rcv_learning/rcv_dimensionality.py:170: RuntimeWarning: divide by zero encountered in divide\n",
      "  distance = 1 / np.sqrt(freq_upper_triangle)\n"
     ]
    },
    {
     "name": "stdout",
     "output_type": "stream",
     "text": [
      "../rcv_elections_database/single/Minneapolis_11022021_CityCouncilWard5.csv\n"
     ]
    },
    {
     "name": "stderr",
     "output_type": "stream",
     "text": [
      "/Users/es5891/Documents/GitHub/bugs-in-democracy/rcv_learning/rcv_dimensionality.py:170: RuntimeWarning: divide by zero encountered in divide\n",
      "  distance = 1 / np.sqrt(freq_upper_triangle)\n"
     ]
    },
    {
     "name": "stdout",
     "output_type": "stream",
     "text": [
      "../rcv_elections_database/single/NewYorkCity_06222021_DEMCouncilMember1stCouncilDistrict.csv\n"
     ]
    },
    {
     "name": "stderr",
     "output_type": "stream",
     "text": [
      "/Users/es5891/Documents/GitHub/bugs-in-democracy/rcv_learning/rcv_dimensionality.py:170: RuntimeWarning: divide by zero encountered in divide\n",
      "  distance = 1 / np.sqrt(freq_upper_triangle)\n"
     ]
    },
    {
     "name": "stdout",
     "output_type": "stream",
     "text": [
      "../rcv_elections_database/single/SanFrancisco_11072006_BoardofSupervisorsDistrict8.csv\n"
     ]
    },
    {
     "name": "stderr",
     "output_type": "stream",
     "text": [
      "/Users/es5891/Documents/GitHub/bugs-in-democracy/rcv_learning/rcv_dimensionality.py:170: RuntimeWarning: divide by zero encountered in divide\n",
      "  distance = 1 / np.sqrt(freq_upper_triangle)\n"
     ]
    },
    {
     "name": "stdout",
     "output_type": "stream",
     "text": [
      "../rcv_elections_database/single/Alaska_11082022_SenateDistrictA.csv\n"
     ]
    },
    {
     "name": "stderr",
     "output_type": "stream",
     "text": [
      "/Users/es5891/Documents/GitHub/bugs-in-democracy/rcv_learning/rcv_dimensionality.py:170: RuntimeWarning: divide by zero encountered in divide\n",
      "  distance = 1 / np.sqrt(freq_upper_triangle)\n"
     ]
    },
    {
     "name": "stdout",
     "output_type": "stream",
     "text": [
      "../rcv_elections_database/single/Oakland_11062018_CityCouncilDistrict2.csv\n"
     ]
    },
    {
     "name": "stderr",
     "output_type": "stream",
     "text": [
      "/Users/es5891/Documents/GitHub/bugs-in-democracy/rcv_learning/rcv_dimensionality.py:170: RuntimeWarning: divide by zero encountered in divide\n",
      "  distance = 1 / np.sqrt(freq_upper_triangle)\n"
     ]
    },
    {
     "name": "stdout",
     "output_type": "stream",
     "text": [
      "../rcv_elections_database/single/NewYorkCity_06222021_DEMCouncilMember14thCouncilDistrict.csv\n"
     ]
    },
    {
     "name": "stderr",
     "output_type": "stream",
     "text": [
      "/Users/es5891/Documents/GitHub/bugs-in-democracy/rcv_learning/rcv_dimensionality.py:170: RuntimeWarning: divide by zero encountered in divide\n",
      "  distance = 1 / np.sqrt(freq_upper_triangle)\n"
     ]
    },
    {
     "name": "stdout",
     "output_type": "stream",
     "text": [
      "../rcv_elections_database/single/NewYorkCity_06222021_DEMCouncilMember5thCouncilDistrict.csv\n"
     ]
    },
    {
     "name": "stderr",
     "output_type": "stream",
     "text": [
      "/Users/es5891/Documents/GitHub/bugs-in-democracy/rcv_learning/rcv_dimensionality.py:170: RuntimeWarning: divide by zero encountered in divide\n",
      "  distance = 1 / np.sqrt(freq_upper_triangle)\n"
     ]
    },
    {
     "name": "stdout",
     "output_type": "stream",
     "text": [
      "../rcv_elections_database/single/Alaska_11082022_SenateDistrictC.csv\n"
     ]
    },
    {
     "name": "stderr",
     "output_type": "stream",
     "text": [
      "/Users/es5891/Documents/GitHub/bugs-in-democracy/rcv_learning/rcv_dimensionality.py:170: RuntimeWarning: divide by zero encountered in divide\n",
      "  distance = 1 / np.sqrt(freq_upper_triangle)\n"
     ]
    },
    {
     "name": "stdout",
     "output_type": "stream",
     "text": [
      "../rcv_elections_database/single/PierceCounty_11032009_CountyAuditor.csv\n"
     ]
    },
    {
     "name": "stderr",
     "output_type": "stream",
     "text": [
      "/Users/es5891/Documents/GitHub/bugs-in-democracy/rcv_learning/rcv_dimensionality.py:170: RuntimeWarning: divide by zero encountered in divide\n",
      "  distance = 1 / np.sqrt(freq_upper_triangle)\n"
     ]
    },
    {
     "name": "stdout",
     "output_type": "stream",
     "text": [
      "../rcv_elections_database/single/SanLeandro_11042014_CountyCouncilDistrict5.csv\n"
     ]
    },
    {
     "name": "stderr",
     "output_type": "stream",
     "text": [
      "/Users/es5891/Documents/GitHub/bugs-in-democracy/rcv_learning/rcv_dimensionality.py:170: RuntimeWarning: divide by zero encountered in divide\n",
      "  distance = 1 / np.sqrt(freq_upper_triangle)\n"
     ]
    },
    {
     "name": "stdout",
     "output_type": "stream",
     "text": [
      "../rcv_elections_database/single/Minneapolis_11022021_CityCouncilWard12.csv\n"
     ]
    },
    {
     "name": "stderr",
     "output_type": "stream",
     "text": [
      "/Users/es5891/Documents/GitHub/bugs-in-democracy/rcv_learning/rcv_dimensionality.py:170: RuntimeWarning: divide by zero encountered in divide\n",
      "  distance = 1 / np.sqrt(freq_upper_triangle)\n"
     ]
    },
    {
     "name": "stdout",
     "output_type": "stream",
     "text": [
      "../rcv_elections_database/single/Minneapolis_11022021_CityCouncilWard7.csv\n"
     ]
    },
    {
     "name": "stderr",
     "output_type": "stream",
     "text": [
      "/Users/es5891/Documents/GitHub/bugs-in-democracy/rcv_learning/rcv_dimensionality.py:170: RuntimeWarning: divide by zero encountered in divide\n",
      "  distance = 1 / np.sqrt(freq_upper_triangle)\n"
     ]
    },
    {
     "name": "stdout",
     "output_type": "stream",
     "text": [
      "../rcv_elections_database/single/NewYorkCity_06222021_DEMCouncilMember2ndCouncilDistrict.csv\n"
     ]
    },
    {
     "name": "stderr",
     "output_type": "stream",
     "text": [
      "/Users/es5891/Documents/GitHub/bugs-in-democracy/rcv_learning/rcv_dimensionality.py:170: RuntimeWarning: divide by zero encountered in divide\n",
      "  distance = 1 / np.sqrt(freq_upper_triangle)\n"
     ]
    },
    {
     "name": "stdout",
     "output_type": "stream",
     "text": [
      "../rcv_elections_database/single/Oakland_11062018_SchoolDirectorDistrict4.csv\n"
     ]
    },
    {
     "name": "stderr",
     "output_type": "stream",
     "text": [
      "/Users/es5891/Documents/GitHub/bugs-in-democracy/rcv_learning/rcv_dimensionality.py:170: RuntimeWarning: divide by zero encountered in divide\n",
      "  distance = 1 / np.sqrt(freq_upper_triangle)\n"
     ]
    },
    {
     "name": "stdout",
     "output_type": "stream",
     "text": [
      "../rcv_elections_database/single/Oakland_11062012_SchoolDirectorDistrict3.csv\n"
     ]
    },
    {
     "name": "stderr",
     "output_type": "stream",
     "text": [
      "/Users/es5891/Documents/GitHub/bugs-in-democracy/rcv_learning/rcv_dimensionality.py:170: RuntimeWarning: divide by zero encountered in divide\n",
      "  distance = 1 / np.sqrt(freq_upper_triangle)\n"
     ]
    },
    {
     "name": "stdout",
     "output_type": "stream",
     "text": [
      "../rcv_elections_database/single/Alaska_11082022_HouseDistrict2.csv\n"
     ]
    },
    {
     "name": "stderr",
     "output_type": "stream",
     "text": [
      "/Users/es5891/Documents/GitHub/bugs-in-democracy/rcv_learning/rcv_dimensionality.py:170: RuntimeWarning: divide by zero encountered in divide\n",
      "  distance = 1 / np.sqrt(freq_upper_triangle)\n"
     ]
    },
    {
     "name": "stdout",
     "output_type": "stream",
     "text": [
      "../rcv_elections_database/single/Alaska_11082022_HouseDistrict3.csv\n",
      "Error in file: ../rcv_elections_database/single/Alaska_11082022_HouseDistrict3.csv\n",
      "../rcv_elections_database/single/SanLeandro_11032020_MemberCityCouncilDist4SanLeandroRCV.csv\n"
     ]
    },
    {
     "name": "stderr",
     "output_type": "stream",
     "text": [
      "/Users/es5891/Documents/GitHub/bugs-in-democracy/rcv_learning/rcv_dimensionality.py:170: RuntimeWarning: divide by zero encountered in divide\n",
      "  distance = 1 / np.sqrt(freq_upper_triangle)\n"
     ]
    },
    {
     "name": "stdout",
     "output_type": "stream",
     "text": [
      "../rcv_elections_database/single/SanFrancisco_11062012_BoardofSupervisorsDistrict7.csv\n"
     ]
    },
    {
     "name": "stderr",
     "output_type": "stream",
     "text": [
      "/Users/es5891/Documents/GitHub/bugs-in-democracy/rcv_learning/rcv_dimensionality.py:170: RuntimeWarning: divide by zero encountered in divide\n",
      "  distance = 1 / np.sqrt(freq_upper_triangle)\n"
     ]
    },
    {
     "name": "stdout",
     "output_type": "stream",
     "text": [
      "../rcv_elections_database/single/Minneapolis_11022021_CityCouncilWard6.csv\n"
     ]
    },
    {
     "name": "stderr",
     "output_type": "stream",
     "text": [
      "/Users/es5891/Documents/GitHub/bugs-in-democracy/rcv_learning/rcv_dimensionality.py:170: RuntimeWarning: divide by zero encountered in divide\n",
      "  distance = 1 / np.sqrt(freq_upper_triangle)\n"
     ]
    },
    {
     "name": "stdout",
     "output_type": "stream",
     "text": [
      "../rcv_elections_database/single/Minneapolis_11072017_Ward2CityCouncil.csv\n",
      "Error in file: ../rcv_elections_database/single/Minneapolis_11072017_Ward2CityCouncil.csv\n",
      "../rcv_elections_database/single/Minneapolis_11022021_CityCouncilWard13.csv\n"
     ]
    },
    {
     "name": "stderr",
     "output_type": "stream",
     "text": [
      "/Users/es5891/Documents/GitHub/bugs-in-democracy/rcv_learning/rcv_dimensionality.py:170: RuntimeWarning: divide by zero encountered in divide\n",
      "  distance = 1 / np.sqrt(freq_upper_triangle)\n"
     ]
    },
    {
     "name": "stdout",
     "output_type": "stream",
     "text": [
      "../rcv_elections_database/single/NewYorkCity_06222021_DEMCouncilMember26thCouncilDistrict.csv\n"
     ]
    },
    {
     "name": "stderr",
     "output_type": "stream",
     "text": [
      "/Users/es5891/Documents/GitHub/bugs-in-democracy/rcv_learning/rcv_dimensionality.py:131: DtypeWarning: Columns (1) have mixed types. Specify dtype option on import or set low_memory=False.\n",
      "  df = pd.read_csv(csv_file, low_memory=False)\n",
      "/Users/es5891/Documents/GitHub/bugs-in-democracy/rcv_learning/rcv_dimensionality.py:170: RuntimeWarning: divide by zero encountered in divide\n",
      "  distance = 1 / np.sqrt(freq_upper_triangle)\n"
     ]
    },
    {
     "name": "stdout",
     "output_type": "stream",
     "text": [
      "../rcv_elections_database/single/Berkeley_11032020_MemberCityCouncilDist6BerkeleyRCV.csv\n"
     ]
    },
    {
     "name": "stderr",
     "output_type": "stream",
     "text": [
      "/Users/es5891/Documents/GitHub/bugs-in-democracy/rcv_learning/rcv_dimensionality.py:170: RuntimeWarning: divide by zero encountered in divide\n",
      "  distance = 1 / np.sqrt(freq_upper_triangle)\n"
     ]
    },
    {
     "name": "stdout",
     "output_type": "stream",
     "text": [
      "../rcv_elections_database/single/Hawaii_05232020_PresidentoftheUnitedStateCD1CD2.csv\n"
     ]
    },
    {
     "name": "stderr",
     "output_type": "stream",
     "text": [
      "/Users/es5891/Documents/GitHub/bugs-in-democracy/rcv_learning/rcv_dimensionality.py:170: RuntimeWarning: divide by zero encountered in divide\n",
      "  distance = 1 / np.sqrt(freq_upper_triangle)\n"
     ]
    },
    {
     "name": "stdout",
     "output_type": "stream",
     "text": [
      "../rcv_elections_database/single/Alaska_11082022_SenateDistrictB.csv\n",
      "Error in file: ../rcv_elections_database/single/Alaska_11082022_SenateDistrictB.csv\n",
      "../rcv_elections_database/single/Oakland_11082016_SchoolDirectorDistrict1.csv\n"
     ]
    },
    {
     "name": "stderr",
     "output_type": "stream",
     "text": [
      "/Users/es5891/Documents/GitHub/bugs-in-democracy/rcv_learning/rcv_dimensionality.py:170: RuntimeWarning: divide by zero encountered in divide\n",
      "  distance = 1 / np.sqrt(freq_upper_triangle)\n"
     ]
    },
    {
     "name": "stdout",
     "output_type": "stream",
     "text": [
      "../rcv_elections_database/single/Alaska_11082022_GovernorLieutenantGovernor.csv\n"
     ]
    },
    {
     "name": "stderr",
     "output_type": "stream",
     "text": [
      "/Users/es5891/Documents/GitHub/bugs-in-democracy/rcv_learning/rcv_dimensionality.py:170: RuntimeWarning: divide by zero encountered in divide\n",
      "  distance = 1 / np.sqrt(freq_upper_triangle)\n"
     ]
    },
    {
     "name": "stdout",
     "output_type": "stream",
     "text": [
      "../rcv_elections_database/single/SanFrancisco_11082016_BoardofSupervisorsDistrict11.csv\n"
     ]
    },
    {
     "name": "stderr",
     "output_type": "stream",
     "text": [
      "/Users/es5891/Documents/GitHub/bugs-in-democracy/rcv_learning/rcv_dimensionality.py:170: RuntimeWarning: divide by zero encountered in divide\n",
      "  distance = 1 / np.sqrt(freq_upper_triangle)\n"
     ]
    },
    {
     "name": "stdout",
     "output_type": "stream",
     "text": [
      "../rcv_elections_database/single/Oakland_11042014_Mayor.csv\n"
     ]
    },
    {
     "name": "stderr",
     "output_type": "stream",
     "text": [
      "/Users/es5891/Documents/GitHub/bugs-in-democracy/rcv_learning/rcv_dimensionality.py:159: RuntimeWarning: divide by zero encountered in divide\n",
      "  frequencies = counts / mentioned_together\n",
      "/Users/es5891/Documents/GitHub/bugs-in-democracy/rcv_learning/rcv_dimensionality.py:170: RuntimeWarning: divide by zero encountered in divide\n",
      "  distance = 1 / np.sqrt(freq_upper_triangle)\n"
     ]
    },
    {
     "name": "stdout",
     "output_type": "stream",
     "text": [
      "../rcv_elections_database/single/Minneapolis_11072017_Ward3CityCouncil.csv\n"
     ]
    },
    {
     "name": "stderr",
     "output_type": "stream",
     "text": [
      "/Users/es5891/Documents/GitHub/bugs-in-democracy/rcv_learning/rcv_dimensionality.py:170: RuntimeWarning: divide by zero encountered in divide\n",
      "  distance = 1 / np.sqrt(freq_upper_triangle)\n"
     ]
    },
    {
     "name": "stdout",
     "output_type": "stream",
     "text": [
      "../rcv_elections_database/single/Berkeley_11022010_CityCouncilDistrict8.csv\n"
     ]
    },
    {
     "name": "stderr",
     "output_type": "stream",
     "text": [
      "/Users/es5891/Documents/GitHub/bugs-in-democracy/rcv_learning/rcv_dimensionality.py:170: RuntimeWarning: divide by zero encountered in divide\n",
      "  distance = 1 / np.sqrt(freq_upper_triangle)\n"
     ]
    },
    {
     "name": "stdout",
     "output_type": "stream",
     "text": [
      "../rcv_elections_database/single/Burlington_03072023_CityCouncilSouthDistrict.csv\n"
     ]
    },
    {
     "name": "stderr",
     "output_type": "stream",
     "text": [
      "/Users/es5891/Documents/GitHub/bugs-in-democracy/rcv_learning/rcv_dimensionality.py:170: RuntimeWarning: divide by zero encountered in divide\n",
      "  distance = 1 / np.sqrt(freq_upper_triangle)\n"
     ]
    },
    {
     "name": "stdout",
     "output_type": "stream",
     "text": [
      "../rcv_elections_database/single/Alaska_11082022_SenateDistrictQ.csv\n"
     ]
    },
    {
     "name": "stderr",
     "output_type": "stream",
     "text": [
      "/Users/es5891/Documents/GitHub/bugs-in-democracy/rcv_learning/rcv_dimensionality.py:170: RuntimeWarning: divide by zero encountered in divide\n",
      "  distance = 1 / np.sqrt(freq_upper_triangle)\n"
     ]
    },
    {
     "name": "stdout",
     "output_type": "stream",
     "text": [
      "../rcv_elections_database/single/Springville_11022021_CityCouncil2yr.csv\n"
     ]
    },
    {
     "name": "stderr",
     "output_type": "stream",
     "text": [
      "/Users/es5891/Documents/GitHub/bugs-in-democracy/rcv_learning/rcv_dimensionality.py:170: RuntimeWarning: divide by zero encountered in divide\n",
      "  distance = 1 / np.sqrt(freq_upper_triangle)\n"
     ]
    },
    {
     "name": "stdout",
     "output_type": "stream",
     "text": [
      "../rcv_elections_database/single/Oakland_11082016_SchoolDirectorDistrict5.csv\n"
     ]
    },
    {
     "name": "stderr",
     "output_type": "stream",
     "text": [
      "/Users/es5891/Documents/GitHub/bugs-in-democracy/rcv_learning/rcv_dimensionality.py:170: RuntimeWarning: divide by zero encountered in divide\n",
      "  distance = 1 / np.sqrt(freq_upper_triangle)\n"
     ]
    },
    {
     "name": "stdout",
     "output_type": "stream",
     "text": [
      "../rcv_elections_database/single/Alaska_11082022_SenateDistrictF.csv\n"
     ]
    },
    {
     "name": "stderr",
     "output_type": "stream",
     "text": [
      "/Users/es5891/Documents/GitHub/bugs-in-democracy/rcv_learning/rcv_dimensionality.py:170: RuntimeWarning: divide by zero encountered in divide\n",
      "  distance = 1 / np.sqrt(freq_upper_triangle)\n"
     ]
    },
    {
     "name": "stdout",
     "output_type": "stream",
     "text": [
      "../rcv_elections_database/single/WoodlandHills_11022021_Mayor.csv\n"
     ]
    },
    {
     "name": "stderr",
     "output_type": "stream",
     "text": [
      "/Users/es5891/Documents/GitHub/bugs-in-democracy/rcv_learning/rcv_dimensionality.py:170: RuntimeWarning: divide by zero encountered in divide\n",
      "  distance = 1 / np.sqrt(freq_upper_triangle)\n"
     ]
    },
    {
     "name": "stdout",
     "output_type": "stream",
     "text": [
      "../rcv_elections_database/single/Minneapolis_11022021_CityCouncilWard2.csv\n"
     ]
    },
    {
     "name": "stderr",
     "output_type": "stream",
     "text": [
      "/Users/es5891/Documents/GitHub/bugs-in-democracy/rcv_learning/rcv_dimensionality.py:170: RuntimeWarning: divide by zero encountered in divide\n",
      "  distance = 1 / np.sqrt(freq_upper_triangle)\n"
     ]
    },
    {
     "name": "stdout",
     "output_type": "stream",
     "text": [
      "../rcv_elections_database/single/Burlington_03072023_CityCouncilCentralDistrict.csv\n"
     ]
    },
    {
     "name": "stderr",
     "output_type": "stream",
     "text": [
      "/Users/es5891/Documents/GitHub/bugs-in-democracy/rcv_learning/rcv_dimensionality.py:170: RuntimeWarning: divide by zero encountered in divide\n",
      "  distance = 1 / np.sqrt(freq_upper_triangle)\n"
     ]
    },
    {
     "name": "stdout",
     "output_type": "stream",
     "text": [
      "../rcv_elections_database/single/NewYorkCity_06222021_DEMCouncilMember34thCouncilDistrict.csv\n"
     ]
    },
    {
     "name": "stderr",
     "output_type": "stream",
     "text": [
      "/Users/es5891/Documents/GitHub/bugs-in-democracy/rcv_learning/rcv_dimensionality.py:131: DtypeWarning: Columns (1) have mixed types. Specify dtype option on import or set low_memory=False.\n",
      "  df = pd.read_csv(csv_file, low_memory=False)\n",
      "/Users/es5891/Documents/GitHub/bugs-in-democracy/rcv_learning/rcv_dimensionality.py:170: RuntimeWarning: divide by zero encountered in divide\n",
      "  distance = 1 / np.sqrt(freq_upper_triangle)\n"
     ]
    },
    {
     "name": "stdout",
     "output_type": "stream",
     "text": [
      "../rcv_elections_database/single/Alaska_11082022_HouseDistrict7.csv\n"
     ]
    },
    {
     "name": "stderr",
     "output_type": "stream",
     "text": [
      "/Users/es5891/Documents/GitHub/bugs-in-democracy/rcv_learning/rcv_dimensionality.py:170: RuntimeWarning: divide by zero encountered in divide\n",
      "  distance = 1 / np.sqrt(freq_upper_triangle)\n"
     ]
    },
    {
     "name": "stdout",
     "output_type": "stream",
     "text": [
      "../rcv_elections_database/single/Alaska_11082022_HouseDistrict6.csv\n"
     ]
    },
    {
     "name": "stderr",
     "output_type": "stream",
     "text": [
      "/Users/es5891/Documents/GitHub/bugs-in-democracy/rcv_learning/rcv_dimensionality.py:170: RuntimeWarning: divide by zero encountered in divide\n",
      "  distance = 1 / np.sqrt(freq_upper_triangle)\n"
     ]
    },
    {
     "name": "stdout",
     "output_type": "stream",
     "text": [
      "../rcv_elections_database/single/Oakland_11062012_SchoolDirectorDistrict7.csv\n"
     ]
    },
    {
     "name": "stderr",
     "output_type": "stream",
     "text": [
      "/Users/es5891/Documents/GitHub/bugs-in-democracy/rcv_learning/rcv_dimensionality.py:170: RuntimeWarning: divide by zero encountered in divide\n",
      "  distance = 1 / np.sqrt(freq_upper_triangle)\n"
     ]
    },
    {
     "name": "stdout",
     "output_type": "stream",
     "text": [
      "../rcv_elections_database/single/SanFrancisco_11022004_BoardofSupervisorsDistrict5.csv\n"
     ]
    },
    {
     "name": "stderr",
     "output_type": "stream",
     "text": [
      "/Users/es5891/Documents/GitHub/bugs-in-democracy/rcv_learning/rcv_dimensionality.py:170: RuntimeWarning: divide by zero encountered in divide\n",
      "  distance = 1 / np.sqrt(freq_upper_triangle)\n"
     ]
    },
    {
     "name": "stdout",
     "output_type": "stream",
     "text": [
      "../rcv_elections_database/single/Minneapolis_11022021_CityCouncilWard3.csv\n"
     ]
    },
    {
     "name": "stderr",
     "output_type": "stream",
     "text": [
      "/Users/es5891/Documents/GitHub/bugs-in-democracy/rcv_learning/rcv_dimensionality.py:170: RuntimeWarning: divide by zero encountered in divide\n",
      "  distance = 1 / np.sqrt(freq_upper_triangle)\n"
     ]
    },
    {
     "name": "stdout",
     "output_type": "stream",
     "text": [
      "../rcv_elections_database/single/Minnetonka_11022021_CityCouncilAtLargeSeatA.csv\n"
     ]
    },
    {
     "name": "stderr",
     "output_type": "stream",
     "text": [
      "/Users/es5891/Documents/GitHub/bugs-in-democracy/rcv_learning/rcv_dimensionality.py:170: RuntimeWarning: divide by zero encountered in divide\n",
      "  distance = 1 / np.sqrt(freq_upper_triangle)\n"
     ]
    },
    {
     "name": "stdout",
     "output_type": "stream",
     "text": [
      "../rcv_elections_database/single/SanLeandro_11042014_CountyCouncilDistrict1.csv\n"
     ]
    },
    {
     "name": "stderr",
     "output_type": "stream",
     "text": [
      "/Users/es5891/Documents/GitHub/bugs-in-democracy/rcv_learning/rcv_dimensionality.py:170: RuntimeWarning: divide by zero encountered in divide\n",
      "  distance = 1 / np.sqrt(freq_upper_triangle)\n"
     ]
    },
    {
     "name": "stdout",
     "output_type": "stream",
     "text": [
      "../rcv_elections_database/single/Oakland_11032020_CityAttorneyOaklandRCV.csv\n"
     ]
    },
    {
     "name": "stderr",
     "output_type": "stream",
     "text": [
      "/Users/es5891/Documents/GitHub/bugs-in-democracy/rcv_learning/rcv_dimensionality.py:170: RuntimeWarning: divide by zero encountered in divide\n",
      "  distance = 1 / np.sqrt(freq_upper_triangle)\n"
     ]
    },
    {
     "name": "stdout",
     "output_type": "stream",
     "text": [
      "../rcv_elections_database/single/Alaska_11082022_SenateDistrictG.csv\n"
     ]
    },
    {
     "name": "stderr",
     "output_type": "stream",
     "text": [
      "/Users/es5891/Documents/GitHub/bugs-in-democracy/rcv_learning/rcv_dimensionality.py:170: RuntimeWarning: divide by zero encountered in divide\n",
      "  distance = 1 / np.sqrt(freq_upper_triangle)\n"
     ]
    },
    {
     "name": "stdout",
     "output_type": "stream",
     "text": [
      "../rcv_elections_database/single/Alaska_11082022_SenateDistrictP.csv\n"
     ]
    },
    {
     "name": "stderr",
     "output_type": "stream",
     "text": [
      "/Users/es5891/Documents/GitHub/bugs-in-democracy/rcv_learning/rcv_dimensionality.py:170: RuntimeWarning: divide by zero encountered in divide\n",
      "  distance = 1 / np.sqrt(freq_upper_triangle)\n"
     ]
    },
    {
     "name": "stdout",
     "output_type": "stream",
     "text": [
      "../rcv_elections_database/single/NewYorkCity_06222021_DEMCouncilMember48thCouncilDistrict.csv\n"
     ]
    },
    {
     "name": "stderr",
     "output_type": "stream",
     "text": [
      "/Users/es5891/Documents/GitHub/bugs-in-democracy/rcv_learning/rcv_dimensionality.py:131: DtypeWarning: Columns (1) have mixed types. Specify dtype option on import or set low_memory=False.\n",
      "  df = pd.read_csv(csv_file, low_memory=False)\n",
      "/Users/es5891/Documents/GitHub/bugs-in-democracy/rcv_learning/rcv_dimensionality.py:170: RuntimeWarning: divide by zero encountered in divide\n",
      "  distance = 1 / np.sqrt(freq_upper_triangle)\n"
     ]
    },
    {
     "name": "stdout",
     "output_type": "stream",
     "text": [
      "../rcv_elections_database/single/Oakland_11062018_CityCouncilDistrict4.csv\n"
     ]
    },
    {
     "name": "stderr",
     "output_type": "stream",
     "text": [
      "/Users/es5891/Documents/GitHub/bugs-in-democracy/rcv_learning/rcv_dimensionality.py:170: RuntimeWarning: divide by zero encountered in divide\n",
      "  distance = 1 / np.sqrt(freq_upper_triangle)\n"
     ]
    },
    {
     "name": "stdout",
     "output_type": "stream",
     "text": [
      "../rcv_elections_database/single/SanFrancisco_11082005_Treasurer.csv\n"
     ]
    },
    {
     "name": "stderr",
     "output_type": "stream",
     "text": [
      "/Users/es5891/Documents/GitHub/bugs-in-democracy/rcv_learning/rcv_dimensionality.py:170: RuntimeWarning: divide by zero encountered in divide\n",
      "  distance = 1 / np.sqrt(freq_upper_triangle)\n"
     ]
    },
    {
     "name": "stdout",
     "output_type": "stream",
     "text": [
      "../rcv_elections_database/single/Oakland_11062018_CityCouncilDistrict6.csv\n"
     ]
    },
    {
     "name": "stderr",
     "output_type": "stream",
     "text": [
      "/Users/es5891/Documents/GitHub/bugs-in-democracy/rcv_learning/rcv_dimensionality.py:170: RuntimeWarning: divide by zero encountered in divide\n",
      "  distance = 1 / np.sqrt(freq_upper_triangle)\n"
     ]
    },
    {
     "name": "stdout",
     "output_type": "stream",
     "text": [
      "../rcv_elections_database/single/NewYorkCity_06222021_DEMCouncilMember47thCouncilDistrict.csv\n"
     ]
    },
    {
     "name": "stderr",
     "output_type": "stream",
     "text": [
      "/Users/es5891/Documents/GitHub/bugs-in-democracy/rcv_learning/rcv_dimensionality.py:131: DtypeWarning: Columns (1) have mixed types. Specify dtype option on import or set low_memory=False.\n",
      "  df = pd.read_csv(csv_file, low_memory=False)\n",
      "/Users/es5891/Documents/GitHub/bugs-in-democracy/rcv_learning/rcv_dimensionality.py:170: RuntimeWarning: divide by zero encountered in divide\n",
      "  distance = 1 / np.sqrt(freq_upper_triangle)\n"
     ]
    },
    {
     "name": "stdout",
     "output_type": "stream",
     "text": [
      "../rcv_elections_database/single/Alaska_11082022_SenateDistrictR.csv\n"
     ]
    },
    {
     "name": "stderr",
     "output_type": "stream",
     "text": [
      "/Users/es5891/Documents/GitHub/bugs-in-democracy/rcv_learning/rcv_dimensionality.py:170: RuntimeWarning: divide by zero encountered in divide\n",
      "  distance = 1 / np.sqrt(freq_upper_triangle)\n"
     ]
    },
    {
     "name": "stdout",
     "output_type": "stream",
     "text": [
      "../rcv_elections_database/single/NewYorkCity_06222021_DEMBoroughPresidentQueens.csv\n"
     ]
    },
    {
     "name": "stderr",
     "output_type": "stream",
     "text": [
      "/Users/es5891/Documents/GitHub/bugs-in-democracy/rcv_learning/rcv_dimensionality.py:131: DtypeWarning: Columns (1) have mixed types. Specify dtype option on import or set low_memory=False.\n",
      "  df = pd.read_csv(csv_file, low_memory=False)\n",
      "/Users/es5891/Documents/GitHub/bugs-in-democracy/rcv_learning/rcv_dimensionality.py:170: RuntimeWarning: divide by zero encountered in divide\n",
      "  distance = 1 / np.sqrt(freq_upper_triangle)\n"
     ]
    },
    {
     "name": "stdout",
     "output_type": "stream",
     "text": [
      "../rcv_elections_database/single/Alaska_11082022_SenateDistrictE.csv\n"
     ]
    },
    {
     "name": "stderr",
     "output_type": "stream",
     "text": [
      "/Users/es5891/Documents/GitHub/bugs-in-democracy/rcv_learning/rcv_dimensionality.py:170: RuntimeWarning: divide by zero encountered in divide\n",
      "  distance = 1 / np.sqrt(freq_upper_triangle)\n"
     ]
    },
    {
     "name": "stdout",
     "output_type": "stream",
     "text": [
      "../rcv_elections_database/single/NewYorkCity_06222021_DEMCouncilMember3rdCouncilDistrict.csv\n"
     ]
    },
    {
     "name": "stderr",
     "output_type": "stream",
     "text": [
      "/Users/es5891/Documents/GitHub/bugs-in-democracy/rcv_learning/rcv_dimensionality.py:170: RuntimeWarning: divide by zero encountered in divide\n",
      "  distance = 1 / np.sqrt(freq_upper_triangle)\n"
     ]
    },
    {
     "name": "stdout",
     "output_type": "stream",
     "text": [
      "../rcv_elections_database/single/Burlington_03072023_CityCouncilNorthDistrict.csv\n",
      "Error in file: ../rcv_elections_database/single/Burlington_03072023_CityCouncilNorthDistrict.csv\n",
      "../rcv_elections_database/single/SanLeandro_11042014_CountyCouncilDistrict3.csv\n"
     ]
    },
    {
     "name": "stderr",
     "output_type": "stream",
     "text": [
      "/Users/es5891/Documents/GitHub/bugs-in-democracy/rcv_learning/rcv_dimensionality.py:170: RuntimeWarning: divide by zero encountered in divide\n",
      "  distance = 1 / np.sqrt(freq_upper_triangle)\n"
     ]
    },
    {
     "name": "stdout",
     "output_type": "stream",
     "text": [
      "../rcv_elections_database/single/NewYorkCity_06222021_REPCouncilMember24thCouncilDistrict.csv\n"
     ]
    },
    {
     "name": "stderr",
     "output_type": "stream",
     "text": [
      "/Users/es5891/Documents/GitHub/bugs-in-democracy/rcv_learning/rcv_dimensionality.py:131: DtypeWarning: Columns (1) have mixed types. Specify dtype option on import or set low_memory=False.\n",
      "  df = pd.read_csv(csv_file, low_memory=False)\n",
      "/Users/es5891/Documents/GitHub/bugs-in-democracy/rcv_learning/rcv_dimensionality.py:170: RuntimeWarning: divide by zero encountered in divide\n",
      "  distance = 1 / np.sqrt(freq_upper_triangle)\n"
     ]
    },
    {
     "name": "stdout",
     "output_type": "stream",
     "text": [
      "../rcv_elections_database/single/Minneapolis_11072017_Ward4CityCouncil.csv\n"
     ]
    },
    {
     "name": "stderr",
     "output_type": "stream",
     "text": [
      "/Users/es5891/Documents/GitHub/bugs-in-democracy/rcv_learning/rcv_dimensionality.py:170: RuntimeWarning: divide by zero encountered in divide\n",
      "  distance = 1 / np.sqrt(freq_upper_triangle)\n"
     ]
    },
    {
     "name": "stdout",
     "output_type": "stream",
     "text": [
      "../rcv_elections_database/single/Oakland_11022010_CityAuditor.csv\n"
     ]
    },
    {
     "name": "stderr",
     "output_type": "stream",
     "text": [
      "/Users/es5891/Documents/GitHub/bugs-in-democracy/rcv_learning/rcv_dimensionality.py:170: RuntimeWarning: divide by zero encountered in divide\n",
      "  distance = 1 / np.sqrt(freq_upper_triangle)\n"
     ]
    },
    {
     "name": "stdout",
     "output_type": "stream",
     "text": [
      "../rcv_elections_database/single/Oakland_11062018_SchoolDirectorDistrict2.csv\n",
      "Error in file: ../rcv_elections_database/single/Oakland_11062018_SchoolDirectorDistrict2.csv\n",
      "../rcv_elections_database/single/Minneapolis_11022021_CityCouncilWard1.csv\n"
     ]
    },
    {
     "name": "stderr",
     "output_type": "stream",
     "text": [
      "/Users/es5891/Documents/GitHub/bugs-in-democracy/rcv_learning/rcv_dimensionality.py:170: RuntimeWarning: divide by zero encountered in divide\n",
      "  distance = 1 / np.sqrt(freq_upper_triangle)\n"
     ]
    },
    {
     "name": "stdout",
     "output_type": "stream",
     "text": [
      "../rcv_elections_database/single/Maine_06122018_DemocraticPrimaryforGovernor.csv\n"
     ]
    },
    {
     "name": "stderr",
     "output_type": "stream",
     "text": [
      "/Users/es5891/Documents/GitHub/bugs-in-democracy/rcv_learning/rcv_dimensionality.py:170: RuntimeWarning: divide by zero encountered in divide\n",
      "  distance = 1 / np.sqrt(freq_upper_triangle)\n"
     ]
    },
    {
     "name": "stdout",
     "output_type": "stream",
     "text": [
      "../rcv_elections_database/single/Oakland_11062012_SchoolDirectorDistrict5.csv\n"
     ]
    },
    {
     "name": "stderr",
     "output_type": "stream",
     "text": [
      "/Users/es5891/Documents/GitHub/bugs-in-democracy/rcv_learning/rcv_dimensionality.py:170: RuntimeWarning: divide by zero encountered in divide\n",
      "  distance = 1 / np.sqrt(freq_upper_triangle)\n"
     ]
    },
    {
     "name": "stdout",
     "output_type": "stream",
     "text": [
      "../rcv_elections_database/single/SanFrancisco_11022004_BoardofSupervisorsDistrict7.csv\n"
     ]
    },
    {
     "name": "stderr",
     "output_type": "stream",
     "text": [
      "/Users/es5891/Documents/GitHub/bugs-in-democracy/rcv_learning/rcv_dimensionality.py:170: RuntimeWarning: divide by zero encountered in divide\n",
      "  distance = 1 / np.sqrt(freq_upper_triangle)\n"
     ]
    },
    {
     "name": "stdout",
     "output_type": "stream",
     "text": [
      "../rcv_elections_database/single/Alaska_11082022_HouseDistrict4.csv\n"
     ]
    },
    {
     "name": "stderr",
     "output_type": "stream",
     "text": [
      "/Users/es5891/Documents/GitHub/bugs-in-democracy/rcv_learning/rcv_dimensionality.py:170: RuntimeWarning: divide by zero encountered in divide\n",
      "  distance = 1 / np.sqrt(freq_upper_triangle)\n"
     ]
    },
    {
     "name": "stdout",
     "output_type": "stream",
     "text": [
      "../rcv_elections_database/single/Alaska_11082022_HouseDistrict5.csv\n"
     ]
    },
    {
     "name": "stderr",
     "output_type": "stream",
     "text": [
      "/Users/es5891/Documents/GitHub/bugs-in-democracy/rcv_learning/rcv_dimensionality.py:170: RuntimeWarning: divide by zero encountered in divide\n",
      "  distance = 1 / np.sqrt(freq_upper_triangle)\n"
     ]
    },
    {
     "name": "stdout",
     "output_type": "stream",
     "text": [
      "../rcv_elections_database/single/SanFrancisco_11062007_Mayor.csv\n"
     ]
    },
    {
     "name": "stderr",
     "output_type": "stream",
     "text": [
      "/Users/es5891/Documents/GitHub/bugs-in-democracy/rcv_learning/rcv_dimensionality.py:170: RuntimeWarning: divide by zero encountered in divide\n",
      "  distance = 1 / np.sqrt(freq_upper_triangle)\n"
     ]
    },
    {
     "name": "stdout",
     "output_type": "stream",
     "text": [
      "../rcv_elections_database/single/Minneapolis_11052013_Mayor.csv\n"
     ]
    },
    {
     "name": "stderr",
     "output_type": "stream",
     "text": [
      "/Users/es5891/Documents/GitHub/bugs-in-democracy/rcv_learning/rcv_dimensionality.py:159: RuntimeWarning: divide by zero encountered in divide\n",
      "  frequencies = counts / mentioned_together\n",
      "/Users/es5891/Documents/GitHub/bugs-in-democracy/rcv_learning/rcv_dimensionality.py:170: RuntimeWarning: divide by zero encountered in divide\n",
      "  distance = 1 / np.sqrt(freq_upper_triangle)\n"
     ]
    },
    {
     "name": "stdout",
     "output_type": "stream",
     "text": [
      "../rcv_elections_database/single/Minnetonka_11022021_CityCouncilAtLargeSeatB.csv\n"
     ]
    },
    {
     "name": "stderr",
     "output_type": "stream",
     "text": [
      "/Users/es5891/Documents/GitHub/bugs-in-democracy/rcv_learning/rcv_dimensionality.py:170: RuntimeWarning: divide by zero encountered in divide\n",
      "  distance = 1 / np.sqrt(freq_upper_triangle)\n"
     ]
    },
    {
     "name": "stdout",
     "output_type": "stream",
     "text": [
      "../rcv_elections_database/single/Oakland_11082016_CityAttorney.csv\n",
      "Error in file: ../rcv_elections_database/single/Oakland_11082016_CityAttorney.csv\n",
      "../rcv_elections_database/single/NewYorkCity_06222021_REPCouncilMember19thCouncilDistrict.csv\n"
     ]
    },
    {
     "name": "stderr",
     "output_type": "stream",
     "text": [
      "/Users/es5891/Documents/GitHub/bugs-in-democracy/rcv_learning/rcv_dimensionality.py:131: DtypeWarning: Columns (1) have mixed types. Specify dtype option on import or set low_memory=False.\n",
      "  df = pd.read_csv(csv_file, low_memory=False)\n",
      "/Users/es5891/Documents/GitHub/bugs-in-democracy/rcv_learning/rcv_dimensionality.py:170: RuntimeWarning: divide by zero encountered in divide\n",
      "  distance = 1 / np.sqrt(freq_upper_triangle)\n"
     ]
    },
    {
     "name": "stdout",
     "output_type": "stream",
     "text": [
      "../rcv_elections_database/single/NewYorkCity_06222021_DEMPublicAdvocateCitywide.csv\n"
     ]
    },
    {
     "name": "stderr",
     "output_type": "stream",
     "text": [
      "/Users/es5891/Documents/GitHub/bugs-in-democracy/rcv_learning/rcv_dimensionality.py:131: DtypeWarning: Columns (1) have mixed types. Specify dtype option on import or set low_memory=False.\n",
      "  df = pd.read_csv(csv_file, low_memory=False)\n",
      "/Users/es5891/Documents/GitHub/bugs-in-democracy/rcv_learning/rcv_dimensionality.py:170: RuntimeWarning: divide by zero encountered in divide\n",
      "  distance = 1 / np.sqrt(freq_upper_triangle)\n"
     ]
    },
    {
     "name": "stdout",
     "output_type": "stream",
     "text": [
      "../rcv_elections_database/single/Oakland_11062018_CityAuditor.csv\n"
     ]
    },
    {
     "name": "stderr",
     "output_type": "stream",
     "text": [
      "/Users/es5891/Documents/GitHub/bugs-in-democracy/rcv_learning/rcv_dimensionality.py:170: RuntimeWarning: divide by zero encountered in divide\n",
      "  distance = 1 / np.sqrt(freq_upper_triangle)\n"
     ]
    },
    {
     "name": "stdout",
     "output_type": "stream",
     "text": [
      "../rcv_elections_database/single/NewYorkCity_06222021_REPMayorCitywide.csv\n"
     ]
    },
    {
     "name": "stderr",
     "output_type": "stream",
     "text": [
      "/Users/es5891/Documents/GitHub/bugs-in-democracy/rcv_learning/rcv_dimensionality.py:131: DtypeWarning: Columns (1) have mixed types. Specify dtype option on import or set low_memory=False.\n",
      "  df = pd.read_csv(csv_file, low_memory=False)\n",
      "/Users/es5891/Documents/GitHub/bugs-in-democracy/rcv_learning/rcv_dimensionality.py:170: RuntimeWarning: divide by zero encountered in divide\n",
      "  distance = 1 / np.sqrt(freq_upper_triangle)\n"
     ]
    },
    {
     "name": "stdout",
     "output_type": "stream",
     "text": [
      "../rcv_elections_database/single/Alaska_11082022_SenateDistrictD.csv\n"
     ]
    },
    {
     "name": "stderr",
     "output_type": "stream",
     "text": [
      "/Users/es5891/Documents/GitHub/bugs-in-democracy/rcv_learning/rcv_dimensionality.py:170: RuntimeWarning: divide by zero encountered in divide\n",
      "  distance = 1 / np.sqrt(freq_upper_triangle)\n"
     ]
    },
    {
     "name": "stdout",
     "output_type": "stream",
     "text": [
      "../rcv_elections_database/single/Oakland_11082016_SchoolDirectorDistrict7.csv\n"
     ]
    },
    {
     "name": "stderr",
     "output_type": "stream",
     "text": [
      "/Users/es5891/Documents/GitHub/bugs-in-democracy/rcv_learning/rcv_dimensionality.py:170: RuntimeWarning: divide by zero encountered in divide\n",
      "  distance = 1 / np.sqrt(freq_upper_triangle)\n"
     ]
    },
    {
     "name": "stdout",
     "output_type": "stream",
     "text": [
      "../rcv_elections_database/single/Alaska_11082022_SenateDistrictS.csv\n"
     ]
    },
    {
     "name": "stderr",
     "output_type": "stream",
     "text": [
      "/Users/es5891/Documents/GitHub/bugs-in-democracy/rcv_learning/rcv_dimensionality.py:170: RuntimeWarning: divide by zero encountered in divide\n",
      "  distance = 1 / np.sqrt(freq_upper_triangle)\n"
     ]
    },
    {
     "name": "stdout",
     "output_type": "stream",
     "text": [
      "../rcv_elections_database/single/Minneapolis_11062009_Ward12CityCouncil.csv\n"
     ]
    },
    {
     "name": "stderr",
     "output_type": "stream",
     "text": [
      "/Users/es5891/Documents/GitHub/bugs-in-democracy/rcv_learning/rcv_dimensionality.py:170: RuntimeWarning: divide by zero encountered in divide\n",
      "  distance = 1 / np.sqrt(freq_upper_triangle)\n"
     ]
    },
    {
     "name": "stdout",
     "output_type": "stream",
     "text": [
      "../rcv_elections_database/single/Berkeley_11022010_CityCouncilDistrict7.csv\n"
     ]
    },
    {
     "name": "stderr",
     "output_type": "stream",
     "text": [
      "/Users/es5891/Documents/GitHub/bugs-in-democracy/rcv_learning/rcv_dimensionality.py:170: RuntimeWarning: divide by zero encountered in divide\n",
      "  distance = 1 / np.sqrt(freq_upper_triangle)\n"
     ]
    },
    {
     "name": "stdout",
     "output_type": "stream",
     "text": [
      "../rcv_elections_database/single/Portland_11082022_SchoolBoardDistrict3.csv\n"
     ]
    },
    {
     "name": "stderr",
     "output_type": "stream",
     "text": [
      "/Users/es5891/Documents/GitHub/bugs-in-democracy/rcv_learning/rcv_dimensionality.py:170: RuntimeWarning: divide by zero encountered in divide\n",
      "  distance = 1 / np.sqrt(freq_upper_triangle)\n"
     ]
    },
    {
     "name": "stdout",
     "output_type": "stream",
     "text": [
      "../rcv_elections_database/single/SanLeandro_11082016_CountyCouncilDistrict4.csv\n",
      "Error in file: ../rcv_elections_database/single/SanLeandro_11082016_CountyCouncilDistrict4.csv\n",
      "../rcv_elections_database/single/Alaska_11082022_SenateDistrictI.csv\n"
     ]
    },
    {
     "name": "stderr",
     "output_type": "stream",
     "text": [
      "/Users/es5891/Documents/GitHub/bugs-in-democracy/rcv_learning/rcv_dimensionality.py:170: RuntimeWarning: divide by zero encountered in divide\n",
      "  distance = 1 / np.sqrt(freq_upper_triangle)\n"
     ]
    },
    {
     "name": "stdout",
     "output_type": "stream",
     "text": [
      "../rcv_elections_database/single/NewYorkCity_06222021_DEMComptrollerCitywide.csv\n"
     ]
    },
    {
     "name": "stderr",
     "output_type": "stream",
     "text": [
      "/Users/es5891/Documents/GitHub/bugs-in-democracy/rcv_learning/rcv_dimensionality.py:131: DtypeWarning: Columns (1) have mixed types. Specify dtype option on import or set low_memory=False.\n",
      "  df = pd.read_csv(csv_file, low_memory=False)\n",
      "/Users/es5891/Documents/GitHub/bugs-in-democracy/rcv_learning/rcv_dimensionality.py:170: RuntimeWarning: divide by zero encountered in divide\n",
      "  distance = 1 / np.sqrt(freq_upper_triangle)\n"
     ]
    },
    {
     "name": "stdout",
     "output_type": "stream",
     "text": [
      "../rcv_elections_database/single/NewYorkCity_06222021_DEMCouncilMember38thCouncilDistrict.csv\n"
     ]
    },
    {
     "name": "stderr",
     "output_type": "stream",
     "text": [
      "/Users/es5891/Documents/GitHub/bugs-in-democracy/rcv_learning/rcv_dimensionality.py:131: DtypeWarning: Columns (1) have mixed types. Specify dtype option on import or set low_memory=False.\n",
      "  df = pd.read_csv(csv_file, low_memory=False)\n",
      "/Users/es5891/Documents/GitHub/bugs-in-democracy/rcv_learning/rcv_dimensionality.py:170: RuntimeWarning: divide by zero encountered in divide\n",
      "  distance = 1 / np.sqrt(freq_upper_triangle)\n"
     ]
    },
    {
     "name": "stdout",
     "output_type": "stream",
     "text": [
      "../rcv_elections_database/single/SanLeandro_11042014_Mayor.csv\n"
     ]
    },
    {
     "name": "stderr",
     "output_type": "stream",
     "text": [
      "/Users/es5891/Documents/GitHub/bugs-in-democracy/rcv_learning/rcv_dimensionality.py:170: RuntimeWarning: divide by zero encountered in divide\n",
      "  distance = 1 / np.sqrt(freq_upper_triangle)\n"
     ]
    },
    {
     "name": "stdout",
     "output_type": "stream",
     "text": [
      "../rcv_elections_database/single/SanFrancisco_11072006_BoardofSupervisorsDistrict10.csv\n"
     ]
    },
    {
     "name": "stderr",
     "output_type": "stream",
     "text": [
      "/Users/es5891/Documents/GitHub/bugs-in-democracy/rcv_learning/rcv_dimensionality.py:170: RuntimeWarning: divide by zero encountered in divide\n",
      "  distance = 1 / np.sqrt(freq_upper_triangle)\n"
     ]
    },
    {
     "name": "stdout",
     "output_type": "stream",
     "text": [
      "../rcv_elections_database/single/Oakland_11082016_CityCouncilDistrict3.csv\n"
     ]
    },
    {
     "name": "stderr",
     "output_type": "stream",
     "text": [
      "/Users/es5891/Documents/GitHub/bugs-in-democracy/rcv_learning/rcv_dimensionality.py:170: RuntimeWarning: divide by zero encountered in divide\n",
      "  distance = 1 / np.sqrt(freq_upper_triangle)\n"
     ]
    },
    {
     "name": "stdout",
     "output_type": "stream",
     "text": [
      "../rcv_elections_database/single/Minneapolis_11072017_PRBoardDistrict3.csv\n"
     ]
    },
    {
     "name": "stderr",
     "output_type": "stream",
     "text": [
      "/Users/es5891/Documents/GitHub/bugs-in-democracy/rcv_learning/rcv_dimensionality.py:170: RuntimeWarning: divide by zero encountered in divide\n",
      "  distance = 1 / np.sqrt(freq_upper_triangle)\n"
     ]
    },
    {
     "name": "stdout",
     "output_type": "stream",
     "text": [
      "../rcv_elections_database/single/StLouisPark_11022021_CityCouncilWard3.csv\n"
     ]
    },
    {
     "name": "stderr",
     "output_type": "stream",
     "text": [
      "/Users/es5891/Documents/GitHub/bugs-in-democracy/rcv_learning/rcv_dimensionality.py:170: RuntimeWarning: divide by zero encountered in divide\n",
      "  distance = 1 / np.sqrt(freq_upper_triangle)\n"
     ]
    },
    {
     "name": "stdout",
     "output_type": "stream",
     "text": [
      "../rcv_elections_database/single/SanFrancisco_11082011_Mayor.csv\n"
     ]
    },
    {
     "name": "stderr",
     "output_type": "stream",
     "text": [
      "/Users/es5891/Documents/GitHub/bugs-in-democracy/rcv_learning/rcv_dimensionality.py:170: RuntimeWarning: divide by zero encountered in divide\n",
      "  distance = 1 / np.sqrt(freq_upper_triangle)\n"
     ]
    },
    {
     "name": "stdout",
     "output_type": "stream",
     "text": [
      "../rcv_elections_database/single/NewYorkCity_06222021_DEMCouncilMember23rdCouncilDistrict.csv\n"
     ]
    },
    {
     "name": "stderr",
     "output_type": "stream",
     "text": [
      "/Users/es5891/Documents/GitHub/bugs-in-democracy/rcv_learning/rcv_dimensionality.py:131: DtypeWarning: Columns (1) have mixed types. Specify dtype option on import or set low_memory=False.\n",
      "  df = pd.read_csv(csv_file, low_memory=False)\n",
      "/Users/es5891/Documents/GitHub/bugs-in-democracy/rcv_learning/rcv_dimensionality.py:170: RuntimeWarning: divide by zero encountered in divide\n",
      "  distance = 1 / np.sqrt(freq_upper_triangle)\n"
     ]
    },
    {
     "name": "stdout",
     "output_type": "stream",
     "text": [
      "../rcv_elections_database/single/Alaska_11082022_HouseDistrict8.csv\n",
      "Error in file: ../rcv_elections_database/single/Alaska_11082022_HouseDistrict8.csv\n",
      "../rcv_elections_database/single/SanFrancisco_11082011_DistrictAttorney.csv\n"
     ]
    },
    {
     "name": "stderr",
     "output_type": "stream",
     "text": [
      "/Users/es5891/Documents/GitHub/bugs-in-democracy/rcv_learning/rcv_dimensionality.py:170: RuntimeWarning: divide by zero encountered in divide\n",
      "  distance = 1 / np.sqrt(freq_upper_triangle)\n"
     ]
    },
    {
     "name": "stdout",
     "output_type": "stream",
     "text": [
      "../rcv_elections_database/single/Alaska_11082022_HouseDistrict9.csv\n"
     ]
    },
    {
     "name": "stderr",
     "output_type": "stream",
     "text": [
      "/Users/es5891/Documents/GitHub/bugs-in-democracy/rcv_learning/rcv_dimensionality.py:170: RuntimeWarning: divide by zero encountered in divide\n",
      "  distance = 1 / np.sqrt(freq_upper_triangle)\n"
     ]
    },
    {
     "name": "stdout",
     "output_type": "stream",
     "text": [
      "../rcv_elections_database/single/StLouisPark_11022021_CityCouncilWard2.csv\n"
     ]
    },
    {
     "name": "stderr",
     "output_type": "stream",
     "text": [
      "/Users/es5891/Documents/GitHub/bugs-in-democracy/rcv_learning/rcv_dimensionality.py:170: RuntimeWarning: divide by zero encountered in divide\n",
      "  distance = 1 / np.sqrt(freq_upper_triangle)\n"
     ]
    },
    {
     "name": "stdout",
     "output_type": "stream",
     "text": [
      "../rcv_elections_database/single/Minneapolis_11072017_PRBoardDistrict2.csv\n"
     ]
    },
    {
     "name": "stderr",
     "output_type": "stream",
     "text": [
      "/Users/es5891/Documents/GitHub/bugs-in-democracy/rcv_learning/rcv_dimensionality.py:170: RuntimeWarning: divide by zero encountered in divide\n",
      "  distance = 1 / np.sqrt(freq_upper_triangle)\n"
     ]
    },
    {
     "name": "stdout",
     "output_type": "stream",
     "text": [
      "../rcv_elections_database/single/PierceCounty_11042008_CountyAssessorTreasurer.csv\n"
     ]
    },
    {
     "name": "stderr",
     "output_type": "stream",
     "text": [
      "/Users/es5891/Documents/GitHub/bugs-in-democracy/rcv_learning/rcv_dimensionality.py:170: RuntimeWarning: divide by zero encountered in divide\n",
      "  distance = 1 / np.sqrt(freq_upper_triangle)\n"
     ]
    },
    {
     "name": "stdout",
     "output_type": "stream",
     "text": [
      "../rcv_elections_database/single/Berkeley_11032020_MayorBerkeleyRCV.csv\n"
     ]
    },
    {
     "name": "stderr",
     "output_type": "stream",
     "text": [
      "/Users/es5891/Documents/GitHub/bugs-in-democracy/rcv_learning/rcv_dimensionality.py:170: RuntimeWarning: divide by zero encountered in divide\n",
      "  distance = 1 / np.sqrt(freq_upper_triangle)\n"
     ]
    },
    {
     "name": "stdout",
     "output_type": "stream",
     "text": [
      "../rcv_elections_database/single/SanLeandro_11062012_CountyCouncilDistrict6.csv\n"
     ]
    },
    {
     "name": "stderr",
     "output_type": "stream",
     "text": [
      "/Users/es5891/Documents/GitHub/bugs-in-democracy/rcv_learning/rcv_dimensionality.py:170: RuntimeWarning: divide by zero encountered in divide\n",
      "  distance = 1 / np.sqrt(freq_upper_triangle)\n"
     ]
    },
    {
     "name": "stdout",
     "output_type": "stream",
     "text": [
      "../rcv_elections_database/single/Alaska_11082022_SenateDistrictH.csv\n"
     ]
    },
    {
     "name": "stderr",
     "output_type": "stream",
     "text": [
      "/Users/es5891/Documents/GitHub/bugs-in-democracy/rcv_learning/rcv_dimensionality.py:170: RuntimeWarning: divide by zero encountered in divide\n",
      "  distance = 1 / np.sqrt(freq_upper_triangle)\n"
     ]
    },
    {
     "name": "stdout",
     "output_type": "stream",
     "text": [
      "../rcv_elections_database/single/Minneapolis_08112020_Ward6CityCouncilSpecialElection.csv\n"
     ]
    },
    {
     "name": "stderr",
     "output_type": "stream",
     "text": [
      "/Users/es5891/Documents/GitHub/bugs-in-democracy/rcv_learning/rcv_dimensionality.py:170: RuntimeWarning: divide by zero encountered in divide\n",
      "  distance = 1 / np.sqrt(freq_upper_triangle)\n"
     ]
    },
    {
     "name": "stdout",
     "output_type": "stream",
     "text": [
      "../rcv_elections_database/single/NewYorkCity_06222021_DEMBoroughPresidentRichmond.csv\n"
     ]
    },
    {
     "name": "stderr",
     "output_type": "stream",
     "text": [
      "/Users/es5891/Documents/GitHub/bugs-in-democracy/rcv_learning/rcv_dimensionality.py:170: RuntimeWarning: divide by zero encountered in divide\n",
      "  distance = 1 / np.sqrt(freq_upper_triangle)\n"
     ]
    },
    {
     "name": "stdout",
     "output_type": "stream",
     "text": [
      "../rcv_elections_database/single/Minneapolis_11062009_Ward7CityCouncil.csv\n"
     ]
    },
    {
     "name": "stderr",
     "output_type": "stream",
     "text": [
      "/Users/es5891/Documents/GitHub/bugs-in-democracy/rcv_learning/rcv_dimensionality.py:170: RuntimeWarning: divide by zero encountered in divide\n",
      "  distance = 1 / np.sqrt(freq_upper_triangle)\n"
     ]
    },
    {
     "name": "stdout",
     "output_type": "stream",
     "text": [
      "../rcv_elections_database/single/Oakland_11062012_CityCouncilDistrict3.csv\n"
     ]
    },
    {
     "name": "stderr",
     "output_type": "stream",
     "text": [
      "/Users/es5891/Documents/GitHub/bugs-in-democracy/rcv_learning/rcv_dimensionality.py:170: RuntimeWarning: divide by zero encountered in divide\n",
      "  distance = 1 / np.sqrt(freq_upper_triangle)\n"
     ]
    },
    {
     "name": "stdout",
     "output_type": "stream",
     "text": [
      "../rcv_elections_database/single/Oakland_11082022_Schoolboarddistrict2.csv\n"
     ]
    },
    {
     "name": "stderr",
     "output_type": "stream",
     "text": [
      "/Users/es5891/Documents/GitHub/bugs-in-democracy/rcv_learning/rcv_dimensionality.py:170: RuntimeWarning: divide by zero encountered in divide\n",
      "  distance = 1 / np.sqrt(freq_upper_triangle)\n"
     ]
    },
    {
     "name": "stdout",
     "output_type": "stream",
     "text": [
      "../rcv_elections_database/single/Alaska_11082022_USRepresentative.csv\n"
     ]
    },
    {
     "name": "stderr",
     "output_type": "stream",
     "text": [
      "/Users/es5891/Documents/GitHub/bugs-in-democracy/rcv_learning/rcv_dimensionality.py:170: RuntimeWarning: divide by zero encountered in divide\n",
      "  distance = 1 / np.sqrt(freq_upper_triangle)\n"
     ]
    },
    {
     "name": "stdout",
     "output_type": "stream",
     "text": [
      "../rcv_elections_database/single/Oakland_11042014_CityCouncilDistrict2.csv\n"
     ]
    },
    {
     "name": "stderr",
     "output_type": "stream",
     "text": [
      "/Users/es5891/Documents/GitHub/bugs-in-democracy/rcv_learning/rcv_dimensionality.py:170: RuntimeWarning: divide by zero encountered in divide\n",
      "  distance = 1 / np.sqrt(freq_upper_triangle)\n"
     ]
    },
    {
     "name": "stdout",
     "output_type": "stream",
     "text": [
      "../rcv_elections_database/single/Berkeley_11022010_CityCouncilDistrict4.csv\n"
     ]
    },
    {
     "name": "stderr",
     "output_type": "stream",
     "text": [
      "/Users/es5891/Documents/GitHub/bugs-in-democracy/rcv_learning/rcv_dimensionality.py:170: RuntimeWarning: divide by zero encountered in divide\n",
      "  distance = 1 / np.sqrt(freq_upper_triangle)\n"
     ]
    },
    {
     "name": "stdout",
     "output_type": "stream",
     "text": [
      "../rcv_elections_database/single/Oakland_11062012_CityCouncilDistrict1.csv\n"
     ]
    },
    {
     "name": "stderr",
     "output_type": "stream",
     "text": [
      "/Users/es5891/Documents/GitHub/bugs-in-democracy/rcv_learning/rcv_dimensionality.py:170: RuntimeWarning: divide by zero encountered in divide\n",
      "  distance = 1 / np.sqrt(freq_upper_triangle)\n"
     ]
    },
    {
     "name": "stdout",
     "output_type": "stream",
     "text": [
      "../rcv_elections_database/single/Alaska_11082022_SenateDistrictJ.csv\n"
     ]
    },
    {
     "name": "stderr",
     "output_type": "stream",
     "text": [
      "/Users/es5891/Documents/GitHub/bugs-in-democracy/rcv_learning/rcv_dimensionality.py:170: RuntimeWarning: divide by zero encountered in divide\n",
      "  distance = 1 / np.sqrt(freq_upper_triangle)\n"
     ]
    },
    {
     "name": "stdout",
     "output_type": "stream",
     "text": [
      "../rcv_elections_database/single/Minneapolis_11062009_Ward8CityCouncil.csv\n"
     ]
    },
    {
     "name": "stderr",
     "output_type": "stream",
     "text": [
      "/Users/es5891/Documents/GitHub/bugs-in-democracy/rcv_learning/rcv_dimensionality.py:170: RuntimeWarning: divide by zero encountered in divide\n",
      "  distance = 1 / np.sqrt(freq_upper_triangle)\n"
     ]
    },
    {
     "name": "stdout",
     "output_type": "stream",
     "text": [
      "../rcv_elections_database/single/SanLeandro_11062012_CountyCouncilDistrict4.csv\n"
     ]
    },
    {
     "name": "stderr",
     "output_type": "stream",
     "text": [
      "/Users/es5891/Documents/GitHub/bugs-in-democracy/rcv_learning/rcv_dimensionality.py:170: RuntimeWarning: divide by zero encountered in divide\n",
      "  distance = 1 / np.sqrt(freq_upper_triangle)\n"
     ]
    },
    {
     "name": "stdout",
     "output_type": "stream",
     "text": [
      "../rcv_elections_database/single/Minneapolis_11062009_Mayor.csv\n"
     ]
    },
    {
     "name": "stderr",
     "output_type": "stream",
     "text": [
      "/Users/es5891/Documents/GitHub/bugs-in-democracy/rcv_learning/rcv_dimensionality.py:170: RuntimeWarning: divide by zero encountered in divide\n",
      "  distance = 1 / np.sqrt(freq_upper_triangle)\n"
     ]
    },
    {
     "name": "stdout",
     "output_type": "stream",
     "text": [
      "../rcv_elections_database/single/SanFrancisco_11052019_Sheriff.csv\n",
      "Error in file: ../rcv_elections_database/single/SanFrancisco_11052019_Sheriff.csv\n",
      "../rcv_elections_database/single/Oakland_11032020_SchoolDirectorDist5OaklandRCV.csv\n"
     ]
    },
    {
     "name": "stderr",
     "output_type": "stream",
     "text": [
      "/Users/es5891/Documents/GitHub/bugs-in-democracy/rcv_learning/rcv_dimensionality.py:170: RuntimeWarning: divide by zero encountered in divide\n",
      "  distance = 1 / np.sqrt(freq_upper_triangle)\n"
     ]
    },
    {
     "name": "stdout",
     "output_type": "stream",
     "text": [
      "../rcv_elections_database/single/Minneapolis_11072017_Ward12CityCouncil.csv\n"
     ]
    },
    {
     "name": "stderr",
     "output_type": "stream",
     "text": [
      "/Users/es5891/Documents/GitHub/bugs-in-democracy/rcv_learning/rcv_dimensionality.py:170: RuntimeWarning: divide by zero encountered in divide\n",
      "  distance = 1 / np.sqrt(freq_upper_triangle)\n"
     ]
    },
    {
     "name": "stdout",
     "output_type": "stream",
     "text": [
      "../rcv_elections_database/single/Minneapolis_11052013_Ward9CityCouncil.csv\n"
     ]
    },
    {
     "name": "stderr",
     "output_type": "stream",
     "text": [
      "/Users/es5891/Documents/GitHub/bugs-in-democracy/rcv_learning/rcv_dimensionality.py:170: RuntimeWarning: divide by zero encountered in divide\n",
      "  distance = 1 / np.sqrt(freq_upper_triangle)\n"
     ]
    },
    {
     "name": "stdout",
     "output_type": "stream",
     "text": [
      "../rcv_elections_database/single/StLouisPark_11022021_CityCouncilWard1.csv\n",
      "Error in file: ../rcv_elections_database/single/StLouisPark_11022021_CityCouncilWard1.csv\n",
      "../rcv_elections_database/single/Minneapolis_11072017_PRBoardDistrict1.csv\n"
     ]
    },
    {
     "name": "stderr",
     "output_type": "stream",
     "text": [
      "/Users/es5891/Documents/GitHub/bugs-in-democracy/rcv_learning/rcv_dimensionality.py:170: RuntimeWarning: divide by zero encountered in divide\n",
      "  distance = 1 / np.sqrt(freq_upper_triangle)\n"
     ]
    },
    {
     "name": "stdout",
     "output_type": "stream",
     "text": [
      "../rcv_elections_database/single/SanFrancisco_11062018_PublicDefender.csv\n",
      "Error in file: ../rcv_elections_database/single/SanFrancisco_11062018_PublicDefender.csv\n",
      "../rcv_elections_database/single/SanFrancisco_11022004_BoardofSupervisorsDistrict9.csv\n"
     ]
    },
    {
     "name": "stderr",
     "output_type": "stream",
     "text": [
      "/Users/es5891/Documents/GitHub/bugs-in-democracy/rcv_learning/rcv_dimensionality.py:170: RuntimeWarning: divide by zero encountered in divide\n",
      "  distance = 1 / np.sqrt(freq_upper_triangle)\n"
     ]
    },
    {
     "name": "stdout",
     "output_type": "stream",
     "text": [
      "../rcv_elections_database/single/Oakland_11082016_CityCouncilDistrict1.csv\n"
     ]
    },
    {
     "name": "stderr",
     "output_type": "stream",
     "text": [
      "/Users/es5891/Documents/GitHub/bugs-in-democracy/rcv_learning/rcv_dimensionality.py:170: RuntimeWarning: divide by zero encountered in divide\n",
      "  distance = 1 / np.sqrt(freq_upper_triangle)\n"
     ]
    },
    {
     "name": "stdout",
     "output_type": "stream",
     "text": [
      "../rcv_elections_database/single/NewYorkCity_06222021_REPCouncilMember15thCouncilDistrict.csv\n"
     ]
    },
    {
     "name": "stderr",
     "output_type": "stream",
     "text": [
      "/Users/es5891/Documents/GitHub/bugs-in-democracy/rcv_learning/rcv_dimensionality.py:170: RuntimeWarning: divide by zero encountered in divide\n",
      "  distance = 1 / np.sqrt(freq_upper_triangle)\n"
     ]
    },
    {
     "name": "stdout",
     "output_type": "stream",
     "text": [
      "../rcv_elections_database/single/SanFrancisco_11052004_BoardofSupervisorsDistrict1.csv\n"
     ]
    },
    {
     "name": "stderr",
     "output_type": "stream",
     "text": [
      "/Users/es5891/Documents/GitHub/bugs-in-democracy/rcv_learning/rcv_dimensionality.py:170: RuntimeWarning: divide by zero encountered in divide\n",
      "  distance = 1 / np.sqrt(freq_upper_triangle)\n"
     ]
    },
    {
     "name": "stdout",
     "output_type": "stream",
     "text": [
      "../rcv_elections_database/single/TakomaPark_11082022_Mayor.csv\n"
     ]
    },
    {
     "name": "stderr",
     "output_type": "stream",
     "text": [
      "/Users/es5891/Documents/GitHub/bugs-in-democracy/rcv_learning/rcv_dimensionality.py:159: RuntimeWarning: divide by zero encountered in divide\n",
      "  frequencies = counts / mentioned_together\n",
      "/Users/es5891/Documents/GitHub/bugs-in-democracy/rcv_learning/rcv_dimensionality.py:159: RuntimeWarning: invalid value encountered in divide\n",
      "  frequencies = counts / mentioned_together\n",
      "/Users/es5891/Documents/GitHub/bugs-in-democracy/rcv_learning/rcv_dimensionality.py:170: RuntimeWarning: divide by zero encountered in divide\n",
      "  distance = 1 / np.sqrt(freq_upper_triangle)\n"
     ]
    },
    {
     "name": "stdout",
     "output_type": "stream",
     "text": [
      "../rcv_elections_database/single/Eastpointe_11052019_CityCouncil.csv\n"
     ]
    },
    {
     "name": "stderr",
     "output_type": "stream",
     "text": [
      "/Users/es5891/Documents/GitHub/bugs-in-democracy/rcv_learning/rcv_dimensionality.py:170: RuntimeWarning: divide by zero encountered in divide\n",
      "  distance = 1 / np.sqrt(freq_upper_triangle)\n"
     ]
    },
    {
     "name": "stdout",
     "output_type": "stream",
     "text": [
      "../rcv_elections_database/single/Alaska_11082022_SenateDistrictK.csv\n"
     ]
    },
    {
     "name": "stderr",
     "output_type": "stream",
     "text": [
      "/Users/es5891/Documents/GitHub/bugs-in-democracy/rcv_learning/rcv_dimensionality.py:170: RuntimeWarning: divide by zero encountered in divide\n",
      "  distance = 1 / np.sqrt(freq_upper_triangle)\n"
     ]
    },
    {
     "name": "stdout",
     "output_type": "stream",
     "text": [
      "../rcv_elections_database/single/SanFrancisco_11072006_BoardofSupervisorsDistrict2.csv\n"
     ]
    },
    {
     "name": "stderr",
     "output_type": "stream",
     "text": [
      "/Users/es5891/Documents/GitHub/bugs-in-democracy/rcv_learning/rcv_dimensionality.py:170: RuntimeWarning: divide by zero encountered in divide\n",
      "  distance = 1 / np.sqrt(freq_upper_triangle)\n"
     ]
    },
    {
     "name": "stdout",
     "output_type": "stream",
     "text": [
      "../rcv_elections_database/single/SanLeandro_11082016_CountyCouncilDistrict6.csv\n",
      "Error in file: ../rcv_elections_database/single/SanLeandro_11082016_CountyCouncilDistrict6.csv\n",
      "../rcv_elections_database/single/Oakland_11032020_SchoolDirectorDist1OaklandRCV.csv\n"
     ]
    },
    {
     "name": "stderr",
     "output_type": "stream",
     "text": [
      "/Users/es5891/Documents/GitHub/bugs-in-democracy/rcv_learning/rcv_dimensionality.py:170: RuntimeWarning: divide by zero encountered in divide\n",
      "  distance = 1 / np.sqrt(freq_upper_triangle)\n"
     ]
    },
    {
     "name": "stdout",
     "output_type": "stream",
     "text": [
      "../rcv_elections_database/single/Easthampton_11022021_Mayor.csv\n",
      "Error in file: ../rcv_elections_database/single/Easthampton_11022021_Mayor.csv\n",
      "../rcv_elections_database/single/NewYorkCity_06222021_DEMCouncilMember37thCouncilDistrict.csv\n"
     ]
    },
    {
     "name": "stderr",
     "output_type": "stream",
     "text": [
      "/Users/es5891/Documents/GitHub/bugs-in-democracy/rcv_learning/rcv_dimensionality.py:131: DtypeWarning: Columns (1) have mixed types. Specify dtype option on import or set low_memory=False.\n",
      "  df = pd.read_csv(csv_file, low_memory=False)\n",
      "/Users/es5891/Documents/GitHub/bugs-in-democracy/rcv_learning/rcv_dimensionality.py:170: RuntimeWarning: divide by zero encountered in divide\n",
      "  distance = 1 / np.sqrt(freq_upper_triangle)\n"
     ]
    },
    {
     "name": "stdout",
     "output_type": "stream",
     "text": [
      "../rcv_elections_database/single/Berkeley_11022010_CityCouncilDistrict1.csv\n"
     ]
    },
    {
     "name": "stderr",
     "output_type": "stream",
     "text": [
      "/Users/es5891/Documents/GitHub/bugs-in-democracy/rcv_learning/rcv_dimensionality.py:170: RuntimeWarning: divide by zero encountered in divide\n",
      "  distance = 1 / np.sqrt(freq_upper_triangle)\n"
     ]
    },
    {
     "name": "stdout",
     "output_type": "stream",
     "text": [
      "../rcv_elections_database/single/NewYorkCity_06222021_DEMBoroughPresidentBronx.csv\n"
     ]
    },
    {
     "name": "stderr",
     "output_type": "stream",
     "text": [
      "/Users/es5891/Documents/GitHub/bugs-in-democracy/rcv_learning/rcv_dimensionality.py:170: RuntimeWarning: divide by zero encountered in divide\n",
      "  distance = 1 / np.sqrt(freq_upper_triangle)\n"
     ]
    },
    {
     "name": "stdout",
     "output_type": "stream",
     "text": [
      "../rcv_elections_database/single/NewYorkCity_06222021_DEMCouncilMember22ndCouncilDistrict.csv\n"
     ]
    },
    {
     "name": "stderr",
     "output_type": "stream",
     "text": [
      "/Users/es5891/Documents/GitHub/bugs-in-democracy/rcv_learning/rcv_dimensionality.py:131: DtypeWarning: Columns (1) have mixed types. Specify dtype option on import or set low_memory=False.\n",
      "  df = pd.read_csv(csv_file, low_memory=False)\n",
      "/Users/es5891/Documents/GitHub/bugs-in-democracy/rcv_learning/rcv_dimensionality.py:170: RuntimeWarning: divide by zero encountered in divide\n",
      "  distance = 1 / np.sqrt(freq_upper_triangle)\n"
     ]
    },
    {
     "name": "stdout",
     "output_type": "stream",
     "text": [
      "../rcv_elections_database/single/Alaska_11082022_SenateDistrictO.csv\n"
     ]
    },
    {
     "name": "stderr",
     "output_type": "stream",
     "text": [
      "/Users/es5891/Documents/GitHub/bugs-in-democracy/rcv_learning/rcv_dimensionality.py:170: RuntimeWarning: divide by zero encountered in divide\n",
      "  distance = 1 / np.sqrt(freq_upper_triangle)\n"
     ]
    },
    {
     "name": "stdout",
     "output_type": "stream",
     "text": [
      "../rcv_elections_database/single/SanLeandro_11082016_CountyCouncilDistrict2.csv\n"
     ]
    },
    {
     "name": "stderr",
     "output_type": "stream",
     "text": [
      "/Users/es5891/Documents/GitHub/bugs-in-democracy/rcv_learning/rcv_dimensionality.py:170: RuntimeWarning: divide by zero encountered in divide\n",
      "  distance = 1 / np.sqrt(freq_upper_triangle)\n"
     ]
    },
    {
     "name": "stdout",
     "output_type": "stream",
     "text": [
      "../rcv_elections_database/single/SanFrancisco_11072006_BoardofSupervisorsDistrict6.csv\n"
     ]
    },
    {
     "name": "stderr",
     "output_type": "stream",
     "text": [
      "/Users/es5891/Documents/GitHub/bugs-in-democracy/rcv_learning/rcv_dimensionality.py:170: RuntimeWarning: divide by zero encountered in divide\n",
      "  distance = 1 / np.sqrt(freq_upper_triangle)\n"
     ]
    },
    {
     "name": "stdout",
     "output_type": "stream",
     "text": [
      "../rcv_elections_database/single/Berkeley_11062018_CityAuditor.csv\n"
     ]
    },
    {
     "name": "stderr",
     "output_type": "stream",
     "text": [
      "/Users/es5891/Documents/GitHub/bugs-in-democracy/rcv_learning/rcv_dimensionality.py:170: RuntimeWarning: divide by zero encountered in divide\n",
      "  distance = 1 / np.sqrt(freq_upper_triangle)\n"
     ]
    },
    {
     "name": "stdout",
     "output_type": "stream",
     "text": [
      "../rcv_elections_database/single/Vineyard_11052019_CityCouncil.csv\n"
     ]
    },
    {
     "name": "stderr",
     "output_type": "stream",
     "text": [
      "/Users/es5891/Documents/GitHub/bugs-in-democracy/rcv_learning/rcv_dimensionality.py:170: RuntimeWarning: divide by zero encountered in divide\n",
      "  distance = 1 / np.sqrt(freq_upper_triangle)\n"
     ]
    },
    {
     "name": "stdout",
     "output_type": "stream",
     "text": [
      "../rcv_elections_database/single/NewYorkCity_06222021_DEMCouncilMember25thCouncilDistrict.csv\n"
     ]
    },
    {
     "name": "stderr",
     "output_type": "stream",
     "text": [
      "/Users/es5891/Documents/GitHub/bugs-in-democracy/rcv_learning/rcv_dimensionality.py:131: DtypeWarning: Columns (1) have mixed types. Specify dtype option on import or set low_memory=False.\n",
      "  df = pd.read_csv(csv_file, low_memory=False)\n",
      "/Users/es5891/Documents/GitHub/bugs-in-democracy/rcv_learning/rcv_dimensionality.py:170: RuntimeWarning: divide by zero encountered in divide\n",
      "  distance = 1 / np.sqrt(freq_upper_triangle)\n"
     ]
    },
    {
     "name": "stdout",
     "output_type": "stream",
     "text": [
      "../rcv_elections_database/single/Minneapolis_11072017_PRBoardDistrict5.csv\n"
     ]
    },
    {
     "name": "stderr",
     "output_type": "stream",
     "text": [
      "/Users/es5891/Documents/GitHub/bugs-in-democracy/rcv_learning/rcv_dimensionality.py:170: RuntimeWarning: divide by zero encountered in divide\n",
      "  distance = 1 / np.sqrt(freq_upper_triangle)\n"
     ]
    },
    {
     "name": "stdout",
     "output_type": "stream",
     "text": [
      "../rcv_elections_database/single/Minneapolis_11062009_Ward1CityCouncil.csv\n"
     ]
    },
    {
     "name": "stderr",
     "output_type": "stream",
     "text": [
      "/Users/es5891/Documents/GitHub/bugs-in-democracy/rcv_learning/rcv_dimensionality.py:170: RuntimeWarning: divide by zero encountered in divide\n",
      "  distance = 1 / np.sqrt(freq_upper_triangle)\n"
     ]
    },
    {
     "name": "stdout",
     "output_type": "stream",
     "text": [
      "../rcv_elections_database/single/Oakland_11082016_CityCouncilDistrict5.csv\n"
     ]
    },
    {
     "name": "stderr",
     "output_type": "stream",
     "text": [
      "/Users/es5891/Documents/GitHub/bugs-in-democracy/rcv_learning/rcv_dimensionality.py:170: RuntimeWarning: divide by zero encountered in divide\n",
      "  distance = 1 / np.sqrt(freq_upper_triangle)\n"
     ]
    },
    {
     "name": "stdout",
     "output_type": "stream",
     "text": [
      "../rcv_elections_database/single/StLouisPark_11022021_CityCouncilWard4.csv\n",
      "Error in file: ../rcv_elections_database/single/StLouisPark_11022021_CityCouncilWard4.csv\n",
      "../rcv_elections_database/single/Minneapolis_11062009_Ward9CityCouncil.csv\n"
     ]
    },
    {
     "name": "stderr",
     "output_type": "stream",
     "text": [
      "/Users/es5891/Documents/GitHub/bugs-in-democracy/rcv_learning/rcv_dimensionality.py:170: RuntimeWarning: divide by zero encountered in divide\n",
      "  distance = 1 / np.sqrt(freq_upper_triangle)\n"
     ]
    },
    {
     "name": "stdout",
     "output_type": "stream",
     "text": [
      "../rcv_elections_database/single/NewYorkCity_06222021_DEMCouncilMember6thCouncilDistrict.csv\n"
     ]
    },
    {
     "name": "stderr",
     "output_type": "stream",
     "text": [
      "/Users/es5891/Documents/GitHub/bugs-in-democracy/rcv_learning/rcv_dimensionality.py:170: RuntimeWarning: divide by zero encountered in divide\n",
      "  distance = 1 / np.sqrt(freq_upper_triangle)\n"
     ]
    },
    {
     "name": "stdout",
     "output_type": "stream",
     "text": [
      "../rcv_elections_database/single/Minneapolis_11072017_PRBoardDistrict4.csv\n"
     ]
    },
    {
     "name": "stderr",
     "output_type": "stream",
     "text": [
      "/Users/es5891/Documents/GitHub/bugs-in-democracy/rcv_learning/rcv_dimensionality.py:170: RuntimeWarning: divide by zero encountered in divide\n",
      "  distance = 1 / np.sqrt(freq_upper_triangle)\n"
     ]
    },
    {
     "name": "stdout",
     "output_type": "stream",
     "text": [
      "../rcv_elections_database/single/Oakland_11032020_MemberCityCouncilAtLargeOaklandRCV.csv\n"
     ]
    },
    {
     "name": "stderr",
     "output_type": "stream",
     "text": [
      "/Users/es5891/Documents/GitHub/bugs-in-democracy/rcv_learning/rcv_dimensionality.py:170: RuntimeWarning: divide by zero encountered in divide\n",
      "  distance = 1 / np.sqrt(freq_upper_triangle)\n"
     ]
    },
    {
     "name": "stdout",
     "output_type": "stream",
     "text": [
      "../rcv_elections_database/single/NewYorkCity_06222021_DEMCouncilMember18thCouncilDistrict.csv\n"
     ]
    },
    {
     "name": "stderr",
     "output_type": "stream",
     "text": [
      "/Users/es5891/Documents/GitHub/bugs-in-democracy/rcv_learning/rcv_dimensionality.py:170: RuntimeWarning: divide by zero encountered in divide\n",
      "  distance = 1 / np.sqrt(freq_upper_triangle)\n"
     ]
    },
    {
     "name": "stdout",
     "output_type": "stream",
     "text": [
      "../rcv_elections_database/single/SanFrancisco_11032015_BoardofSupervisorsDistrict3.csv\n"
     ]
    },
    {
     "name": "stderr",
     "output_type": "stream",
     "text": [
      "/Users/es5891/Documents/GitHub/bugs-in-democracy/rcv_learning/rcv_dimensionality.py:170: RuntimeWarning: divide by zero encountered in divide\n",
      "  distance = 1 / np.sqrt(freq_upper_triangle)\n"
     ]
    },
    {
     "name": "stdout",
     "output_type": "stream",
     "text": [
      "../rcv_elections_database/single/Berkeley_11022010_CityAuditor.csv\n",
      "Error in file: ../rcv_elections_database/single/Berkeley_11022010_CityAuditor.csv\n",
      "../rcv_elections_database/single/NewYorkCity_06222021_DEMBoroughPresidentNewYork.csv\n"
     ]
    },
    {
     "name": "stderr",
     "output_type": "stream",
     "text": [
      "/Users/es5891/Documents/GitHub/bugs-in-democracy/rcv_learning/rcv_dimensionality.py:170: RuntimeWarning: divide by zero encountered in divide\n",
      "  distance = 1 / np.sqrt(freq_upper_triangle)\n"
     ]
    },
    {
     "name": "stdout",
     "output_type": "stream",
     "text": [
      "../rcv_elections_database/single/SanFrancisco_11082022_AssessorRecorder.csv\n",
      "Error in file: ../rcv_elections_database/single/SanFrancisco_11082022_AssessorRecorder.csv\n",
      "../rcv_elections_database/single/Minneapolis_11072017_Ward13CityCouncil.csv\n"
     ]
    },
    {
     "name": "stderr",
     "output_type": "stream",
     "text": [
      "/Users/es5891/Documents/GitHub/bugs-in-democracy/rcv_learning/rcv_dimensionality.py:170: RuntimeWarning: divide by zero encountered in divide\n",
      "  distance = 1 / np.sqrt(freq_upper_triangle)\n"
     ]
    },
    {
     "name": "stdout",
     "output_type": "stream",
     "text": [
      "../rcv_elections_database/single/Burlington_03032009_Mayor.csv\n"
     ]
    },
    {
     "name": "stderr",
     "output_type": "stream",
     "text": [
      "/Users/es5891/Documents/GitHub/bugs-in-democracy/rcv_learning/rcv_dimensionality.py:170: RuntimeWarning: divide by zero encountered in divide\n",
      "  distance = 1 / np.sqrt(freq_upper_triangle)\n"
     ]
    },
    {
     "name": "stdout",
     "output_type": "stream",
     "text": [
      "../rcv_elections_database/single/Alaska_11082022_SenateDistrictN.csv\n"
     ]
    },
    {
     "name": "stderr",
     "output_type": "stream",
     "text": [
      "/Users/es5891/Documents/GitHub/bugs-in-democracy/rcv_learning/rcv_dimensionality.py:170: RuntimeWarning: divide by zero encountered in divide\n",
      "  distance = 1 / np.sqrt(freq_upper_triangle)\n"
     ]
    },
    {
     "name": "stdout",
     "output_type": "stream",
     "text": [
      "../rcv_elections_database/single/Oakland_11062012_CityCouncilDistrict5.csv\n"
     ]
    },
    {
     "name": "stderr",
     "output_type": "stream",
     "text": [
      "/Users/es5891/Documents/GitHub/bugs-in-democracy/rcv_learning/rcv_dimensionality.py:170: RuntimeWarning: divide by zero encountered in divide\n",
      "  distance = 1 / np.sqrt(freq_upper_triangle)\n"
     ]
    },
    {
     "name": "stdout",
     "output_type": "stream",
     "text": [
      "../rcv_elections_database/single/NewYorkCity_06222021_DEMCouncilMember20thCouncilDistrict.csv\n"
     ]
    },
    {
     "name": "stderr",
     "output_type": "stream",
     "text": [
      "/Users/es5891/Documents/GitHub/bugs-in-democracy/rcv_learning/rcv_dimensionality.py:131: DtypeWarning: Columns (1) have mixed types. Specify dtype option on import or set low_memory=False.\n",
      "  df = pd.read_csv(csv_file, low_memory=False)\n",
      "/Users/es5891/Documents/GitHub/bugs-in-democracy/rcv_learning/rcv_dimensionality.py:170: RuntimeWarning: divide by zero encountered in divide\n",
      "  distance = 1 / np.sqrt(freq_upper_triangle)\n"
     ]
    },
    {
     "name": "stdout",
     "output_type": "stream",
     "text": [
      "../rcv_elections_database/single/Oakland_11042014_CityCouncilDistrict4.csv\n"
     ]
    },
    {
     "name": "stderr",
     "output_type": "stream",
     "text": [
      "/Users/es5891/Documents/GitHub/bugs-in-democracy/rcv_learning/rcv_dimensionality.py:170: RuntimeWarning: divide by zero encountered in divide\n",
      "  distance = 1 / np.sqrt(freq_upper_triangle)\n"
     ]
    },
    {
     "name": "stdout",
     "output_type": "stream",
     "text": [
      "../rcv_elections_database/single/Oakland_11082022_Schoolboarddistrict4.csv\n"
     ]
    },
    {
     "name": "stderr",
     "output_type": "stream",
     "text": [
      "/Users/es5891/Documents/GitHub/bugs-in-democracy/rcv_learning/rcv_dimensionality.py:170: RuntimeWarning: divide by zero encountered in divide\n",
      "  distance = 1 / np.sqrt(freq_upper_triangle)\n"
     ]
    },
    {
     "name": "stdout",
     "output_type": "stream",
     "text": [
      "../rcv_elections_database/single/Oakland_11042014_CityCouncilDistrict6.csv\n"
     ]
    },
    {
     "name": "stderr",
     "output_type": "stream",
     "text": [
      "/Users/es5891/Documents/GitHub/bugs-in-democracy/rcv_learning/rcv_dimensionality.py:170: RuntimeWarning: divide by zero encountered in divide\n",
      "  distance = 1 / np.sqrt(freq_upper_triangle)\n"
     ]
    },
    {
     "name": "stdout",
     "output_type": "stream",
     "text": [
      "../rcv_elections_database/single/Oakland_11082022_Schoolboarddistrict6.csv\n"
     ]
    },
    {
     "name": "stderr",
     "output_type": "stream",
     "text": [
      "/Users/es5891/Documents/GitHub/bugs-in-democracy/rcv_learning/rcv_dimensionality.py:170: RuntimeWarning: divide by zero encountered in divide\n",
      "  distance = 1 / np.sqrt(freq_upper_triangle)\n"
     ]
    },
    {
     "name": "stdout",
     "output_type": "stream",
     "text": [
      "../rcv_elections_database/single/SanFrancisco_11082022_BoardofSupervisorsD10.csv\n"
     ]
    },
    {
     "name": "stderr",
     "output_type": "stream",
     "text": [
      "/Users/es5891/Documents/GitHub/bugs-in-democracy/rcv_learning/rcv_dimensionality.py:170: RuntimeWarning: divide by zero encountered in divide\n",
      "  distance = 1 / np.sqrt(freq_upper_triangle)\n"
     ]
    },
    {
     "name": "stdout",
     "output_type": "stream",
     "text": [
      "../rcv_elections_database/single/SanFrancisco_11032015_Mayor.csv\n"
     ]
    },
    {
     "name": "stderr",
     "output_type": "stream",
     "text": [
      "/Users/es5891/Documents/GitHub/bugs-in-democracy/rcv_learning/rcv_dimensionality.py:170: RuntimeWarning: divide by zero encountered in divide\n",
      "  distance = 1 / np.sqrt(freq_upper_triangle)\n"
     ]
    },
    {
     "name": "stdout",
     "output_type": "stream",
     "text": [
      "../rcv_elections_database/single/Oakland_11062012_CityCouncilDistrict7.csv\n"
     ]
    },
    {
     "name": "stderr",
     "output_type": "stream",
     "text": [
      "/Users/es5891/Documents/GitHub/bugs-in-democracy/rcv_learning/rcv_dimensionality.py:170: RuntimeWarning: divide by zero encountered in divide\n",
      "  distance = 1 / np.sqrt(freq_upper_triangle)\n"
     ]
    },
    {
     "name": "stdout",
     "output_type": "stream",
     "text": [
      "../rcv_elections_database/single/Alaska_11082022_SenateDistrictL.csv\n"
     ]
    },
    {
     "name": "stderr",
     "output_type": "stream",
     "text": [
      "/Users/es5891/Documents/GitHub/bugs-in-democracy/rcv_learning/rcv_dimensionality.py:170: RuntimeWarning: divide by zero encountered in divide\n",
      "  distance = 1 / np.sqrt(freq_upper_triangle)\n"
     ]
    },
    {
     "name": "stdout",
     "output_type": "stream",
     "text": [
      "../rcv_elections_database/single/SanLeandro_11062012_CountyCouncilDistrict2.csv\n"
     ]
    },
    {
     "name": "stderr",
     "output_type": "stream",
     "text": [
      "/Users/es5891/Documents/GitHub/bugs-in-democracy/rcv_learning/rcv_dimensionality.py:170: RuntimeWarning: divide by zero encountered in divide\n",
      "  distance = 1 / np.sqrt(freq_upper_triangle)\n"
     ]
    },
    {
     "name": "stdout",
     "output_type": "stream",
     "text": [
      "../rcv_elections_database/single/NewYorkCity_06222021_REPCouncilMember32ndCouncilDistrict.csv\n"
     ]
    },
    {
     "name": "stderr",
     "output_type": "stream",
     "text": [
      "/Users/es5891/Documents/GitHub/bugs-in-democracy/rcv_learning/rcv_dimensionality.py:131: DtypeWarning: Columns (1) have mixed types. Specify dtype option on import or set low_memory=False.\n",
      "  df = pd.read_csv(csv_file, low_memory=False)\n",
      "/Users/es5891/Documents/GitHub/bugs-in-democracy/rcv_learning/rcv_dimensionality.py:170: RuntimeWarning: divide by zero encountered in divide\n",
      "  distance = 1 / np.sqrt(freq_upper_triangle)\n"
     ]
    },
    {
     "name": "stdout",
     "output_type": "stream",
     "text": [
      "../rcv_elections_database/single/Minneapolis_11022021_CityCouncilWard8.csv\n"
     ]
    },
    {
     "name": "stderr",
     "output_type": "stream",
     "text": [
      "/Users/es5891/Documents/GitHub/bugs-in-democracy/rcv_learning/rcv_dimensionality.py:170: RuntimeWarning: divide by zero encountered in divide\n",
      "  distance = 1 / np.sqrt(freq_upper_triangle)\n"
     ]
    },
    {
     "name": "stdout",
     "output_type": "stream",
     "text": [
      "../rcv_elections_database/single/Alaska_11082022_USSenator.csv\n"
     ]
    },
    {
     "name": "stderr",
     "output_type": "stream",
     "text": [
      "/Users/es5891/Documents/GitHub/bugs-in-democracy/rcv_learning/rcv_dimensionality.py:170: RuntimeWarning: divide by zero encountered in divide\n",
      "  distance = 1 / np.sqrt(freq_upper_triangle)\n"
     ]
    },
    {
     "name": "stdout",
     "output_type": "stream",
     "text": [
      "../rcv_elections_database/single/NewYorkCity_06222021_DEMCouncilMember9thCouncilDistrict.csv\n"
     ]
    },
    {
     "name": "stderr",
     "output_type": "stream",
     "text": [
      "/Users/es5891/Documents/GitHub/bugs-in-democracy/rcv_learning/rcv_dimensionality.py:170: RuntimeWarning: divide by zero encountered in divide\n",
      "  distance = 1 / np.sqrt(freq_upper_triangle)\n"
     ]
    },
    {
     "name": "stdout",
     "output_type": "stream",
     "text": [
      "../rcv_elections_database/single/Minneapolis_11062009_Ward6CityCouncil.csv\n"
     ]
    },
    {
     "name": "stderr",
     "output_type": "stream",
     "text": [
      "/Users/es5891/Documents/GitHub/bugs-in-democracy/rcv_learning/rcv_dimensionality.py:170: RuntimeWarning: divide by zero encountered in divide\n",
      "  distance = 1 / np.sqrt(freq_upper_triangle)\n"
     ]
    },
    {
     "name": "stdout",
     "output_type": "stream",
     "text": [
      "../rcv_elections_database/single/SanFrancisco_11032020_BOARDOFSUPERVISORSDISTRICT11.csv\n"
     ]
    },
    {
     "name": "stderr",
     "output_type": "stream",
     "text": [
      "/Users/es5891/Documents/GitHub/bugs-in-democracy/rcv_learning/rcv_dimensionality.py:170: RuntimeWarning: divide by zero encountered in divide\n",
      "  distance = 1 / np.sqrt(freq_upper_triangle)\n"
     ]
    },
    {
     "name": "stdout",
     "output_type": "stream",
     "text": [
      "../rcv_elections_database/single/Corvallis_11082022_Mayor.csv\n"
     ]
    },
    {
     "name": "stderr",
     "output_type": "stream",
     "text": [
      "/Users/es5891/Documents/GitHub/bugs-in-democracy/rcv_learning/rcv_dimensionality.py:170: RuntimeWarning: divide by zero encountered in divide\n",
      "  distance = 1 / np.sqrt(freq_upper_triangle)\n"
     ]
    },
    {
     "name": "stdout",
     "output_type": "stream",
     "text": [
      "../rcv_elections_database/single/Minneapolis_11072017_PRBoardDistrict6.csv\n"
     ]
    },
    {
     "name": "stderr",
     "output_type": "stream",
     "text": [
      "/Users/es5891/Documents/GitHub/bugs-in-democracy/rcv_learning/rcv_dimensionality.py:170: RuntimeWarning: divide by zero encountered in divide\n",
      "  distance = 1 / np.sqrt(freq_upper_triangle)\n"
     ]
    },
    {
     "name": "stdout",
     "output_type": "stream",
     "text": [
      "../rcv_elections_database/single/SanFrancisco_11042008_BoardofSupervisorsDistrict11.csv\n"
     ]
    },
    {
     "name": "stderr",
     "output_type": "stream",
     "text": [
      "/Users/es5891/Documents/GitHub/bugs-in-democracy/rcv_learning/rcv_dimensionality.py:159: RuntimeWarning: divide by zero encountered in divide\n",
      "  frequencies = counts / mentioned_together\n",
      "/Users/es5891/Documents/GitHub/bugs-in-democracy/rcv_learning/rcv_dimensionality.py:159: RuntimeWarning: invalid value encountered in divide\n",
      "  frequencies = counts / mentioned_together\n",
      "/Users/es5891/Documents/GitHub/bugs-in-democracy/rcv_learning/rcv_dimensionality.py:170: RuntimeWarning: divide by zero encountered in divide\n",
      "  distance = 1 / np.sqrt(freq_upper_triangle)\n"
     ]
    },
    {
     "name": "stdout",
     "output_type": "stream",
     "text": [
      "../rcv_elections_database/single/NewYorkCity_06222021_DEMCouncilMember17thCouncilDistrict.csv\n"
     ]
    },
    {
     "name": "stderr",
     "output_type": "stream",
     "text": [
      "/Users/es5891/Documents/GitHub/bugs-in-democracy/rcv_learning/rcv_dimensionality.py:170: RuntimeWarning: divide by zero encountered in divide\n",
      "  distance = 1 / np.sqrt(freq_upper_triangle)\n"
     ]
    },
    {
     "name": "stdout",
     "output_type": "stream",
     "text": [
      "../rcv_elections_database/single/NewYorkCity_06222021_CONCouncilMember19thCouncilDistrict.csv\n"
     ]
    },
    {
     "name": "stderr",
     "output_type": "stream",
     "text": [
      "/Users/es5891/Documents/GitHub/bugs-in-democracy/rcv_learning/rcv_dimensionality.py:131: DtypeWarning: Columns (1) have mixed types. Specify dtype option on import or set low_memory=False.\n",
      "  df = pd.read_csv(csv_file, low_memory=False)\n",
      "/Users/es5891/Documents/GitHub/bugs-in-democracy/rcv_learning/rcv_dimensionality.py:170: RuntimeWarning: divide by zero encountered in divide\n",
      "  distance = 1 / np.sqrt(freq_upper_triangle)\n"
     ]
    },
    {
     "name": "stdout",
     "output_type": "stream",
     "text": [
      "../rcv_elections_database/single/NewYorkCity_06222021_DEMCouncilMember21stCouncilDistrict.csv\n"
     ]
    },
    {
     "name": "stderr",
     "output_type": "stream",
     "text": [
      "/Users/es5891/Documents/GitHub/bugs-in-democracy/rcv_learning/rcv_dimensionality.py:131: DtypeWarning: Columns (1) have mixed types. Specify dtype option on import or set low_memory=False.\n",
      "  df = pd.read_csv(csv_file, low_memory=False)\n",
      "/Users/es5891/Documents/GitHub/bugs-in-democracy/rcv_learning/rcv_dimensionality.py:170: RuntimeWarning: divide by zero encountered in divide\n",
      "  distance = 1 / np.sqrt(freq_upper_triangle)\n"
     ]
    },
    {
     "name": "stdout",
     "output_type": "stream",
     "text": [
      "../rcv_elections_database/single/Oakland_11082016_CityCouncilDistrict7.csv\n"
     ]
    },
    {
     "name": "stderr",
     "output_type": "stream",
     "text": [
      "/Users/es5891/Documents/GitHub/bugs-in-democracy/rcv_learning/rcv_dimensionality.py:170: RuntimeWarning: divide by zero encountered in divide\n",
      "  distance = 1 / np.sqrt(freq_upper_triangle)\n"
     ]
    },
    {
     "name": "stdout",
     "output_type": "stream",
     "text": [
      "../rcv_elections_database/single/Portland_06142022_Schoolboarddistrict5.csv\n"
     ]
    },
    {
     "name": "stderr",
     "output_type": "stream",
     "text": [
      "/Users/es5891/Documents/GitHub/bugs-in-democracy/rcv_learning/rcv_dimensionality.py:159: RuntimeWarning: divide by zero encountered in divide\n",
      "  frequencies = counts / mentioned_together\n",
      "/Users/es5891/Documents/GitHub/bugs-in-democracy/rcv_learning/rcv_dimensionality.py:159: RuntimeWarning: invalid value encountered in divide\n",
      "  frequencies = counts / mentioned_together\n",
      "/Users/es5891/Documents/GitHub/bugs-in-democracy/rcv_learning/rcv_dimensionality.py:170: RuntimeWarning: divide by zero encountered in divide\n",
      "  distance = 1 / np.sqrt(freq_upper_triangle)\n"
     ]
    },
    {
     "name": "stdout",
     "output_type": "stream",
     "text": [
      "../rcv_elections_database/single/Albany_11082022_FAKECityCouncil.csv\n"
     ]
    },
    {
     "name": "stderr",
     "output_type": "stream",
     "text": [
      "/Users/es5891/Documents/GitHub/bugs-in-democracy/rcv_learning/rcv_dimensionality.py:170: RuntimeWarning: divide by zero encountered in divide\n",
      "  distance = 1 / np.sqrt(freq_upper_triangle)\n"
     ]
    },
    {
     "name": "stdout",
     "output_type": "stream",
     "text": [
      "../rcv_elections_database/single/Minneapolis_11022021_CityCouncilWard9.csv\n"
     ]
    },
    {
     "name": "stderr",
     "output_type": "stream",
     "text": [
      "/Users/es5891/Documents/GitHub/bugs-in-democracy/rcv_learning/rcv_dimensionality.py:170: RuntimeWarning: divide by zero encountered in divide\n",
      "  distance = 1 / np.sqrt(freq_upper_triangle)\n"
     ]
    },
    {
     "name": "stdout",
     "output_type": "stream",
     "text": [
      "../rcv_elections_database/single/Minneapolis_11052013_Ward13CityCouncil.csv\n"
     ]
    },
    {
     "name": "stderr",
     "output_type": "stream",
     "text": [
      "/Users/es5891/Documents/GitHub/bugs-in-democracy/rcv_learning/rcv_dimensionality.py:170: RuntimeWarning: divide by zero encountered in divide\n",
      "  distance = 1 / np.sqrt(freq_upper_triangle)\n"
     ]
    },
    {
     "name": "stdout",
     "output_type": "stream",
     "text": [
      "../rcv_elections_database/single/SanFrancisco_11072006_BoardofSupervisorsDistrict4.csv\n"
     ]
    },
    {
     "name": "stderr",
     "output_type": "stream",
     "text": [
      "/Users/es5891/Documents/GitHub/bugs-in-democracy/rcv_learning/rcv_dimensionality.py:170: RuntimeWarning: divide by zero encountered in divide\n",
      "  distance = 1 / np.sqrt(freq_upper_triangle)\n"
     ]
    },
    {
     "name": "stdout",
     "output_type": "stream",
     "text": [
      "../rcv_elections_database/single/NewYorkCity_06222021_DEMCouncilMember12thCouncilDistrict.csv\n"
     ]
    },
    {
     "name": "stderr",
     "output_type": "stream",
     "text": [
      "/Users/es5891/Documents/GitHub/bugs-in-democracy/rcv_learning/rcv_dimensionality.py:170: RuntimeWarning: divide by zero encountered in divide\n",
      "  distance = 1 / np.sqrt(freq_upper_triangle)\n"
     ]
    },
    {
     "name": "stdout",
     "output_type": "stream",
     "text": [
      "../rcv_elections_database/single/Alaska_11082022_SenateDistrictM.csv\n"
     ]
    },
    {
     "name": "stderr",
     "output_type": "stream",
     "text": [
      "/Users/es5891/Documents/GitHub/bugs-in-democracy/rcv_learning/rcv_dimensionality.py:170: RuntimeWarning: divide by zero encountered in divide\n",
      "  distance = 1 / np.sqrt(freq_upper_triangle)\n"
     ]
    },
    {
     "name": "stdout",
     "output_type": "stream",
     "text": [
      "../rcv_elections_database/single/SanFrancisco_11022004_BoardofSupervisorsDistrict11.csv\n"
     ]
    },
    {
     "name": "stderr",
     "output_type": "stream",
     "text": [
      "/Users/es5891/Documents/GitHub/bugs-in-democracy/rcv_learning/rcv_dimensionality.py:170: RuntimeWarning: divide by zero encountered in divide\n",
      "  distance = 1 / np.sqrt(freq_upper_triangle)\n"
     ]
    },
    {
     "name": "stdout",
     "output_type": "stream",
     "text": [
      "../rcv_elections_database/single/NewYorkCity_06222021_REPCouncilMember50thCouncilDistrict.csv\n"
     ]
    },
    {
     "name": "stderr",
     "output_type": "stream",
     "text": [
      "/Users/es5891/Documents/GitHub/bugs-in-democracy/rcv_learning/rcv_dimensionality.py:170: RuntimeWarning: divide by zero encountered in divide\n",
      "  distance = 1 / np.sqrt(freq_upper_triangle)\n"
     ]
    },
    {
     "name": "stdout",
     "output_type": "stream",
     "text": [
      "../rcv_elections_database/single/SanFrancisco_11062018_AssessorRecorder.csv\n"
     ]
    },
    {
     "name": "stderr",
     "output_type": "stream",
     "text": [
      "/Users/es5891/Documents/GitHub/bugs-in-democracy/rcv_learning/rcv_dimensionality.py:170: RuntimeWarning: divide by zero encountered in divide\n",
      "  distance = 1 / np.sqrt(freq_upper_triangle)\n"
     ]
    },
    {
     "name": "stdout",
     "output_type": "stream",
     "text": [
      "../rcv_elections_database/single/Minneapolis_11062009_Ward4CityCouncil.csv\n"
     ]
    },
    {
     "name": "stderr",
     "output_type": "stream",
     "text": [
      "/Users/es5891/Documents/GitHub/bugs-in-democracy/rcv_learning/rcv_dimensionality.py:170: RuntimeWarning: divide by zero encountered in divide\n",
      "  distance = 1 / np.sqrt(freq_upper_triangle)\n"
     ]
    },
    {
     "name": "stdout",
     "output_type": "stream",
     "text": [
      "../rcv_elections_database/single/Alaska_04102020_PRESIDENTOFTHEUNITEDSTATES.csv\n"
     ]
    },
    {
     "name": "stderr",
     "output_type": "stream",
     "text": [
      "/Users/es5891/Documents/GitHub/bugs-in-democracy/rcv_learning/rcv_dimensionality.py:170: RuntimeWarning: divide by zero encountered in divide\n",
      "  distance = 1 / np.sqrt(freq_upper_triangle)\n"
     ]
    },
    {
     "name": "stdout",
     "output_type": "stream",
     "text": [
      "../rcv_elections_database/single/NewYorkCity_06222021_DEMCouncilMember41stCouncilDistrict.csv\n"
     ]
    },
    {
     "name": "stderr",
     "output_type": "stream",
     "text": [
      "/Users/es5891/Documents/GitHub/bugs-in-democracy/rcv_learning/rcv_dimensionality.py:131: DtypeWarning: Columns (1) have mixed types. Specify dtype option on import or set low_memory=False.\n",
      "  df = pd.read_csv(csv_file, low_memory=False)\n",
      "/Users/es5891/Documents/GitHub/bugs-in-democracy/rcv_learning/rcv_dimensionality.py:170: RuntimeWarning: divide by zero encountered in divide\n",
      "  distance = 1 / np.sqrt(freq_upper_triangle)\n"
     ]
    },
    {
     "name": "stdout",
     "output_type": "stream",
     "text": [
      "../rcv_elections_database/single/SanFrancisco_11042008_BoardofSupervisorsDistrict5.csv\n"
     ]
    },
    {
     "name": "stderr",
     "output_type": "stream",
     "text": [
      "/Users/es5891/Documents/GitHub/bugs-in-democracy/rcv_learning/rcv_dimensionality.py:170: RuntimeWarning: divide by zero encountered in divide\n",
      "  distance = 1 / np.sqrt(freq_upper_triangle)\n"
     ]
    },
    {
     "name": "stdout",
     "output_type": "stream",
     "text": [
      "../rcv_elections_database/single/Payson_11052019_CityCouncil.csv\n"
     ]
    },
    {
     "name": "stderr",
     "output_type": "stream",
     "text": [
      "/Users/es5891/Documents/GitHub/bugs-in-democracy/rcv_learning/rcv_dimensionality.py:170: RuntimeWarning: divide by zero encountered in divide\n",
      "  distance = 1 / np.sqrt(freq_upper_triangle)\n"
     ]
    },
    {
     "name": "stdout",
     "output_type": "stream",
     "text": [
      "../rcv_elections_database/single/SanFrancisco_11032020_BOARDOFSUPERVISORSDISTRICT1.csv\n"
     ]
    },
    {
     "name": "stderr",
     "output_type": "stream",
     "text": [
      "/Users/es5891/Documents/GitHub/bugs-in-democracy/rcv_learning/rcv_dimensionality.py:170: RuntimeWarning: divide by zero encountered in divide\n",
      "  distance = 1 / np.sqrt(freq_upper_triangle)\n"
     ]
    },
    {
     "name": "stdout",
     "output_type": "stream",
     "text": [
      "../rcv_elections_database/single/Alaska_11082022_HouseDistrict16.csv\n"
     ]
    },
    {
     "name": "stderr",
     "output_type": "stream",
     "text": [
      "/Users/es5891/Documents/GitHub/bugs-in-democracy/rcv_learning/rcv_dimensionality.py:170: RuntimeWarning: divide by zero encountered in divide\n",
      "  distance = 1 / np.sqrt(freq_upper_triangle)\n"
     ]
    },
    {
     "name": "stdout",
     "output_type": "stream",
     "text": [
      "../rcv_elections_database/single/Berkeley_11042014_CityCouncilDistrict1.csv\n"
     ]
    },
    {
     "name": "stderr",
     "output_type": "stream",
     "text": [
      "/Users/es5891/Documents/GitHub/bugs-in-democracy/rcv_learning/rcv_dimensionality.py:170: RuntimeWarning: divide by zero encountered in divide\n",
      "  distance = 1 / np.sqrt(freq_upper_triangle)\n"
     ]
    },
    {
     "name": "stdout",
     "output_type": "stream",
     "text": [
      "../rcv_elections_database/single/TakomaPark_11082022_CityCouncilWard4.csv\n",
      "Error in file: ../rcv_elections_database/single/TakomaPark_11082022_CityCouncilWard4.csv\n",
      "../rcv_elections_database/single/SanLeandro_11032020_MemberCityCouncilDist6SanLeandroRCV.csv\n",
      "Error in file: ../rcv_elections_database/single/SanLeandro_11032020_MemberCityCouncilDist6SanLeandroRCV.csv\n",
      "../rcv_elections_database/single/Minneapolis_11022021_ParkBoardDistrict2.csv\n"
     ]
    },
    {
     "name": "stderr",
     "output_type": "stream",
     "text": [
      "/Users/es5891/Documents/GitHub/bugs-in-democracy/rcv_learning/rcv_dimensionality.py:170: RuntimeWarning: divide by zero encountered in divide\n",
      "  distance = 1 / np.sqrt(freq_upper_triangle)\n"
     ]
    },
    {
     "name": "stdout",
     "output_type": "stream",
     "text": [
      "../rcv_elections_database/single/Portland_06142022_SchoolboardAL.csv\n"
     ]
    },
    {
     "name": "stderr",
     "output_type": "stream",
     "text": [
      "/Users/es5891/Documents/GitHub/bugs-in-democracy/rcv_learning/rcv_dimensionality.py:159: RuntimeWarning: divide by zero encountered in divide\n",
      "  frequencies = counts / mentioned_together\n",
      "/Users/es5891/Documents/GitHub/bugs-in-democracy/rcv_learning/rcv_dimensionality.py:159: RuntimeWarning: invalid value encountered in divide\n",
      "  frequencies = counts / mentioned_together\n",
      "/Users/es5891/Documents/GitHub/bugs-in-democracy/rcv_learning/rcv_dimensionality.py:170: RuntimeWarning: divide by zero encountered in divide\n",
      "  distance = 1 / np.sqrt(freq_upper_triangle)\n"
     ]
    },
    {
     "name": "stdout",
     "output_type": "stream",
     "text": [
      "../rcv_elections_database/single/Berkeley_11062018_CityCouncilDistrict8.csv\n"
     ]
    },
    {
     "name": "stderr",
     "output_type": "stream",
     "text": [
      "/Users/es5891/Documents/GitHub/bugs-in-democracy/rcv_learning/rcv_dimensionality.py:170: RuntimeWarning: divide by zero encountered in divide\n",
      "  distance = 1 / np.sqrt(freq_upper_triangle)\n"
     ]
    },
    {
     "name": "stdout",
     "output_type": "stream",
     "text": [
      "../rcv_elections_database/single/ElkRidge_11022021_Mayor.csv\n"
     ]
    },
    {
     "name": "stderr",
     "output_type": "stream",
     "text": [
      "/Users/es5891/Documents/GitHub/bugs-in-democracy/rcv_learning/rcv_dimensionality.py:170: RuntimeWarning: divide by zero encountered in divide\n",
      "  distance = 1 / np.sqrt(freq_upper_triangle)\n"
     ]
    },
    {
     "name": "stdout",
     "output_type": "stream",
     "text": [
      "../rcv_elections_database/single/SanLeandro_11062018_CountyCouncilDistrict5.csv\n"
     ]
    },
    {
     "name": "stderr",
     "output_type": "stream",
     "text": [
      "/Users/es5891/Documents/GitHub/bugs-in-democracy/rcv_learning/rcv_dimensionality.py:170: RuntimeWarning: divide by zero encountered in divide\n",
      "  distance = 1 / np.sqrt(freq_upper_triangle)\n"
     ]
    },
    {
     "name": "stdout",
     "output_type": "stream",
     "text": [
      "../rcv_elections_database/single/Minneapolis_11052013_Ward5CityCouncil.csv\n"
     ]
    },
    {
     "name": "stderr",
     "output_type": "stream",
     "text": [
      "/Users/es5891/Documents/GitHub/bugs-in-democracy/rcv_learning/rcv_dimensionality.py:170: RuntimeWarning: divide by zero encountered in divide\n",
      "  distance = 1 / np.sqrt(freq_upper_triangle)\n"
     ]
    },
    {
     "name": "stdout",
     "output_type": "stream",
     "text": [
      "../rcv_elections_database/single/NewYorkCity_06222021_DEMCouncilMember36thCouncilDistrict.csv\n"
     ]
    },
    {
     "name": "stderr",
     "output_type": "stream",
     "text": [
      "/Users/es5891/Documents/GitHub/bugs-in-democracy/rcv_learning/rcv_dimensionality.py:131: DtypeWarning: Columns (1) have mixed types. Specify dtype option on import or set low_memory=False.\n",
      "  df = pd.read_csv(csv_file, low_memory=False)\n",
      "/Users/es5891/Documents/GitHub/bugs-in-democracy/rcv_learning/rcv_dimensionality.py:170: RuntimeWarning: divide by zero encountered in divide\n",
      "  distance = 1 / np.sqrt(freq_upper_triangle)\n"
     ]
    },
    {
     "name": "stdout",
     "output_type": "stream",
     "text": [
      "../rcv_elections_database/single/SanLeandro_11022010_CountyCouncilDistrict5.csv\n"
     ]
    },
    {
     "name": "stderr",
     "output_type": "stream",
     "text": [
      "/Users/es5891/Documents/GitHub/bugs-in-democracy/rcv_learning/rcv_dimensionality.py:170: RuntimeWarning: divide by zero encountered in divide\n",
      "  distance = 1 / np.sqrt(freq_upper_triangle)\n"
     ]
    },
    {
     "name": "stdout",
     "output_type": "stream",
     "text": [
      "../rcv_elections_database/single/Minneapolis_11022021_ParkBoardDistrict3.csv\n"
     ]
    },
    {
     "name": "stderr",
     "output_type": "stream",
     "text": [
      "/Users/es5891/Documents/GitHub/bugs-in-democracy/rcv_learning/rcv_dimensionality.py:170: RuntimeWarning: divide by zero encountered in divide\n",
      "  distance = 1 / np.sqrt(freq_upper_triangle)\n"
     ]
    },
    {
     "name": "stdout",
     "output_type": "stream",
     "text": [
      "../rcv_elections_database/single/Oakland_11062012_CityCouncilAtLarge.csv\n"
     ]
    },
    {
     "name": "stderr",
     "output_type": "stream",
     "text": [
      "/Users/es5891/Documents/GitHub/bugs-in-democracy/rcv_learning/rcv_dimensionality.py:170: RuntimeWarning: divide by zero encountered in divide\n",
      "  distance = 1 / np.sqrt(freq_upper_triangle)\n"
     ]
    },
    {
     "name": "stdout",
     "output_type": "stream",
     "text": [
      "../rcv_elections_database/single/TakomaPark_11082022_CityCouncilWard5.csv\n"
     ]
    },
    {
     "name": "stderr",
     "output_type": "stream",
     "text": [
      "/Users/es5891/Documents/GitHub/bugs-in-democracy/rcv_learning/rcv_dimensionality.py:170: RuntimeWarning: divide by zero encountered in divide\n",
      "  distance = 1 / np.sqrt(freq_upper_triangle)\n"
     ]
    },
    {
     "name": "stdout",
     "output_type": "stream",
     "text": [
      "../rcv_elections_database/single/Alaska_11082022_HouseDistrict17.csv\n"
     ]
    },
    {
     "name": "stderr",
     "output_type": "stream",
     "text": [
      "/Users/es5891/Documents/GitHub/bugs-in-democracy/rcv_learning/rcv_dimensionality.py:170: RuntimeWarning: divide by zero encountered in divide\n",
      "  distance = 1 / np.sqrt(freq_upper_triangle)\n"
     ]
    },
    {
     "name": "stdout",
     "output_type": "stream",
     "text": [
      "../rcv_elections_database/single/Oakland_11022010_CityCouncilDistrict4.csv\n"
     ]
    },
    {
     "name": "stderr",
     "output_type": "stream",
     "text": [
      "/Users/es5891/Documents/GitHub/bugs-in-democracy/rcv_learning/rcv_dimensionality.py:170: RuntimeWarning: divide by zero encountered in divide\n",
      "  distance = 1 / np.sqrt(freq_upper_triangle)\n"
     ]
    },
    {
     "name": "stdout",
     "output_type": "stream",
     "text": [
      "../rcv_elections_database/single/SanFrancisco_11082022_DistrictAttorney.csv\n"
     ]
    },
    {
     "name": "stderr",
     "output_type": "stream",
     "text": [
      "/Users/es5891/Documents/GitHub/bugs-in-democracy/rcv_learning/rcv_dimensionality.py:170: RuntimeWarning: divide by zero encountered in divide\n",
      "  distance = 1 / np.sqrt(freq_upper_triangle)\n"
     ]
    },
    {
     "name": "stdout",
     "output_type": "stream",
     "text": [
      "../rcv_elections_database/single/SanFrancisco_11042008_BoardofSupervisorsDistrict4.csv\n"
     ]
    },
    {
     "name": "stderr",
     "output_type": "stream",
     "text": [
      "/Users/es5891/Documents/GitHub/bugs-in-democracy/rcv_learning/rcv_dimensionality.py:170: RuntimeWarning: divide by zero encountered in divide\n",
      "  distance = 1 / np.sqrt(freq_upper_triangle)\n"
     ]
    },
    {
     "name": "stdout",
     "output_type": "stream",
     "text": [
      "../rcv_elections_database/single/SanFrancisco_11062018_BoardofSupervisorsDistrict6.csv\n"
     ]
    },
    {
     "name": "stderr",
     "output_type": "stream",
     "text": [
      "/Users/es5891/Documents/GitHub/bugs-in-democracy/rcv_learning/rcv_dimensionality.py:170: RuntimeWarning: divide by zero encountered in divide\n",
      "  distance = 1 / np.sqrt(freq_upper_triangle)\n"
     ]
    },
    {
     "name": "stdout",
     "output_type": "stream",
     "text": [
      "../rcv_elections_database/single/Oakland_11082022_CityCouncilmemberDistrict6.csv\n"
     ]
    },
    {
     "name": "stderr",
     "output_type": "stream",
     "text": [
      "/Users/es5891/Documents/GitHub/bugs-in-democracy/rcv_learning/rcv_dimensionality.py:170: RuntimeWarning: divide by zero encountered in divide\n",
      "  distance = 1 / np.sqrt(freq_upper_triangle)\n"
     ]
    },
    {
     "name": "stdout",
     "output_type": "stream",
     "text": [
      "../rcv_elections_database/single/SanFrancisco_11082022_BoardofSupervisorsD4.csv\n"
     ]
    },
    {
     "name": "stderr",
     "output_type": "stream",
     "text": [
      "/Users/es5891/Documents/GitHub/bugs-in-democracy/rcv_learning/rcv_dimensionality.py:170: RuntimeWarning: divide by zero encountered in divide\n",
      "  distance = 1 / np.sqrt(freq_upper_triangle)\n"
     ]
    },
    {
     "name": "stdout",
     "output_type": "stream",
     "text": [
      "../rcv_elections_database/single/SanFrancisco_11082022_BoardofSupervisorsD6.csv\n"
     ]
    },
    {
     "name": "stderr",
     "output_type": "stream",
     "text": [
      "/Users/es5891/Documents/GitHub/bugs-in-democracy/rcv_learning/rcv_dimensionality.py:170: RuntimeWarning: divide by zero encountered in divide\n",
      "  distance = 1 / np.sqrt(freq_upper_triangle)\n"
     ]
    },
    {
     "name": "stdout",
     "output_type": "stream",
     "text": [
      "../rcv_elections_database/single/Minneapolis_11062009_Ward3CityCouncil.csv\n"
     ]
    },
    {
     "name": "stderr",
     "output_type": "stream",
     "text": [
      "/Users/es5891/Documents/GitHub/bugs-in-democracy/rcv_learning/rcv_dimensionality.py:170: RuntimeWarning: divide by zero encountered in divide\n",
      "  distance = 1 / np.sqrt(freq_upper_triangle)\n"
     ]
    },
    {
     "name": "stdout",
     "output_type": "stream",
     "text": [
      "../rcv_elections_database/single/Oakland_11082022_CityCouncilmemberDistrict4.csv\n"
     ]
    },
    {
     "name": "stderr",
     "output_type": "stream",
     "text": [
      "/Users/es5891/Documents/GitHub/bugs-in-democracy/rcv_learning/rcv_dimensionality.py:170: RuntimeWarning: divide by zero encountered in divide\n",
      "  distance = 1 / np.sqrt(freq_upper_triangle)\n"
     ]
    },
    {
     "name": "stdout",
     "output_type": "stream",
     "text": [
      "../rcv_elections_database/single/Berkeley_11082016_CityCouncilDistrict2.csv\n"
     ]
    },
    {
     "name": "stderr",
     "output_type": "stream",
     "text": [
      "/Users/es5891/Documents/GitHub/bugs-in-democracy/rcv_learning/rcv_dimensionality.py:170: RuntimeWarning: divide by zero encountered in divide\n",
      "  distance = 1 / np.sqrt(freq_upper_triangle)\n"
     ]
    },
    {
     "name": "stdout",
     "output_type": "stream",
     "text": [
      "../rcv_elections_database/single/SanFrancisco_11062018_BoardofSupervisorsDistrict4.csv\n"
     ]
    },
    {
     "name": "stderr",
     "output_type": "stream",
     "text": [
      "/Users/es5891/Documents/GitHub/bugs-in-democracy/rcv_learning/rcv_dimensionality.py:170: RuntimeWarning: divide by zero encountered in divide\n",
      "  distance = 1 / np.sqrt(freq_upper_triangle)\n"
     ]
    },
    {
     "name": "stdout",
     "output_type": "stream",
     "text": [
      "../rcv_elections_database/single/Alaska_11082022_HouseDistrict15.csv\n"
     ]
    },
    {
     "name": "stderr",
     "output_type": "stream",
     "text": [
      "/Users/es5891/Documents/GitHub/bugs-in-democracy/rcv_learning/rcv_dimensionality.py:170: RuntimeWarning: divide by zero encountered in divide\n",
      "  distance = 1 / np.sqrt(freq_upper_triangle)\n"
     ]
    },
    {
     "name": "stdout",
     "output_type": "stream",
     "text": [
      "../rcv_elections_database/single/Oakland_11022010_CityCouncilDistrict6.csv\n"
     ]
    },
    {
     "name": "stderr",
     "output_type": "stream",
     "text": [
      "/Users/es5891/Documents/GitHub/bugs-in-democracy/rcv_learning/rcv_dimensionality.py:170: RuntimeWarning: divide by zero encountered in divide\n",
      "  distance = 1 / np.sqrt(freq_upper_triangle)\n"
     ]
    },
    {
     "name": "stdout",
     "output_type": "stream",
     "text": [
      "../rcv_elections_database/single/NewYorkCity_06222021_DEMCouncilMember40thCouncilDistrict.csv\n"
     ]
    },
    {
     "name": "stderr",
     "output_type": "stream",
     "text": [
      "/Users/es5891/Documents/GitHub/bugs-in-democracy/rcv_learning/rcv_dimensionality.py:131: DtypeWarning: Columns (1) have mixed types. Specify dtype option on import or set low_memory=False.\n",
      "  df = pd.read_csv(csv_file, low_memory=False)\n",
      "/Users/es5891/Documents/GitHub/bugs-in-democracy/rcv_learning/rcv_dimensionality.py:170: RuntimeWarning: divide by zero encountered in divide\n",
      "  distance = 1 / np.sqrt(freq_upper_triangle)\n"
     ]
    },
    {
     "name": "stdout",
     "output_type": "stream",
     "text": [
      "../rcv_elections_database/single/Alaska_11082022_HouseDistrict29.csv\n"
     ]
    },
    {
     "name": "stderr",
     "output_type": "stream",
     "text": [
      "/Users/es5891/Documents/GitHub/bugs-in-democracy/rcv_learning/rcv_dimensionality.py:170: RuntimeWarning: divide by zero encountered in divide\n",
      "  distance = 1 / np.sqrt(freq_upper_triangle)\n"
     ]
    },
    {
     "name": "stdout",
     "output_type": "stream",
     "text": [
      "../rcv_elections_database/single/Minneapolis_11022021_ParkBoardDistrict1.csv\n",
      "Error in file: ../rcv_elections_database/single/Minneapolis_11022021_ParkBoardDistrict1.csv\n",
      "../rcv_elections_database/single/NewYorkCity_06222021_DEMCouncilMember39thCouncilDistrict.csv\n"
     ]
    },
    {
     "name": "stderr",
     "output_type": "stream",
     "text": [
      "/Users/es5891/Documents/GitHub/bugs-in-democracy/rcv_learning/rcv_dimensionality.py:131: DtypeWarning: Columns (1) have mixed types. Specify dtype option on import or set low_memory=False.\n",
      "  df = pd.read_csv(csv_file, low_memory=False)\n",
      "/Users/es5891/Documents/GitHub/bugs-in-democracy/rcv_learning/rcv_dimensionality.py:170: RuntimeWarning: divide by zero encountered in divide\n",
      "  distance = 1 / np.sqrt(freq_upper_triangle)\n"
     ]
    },
    {
     "name": "stdout",
     "output_type": "stream",
     "text": [
      "../rcv_elections_database/single/Berkeley_11062012_CityCouncilDistrict3.csv\n"
     ]
    },
    {
     "name": "stderr",
     "output_type": "stream",
     "text": [
      "/Users/es5891/Documents/GitHub/bugs-in-democracy/rcv_learning/rcv_dimensionality.py:170: RuntimeWarning: divide by zero encountered in divide\n",
      "  distance = 1 / np.sqrt(freq_upper_triangle)\n"
     ]
    },
    {
     "name": "stdout",
     "output_type": "stream",
     "text": [
      "../rcv_elections_database/single/PierceCounty_11042008_CountyCouncilDistrict2.csv\n"
     ]
    },
    {
     "name": "stderr",
     "output_type": "stream",
     "text": [
      "/Users/es5891/Documents/GitHub/bugs-in-democracy/rcv_learning/rcv_dimensionality.py:170: RuntimeWarning: divide by zero encountered in divide\n",
      "  distance = 1 / np.sqrt(freq_upper_triangle)\n"
     ]
    },
    {
     "name": "stdout",
     "output_type": "stream",
     "text": [
      "../rcv_elections_database/single/Oakland_11062018_Mayor.csv\n"
     ]
    },
    {
     "name": "stderr",
     "output_type": "stream",
     "text": [
      "/Users/es5891/Documents/GitHub/bugs-in-democracy/rcv_learning/rcv_dimensionality.py:170: RuntimeWarning: divide by zero encountered in divide\n",
      "  distance = 1 / np.sqrt(freq_upper_triangle)\n"
     ]
    },
    {
     "name": "stdout",
     "output_type": "stream",
     "text": [
      "../rcv_elections_database/single/Berkeley_11062012_Mayor.csv\n"
     ]
    },
    {
     "name": "stderr",
     "output_type": "stream",
     "text": [
      "/Users/es5891/Documents/GitHub/bugs-in-democracy/rcv_learning/rcv_dimensionality.py:170: RuntimeWarning: divide by zero encountered in divide\n",
      "  distance = 1 / np.sqrt(freq_upper_triangle)\n"
     ]
    },
    {
     "name": "stdout",
     "output_type": "stream",
     "text": [
      "../rcv_elections_database/single/SanFrancisco_11042014_BoardofSupervisorsDistrict10.csv\n"
     ]
    },
    {
     "name": "stderr",
     "output_type": "stream",
     "text": [
      "/Users/es5891/Documents/GitHub/bugs-in-democracy/rcv_learning/rcv_dimensionality.py:170: RuntimeWarning: divide by zero encountered in divide\n",
      "  distance = 1 / np.sqrt(freq_upper_triangle)\n"
     ]
    },
    {
     "name": "stdout",
     "output_type": "stream",
     "text": [
      "../rcv_elections_database/single/Berkeley_11062012_CityCouncilDistrict2.csv\n"
     ]
    },
    {
     "name": "stderr",
     "output_type": "stream",
     "text": [
      "/Users/es5891/Documents/GitHub/bugs-in-democracy/rcv_learning/rcv_dimensionality.py:170: RuntimeWarning: divide by zero encountered in divide\n",
      "  distance = 1 / np.sqrt(freq_upper_triangle)\n"
     ]
    },
    {
     "name": "stdout",
     "output_type": "stream",
     "text": [
      "../rcv_elections_database/single/Minneapolis_11072017_Ward11CityCouncil.csv\n"
     ]
    },
    {
     "name": "stderr",
     "output_type": "stream",
     "text": [
      "/Users/es5891/Documents/GitHub/bugs-in-democracy/rcv_learning/rcv_dimensionality.py:170: RuntimeWarning: divide by zero encountered in divide\n",
      "  distance = 1 / np.sqrt(freq_upper_triangle)\n"
     ]
    },
    {
     "name": "stdout",
     "output_type": "stream",
     "text": [
      "../rcv_elections_database/single/TakomaPark_11082022_CityCouncilWard6.csv\n"
     ]
    },
    {
     "name": "stderr",
     "output_type": "stream",
     "text": [
      "/Users/es5891/Documents/GitHub/bugs-in-democracy/rcv_learning/rcv_dimensionality.py:159: RuntimeWarning: divide by zero encountered in divide\n",
      "  frequencies = counts / mentioned_together\n",
      "/Users/es5891/Documents/GitHub/bugs-in-democracy/rcv_learning/rcv_dimensionality.py:159: RuntimeWarning: invalid value encountered in divide\n",
      "  frequencies = counts / mentioned_together\n",
      "/Users/es5891/Documents/GitHub/bugs-in-democracy/rcv_learning/rcv_dimensionality.py:170: RuntimeWarning: divide by zero encountered in divide\n",
      "  distance = 1 / np.sqrt(freq_upper_triangle)\n"
     ]
    },
    {
     "name": "stdout",
     "output_type": "stream",
     "text": [
      "../rcv_elections_database/single/Alaska_11082022_HouseDistrict28.csv\n"
     ]
    },
    {
     "name": "stderr",
     "output_type": "stream",
     "text": [
      "/Users/es5891/Documents/GitHub/bugs-in-democracy/rcv_learning/rcv_dimensionality.py:170: RuntimeWarning: divide by zero encountered in divide\n",
      "  distance = 1 / np.sqrt(freq_upper_triangle)\n"
     ]
    },
    {
     "name": "stdout",
     "output_type": "stream",
     "text": [
      "../rcv_elections_database/single/Alaska_11082022_HouseDistrict14.csv\n"
     ]
    },
    {
     "name": "stderr",
     "output_type": "stream",
     "text": [
      "/Users/es5891/Documents/GitHub/bugs-in-democracy/rcv_learning/rcv_dimensionality.py:170: RuntimeWarning: divide by zero encountered in divide\n",
      "  distance = 1 / np.sqrt(freq_upper_triangle)\n"
     ]
    },
    {
     "name": "stdout",
     "output_type": "stream",
     "text": [
      "../rcv_elections_database/single/SanFrancisco_11032020_BOARDOFSUPERVISORSDISTRICT3.csv\n"
     ]
    },
    {
     "name": "stderr",
     "output_type": "stream",
     "text": [
      "/Users/es5891/Documents/GitHub/bugs-in-democracy/rcv_learning/rcv_dimensionality.py:170: RuntimeWarning: divide by zero encountered in divide\n",
      "  distance = 1 / np.sqrt(freq_upper_triangle)\n"
     ]
    },
    {
     "name": "stdout",
     "output_type": "stream",
     "text": [
      "../rcv_elections_database/single/NewYorkCity_06222021_DEMCouncilMember42ndCouncilDistrict.csv\n"
     ]
    },
    {
     "name": "stderr",
     "output_type": "stream",
     "text": [
      "/Users/es5891/Documents/GitHub/bugs-in-democracy/rcv_learning/rcv_dimensionality.py:131: DtypeWarning: Columns (1) have mixed types. Specify dtype option on import or set low_memory=False.\n",
      "  df = pd.read_csv(csv_file, low_memory=False)\n",
      "/Users/es5891/Documents/GitHub/bugs-in-democracy/rcv_learning/rcv_dimensionality.py:170: RuntimeWarning: divide by zero encountered in divide\n",
      "  distance = 1 / np.sqrt(freq_upper_triangle)\n"
     ]
    },
    {
     "name": "stdout",
     "output_type": "stream",
     "text": [
      "../rcv_elections_database/single/SanFrancisco_11042008_BoardofSupervisorsDistrict7.csv\n"
     ]
    },
    {
     "name": "stderr",
     "output_type": "stream",
     "text": [
      "/Users/es5891/Documents/GitHub/bugs-in-democracy/rcv_learning/rcv_dimensionality.py:170: RuntimeWarning: divide by zero encountered in divide\n",
      "  distance = 1 / np.sqrt(freq_upper_triangle)\n"
     ]
    },
    {
     "name": "stdout",
     "output_type": "stream",
     "text": [
      "../rcv_elections_database/single/Oakland_11042014_CityAuditor.csv\n"
     ]
    },
    {
     "name": "stderr",
     "output_type": "stream",
     "text": [
      "/Users/es5891/Documents/GitHub/bugs-in-democracy/rcv_learning/rcv_dimensionality.py:170: RuntimeWarning: divide by zero encountered in divide\n",
      "  distance = 1 / np.sqrt(freq_upper_triangle)\n"
     ]
    },
    {
     "name": "stdout",
     "output_type": "stream",
     "text": [
      "../rcv_elections_database/single/Berkeley_11082016_CityCouncilDistrict3.csv\n"
     ]
    },
    {
     "name": "stderr",
     "output_type": "stream",
     "text": [
      "/Users/es5891/Documents/GitHub/bugs-in-democracy/rcv_learning/rcv_dimensionality.py:170: RuntimeWarning: divide by zero encountered in divide\n",
      "  distance = 1 / np.sqrt(freq_upper_triangle)\n"
     ]
    },
    {
     "name": "stdout",
     "output_type": "stream",
     "text": [
      "../rcv_elections_database/single/Wyoming_04172020_PRESIDENTOFTHEUNITEDSTATES.csv\n"
     ]
    },
    {
     "name": "stderr",
     "output_type": "stream",
     "text": [
      "/Users/es5891/Documents/GitHub/bugs-in-democracy/rcv_learning/rcv_dimensionality.py:170: RuntimeWarning: divide by zero encountered in divide\n",
      "  distance = 1 / np.sqrt(freq_upper_triangle)\n"
     ]
    },
    {
     "name": "stdout",
     "output_type": "stream",
     "text": [
      "../rcv_elections_database/single/NewYorkCity_06222021_DEMCouncilMember45thCouncilDistrict.csv\n"
     ]
    },
    {
     "name": "stderr",
     "output_type": "stream",
     "text": [
      "/Users/es5891/Documents/GitHub/bugs-in-democracy/rcv_learning/rcv_dimensionality.py:131: DtypeWarning: Columns (1) have mixed types. Specify dtype option on import or set low_memory=False.\n",
      "  df = pd.read_csv(csv_file, low_memory=False)\n",
      "/Users/es5891/Documents/GitHub/bugs-in-democracy/rcv_learning/rcv_dimensionality.py:170: RuntimeWarning: divide by zero encountered in divide\n",
      "  distance = 1 / np.sqrt(freq_upper_triangle)\n"
     ]
    },
    {
     "name": "stdout",
     "output_type": "stream",
     "text": [
      "../rcv_elections_database/single/NewYorkCity_06222021_DEMCouncilMember16thCouncilDistrict.csv\n"
     ]
    },
    {
     "name": "stderr",
     "output_type": "stream",
     "text": [
      "/Users/es5891/Documents/GitHub/bugs-in-democracy/rcv_learning/rcv_dimensionality.py:170: RuntimeWarning: divide by zero encountered in divide\n",
      "  distance = 1 / np.sqrt(freq_upper_triangle)\n"
     ]
    },
    {
     "name": "stdout",
     "output_type": "stream",
     "text": [
      "../rcv_elections_database/single/Minneapolis_11072017_Ward10CityCouncil.csv\n"
     ]
    },
    {
     "name": "stderr",
     "output_type": "stream",
     "text": [
      "/Users/es5891/Documents/GitHub/bugs-in-democracy/rcv_learning/rcv_dimensionality.py:170: RuntimeWarning: divide by zero encountered in divide\n",
      "  distance = 1 / np.sqrt(freq_upper_triangle)\n"
     ]
    },
    {
     "name": "stdout",
     "output_type": "stream",
     "text": [
      "../rcv_elections_database/single/NewYorkCity_06222021_DEMCouncilMember8thCouncilDistrict.csv\n"
     ]
    },
    {
     "name": "stderr",
     "output_type": "stream",
     "text": [
      "/Users/es5891/Documents/GitHub/bugs-in-democracy/rcv_learning/rcv_dimensionality.py:131: DtypeWarning: Columns (1) have mixed types. Specify dtype option on import or set low_memory=False.\n",
      "  df = pd.read_csv(csv_file, low_memory=False)\n",
      "/Users/es5891/Documents/GitHub/bugs-in-democracy/rcv_learning/rcv_dimensionality.py:170: RuntimeWarning: divide by zero encountered in divide\n",
      "  distance = 1 / np.sqrt(freq_upper_triangle)\n"
     ]
    },
    {
     "name": "stdout",
     "output_type": "stream",
     "text": [
      "../rcv_elections_database/single/SanFrancisco_11042008_BoardofSupervisorsDistrict3.csv\n"
     ]
    },
    {
     "name": "stderr",
     "output_type": "stream",
     "text": [
      "/Users/es5891/Documents/GitHub/bugs-in-democracy/rcv_learning/rcv_dimensionality.py:170: RuntimeWarning: divide by zero encountered in divide\n",
      "  distance = 1 / np.sqrt(freq_upper_triangle)\n"
     ]
    },
    {
     "name": "stdout",
     "output_type": "stream",
     "text": [
      "../rcv_elections_database/single/Minneapolis_11022021_ParkBoardDistrict4.csv\n"
     ]
    },
    {
     "name": "stderr",
     "output_type": "stream",
     "text": [
      "/Users/es5891/Documents/GitHub/bugs-in-democracy/rcv_learning/rcv_dimensionality.py:170: RuntimeWarning: divide by zero encountered in divide\n",
      "  distance = 1 / np.sqrt(freq_upper_triangle)\n"
     ]
    },
    {
     "name": "stdout",
     "output_type": "stream",
     "text": [
      "../rcv_elections_database/single/Maine_07142020_DemocraticCandidateforMaineStateHouseDistrict49.csv\n"
     ]
    },
    {
     "name": "stderr",
     "output_type": "stream",
     "text": [
      "/Users/es5891/Documents/GitHub/bugs-in-democracy/rcv_learning/rcv_dimensionality.py:170: RuntimeWarning: divide by zero encountered in divide\n",
      "  distance = 1 / np.sqrt(freq_upper_triangle)\n"
     ]
    },
    {
     "name": "stdout",
     "output_type": "stream",
     "text": [
      "../rcv_elections_database/single/Berkeley_11042014_CityCouncilDistrict7.csv\n"
     ]
    },
    {
     "name": "stderr",
     "output_type": "stream",
     "text": [
      "/Users/es5891/Documents/GitHub/bugs-in-democracy/rcv_learning/rcv_dimensionality.py:170: RuntimeWarning: divide by zero encountered in divide\n",
      "  distance = 1 / np.sqrt(freq_upper_triangle)\n"
     ]
    },
    {
     "name": "stdout",
     "output_type": "stream",
     "text": [
      "../rcv_elections_database/single/Alaska_11082022_HouseDistrict38.csv\n",
      "Error in file: ../rcv_elections_database/single/Alaska_11082022_HouseDistrict38.csv\n",
      "../rcv_elections_database/single/TakomaPark_11082022_CityCouncilWard2.csv\n",
      "Error in file: ../rcv_elections_database/single/TakomaPark_11082022_CityCouncilWard2.csv\n",
      "../rcv_elections_database/single/SanFrancisco_11032020_BOARDOFSUPERVISORSDISTRICT7.csv\n"
     ]
    },
    {
     "name": "stderr",
     "output_type": "stream",
     "text": [
      "/Users/es5891/Documents/GitHub/bugs-in-democracy/rcv_learning/rcv_dimensionality.py:170: RuntimeWarning: divide by zero encountered in divide\n",
      "  distance = 1 / np.sqrt(freq_upper_triangle)\n"
     ]
    },
    {
     "name": "stdout",
     "output_type": "stream",
     "text": [
      "../rcv_elections_database/single/Alaska_11082022_HouseDistrict10.csv\n"
     ]
    },
    {
     "name": "stderr",
     "output_type": "stream",
     "text": [
      "/Users/es5891/Documents/GitHub/bugs-in-democracy/rcv_learning/rcv_dimensionality.py:170: RuntimeWarning: divide by zero encountered in divide\n",
      "  distance = 1 / np.sqrt(freq_upper_triangle)\n"
     ]
    },
    {
     "name": "stdout",
     "output_type": "stream",
     "text": [
      "../rcv_elections_database/single/Berkeley_11062012_CityCouncilDistrict6.csv\n"
     ]
    },
    {
     "name": "stderr",
     "output_type": "stream",
     "text": [
      "/Users/es5891/Documents/GitHub/bugs-in-democracy/rcv_learning/rcv_dimensionality.py:170: RuntimeWarning: divide by zero encountered in divide\n",
      "  distance = 1 / np.sqrt(freq_upper_triangle)\n"
     ]
    },
    {
     "name": "stdout",
     "output_type": "stream",
     "text": [
      "../rcv_elections_database/single/SanLeandro_11062018_CountyCouncilDistrict3.csv\n"
     ]
    },
    {
     "name": "stderr",
     "output_type": "stream",
     "text": [
      "/Users/es5891/Documents/GitHub/bugs-in-democracy/rcv_learning/rcv_dimensionality.py:170: RuntimeWarning: divide by zero encountered in divide\n",
      "  distance = 1 / np.sqrt(freq_upper_triangle)\n"
     ]
    },
    {
     "name": "stdout",
     "output_type": "stream",
     "text": [
      "../rcv_elections_database/single/Oakland_11032020_MemberCityCouncilDist3OaklandRCV.csv\n"
     ]
    },
    {
     "name": "stderr",
     "output_type": "stream",
     "text": [
      "/Users/es5891/Documents/GitHub/bugs-in-democracy/rcv_learning/rcv_dimensionality.py:170: RuntimeWarning: divide by zero encountered in divide\n",
      "  distance = 1 / np.sqrt(freq_upper_triangle)\n"
     ]
    },
    {
     "name": "stdout",
     "output_type": "stream",
     "text": [
      "../rcv_elections_database/single/SanLeandro_11022010_CountyCouncilDistrict3.csv\n",
      "Error in file: ../rcv_elections_database/single/SanLeandro_11022010_CountyCouncilDistrict3.csv\n",
      "../rcv_elections_database/single/Minneapolis_11062009_Ward2CityCouncil.csv\n"
     ]
    },
    {
     "name": "stderr",
     "output_type": "stream",
     "text": [
      "/Users/es5891/Documents/GitHub/bugs-in-democracy/rcv_learning/rcv_dimensionality.py:170: RuntimeWarning: divide by zero encountered in divide\n",
      "  distance = 1 / np.sqrt(freq_upper_triangle)\n"
     ]
    },
    {
     "name": "stdout",
     "output_type": "stream",
     "text": [
      "../rcv_elections_database/single/SanFrancisco_11082016_BoardofSupervisorsDistrict9.csv\n"
     ]
    },
    {
     "name": "stderr",
     "output_type": "stream",
     "text": [
      "/Users/es5891/Documents/GitHub/bugs-in-democracy/rcv_learning/rcv_dimensionality.py:170: RuntimeWarning: divide by zero encountered in divide\n",
      "  distance = 1 / np.sqrt(freq_upper_triangle)\n"
     ]
    },
    {
     "name": "stdout",
     "output_type": "stream",
     "text": [
      "../rcv_elections_database/single/NewYorkCity_06222021_DEMCouncilMember13thCouncilDistrict.csv\n"
     ]
    },
    {
     "name": "stderr",
     "output_type": "stream",
     "text": [
      "/Users/es5891/Documents/GitHub/bugs-in-democracy/rcv_learning/rcv_dimensionality.py:170: RuntimeWarning: divide by zero encountered in divide\n",
      "  distance = 1 / np.sqrt(freq_upper_triangle)\n"
     ]
    },
    {
     "name": "stdout",
     "output_type": "stream",
     "text": [
      "../rcv_elections_database/single/SanFrancisco_11022010_BoardofSupervisorsDistrict10.csv\n"
     ]
    },
    {
     "name": "stderr",
     "output_type": "stream",
     "text": [
      "/Users/es5891/Documents/GitHub/bugs-in-democracy/rcv_learning/rcv_dimensionality.py:170: RuntimeWarning: divide by zero encountered in divide\n",
      "  distance = 1 / np.sqrt(freq_upper_triangle)\n"
     ]
    },
    {
     "name": "stdout",
     "output_type": "stream",
     "text": [
      "../rcv_elections_database/single/Oakland_11022010_CityCouncilDistrict2.csv\n"
     ]
    },
    {
     "name": "stderr",
     "output_type": "stream",
     "text": [
      "/Users/es5891/Documents/GitHub/bugs-in-democracy/rcv_learning/rcv_dimensionality.py:170: RuntimeWarning: divide by zero encountered in divide\n",
      "  distance = 1 / np.sqrt(freq_upper_triangle)\n"
     ]
    },
    {
     "name": "stdout",
     "output_type": "stream",
     "text": [
      "../rcv_elections_database/single/Alaska_11082022_HouseDistrict11.csv\n"
     ]
    },
    {
     "name": "stderr",
     "output_type": "stream",
     "text": [
      "/Users/es5891/Documents/GitHub/bugs-in-democracy/rcv_learning/rcv_dimensionality.py:170: RuntimeWarning: divide by zero encountered in divide\n",
      "  distance = 1 / np.sqrt(freq_upper_triangle)\n"
     ]
    },
    {
     "name": "stdout",
     "output_type": "stream",
     "text": [
      "../rcv_elections_database/single/SanFrancisco_11032015_Sheriff.csv\n"
     ]
    },
    {
     "name": "stderr",
     "output_type": "stream",
     "text": [
      "/Users/es5891/Documents/GitHub/bugs-in-democracy/rcv_learning/rcv_dimensionality.py:170: RuntimeWarning: divide by zero encountered in divide\n",
      "  distance = 1 / np.sqrt(freq_upper_triangle)\n"
     ]
    },
    {
     "name": "stdout",
     "output_type": "stream",
     "text": [
      "../rcv_elections_database/single/Alaska_11082022_HouseDistrict39.csv\n"
     ]
    },
    {
     "name": "stderr",
     "output_type": "stream",
     "text": [
      "/Users/es5891/Documents/GitHub/bugs-in-democracy/rcv_learning/rcv_dimensionality.py:170: RuntimeWarning: divide by zero encountered in divide\n",
      "  distance = 1 / np.sqrt(freq_upper_triangle)\n"
     ]
    },
    {
     "name": "stdout",
     "output_type": "stream",
     "text": [
      "../rcv_elections_database/single/NewYorkCity_06222021_REPBoroughPresidentQueens.csv\n"
     ]
    },
    {
     "name": "stderr",
     "output_type": "stream",
     "text": [
      "/Users/es5891/Documents/GitHub/bugs-in-democracy/rcv_learning/rcv_dimensionality.py:131: DtypeWarning: Columns (1) have mixed types. Specify dtype option on import or set low_memory=False.\n",
      "  df = pd.read_csv(csv_file, low_memory=False)\n",
      "/Users/es5891/Documents/GitHub/bugs-in-democracy/rcv_learning/rcv_dimensionality.py:170: RuntimeWarning: divide by zero encountered in divide\n",
      "  distance = 1 / np.sqrt(freq_upper_triangle)\n"
     ]
    },
    {
     "name": "stdout",
     "output_type": "stream",
     "text": [
      "../rcv_elections_database/single/TakomaPark_11082022_CityCouncilWard3.csv\n"
     ]
    },
    {
     "name": "stderr",
     "output_type": "stream",
     "text": [
      "/Users/es5891/Documents/GitHub/bugs-in-democracy/rcv_learning/rcv_dimensionality.py:159: RuntimeWarning: divide by zero encountered in divide\n",
      "  frequencies = counts / mentioned_together\n",
      "/Users/es5891/Documents/GitHub/bugs-in-democracy/rcv_learning/rcv_dimensionality.py:159: RuntimeWarning: invalid value encountered in divide\n",
      "  frequencies = counts / mentioned_together\n",
      "/Users/es5891/Documents/GitHub/bugs-in-democracy/rcv_learning/rcv_dimensionality.py:170: RuntimeWarning: divide by zero encountered in divide\n",
      "  distance = 1 / np.sqrt(freq_upper_triangle)\n"
     ]
    },
    {
     "name": "stdout",
     "output_type": "stream",
     "text": [
      "../rcv_elections_database/single/Minneapolis_11022021_ParkBoardDistrict5.csv\n"
     ]
    },
    {
     "name": "stderr",
     "output_type": "stream",
     "text": [
      "/Users/es5891/Documents/GitHub/bugs-in-democracy/rcv_learning/rcv_dimensionality.py:170: RuntimeWarning: divide by zero encountered in divide\n",
      "  distance = 1 / np.sqrt(freq_upper_triangle)\n"
     ]
    },
    {
     "name": "stdout",
     "output_type": "stream",
     "text": [
      "../rcv_elections_database/single/Oakland_11032020_MemberCityCouncilDist7OaklandRCV.csv\n"
     ]
    },
    {
     "name": "stderr",
     "output_type": "stream",
     "text": [
      "/Users/es5891/Documents/GitHub/bugs-in-democracy/rcv_learning/rcv_dimensionality.py:170: RuntimeWarning: divide by zero encountered in divide\n",
      "  distance = 1 / np.sqrt(freq_upper_triangle)\n"
     ]
    },
    {
     "name": "stdout",
     "output_type": "stream",
     "text": [
      "../rcv_elections_database/single/Berkeley_11082016_CityCouncilDistrict6.csv\n"
     ]
    },
    {
     "name": "stderr",
     "output_type": "stream",
     "text": [
      "/Users/es5891/Documents/GitHub/bugs-in-democracy/rcv_learning/rcv_dimensionality.py:170: RuntimeWarning: divide by zero encountered in divide\n",
      "  distance = 1 / np.sqrt(freq_upper_triangle)\n"
     ]
    },
    {
     "name": "stdout",
     "output_type": "stream",
     "text": [
      "../rcv_elections_database/single/SanFrancisco_11082011_Sheriff.csv\n"
     ]
    },
    {
     "name": "stderr",
     "output_type": "stream",
     "text": [
      "/Users/es5891/Documents/GitHub/bugs-in-democracy/rcv_learning/rcv_dimensionality.py:170: RuntimeWarning: divide by zero encountered in divide\n",
      "  distance = 1 / np.sqrt(freq_upper_triangle)\n"
     ]
    },
    {
     "name": "stdout",
     "output_type": "stream",
     "text": [
      "../rcv_elections_database/single/SanFrancisco_06052018_BoardofSupervisorsDistrict8.csv\n"
     ]
    },
    {
     "name": "stderr",
     "output_type": "stream",
     "text": [
      "/Users/es5891/Documents/GitHub/bugs-in-democracy/rcv_learning/rcv_dimensionality.py:170: RuntimeWarning: divide by zero encountered in divide\n",
      "  distance = 1 / np.sqrt(freq_upper_triangle)\n"
     ]
    },
    {
     "name": "stdout",
     "output_type": "stream",
     "text": [
      "../rcv_elections_database/single/SanFrancisco_11082022_BoardofSupervisorsD2.csv\n",
      "Error in file: ../rcv_elections_database/single/SanFrancisco_11082022_BoardofSupervisorsD2.csv\n",
      "../rcv_elections_database/single/SanFrancisco_11022010_BoardofSupervisorsDistrict8.csv\n"
     ]
    },
    {
     "name": "stderr",
     "output_type": "stream",
     "text": [
      "/Users/es5891/Documents/GitHub/bugs-in-democracy/rcv_learning/rcv_dimensionality.py:170: RuntimeWarning: divide by zero encountered in divide\n",
      "  distance = 1 / np.sqrt(freq_upper_triangle)\n"
     ]
    },
    {
     "name": "stdout",
     "output_type": "stream",
     "text": [
      "../rcv_elections_database/single/SanLeandro_11022010_Mayor.csv\n"
     ]
    },
    {
     "name": "stderr",
     "output_type": "stream",
     "text": [
      "/Users/es5891/Documents/GitHub/bugs-in-democracy/rcv_learning/rcv_dimensionality.py:159: RuntimeWarning: divide by zero encountered in divide\n",
      "  frequencies = counts / mentioned_together\n",
      "/Users/es5891/Documents/GitHub/bugs-in-democracy/rcv_learning/rcv_dimensionality.py:170: RuntimeWarning: divide by zero encountered in divide\n",
      "  distance = 1 / np.sqrt(freq_upper_triangle)\n"
     ]
    },
    {
     "name": "stdout",
     "output_type": "stream",
     "text": [
      "../rcv_elections_database/single/NewYorkCity_06222021_DEMCouncilMember24thCouncilDistrict.csv\n"
     ]
    },
    {
     "name": "stderr",
     "output_type": "stream",
     "text": [
      "/Users/es5891/Documents/GitHub/bugs-in-democracy/rcv_learning/rcv_dimensionality.py:131: DtypeWarning: Columns (1) have mixed types. Specify dtype option on import or set low_memory=False.\n",
      "  df = pd.read_csv(csv_file, low_memory=False)\n",
      "/Users/es5891/Documents/GitHub/bugs-in-democracy/rcv_learning/rcv_dimensionality.py:170: RuntimeWarning: divide by zero encountered in divide\n",
      "  distance = 1 / np.sqrt(freq_upper_triangle)\n"
     ]
    },
    {
     "name": "stdout",
     "output_type": "stream",
     "text": [
      "../rcv_elections_database/single/SanFrancisco_11062018_BoardofSupervisorsDistrict2.csv\n"
     ]
    },
    {
     "name": "stderr",
     "output_type": "stream",
     "text": [
      "/Users/es5891/Documents/GitHub/bugs-in-democracy/rcv_learning/rcv_dimensionality.py:170: RuntimeWarning: divide by zero encountered in divide\n",
      "  distance = 1 / np.sqrt(freq_upper_triangle)\n"
     ]
    },
    {
     "name": "stdout",
     "output_type": "stream",
     "text": [
      "../rcv_elections_database/single/TakomaPark_11082022_CityCouncilWard1.csv\n"
     ]
    },
    {
     "name": "stderr",
     "output_type": "stream",
     "text": [
      "/Users/es5891/Documents/GitHub/bugs-in-democracy/rcv_learning/rcv_dimensionality.py:170: RuntimeWarning: divide by zero encountered in divide\n",
      "  distance = 1 / np.sqrt(freq_upper_triangle)\n"
     ]
    },
    {
     "name": "stdout",
     "output_type": "stream",
     "text": [
      "../rcv_elections_database/single/Alaska_11082022_HouseDistrict13.csv\n"
     ]
    },
    {
     "name": "stderr",
     "output_type": "stream",
     "text": [
      "/Users/es5891/Documents/GitHub/bugs-in-democracy/rcv_learning/rcv_dimensionality.py:170: RuntimeWarning: divide by zero encountered in divide\n",
      "  distance = 1 / np.sqrt(freq_upper_triangle)\n"
     ]
    },
    {
     "name": "stdout",
     "output_type": "stream",
     "text": [
      "../rcv_elections_database/single/Berkeley_11062012_CityCouncilDistrict5.csv\n"
     ]
    },
    {
     "name": "stderr",
     "output_type": "stream",
     "text": [
      "/Users/es5891/Documents/GitHub/bugs-in-democracy/rcv_learning/rcv_dimensionality.py:170: RuntimeWarning: divide by zero encountered in divide\n",
      "  distance = 1 / np.sqrt(freq_upper_triangle)\n"
     ]
    },
    {
     "name": "stdout",
     "output_type": "stream",
     "text": [
      "../rcv_elections_database/single/SanLeandro_11022010_CountyCouncilDistrict1.csv\n"
     ]
    },
    {
     "name": "stderr",
     "output_type": "stream",
     "text": [
      "/Users/es5891/Documents/GitHub/bugs-in-democracy/rcv_learning/rcv_dimensionality.py:170: RuntimeWarning: divide by zero encountered in divide\n",
      "  distance = 1 / np.sqrt(freq_upper_triangle)\n"
     ]
    },
    {
     "name": "stdout",
     "output_type": "stream",
     "text": [
      "../rcv_elections_database/single/SanLeandro_11062018_CountyCouncilDistrict1.csv\n"
     ]
    },
    {
     "name": "stderr",
     "output_type": "stream",
     "text": [
      "/Users/es5891/Documents/GitHub/bugs-in-democracy/rcv_learning/rcv_dimensionality.py:170: RuntimeWarning: divide by zero encountered in divide\n",
      "  distance = 1 / np.sqrt(freq_upper_triangle)\n"
     ]
    },
    {
     "name": "stdout",
     "output_type": "stream",
     "text": [
      "../rcv_elections_database/single/Minneapolis_11062009_Ward5CityCouncil.csv\n"
     ]
    },
    {
     "name": "stderr",
     "output_type": "stream",
     "text": [
      "/Users/es5891/Documents/GitHub/bugs-in-democracy/rcv_learning/rcv_dimensionality.py:170: RuntimeWarning: divide by zero encountered in divide\n",
      "  distance = 1 / np.sqrt(freq_upper_triangle)\n"
     ]
    },
    {
     "name": "stdout",
     "output_type": "stream",
     "text": [
      "../rcv_elections_database/single/Alaska_11082022_HouseDistrict12.csv\n"
     ]
    },
    {
     "name": "stderr",
     "output_type": "stream",
     "text": [
      "/Users/es5891/Documents/GitHub/bugs-in-democracy/rcv_learning/rcv_dimensionality.py:170: RuntimeWarning: divide by zero encountered in divide\n",
      "  distance = 1 / np.sqrt(freq_upper_triangle)\n"
     ]
    },
    {
     "name": "stdout",
     "output_type": "stream",
     "text": [
      "../rcv_elections_database/single/SanFrancisco_11032020_BOARDOFSUPERVISORSDISTRICT5.csv\n"
     ]
    },
    {
     "name": "stderr",
     "output_type": "stream",
     "text": [
      "/Users/es5891/Documents/GitHub/bugs-in-democracy/rcv_learning/rcv_dimensionality.py:170: RuntimeWarning: divide by zero encountered in divide\n",
      "  distance = 1 / np.sqrt(freq_upper_triangle)\n"
     ]
    },
    {
     "name": "stdout",
     "output_type": "stream",
     "text": [
      "../rcv_elections_database/single/Minneapolis_11022021_ParkBoardDistrict6.csv\n"
     ]
    },
    {
     "name": "stderr",
     "output_type": "stream",
     "text": [
      "/Users/es5891/Documents/GitHub/bugs-in-democracy/rcv_learning/rcv_dimensionality.py:170: RuntimeWarning: divide by zero encountered in divide\n",
      "  distance = 1 / np.sqrt(freq_upper_triangle)\n"
     ]
    },
    {
     "name": "stdout",
     "output_type": "stream",
     "text": [
      "../rcv_elections_database/single/Minnetonka_11022021_Mayor.csv\n"
     ]
    },
    {
     "name": "stderr",
     "output_type": "stream",
     "text": [
      "/Users/es5891/Documents/GitHub/bugs-in-democracy/rcv_learning/rcv_dimensionality.py:170: RuntimeWarning: divide by zero encountered in divide\n",
      "  distance = 1 / np.sqrt(freq_upper_triangle)\n"
     ]
    },
    {
     "name": "stdout",
     "output_type": "stream",
     "text": [
      "../rcv_elections_database/single/SanFrancisco_11042008_BoardofSupervisorsDistrict1.csv\n"
     ]
    },
    {
     "name": "stderr",
     "output_type": "stream",
     "text": [
      "/Users/es5891/Documents/GitHub/bugs-in-democracy/rcv_learning/rcv_dimensionality.py:170: RuntimeWarning: divide by zero encountered in divide\n",
      "  distance = 1 / np.sqrt(freq_upper_triangle)\n"
     ]
    },
    {
     "name": "stdout",
     "output_type": "stream",
     "text": [
      "../rcv_elections_database/single/NewYorkCity_06222021_DEMCouncilMember19thCouncilDistrict.csv\n"
     ]
    },
    {
     "name": "stderr",
     "output_type": "stream",
     "text": [
      "/Users/es5891/Documents/GitHub/bugs-in-democracy/rcv_learning/rcv_dimensionality.py:131: DtypeWarning: Columns (1) have mixed types. Specify dtype option on import or set low_memory=False.\n",
      "  df = pd.read_csv(csv_file, low_memory=False)\n",
      "/Users/es5891/Documents/GitHub/bugs-in-democracy/rcv_learning/rcv_dimensionality.py:170: RuntimeWarning: divide by zero encountered in divide\n",
      "  distance = 1 / np.sqrt(freq_upper_triangle)\n"
     ]
    },
    {
     "name": "stdout",
     "output_type": "stream",
     "text": [
      "../rcv_elections_database/single/Berkeley_11082016_CityCouncilDistrict5.csv\n"
     ]
    },
    {
     "name": "stderr",
     "output_type": "stream",
     "text": [
      "/Users/es5891/Documents/GitHub/bugs-in-democracy/rcv_learning/rcv_dimensionality.py:170: RuntimeWarning: divide by zero encountered in divide\n",
      "  distance = 1 / np.sqrt(freq_upper_triangle)\n"
     ]
    },
    {
     "name": "stdout",
     "output_type": "stream",
     "text": [
      "../rcv_elections_database/single/NewYorkCity_06222021_DEMCouncilMember7thCouncilDistrict.csv\n"
     ]
    },
    {
     "name": "stderr",
     "output_type": "stream",
     "text": [
      "/Users/es5891/Documents/GitHub/bugs-in-democracy/rcv_learning/rcv_dimensionality.py:170: RuntimeWarning: divide by zero encountered in divide\n",
      "  distance = 1 / np.sqrt(freq_upper_triangle)\n"
     ]
    },
    {
     "name": "stdout",
     "output_type": "stream",
     "text": [
      "../rcv_elections_database/single/Vineyard_11022021_Mayor.csv\n"
     ]
    },
    {
     "name": "stderr",
     "output_type": "stream",
     "text": [
      "/Users/es5891/Documents/GitHub/bugs-in-democracy/rcv_learning/rcv_dimensionality.py:170: RuntimeWarning: divide by zero encountered in divide\n",
      "  distance = 1 / np.sqrt(freq_upper_triangle)\n"
     ]
    },
    {
     "name": "stdout",
     "output_type": "stream",
     "text": [
      "../rcv_elections_database/single/Albany_11082022_BoardofEducation.csv\n"
     ]
    },
    {
     "name": "stderr",
     "output_type": "stream",
     "text": [
      "/Users/es5891/Documents/GitHub/bugs-in-democracy/rcv_learning/rcv_dimensionality.py:170: RuntimeWarning: divide by zero encountered in divide\n",
      "  distance = 1 / np.sqrt(freq_upper_triangle)\n"
     ]
    },
    {
     "name": "stdout",
     "output_type": "stream",
     "text": [
      "../rcv_elections_database/single/SanLeandro_11032020_MemberCityCouncilDist2SanLeandroRCV.csv\n"
     ]
    },
    {
     "name": "stderr",
     "output_type": "stream",
     "text": [
      "/Users/es5891/Documents/GitHub/bugs-in-democracy/rcv_learning/rcv_dimensionality.py:170: RuntimeWarning: divide by zero encountered in divide\n",
      "  distance = 1 / np.sqrt(freq_upper_triangle)\n"
     ]
    }
   ],
   "source": [
    "import numpy as np\n",
    "from scipy.stats import kurtosis, skew\n",
    "import glob\n",
    "import csv\n",
    "\n",
    "# Open the output CSV file\n",
    "with open('bimodality_results.csv', 'w', newline='') as csvfile:\n",
    "    writer = csv.writer(csvfile)\n",
    "    \n",
    "    # Write the header\n",
    "    writer.writerow(['filename', 'bimodality'])\n",
    "    \n",
    "    # Search for CSV files in the directory and its subdirectories\n",
    "    csv_files = glob.glob(\"../rcv_elections_database/**/*.csv\", recursive=True)\n",
    "\n",
    "    # Iterate over the CSV files\n",
    "    for idx, file_path in enumerate(csv_files):\n",
    "\n",
    "        # Print the filename\n",
    "        print(file_path)\n",
    "\n",
    "        try:\n",
    "            # Get the consistency points for the election\n",
    "            points = get_consistency_points(file_path)\n",
    "            \n",
    "            # Create a list of data points\n",
    "            data_points = []\n",
    "            for key, value in points.items():\n",
    "                data_points.extend([key] * value)\n",
    "\n",
    "            # Convert to numpy array\n",
    "            data_points = np.array(data_points)\n",
    "\n",
    "            # Calculate skewness and kurtosis\n",
    "            g = skew(data_points)\n",
    "            k = kurtosis(data_points)\n",
    "\n",
    "            # Calculate bimodality coefficient\n",
    "            n = len(data_points)\n",
    "            bimodality = 0.0\n",
    "            try:\n",
    "                bimodality = (g**2 + 1) / (k + 3 * (n-1)**2 / ((n-2) * (n-3)))\n",
    "            except:\n",
    "                pass\n",
    "\n",
    "            # Write the filename and bimodality coefficient to the CSV\n",
    "            writer.writerow([file_path, bimodality])\n",
    "\n",
    "            # Flush the output after every 10 runs\n",
    "            if idx % 10 == 9:\n",
    "                csvfile.flush()\n",
    "        except:\n",
    "            print(\"Error in file: {}\".format(file_path))"
   ]
  },
  {
   "cell_type": "code",
   "execution_count": 3,
   "metadata": {},
   "outputs": [
    {
     "data": {
      "text/plain": [
       "0.9173969066559533"
      ]
     },
     "execution_count": 3,
     "metadata": {},
     "output_type": "execute_result"
    }
   ],
   "source": [
    "import numpy as np\n",
    "from scipy.stats import kurtosis, skew\n",
    "\n",
    "# Get the consistency points for the election\n",
    "points = get_consistency_points(\"../rcv_elections_database/classic/Maine_11062018_CongressionalDistrict2.csv\")\n",
    "\n",
    "# Create a list of data points\n",
    "data_points = []\n",
    "for key, value in points.items():\n",
    "    data_points.extend([key] * value)\n",
    "\n",
    "# Convert to numpy array\n",
    "data_points = np.array(data_points)\n",
    "\n",
    "# Calculate skewness and kurtosis\n",
    "g = skew(data_points)\n",
    "k = kurtosis(data_points)\n",
    "\n",
    "# Calculate bimodality coefficient\n",
    "n = len(data_points)\n",
    "BC = (g**2 + 1) / (k + 3 * (n-1)**2 / ((n-2) * (n-3)))\n",
    "\n",
    "BC"
   ]
  },
  {
   "cell_type": "code",
   "execution_count": 2,
   "metadata": {},
   "outputs": [
    {
     "name": "stderr",
     "output_type": "stream",
     "text": [
      "/Users/es5891/Documents/GitHub/bugs-in-democracy/rcv_learning/rcv_dimensionality.py:170: RuntimeWarning: divide by zero encountered in divide\n",
      "  distance = 1 / np.sqrt(freq_upper_triangle)\n"
     ]
    },
    {
     "data": {
      "text/plain": [
       "{0.0: 89669,\n",
       " 0.47423947404876676: 11600,\n",
       " 1.4136378554535023: 579,\n",
       " 3.0: 51673,\n",
       " 2.192155473835831: 948,\n",
       " 0.3167198370337414: 2801,\n",
       " 0.41511902958066277: 2748,\n",
       " 0.75: 3337,\n",
       " 0.5333599185168707: 398,\n",
       " 2.0540728885103365: 4401,\n",
       " 0.5135182221275841: 2767,\n",
       " 0.6317591110637921: 652,\n",
       " 1.5027386629065809: 1087,\n",
       " 1.2668793481349656: 2180,\n",
       " 2.2905546663827523: 1131,\n",
       " 1.7001595111012242: 291,\n",
       " 2.03379555531896: 181,\n",
       " 1.5819186221650163: 290,\n",
       " 1.3053178147119375: 179,\n",
       " 1.5417995925843535: 68,\n",
       " 1.4636777332288085: 528}"
      ]
     },
     "execution_count": 2,
     "metadata": {},
     "output_type": "execute_result"
    }
   ],
   "source": [
    "# Get the consistency points for the election\n",
    "points = get_consistency_points(\"../rcv_elections_database/classic/Maine_11062018_CongressionalDistrict2.csv\")\n",
    "\n",
    "points"
   ]
  },
  {
   "cell_type": "code",
   "execution_count": null,
   "metadata": {},
   "outputs": [],
   "source": [
    "# Get the consistency points for the election\n",
    "points = get_consistency_points(\"../rcv_elections_database/classic/Maine_11062018_CongressionalDistrict2.csv\")\n",
    "\n",
    "# Prepare data for histogram\n",
    "data_list = [x for x, count in points.items() for _ in range(count)]\n",
    "\n",
    "# Plot histogram\n",
    "plt.figure(figsize=(5, 3))\n",
    "plt.hist(data_list, bins=50, density=True, alpha=0.7)\n",
    "plt.title('Histogram of Data')\n",
    "plt.xlabel('Value')\n",
    "plt.ylabel('Density')\n",
    "plt.grid(True)\n",
    "plt.show()\n",
    "\n",
    "# Plot kernal density estimation\n",
    "plt.figure(figsize=(5, 3))\n",
    "sns.kdeplot(data_list, fill=True)\n",
    "plt.title('Kernel Density Estimation of Data')\n",
    "plt.xlabel('Value')\n",
    "plt.ylabel('Density')\n",
    "plt.grid(True)\n",
    "plt.show()"
   ]
  },
  {
   "cell_type": "code",
   "execution_count": null,
   "metadata": {},
   "outputs": [],
   "source": [
    "# Get the consistency points for the election\n",
    "points = get_consistency_points(\"../rcv_elections_database/classic/Alaska_11082022_USRepresentative.csv\")\n",
    "\n",
    "# Prepare data for histogram\n",
    "data_list = [x for x, count in points.items() for _ in range(count)]\n",
    "\n",
    "# Plot histogram\n",
    "plt.figure(figsize=(5, 3))\n",
    "plt.hist(data_list, bins=50, density=True, alpha=0.7)\n",
    "plt.title('Histogram of Data')\n",
    "plt.xlabel('Value')\n",
    "plt.ylabel('Density')\n",
    "plt.grid(True)\n",
    "plt.show()\n",
    "\n",
    "# Plot kernal density estimation\n",
    "plt.figure(figsize=(5, 3))\n",
    "sns.kdeplot(data_list, fill=True)\n",
    "plt.title('Kernel Density Estimation of Data')\n",
    "plt.xlabel('Value')\n",
    "plt.ylabel('Density')\n",
    "plt.grid(True)\n",
    "plt.show()"
   ]
  },
  {
   "cell_type": "code",
   "execution_count": null,
   "metadata": {},
   "outputs": [],
   "source": [
    "# Get the consistency points for the election\n",
    "points = get_consistency_points(\"../rcv_elections_database/classic/Alaska_08162022_HouseofRepresentativesSpecial.csv\")\n",
    "\n",
    "# Prepare data for histogram\n",
    "data_list = [x for x, count in points.items() for _ in range(count)]\n",
    "\n",
    "# Plot histogram\n",
    "plt.figure(figsize=(5, 3))\n",
    "plt.hist(data_list, bins=50, density=True, alpha=0.7)\n",
    "plt.title('Histogram of Data')\n",
    "plt.xlabel('Value')\n",
    "plt.ylabel('Density')\n",
    "plt.grid(True)\n",
    "plt.show()\n",
    "\n",
    "# Plot kernal density estimation\n",
    "plt.figure(figsize=(5, 3))\n",
    "sns.kdeplot(data_list, fill=True)\n",
    "plt.title('Kernel Density Estimation of Data')\n",
    "plt.xlabel('Value')\n",
    "plt.ylabel('Density')\n",
    "plt.grid(True)\n",
    "plt.show()"
   ]
  },
  {
   "cell_type": "code",
   "execution_count": null,
   "metadata": {},
   "outputs": [],
   "source": [
    "# Get the consistency points for the election\n",
    "points = get_consistency_points(\"../rcv_elections_database/classic/Alaska_04102020_PRESIDENTOFTHEUNITEDSTATES.csv\")\n",
    "\n",
    "# Prepare data for histogram\n",
    "data_list = [x for x, count in points.items() for _ in range(count)]\n",
    "\n",
    "# Plot histogram\n",
    "plt.figure(figsize=(5, 3))\n",
    "plt.hist(data_list, bins=50, density=True, alpha=0.7)\n",
    "plt.title('Histogram of Data')\n",
    "plt.xlabel('Value')\n",
    "plt.ylabel('Density')\n",
    "plt.grid(True)\n",
    "plt.show()\n",
    "\n",
    "# Plot kernal density estimation\n",
    "plt.figure(figsize=(5, 3))\n",
    "sns.kdeplot(data_list, fill=True)\n",
    "plt.title('Kernel Density Estimation of Data')\n",
    "plt.xlabel('Value')\n",
    "plt.ylabel('Density')\n",
    "plt.grid(True)\n",
    "plt.show()"
   ]
  },
  {
   "cell_type": "code",
   "execution_count": null,
   "metadata": {},
   "outputs": [],
   "source": [
    "# Get the consistency points for the election\n",
    "points = get_consistency_points(\"../rcv_elections_database/classic/NewYorkCity_06222021_DEMMayorCitywide.csv\")\n",
    "\n",
    "# Prepare data for histogram\n",
    "data_list = [x for x, count in points.items() for _ in range(count)]\n",
    "\n",
    "# Plot histogram\n",
    "plt.figure(figsize=(5, 3))\n",
    "plt.hist(data_list, bins=50, density=True, alpha=0.7)\n",
    "plt.title('Histogram of Data')\n",
    "plt.xlabel('Value')\n",
    "plt.ylabel('Density')\n",
    "plt.grid(True)\n",
    "plt.show()\n",
    "\n",
    "# Plot kernal density estimation\n",
    "plt.figure(figsize=(5, 3))\n",
    "sns.kdeplot(data_list, fill=True)\n",
    "plt.title('Kernel Density Estimation of Data')\n",
    "plt.xlabel('Value')\n",
    "plt.ylabel('Density')\n",
    "plt.grid(True)\n",
    "plt.show()"
   ]
  }
 ],
 "metadata": {
  "kernelspec": {
   "display_name": "Python 3",
   "language": "python",
   "name": "python3"
  },
  "language_info": {
   "codemirror_mode": {
    "name": "ipython",
    "version": 3
   },
   "file_extension": ".py",
   "mimetype": "text/x-python",
   "name": "python",
   "nbconvert_exporter": "python",
   "pygments_lexer": "ipython3",
   "version": "3.10.0"
  },
  "orig_nbformat": 4
 },
 "nbformat": 4,
 "nbformat_minor": 2
}
