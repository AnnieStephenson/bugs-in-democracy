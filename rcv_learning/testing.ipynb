{
 "cells": [
  {
   "cell_type": "code",
   "execution_count": null,
   "metadata": {},
   "outputs": [],
   "source": [
    "# PSYCHOLOGICAL SCALING WITHOUT A UNIT OF MEASUREMENT"
   ]
  },
  {
   "cell_type": "code",
   "execution_count": null,
   "metadata": {},
   "outputs": [],
   "source": [
    "I_1 = [\"A\", \"B\", \"C\", \"D\"] # AB, AC, AD, BC, BD, CD\n",
    "I_2 = [\"B\", \"A\", \"C\", \"D\"] # BA, BC, BD, AC, AD, CD\n",
    "I_3 = [\"B\", \"C\", \"A\", \"D\"] # BC, BA, BD, CA, CD, AD\n",
    "I_4 = [\"C\", \"B\", \"A\", \"D\"] # CB, CA, CD, BA, BD, AD\n",
    "I_5 = [\"C\", \"B\", \"D\", \"A\"] # CB, CD, CA, BD, BA, DA\n",
    "I_6 = [\"C\", \"D\", \"B\", \"A\"] # CD, CB, CA, DB, DA, BA\n",
    "I_7 = [\"D\", \"C\", \"B\", \"A\"] # DC, DB, DA, CB, CA, BA"
   ]
  },
  {
   "cell_type": "code",
   "execution_count": null,
   "metadata": {},
   "outputs": [],
   "source": [
    "# PLOT I SCALES\n",
    "\n"
   ]
  }
 ],
 "metadata": {
  "language_info": {
   "name": "python"
  },
  "orig_nbformat": 4
 },
 "nbformat": 4,
 "nbformat_minor": 2
}
