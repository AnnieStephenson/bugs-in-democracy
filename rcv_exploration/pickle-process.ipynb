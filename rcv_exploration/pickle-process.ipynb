{
 "cells": [
  {
   "cell_type": "code",
   "execution_count": null,
   "metadata": {},
   "outputs": [],
   "source": [
    "# Mock data structure for picklings\n",
    "\n",
    "elections = []\n",
    "\n",
    "class Election:\n",
    "    record = \"some/path\"\n",
    "    codes = {\n",
    "        \"office\" : False,\n",
    "        \"type\" : True,\n",
    "        \"level\" : True,\n",
    "        \"state\": \"Data Structure\",\n",
    "        \"locality\": \"Data Structure\",\n",
    "        \"datetime\": \"Datatime\",\n",
    "        \"candidates\": 0,\n",
    "        \"choices\": 0,\n",
    "    }\n",
    "    measures = {\n",
    "        \"ashmans\" : 0,\n",
    "        \"hartigan\" : 0,\n",
    "        \"conistency\" : 0,\n",
    "    }\n",
    "    calculations = {\n",
    "        \"mds_ordering\" : 0,\n",
    "        \"candidate_names\" : 0,\n",
    "        \"round_winners\": {},\n",
    "    }"
   ]
  },
  {
   "cell_type": "code",
   "execution_count": null,
   "metadata": {},
   "outputs": [],
   "source": []
  }
 ],
 "metadata": {
  "language_info": {
   "name": "python"
  },
  "orig_nbformat": 4
 },
 "nbformat": 4,
 "nbformat_minor": 2
}
