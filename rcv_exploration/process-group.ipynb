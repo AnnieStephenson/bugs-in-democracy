{
 "cells": [
  {
   "cell_type": "code",
   "execution_count": 1,
   "metadata": {},
   "outputs": [],
   "source": [
    "import sys\n",
    "import os\n",
    "import io\n",
    "\n",
    "# Add the parent directory to the sys.path\n",
    "sys.path.append(os.path.join(os.getcwd(), '..'))"
   ]
  },
  {
   "cell_type": "code",
   "execution_count": 2,
   "metadata": {},
   "outputs": [
    {
     "name": "stderr",
     "output_type": "stream",
     "text": [
      "/var/folders/g2/25z774tn0599smwks8_v_k200000gp/T/ipykernel_88190/4019494009.py:10: DeprecationWarning: Please use `gaussian_kde` from the `scipy.stats` namespace, the `scipy.stats.kde` namespace is deprecated.\n",
      "  from scipy.stats.kde import gaussian_kde\n"
     ]
    }
   ],
   "source": [
    "import glob\n",
    "import csv\n",
    "\n",
    "import numpy as np\n",
    "import pandas as pd\n",
    "import seaborn as sns\n",
    "\n",
    "from scipy.stats import kurtosis, skew, rankdata\n",
    "from scipy.signal import argrelextrema\n",
    "from scipy.stats.kde import gaussian_kde\n",
    "\n",
    "from rcv_learning.rcv_distribution import *\n",
    "from rcv_learning.rcv_dimensionality import *"
   ]
  },
  {
   "cell_type": "code",
   "execution_count": 3,
   "metadata": {},
   "outputs": [],
   "source": [
    "def compute_ecdf(data):\n",
    "    \"\"\"Compute the empirical cumulative distribution function (ECDF) of data.\"\"\"\n",
    "    sorted_data = np.sort(data)\n",
    "    n = len(data)\n",
    "    return sorted_data, np.arange(1, n+1) / n\n",
    "\n",
    "def dip_statistic(data):\n",
    "    \"\"\"Compute Hartigan's dip statistic for data.\"\"\"\n",
    "    data = np.sort(data)\n",
    "    n = len(data)\n",
    "    \n",
    "    # Compute the empirical CDF\n",
    "    x, ecdf = compute_ecdf(data)\n",
    "    \n",
    "    # Compute the greatest difference on the left and right side for each data point\n",
    "    U = np.arange(1, n+1) / n\n",
    "    D = U - np.arange(0, n) / n\n",
    "    \n",
    "    # Calculate the difference between the empirical distribution function and the \n",
    "    # unimodal distribution function that minimizes that maximum difference.\n",
    "    low_dip = (ecdf - D).clip(min=0)\n",
    "    up_dip = (U - ecdf).clip(min=0)\n",
    "    both_dips = np.column_stack((low_dip, up_dip))\n",
    "    \n",
    "    # The dip statistic is the maximum difference over all data points\n",
    "    dip = np.max(both_dips)\n",
    "    \n",
    "    return dip"
   ]
  },
  {
   "cell_type": "code",
   "execution_count": 6,
   "metadata": {},
   "outputs": [
    {
     "name": "stdout",
     "output_type": "stream",
     "text": [
      "../rcv_elections_database/CandidateDetails.csv\n",
      "Error in file: ../rcv_elections_database/CandidateDetails.csv\n",
      "zero-size array to reduction operation minimum which has no identity\n",
      "../rcv_elections_database/SingleWinnerRCV.csv\n",
      "Error in file: ../rcv_elections_database/SingleWinnerRCV.csv\n",
      "zero-size array to reduction operation minimum which has no identity\n",
      "../rcv_elections_database/MatchedElections.csv\n",
      "Error in file: ../rcv_elections_database/MatchedElections.csv\n",
      "zero-size array to reduction operation minimum which has no identity\n",
      "../rcv_elections_database/SequentialRCV.csv\n",
      "Error in file: ../rcv_elections_database/SequentialRCV.csv\n",
      "zero-size array to reduction operation minimum which has no identity\n",
      "../rcv_elections_database/ProportionalRCV.csv\n",
      "Error in file: ../rcv_elections_database/ProportionalRCV.csv\n",
      "zero-size array to reduction operation minimum which has no identity\n",
      "../rcv_elections_database/proportional/Minneapolis_11072017_BoardofEstimateandTaxation.csv\n",
      "Skipping hist plot: ../rcv_elections_database/proportional/Minneapolis_11072017_BoardofEstimateandTaxation.csv\n",
      "../rcv_elections_database/proportional/Minneapolis_11072017_ParkBoardAtLarge.csv\n",
      "Skipping hist plot: ../rcv_elections_database/proportional/Minneapolis_11072017_ParkBoardAtLarge.csv\n",
      "../rcv_elections_database/proportional/Cambridge_11082011_CityCouncil.csv\n",
      "Skipping hist plot: ../rcv_elections_database/proportional/Cambridge_11082011_CityCouncil.csv\n",
      "../rcv_elections_database/proportional/Minneapolis_11022021_BoardofEstimateandTaxationAtLarge.csv\n",
      "Skipping hist plot: ../rcv_elections_database/proportional/Minneapolis_11022021_BoardofEstimateandTaxationAtLarge.csv\n",
      "../rcv_elections_database/proportional/Cambridge_11152019_CityCouncil.csv\n",
      "Skipping hist plot: ../rcv_elections_database/proportional/Cambridge_11152019_CityCouncil.csv\n",
      "../rcv_elections_database/proportional/Minneapolis_11062009_BoardofEstimateandTaxation.csv\n",
      "Skipping hist plot: ../rcv_elections_database/proportional/Minneapolis_11062009_BoardofEstimateandTaxation.csv\n",
      "../rcv_elections_database/proportional/Cambridge_11072017_CityCouncil.csv\n",
      "Skipping hist plot: ../rcv_elections_database/proportional/Cambridge_11072017_CityCouncil.csv\n",
      "../rcv_elections_database/proportional/Cambridge_11062001_CityCouncil.csv\n",
      "Skipping hist plot: ../rcv_elections_database/proportional/Cambridge_11062001_CityCouncil.csv\n",
      "../rcv_elections_database/proportional/Cambridge_11032009_CityCouncil.csv\n",
      "Skipping hist plot: ../rcv_elections_database/proportional/Cambridge_11032009_CityCouncil.csv\n",
      "../rcv_elections_database/proportional/Cambridge_11062007_SchoolCommittee.csv\n",
      "Skipping hist plot: ../rcv_elections_database/proportional/Cambridge_11062007_SchoolCommittee.csv\n",
      "../rcv_elections_database/proportional/Cambridge_11052013_SchoolCommittee.csv\n",
      "Skipping hist plot: ../rcv_elections_database/proportional/Cambridge_11052013_SchoolCommittee.csv\n",
      "../rcv_elections_database/proportional/Eastpointe_11022021_CityCouncil.csv\n",
      "Skipping hist plot: ../rcv_elections_database/proportional/Eastpointe_11022021_CityCouncil.csv\n",
      "../rcv_elections_database/proportional/Cambridge_11062007_CityCouncil.csv\n",
      "Skipping hist plot: ../rcv_elections_database/proportional/Cambridge_11062007_CityCouncil.csv\n",
      "../rcv_elections_database/proportional/Cambridge_11152019_SchoolCommittee.csv\n",
      "Skipping hist plot: ../rcv_elections_database/proportional/Cambridge_11152019_SchoolCommittee.csv\n",
      "../rcv_elections_database/proportional/Cambridge_11032015_SchoolCommittee.csv\n",
      "Skipping hist plot: ../rcv_elections_database/proportional/Cambridge_11032015_SchoolCommittee.csv\n",
      "../rcv_elections_database/proportional/Cambridge_11082011_SchoolCommittee.csv\n",
      "Skipping hist plot: ../rcv_elections_database/proportional/Cambridge_11082011_SchoolCommittee.csv\n",
      "../rcv_elections_database/proportional/Minneapolis_11052013_ParkRecBoardAtLarge.csv\n",
      "Skipping hist plot: ../rcv_elections_database/proportional/Minneapolis_11052013_ParkRecBoardAtLarge.csv\n",
      "../rcv_elections_database/proportional/Eastpointe_11052019_CityCouncil.csv\n",
      "Skipping hist plot: ../rcv_elections_database/proportional/Eastpointe_11052019_CityCouncil.csv\n",
      "../rcv_elections_database/proportional/Cambridge_11052013_CityCouncil.csv\n",
      "Skipping hist plot: ../rcv_elections_database/proportional/Cambridge_11052013_CityCouncil.csv\n",
      "../rcv_elections_database/proportional/Minneapolis_11062009_MinneapolisParkRecBoard.csv\n",
      "Skipping hist plot: ../rcv_elections_database/proportional/Minneapolis_11062009_MinneapolisParkRecBoard.csv\n",
      "../rcv_elections_database/proportional/Cambridge_11042003_SchoolCommittee.csv\n",
      "Skipping hist plot: ../rcv_elections_database/proportional/Cambridge_11042003_SchoolCommittee.csv\n",
      "../rcv_elections_database/proportional/Cambridge_11072017_SchoolCommittee.csv\n",
      "Skipping hist plot: ../rcv_elections_database/proportional/Cambridge_11072017_SchoolCommittee.csv\n",
      "../rcv_elections_database/proportional/Cambridge_11032015_CityCouncil.csv\n",
      "Skipping hist plot: ../rcv_elections_database/proportional/Cambridge_11032015_CityCouncil.csv\n",
      "../rcv_elections_database/proportional/Cambridge_11082005_CityCouncil.csv\n",
      "Skipping hist plot: ../rcv_elections_database/proportional/Cambridge_11082005_CityCouncil.csv\n",
      "../rcv_elections_database/proportional/Minneapolis 2013-board of estimation and taxation cvr.csv\n",
      "Skipping hist plot: ../rcv_elections_database/proportional/Minneapolis 2013-board of estimation and taxation cvr.csv\n",
      "../rcv_elections_database/proportional/Cambridge_11042003_CityCouncil.csv\n",
      "Skipping hist plot: ../rcv_elections_database/proportional/Cambridge_11042003_CityCouncil.csv\n",
      "../rcv_elections_database/proportional/Cambridge_11082005_SchoolCommittee.csv\n",
      "Skipping hist plot: ../rcv_elections_database/proportional/Cambridge_11082005_SchoolCommittee.csv\n",
      "../rcv_elections_database/classic/Albany_11082022_CityCouncil.csv\n",
      "Skipping hist plot: ../rcv_elections_database/classic/Albany_11082022_CityCouncil.csv\n",
      "../rcv_elections_database/classic/Alaska_08162022_HouseofRepresentativesSpecial.csv\n",
      "Skipping hist plot: ../rcv_elections_database/classic/Alaska_08162022_HouseofRepresentativesSpecial.csv\n",
      "../rcv_elections_database/classic/Portland_06142022_SchoolboardAL-1.csv\n",
      "Skipping hist plot: ../rcv_elections_database/classic/Portland_06142022_SchoolboardAL-1.csv\n",
      "../rcv_elections_database/classic/Maine_11062018_CongressionalDistrict2.csv\n",
      "Skipping hist plot: ../rcv_elections_database/classic/Maine_11062018_CongressionalDistrict2.csv\n",
      "../rcv_elections_database/classic/Portland_06082021_charter_commission_at_large.csv\n",
      "Skipping hist plot: ../rcv_elections_database/classic/Portland_06082021_charter_commission_at_large.csv\n",
      "../rcv_elections_database/classic/LasCruces_11052019_MAYORCITYOFLASCRUCES.csv\n",
      "Skipping hist plot: ../rcv_elections_database/classic/LasCruces_11052019_MAYORCITYOFLASCRUCES.csv\n",
      "../rcv_elections_database/classic/Minneapolis_11052013_Mayor.csv\n",
      "Skipping hist plot: ../rcv_elections_database/classic/Minneapolis_11052013_Mayor.csv\n",
      "../rcv_elections_database/classic/Alaska_11082022_USRepresentative.csv\n",
      "Skipping hist plot: ../rcv_elections_database/classic/Alaska_11082022_USRepresentative.csv\n",
      "../rcv_elections_database/classic/TakomaPark_11082022_Mayor.csv\n",
      "Skipping hist plot: ../rcv_elections_database/classic/TakomaPark_11082022_Mayor.csv\n",
      "../rcv_elections_database/classic/Easthampton_11022021_Mayor.csv\n",
      "Skipping hist plot: ../rcv_elections_database/classic/Easthampton_11022021_Mayor.csv\n",
      "../rcv_elections_database/classic/Vineyard_11052019_CityCouncil.csv\n",
      "Skipping hist plot: ../rcv_elections_database/classic/Vineyard_11052019_CityCouncil.csv\n",
      "../rcv_elections_database/classic/NewYorkCity_06222021_DEMBoroughPresidentNewYork.csv\n",
      "Skipping hist plot: ../rcv_elections_database/classic/NewYorkCity_06222021_DEMBoroughPresidentNewYork.csv\n",
      "../rcv_elections_database/classic/Alaska_04102020_PRESIDENTOFTHEUNITEDSTATES.csv\n",
      "Skipping hist plot: ../rcv_elections_database/classic/Alaska_04102020_PRESIDENTOFTHEUNITEDSTATES.csv\n",
      "../rcv_elections_database/classic/Payson_11052019_CityCouncil.csv\n",
      "Skipping hist plot: ../rcv_elections_database/classic/Payson_11052019_CityCouncil.csv\n",
      "../rcv_elections_database/classic/SanFrancisco_11032020_BOARDOFSUPERVISORSDISTRICT7.csv\n",
      "Skipping hist plot: ../rcv_elections_database/classic/SanFrancisco_11032020_BOARDOFSUPERVISORSDISTRICT7.csv\n",
      "../rcv_elections_database/classic/custom.csv\n"
     ]
    },
    {
     "name": "stderr",
     "output_type": "stream",
     "text": [
      "/Users/es5891/Documents/GitHub/bugs-in-democracy/rcv_exploration/../rcv_learning/rcv_dimensionality.py:177: RuntimeWarning: invalid value encountered in divide\n",
      "  frequencies = counts / mentioned_together\n",
      "/Users/es5891/Documents/GitHub/bugs-in-democracy/rcv_exploration/../rcv_learning/rcv_dimensionality.py:188: RuntimeWarning: divide by zero encountered in divide\n",
      "  distance = 1 / np.sqrt(freq_upper_triangle)\n"
     ]
    },
    {
     "name": "stdout",
     "output_type": "stream",
     "text": [
      "Normalized distances: {'D': 0.0, 'C': 0.9642454182431139, 'B': 2.1258304988909043, 'A': 3.0}\n"
     ]
    },
    {
     "name": "stderr",
     "output_type": "stream",
     "text": [
      "/Users/es5891/Documents/GitHub/bugs-in-democracy/rcv_exploration/../rcv_learning/rcv_dimensionality.py:188: RuntimeWarning: divide by zero encountered in divide\n",
      "  distance = 1 / np.sqrt(freq_upper_triangle)\n"
     ]
    },
    {
     "name": "stdout",
     "output_type": "stream",
     "text": [
      "Consistency points: {2.1389094004470097: 1, 1.2613456724844778: 1, 0.4408950834610708: 1}\n",
      "Error in file: ../rcv_elections_database/classic/custom.csv\n",
      "division by zero\n",
      "../rcv_elections_database/sequential/Vineyard_11052019_CityCouncil_tab2.csv\n",
      "Error in file: ../rcv_elections_database/sequential/Vineyard_11052019_CityCouncil_tab2.csv\n",
      "zero-size array to reduction operation minimum which has no identity\n",
      "../rcv_elections_database/sequential/Payson_11052019_CityCouncil_tab1.csv\n",
      "Error in file: ../rcv_elections_database/sequential/Payson_11052019_CityCouncil_tab1.csv\n",
      "zero-size array to reduction operation minimum which has no identity\n",
      "../rcv_elections_database/sequential/WoodlandHills_11022021_CityCouncil.csv\n",
      "Skipping hist plot: ../rcv_elections_database/sequential/WoodlandHills_11022021_CityCouncil.csv\n",
      "../rcv_elections_database/sequential/Vineyard_11052019_CityCouncil_tab1.csv\n",
      "Error in file: ../rcv_elections_database/sequential/Vineyard_11052019_CityCouncil_tab1.csv\n",
      "zero-size array to reduction operation minimum which has no identity\n",
      "../rcv_elections_database/sequential/Payson_11052019_CityCouncil_tab2.csv\n",
      "Error in file: ../rcv_elections_database/sequential/Payson_11052019_CityCouncil_tab2.csv\n",
      "zero-size array to reduction operation minimum which has no identity\n",
      "../rcv_elections_database/sequential/Payson_11052019_CityCouncil_tab3.csv\n",
      "Error in file: ../rcv_elections_database/sequential/Payson_11052019_CityCouncil_tab3.csv\n",
      "zero-size array to reduction operation minimum which has no identity\n",
      "../rcv_elections_database/sequential/Springville_11022021_CityCouncil4yr.csv\n",
      "Skipping hist plot: ../rcv_elections_database/sequential/Springville_11022021_CityCouncil4yr.csv\n",
      "../rcv_elections_database/sequential/Vineyard_11022021_CityCouncil.csv\n",
      "Skipping hist plot: ../rcv_elections_database/sequential/Vineyard_11022021_CityCouncil.csv\n",
      "../rcv_elections_database/sequential/Genola_11022021_CityCouncil.csv\n",
      "Skipping hist plot: ../rcv_elections_database/sequential/Genola_11022021_CityCouncil.csv\n",
      "../rcv_elections_database/sequential/Portland_06142022_Schoolboarddistrict5.csv\n",
      "Skipping hist plot: ../rcv_elections_database/sequential/Portland_06142022_Schoolboarddistrict5.csv\n",
      "../rcv_elections_database/sequential/Moab_11022021_CityCouncil.csv\n",
      "Skipping hist plot: ../rcv_elections_database/sequential/Moab_11022021_CityCouncil.csv\n",
      "../rcv_elections_database/sequential/Portland_06142022_SchoolboardAL.csv\n",
      "Skipping hist plot: ../rcv_elections_database/sequential/Portland_06142022_SchoolboardAL.csv\n",
      "../rcv_elections_database/sequential/Lehi_11022021_CityCouncil.csv\n",
      "Skipping hist plot: ../rcv_elections_database/sequential/Lehi_11022021_CityCouncil.csv\n",
      "../rcv_elections_database/single/SanFrancisco_11022010_BoardofSupervisorsDistrict6.csv\n",
      "Skipping hist plot: ../rcv_elections_database/single/SanFrancisco_11022010_BoardofSupervisorsDistrict6.csv\n",
      "../rcv_elections_database/single/Oakland_11042014_SchoolDirectorDistrict2.csv\n",
      "Skipping hist plot: ../rcv_elections_database/single/Oakland_11042014_SchoolDirectorDistrict2.csv\n",
      "../rcv_elections_database/single/Albany_11082022_CityCouncil.csv\n",
      "Skipping hist plot: ../rcv_elections_database/single/Albany_11082022_CityCouncil.csv\n",
      "../rcv_elections_database/single/Berkeley_11032020_MemberCityCouncilDist2BerkeleyRCV.csv\n",
      "Skipping hist plot: ../rcv_elections_database/single/Berkeley_11032020_MemberCityCouncilDist2BerkeleyRCV.csv\n",
      "../rcv_elections_database/single/Berkeley_11042014_CityAuditor.csv\n",
      "Error in file: ../rcv_elections_database/single/Berkeley_11042014_CityAuditor.csv\n",
      "zero-size array to reduction operation minimum which has no identity\n",
      "../rcv_elections_database/single/Alaska_11082022_HouseDistrict23.csv\n",
      "Skipping hist plot: ../rcv_elections_database/single/Alaska_11082022_HouseDistrict23.csv\n",
      "../rcv_elections_database/single/Berkeley_11042014_CityCouncilDistrict8.csv\n",
      "Skipping hist plot: ../rcv_elections_database/single/Berkeley_11042014_CityCouncilDistrict8.csv\n",
      "../rcv_elections_database/single/Alaska_11082022_HouseDistrict37.csv\n",
      "Error in file: ../rcv_elections_database/single/Alaska_11082022_HouseDistrict37.csv\n",
      "zero-size array to reduction operation minimum which has no identity\n",
      "../rcv_elections_database/single/Minneapolis_11072017_Ward6CityCouncil.csv\n",
      "Skipping hist plot: ../rcv_elections_database/single/Minneapolis_11072017_Ward6CityCouncil.csv\n",
      "../rcv_elections_database/single/Oakland_11082016_CouncilAtLrg.csv\n",
      "Skipping hist plot: ../rcv_elections_database/single/Oakland_11082016_CouncilAtLrg.csv\n",
      "../rcv_elections_database/single/SanFrancisco_11082016_BoardofSupervisorsDistrict7.csv\n",
      "Skipping hist plot: ../rcv_elections_database/single/SanFrancisco_11082016_BoardofSupervisorsDistrict7.csv\n",
      "../rcv_elections_database/single/Minneapolis_11072017_Mayor.csv\n",
      "Skipping hist plot: ../rcv_elections_database/single/Minneapolis_11072017_Mayor.csv\n",
      "../rcv_elections_database/single/Berkeley_11062018_CityCouncilDistrict1.csv\n",
      "Skipping hist plot: ../rcv_elections_database/single/Berkeley_11062018_CityCouncilDistrict1.csv\n",
      "../rcv_elections_database/single/NewYorkCity_06222021_REPCouncilMember23rdCouncilDistrict.csv\n",
      "Skipping hist plot: ../rcv_elections_database/single/NewYorkCity_06222021_REPCouncilMember23rdCouncilDistrict.csv\n",
      "../rcv_elections_database/single/Hawaii_05232020_PresidentoftheUnitedStateCD1.csv\n",
      "Skipping hist plot: ../rcv_elections_database/single/Hawaii_05232020_PresidentoftheUnitedStateCD1.csv\n",
      "../rcv_elections_database/single/Minneapolis_11062009_PRBoardDistrict6.csv\n",
      "Skipping hist plot: ../rcv_elections_database/single/Minneapolis_11062009_PRBoardDistrict6.csv\n",
      "../rcv_elections_database/single/SanFrancisco_06052018_Mayor.csv\n",
      "Skipping hist plot: ../rcv_elections_database/single/SanFrancisco_06052018_Mayor.csv\n",
      "../rcv_elections_database/single/Minneapolis_11062009_Ward10CityCouncil.csv\n",
      "Skipping hist plot: ../rcv_elections_database/single/Minneapolis_11062009_Ward10CityCouncil.csv\n",
      "../rcv_elections_database/single/Minneapolis_11052013_PRBoardDistrict2.csv\n",
      "Skipping hist plot: ../rcv_elections_database/single/Minneapolis_11052013_PRBoardDistrict2.csv\n",
      "../rcv_elections_database/single/LasCruces_11052019_COUNCILORPOSITION2CITYOFLASCRUCESDISTRICT2COUNCILOR.csv\n",
      "Skipping hist plot: ../rcv_elections_database/single/LasCruces_11052019_COUNCILORPOSITION2CITYOFLASCRUCESDISTRICT2COUNCILOR.csv\n",
      "../rcv_elections_database/single/Maine_07142020_DemocraticCandidateforMaineStateHouseDistrict90.csv\n",
      "Skipping hist plot: ../rcv_elections_database/single/Maine_07142020_DemocraticCandidateforMaineStateHouseDistrict90.csv\n",
      "../rcv_elections_database/single/NewYorkCity_06222021_DEMCouncilMember27thCouncilDistrict.csv\n",
      "Skipping hist plot: ../rcv_elections_database/single/NewYorkCity_06222021_DEMCouncilMember27thCouncilDistrict.csv\n",
      "../rcv_elections_database/single/SanFrancisco_11032020_BOARDOFSUPERVISORSDISTRICT9.csv\n"
     ]
    },
    {
     "name": "stderr",
     "output_type": "stream",
     "text": [
      "/Users/es5891/Documents/GitHub/bugs-in-democracy/rcv_exploration/../rcv_learning/rcv_dimensionality.py:188: RuntimeWarning: divide by zero encountered in divide\n",
      "  distance = 1 / np.sqrt(freq_upper_triangle)\n"
     ]
    },
    {
     "name": "stdout",
     "output_type": "stream",
     "text": [
      "Normalized distances: {'BUD RYERSON': 0.0, 'HILLARY RONEN': 1.0}\n"
     ]
    },
    {
     "name": "stderr",
     "output_type": "stream",
     "text": [
      "/Users/es5891/Documents/GitHub/bugs-in-democracy/rcv_exploration/../rcv_learning/rcv_dimensionality.py:188: RuntimeWarning: divide by zero encountered in divide\n",
      "  distance = 1 / np.sqrt(freq_upper_triangle)\n"
     ]
    },
    {
     "name": "stdout",
     "output_type": "stream",
     "text": [
      "Consistency points: {1.0: 29210, 0.0: 59, 0.25: 4}\n",
      "../rcv_elections_database/single/Oakland_11062012_CityAttorney.csv\n"
     ]
    },
    {
     "name": "stderr",
     "output_type": "stream",
     "text": [
      "/Users/es5891/Documents/GitHub/bugs-in-democracy/rcv_exploration/../rcv_learning/rcv_dimensionality.py:188: RuntimeWarning: divide by zero encountered in divide\n",
      "  distance = 1 / np.sqrt(freq_upper_triangle)\n"
     ]
    },
    {
     "name": "stdout",
     "output_type": "stream",
     "text": [
      "Normalized distances: {'JANE BRUNNER': 0.0, 'BARBARA PARKER': 1.0}\n"
     ]
    },
    {
     "name": "stderr",
     "output_type": "stream",
     "text": [
      "/Users/es5891/Documents/GitHub/bugs-in-democracy/rcv_exploration/../rcv_learning/rcv_dimensionality.py:188: RuntimeWarning: divide by zero encountered in divide\n",
      "  distance = 1 / np.sqrt(freq_upper_triangle)\n"
     ]
    },
    {
     "name": "stdout",
     "output_type": "stream",
     "text": [
      "Consistency points: {0.25: 22803, 1.0: 51876, 0.0: 17806}\n",
      "../rcv_elections_database/single/Alaska_11082022_HouseDistrict36.csv\n",
      "Skipping hist plot: ../rcv_elections_database/single/Alaska_11082022_HouseDistrict36.csv\n",
      "../rcv_elections_database/single/Alaska_11082022_HouseDistrict22.csv\n",
      "Skipping hist plot: ../rcv_elections_database/single/Alaska_11082022_HouseDistrict22.csv\n",
      "../rcv_elections_database/single/Berkeley_11082016_Mayor.csv\n",
      "Skipping hist plot: ../rcv_elections_database/single/Berkeley_11082016_Mayor.csv\n",
      "../rcv_elections_database/single/Maine_07142020_DemocraticCandidateforMaineStateHouseDistrict47.csv\n",
      "Skipping hist plot: ../rcv_elections_database/single/Maine_07142020_DemocraticCandidateforMaineStateHouseDistrict47.csv\n",
      "../rcv_elections_database/single/SantaFe_03062018_Mayor.csv\n",
      "Skipping hist plot: ../rcv_elections_database/single/SantaFe_03062018_Mayor.csv\n",
      "../rcv_elections_database/single/Maine_11082022_CongressionalDistrict2.csv\n",
      "Skipping hist plot: ../rcv_elections_database/single/Maine_11082022_CongressionalDistrict2.csv\n",
      "../rcv_elections_database/single/Springville_11022021_Mayor.csv\n",
      "Skipping hist plot: ../rcv_elections_database/single/Springville_11022021_Mayor.csv\n",
      "../rcv_elections_database/single/LasCruces_11052019_COUNCILORPOSITION4CITYOFLASCRUCESDISTRICT4COUNCILOR.csv\n",
      "Skipping hist plot: ../rcv_elections_database/single/LasCruces_11052019_COUNCILORPOSITION4CITYOFLASCRUCESDISTRICT4COUNCILOR.csv\n",
      "../rcv_elections_database/single/SanLeandro_11062018_Mayor.csv\n",
      "Skipping hist plot: ../rcv_elections_database/single/SanLeandro_11062018_Mayor.csv\n",
      "../rcv_elections_database/single/SantaFe_03062018_CityCouncilDistrict4.csv\n",
      "Skipping hist plot: ../rcv_elections_database/single/SantaFe_03062018_CityCouncilDistrict4.csv\n",
      "../rcv_elections_database/single/Corvallis_11082022_CityCouncilWard9.csv\n",
      "Skipping hist plot: ../rcv_elections_database/single/Corvallis_11082022_CityCouncilWard9.csv\n",
      "../rcv_elections_database/single/Oakland_11022010_SchoolDirectorDistrict6.csv\n",
      "Error in file: ../rcv_elections_database/single/Oakland_11022010_SchoolDirectorDistrict6.csv\n",
      "zero-size array to reduction operation minimum which has no identity\n",
      "../rcv_elections_database/single/Oakland_11022010_SchoolDirectorDistrict4.csv\n"
     ]
    },
    {
     "name": "stderr",
     "output_type": "stream",
     "text": [
      "/Users/es5891/Documents/GitHub/bugs-in-democracy/rcv_exploration/../rcv_learning/rcv_dimensionality.py:188: RuntimeWarning: divide by zero encountered in divide\n",
      "  distance = 1 / np.sqrt(freq_upper_triangle)\n"
     ]
    },
    {
     "name": "stdout",
     "output_type": "stream",
     "text": [
      "Normalized distances: {'GARY D. YEE': 0.0, 'BENJAMIN VISNICK': 1.0}\n"
     ]
    },
    {
     "name": "stderr",
     "output_type": "stream",
     "text": [
      "/Users/es5891/Documents/GitHub/bugs-in-democracy/rcv_exploration/../rcv_learning/rcv_dimensionality.py:188: RuntimeWarning: divide by zero encountered in divide\n",
      "  distance = 1 / np.sqrt(freq_upper_triangle)\n"
     ]
    },
    {
     "name": "stdout",
     "output_type": "stream",
     "text": [
      "Consistency points: {0.25: 6961, 1.0: 2308, 0.0: 6106}\n",
      "../rcv_elections_database/single/Berkeley_11032020_MemberCityCouncilDist5BerkeleyRCV.csv\n",
      "Skipping hist plot: ../rcv_elections_database/single/Berkeley_11032020_MemberCityCouncilDist5BerkeleyRCV.csv\n",
      "../rcv_elections_database/single/NewYorkCity_06222021_DEMCouncilMember33rdCouncilDistrict.csv\n",
      "Skipping hist plot: ../rcv_elections_database/single/NewYorkCity_06222021_DEMCouncilMember33rdCouncilDistrict.csv\n",
      "../rcv_elections_database/single/Alaska_08162022_HouseofRepresentativesSpecial.csv\n",
      "Skipping hist plot: ../rcv_elections_database/single/Alaska_08162022_HouseofRepresentativesSpecial.csv\n",
      "../rcv_elections_database/single/NewYorkCity_06222021_REPBoroughPresidentRichmond.csv\n",
      "Skipping hist plot: ../rcv_elections_database/single/NewYorkCity_06222021_REPBoroughPresidentRichmond.csv\n",
      "../rcv_elections_database/single/NewYorkCity_06222021_DEMCouncilMember10thCouncilDistrict.csv\n",
      "Skipping hist plot: ../rcv_elections_database/single/NewYorkCity_06222021_DEMCouncilMember10thCouncilDistrict.csv\n",
      "../rcv_elections_database/single/Alaska_11082022_HouseDistrict34.csv\n",
      "Skipping hist plot: ../rcv_elections_database/single/Alaska_11082022_HouseDistrict34.csv\n",
      "../rcv_elections_database/single/Alaska_11082022_HouseDistrict20.csv\n",
      "Skipping hist plot: ../rcv_elections_database/single/Alaska_11082022_HouseDistrict20.csv\n",
      "../rcv_elections_database/single/Kansas_05022020_PRESIDENTOFTHEUNITEDSTATES.csv\n",
      "Skipping hist plot: ../rcv_elections_database/single/Kansas_05022020_PRESIDENTOFTHEUNITEDSTATES.csv\n",
      "../rcv_elections_database/single/Hawaii_05232020_PresidentoftheUnitedStateCD2.csv\n",
      "Skipping hist plot: ../rcv_elections_database/single/Hawaii_05232020_PresidentoftheUnitedStateCD2.csv\n",
      "../rcv_elections_database/single/NewYorkCity_06222021_DEMCouncilMember28thCouncilDistrict.csv\n",
      "Skipping hist plot: ../rcv_elections_database/single/NewYorkCity_06222021_DEMCouncilMember28thCouncilDistrict.csv\n",
      "../rcv_elections_database/single/Minneapolis_11072017_Ward1CityCouncil.csv\n",
      "Skipping hist plot: ../rcv_elections_database/single/Minneapolis_11072017_Ward1CityCouncil.csv\n",
      "../rcv_elections_database/single/Minneapolis_11062009_PRBoardDistrict5.csv\n",
      "Skipping hist plot: ../rcv_elections_database/single/Minneapolis_11062009_PRBoardDistrict5.csv\n",
      "../rcv_elections_database/single/NewYorkCity_06222021_DEMCouncilMember15thCouncilDistrict.csv\n",
      "Skipping hist plot: ../rcv_elections_database/single/NewYorkCity_06222021_DEMCouncilMember15thCouncilDistrict.csv\n",
      "../rcv_elections_database/single/Minneapolis_11062009_PRBoardDistrict4.csv\n",
      "Error in file: ../rcv_elections_database/single/Minneapolis_11062009_PRBoardDistrict4.csv\n",
      "zero-size array to reduction operation minimum which has no identity\n",
      "../rcv_elections_database/single/Minneapolis_11072017_Ward9CityCouncil.csv\n",
      "Skipping hist plot: ../rcv_elections_database/single/Minneapolis_11072017_Ward9CityCouncil.csv\n",
      "../rcv_elections_database/single/SanFrancisco_11082016_BoardofSupervisorsDistrict5.csv\n"
     ]
    },
    {
     "name": "stderr",
     "output_type": "stream",
     "text": [
      "/Users/es5891/Documents/GitHub/bugs-in-democracy/rcv_exploration/../rcv_learning/rcv_dimensionality.py:188: RuntimeWarning: divide by zero encountered in divide\n",
      "  distance = 1 / np.sqrt(freq_upper_triangle)\n"
     ]
    },
    {
     "name": "stdout",
     "output_type": "stream",
     "text": [
      "Normalized distances: {'DEAN PRESTON': 0.0, 'LONDON BREED': 1.0}\n"
     ]
    },
    {
     "name": "stderr",
     "output_type": "stream",
     "text": [
      "/Users/es5891/Documents/GitHub/bugs-in-democracy/rcv_exploration/../rcv_learning/rcv_dimensionality.py:188: RuntimeWarning: divide by zero encountered in divide\n",
      "  distance = 1 / np.sqrt(freq_upper_triangle)\n"
     ]
    },
    {
     "name": "stdout",
     "output_type": "stream",
     "text": [
      "Consistency points: {0.25: 9228, 1.0: 11701, 0.0: 10388}\n",
      "../rcv_elections_database/single/Burlington_03072023_CityCouncilEastDistrict.csv\n"
     ]
    },
    {
     "name": "stderr",
     "output_type": "stream",
     "text": [
      "/Users/es5891/Documents/GitHub/bugs-in-democracy/rcv_exploration/../rcv_learning/rcv_dimensionality.py:188: RuntimeWarning: divide by zero encountered in divide\n",
      "  distance = 1 / np.sqrt(freq_upper_triangle)\n"
     ]
    },
    {
     "name": "stdout",
     "output_type": "stream",
     "text": [
      "Normalized distances: {'JAKE SCHUMANN': 0.0, 'TIMOTHY C. DOHERTY,JR': 1.0}\n"
     ]
    },
    {
     "name": "stderr",
     "output_type": "stream",
     "text": [
      "/Users/es5891/Documents/GitHub/bugs-in-democracy/rcv_exploration/../rcv_learning/rcv_dimensionality.py:188: RuntimeWarning: divide by zero encountered in divide\n",
      "  distance = 1 / np.sqrt(freq_upper_triangle)\n"
     ]
    },
    {
     "name": "stdout",
     "output_type": "stream",
     "text": [
      "Consistency points: {0.0: 215, 0.25: 429, 1.0: 441}\n",
      "../rcv_elections_database/single/SanFrancisco_11062018_BoardofSupervisorsDistrict10.csv\n",
      "Skipping hist plot: ../rcv_elections_database/single/SanFrancisco_11062018_BoardofSupervisorsDistrict10.csv\n",
      "../rcv_elections_database/single/Alaska_11082022_HouseDistrict21.csv\n",
      "Skipping hist plot: ../rcv_elections_database/single/Alaska_11082022_HouseDistrict21.csv\n",
      "../rcv_elections_database/single/Alaska_11082022_HouseDistrict35.csv\n",
      "Skipping hist plot: ../rcv_elections_database/single/Alaska_11082022_HouseDistrict35.csv\n",
      "../rcv_elections_database/single/Portland_06142022_SchoolboardAL-1.csv\n",
      "Skipping hist plot: ../rcv_elections_database/single/Portland_06142022_SchoolboardAL-1.csv\n",
      "../rcv_elections_database/single/Portland_06142022_Schoolboarddistrict5-1.csv\n",
      "Skipping hist plot: ../rcv_elections_database/single/Portland_06142022_Schoolboarddistrict5-1.csv\n",
      "../rcv_elections_database/single/NewYorkCity_06222021_DEMMayorCitywide.csv\n",
      "Skipping hist plot: ../rcv_elections_database/single/NewYorkCity_06222021_DEMMayorCitywide.csv\n",
      "../rcv_elections_database/single/Oakland_11042014_SchoolDirectorDistrict4.csv\n",
      "Skipping hist plot: ../rcv_elections_database/single/Oakland_11042014_SchoolDirectorDistrict4.csv\n",
      "../rcv_elections_database/single/SanFrancisco_11082005_AssessorRecorder.csv\n",
      "Skipping hist plot: ../rcv_elections_database/single/SanFrancisco_11082005_AssessorRecorder.csv\n",
      "../rcv_elections_database/single/SanFrancisco_11062018_BoardofSupervisorsDistrict8.csv\n"
     ]
    },
    {
     "name": "stderr",
     "output_type": "stream",
     "text": [
      "/Users/es5891/Documents/GitHub/bugs-in-democracy/rcv_exploration/../rcv_learning/rcv_dimensionality.py:188: RuntimeWarning: divide by zero encountered in divide\n",
      "  distance = 1 / np.sqrt(freq_upper_triangle)\n"
     ]
    },
    {
     "name": "stdout",
     "output_type": "stream",
     "text": [
      "Normalized distances: {'RAFAEL MANDELMAN': 0.0, \"LAWRENCE ''STARK'' DAGESSE\": 1.0}\n"
     ]
    },
    {
     "name": "stderr",
     "output_type": "stream",
     "text": [
      "/Users/es5891/Documents/GitHub/bugs-in-democracy/rcv_exploration/../rcv_learning/rcv_dimensionality.py:188: RuntimeWarning: divide by zero encountered in divide\n",
      "  distance = 1 / np.sqrt(freq_upper_triangle)\n"
     ]
    },
    {
     "name": "stdout",
     "output_type": "stream",
     "text": [
      "Consistency points: {1.0: 28572, 0.0: 1530, 0.25: 2070}\n",
      "../rcv_elections_database/single/Minneapolis_11072017_Ward8CityCouncil.csv\n",
      "Skipping hist plot: ../rcv_elections_database/single/Minneapolis_11072017_Ward8CityCouncil.csv\n",
      "../rcv_elections_database/single/Oakland_11082022_CityAuditor.csv\n",
      "Error in file: ../rcv_elections_database/single/Oakland_11082022_CityAuditor.csv\n",
      "zero-size array to reduction operation minimum which has no identity\n",
      "../rcv_elections_database/single/Alaska_11082022_HouseDistrict19.csv\n",
      "Skipping hist plot: ../rcv_elections_database/single/Alaska_11082022_HouseDistrict19.csv\n",
      "../rcv_elections_database/single/Maine_11062018_CongressionalDistrict2.csv\n",
      "Skipping hist plot: ../rcv_elections_database/single/Maine_11062018_CongressionalDistrict2.csv\n",
      "../rcv_elections_database/single/Alaska_11082022_HouseDistrict31.csv\n",
      "Skipping hist plot: ../rcv_elections_database/single/Alaska_11082022_HouseDistrict31.csv\n",
      "../rcv_elections_database/single/Alaska_11082022_HouseDistrict25.csv\n",
      "Skipping hist plot: ../rcv_elections_database/single/Alaska_11082022_HouseDistrict25.csv\n",
      "../rcv_elections_database/single/SanFrancisco_11082016_BoardofSupervisorsDistrict1.csv\n",
      "Skipping hist plot: ../rcv_elections_database/single/SanFrancisco_11082016_BoardofSupervisorsDistrict1.csv\n",
      "../rcv_elections_database/single/Berkeley_11062018_CityCouncilDistrict7.csv\n",
      "Skipping hist plot: ../rcv_elections_database/single/Berkeley_11062018_CityCouncilDistrict7.csv\n",
      "../rcv_elections_database/single/SanFrancisco_11052019_CityAttorney.csv\n",
      "Error in file: ../rcv_elections_database/single/SanFrancisco_11052019_CityAttorney.csv\n",
      "zero-size array to reduction operation minimum which has no identity\n",
      "../rcv_elections_database/single/Maine_06122018_DemocraticPrimaryforCD2.csv\n",
      "Skipping hist plot: ../rcv_elections_database/single/Maine_06122018_DemocraticPrimaryforCD2.csv\n",
      "../rcv_elections_database/single/Minneapolis_11022021_Mayor.csv\n",
      "Skipping hist plot: ../rcv_elections_database/single/Minneapolis_11022021_Mayor.csv\n",
      "../rcv_elections_database/single/NewYorkCity_06222021_DEMCouncilMember46thCouncilDistrict.csv\n",
      "Skipping hist plot: ../rcv_elections_database/single/NewYorkCity_06222021_DEMCouncilMember46thCouncilDistrict.csv\n",
      "../rcv_elections_database/single/Minneapolis_11062009_PRBoardDistrict1.csv\n",
      "Skipping hist plot: ../rcv_elections_database/single/Minneapolis_11062009_PRBoardDistrict1.csv\n",
      "../rcv_elections_database/single/Oakland_11022010_Mayor.csv\n",
      "Skipping hist plot: ../rcv_elections_database/single/Oakland_11022010_Mayor.csv\n",
      "../rcv_elections_database/single/Alaska_11082022_HouseDistrict24.csv\n",
      "Skipping hist plot: ../rcv_elections_database/single/Alaska_11082022_HouseDistrict24.csv\n",
      "../rcv_elections_database/single/Maine_07142020_DemocraticCandidateforMaineStateHouseDistrict41.csv\n",
      "Skipping hist plot: ../rcv_elections_database/single/Maine_07142020_DemocraticCandidateforMaineStateHouseDistrict41.csv\n",
      "../rcv_elections_database/single/Alaska_11082022_HouseDistrict30.csv\n",
      "Skipping hist plot: ../rcv_elections_database/single/Alaska_11082022_HouseDistrict30.csv\n",
      "../rcv_elections_database/single/Alaska_11082022_HouseDistrict18.csv\n",
      "Skipping hist plot: ../rcv_elections_database/single/Alaska_11082022_HouseDistrict18.csv\n",
      "../rcv_elections_database/single/NewYorkCity_06222021_DEMBoroughPresidentKings.csv\n",
      "Skipping hist plot: ../rcv_elections_database/single/NewYorkCity_06222021_DEMBoroughPresidentKings.csv\n",
      "../rcv_elections_database/single/Minneapolis_11022021_ParkBoardAtLarge.csv\n",
      "Skipping hist plot: ../rcv_elections_database/single/Minneapolis_11022021_ParkBoardAtLarge.csv\n",
      "../rcv_elections_database/single/SantaFe_03062018_CityCouncilDistrict2.csv\n",
      "Skipping hist plot: ../rcv_elections_database/single/SantaFe_03062018_CityCouncilDistrict2.csv\n",
      "../rcv_elections_database/single/NewYorkCity_06222021_DEMCouncilMember31stCouncilDistrict.csv\n",
      "Skipping hist plot: ../rcv_elections_database/single/NewYorkCity_06222021_DEMCouncilMember31stCouncilDistrict.csv\n",
      "../rcv_elections_database/single/Portland_06082021_charter_commission_at_large.csv\n",
      "Skipping hist plot: ../rcv_elections_database/single/Portland_06082021_charter_commission_at_large.csv\n",
      "../rcv_elections_database/single/Oakland_11022010_SchoolDirectorDistrict2.csv\n",
      "Error in file: ../rcv_elections_database/single/Oakland_11022010_SchoolDirectorDistrict2.csv\n",
      "zero-size array to reduction operation minimum which has no identity\n",
      "../rcv_elections_database/single/NewYorkCity_06222021_DEMCouncilMember35thCouncilDistrict.csv\n",
      "Skipping hist plot: ../rcv_elections_database/single/NewYorkCity_06222021_DEMCouncilMember35thCouncilDistrict.csv\n",
      "../rcv_elections_database/single/Oakland_11032020_MemberCityCouncilDist5OaklandRCV.csv\n",
      "Skipping hist plot: ../rcv_elections_database/single/Oakland_11032020_MemberCityCouncilDist5OaklandRCV.csv\n",
      "../rcv_elections_database/single/SanFrancisco_11052019_Mayor.csv\n",
      "Skipping hist plot: ../rcv_elections_database/single/SanFrancisco_11052019_Mayor.csv\n",
      "../rcv_elections_database/single/Minneapolis_11062009_Ward11CityCouncil.csv\n",
      "Skipping hist plot: ../rcv_elections_database/single/Minneapolis_11062009_Ward11CityCouncil.csv\n",
      "../rcv_elections_database/single/SanFrancisco_11042008_BoardofSupervisorsDistrict9.csv\n",
      "Skipping hist plot: ../rcv_elections_database/single/SanFrancisco_11042008_BoardofSupervisorsDistrict9.csv\n",
      "../rcv_elections_database/single/Oakland_11082022_Mayor.csv\n",
      "Skipping hist plot: ../rcv_elections_database/single/Oakland_11082022_Mayor.csv\n",
      "../rcv_elections_database/single/Maine_07142020_RepublicanCandidateforUSHouseofRepresentativesDistrict2.csv\n",
      "Skipping hist plot: ../rcv_elections_database/single/Maine_07142020_RepublicanCandidateforUSHouseofRepresentativesDistrict2.csv\n",
      "../rcv_elections_database/single/Alaska_11082022_HouseDistrict26.csv\n",
      "Skipping hist plot: ../rcv_elections_database/single/Alaska_11082022_HouseDistrict26.csv\n",
      "../rcv_elections_database/single/Alaska_11082022_HouseDistrict32.csv\n",
      "Skipping hist plot: ../rcv_elections_database/single/Alaska_11082022_HouseDistrict32.csv\n",
      "../rcv_elections_database/single/Berkeley_11062018_CityCouncilDistrict4.csv\n",
      "Skipping hist plot: ../rcv_elections_database/single/Berkeley_11062018_CityCouncilDistrict4.csv\n",
      "../rcv_elections_database/single/NewYorkCity_06222021_DEMCouncilMember32ndCouncilDistrict.csv\n",
      "Skipping hist plot: ../rcv_elections_database/single/NewYorkCity_06222021_DEMCouncilMember32ndCouncilDistrict.csv\n",
      "../rcv_elections_database/single/Minneapolis_11052013_PRBoardDistrict6.csv\n"
     ]
    },
    {
     "name": "stderr",
     "output_type": "stream",
     "text": [
      "/Users/es5891/Documents/GitHub/bugs-in-democracy/rcv_exploration/../rcv_learning/rcv_dimensionality.py:188: RuntimeWarning: divide by zero encountered in divide\n",
      "  distance = 1 / np.sqrt(freq_upper_triangle)\n"
     ]
    },
    {
     "name": "stdout",
     "output_type": "stream",
     "text": [
      "Normalized distances: {'BRAD BOURN': 0.0, 'JOSH NEIMAN': 1.0}\n"
     ]
    },
    {
     "name": "stderr",
     "output_type": "stream",
     "text": [
      "/Users/es5891/Documents/GitHub/bugs-in-democracy/rcv_exploration/../rcv_learning/rcv_dimensionality.py:188: RuntimeWarning: divide by zero encountered in divide\n",
      "  distance = 1 / np.sqrt(freq_upper_triangle)\n"
     ]
    },
    {
     "name": "stdout",
     "output_type": "stream",
     "text": [
      "Consistency points: {0.25: 3898, 0.0: 5019, 1.0: 2377}\n",
      "../rcv_elections_database/single/Minneapolis_11062009_PRBoardDistrict3.csv\n",
      "Skipping hist plot: ../rcv_elections_database/single/Minneapolis_11062009_PRBoardDistrict3.csv\n",
      "../rcv_elections_database/single/Berkeley_03072017_CityCouncilDistrict4.csv\n",
      "Skipping hist plot: ../rcv_elections_database/single/Berkeley_03072017_CityCouncilDistrict4.csv\n",
      "../rcv_elections_database/single/Minneapolis_11062009_PRBoardDistrict2.csv\n",
      "Skipping hist plot: ../rcv_elections_database/single/Minneapolis_11062009_PRBoardDistrict2.csv\n",
      "../rcv_elections_database/single/Berkeley_11032020_MemberCityCouncilDist3BerkeleyRCV.csv\n",
      "Skipping hist plot: ../rcv_elections_database/single/Berkeley_11032020_MemberCityCouncilDist3BerkeleyRCV.csv\n",
      "../rcv_elections_database/single/Oakland_11032020_MemberCityCouncilDist1OaklandRCV.csv\n",
      "Skipping hist plot: ../rcv_elections_database/single/Oakland_11032020_MemberCityCouncilDist1OaklandRCV.csv\n",
      "../rcv_elections_database/single/SanFrancisco_11082022_PublicDefender.csv\n"
     ]
    },
    {
     "name": "stderr",
     "output_type": "stream",
     "text": [
      "/Users/es5891/Documents/GitHub/bugs-in-democracy/rcv_exploration/../rcv_learning/rcv_dimensionality.py:188: RuntimeWarning: divide by zero encountered in divide\n",
      "  distance = 1 / np.sqrt(freq_upper_triangle)\n"
     ]
    },
    {
     "name": "stdout",
     "output_type": "stream",
     "text": [
      "Normalized distances: {'REBECCA SUSAN FENG YOUNG': 0.0, 'MANO RAJU': 1.0}\n"
     ]
    },
    {
     "name": "stderr",
     "output_type": "stream",
     "text": [
      "/Users/es5891/Documents/GitHub/bugs-in-democracy/rcv_exploration/../rcv_learning/rcv_dimensionality.py:188: RuntimeWarning: divide by zero encountered in divide\n",
      "  distance = 1 / np.sqrt(freq_upper_triangle)\n"
     ]
    },
    {
     "name": "stdout",
     "output_type": "stream",
     "text": [
      "Consistency points: {1.0: 110757, 0.25: 43831, 0.0: 28109}\n",
      "../rcv_elections_database/single/NewYorkCity_06222021_DEMCouncilMember30thCouncilDistrict.csv\n",
      "Skipping hist plot: ../rcv_elections_database/single/NewYorkCity_06222021_DEMCouncilMember30thCouncilDistrict.csv\n",
      "../rcv_elections_database/single/NewYorkCity_06222021_DEMCouncilMember49thCouncilDistrict.csv\n",
      "Skipping hist plot: ../rcv_elections_database/single/NewYorkCity_06222021_DEMCouncilMember49thCouncilDistrict.csv\n",
      "../rcv_elections_database/single/SanFrancisco_11082016_BoardofSupervisorsDistrict3.csv\n"
     ]
    },
    {
     "name": "stderr",
     "output_type": "stream",
     "text": [
      "/Users/es5891/Documents/GitHub/bugs-in-democracy/rcv_exploration/../rcv_learning/rcv_dimensionality.py:188: RuntimeWarning: divide by zero encountered in divide\n",
      "  distance = 1 / np.sqrt(freq_upper_triangle)\n"
     ]
    },
    {
     "name": "stdout",
     "output_type": "stream",
     "text": [
      "Normalized distances: {'TIM E. DONNELLY': 0.0, 'AARON PESKIN': 1.0}\n"
     ]
    },
    {
     "name": "stderr",
     "output_type": "stream",
     "text": [
      "/Users/es5891/Documents/GitHub/bugs-in-democracy/rcv_exploration/../rcv_learning/rcv_dimensionality.py:188: RuntimeWarning: divide by zero encountered in divide\n",
      "  distance = 1 / np.sqrt(freq_upper_triangle)\n"
     ]
    },
    {
     "name": "stdout",
     "output_type": "stream",
     "text": [
      "Consistency points: {1.0: 11752, 0.25: 3302, 0.0: 4146}\n",
      "../rcv_elections_database/single/Alaska_11082022_HouseDistrict33.csv\n",
      "Error in file: ../rcv_elections_database/single/Alaska_11082022_HouseDistrict33.csv\n",
      "zero-size array to reduction operation minimum which has no identity\n",
      "../rcv_elections_database/single/Alaska_11082022_HouseDistrict27.csv\n",
      "Skipping hist plot: ../rcv_elections_database/single/Alaska_11082022_HouseDistrict27.csv\n",
      "../rcv_elections_database/single/Burlington_03072006_Mayor.csv\n",
      "Skipping hist plot: ../rcv_elections_database/single/Burlington_03072006_Mayor.csv\n",
      "../rcv_elections_database/single/Minneapolis_11072017_Ward7CityCouncil.csv\n",
      "Skipping hist plot: ../rcv_elections_database/single/Minneapolis_11072017_Ward7CityCouncil.csv\n",
      "../rcv_elections_database/single/SanFrancisco_11052019_Treasurer.csv\n",
      "Error in file: ../rcv_elections_database/single/SanFrancisco_11052019_Treasurer.csv\n",
      "zero-size array to reduction operation minimum which has no identity\n",
      "../rcv_elections_database/single/SanFrancisco_11022010_BoardofSupervisorsDistrict2.csv\n",
      "Skipping hist plot: ../rcv_elections_database/single/SanFrancisco_11022010_BoardofSupervisorsDistrict2.csv\n",
      "../rcv_elections_database/single/Oakland_11042014_SchoolDirectorDistrict6.csv\n"
     ]
    },
    {
     "name": "stderr",
     "output_type": "stream",
     "text": [
      "/Users/es5891/Documents/GitHub/bugs-in-democracy/rcv_exploration/../rcv_learning/rcv_dimensionality.py:188: RuntimeWarning: divide by zero encountered in divide\n",
      "  distance = 1 / np.sqrt(freq_upper_triangle)\n"
     ]
    },
    {
     "name": "stdout",
     "output_type": "stream",
     "text": [
      "Normalized distances: {'RENATO ALMANZOR': 0.0, 'SHANTHI GONZALES': 1.0}\n"
     ]
    },
    {
     "name": "stderr",
     "output_type": "stream",
     "text": [
      "/Users/es5891/Documents/GitHub/bugs-in-democracy/rcv_exploration/../rcv_learning/rcv_dimensionality.py:188: RuntimeWarning: divide by zero encountered in divide\n",
      "  distance = 1 / np.sqrt(freq_upper_triangle)\n"
     ]
    },
    {
     "name": "stdout",
     "output_type": "stream",
     "text": [
      "Consistency points: {1.0: 3059, 0.25: 2340, 0.0: 1968}\n",
      "../rcv_elections_database/single/SanFrancisco_11082022_BoardofSupervisorsD8.csv\n"
     ]
    },
    {
     "name": "stderr",
     "output_type": "stream",
     "text": [
      "/Users/es5891/Documents/GitHub/bugs-in-democracy/rcv_exploration/../rcv_learning/rcv_dimensionality.py:188: RuntimeWarning: divide by zero encountered in divide\n",
      "  distance = 1 / np.sqrt(freq_upper_triangle)\n"
     ]
    },
    {
     "name": "stdout",
     "output_type": "stream",
     "text": [
      "Normalized distances: {'KATE STOIA': 0.0, 'RAFAEL MANDELMAN': 1.0}\n"
     ]
    },
    {
     "name": "stderr",
     "output_type": "stream",
     "text": [
      "/Users/es5891/Documents/GitHub/bugs-in-democracy/rcv_exploration/../rcv_learning/rcv_dimensionality.py:188: RuntimeWarning: divide by zero encountered in divide\n",
      "  distance = 1 / np.sqrt(freq_upper_triangle)\n"
     ]
    },
    {
     "name": "stdout",
     "output_type": "stream",
     "text": [
      "Consistency points: {1.0: 17576, 0.25: 4313, 0.0: 3662}\n",
      "../rcv_elections_database/single/NewYorkCity_06222021_DEMCouncilMember29thCouncilDistrict.csv\n",
      "Skipping hist plot: ../rcv_elections_database/single/NewYorkCity_06222021_DEMCouncilMember29thCouncilDistrict.csv\n",
      "../rcv_elections_database/single/Oakland_11082016_SchoolDirectorDistrict3.csv\n",
      "Skipping hist plot: ../rcv_elections_database/single/Oakland_11082016_SchoolDirectorDistrict3.csv\n",
      "../rcv_elections_database/single/Maine_07142020_DemocraticCandidateforMaineStateSenateDistrict11.csv\n",
      "Skipping hist plot: ../rcv_elections_database/single/Maine_07142020_DemocraticCandidateforMaineStateSenateDistrict11.csv\n",
      "../rcv_elections_database/single/Oakland_11032020_SchoolDirectorDist3OaklandRCV.csv\n",
      "Skipping hist plot: ../rcv_elections_database/single/Oakland_11032020_SchoolDirectorDist3OaklandRCV.csv\n",
      "../rcv_elections_database/single/LasCruces_11052019_MAYORCITYOFLASCRUCES.csv\n",
      "Skipping hist plot: ../rcv_elections_database/single/LasCruces_11052019_MAYORCITYOFLASCRUCES.csv\n",
      "../rcv_elections_database/single/Alaska_11082022_HouseDistrict40.csv\n",
      "Error in file: ../rcv_elections_database/single/Alaska_11082022_HouseDistrict40.csv\n",
      "zero-size array to reduction operation minimum which has no identity\n",
      "../rcv_elections_database/single/SanFrancisco_11052019_MemberBoardofSupervisorsDistrict5.csv\n",
      "Skipping hist plot: ../rcv_elections_database/single/SanFrancisco_11052019_MemberBoardofSupervisorsDistrict5.csv\n",
      "../rcv_elections_database/single/Minneapolis_11022021_CityCouncilWard4.csv\n",
      "Skipping hist plot: ../rcv_elections_database/single/Minneapolis_11022021_CityCouncilWard4.csv\n",
      "../rcv_elections_database/single/Minneapolis_11022021_CityCouncilWard11.csv\n",
      "Skipping hist plot: ../rcv_elections_database/single/Minneapolis_11022021_CityCouncilWard11.csv\n",
      "../rcv_elections_database/single/Minneapolis_11062009_Ward13CityCouncil.csv\n",
      "Skipping hist plot: ../rcv_elections_database/single/Minneapolis_11062009_Ward13CityCouncil.csv\n",
      "../rcv_elections_database/single/NewYorkCity_06222021_DEMCouncilMember11thCouncilDistrict.csv\n",
      "Skipping hist plot: ../rcv_elections_database/single/NewYorkCity_06222021_DEMCouncilMember11thCouncilDistrict.csv\n",
      "../rcv_elections_database/single/SanFrancisco_11062012_BoardofSupervisorsDistrict5.csv\n",
      "Skipping hist plot: ../rcv_elections_database/single/SanFrancisco_11062012_BoardofSupervisorsDistrict5.csv\n",
      "../rcv_elections_database/single/SanFrancisco_11052019_DistrictAttorney.csv\n",
      "Skipping hist plot: ../rcv_elections_database/single/SanFrancisco_11052019_DistrictAttorney.csv\n",
      "../rcv_elections_database/single/SanFrancisco_11052019_PublicDefender.csv\n",
      "Error in file: ../rcv_elections_database/single/SanFrancisco_11052019_PublicDefender.csv\n",
      "zero-size array to reduction operation minimum which has no identity\n",
      "../rcv_elections_database/single/SanFrancisco_11022004_BoardofSupervisorsDistrict2.csv\n",
      "Skipping hist plot: ../rcv_elections_database/single/SanFrancisco_11022004_BoardofSupervisorsDistrict2.csv\n",
      "../rcv_elections_database/single/Alaska_11082022_HouseDistrict1.csv\n",
      "Skipping hist plot: ../rcv_elections_database/single/Alaska_11082022_HouseDistrict1.csv\n",
      "../rcv_elections_database/single/PierceCounty_11042008_CountyExecutiveMember.csv\n",
      "Skipping hist plot: ../rcv_elections_database/single/PierceCounty_11042008_CountyExecutiveMember.csv\n",
      "../rcv_elections_database/single/Oakland_11032020_SchoolDirectorDist7OaklandRCV.csv\n",
      "Skipping hist plot: ../rcv_elections_database/single/Oakland_11032020_SchoolDirectorDist7OaklandRCV.csv\n",
      "../rcv_elections_database/single/Minneapolis_11072017_Ward5CityCouncil.csv\n",
      "Skipping hist plot: ../rcv_elections_database/single/Minneapolis_11072017_Ward5CityCouncil.csv\n",
      "../rcv_elections_database/single/SanFrancisco_11022004_BoardofSupervisorsDistrict3.csv\n",
      "Skipping hist plot: ../rcv_elections_database/single/SanFrancisco_11022004_BoardofSupervisorsDistrict3.csv\n",
      "../rcv_elections_database/single/Oakland_11062012_SchoolDirectorDistrict1.csv\n"
     ]
    },
    {
     "name": "stderr",
     "output_type": "stream",
     "text": [
      "/Users/es5891/Documents/GitHub/bugs-in-democracy/rcv_exploration/../rcv_learning/rcv_dimensionality.py:188: RuntimeWarning: divide by zero encountered in divide\n",
      "  distance = 1 / np.sqrt(freq_upper_triangle)\n"
     ]
    },
    {
     "name": "stdout",
     "output_type": "stream",
     "text": [
      "Normalized distances: {'JODY LONDON': 0.0, 'THEARSE PECOT': 1.0}\n"
     ]
    },
    {
     "name": "stderr",
     "output_type": "stream",
     "text": [
      "/Users/es5891/Documents/GitHub/bugs-in-democracy/rcv_exploration/../rcv_learning/rcv_dimensionality.py:188: RuntimeWarning: divide by zero encountered in divide\n",
      "  distance = 1 / np.sqrt(freq_upper_triangle)\n"
     ]
    },
    {
     "name": "stdout",
     "output_type": "stream",
     "text": [
      "Consistency points: {0.25: 8592, 0.0: 11269, 1.0: 3461}\n",
      "../rcv_elections_database/single/Oakland_11062018_SchoolDirectorDistrict6.csv\n"
     ]
    },
    {
     "name": "stderr",
     "output_type": "stream",
     "text": [
      "/Users/es5891/Documents/GitHub/bugs-in-democracy/rcv_exploration/../rcv_learning/rcv_dimensionality.py:188: RuntimeWarning: divide by zero encountered in divide\n",
      "  distance = 1 / np.sqrt(freq_upper_triangle)\n"
     ]
    },
    {
     "name": "stdout",
     "output_type": "stream",
     "text": [
      "Normalized distances: {'ANTHONY WILSON': 0.0, 'SHANTHI GONZALES': 1.0}\n"
     ]
    },
    {
     "name": "stderr",
     "output_type": "stream",
     "text": [
      "/Users/es5891/Documents/GitHub/bugs-in-democracy/rcv_exploration/../rcv_learning/rcv_dimensionality.py:188: RuntimeWarning: divide by zero encountered in divide\n",
      "  distance = 1 / np.sqrt(freq_upper_triangle)\n"
     ]
    },
    {
     "name": "stdout",
     "output_type": "stream",
     "text": [
      "Consistency points: {1.0: 13939, 0.25: 63, 0.0: 166}\n",
      "../rcv_elections_database/single/Minneapolis_11022021_CityCouncilWard10.csv\n",
      "Skipping hist plot: ../rcv_elections_database/single/Minneapolis_11022021_CityCouncilWard10.csv\n",
      "../rcv_elections_database/single/Minneapolis_11022021_CityCouncilWard5.csv\n",
      "Skipping hist plot: ../rcv_elections_database/single/Minneapolis_11022021_CityCouncilWard5.csv\n",
      "../rcv_elections_database/single/NewYorkCity_06222021_DEMCouncilMember1stCouncilDistrict.csv\n",
      "Skipping hist plot: ../rcv_elections_database/single/NewYorkCity_06222021_DEMCouncilMember1stCouncilDistrict.csv\n",
      "../rcv_elections_database/single/SanFrancisco_11072006_BoardofSupervisorsDistrict8.csv\n",
      "Skipping hist plot: ../rcv_elections_database/single/SanFrancisco_11072006_BoardofSupervisorsDistrict8.csv\n",
      "../rcv_elections_database/single/Alaska_11082022_SenateDistrictA.csv\n",
      "Skipping hist plot: ../rcv_elections_database/single/Alaska_11082022_SenateDistrictA.csv\n",
      "../rcv_elections_database/single/Oakland_11062018_CityCouncilDistrict2.csv\n",
      "Skipping hist plot: ../rcv_elections_database/single/Oakland_11062018_CityCouncilDistrict2.csv\n",
      "../rcv_elections_database/single/NewYorkCity_06222021_DEMCouncilMember14thCouncilDistrict.csv\n",
      "Skipping hist plot: ../rcv_elections_database/single/NewYorkCity_06222021_DEMCouncilMember14thCouncilDistrict.csv\n",
      "../rcv_elections_database/single/NewYorkCity_06222021_DEMCouncilMember5thCouncilDistrict.csv\n",
      "Skipping hist plot: ../rcv_elections_database/single/NewYorkCity_06222021_DEMCouncilMember5thCouncilDistrict.csv\n",
      "../rcv_elections_database/single/Alaska_11082022_SenateDistrictC.csv\n",
      "Skipping hist plot: ../rcv_elections_database/single/Alaska_11082022_SenateDistrictC.csv\n",
      "../rcv_elections_database/single/PierceCounty_11032009_CountyAuditor.csv\n",
      "Skipping hist plot: ../rcv_elections_database/single/PierceCounty_11032009_CountyAuditor.csv\n",
      "../rcv_elections_database/single/SanLeandro_11042014_CountyCouncilDistrict5.csv\n",
      "Skipping hist plot: ../rcv_elections_database/single/SanLeandro_11042014_CountyCouncilDistrict5.csv\n",
      "../rcv_elections_database/single/Minneapolis_11022021_CityCouncilWard12.csv\n",
      "Skipping hist plot: ../rcv_elections_database/single/Minneapolis_11022021_CityCouncilWard12.csv\n",
      "../rcv_elections_database/single/Minneapolis_11022021_CityCouncilWard7.csv\n",
      "Skipping hist plot: ../rcv_elections_database/single/Minneapolis_11022021_CityCouncilWard7.csv\n",
      "../rcv_elections_database/single/NewYorkCity_06222021_DEMCouncilMember2ndCouncilDistrict.csv\n"
     ]
    },
    {
     "name": "stderr",
     "output_type": "stream",
     "text": [
      "/Users/es5891/Documents/GitHub/bugs-in-democracy/rcv_exploration/../rcv_learning/rcv_dimensionality.py:188: RuntimeWarning: divide by zero encountered in divide\n",
      "  distance = 1 / np.sqrt(freq_upper_triangle)\n"
     ]
    },
    {
     "name": "stdout",
     "output_type": "stream",
     "text": [
      "Normalized distances: {'Carlina Rivera': 0.0, 'Erin Hussein': 1.0}\n"
     ]
    },
    {
     "name": "stderr",
     "output_type": "stream",
     "text": [
      "/Users/es5891/Documents/GitHub/bugs-in-democracy/rcv_exploration/../rcv_learning/rcv_dimensionality.py:188: RuntimeWarning: divide by zero encountered in divide\n",
      "  distance = 1 / np.sqrt(freq_upper_triangle)\n"
     ]
    },
    {
     "name": "stdout",
     "output_type": "stream",
     "text": [
      "Consistency points: {0.0: 3244, 0.25: 2489, 1.0: 10109}\n",
      "../rcv_elections_database/single/Oakland_11062018_SchoolDirectorDistrict4.csv\n"
     ]
    },
    {
     "name": "stderr",
     "output_type": "stream",
     "text": [
      "/Users/es5891/Documents/GitHub/bugs-in-democracy/rcv_exploration/../rcv_learning/rcv_dimensionality.py:188: RuntimeWarning: divide by zero encountered in divide\n",
      "  distance = 1 / np.sqrt(freq_upper_triangle)\n"
     ]
    },
    {
     "name": "stdout",
     "output_type": "stream",
     "text": [
      "Normalized distances: {'GARY D. YEE': 0.0, 'CLARISSA DOUTHERD': 1.0}\n"
     ]
    },
    {
     "name": "stderr",
     "output_type": "stream",
     "text": [
      "/Users/es5891/Documents/GitHub/bugs-in-democracy/rcv_exploration/../rcv_learning/rcv_dimensionality.py:188: RuntimeWarning: divide by zero encountered in divide\n",
      "  distance = 1 / np.sqrt(freq_upper_triangle)\n"
     ]
    },
    {
     "name": "stdout",
     "output_type": "stream",
     "text": [
      "Consistency points: {1.0: 8241, 0.0: 6249, 0.25: 3870}\n",
      "../rcv_elections_database/single/Oakland_11062012_SchoolDirectorDistrict3.csv\n",
      "Skipping hist plot: ../rcv_elections_database/single/Oakland_11062012_SchoolDirectorDistrict3.csv\n",
      "../rcv_elections_database/single/Alaska_11082022_HouseDistrict2.csv\n",
      "Skipping hist plot: ../rcv_elections_database/single/Alaska_11082022_HouseDistrict2.csv\n",
      "../rcv_elections_database/single/Alaska_11082022_HouseDistrict3.csv\n",
      "Error in file: ../rcv_elections_database/single/Alaska_11082022_HouseDistrict3.csv\n",
      "zero-size array to reduction operation minimum which has no identity\n",
      "../rcv_elections_database/single/SanLeandro_11032020_MemberCityCouncilDist4SanLeandroRCV.csv\n"
     ]
    },
    {
     "name": "stderr",
     "output_type": "stream",
     "text": [
      "/Users/es5891/Documents/GitHub/bugs-in-democracy/rcv_exploration/../rcv_learning/rcv_dimensionality.py:188: RuntimeWarning: divide by zero encountered in divide\n",
      "  distance = 1 / np.sqrt(freq_upper_triangle)\n"
     ]
    },
    {
     "name": "stdout",
     "output_type": "stream",
     "text": [
      "Normalized distances: {'CHRISTOPHER BAMMER': 0.0, 'FRED SIMON': 1.0}\n"
     ]
    },
    {
     "name": "stderr",
     "output_type": "stream",
     "text": [
      "/Users/es5891/Documents/GitHub/bugs-in-democracy/rcv_exploration/../rcv_learning/rcv_dimensionality.py:188: RuntimeWarning: divide by zero encountered in divide\n",
      "  distance = 1 / np.sqrt(freq_upper_triangle)\n"
     ]
    },
    {
     "name": "stdout",
     "output_type": "stream",
     "text": [
      "Consistency points: {0.0: 8701, 1.0: 3522, 0.25: 14307}\n",
      "../rcv_elections_database/single/SanFrancisco_11062012_BoardofSupervisorsDistrict7.csv\n",
      "Skipping hist plot: ../rcv_elections_database/single/SanFrancisco_11062012_BoardofSupervisorsDistrict7.csv\n",
      "../rcv_elections_database/single/Minneapolis_11022021_CityCouncilWard6.csv\n",
      "Skipping hist plot: ../rcv_elections_database/single/Minneapolis_11022021_CityCouncilWard6.csv\n",
      "../rcv_elections_database/single/Minneapolis_11072017_Ward2CityCouncil.csv\n",
      "Error in file: ../rcv_elections_database/single/Minneapolis_11072017_Ward2CityCouncil.csv\n",
      "zero-size array to reduction operation minimum which has no identity\n",
      "../rcv_elections_database/single/Minneapolis_11022021_CityCouncilWard13.csv\n",
      "Skipping hist plot: ../rcv_elections_database/single/Minneapolis_11022021_CityCouncilWard13.csv\n",
      "../rcv_elections_database/single/NewYorkCity_06222021_DEMCouncilMember26thCouncilDistrict.csv\n",
      "Skipping hist plot: ../rcv_elections_database/single/NewYorkCity_06222021_DEMCouncilMember26thCouncilDistrict.csv\n",
      "../rcv_elections_database/single/Berkeley_11032020_MemberCityCouncilDist6BerkeleyRCV.csv\n",
      "Skipping hist plot: ../rcv_elections_database/single/Berkeley_11032020_MemberCityCouncilDist6BerkeleyRCV.csv\n",
      "../rcv_elections_database/single/Hawaii_05232020_PresidentoftheUnitedStateCD1CD2.csv\n",
      "Skipping hist plot: ../rcv_elections_database/single/Hawaii_05232020_PresidentoftheUnitedStateCD1CD2.csv\n",
      "../rcv_elections_database/single/Alaska_11082022_SenateDistrictB.csv\n",
      "Error in file: ../rcv_elections_database/single/Alaska_11082022_SenateDistrictB.csv\n",
      "zero-size array to reduction operation minimum which has no identity\n",
      "../rcv_elections_database/single/Oakland_11082016_SchoolDirectorDistrict1.csv\n"
     ]
    },
    {
     "name": "stderr",
     "output_type": "stream",
     "text": [
      "/Users/es5891/Documents/GitHub/bugs-in-democracy/rcv_exploration/../rcv_learning/rcv_dimensionality.py:188: RuntimeWarning: divide by zero encountered in divide\n",
      "  distance = 1 / np.sqrt(freq_upper_triangle)\n"
     ]
    },
    {
     "name": "stdout",
     "output_type": "stream",
     "text": [
      "Normalized distances: {'DON MACLEAY': 0.0, 'JODY LONDON': 1.0}\n"
     ]
    },
    {
     "name": "stderr",
     "output_type": "stream",
     "text": [
      "/Users/es5891/Documents/GitHub/bugs-in-democracy/rcv_exploration/../rcv_learning/rcv_dimensionality.py:188: RuntimeWarning: divide by zero encountered in divide\n",
      "  distance = 1 / np.sqrt(freq_upper_triangle)\n"
     ]
    },
    {
     "name": "stdout",
     "output_type": "stream",
     "text": [
      "Consistency points: {0.0: 13945, 0.25: 7802, 1.0: 4510}\n",
      "../rcv_elections_database/single/Alaska_11082022_GovernorLieutenantGovernor.csv\n",
      "Skipping hist plot: ../rcv_elections_database/single/Alaska_11082022_GovernorLieutenantGovernor.csv\n",
      "../rcv_elections_database/single/SanFrancisco_11082016_BoardofSupervisorsDistrict11.csv\n",
      "Skipping hist plot: ../rcv_elections_database/single/SanFrancisco_11082016_BoardofSupervisorsDistrict11.csv\n",
      "../rcv_elections_database/single/Oakland_11042014_Mayor.csv\n",
      "Skipping hist plot: ../rcv_elections_database/single/Oakland_11042014_Mayor.csv\n",
      "../rcv_elections_database/single/Minneapolis_11072017_Ward3CityCouncil.csv\n",
      "Skipping hist plot: ../rcv_elections_database/single/Minneapolis_11072017_Ward3CityCouncil.csv\n",
      "../rcv_elections_database/single/Berkeley_11022010_CityCouncilDistrict8.csv\n",
      "Skipping hist plot: ../rcv_elections_database/single/Berkeley_11022010_CityCouncilDistrict8.csv\n",
      "../rcv_elections_database/single/Burlington_03072023_CityCouncilSouthDistrict.csv\n",
      "Skipping hist plot: ../rcv_elections_database/single/Burlington_03072023_CityCouncilSouthDistrict.csv\n",
      "../rcv_elections_database/single/Alaska_11082022_SenateDistrictQ.csv\n",
      "Skipping hist plot: ../rcv_elections_database/single/Alaska_11082022_SenateDistrictQ.csv\n",
      "../rcv_elections_database/single/Springville_11022021_CityCouncil2yr.csv\n",
      "Skipping hist plot: ../rcv_elections_database/single/Springville_11022021_CityCouncil2yr.csv\n",
      "../rcv_elections_database/single/Oakland_11082016_SchoolDirectorDistrict5.csv\n",
      "Skipping hist plot: ../rcv_elections_database/single/Oakland_11082016_SchoolDirectorDistrict5.csv\n",
      "../rcv_elections_database/single/Alaska_11082022_SenateDistrictF.csv\n",
      "Skipping hist plot: ../rcv_elections_database/single/Alaska_11082022_SenateDistrictF.csv\n",
      "../rcv_elections_database/single/WoodlandHills_11022021_Mayor.csv\n",
      "Skipping hist plot: ../rcv_elections_database/single/WoodlandHills_11022021_Mayor.csv\n",
      "../rcv_elections_database/single/Minneapolis_11022021_CityCouncilWard2.csv\n",
      "Skipping hist plot: ../rcv_elections_database/single/Minneapolis_11022021_CityCouncilWard2.csv\n",
      "../rcv_elections_database/single/Burlington_03072023_CityCouncilCentralDistrict.csv\n",
      "Skipping hist plot: ../rcv_elections_database/single/Burlington_03072023_CityCouncilCentralDistrict.csv\n",
      "../rcv_elections_database/single/NewYorkCity_06222021_DEMCouncilMember34thCouncilDistrict.csv\n",
      "Skipping hist plot: ../rcv_elections_database/single/NewYorkCity_06222021_DEMCouncilMember34thCouncilDistrict.csv\n",
      "../rcv_elections_database/single/Alaska_11082022_HouseDistrict7.csv\n",
      "Skipping hist plot: ../rcv_elections_database/single/Alaska_11082022_HouseDistrict7.csv\n",
      "../rcv_elections_database/single/Alaska_11082022_HouseDistrict6.csv\n",
      "Skipping hist plot: ../rcv_elections_database/single/Alaska_11082022_HouseDistrict6.csv\n",
      "../rcv_elections_database/single/Oakland_11062012_SchoolDirectorDistrict7.csv\n"
     ]
    },
    {
     "name": "stderr",
     "output_type": "stream",
     "text": [
      "/Users/es5891/Documents/GitHub/bugs-in-democracy/rcv_exploration/../rcv_learning/rcv_dimensionality.py:188: RuntimeWarning: divide by zero encountered in divide\n",
      "  distance = 1 / np.sqrt(freq_upper_triangle)\n"
     ]
    },
    {
     "name": "stdout",
     "output_type": "stream",
     "text": [
      "Normalized distances: {'JAMES HARRIS': 0.0, 'ALICE A. SPEARMAN': 1.0}\n"
     ]
    },
    {
     "name": "stderr",
     "output_type": "stream",
     "text": [
      "/Users/es5891/Documents/GitHub/bugs-in-democracy/rcv_exploration/../rcv_learning/rcv_dimensionality.py:188: RuntimeWarning: divide by zero encountered in divide\n",
      "  distance = 1 / np.sqrt(freq_upper_triangle)\n"
     ]
    },
    {
     "name": "stdout",
     "output_type": "stream",
     "text": [
      "Consistency points: {0.0: 2861, 1.0: 4038, 0.25: 3127}\n",
      "../rcv_elections_database/single/SanFrancisco_11022004_BoardofSupervisorsDistrict5.csv\n",
      "Skipping hist plot: ../rcv_elections_database/single/SanFrancisco_11022004_BoardofSupervisorsDistrict5.csv\n",
      "../rcv_elections_database/single/Minneapolis_11022021_CityCouncilWard3.csv\n",
      "Skipping hist plot: ../rcv_elections_database/single/Minneapolis_11022021_CityCouncilWard3.csv\n",
      "../rcv_elections_database/single/Minnetonka_11022021_CityCouncilAtLargeSeatA.csv\n",
      "Skipping hist plot: ../rcv_elections_database/single/Minnetonka_11022021_CityCouncilAtLargeSeatA.csv\n",
      "../rcv_elections_database/single/SanLeandro_11042014_CountyCouncilDistrict1.csv\n",
      "Skipping hist plot: ../rcv_elections_database/single/SanLeandro_11042014_CountyCouncilDistrict1.csv\n",
      "../rcv_elections_database/single/Oakland_11032020_CityAttorneyOaklandRCV.csv\n"
     ]
    },
    {
     "name": "stderr",
     "output_type": "stream",
     "text": [
      "/Users/es5891/Documents/GitHub/bugs-in-democracy/rcv_exploration/../rcv_learning/rcv_dimensionality.py:188: RuntimeWarning: divide by zero encountered in divide\n",
      "  distance = 1 / np.sqrt(freq_upper_triangle)\n"
     ]
    },
    {
     "name": "stdout",
     "output_type": "stream",
     "text": [
      "Normalized distances: {'ELI FERRAN': 0.0, 'BARBARA PARKER': 1.0}\n"
     ]
    },
    {
     "name": "stderr",
     "output_type": "stream",
     "text": [
      "/Users/es5891/Documents/GitHub/bugs-in-democracy/rcv_exploration/../rcv_learning/rcv_dimensionality.py:188: RuntimeWarning: divide by zero encountered in divide\n",
      "  distance = 1 / np.sqrt(freq_upper_triangle)\n"
     ]
    },
    {
     "name": "stdout",
     "output_type": "stream",
     "text": [
      "Consistency points: {0.25: 89627, 1.0: 12591, 0.0: 51607}\n",
      "../rcv_elections_database/single/Alaska_11082022_SenateDistrictG.csv\n",
      "Skipping hist plot: ../rcv_elections_database/single/Alaska_11082022_SenateDistrictG.csv\n",
      "../rcv_elections_database/single/Alaska_11082022_SenateDistrictP.csv\n",
      "Skipping hist plot: ../rcv_elections_database/single/Alaska_11082022_SenateDistrictP.csv\n",
      "../rcv_elections_database/single/NewYorkCity_06222021_DEMCouncilMember48thCouncilDistrict.csv\n",
      "Skipping hist plot: ../rcv_elections_database/single/NewYorkCity_06222021_DEMCouncilMember48thCouncilDistrict.csv\n",
      "../rcv_elections_database/single/Oakland_11062018_CityCouncilDistrict4.csv\n",
      "Skipping hist plot: ../rcv_elections_database/single/Oakland_11062018_CityCouncilDistrict4.csv\n",
      "../rcv_elections_database/single/SanFrancisco_11082005_Treasurer.csv\n",
      "Skipping hist plot: ../rcv_elections_database/single/SanFrancisco_11082005_Treasurer.csv\n",
      "../rcv_elections_database/single/Oakland_11062018_CityCouncilDistrict6.csv\n",
      "Skipping hist plot: ../rcv_elections_database/single/Oakland_11062018_CityCouncilDistrict6.csv\n",
      "../rcv_elections_database/single/NewYorkCity_06222021_DEMCouncilMember47thCouncilDistrict.csv\n",
      "Skipping hist plot: ../rcv_elections_database/single/NewYorkCity_06222021_DEMCouncilMember47thCouncilDistrict.csv\n",
      "../rcv_elections_database/single/Alaska_11082022_SenateDistrictR.csv\n",
      "Skipping hist plot: ../rcv_elections_database/single/Alaska_11082022_SenateDistrictR.csv\n",
      "../rcv_elections_database/single/NewYorkCity_06222021_DEMBoroughPresidentQueens.csv\n",
      "Skipping hist plot: ../rcv_elections_database/single/NewYorkCity_06222021_DEMBoroughPresidentQueens.csv\n",
      "../rcv_elections_database/single/Alaska_11082022_SenateDistrictE.csv\n",
      "Skipping hist plot: ../rcv_elections_database/single/Alaska_11082022_SenateDistrictE.csv\n",
      "../rcv_elections_database/single/NewYorkCity_06222021_DEMCouncilMember3rdCouncilDistrict.csv\n",
      "Skipping hist plot: ../rcv_elections_database/single/NewYorkCity_06222021_DEMCouncilMember3rdCouncilDistrict.csv\n",
      "../rcv_elections_database/single/Burlington_03072023_CityCouncilNorthDistrict.csv\n",
      "Error in file: ../rcv_elections_database/single/Burlington_03072023_CityCouncilNorthDistrict.csv\n",
      "zero-size array to reduction operation minimum which has no identity\n",
      "../rcv_elections_database/single/SanLeandro_11042014_CountyCouncilDistrict3.csv\n",
      "Skipping hist plot: ../rcv_elections_database/single/SanLeandro_11042014_CountyCouncilDistrict3.csv\n",
      "../rcv_elections_database/single/NewYorkCity_06222021_REPCouncilMember24thCouncilDistrict.csv\n",
      "Skipping hist plot: ../rcv_elections_database/single/NewYorkCity_06222021_REPCouncilMember24thCouncilDistrict.csv\n",
      "../rcv_elections_database/single/Minneapolis_11072017_Ward4CityCouncil.csv\n",
      "Skipping hist plot: ../rcv_elections_database/single/Minneapolis_11072017_Ward4CityCouncil.csv\n",
      "../rcv_elections_database/single/Oakland_11022010_CityAuditor.csv\n"
     ]
    },
    {
     "name": "stderr",
     "output_type": "stream",
     "text": [
      "/Users/es5891/Documents/GitHub/bugs-in-democracy/rcv_exploration/../rcv_learning/rcv_dimensionality.py:188: RuntimeWarning: divide by zero encountered in divide\n",
      "  distance = 1 / np.sqrt(freq_upper_triangle)\n"
     ]
    },
    {
     "name": "stdout",
     "output_type": "stream",
     "text": [
      "Normalized distances: {'MICHAEL KILIAN': 0.0, 'COURTNEY RUBY': 1.0}\n"
     ]
    },
    {
     "name": "stderr",
     "output_type": "stream",
     "text": [
      "/Users/es5891/Documents/GitHub/bugs-in-democracy/rcv_exploration/../rcv_learning/rcv_dimensionality.py:188: RuntimeWarning: divide by zero encountered in divide\n",
      "  distance = 1 / np.sqrt(freq_upper_triangle)\n"
     ]
    },
    {
     "name": "stdout",
     "output_type": "stream",
     "text": [
      "Consistency points: {0.0: 28773, 0.25: 36797, 1.0: 11339}\n",
      "../rcv_elections_database/single/Oakland_11062018_SchoolDirectorDistrict2.csv\n",
      "Error in file: ../rcv_elections_database/single/Oakland_11062018_SchoolDirectorDistrict2.csv\n",
      "zero-size array to reduction operation minimum which has no identity\n",
      "../rcv_elections_database/single/Minneapolis_11022021_CityCouncilWard1.csv\n",
      "Skipping hist plot: ../rcv_elections_database/single/Minneapolis_11022021_CityCouncilWard1.csv\n",
      "../rcv_elections_database/single/Maine_06122018_DemocraticPrimaryforGovernor.csv\n",
      "Skipping hist plot: ../rcv_elections_database/single/Maine_06122018_DemocraticPrimaryforGovernor.csv\n",
      "../rcv_elections_database/single/Oakland_11062012_SchoolDirectorDistrict5.csv\n",
      "Skipping hist plot: ../rcv_elections_database/single/Oakland_11062012_SchoolDirectorDistrict5.csv\n",
      "../rcv_elections_database/single/SanFrancisco_11022004_BoardofSupervisorsDistrict7.csv\n",
      "Skipping hist plot: ../rcv_elections_database/single/SanFrancisco_11022004_BoardofSupervisorsDistrict7.csv\n",
      "../rcv_elections_database/single/Alaska_11082022_HouseDistrict4.csv\n",
      "Skipping hist plot: ../rcv_elections_database/single/Alaska_11082022_HouseDistrict4.csv\n",
      "../rcv_elections_database/single/Alaska_11082022_HouseDistrict5.csv\n",
      "Skipping hist plot: ../rcv_elections_database/single/Alaska_11082022_HouseDistrict5.csv\n",
      "../rcv_elections_database/single/SanFrancisco_11062007_Mayor.csv\n",
      "Skipping hist plot: ../rcv_elections_database/single/SanFrancisco_11062007_Mayor.csv\n",
      "../rcv_elections_database/single/Minneapolis_11052013_Mayor.csv\n",
      "Skipping hist plot: ../rcv_elections_database/single/Minneapolis_11052013_Mayor.csv\n",
      "../rcv_elections_database/single/Minnetonka_11022021_CityCouncilAtLargeSeatB.csv\n",
      "Skipping hist plot: ../rcv_elections_database/single/Minnetonka_11022021_CityCouncilAtLargeSeatB.csv\n",
      "../rcv_elections_database/single/Oakland_11082016_CityAttorney.csv\n",
      "Error in file: ../rcv_elections_database/single/Oakland_11082016_CityAttorney.csv\n",
      "zero-size array to reduction operation minimum which has no identity\n",
      "../rcv_elections_database/single/NewYorkCity_06222021_REPCouncilMember19thCouncilDistrict.csv\n",
      "Skipping hist plot: ../rcv_elections_database/single/NewYorkCity_06222021_REPCouncilMember19thCouncilDistrict.csv\n",
      "../rcv_elections_database/single/NewYorkCity_06222021_DEMPublicAdvocateCitywide.csv\n",
      "Skipping hist plot: ../rcv_elections_database/single/NewYorkCity_06222021_DEMPublicAdvocateCitywide.csv\n",
      "../rcv_elections_database/single/Oakland_11062018_CityAuditor.csv\n"
     ]
    },
    {
     "name": "stderr",
     "output_type": "stream",
     "text": [
      "/Users/es5891/Documents/GitHub/bugs-in-democracy/rcv_exploration/../rcv_learning/rcv_dimensionality.py:188: RuntimeWarning: divide by zero encountered in divide\n",
      "  distance = 1 / np.sqrt(freq_upper_triangle)\n"
     ]
    },
    {
     "name": "stdout",
     "output_type": "stream",
     "text": [
      "Normalized distances: {'BRENDA ROBERTS': 0.0, 'COURTNEY RUBY': 1.0}\n"
     ]
    },
    {
     "name": "stderr",
     "output_type": "stream",
     "text": [
      "/Users/es5891/Documents/GitHub/bugs-in-democracy/rcv_exploration/../rcv_learning/rcv_dimensionality.py:188: RuntimeWarning: divide by zero encountered in divide\n",
      "  distance = 1 / np.sqrt(freq_upper_triangle)\n"
     ]
    },
    {
     "name": "stdout",
     "output_type": "stream",
     "text": [
      "Consistency points: {0.25: 32225, 0.0: 55603, 1.0: 19133}\n",
      "../rcv_elections_database/single/NewYorkCity_06222021_REPMayorCitywide.csv\n"
     ]
    },
    {
     "name": "stderr",
     "output_type": "stream",
     "text": [
      "/Users/es5891/Documents/GitHub/bugs-in-democracy/rcv_exploration/../rcv_learning/rcv_dimensionality.py:188: RuntimeWarning: divide by zero encountered in divide\n",
      "  distance = 1 / np.sqrt(freq_upper_triangle)\n"
     ]
    },
    {
     "name": "stdout",
     "output_type": "stream",
     "text": [
      "Normalized distances: {'Curtis A. Sliwa': 0.0, 'Fernando Mateo': 1.0}\n"
     ]
    },
    {
     "name": "stderr",
     "output_type": "stream",
     "text": [
      "/Users/es5891/Documents/GitHub/bugs-in-democracy/rcv_exploration/../rcv_learning/rcv_dimensionality.py:188: RuntimeWarning: divide by zero encountered in divide\n",
      "  distance = 1 / np.sqrt(freq_upper_triangle)\n"
     ]
    },
    {
     "name": "stdout",
     "output_type": "stream",
     "text": [
      "Consistency points: {1.0: 21496, 0.25: 9408, 0.0: 7897}\n",
      "../rcv_elections_database/single/Alaska_11082022_SenateDistrictD.csv\n",
      "Skipping hist plot: ../rcv_elections_database/single/Alaska_11082022_SenateDistrictD.csv\n",
      "../rcv_elections_database/single/Oakland_11082016_SchoolDirectorDistrict7.csv\n"
     ]
    },
    {
     "name": "stderr",
     "output_type": "stream",
     "text": [
      "/Users/es5891/Documents/GitHub/bugs-in-democracy/rcv_exploration/../rcv_learning/rcv_dimensionality.py:188: RuntimeWarning: divide by zero encountered in divide\n",
      "  distance = 1 / np.sqrt(freq_upper_triangle)\n"
     ]
    },
    {
     "name": "stdout",
     "output_type": "stream",
     "text": [
      "Normalized distances: {'JAMES HARRIS': 0.0, 'CHRIS JACKSON': 1.0}\n"
     ]
    },
    {
     "name": "stderr",
     "output_type": "stream",
     "text": [
      "/Users/es5891/Documents/GitHub/bugs-in-democracy/rcv_exploration/../rcv_learning/rcv_dimensionality.py:188: RuntimeWarning: divide by zero encountered in divide\n",
      "  distance = 1 / np.sqrt(freq_upper_triangle)\n"
     ]
    },
    {
     "name": "stdout",
     "output_type": "stream",
     "text": [
      "Consistency points: {1.0: 2488, 0.25: 4972, 0.0: 5002}\n",
      "../rcv_elections_database/single/Alaska_11082022_SenateDistrictS.csv\n",
      "Skipping hist plot: ../rcv_elections_database/single/Alaska_11082022_SenateDistrictS.csv\n",
      "../rcv_elections_database/single/Minneapolis_11062009_Ward12CityCouncil.csv\n",
      "Skipping hist plot: ../rcv_elections_database/single/Minneapolis_11062009_Ward12CityCouncil.csv\n",
      "../rcv_elections_database/single/Berkeley_11022010_CityCouncilDistrict7.csv\n",
      "Skipping hist plot: ../rcv_elections_database/single/Berkeley_11022010_CityCouncilDistrict7.csv\n",
      "../rcv_elections_database/single/Portland_11082022_SchoolBoardDistrict3.csv\n",
      "Skipping hist plot: ../rcv_elections_database/single/Portland_11082022_SchoolBoardDistrict3.csv\n",
      "../rcv_elections_database/single/SanLeandro_11082016_CountyCouncilDistrict4.csv\n",
      "Error in file: ../rcv_elections_database/single/SanLeandro_11082016_CountyCouncilDistrict4.csv\n",
      "zero-size array to reduction operation minimum which has no identity\n",
      "../rcv_elections_database/single/Alaska_11082022_SenateDistrictI.csv\n",
      "Skipping hist plot: ../rcv_elections_database/single/Alaska_11082022_SenateDistrictI.csv\n",
      "../rcv_elections_database/single/NewYorkCity_06222021_DEMComptrollerCitywide.csv\n",
      "Skipping hist plot: ../rcv_elections_database/single/NewYorkCity_06222021_DEMComptrollerCitywide.csv\n",
      "../rcv_elections_database/single/NewYorkCity_06222021_DEMCouncilMember38thCouncilDistrict.csv\n",
      "Skipping hist plot: ../rcv_elections_database/single/NewYorkCity_06222021_DEMCouncilMember38thCouncilDistrict.csv\n",
      "../rcv_elections_database/single/SanLeandro_11042014_Mayor.csv\n",
      "Skipping hist plot: ../rcv_elections_database/single/SanLeandro_11042014_Mayor.csv\n",
      "../rcv_elections_database/single/SanFrancisco_11072006_BoardofSupervisorsDistrict10.csv\n",
      "Skipping hist plot: ../rcv_elections_database/single/SanFrancisco_11072006_BoardofSupervisorsDistrict10.csv\n",
      "../rcv_elections_database/single/Oakland_11082016_CityCouncilDistrict3.csv\n"
     ]
    },
    {
     "name": "stderr",
     "output_type": "stream",
     "text": [
      "/Users/es5891/Documents/GitHub/bugs-in-democracy/rcv_exploration/../rcv_learning/rcv_dimensionality.py:188: RuntimeWarning: divide by zero encountered in divide\n",
      "  distance = 1 / np.sqrt(freq_upper_triangle)\n"
     ]
    },
    {
     "name": "stdout",
     "output_type": "stream",
     "text": [
      "Normalized distances: {'LYNETTE GIBSON MCELHANEY': 0.0, 'NONI D. SESSION': 1.0}\n"
     ]
    },
    {
     "name": "stderr",
     "output_type": "stream",
     "text": [
      "/Users/es5891/Documents/GitHub/bugs-in-democracy/rcv_exploration/../rcv_learning/rcv_dimensionality.py:188: RuntimeWarning: divide by zero encountered in divide\n",
      "  distance = 1 / np.sqrt(freq_upper_triangle)\n"
     ]
    },
    {
     "name": "stdout",
     "output_type": "stream",
     "text": [
      "Consistency points: {0.25: 7451, 0.0: 5700, 1.0: 5907}\n",
      "../rcv_elections_database/single/Minneapolis_11072017_PRBoardDistrict3.csv\n",
      "Skipping hist plot: ../rcv_elections_database/single/Minneapolis_11072017_PRBoardDistrict3.csv\n",
      "../rcv_elections_database/single/StLouisPark_11022021_CityCouncilWard3.csv\n",
      "Skipping hist plot: ../rcv_elections_database/single/StLouisPark_11022021_CityCouncilWard3.csv\n",
      "../rcv_elections_database/single/SanFrancisco_11082011_Mayor.csv\n",
      "Skipping hist plot: ../rcv_elections_database/single/SanFrancisco_11082011_Mayor.csv\n",
      "../rcv_elections_database/single/NewYorkCity_06222021_DEMCouncilMember23rdCouncilDistrict.csv\n",
      "Skipping hist plot: ../rcv_elections_database/single/NewYorkCity_06222021_DEMCouncilMember23rdCouncilDistrict.csv\n",
      "../rcv_elections_database/single/Alaska_11082022_HouseDistrict8.csv\n",
      "Error in file: ../rcv_elections_database/single/Alaska_11082022_HouseDistrict8.csv\n",
      "zero-size array to reduction operation minimum which has no identity\n",
      "../rcv_elections_database/single/SanFrancisco_11082011_DistrictAttorney.csv\n",
      "Skipping hist plot: ../rcv_elections_database/single/SanFrancisco_11082011_DistrictAttorney.csv\n",
      "../rcv_elections_database/single/Alaska_11082022_HouseDistrict9.csv\n",
      "Skipping hist plot: ../rcv_elections_database/single/Alaska_11082022_HouseDistrict9.csv\n",
      "../rcv_elections_database/single/StLouisPark_11022021_CityCouncilWard2.csv\n"
     ]
    },
    {
     "name": "stderr",
     "output_type": "stream",
     "text": [
      "/Users/es5891/Documents/GitHub/bugs-in-democracy/rcv_exploration/../rcv_learning/rcv_dimensionality.py:188: RuntimeWarning: divide by zero encountered in divide\n",
      "  distance = 1 / np.sqrt(freq_upper_triangle)\n"
     ]
    },
    {
     "name": "stdout",
     "output_type": "stream",
     "text": [
      "Normalized distances: {'Lynette Lungay Dumalag': 0.0, 'John Basill': 1.0}\n"
     ]
    },
    {
     "name": "stderr",
     "output_type": "stream",
     "text": [
      "/Users/es5891/Documents/GitHub/bugs-in-democracy/rcv_exploration/../rcv_learning/rcv_dimensionality.py:188: RuntimeWarning: divide by zero encountered in divide\n",
      "  distance = 1 / np.sqrt(freq_upper_triangle)\n"
     ]
    },
    {
     "name": "stdout",
     "output_type": "stream",
     "text": [
      "Consistency points: {0.0: 958, 1.0: 547, 0.25: 24}\n",
      "../rcv_elections_database/single/Minneapolis_11072017_PRBoardDistrict2.csv\n",
      "Skipping hist plot: ../rcv_elections_database/single/Minneapolis_11072017_PRBoardDistrict2.csv\n",
      "../rcv_elections_database/single/PierceCounty_11042008_CountyAssessorTreasurer.csv\n",
      "Skipping hist plot: ../rcv_elections_database/single/PierceCounty_11042008_CountyAssessorTreasurer.csv\n",
      "../rcv_elections_database/single/Berkeley_11032020_MayorBerkeleyRCV.csv\n",
      "Skipping hist plot: ../rcv_elections_database/single/Berkeley_11032020_MayorBerkeleyRCV.csv\n",
      "../rcv_elections_database/single/SanLeandro_11062012_CountyCouncilDistrict6.csv\n"
     ]
    },
    {
     "name": "stderr",
     "output_type": "stream",
     "text": [
      "/Users/es5891/Documents/GitHub/bugs-in-democracy/rcv_exploration/../rcv_learning/rcv_dimensionality.py:188: RuntimeWarning: divide by zero encountered in divide\n",
      "  distance = 1 / np.sqrt(freq_upper_triangle)\n"
     ]
    },
    {
     "name": "stdout",
     "output_type": "stream",
     "text": [
      "Normalized distances: {'HERMY B. ALMONTE': 0.0, 'JIM PROLA': 1.0}\n"
     ]
    },
    {
     "name": "stderr",
     "output_type": "stream",
     "text": [
      "/Users/es5891/Documents/GitHub/bugs-in-democracy/rcv_exploration/../rcv_learning/rcv_dimensionality.py:188: RuntimeWarning: divide by zero encountered in divide\n",
      "  distance = 1 / np.sqrt(freq_upper_triangle)\n"
     ]
    },
    {
     "name": "stdout",
     "output_type": "stream",
     "text": [
      "Consistency points: {0.25: 7762, 1.0: 3535, 0.0: 5155}\n",
      "../rcv_elections_database/single/Alaska_11082022_SenateDistrictH.csv\n",
      "Skipping hist plot: ../rcv_elections_database/single/Alaska_11082022_SenateDistrictH.csv\n",
      "../rcv_elections_database/single/Minneapolis_08112020_Ward6CityCouncilSpecialElection.csv\n",
      "Skipping hist plot: ../rcv_elections_database/single/Minneapolis_08112020_Ward6CityCouncilSpecialElection.csv\n",
      "../rcv_elections_database/single/NewYorkCity_06222021_DEMBoroughPresidentRichmond.csv\n",
      "Skipping hist plot: ../rcv_elections_database/single/NewYorkCity_06222021_DEMBoroughPresidentRichmond.csv\n",
      "../rcv_elections_database/single/Minneapolis_11062009_Ward7CityCouncil.csv\n",
      "Skipping hist plot: ../rcv_elections_database/single/Minneapolis_11062009_Ward7CityCouncil.csv\n",
      "../rcv_elections_database/single/Oakland_11062012_CityCouncilDistrict3.csv\n",
      "Skipping hist plot: ../rcv_elections_database/single/Oakland_11062012_CityCouncilDistrict3.csv\n",
      "../rcv_elections_database/single/Oakland_11082022_Schoolboarddistrict2.csv\n",
      "Skipping hist plot: ../rcv_elections_database/single/Oakland_11082022_Schoolboarddistrict2.csv\n",
      "../rcv_elections_database/single/Alaska_11082022_USRepresentative.csv\n",
      "Skipping hist plot: ../rcv_elections_database/single/Alaska_11082022_USRepresentative.csv\n",
      "../rcv_elections_database/single/Oakland_11042014_CityCouncilDistrict2.csv\n",
      "Skipping hist plot: ../rcv_elections_database/single/Oakland_11042014_CityCouncilDistrict2.csv\n",
      "../rcv_elections_database/single/Berkeley_11022010_CityCouncilDistrict4.csv\n",
      "Skipping hist plot: ../rcv_elections_database/single/Berkeley_11022010_CityCouncilDistrict4.csv\n",
      "../rcv_elections_database/single/Oakland_11062012_CityCouncilDistrict1.csv\n",
      "Skipping hist plot: ../rcv_elections_database/single/Oakland_11062012_CityCouncilDistrict1.csv\n",
      "../rcv_elections_database/single/Alaska_11082022_SenateDistrictJ.csv\n",
      "Skipping hist plot: ../rcv_elections_database/single/Alaska_11082022_SenateDistrictJ.csv\n",
      "../rcv_elections_database/single/Minneapolis_11062009_Ward8CityCouncil.csv\n",
      "Skipping hist plot: ../rcv_elections_database/single/Minneapolis_11062009_Ward8CityCouncil.csv\n",
      "../rcv_elections_database/single/SanLeandro_11062012_CountyCouncilDistrict4.csv\n",
      "Skipping hist plot: ../rcv_elections_database/single/SanLeandro_11062012_CountyCouncilDistrict4.csv\n",
      "../rcv_elections_database/single/Minneapolis_11062009_Mayor.csv\n",
      "Skipping hist plot: ../rcv_elections_database/single/Minneapolis_11062009_Mayor.csv\n",
      "../rcv_elections_database/single/SanFrancisco_11052019_Sheriff.csv\n",
      "Error in file: ../rcv_elections_database/single/SanFrancisco_11052019_Sheriff.csv\n",
      "zero-size array to reduction operation minimum which has no identity\n",
      "../rcv_elections_database/single/Oakland_11032020_SchoolDirectorDist5OaklandRCV.csv\n",
      "Skipping hist plot: ../rcv_elections_database/single/Oakland_11032020_SchoolDirectorDist5OaklandRCV.csv\n",
      "../rcv_elections_database/single/Minneapolis_11072017_Ward12CityCouncil.csv\n",
      "Skipping hist plot: ../rcv_elections_database/single/Minneapolis_11072017_Ward12CityCouncil.csv\n",
      "../rcv_elections_database/single/Minneapolis_11052013_Ward9CityCouncil.csv\n",
      "Skipping hist plot: ../rcv_elections_database/single/Minneapolis_11052013_Ward9CityCouncil.csv\n",
      "../rcv_elections_database/single/StLouisPark_11022021_CityCouncilWard1.csv\n",
      "Error in file: ../rcv_elections_database/single/StLouisPark_11022021_CityCouncilWard1.csv\n",
      "zero-size array to reduction operation minimum which has no identity\n",
      "../rcv_elections_database/single/Minneapolis_11072017_PRBoardDistrict1.csv\n",
      "Skipping hist plot: ../rcv_elections_database/single/Minneapolis_11072017_PRBoardDistrict1.csv\n",
      "../rcv_elections_database/single/SanFrancisco_11062018_PublicDefender.csv\n",
      "Error in file: ../rcv_elections_database/single/SanFrancisco_11062018_PublicDefender.csv\n",
      "zero-size array to reduction operation minimum which has no identity\n",
      "../rcv_elections_database/single/SanFrancisco_11022004_BoardofSupervisorsDistrict9.csv\n",
      "Skipping hist plot: ../rcv_elections_database/single/SanFrancisco_11022004_BoardofSupervisorsDistrict9.csv\n",
      "../rcv_elections_database/single/Oakland_11082016_CityCouncilDistrict1.csv\n"
     ]
    },
    {
     "name": "stderr",
     "output_type": "stream",
     "text": [
      "/Users/es5891/Documents/GitHub/bugs-in-democracy/rcv_exploration/../rcv_learning/rcv_dimensionality.py:188: RuntimeWarning: divide by zero encountered in divide\n",
      "  distance = 1 / np.sqrt(freq_upper_triangle)\n"
     ]
    },
    {
     "name": "stdout",
     "output_type": "stream",
     "text": [
      "Normalized distances: {'DAN KALB': 0.0, 'KEVIN M. CORBETT': 1.0}\n"
     ]
    },
    {
     "name": "stderr",
     "output_type": "stream",
     "text": [
      "/Users/es5891/Documents/GitHub/bugs-in-democracy/rcv_exploration/../rcv_learning/rcv_dimensionality.py:188: RuntimeWarning: divide by zero encountered in divide\n",
      "  distance = 1 / np.sqrt(freq_upper_triangle)\n"
     ]
    },
    {
     "name": "stdout",
     "output_type": "stream",
     "text": [
      "Consistency points: {1.0: 16786, 0.25: 2702, 0.0: 3217}\n",
      "../rcv_elections_database/single/NewYorkCity_06222021_REPCouncilMember15thCouncilDistrict.csv\n"
     ]
    },
    {
     "name": "stderr",
     "output_type": "stream",
     "text": [
      "/Users/es5891/Documents/GitHub/bugs-in-democracy/rcv_exploration/../rcv_learning/rcv_dimensionality.py:188: RuntimeWarning: divide by zero encountered in divide\n",
      "  distance = 1 / np.sqrt(freq_upper_triangle)\n"
     ]
    },
    {
     "name": "stdout",
     "output_type": "stream",
     "text": [
      "Normalized distances: {'Ariel Rivera-Diaz': 0.0, 'Aramis Ocasio': 1.0}\n"
     ]
    },
    {
     "name": "stderr",
     "output_type": "stream",
     "text": [
      "/Users/es5891/Documents/GitHub/bugs-in-democracy/rcv_exploration/../rcv_learning/rcv_dimensionality.py:188: RuntimeWarning: divide by zero encountered in divide\n",
      "  distance = 1 / np.sqrt(freq_upper_triangle)\n"
     ]
    },
    {
     "name": "stdout",
     "output_type": "stream",
     "text": [
      "Consistency points: {0.0: 29, 1.0: 47, 0.25: 41}\n",
      "../rcv_elections_database/single/SanFrancisco_11052004_BoardofSupervisorsDistrict1.csv\n",
      "Skipping hist plot: ../rcv_elections_database/single/SanFrancisco_11052004_BoardofSupervisorsDistrict1.csv\n",
      "../rcv_elections_database/single/TakomaPark_11082022_Mayor.csv\n",
      "Skipping hist plot: ../rcv_elections_database/single/TakomaPark_11082022_Mayor.csv\n",
      "../rcv_elections_database/single/Eastpointe_11052019_CityCouncil.csv\n",
      "Skipping hist plot: ../rcv_elections_database/single/Eastpointe_11052019_CityCouncil.csv\n",
      "../rcv_elections_database/single/Alaska_11082022_SenateDistrictK.csv\n",
      "Skipping hist plot: ../rcv_elections_database/single/Alaska_11082022_SenateDistrictK.csv\n",
      "../rcv_elections_database/single/SanFrancisco_11072006_BoardofSupervisorsDistrict2.csv\n"
     ]
    },
    {
     "name": "stderr",
     "output_type": "stream",
     "text": [
      "/Users/es5891/Documents/GitHub/bugs-in-democracy/rcv_exploration/../rcv_learning/rcv_dimensionality.py:188: RuntimeWarning: divide by zero encountered in divide\n",
      "  distance = 1 / np.sqrt(freq_upper_triangle)\n"
     ]
    },
    {
     "name": "stdout",
     "output_type": "stream",
     "text": [
      "Normalized distances: {'Michela Alioto-pier': 0.0, 'Vilma Guinto Peoro': 1.0}\n"
     ]
    },
    {
     "name": "stderr",
     "output_type": "stream",
     "text": [
      "/Users/es5891/Documents/GitHub/bugs-in-democracy/rcv_exploration/../rcv_learning/rcv_dimensionality.py:188: RuntimeWarning: divide by zero encountered in divide\n",
      "  distance = 1 / np.sqrt(freq_upper_triangle)\n"
     ]
    },
    {
     "name": "stdout",
     "output_type": "stream",
     "text": [
      "Consistency points: {1.0: 13153, 0.0: 2289, 0.25: 1296}\n",
      "../rcv_elections_database/single/SanLeandro_11082016_CountyCouncilDistrict6.csv\n",
      "Error in file: ../rcv_elections_database/single/SanLeandro_11082016_CountyCouncilDistrict6.csv\n",
      "zero-size array to reduction operation minimum which has no identity\n",
      "../rcv_elections_database/single/Oakland_11032020_SchoolDirectorDist1OaklandRCV.csv\n",
      "Skipping hist plot: ../rcv_elections_database/single/Oakland_11032020_SchoolDirectorDist1OaklandRCV.csv\n",
      "../rcv_elections_database/single/Easthampton_11022021_Mayor.csv\n",
      "Skipping hist plot: ../rcv_elections_database/single/Easthampton_11022021_Mayor.csv\n",
      "../rcv_elections_database/single/NewYorkCity_06222021_DEMCouncilMember37thCouncilDistrict.csv\n",
      "Skipping hist plot: ../rcv_elections_database/single/NewYorkCity_06222021_DEMCouncilMember37thCouncilDistrict.csv\n",
      "../rcv_elections_database/single/Berkeley_11022010_CityCouncilDistrict1.csv\n",
      "Skipping hist plot: ../rcv_elections_database/single/Berkeley_11022010_CityCouncilDistrict1.csv\n",
      "../rcv_elections_database/single/NewYorkCity_06222021_DEMBoroughPresidentBronx.csv\n",
      "Skipping hist plot: ../rcv_elections_database/single/NewYorkCity_06222021_DEMBoroughPresidentBronx.csv\n",
      "../rcv_elections_database/single/NewYorkCity_06222021_DEMCouncilMember22ndCouncilDistrict.csv\n",
      "Skipping hist plot: ../rcv_elections_database/single/NewYorkCity_06222021_DEMCouncilMember22ndCouncilDistrict.csv\n",
      "../rcv_elections_database/single/Alaska_11082022_SenateDistrictO.csv\n",
      "Skipping hist plot: ../rcv_elections_database/single/Alaska_11082022_SenateDistrictO.csv\n",
      "../rcv_elections_database/single/SanLeandro_11082016_CountyCouncilDistrict2.csv\n"
     ]
    },
    {
     "name": "stderr",
     "output_type": "stream",
     "text": [
      "/Users/es5891/Documents/GitHub/bugs-in-democracy/rcv_exploration/../rcv_learning/rcv_dimensionality.py:188: RuntimeWarning: divide by zero encountered in divide\n",
      "  distance = 1 / np.sqrt(freq_upper_triangle)\n"
     ]
    },
    {
     "name": "stdout",
     "output_type": "stream",
     "text": [
      "Normalized distances: {'BRYAN AZEVEDO': 0.0, 'ED HERNANDEZ': 1.0}\n"
     ]
    },
    {
     "name": "stderr",
     "output_type": "stream",
     "text": [
      "/Users/es5891/Documents/GitHub/bugs-in-democracy/rcv_exploration/../rcv_learning/rcv_dimensionality.py:188: RuntimeWarning: divide by zero encountered in divide\n",
      "  distance = 1 / np.sqrt(freq_upper_triangle)\n"
     ]
    },
    {
     "name": "stdout",
     "output_type": "stream",
     "text": [
      "Consistency points: {1.0: 6173, 0.0: 6122, 0.25: 6171}\n",
      "../rcv_elections_database/single/SanFrancisco_11072006_BoardofSupervisorsDistrict6.csv\n",
      "Skipping hist plot: ../rcv_elections_database/single/SanFrancisco_11072006_BoardofSupervisorsDistrict6.csv\n",
      "../rcv_elections_database/single/Berkeley_11062018_CityAuditor.csv\n"
     ]
    },
    {
     "name": "stderr",
     "output_type": "stream",
     "text": [
      "/Users/es5891/Documents/GitHub/bugs-in-democracy/rcv_exploration/../rcv_learning/rcv_dimensionality.py:188: RuntimeWarning: divide by zero encountered in divide\n",
      "  distance = 1 / np.sqrt(freq_upper_triangle)\n"
     ]
    },
    {
     "name": "stdout",
     "output_type": "stream",
     "text": [
      "Normalized distances: {'JENNY WONG': 0.0, 'VLADISLAV S. DAVIDZON': 1.0}\n"
     ]
    },
    {
     "name": "stderr",
     "output_type": "stream",
     "text": [
      "/Users/es5891/Documents/GitHub/bugs-in-democracy/rcv_exploration/../rcv_learning/rcv_dimensionality.py:188: RuntimeWarning: divide by zero encountered in divide\n",
      "  distance = 1 / np.sqrt(freq_upper_triangle)\n"
     ]
    },
    {
     "name": "stdout",
     "output_type": "stream",
     "text": [
      "Consistency points: {0.0: 1515, 1.0: 31066, 0.25: 2504}\n",
      "../rcv_elections_database/single/Vineyard_11052019_CityCouncil.csv\n",
      "Skipping hist plot: ../rcv_elections_database/single/Vineyard_11052019_CityCouncil.csv\n",
      "../rcv_elections_database/single/NewYorkCity_06222021_DEMCouncilMember25thCouncilDistrict.csv\n",
      "Skipping hist plot: ../rcv_elections_database/single/NewYorkCity_06222021_DEMCouncilMember25thCouncilDistrict.csv\n",
      "../rcv_elections_database/single/Minneapolis_11072017_PRBoardDistrict5.csv\n",
      "Skipping hist plot: ../rcv_elections_database/single/Minneapolis_11072017_PRBoardDistrict5.csv\n",
      "../rcv_elections_database/single/Minneapolis_11062009_Ward1CityCouncil.csv\n",
      "Skipping hist plot: ../rcv_elections_database/single/Minneapolis_11062009_Ward1CityCouncil.csv\n",
      "../rcv_elections_database/single/Oakland_11082016_CityCouncilDistrict5.csv\n"
     ]
    },
    {
     "name": "stderr",
     "output_type": "stream",
     "text": [
      "/Users/es5891/Documents/GitHub/bugs-in-democracy/rcv_exploration/../rcv_learning/rcv_dimensionality.py:188: RuntimeWarning: divide by zero encountered in divide\n",
      "  distance = 1 / np.sqrt(freq_upper_triangle)\n"
     ]
    },
    {
     "name": "stdout",
     "output_type": "stream",
     "text": [
      "Normalized distances: {'NOEL GALLO': 0.0, 'VIOLA GONZALES': 1.0}\n"
     ]
    },
    {
     "name": "stderr",
     "output_type": "stream",
     "text": [
      "/Users/es5891/Documents/GitHub/bugs-in-democracy/rcv_exploration/../rcv_learning/rcv_dimensionality.py:188: RuntimeWarning: divide by zero encountered in divide\n",
      "  distance = 1 / np.sqrt(freq_upper_triangle)\n"
     ]
    },
    {
     "name": "stdout",
     "output_type": "stream",
     "text": [
      "Consistency points: {0.0: 4514, 0.25: 3330, 1.0: 2877}\n",
      "../rcv_elections_database/single/StLouisPark_11022021_CityCouncilWard4.csv\n",
      "Error in file: ../rcv_elections_database/single/StLouisPark_11022021_CityCouncilWard4.csv\n",
      "zero-size array to reduction operation minimum which has no identity\n",
      "../rcv_elections_database/single/Minneapolis_11062009_Ward9CityCouncil.csv\n",
      "Skipping hist plot: ../rcv_elections_database/single/Minneapolis_11062009_Ward9CityCouncil.csv\n",
      "../rcv_elections_database/single/NewYorkCity_06222021_DEMCouncilMember6thCouncilDistrict.csv\n",
      "Skipping hist plot: ../rcv_elections_database/single/NewYorkCity_06222021_DEMCouncilMember6thCouncilDistrict.csv\n",
      "../rcv_elections_database/single/Minneapolis_11072017_PRBoardDistrict4.csv\n"
     ]
    },
    {
     "name": "stderr",
     "output_type": "stream",
     "text": [
      "/Users/es5891/Documents/GitHub/bugs-in-democracy/rcv_exploration/../rcv_learning/rcv_dimensionality.py:188: RuntimeWarning: divide by zero encountered in divide\n",
      "  distance = 1 / np.sqrt(freq_upper_triangle)\n"
     ]
    },
    {
     "name": "stdout",
     "output_type": "stream",
     "text": [
      "Normalized distances: {'Tom Nordyke': 0.0, 'Jono Cowgill': 1.0}\n"
     ]
    },
    {
     "name": "stderr",
     "output_type": "stream",
     "text": [
      "/Users/es5891/Documents/GitHub/bugs-in-democracy/rcv_exploration/../rcv_learning/rcv_dimensionality.py:188: RuntimeWarning: divide by zero encountered in divide\n",
      "  distance = 1 / np.sqrt(freq_upper_triangle)\n"
     ]
    },
    {
     "name": "stdout",
     "output_type": "stream",
     "text": [
      "Consistency points: {0.0: 3843, 1.0: 3548, 0.25: 2777}\n",
      "../rcv_elections_database/single/Oakland_11032020_MemberCityCouncilAtLargeOaklandRCV.csv\n",
      "Skipping hist plot: ../rcv_elections_database/single/Oakland_11032020_MemberCityCouncilAtLargeOaklandRCV.csv\n",
      "../rcv_elections_database/single/NewYorkCity_06222021_DEMCouncilMember18thCouncilDistrict.csv\n",
      "Skipping hist plot: ../rcv_elections_database/single/NewYorkCity_06222021_DEMCouncilMember18thCouncilDistrict.csv\n",
      "../rcv_elections_database/single/SanFrancisco_11032015_BoardofSupervisorsDistrict3.csv\n",
      "Skipping hist plot: ../rcv_elections_database/single/SanFrancisco_11032015_BoardofSupervisorsDistrict3.csv\n",
      "../rcv_elections_database/single/Berkeley_11022010_CityAuditor.csv\n",
      "Error in file: ../rcv_elections_database/single/Berkeley_11022010_CityAuditor.csv\n",
      "zero-size array to reduction operation minimum which has no identity\n",
      "../rcv_elections_database/single/NewYorkCity_06222021_DEMBoroughPresidentNewYork.csv\n",
      "Skipping hist plot: ../rcv_elections_database/single/NewYorkCity_06222021_DEMBoroughPresidentNewYork.csv\n",
      "../rcv_elections_database/single/SanFrancisco_11082022_AssessorRecorder.csv\n",
      "Error in file: ../rcv_elections_database/single/SanFrancisco_11082022_AssessorRecorder.csv\n",
      "zero-size array to reduction operation minimum which has no identity\n",
      "../rcv_elections_database/single/Minneapolis_11072017_Ward13CityCouncil.csv\n"
     ]
    },
    {
     "name": "stderr",
     "output_type": "stream",
     "text": [
      "/Users/es5891/Documents/GitHub/bugs-in-democracy/rcv_exploration/../rcv_learning/rcv_dimensionality.py:188: RuntimeWarning: divide by zero encountered in divide\n",
      "  distance = 1 / np.sqrt(freq_upper_triangle)\n"
     ]
    },
    {
     "name": "stdout",
     "output_type": "stream",
     "text": [
      "Normalized distances: {'Linea Palmisano': 0.0, 'Bob Reuer': 1.0}\n"
     ]
    },
    {
     "name": "stderr",
     "output_type": "stream",
     "text": [
      "/Users/es5891/Documents/GitHub/bugs-in-democracy/rcv_exploration/../rcv_learning/rcv_dimensionality.py:188: RuntimeWarning: divide by zero encountered in divide\n",
      "  distance = 1 / np.sqrt(freq_upper_triangle)\n"
     ]
    },
    {
     "name": "stdout",
     "output_type": "stream",
     "text": [
      "Consistency points: {1.0: 7237, 0.0: 1295, 0.25: 549}\n",
      "../rcv_elections_database/single/Burlington_03032009_Mayor.csv\n",
      "Skipping hist plot: ../rcv_elections_database/single/Burlington_03032009_Mayor.csv\n",
      "../rcv_elections_database/single/Alaska_11082022_SenateDistrictN.csv\n",
      "Skipping hist plot: ../rcv_elections_database/single/Alaska_11082022_SenateDistrictN.csv\n",
      "../rcv_elections_database/single/Oakland_11062012_CityCouncilDistrict5.csv\n",
      "Skipping hist plot: ../rcv_elections_database/single/Oakland_11062012_CityCouncilDistrict5.csv\n",
      "../rcv_elections_database/single/NewYorkCity_06222021_DEMCouncilMember20thCouncilDistrict.csv\n",
      "Skipping hist plot: ../rcv_elections_database/single/NewYorkCity_06222021_DEMCouncilMember20thCouncilDistrict.csv\n",
      "../rcv_elections_database/single/Oakland_11042014_CityCouncilDistrict4.csv\n",
      "Skipping hist plot: ../rcv_elections_database/single/Oakland_11042014_CityCouncilDistrict4.csv\n",
      "../rcv_elections_database/single/Oakland_11082022_Schoolboarddistrict4.csv\n",
      "Skipping hist plot: ../rcv_elections_database/single/Oakland_11082022_Schoolboarddistrict4.csv\n",
      "../rcv_elections_database/single/Oakland_11042014_CityCouncilDistrict6.csv\n",
      "Skipping hist plot: ../rcv_elections_database/single/Oakland_11042014_CityCouncilDistrict6.csv\n",
      "../rcv_elections_database/single/Oakland_11082022_Schoolboarddistrict6.csv\n",
      "Skipping hist plot: ../rcv_elections_database/single/Oakland_11082022_Schoolboarddistrict6.csv\n",
      "../rcv_elections_database/single/SanFrancisco_11082022_BoardofSupervisorsD10.csv\n"
     ]
    },
    {
     "name": "stderr",
     "output_type": "stream",
     "text": [
      "/Users/es5891/Documents/GitHub/bugs-in-democracy/rcv_exploration/../rcv_learning/rcv_dimensionality.py:188: RuntimeWarning: divide by zero encountered in divide\n",
      "  distance = 1 / np.sqrt(freq_upper_triangle)\n"
     ]
    },
    {
     "name": "stdout",
     "output_type": "stream",
     "text": [
      "Normalized distances: {'SHAMANN WALTON': 0.0, 'BRIAN SAM ADAM': 1.0}\n"
     ]
    },
    {
     "name": "stderr",
     "output_type": "stream",
     "text": [
      "/Users/es5891/Documents/GitHub/bugs-in-democracy/rcv_exploration/../rcv_learning/rcv_dimensionality.py:188: RuntimeWarning: divide by zero encountered in divide\n",
      "  distance = 1 / np.sqrt(freq_upper_triangle)\n"
     ]
    },
    {
     "name": "stdout",
     "output_type": "stream",
     "text": [
      "Consistency points: {1.0: 2065, 0.25: 5459, 0.0: 6763}\n",
      "../rcv_elections_database/single/SanFrancisco_11032015_Mayor.csv\n",
      "Skipping hist plot: ../rcv_elections_database/single/SanFrancisco_11032015_Mayor.csv\n",
      "../rcv_elections_database/single/Oakland_11062012_CityCouncilDistrict7.csv\n",
      "Skipping hist plot: ../rcv_elections_database/single/Oakland_11062012_CityCouncilDistrict7.csv\n",
      "../rcv_elections_database/single/Alaska_11082022_SenateDistrictL.csv\n",
      "Skipping hist plot: ../rcv_elections_database/single/Alaska_11082022_SenateDistrictL.csv\n",
      "../rcv_elections_database/single/SanLeandro_11062012_CountyCouncilDistrict2.csv\n",
      "Skipping hist plot: ../rcv_elections_database/single/SanLeandro_11062012_CountyCouncilDistrict2.csv\n",
      "../rcv_elections_database/single/NewYorkCity_06222021_REPCouncilMember32ndCouncilDistrict.csv\n"
     ]
    },
    {
     "name": "stderr",
     "output_type": "stream",
     "text": [
      "/Users/es5891/Documents/GitHub/bugs-in-democracy/rcv_exploration/../rcv_learning/rcv_dimensionality.py:188: RuntimeWarning: divide by zero encountered in divide\n",
      "  distance = 1 / np.sqrt(freq_upper_triangle)\n"
     ]
    },
    {
     "name": "stdout",
     "output_type": "stream",
     "text": [
      "Normalized distances: {'Stephen A. Sirgiovanni': 0.0, 'Joann Ariola': 1.0}\n"
     ]
    },
    {
     "name": "stderr",
     "output_type": "stream",
     "text": [
      "/Users/es5891/Documents/GitHub/bugs-in-democracy/rcv_exploration/../rcv_learning/rcv_dimensionality.py:188: RuntimeWarning: divide by zero encountered in divide\n",
      "  distance = 1 / np.sqrt(freq_upper_triangle)\n"
     ]
    },
    {
     "name": "stdout",
     "output_type": "stream",
     "text": [
      "Consistency points: {0.25: 939, 0.0: 1446, 1.0: 295}\n",
      "../rcv_elections_database/single/Minneapolis_11022021_CityCouncilWard8.csv\n"
     ]
    },
    {
     "name": "stderr",
     "output_type": "stream",
     "text": [
      "/Users/es5891/Documents/GitHub/bugs-in-democracy/rcv_exploration/../rcv_learning/rcv_dimensionality.py:188: RuntimeWarning: divide by zero encountered in divide\n",
      "  distance = 1 / np.sqrt(freq_upper_triangle)\n"
     ]
    },
    {
     "name": "stdout",
     "output_type": "stream",
     "text": [
      "Normalized distances: {'Robert \"Bob\" Sullentrop': 0.0, 'Andrea Jenkins': 1.0}\n"
     ]
    },
    {
     "name": "stderr",
     "output_type": "stream",
     "text": [
      "/Users/es5891/Documents/GitHub/bugs-in-democracy/rcv_exploration/../rcv_learning/rcv_dimensionality.py:188: RuntimeWarning: divide by zero encountered in divide\n",
      "  distance = 1 / np.sqrt(freq_upper_triangle)\n"
     ]
    },
    {
     "name": "stdout",
     "output_type": "stream",
     "text": [
      "Consistency points: {0.0: 8596, 0.25: 478, 1.0: 1235}\n",
      "../rcv_elections_database/single/Alaska_11082022_USSenator.csv\n",
      "Skipping hist plot: ../rcv_elections_database/single/Alaska_11082022_USSenator.csv\n",
      "../rcv_elections_database/single/NewYorkCity_06222021_DEMCouncilMember9thCouncilDistrict.csv\n",
      "Skipping hist plot: ../rcv_elections_database/single/NewYorkCity_06222021_DEMCouncilMember9thCouncilDistrict.csv\n",
      "../rcv_elections_database/single/Minneapolis_11062009_Ward6CityCouncil.csv\n",
      "Skipping hist plot: ../rcv_elections_database/single/Minneapolis_11062009_Ward6CityCouncil.csv\n",
      "../rcv_elections_database/single/SanFrancisco_11032020_BOARDOFSUPERVISORSDISTRICT11.csv\n",
      "Skipping hist plot: ../rcv_elections_database/single/SanFrancisco_11032020_BOARDOFSUPERVISORSDISTRICT11.csv\n",
      "../rcv_elections_database/single/Corvallis_11082022_Mayor.csv\n",
      "Skipping hist plot: ../rcv_elections_database/single/Corvallis_11082022_Mayor.csv\n",
      "../rcv_elections_database/single/Minneapolis_11072017_PRBoardDistrict6.csv\n",
      "Skipping hist plot: ../rcv_elections_database/single/Minneapolis_11072017_PRBoardDistrict6.csv\n",
      "../rcv_elections_database/single/SanFrancisco_11042008_BoardofSupervisorsDistrict11.csv\n",
      "Skipping hist plot: ../rcv_elections_database/single/SanFrancisco_11042008_BoardofSupervisorsDistrict11.csv\n",
      "../rcv_elections_database/single/NewYorkCity_06222021_DEMCouncilMember17thCouncilDistrict.csv\n",
      "Skipping hist plot: ../rcv_elections_database/single/NewYorkCity_06222021_DEMCouncilMember17thCouncilDistrict.csv\n",
      "../rcv_elections_database/single/NewYorkCity_06222021_CONCouncilMember19thCouncilDistrict.csv\n",
      "Skipping hist plot: ../rcv_elections_database/single/NewYorkCity_06222021_CONCouncilMember19thCouncilDistrict.csv\n",
      "../rcv_elections_database/single/NewYorkCity_06222021_DEMCouncilMember21stCouncilDistrict.csv\n",
      "Skipping hist plot: ../rcv_elections_database/single/NewYorkCity_06222021_DEMCouncilMember21stCouncilDistrict.csv\n",
      "../rcv_elections_database/single/Oakland_11082016_CityCouncilDistrict7.csv\n",
      "Skipping hist plot: ../rcv_elections_database/single/Oakland_11082016_CityCouncilDistrict7.csv\n",
      "../rcv_elections_database/single/Portland_06142022_Schoolboarddistrict5.csv\n",
      "Skipping hist plot: ../rcv_elections_database/single/Portland_06142022_Schoolboarddistrict5.csv\n",
      "../rcv_elections_database/single/Albany_11082022_FAKECityCouncil.csv\n",
      "Skipping hist plot: ../rcv_elections_database/single/Albany_11082022_FAKECityCouncil.csv\n",
      "../rcv_elections_database/single/Minneapolis_11022021_CityCouncilWard9.csv\n",
      "Skipping hist plot: ../rcv_elections_database/single/Minneapolis_11022021_CityCouncilWard9.csv\n",
      "../rcv_elections_database/single/Minneapolis_11052013_Ward13CityCouncil.csv\n",
      "Skipping hist plot: ../rcv_elections_database/single/Minneapolis_11052013_Ward13CityCouncil.csv\n",
      "../rcv_elections_database/single/SanFrancisco_11072006_BoardofSupervisorsDistrict4.csv\n",
      "Skipping hist plot: ../rcv_elections_database/single/SanFrancisco_11072006_BoardofSupervisorsDistrict4.csv\n",
      "../rcv_elections_database/single/NewYorkCity_06222021_DEMCouncilMember12thCouncilDistrict.csv\n",
      "Skipping hist plot: ../rcv_elections_database/single/NewYorkCity_06222021_DEMCouncilMember12thCouncilDistrict.csv\n",
      "../rcv_elections_database/single/Alaska_11082022_SenateDistrictM.csv\n",
      "Skipping hist plot: ../rcv_elections_database/single/Alaska_11082022_SenateDistrictM.csv\n",
      "../rcv_elections_database/single/SanFrancisco_11022004_BoardofSupervisorsDistrict11.csv\n",
      "Skipping hist plot: ../rcv_elections_database/single/SanFrancisco_11022004_BoardofSupervisorsDistrict11.csv\n",
      "../rcv_elections_database/single/NewYorkCity_06222021_REPCouncilMember50thCouncilDistrict.csv\n",
      "Skipping hist plot: ../rcv_elections_database/single/NewYorkCity_06222021_REPCouncilMember50thCouncilDistrict.csv\n",
      "../rcv_elections_database/single/SanFrancisco_11062018_AssessorRecorder.csv\n"
     ]
    },
    {
     "name": "stderr",
     "output_type": "stream",
     "text": [
      "/Users/es5891/Documents/GitHub/bugs-in-democracy/rcv_exploration/../rcv_learning/rcv_dimensionality.py:188: RuntimeWarning: divide by zero encountered in divide\n",
      "  distance = 1 / np.sqrt(freq_upper_triangle)\n"
     ]
    },
    {
     "name": "stdout",
     "output_type": "stream",
     "text": [
      "Normalized distances: {'CARMEN CHU': 0.0, 'PAUL BELLAR': 1.0}\n"
     ]
    },
    {
     "name": "stderr",
     "output_type": "stream",
     "text": [
      "/Users/es5891/Documents/GitHub/bugs-in-democracy/rcv_exploration/../rcv_learning/rcv_dimensionality.py:188: RuntimeWarning: divide by zero encountered in divide\n",
      "  distance = 1 / np.sqrt(freq_upper_triangle)\n"
     ]
    },
    {
     "name": "stdout",
     "output_type": "stream",
     "text": [
      "Consistency points: {0.0: 137989, 0.25: 98793, 1.0: 46121}\n",
      "../rcv_elections_database/single/Minneapolis_11062009_Ward4CityCouncil.csv\n",
      "Skipping hist plot: ../rcv_elections_database/single/Minneapolis_11062009_Ward4CityCouncil.csv\n",
      "../rcv_elections_database/single/Alaska_04102020_PRESIDENTOFTHEUNITEDSTATES.csv\n",
      "Skipping hist plot: ../rcv_elections_database/single/Alaska_04102020_PRESIDENTOFTHEUNITEDSTATES.csv\n",
      "../rcv_elections_database/single/NewYorkCity_06222021_DEMCouncilMember41stCouncilDistrict.csv\n"
     ]
    },
    {
     "name": "stderr",
     "output_type": "stream",
     "text": [
      "/Users/es5891/Documents/GitHub/bugs-in-democracy/rcv_exploration/../rcv_learning/rcv_dimensionality.py:188: RuntimeWarning: divide by zero encountered in divide\n",
      "  distance = 1 / np.sqrt(freq_upper_triangle)\n"
     ]
    },
    {
     "name": "stdout",
     "output_type": "stream",
     "text": [
      "Normalized distances: {'Darlene Mealy': 0.0, 'Alicka Tani Ampry-Samuel': 1.0}\n"
     ]
    },
    {
     "name": "stderr",
     "output_type": "stream",
     "text": [
      "/Users/es5891/Documents/GitHub/bugs-in-democracy/rcv_exploration/../rcv_learning/rcv_dimensionality.py:188: RuntimeWarning: divide by zero encountered in divide\n",
      "  distance = 1 / np.sqrt(freq_upper_triangle)\n"
     ]
    },
    {
     "name": "stdout",
     "output_type": "stream",
     "text": [
      "Consistency points: {0.0: 4290, 0.25: 4584, 1.0: 3482}\n",
      "../rcv_elections_database/single/SanFrancisco_11042008_BoardofSupervisorsDistrict5.csv\n",
      "Skipping hist plot: ../rcv_elections_database/single/SanFrancisco_11042008_BoardofSupervisorsDistrict5.csv\n",
      "../rcv_elections_database/single/Payson_11052019_CityCouncil.csv\n",
      "Skipping hist plot: ../rcv_elections_database/single/Payson_11052019_CityCouncil.csv\n",
      "../rcv_elections_database/single/SanFrancisco_11032020_BOARDOFSUPERVISORSDISTRICT1.csv\n",
      "Skipping hist plot: ../rcv_elections_database/single/SanFrancisco_11032020_BOARDOFSUPERVISORSDISTRICT1.csv\n",
      "../rcv_elections_database/single/Alaska_11082022_HouseDistrict16.csv\n",
      "Skipping hist plot: ../rcv_elections_database/single/Alaska_11082022_HouseDistrict16.csv\n",
      "../rcv_elections_database/single/Berkeley_11042014_CityCouncilDistrict1.csv\n",
      "Skipping hist plot: ../rcv_elections_database/single/Berkeley_11042014_CityCouncilDistrict1.csv\n",
      "../rcv_elections_database/single/TakomaPark_11082022_CityCouncilWard4.csv\n",
      "Error in file: ../rcv_elections_database/single/TakomaPark_11082022_CityCouncilWard4.csv\n",
      "zero-size array to reduction operation minimum which has no identity\n",
      "../rcv_elections_database/single/SanLeandro_11032020_MemberCityCouncilDist6SanLeandroRCV.csv\n",
      "Error in file: ../rcv_elections_database/single/SanLeandro_11032020_MemberCityCouncilDist6SanLeandroRCV.csv\n",
      "zero-size array to reduction operation minimum which has no identity\n",
      "../rcv_elections_database/single/Minneapolis_11022021_ParkBoardDistrict2.csv\n",
      "Skipping hist plot: ../rcv_elections_database/single/Minneapolis_11022021_ParkBoardDistrict2.csv\n",
      "../rcv_elections_database/single/Portland_06142022_SchoolboardAL.csv\n",
      "Skipping hist plot: ../rcv_elections_database/single/Portland_06142022_SchoolboardAL.csv\n",
      "../rcv_elections_database/single/Berkeley_11062018_CityCouncilDistrict8.csv\n",
      "Skipping hist plot: ../rcv_elections_database/single/Berkeley_11062018_CityCouncilDistrict8.csv\n",
      "../rcv_elections_database/single/ElkRidge_11022021_Mayor.csv\n",
      "Skipping hist plot: ../rcv_elections_database/single/ElkRidge_11022021_Mayor.csv\n",
      "../rcv_elections_database/single/SanLeandro_11062018_CountyCouncilDistrict5.csv\n"
     ]
    },
    {
     "name": "stderr",
     "output_type": "stream",
     "text": [
      "/Users/es5891/Documents/GitHub/bugs-in-democracy/rcv_exploration/../rcv_learning/rcv_dimensionality.py:188: RuntimeWarning: divide by zero encountered in divide\n",
      "  distance = 1 / np.sqrt(freq_upper_triangle)\n"
     ]
    },
    {
     "name": "stdout",
     "output_type": "stream",
     "text": [
      "Normalized distances: {'CORINA N. LOPEZ': 0.0, 'MAXINE OLIVER-BENSON': 1.0}\n"
     ]
    },
    {
     "name": "stderr",
     "output_type": "stream",
     "text": [
      "/Users/es5891/Documents/GitHub/bugs-in-democracy/rcv_exploration/../rcv_learning/rcv_dimensionality.py:188: RuntimeWarning: divide by zero encountered in divide\n",
      "  distance = 1 / np.sqrt(freq_upper_triangle)\n"
     ]
    },
    {
     "name": "stdout",
     "output_type": "stream",
     "text": [
      "Consistency points: {1.0: 7315, 0.0: 2801, 0.25: 4080}\n",
      "../rcv_elections_database/single/Minneapolis_11052013_Ward5CityCouncil.csv\n",
      "Skipping hist plot: ../rcv_elections_database/single/Minneapolis_11052013_Ward5CityCouncil.csv\n",
      "../rcv_elections_database/single/NewYorkCity_06222021_DEMCouncilMember36thCouncilDistrict.csv\n",
      "Skipping hist plot: ../rcv_elections_database/single/NewYorkCity_06222021_DEMCouncilMember36thCouncilDistrict.csv\n",
      "../rcv_elections_database/single/SanLeandro_11022010_CountyCouncilDistrict5.csv\n"
     ]
    },
    {
     "name": "stderr",
     "output_type": "stream",
     "text": [
      "/Users/es5891/Documents/GitHub/bugs-in-democracy/rcv_exploration/../rcv_learning/rcv_dimensionality.py:188: RuntimeWarning: divide by zero encountered in divide\n",
      "  distance = 1 / np.sqrt(freq_upper_triangle)\n"
     ]
    },
    {
     "name": "stdout",
     "output_type": "stream",
     "text": [
      "Normalized distances: {'CORINA N. LOPEZ': 0.0, 'PAULINE RUSSO CUTTER': 1.0}\n"
     ]
    },
    {
     "name": "stderr",
     "output_type": "stream",
     "text": [
      "/Users/es5891/Documents/GitHub/bugs-in-democracy/rcv_exploration/../rcv_learning/rcv_dimensionality.py:188: RuntimeWarning: divide by zero encountered in divide\n",
      "  distance = 1 / np.sqrt(freq_upper_triangle)\n"
     ]
    },
    {
     "name": "stdout",
     "output_type": "stream",
     "text": [
      "Consistency points: {0.25: 6294, 1.0: 4276, 0.0: 4525}\n",
      "../rcv_elections_database/single/Minneapolis_11022021_ParkBoardDistrict3.csv\n",
      "Skipping hist plot: ../rcv_elections_database/single/Minneapolis_11022021_ParkBoardDistrict3.csv\n",
      "../rcv_elections_database/single/Oakland_11062012_CityCouncilAtLarge.csv\n",
      "Skipping hist plot: ../rcv_elections_database/single/Oakland_11062012_CityCouncilAtLarge.csv\n",
      "../rcv_elections_database/single/TakomaPark_11082022_CityCouncilWard5.csv\n",
      "Skipping hist plot: ../rcv_elections_database/single/TakomaPark_11082022_CityCouncilWard5.csv\n",
      "../rcv_elections_database/single/Alaska_11082022_HouseDistrict17.csv\n",
      "Skipping hist plot: ../rcv_elections_database/single/Alaska_11082022_HouseDistrict17.csv\n",
      "../rcv_elections_database/single/Oakland_11022010_CityCouncilDistrict4.csv\n",
      "Skipping hist plot: ../rcv_elections_database/single/Oakland_11022010_CityCouncilDistrict4.csv\n",
      "../rcv_elections_database/single/SanFrancisco_11082022_DistrictAttorney.csv\n",
      "Skipping hist plot: ../rcv_elections_database/single/SanFrancisco_11082022_DistrictAttorney.csv\n",
      "../rcv_elections_database/single/SanFrancisco_11042008_BoardofSupervisorsDistrict4.csv\n",
      "Skipping hist plot: ../rcv_elections_database/single/SanFrancisco_11042008_BoardofSupervisorsDistrict4.csv\n",
      "../rcv_elections_database/single/SanFrancisco_11062018_BoardofSupervisorsDistrict6.csv\n",
      "Skipping hist plot: ../rcv_elections_database/single/SanFrancisco_11062018_BoardofSupervisorsDistrict6.csv\n",
      "../rcv_elections_database/single/Oakland_11082022_CityCouncilmemberDistrict6.csv\n",
      "Skipping hist plot: ../rcv_elections_database/single/Oakland_11082022_CityCouncilmemberDistrict6.csv\n",
      "../rcv_elections_database/single/SanFrancisco_11082022_BoardofSupervisorsD4.csv\n"
     ]
    },
    {
     "name": "stderr",
     "output_type": "stream",
     "text": [
      "/Users/es5891/Documents/GitHub/bugs-in-democracy/rcv_exploration/../rcv_learning/rcv_dimensionality.py:188: RuntimeWarning: divide by zero encountered in divide\n",
      "  distance = 1 / np.sqrt(freq_upper_triangle)\n"
     ]
    },
    {
     "name": "stdout",
     "output_type": "stream",
     "text": [
      "Normalized distances: {'JOEL ENGARDIO': 0.0, 'GORDON MAR': 1.0}\n"
     ]
    },
    {
     "name": "stderr",
     "output_type": "stream",
     "text": [
      "/Users/es5891/Documents/GitHub/bugs-in-democracy/rcv_exploration/../rcv_learning/rcv_dimensionality.py:188: RuntimeWarning: divide by zero encountered in divide\n",
      "  distance = 1 / np.sqrt(freq_upper_triangle)\n"
     ]
    },
    {
     "name": "stdout",
     "output_type": "stream",
     "text": [
      "Consistency points: {0.25: 5451, 0.0: 8303, 1.0: 8077}\n",
      "../rcv_elections_database/single/SanFrancisco_11082022_BoardofSupervisorsD6.csv\n",
      "Skipping hist plot: ../rcv_elections_database/single/SanFrancisco_11082022_BoardofSupervisorsD6.csv\n",
      "../rcv_elections_database/single/Minneapolis_11062009_Ward3CityCouncil.csv\n",
      "Skipping hist plot: ../rcv_elections_database/single/Minneapolis_11062009_Ward3CityCouncil.csv\n",
      "../rcv_elections_database/single/Oakland_11082022_CityCouncilmemberDistrict4.csv\n"
     ]
    },
    {
     "name": "stderr",
     "output_type": "stream",
     "text": [
      "/Users/es5891/Documents/GitHub/bugs-in-democracy/rcv_exploration/../rcv_learning/rcv_dimensionality.py:188: RuntimeWarning: divide by zero encountered in divide\n",
      "  distance = 1 / np.sqrt(freq_upper_triangle)\n"
     ]
    },
    {
     "name": "stdout",
     "output_type": "stream",
     "text": [
      "Normalized distances: {'JANANI RAMACHANDRAN': 0.0, 'NENNA JOINER': 1.0}\n"
     ]
    },
    {
     "name": "stderr",
     "output_type": "stream",
     "text": [
      "/Users/es5891/Documents/GitHub/bugs-in-democracy/rcv_exploration/../rcv_learning/rcv_dimensionality.py:188: RuntimeWarning: divide by zero encountered in divide\n",
      "  distance = 1 / np.sqrt(freq_upper_triangle)\n"
     ]
    },
    {
     "name": "stdout",
     "output_type": "stream",
     "text": [
      "Consistency points: {1.0: 9466, 0.25: 4672, 0.0: 4109}\n",
      "../rcv_elections_database/single/Berkeley_11082016_CityCouncilDistrict2.csv\n",
      "Skipping hist plot: ../rcv_elections_database/single/Berkeley_11082016_CityCouncilDistrict2.csv\n",
      "../rcv_elections_database/single/SanFrancisco_11062018_BoardofSupervisorsDistrict4.csv\n",
      "Skipping hist plot: ../rcv_elections_database/single/SanFrancisco_11062018_BoardofSupervisorsDistrict4.csv\n",
      "../rcv_elections_database/single/Alaska_11082022_HouseDistrict15.csv\n",
      "Skipping hist plot: ../rcv_elections_database/single/Alaska_11082022_HouseDistrict15.csv\n",
      "../rcv_elections_database/single/Oakland_11022010_CityCouncilDistrict6.csv\n",
      "Skipping hist plot: ../rcv_elections_database/single/Oakland_11022010_CityCouncilDistrict6.csv\n",
      "../rcv_elections_database/single/NewYorkCity_06222021_DEMCouncilMember40thCouncilDistrict.csv\n",
      "Skipping hist plot: ../rcv_elections_database/single/NewYorkCity_06222021_DEMCouncilMember40thCouncilDistrict.csv\n",
      "../rcv_elections_database/single/Alaska_11082022_HouseDistrict29.csv\n",
      "Skipping hist plot: ../rcv_elections_database/single/Alaska_11082022_HouseDistrict29.csv\n",
      "../rcv_elections_database/single/Minneapolis_11022021_ParkBoardDistrict1.csv\n",
      "Error in file: ../rcv_elections_database/single/Minneapolis_11022021_ParkBoardDistrict1.csv\n",
      "zero-size array to reduction operation minimum which has no identity\n",
      "../rcv_elections_database/single/NewYorkCity_06222021_DEMCouncilMember39thCouncilDistrict.csv\n",
      "Skipping hist plot: ../rcv_elections_database/single/NewYorkCity_06222021_DEMCouncilMember39thCouncilDistrict.csv\n",
      "../rcv_elections_database/single/Berkeley_11062012_CityCouncilDistrict3.csv\n",
      "Skipping hist plot: ../rcv_elections_database/single/Berkeley_11062012_CityCouncilDistrict3.csv\n",
      "../rcv_elections_database/single/PierceCounty_11042008_CountyCouncilDistrict2.csv\n",
      "Skipping hist plot: ../rcv_elections_database/single/PierceCounty_11042008_CountyCouncilDistrict2.csv\n",
      "../rcv_elections_database/single/Oakland_11062018_Mayor.csv\n",
      "Skipping hist plot: ../rcv_elections_database/single/Oakland_11062018_Mayor.csv\n",
      "../rcv_elections_database/single/Berkeley_11062012_Mayor.csv\n",
      "Skipping hist plot: ../rcv_elections_database/single/Berkeley_11062012_Mayor.csv\n",
      "../rcv_elections_database/single/SanFrancisco_11042014_BoardofSupervisorsDistrict10.csv\n",
      "Skipping hist plot: ../rcv_elections_database/single/SanFrancisco_11042014_BoardofSupervisorsDistrict10.csv\n",
      "../rcv_elections_database/single/Berkeley_11062012_CityCouncilDistrict2.csv\n",
      "Skipping hist plot: ../rcv_elections_database/single/Berkeley_11062012_CityCouncilDistrict2.csv\n",
      "../rcv_elections_database/single/Minneapolis_11072017_Ward11CityCouncil.csv\n",
      "Skipping hist plot: ../rcv_elections_database/single/Minneapolis_11072017_Ward11CityCouncil.csv\n",
      "../rcv_elections_database/single/TakomaPark_11082022_CityCouncilWard6.csv\n",
      "Skipping hist plot: ../rcv_elections_database/single/TakomaPark_11082022_CityCouncilWard6.csv\n",
      "../rcv_elections_database/single/Alaska_11082022_HouseDistrict28.csv\n",
      "Skipping hist plot: ../rcv_elections_database/single/Alaska_11082022_HouseDistrict28.csv\n",
      "../rcv_elections_database/single/Alaska_11082022_HouseDistrict14.csv\n",
      "Skipping hist plot: ../rcv_elections_database/single/Alaska_11082022_HouseDistrict14.csv\n",
      "../rcv_elections_database/single/SanFrancisco_11032020_BOARDOFSUPERVISORSDISTRICT3.csv\n",
      "Skipping hist plot: ../rcv_elections_database/single/SanFrancisco_11032020_BOARDOFSUPERVISORSDISTRICT3.csv\n",
      "../rcv_elections_database/single/NewYorkCity_06222021_DEMCouncilMember42ndCouncilDistrict.csv\n",
      "Skipping hist plot: ../rcv_elections_database/single/NewYorkCity_06222021_DEMCouncilMember42ndCouncilDistrict.csv\n",
      "../rcv_elections_database/single/SanFrancisco_11042008_BoardofSupervisorsDistrict7.csv\n",
      "Skipping hist plot: ../rcv_elections_database/single/SanFrancisco_11042008_BoardofSupervisorsDistrict7.csv\n",
      "../rcv_elections_database/single/Oakland_11042014_CityAuditor.csv\n"
     ]
    },
    {
     "name": "stderr",
     "output_type": "stream",
     "text": [
      "/Users/es5891/Documents/GitHub/bugs-in-democracy/rcv_exploration/../rcv_learning/rcv_dimensionality.py:188: RuntimeWarning: divide by zero encountered in divide\n",
      "  distance = 1 / np.sqrt(freq_upper_triangle)\n"
     ]
    },
    {
     "name": "stdout",
     "output_type": "stream",
     "text": [
      "Normalized distances: {'LEN RAPHAEL': 0.0, 'BRENDA ROBERTS': 1.0}\n"
     ]
    },
    {
     "name": "stderr",
     "output_type": "stream",
     "text": [
      "/Users/es5891/Documents/GitHub/bugs-in-democracy/rcv_exploration/../rcv_learning/rcv_dimensionality.py:188: RuntimeWarning: divide by zero encountered in divide\n",
      "  distance = 1 / np.sqrt(freq_upper_triangle)\n"
     ]
    },
    {
     "name": "stdout",
     "output_type": "stream",
     "text": [
      "Consistency points: {0.25: 31105, 0.0: 29881, 1.0: 8291}\n",
      "../rcv_elections_database/single/Berkeley_11082016_CityCouncilDistrict3.csv\n",
      "Skipping hist plot: ../rcv_elections_database/single/Berkeley_11082016_CityCouncilDistrict3.csv\n",
      "../rcv_elections_database/single/Wyoming_04172020_PRESIDENTOFTHEUNITEDSTATES.csv\n",
      "Skipping hist plot: ../rcv_elections_database/single/Wyoming_04172020_PRESIDENTOFTHEUNITEDSTATES.csv\n",
      "../rcv_elections_database/single/NewYorkCity_06222021_DEMCouncilMember45thCouncilDistrict.csv\n",
      "Skipping hist plot: ../rcv_elections_database/single/NewYorkCity_06222021_DEMCouncilMember45thCouncilDistrict.csv\n",
      "../rcv_elections_database/single/NewYorkCity_06222021_DEMCouncilMember16thCouncilDistrict.csv\n",
      "Skipping hist plot: ../rcv_elections_database/single/NewYorkCity_06222021_DEMCouncilMember16thCouncilDistrict.csv\n",
      "../rcv_elections_database/single/Minneapolis_11072017_Ward10CityCouncil.csv\n",
      "Skipping hist plot: ../rcv_elections_database/single/Minneapolis_11072017_Ward10CityCouncil.csv\n",
      "../rcv_elections_database/single/NewYorkCity_06222021_DEMCouncilMember8thCouncilDistrict.csv\n",
      "Skipping hist plot: ../rcv_elections_database/single/NewYorkCity_06222021_DEMCouncilMember8thCouncilDistrict.csv\n",
      "../rcv_elections_database/single/SanFrancisco_11042008_BoardofSupervisorsDistrict3.csv\n",
      "Skipping hist plot: ../rcv_elections_database/single/SanFrancisco_11042008_BoardofSupervisorsDistrict3.csv\n",
      "../rcv_elections_database/single/Minneapolis_11022021_ParkBoardDistrict4.csv\n"
     ]
    },
    {
     "name": "stderr",
     "output_type": "stream",
     "text": [
      "/Users/es5891/Documents/GitHub/bugs-in-democracy/rcv_exploration/../rcv_learning/rcv_dimensionality.py:188: RuntimeWarning: divide by zero encountered in divide\n",
      "  distance = 1 / np.sqrt(freq_upper_triangle)\n"
     ]
    },
    {
     "name": "stdout",
     "output_type": "stream",
     "text": [
      "Normalized distances: {'Elizabeth Shaffer': 0.0, 'Jono Cowgill': 1.0}\n"
     ]
    },
    {
     "name": "stderr",
     "output_type": "stream",
     "text": [
      "/Users/es5891/Documents/GitHub/bugs-in-democracy/rcv_exploration/../rcv_learning/rcv_dimensionality.py:188: RuntimeWarning: divide by zero encountered in divide\n",
      "  distance = 1 / np.sqrt(freq_upper_triangle)\n"
     ]
    },
    {
     "name": "stdout",
     "output_type": "stream",
     "text": [
      "Consistency points: {0.0: 8350, 1.0: 4853, 0.25: 3566}\n",
      "../rcv_elections_database/single/Maine_07142020_DemocraticCandidateforMaineStateHouseDistrict49.csv\n",
      "Skipping hist plot: ../rcv_elections_database/single/Maine_07142020_DemocraticCandidateforMaineStateHouseDistrict49.csv\n",
      "../rcv_elections_database/single/Berkeley_11042014_CityCouncilDistrict7.csv\n",
      "Skipping hist plot: ../rcv_elections_database/single/Berkeley_11042014_CityCouncilDistrict7.csv\n",
      "../rcv_elections_database/single/Alaska_11082022_HouseDistrict38.csv\n",
      "Error in file: ../rcv_elections_database/single/Alaska_11082022_HouseDistrict38.csv\n",
      "zero-size array to reduction operation minimum which has no identity\n",
      "../rcv_elections_database/single/TakomaPark_11082022_CityCouncilWard2.csv\n",
      "Error in file: ../rcv_elections_database/single/TakomaPark_11082022_CityCouncilWard2.csv\n",
      "zero-size array to reduction operation minimum which has no identity\n",
      "../rcv_elections_database/single/SanFrancisco_11032020_BOARDOFSUPERVISORSDISTRICT7.csv\n",
      "Skipping hist plot: ../rcv_elections_database/single/SanFrancisco_11032020_BOARDOFSUPERVISORSDISTRICT7.csv\n",
      "../rcv_elections_database/single/Alaska_11082022_HouseDistrict10.csv\n",
      "Skipping hist plot: ../rcv_elections_database/single/Alaska_11082022_HouseDistrict10.csv\n",
      "../rcv_elections_database/single/Berkeley_11062012_CityCouncilDistrict6.csv\n"
     ]
    },
    {
     "name": "stderr",
     "output_type": "stream",
     "text": [
      "/Users/es5891/Documents/GitHub/bugs-in-democracy/rcv_exploration/../rcv_learning/rcv_dimensionality.py:188: RuntimeWarning: divide by zero encountered in divide\n",
      "  distance = 1 / np.sqrt(freq_upper_triangle)\n"
     ]
    },
    {
     "name": "stdout",
     "output_type": "stream",
     "text": [
      "Normalized distances: {'SUSAN WENGRAF': 0.0, 'PHOEBE SORGEN': 1.0}\n"
     ]
    },
    {
     "name": "stderr",
     "output_type": "stream",
     "text": [
      "/Users/es5891/Documents/GitHub/bugs-in-democracy/rcv_exploration/../rcv_learning/rcv_dimensionality.py:188: RuntimeWarning: divide by zero encountered in divide\n",
      "  distance = 1 / np.sqrt(freq_upper_triangle)\n"
     ]
    },
    {
     "name": "stdout",
     "output_type": "stream",
     "text": [
      "Consistency points: {0.0: 5580, 1.0: 245, 0.25: 33}\n",
      "../rcv_elections_database/single/SanLeandro_11062018_CountyCouncilDistrict3.csv\n"
     ]
    },
    {
     "name": "stderr",
     "output_type": "stream",
     "text": [
      "/Users/es5891/Documents/GitHub/bugs-in-democracy/rcv_exploration/../rcv_learning/rcv_dimensionality.py:188: RuntimeWarning: divide by zero encountered in divide\n",
      "  distance = 1 / np.sqrt(freq_upper_triangle)\n"
     ]
    },
    {
     "name": "stdout",
     "output_type": "stream",
     "text": [
      "Normalized distances: {'LEE THOMAS': 0.0, 'VICTOR AGUILAR, JR.': 1.0}\n"
     ]
    },
    {
     "name": "stderr",
     "output_type": "stream",
     "text": [
      "/Users/es5891/Documents/GitHub/bugs-in-democracy/rcv_exploration/../rcv_learning/rcv_dimensionality.py:188: RuntimeWarning: divide by zero encountered in divide\n",
      "  distance = 1 / np.sqrt(freq_upper_triangle)\n"
     ]
    },
    {
     "name": "stdout",
     "output_type": "stream",
     "text": [
      "Consistency points: {0.0: 4338, 0.25: 7570, 1.0: 4943}\n",
      "../rcv_elections_database/single/Oakland_11032020_MemberCityCouncilDist3OaklandRCV.csv\n",
      "Skipping hist plot: ../rcv_elections_database/single/Oakland_11032020_MemberCityCouncilDist3OaklandRCV.csv\n",
      "../rcv_elections_database/single/SanLeandro_11022010_CountyCouncilDistrict3.csv\n",
      "Error in file: ../rcv_elections_database/single/SanLeandro_11022010_CountyCouncilDistrict3.csv\n",
      "zero-size array to reduction operation minimum which has no identity\n",
      "../rcv_elections_database/single/Minneapolis_11062009_Ward2CityCouncil.csv\n"
     ]
    },
    {
     "name": "stderr",
     "output_type": "stream",
     "text": [
      "/Users/es5891/Documents/GitHub/bugs-in-democracy/rcv_exploration/../rcv_learning/rcv_dimensionality.py:188: RuntimeWarning: divide by zero encountered in divide\n",
      "  distance = 1 / np.sqrt(freq_upper_triangle)\n"
     ]
    },
    {
     "name": "stdout",
     "output_type": "stream",
     "text": [
      "Normalized distances: {'Cam Gordon': 0.0, 'Allen A. Aigbogun': 1.0}\n"
     ]
    },
    {
     "name": "stderr",
     "output_type": "stream",
     "text": [
      "/Users/es5891/Documents/GitHub/bugs-in-democracy/rcv_exploration/../rcv_learning/rcv_dimensionality.py:188: RuntimeWarning: divide by zero encountered in divide\n",
      "  distance = 1 / np.sqrt(freq_upper_triangle)\n"
     ]
    },
    {
     "name": "stdout",
     "output_type": "stream",
     "text": [
      "Consistency points: {1.0: 1945, 0.0: 294, 0.25: 115}\n",
      "../rcv_elections_database/single/SanFrancisco_11082016_BoardofSupervisorsDistrict9.csv\n",
      "Skipping hist plot: ../rcv_elections_database/single/SanFrancisco_11082016_BoardofSupervisorsDistrict9.csv\n",
      "../rcv_elections_database/single/NewYorkCity_06222021_DEMCouncilMember13thCouncilDistrict.csv\n",
      "Skipping hist plot: ../rcv_elections_database/single/NewYorkCity_06222021_DEMCouncilMember13thCouncilDistrict.csv\n",
      "../rcv_elections_database/single/SanFrancisco_11022010_BoardofSupervisorsDistrict10.csv\n",
      "Skipping hist plot: ../rcv_elections_database/single/SanFrancisco_11022010_BoardofSupervisorsDistrict10.csv\n",
      "../rcv_elections_database/single/Oakland_11022010_CityCouncilDistrict2.csv\n"
     ]
    },
    {
     "name": "stderr",
     "output_type": "stream",
     "text": [
      "/Users/es5891/Documents/GitHub/bugs-in-democracy/rcv_exploration/../rcv_learning/rcv_dimensionality.py:188: RuntimeWarning: divide by zero encountered in divide\n",
      "  distance = 1 / np.sqrt(freq_upper_triangle)\n"
     ]
    },
    {
     "name": "stdout",
     "output_type": "stream",
     "text": [
      "Normalized distances: {'PATRICIA KERNIGHAN': 0.0, 'JENNIFER S. PAE': 1.0}\n"
     ]
    },
    {
     "name": "stderr",
     "output_type": "stream",
     "text": [
      "/Users/es5891/Documents/GitHub/bugs-in-democracy/rcv_exploration/../rcv_learning/rcv_dimensionality.py:188: RuntimeWarning: divide by zero encountered in divide\n",
      "  distance = 1 / np.sqrt(freq_upper_triangle)\n"
     ]
    },
    {
     "name": "stdout",
     "output_type": "stream",
     "text": [
      "Consistency points: {0.0: 2274, 1.0: 4366, 0.25: 2346}\n",
      "../rcv_elections_database/single/Alaska_11082022_HouseDistrict11.csv\n",
      "Skipping hist plot: ../rcv_elections_database/single/Alaska_11082022_HouseDistrict11.csv\n",
      "../rcv_elections_database/single/SanFrancisco_11032015_Sheriff.csv\n",
      "Skipping hist plot: ../rcv_elections_database/single/SanFrancisco_11032015_Sheriff.csv\n",
      "../rcv_elections_database/single/Alaska_11082022_HouseDistrict39.csv\n",
      "Skipping hist plot: ../rcv_elections_database/single/Alaska_11082022_HouseDistrict39.csv\n",
      "../rcv_elections_database/single/NewYorkCity_06222021_REPBoroughPresidentQueens.csv\n"
     ]
    },
    {
     "name": "stderr",
     "output_type": "stream",
     "text": [
      "/Users/es5891/Documents/GitHub/bugs-in-democracy/rcv_exploration/../rcv_learning/rcv_dimensionality.py:188: RuntimeWarning: divide by zero encountered in divide\n",
      "  distance = 1 / np.sqrt(freq_upper_triangle)\n"
     ]
    },
    {
     "name": "stdout",
     "output_type": "stream",
     "text": [
      "Normalized distances: {'217580': 0.0, '219566': 1.0}\n"
     ]
    },
    {
     "name": "stderr",
     "output_type": "stream",
     "text": [
      "/Users/es5891/Documents/GitHub/bugs-in-democracy/rcv_exploration/../rcv_learning/rcv_dimensionality.py:188: RuntimeWarning: divide by zero encountered in divide\n",
      "  distance = 1 / np.sqrt(freq_upper_triangle)\n"
     ]
    },
    {
     "name": "stdout",
     "output_type": "stream",
     "text": [
      "Consistency points: {0.25: 2944, 1.0: 3741, 0.0: 2972}\n",
      "../rcv_elections_database/single/TakomaPark_11082022_CityCouncilWard3.csv\n",
      "Skipping hist plot: ../rcv_elections_database/single/TakomaPark_11082022_CityCouncilWard3.csv\n",
      "../rcv_elections_database/single/Minneapolis_11022021_ParkBoardDistrict5.csv\n",
      "Skipping hist plot: ../rcv_elections_database/single/Minneapolis_11022021_ParkBoardDistrict5.csv\n",
      "../rcv_elections_database/single/Oakland_11032020_MemberCityCouncilDist7OaklandRCV.csv\n",
      "Skipping hist plot: ../rcv_elections_database/single/Oakland_11032020_MemberCityCouncilDist7OaklandRCV.csv\n",
      "../rcv_elections_database/single/Berkeley_11082016_CityCouncilDistrict6.csv\n",
      "Skipping hist plot: ../rcv_elections_database/single/Berkeley_11082016_CityCouncilDistrict6.csv\n",
      "../rcv_elections_database/single/SanFrancisco_11082011_Sheriff.csv\n",
      "Skipping hist plot: ../rcv_elections_database/single/SanFrancisco_11082011_Sheriff.csv\n",
      "../rcv_elections_database/single/SanFrancisco_06052018_BoardofSupervisorsDistrict8.csv\n",
      "Skipping hist plot: ../rcv_elections_database/single/SanFrancisco_06052018_BoardofSupervisorsDistrict8.csv\n",
      "../rcv_elections_database/single/SanFrancisco_11082022_BoardofSupervisorsD2.csv\n",
      "Error in file: ../rcv_elections_database/single/SanFrancisco_11082022_BoardofSupervisorsD2.csv\n",
      "zero-size array to reduction operation minimum which has no identity\n",
      "../rcv_elections_database/single/SanFrancisco_11022010_BoardofSupervisorsDistrict8.csv\n",
      "Skipping hist plot: ../rcv_elections_database/single/SanFrancisco_11022010_BoardofSupervisorsDistrict8.csv\n",
      "../rcv_elections_database/single/SanLeandro_11022010_Mayor.csv\n",
      "Skipping hist plot: ../rcv_elections_database/single/SanLeandro_11022010_Mayor.csv\n",
      "../rcv_elections_database/single/NewYorkCity_06222021_DEMCouncilMember24thCouncilDistrict.csv\n",
      "Skipping hist plot: ../rcv_elections_database/single/NewYorkCity_06222021_DEMCouncilMember24thCouncilDistrict.csv\n",
      "../rcv_elections_database/single/SanFrancisco_11062018_BoardofSupervisorsDistrict2.csv\n",
      "Skipping hist plot: ../rcv_elections_database/single/SanFrancisco_11062018_BoardofSupervisorsDistrict2.csv\n",
      "../rcv_elections_database/single/TakomaPark_11082022_CityCouncilWard1.csv\n",
      "Skipping hist plot: ../rcv_elections_database/single/TakomaPark_11082022_CityCouncilWard1.csv\n",
      "../rcv_elections_database/single/Alaska_11082022_HouseDistrict13.csv\n",
      "Skipping hist plot: ../rcv_elections_database/single/Alaska_11082022_HouseDistrict13.csv\n",
      "../rcv_elections_database/single/Berkeley_11062012_CityCouncilDistrict5.csv\n",
      "Skipping hist plot: ../rcv_elections_database/single/Berkeley_11062012_CityCouncilDistrict5.csv\n",
      "../rcv_elections_database/single/SanLeandro_11022010_CountyCouncilDistrict1.csv\n",
      "Skipping hist plot: ../rcv_elections_database/single/SanLeandro_11022010_CountyCouncilDistrict1.csv\n",
      "../rcv_elections_database/single/SanLeandro_11062018_CountyCouncilDistrict1.csv\n",
      "Skipping hist plot: ../rcv_elections_database/single/SanLeandro_11062018_CountyCouncilDistrict1.csv\n",
      "../rcv_elections_database/single/Minneapolis_11062009_Ward5CityCouncil.csv\n",
      "Skipping hist plot: ../rcv_elections_database/single/Minneapolis_11062009_Ward5CityCouncil.csv\n",
      "../rcv_elections_database/single/Alaska_11082022_HouseDistrict12.csv\n",
      "Skipping hist plot: ../rcv_elections_database/single/Alaska_11082022_HouseDistrict12.csv\n",
      "../rcv_elections_database/single/SanFrancisco_11032020_BOARDOFSUPERVISORSDISTRICT5.csv\n",
      "Skipping hist plot: ../rcv_elections_database/single/SanFrancisco_11032020_BOARDOFSUPERVISORSDISTRICT5.csv\n",
      "../rcv_elections_database/single/Minneapolis_11022021_ParkBoardDistrict6.csv\n",
      "Skipping hist plot: ../rcv_elections_database/single/Minneapolis_11022021_ParkBoardDistrict6.csv\n",
      "../rcv_elections_database/single/Minnetonka_11022021_Mayor.csv\n"
     ]
    },
    {
     "name": "stderr",
     "output_type": "stream",
     "text": [
      "/Users/es5891/Documents/GitHub/bugs-in-democracy/rcv_exploration/../rcv_learning/rcv_dimensionality.py:188: RuntimeWarning: divide by zero encountered in divide\n",
      "  distance = 1 / np.sqrt(freq_upper_triangle)\n"
     ]
    },
    {
     "name": "stdout",
     "output_type": "stream",
     "text": [
      "Normalized distances: {'Brad Wiersum': 0.0, 'John Kuhl': 1.0}\n"
     ]
    },
    {
     "name": "stderr",
     "output_type": "stream",
     "text": [
      "/Users/es5891/Documents/GitHub/bugs-in-democracy/rcv_exploration/../rcv_learning/rcv_dimensionality.py:188: RuntimeWarning: divide by zero encountered in divide\n",
      "  distance = 1 / np.sqrt(freq_upper_triangle)\n"
     ]
    },
    {
     "name": "stdout",
     "output_type": "stream",
     "text": [
      "Consistency points: {0.0: 5430, 1.0: 2965, 0.25: 1476}\n",
      "../rcv_elections_database/single/SanFrancisco_11042008_BoardofSupervisorsDistrict1.csv\n",
      "Skipping hist plot: ../rcv_elections_database/single/SanFrancisco_11042008_BoardofSupervisorsDistrict1.csv\n",
      "../rcv_elections_database/single/NewYorkCity_06222021_DEMCouncilMember19thCouncilDistrict.csv\n",
      "Skipping hist plot: ../rcv_elections_database/single/NewYorkCity_06222021_DEMCouncilMember19thCouncilDistrict.csv\n",
      "../rcv_elections_database/single/Berkeley_11082016_CityCouncilDistrict5.csv\n"
     ]
    },
    {
     "name": "stderr",
     "output_type": "stream",
     "text": [
      "/Users/es5891/Documents/GitHub/bugs-in-democracy/rcv_exploration/../rcv_learning/rcv_dimensionality.py:188: RuntimeWarning: divide by zero encountered in divide\n",
      "  distance = 1 / np.sqrt(freq_upper_triangle)\n"
     ]
    },
    {
     "name": "stdout",
     "output_type": "stream",
     "text": [
      "Normalized distances: {'SOPHIE HAHN': 0.0, 'STEPHEN MURPHY': 1.0}\n"
     ]
    },
    {
     "name": "stderr",
     "output_type": "stream",
     "text": [
      "/Users/es5891/Documents/GitHub/bugs-in-democracy/rcv_exploration/../rcv_learning/rcv_dimensionality.py:188: RuntimeWarning: divide by zero encountered in divide\n",
      "  distance = 1 / np.sqrt(freq_upper_triangle)\n"
     ]
    },
    {
     "name": "stdout",
     "output_type": "stream",
     "text": [
      "Consistency points: {1.0: 3475, 0.0: 2213, 0.25: 1289}\n",
      "../rcv_elections_database/single/NewYorkCity_06222021_DEMCouncilMember7thCouncilDistrict.csv\n",
      "Skipping hist plot: ../rcv_elections_database/single/NewYorkCity_06222021_DEMCouncilMember7thCouncilDistrict.csv\n",
      "../rcv_elections_database/single/Vineyard_11022021_Mayor.csv\n",
      "Skipping hist plot: ../rcv_elections_database/single/Vineyard_11022021_Mayor.csv\n",
      "../rcv_elections_database/single/Albany_11082022_BoardofEducation.csv\n",
      "Skipping hist plot: ../rcv_elections_database/single/Albany_11082022_BoardofEducation.csv\n",
      "../rcv_elections_database/single/SanLeandro_11032020_MemberCityCouncilDist2SanLeandroRCV.csv\n"
     ]
    },
    {
     "name": "stderr",
     "output_type": "stream",
     "text": [
      "/Users/es5891/Documents/GitHub/bugs-in-democracy/rcv_exploration/../rcv_learning/rcv_dimensionality.py:188: RuntimeWarning: divide by zero encountered in divide\n",
      "  distance = 1 / np.sqrt(freq_upper_triangle)\n"
     ]
    },
    {
     "name": "stdout",
     "output_type": "stream",
     "text": [
      "Normalized distances: {'BRYAN AZEVEDO': 0.0, 'ED HERNANDEZ': 1.0}\n"
     ]
    },
    {
     "name": "stderr",
     "output_type": "stream",
     "text": [
      "/Users/es5891/Documents/GitHub/bugs-in-democracy/rcv_exploration/../rcv_learning/rcv_dimensionality.py:188: RuntimeWarning: divide by zero encountered in divide\n",
      "  distance = 1 / np.sqrt(freq_upper_triangle)\n"
     ]
    },
    {
     "name": "stdout",
     "output_type": "stream",
     "text": [
      "Consistency points: {1.0: 5560, 0.0: 6439, 0.25: 12103}\n"
     ]
    }
   ],
   "source": [
    "# Search for CSV files in the directory and its subdirectories\n",
    "csv_files = glob.glob(\"../rcv_elections_database/**/*.csv\", recursive=True)\n",
    "\n",
    "# Determine save behavior\n",
    "save = True\n",
    "\n",
    "# Iterate over the CSV files\n",
    "for file_path in csv_files:\n",
    "\n",
    "    # Get the filename only\n",
    "    filename = file_path.split('/')[-1]  \n",
    "    print(file_path)\n",
    "\n",
    "    try:\n",
    "        csv = file_path\n",
    "        filename_prefix = \"plots/\" + filename\n",
    "\n",
    "        # Check if the plot already exists\n",
    "        if os.path.isfile(f\"{filename_prefix}_hist.png\"):\n",
    "            print(\"Skipping hist plot: {}\".format(file_path))\n",
    "            continue\n",
    "            \n",
    "        # Perform the RCV analysis\n",
    "        test = perform_rcv_analysis(csv, n_runs=1000)\n",
    "        mds_1d_coordinates, mds_2d_coordinates, most_common_order, order_frequencies, candidate_names = test\n",
    "\n",
    "        # Print the normalized distances between candidates and plot the MDS analysis\n",
    "        normalized_distances = get_distances_normalized(most_common_order, mds_1d_coordinates, candidate_names)\n",
    "        print(\"Normalized distances:\", normalized_distances)\n",
    "        plot_rcv_analysis(mds_1d_coordinates, mds_2d_coordinates, most_common_order, order_frequencies, candidate_names, save=save, filename=filename_prefix)\n",
    "\n",
    "        # Get the consistency points for the bimodality analysis\n",
    "        points = get_consistency_points(csv)\n",
    "        print(\"Consistency points:\", points)\n",
    "\n",
    "        # Create a list of data points\n",
    "        data_points = []\n",
    "        for key, value in points.items():\n",
    "            data_points.extend([key] * value)\n",
    "\n",
    "        # Convert to numpy array\n",
    "        data_points = np.array(data_points)\n",
    "\n",
    "        # Calculate skewness and kurtosis\n",
    "        g = skew(data_points)\n",
    "        k = kurtosis(data_points)\n",
    "\n",
    "        # Calculate KDE without plotting\n",
    "        density = gaussian_kde(data_points)\n",
    "        x_vals = np.linspace(min(data_points), max(data_points), 1000)\n",
    "        y_vals = density(x_vals)\n",
    "\n",
    "        # Identify local maxima in the KDE\n",
    "        maxima_indices = argrelextrema(y_vals, np.greater)\n",
    "\n",
    "        # Get the x-values of the maxima\n",
    "        modes = x_vals[maxima_indices]\n",
    "\n",
    "        # Check if there are at least two modes\n",
    "        if len(modes) >= 2:\n",
    "            mode1, mode2 = modes[:2]\n",
    "\n",
    "            # Calculate the amplitudes of the two modes\n",
    "            amp1 = density(mode1)[0]\n",
    "            amp2 = density(mode2)[0]\n",
    "\n",
    "            # Calculate the amplitude ratio with higher amplitude as denominator\n",
    "            if amp1 > amp2:\n",
    "                amplitude_ratio = amp2 / amp1\n",
    "            else:\n",
    "                amplitude_ratio = amp1 / amp2\n",
    "\n",
    "            # Calculate x-axis distance between the two modes\n",
    "            mode_distance = abs(mode2 - mode1)\n",
    "\n",
    "        else:\n",
    "            mode1, mode2 = None, None\n",
    "            amplitude_ratio = None\n",
    "            mode_distance = None\n",
    "\n",
    "        try:\n",
    "            # Split the data into two groups based on proximity to the modes\n",
    "            data_group1 = [point for point in data_points if abs(point - mode1) < abs(point - mode2)]\n",
    "            data_group2 = [point for point in data_points if abs(point - mode1) > abs(point - mode2)]\n",
    "\n",
    "            # Display mean and variance for each group\n",
    "            mu1, sigma1_sq = np.mean(data_group1), np.var(data_group1)\n",
    "            mu2, sigma2_sq = np.mean(data_group2), np.var(data_group2)\n",
    "\n",
    "            # Calculate Ashman's D statistic (D > 2)\n",
    "            ashmans_D = abs(mu1 - mu2) / np.sqrt((sigma1_sq + sigma2_sq) / 2)\n",
    "        except:\n",
    "            mode_distance = 404\n",
    "            amplitude_ratio = 404\n",
    "            ashmans_D = 404\n",
    "\n",
    "        # Calculate Sarle's bimodality coefficient b (b > 5/9)\n",
    "        n = len(data_points)\n",
    "        sarle = (g**2 + 1) / (k + 3 * (n-1)**2 / ((n-2) * (n-3)))\n",
    "\n",
    "        # Calculate Hartigan's dip statistic (calculate p value)\n",
    "        hartigan_dip = dip_statistic(data_points)\n",
    "\n",
    "        # Prepare data for histogram\n",
    "        data_list = [x for x, count in points.items() for _ in range(count)]\n",
    "        normalized_points = []\n",
    "        normalized_names = []\n",
    "        for name in normalized_distances:\n",
    "            normalized_names.append(name)\n",
    "            normalized_points.append(normalized_distances[name])\n",
    "\n",
    "        # Plot histogram\n",
    "        plt.figure(figsize=(10, 6))\n",
    "        plt.hist(data_list, bins=50, density=True, alpha=0.7)\n",
    "        plt.title('Histogram of Data')\n",
    "        plt.xticks(normalized_points, normalized_names, rotation=45)\n",
    "        plt.xlabel('Value')\n",
    "        plt.ylabel('Density')\n",
    "        plt.grid(True)\n",
    "\n",
    "        # Display measures in a text box\n",
    "        text_str = f\"Skewness: {g:.2f}\\nKurtosis: {k:.2f}\\nMode Distance: {mode_distance:.2f}\"\n",
    "        plt.text(0.05, 0.95, text_str, transform=plt.gca().transAxes, fontsize=10, verticalalignment='top', bbox=dict(boxstyle='round', facecolor='white', alpha=0.5))\n",
    "\n",
    "        if save:\n",
    "            plt.savefig(f\"{filename_prefix}_hist.png\", bbox_inches='tight')\n",
    "            plt.close()\n",
    "        else:\n",
    "            plt.show()\n",
    "\n",
    "        # Plot kernal density estimation\n",
    "        plt.figure(figsize=(10, 6))\n",
    "        sns.kdeplot(data_list, fill=True)\n",
    "        plt.title('Kernel Density Estimation of Data')\n",
    "        plt.xticks(normalized_points, normalized_names, rotation=45)\n",
    "        plt.xlabel('Value')\n",
    "        plt.ylabel('Density')\n",
    "        plt.grid(True)\n",
    "\n",
    "        # Display bimodality measures in a text box\n",
    "        text_str = f\"Ashman's D: {ashmans_D:.10f}\\nSarle's Coefficient: {sarle:.10f}\\nHartigan's Dip: {hartigan_dip:.10f}\\nAmplitude Ratio: {amplitude_ratio:.10f}\"\n",
    "        plt.text(0.05, 0.95, text_str, transform=plt.gca().transAxes, fontsize=10, verticalalignment='top', bbox=dict(boxstyle='round', facecolor='white', alpha=0.5))\n",
    "\n",
    "        if save:\n",
    "            plt.savefig(f\"{filename_prefix}_kde.png\", bbox_inches='tight')\n",
    "            plt.close()\n",
    "        else:\n",
    "            plt.show()\n",
    "\n",
    "    except Exception as e:\n",
    "        print(\"Error in file: {}\".format(file_path))\n",
    "        print(e)"
   ]
  }
 ],
 "metadata": {
  "kernelspec": {
   "display_name": "Python 3",
   "language": "python",
   "name": "python3"
  },
  "language_info": {
   "codemirror_mode": {
    "name": "ipython",
    "version": 3
   },
   "file_extension": ".py",
   "mimetype": "text/x-python",
   "name": "python",
   "nbconvert_exporter": "python",
   "pygments_lexer": "ipython3",
   "version": "3.9.7"
  },
  "orig_nbformat": 4
 },
 "nbformat": 4,
 "nbformat_minor": 2
}
