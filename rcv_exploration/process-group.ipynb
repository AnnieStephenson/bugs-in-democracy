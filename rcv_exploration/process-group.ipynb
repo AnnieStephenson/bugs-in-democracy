{
 "cells": [
  {
   "cell_type": "code",
   "execution_count": 1,
   "metadata": {},
   "outputs": [],
   "source": [
    "import sys\n",
    "import os\n",
    "import io\n",
    "\n",
    "# Add the parent directory to the sys.path\n",
    "sys.path.append(os.path.join(os.getcwd(), '..'))"
   ]
  },
  {
   "cell_type": "code",
   "execution_count": 2,
   "metadata": {},
   "outputs": [
    {
     "name": "stderr",
     "output_type": "stream",
     "text": [
      "/var/folders/g2/25z774tn0599smwks8_v_k200000gp/T/ipykernel_88190/4019494009.py:10: DeprecationWarning: Please use `gaussian_kde` from the `scipy.stats` namespace, the `scipy.stats.kde` namespace is deprecated.\n",
      "  from scipy.stats.kde import gaussian_kde\n"
     ]
    }
   ],
   "source": [
    "import glob\n",
    "import csv\n",
    "\n",
    "import numpy as np\n",
    "import pandas as pd\n",
    "import seaborn as sns\n",
    "\n",
    "from scipy.stats import kurtosis, skew, rankdata\n",
    "from scipy.signal import argrelextrema\n",
    "from scipy.stats.kde import gaussian_kde\n",
    "\n",
    "from rcv_learning.rcv_distribution import *\n",
    "from rcv_learning.rcv_dimensionality import *"
   ]
  },
  {
   "cell_type": "code",
   "execution_count": 3,
   "metadata": {},
   "outputs": [],
   "source": [
    "def compute_ecdf(data):\n",
    "    \"\"\"Compute the empirical cumulative distribution function (ECDF) of data.\"\"\"\n",
    "    sorted_data = np.sort(data)\n",
    "    n = len(data)\n",
    "    return sorted_data, np.arange(1, n+1) / n\n",
    "\n",
    "def dip_statistic(data):\n",
    "    \"\"\"Compute Hartigan's dip statistic for data.\"\"\"\n",
    "    data = np.sort(data)\n",
    "    n = len(data)\n",
    "    \n",
    "    # Compute the empirical CDF\n",
    "    x, ecdf = compute_ecdf(data)\n",
    "    \n",
    "    # Compute the greatest difference on the left and right side for each data point\n",
    "    U = np.arange(1, n+1) / n\n",
    "    D = U - np.arange(0, n) / n\n",
    "    \n",
    "    # Calculate the difference between the empirical distribution function and the \n",
    "    # unimodal distribution function that minimizes that maximum difference.\n",
    "    low_dip = (ecdf - D).clip(min=0)\n",
    "    up_dip = (U - ecdf).clip(min=0)\n",
    "    both_dips = np.column_stack((low_dip, up_dip))\n",
    "    \n",
    "    # The dip statistic is the maximum difference over all data points\n",
    "    dip = np.max(both_dips)\n",
    "    \n",
    "    return dip"
   ]
  },
  {
   "cell_type": "code",
   "execution_count": 5,
   "metadata": {},
   "outputs": [
    {
     "name": "stdout",
     "output_type": "stream",
     "text": [
      "../rcv_elections_database/CandidateDetails.csv\n",
      "Error in file: ../rcv_elections_database/CandidateDetails.csv\n",
      "zero-size array to reduction operation minimum which has no identity\n",
      "../rcv_elections_database/SingleWinnerRCV.csv\n",
      "Error in file: ../rcv_elections_database/SingleWinnerRCV.csv\n",
      "zero-size array to reduction operation minimum which has no identity\n",
      "../rcv_elections_database/MatchedElections.csv\n",
      "Error in file: ../rcv_elections_database/MatchedElections.csv\n",
      "zero-size array to reduction operation minimum which has no identity\n",
      "../rcv_elections_database/SequentialRCV.csv\n",
      "Error in file: ../rcv_elections_database/SequentialRCV.csv\n",
      "zero-size array to reduction operation minimum which has no identity\n",
      "../rcv_elections_database/ProportionalRCV.csv\n",
      "Error in file: ../rcv_elections_database/ProportionalRCV.csv\n",
      "zero-size array to reduction operation minimum which has no identity\n",
      "../rcv_elections_database/proportional/Minneapolis_11072017_BoardofEstimateandTaxation.csv\n",
      "Skipping file: ../rcv_elections_database/proportional/Minneapolis_11072017_BoardofEstimateandTaxation.csv\n",
      "../rcv_elections_database/proportional/Minneapolis_11072017_ParkBoardAtLarge.csv\n",
      "Skipping file: ../rcv_elections_database/proportional/Minneapolis_11072017_ParkBoardAtLarge.csv\n",
      "../rcv_elections_database/proportional/Cambridge_11082011_CityCouncil.csv\n",
      "Skipping file: ../rcv_elections_database/proportional/Cambridge_11082011_CityCouncil.csv\n",
      "../rcv_elections_database/proportional/Minneapolis_11022021_BoardofEstimateandTaxationAtLarge.csv\n",
      "Skipping file: ../rcv_elections_database/proportional/Minneapolis_11022021_BoardofEstimateandTaxationAtLarge.csv\n",
      "../rcv_elections_database/proportional/Cambridge_11152019_CityCouncil.csv\n",
      "Skipping file: ../rcv_elections_database/proportional/Cambridge_11152019_CityCouncil.csv\n",
      "../rcv_elections_database/proportional/Minneapolis_11062009_BoardofEstimateandTaxation.csv\n",
      "Skipping file: ../rcv_elections_database/proportional/Minneapolis_11062009_BoardofEstimateandTaxation.csv\n",
      "../rcv_elections_database/proportional/Cambridge_11072017_CityCouncil.csv\n",
      "Skipping file: ../rcv_elections_database/proportional/Cambridge_11072017_CityCouncil.csv\n",
      "../rcv_elections_database/proportional/Cambridge_11062001_CityCouncil.csv\n",
      "Skipping file: ../rcv_elections_database/proportional/Cambridge_11062001_CityCouncil.csv\n",
      "../rcv_elections_database/proportional/Cambridge_11032009_CityCouncil.csv\n",
      "Skipping file: ../rcv_elections_database/proportional/Cambridge_11032009_CityCouncil.csv\n",
      "../rcv_elections_database/proportional/Cambridge_11062007_SchoolCommittee.csv\n",
      "Skipping file: ../rcv_elections_database/proportional/Cambridge_11062007_SchoolCommittee.csv\n",
      "../rcv_elections_database/proportional/Cambridge_11052013_SchoolCommittee.csv\n",
      "Skipping file: ../rcv_elections_database/proportional/Cambridge_11052013_SchoolCommittee.csv\n",
      "../rcv_elections_database/proportional/Eastpointe_11022021_CityCouncil.csv\n",
      "Skipping file: ../rcv_elections_database/proportional/Eastpointe_11022021_CityCouncil.csv\n",
      "../rcv_elections_database/proportional/Cambridge_11062007_CityCouncil.csv\n",
      "Skipping file: ../rcv_elections_database/proportional/Cambridge_11062007_CityCouncil.csv\n",
      "../rcv_elections_database/proportional/Cambridge_11152019_SchoolCommittee.csv\n",
      "Skipping file: ../rcv_elections_database/proportional/Cambridge_11152019_SchoolCommittee.csv\n",
      "../rcv_elections_database/proportional/Cambridge_11032015_SchoolCommittee.csv\n",
      "Skipping file: ../rcv_elections_database/proportional/Cambridge_11032015_SchoolCommittee.csv\n",
      "../rcv_elections_database/proportional/Cambridge_11082011_SchoolCommittee.csv\n",
      "Skipping file: ../rcv_elections_database/proportional/Cambridge_11082011_SchoolCommittee.csv\n",
      "../rcv_elections_database/proportional/Minneapolis_11052013_ParkRecBoardAtLarge.csv\n",
      "Skipping file: ../rcv_elections_database/proportional/Minneapolis_11052013_ParkRecBoardAtLarge.csv\n",
      "../rcv_elections_database/proportional/Eastpointe_11052019_CityCouncil.csv\n",
      "Skipping file: ../rcv_elections_database/proportional/Eastpointe_11052019_CityCouncil.csv\n",
      "../rcv_elections_database/proportional/Cambridge_11052013_CityCouncil.csv\n",
      "Skipping file: ../rcv_elections_database/proportional/Cambridge_11052013_CityCouncil.csv\n",
      "../rcv_elections_database/proportional/Minneapolis_11062009_MinneapolisParkRecBoard.csv\n",
      "Skipping file: ../rcv_elections_database/proportional/Minneapolis_11062009_MinneapolisParkRecBoard.csv\n",
      "../rcv_elections_database/proportional/Cambridge_11042003_SchoolCommittee.csv\n",
      "Skipping file: ../rcv_elections_database/proportional/Cambridge_11042003_SchoolCommittee.csv\n",
      "../rcv_elections_database/proportional/Cambridge_11072017_SchoolCommittee.csv\n",
      "Skipping file: ../rcv_elections_database/proportional/Cambridge_11072017_SchoolCommittee.csv\n",
      "../rcv_elections_database/proportional/Cambridge_11032015_CityCouncil.csv\n",
      "Skipping file: ../rcv_elections_database/proportional/Cambridge_11032015_CityCouncil.csv\n",
      "../rcv_elections_database/proportional/Cambridge_11082005_CityCouncil.csv\n",
      "Skipping file: ../rcv_elections_database/proportional/Cambridge_11082005_CityCouncil.csv\n",
      "../rcv_elections_database/proportional/Minneapolis 2013-board of estimation and taxation cvr.csv\n",
      "Skipping file: ../rcv_elections_database/proportional/Minneapolis 2013-board of estimation and taxation cvr.csv\n",
      "../rcv_elections_database/proportional/Cambridge_11042003_CityCouncil.csv\n",
      "Skipping file: ../rcv_elections_database/proportional/Cambridge_11042003_CityCouncil.csv\n",
      "../rcv_elections_database/proportional/Cambridge_11082005_SchoolCommittee.csv\n",
      "Skipping file: ../rcv_elections_database/proportional/Cambridge_11082005_SchoolCommittee.csv\n",
      "../rcv_elections_database/classic/Albany_11082022_CityCouncil.csv\n",
      "Skipping file: ../rcv_elections_database/classic/Albany_11082022_CityCouncil.csv\n",
      "../rcv_elections_database/classic/Alaska_08162022_HouseofRepresentativesSpecial.csv\n",
      "Skipping file: ../rcv_elections_database/classic/Alaska_08162022_HouseofRepresentativesSpecial.csv\n",
      "../rcv_elections_database/classic/Portland_06142022_SchoolboardAL-1.csv\n",
      "Skipping file: ../rcv_elections_database/classic/Portland_06142022_SchoolboardAL-1.csv\n",
      "../rcv_elections_database/classic/Maine_11062018_CongressionalDistrict2.csv\n",
      "Skipping file: ../rcv_elections_database/classic/Maine_11062018_CongressionalDistrict2.csv\n",
      "../rcv_elections_database/classic/Portland_06082021_charter_commission_at_large.csv\n",
      "Skipping file: ../rcv_elections_database/classic/Portland_06082021_charter_commission_at_large.csv\n",
      "../rcv_elections_database/classic/LasCruces_11052019_MAYORCITYOFLASCRUCES.csv\n",
      "Skipping file: ../rcv_elections_database/classic/LasCruces_11052019_MAYORCITYOFLASCRUCES.csv\n",
      "../rcv_elections_database/classic/Minneapolis_11052013_Mayor.csv\n",
      "Skipping file: ../rcv_elections_database/classic/Minneapolis_11052013_Mayor.csv\n",
      "../rcv_elections_database/classic/Alaska_11082022_USRepresentative.csv\n",
      "Skipping file: ../rcv_elections_database/classic/Alaska_11082022_USRepresentative.csv\n",
      "../rcv_elections_database/classic/TakomaPark_11082022_Mayor.csv\n",
      "Skipping file: ../rcv_elections_database/classic/TakomaPark_11082022_Mayor.csv\n",
      "../rcv_elections_database/classic/Easthampton_11022021_Mayor.csv\n",
      "Skipping file: ../rcv_elections_database/classic/Easthampton_11022021_Mayor.csv\n",
      "../rcv_elections_database/classic/Vineyard_11052019_CityCouncil.csv\n",
      "Skipping file: ../rcv_elections_database/classic/Vineyard_11052019_CityCouncil.csv\n",
      "../rcv_elections_database/classic/NewYorkCity_06222021_DEMBoroughPresidentNewYork.csv\n",
      "Skipping file: ../rcv_elections_database/classic/NewYorkCity_06222021_DEMBoroughPresidentNewYork.csv\n",
      "../rcv_elections_database/classic/Alaska_04102020_PRESIDENTOFTHEUNITEDSTATES.csv\n",
      "Skipping file: ../rcv_elections_database/classic/Alaska_04102020_PRESIDENTOFTHEUNITEDSTATES.csv\n",
      "../rcv_elections_database/classic/Payson_11052019_CityCouncil.csv\n",
      "Skipping file: ../rcv_elections_database/classic/Payson_11052019_CityCouncil.csv\n",
      "../rcv_elections_database/classic/SanFrancisco_11032020_BOARDOFSUPERVISORSDISTRICT7.csv\n",
      "Skipping file: ../rcv_elections_database/classic/SanFrancisco_11032020_BOARDOFSUPERVISORSDISTRICT7.csv\n",
      "../rcv_elections_database/classic/custom.csv\n"
     ]
    },
    {
     "name": "stderr",
     "output_type": "stream",
     "text": [
      "/Users/es5891/Documents/GitHub/bugs-in-democracy/rcv_exploration/../rcv_learning/rcv_dimensionality.py:177: RuntimeWarning: invalid value encountered in divide\n",
      "  frequencies = counts / mentioned_together\n",
      "/Users/es5891/Documents/GitHub/bugs-in-democracy/rcv_exploration/../rcv_learning/rcv_dimensionality.py:188: RuntimeWarning: divide by zero encountered in divide\n",
      "  distance = 1 / np.sqrt(freq_upper_triangle)\n"
     ]
    },
    {
     "name": "stdout",
     "output_type": "stream",
     "text": [
      "Normalized distances: {'A': 0.0, 'B': 0.874169501109096, 'C': 2.035754581756886, 'D': 3.0}\n"
     ]
    },
    {
     "name": "stderr",
     "output_type": "stream",
     "text": [
      "/Users/es5891/Documents/GitHub/bugs-in-democracy/rcv_exploration/../rcv_learning/rcv_dimensionality.py:188: RuntimeWarning: divide by zero encountered in divide\n",
      "  distance = 1 / np.sqrt(freq_upper_triangle)\n"
     ]
    },
    {
     "name": "stdout",
     "output_type": "stream",
     "text": [
      "Consistency points: {0.4240058489984423: 1, 1.1881589898130878: 1, 2.076982207417372: 1}\n",
      "Error in file: ../rcv_elections_database/classic/custom.csv\n",
      "unsupported operand type(s) for -: 'float' and 'NoneType'\n",
      "../rcv_elections_database/sequential/Vineyard_11052019_CityCouncil_tab2.csv\n",
      "Error in file: ../rcv_elections_database/sequential/Vineyard_11052019_CityCouncil_tab2.csv\n",
      "zero-size array to reduction operation minimum which has no identity\n",
      "../rcv_elections_database/sequential/Payson_11052019_CityCouncil_tab1.csv\n",
      "Error in file: ../rcv_elections_database/sequential/Payson_11052019_CityCouncil_tab1.csv\n",
      "zero-size array to reduction operation minimum which has no identity\n",
      "../rcv_elections_database/sequential/WoodlandHills_11022021_CityCouncil.csv\n",
      "Skipping file: ../rcv_elections_database/sequential/WoodlandHills_11022021_CityCouncil.csv\n",
      "../rcv_elections_database/sequential/Vineyard_11052019_CityCouncil_tab1.csv\n",
      "Error in file: ../rcv_elections_database/sequential/Vineyard_11052019_CityCouncil_tab1.csv\n",
      "zero-size array to reduction operation minimum which has no identity\n",
      "../rcv_elections_database/sequential/Payson_11052019_CityCouncil_tab2.csv\n",
      "Error in file: ../rcv_elections_database/sequential/Payson_11052019_CityCouncil_tab2.csv\n",
      "zero-size array to reduction operation minimum which has no identity\n",
      "../rcv_elections_database/sequential/Payson_11052019_CityCouncil_tab3.csv\n",
      "Error in file: ../rcv_elections_database/sequential/Payson_11052019_CityCouncil_tab3.csv\n",
      "zero-size array to reduction operation minimum which has no identity\n",
      "../rcv_elections_database/sequential/Springville_11022021_CityCouncil4yr.csv\n",
      "Skipping file: ../rcv_elections_database/sequential/Springville_11022021_CityCouncil4yr.csv\n",
      "../rcv_elections_database/sequential/Vineyard_11022021_CityCouncil.csv\n",
      "Skipping file: ../rcv_elections_database/sequential/Vineyard_11022021_CityCouncil.csv\n",
      "../rcv_elections_database/sequential/Genola_11022021_CityCouncil.csv\n",
      "Skipping file: ../rcv_elections_database/sequential/Genola_11022021_CityCouncil.csv\n",
      "../rcv_elections_database/sequential/Portland_06142022_Schoolboarddistrict5.csv\n"
     ]
    },
    {
     "name": "stderr",
     "output_type": "stream",
     "text": [
      "/Users/es5891/Documents/GitHub/bugs-in-democracy/rcv_exploration/../rcv_learning/rcv_dimensionality.py:177: RuntimeWarning: divide by zero encountered in divide\n",
      "  frequencies = counts / mentioned_together\n",
      "/Users/es5891/Documents/GitHub/bugs-in-democracy/rcv_exploration/../rcv_learning/rcv_dimensionality.py:177: RuntimeWarning: invalid value encountered in divide\n",
      "  frequencies = counts / mentioned_together\n",
      "/Users/es5891/Documents/GitHub/bugs-in-democracy/rcv_exploration/../rcv_learning/rcv_dimensionality.py:188: RuntimeWarning: divide by zero encountered in divide\n",
      "  distance = 1 / np.sqrt(freq_upper_triangle)\n"
     ]
    },
    {
     "name": "stdout",
     "output_type": "stream",
     "text": [
      "Normalized distances: {'20008': 0.0, 'Ballot Style': 0.5288516898491684, 'SCHOOL BOARD DISTRICT 5': 1.5681140490283991, '20006': 2.607376408207635, '20004': 4.165807182831902, 'Brydon, Sarah M.': 5.732320727535464, 'Capone-Newton, Elizabeth': 6.763761381989198, 'Haefele, Joshua W.': 6.764342567968027, '20007': 7.803688204020163, 'Goglin, Barbara E.': 7.804750629952954, 'Viola, Lou A.': 7.80589955084418, '20003': 10.921475281641527, 'Capone-Newton, Elizabeth A.': 11.96073764082076, '20002': 13.0}\n"
     ]
    },
    {
     "name": "stderr",
     "output_type": "stream",
     "text": [
      "/Users/es5891/Documents/GitHub/bugs-in-democracy/rcv_exploration/../rcv_learning/rcv_dimensionality.py:177: RuntimeWarning: divide by zero encountered in divide\n",
      "  frequencies = counts / mentioned_together\n",
      "/Users/es5891/Documents/GitHub/bugs-in-democracy/rcv_exploration/../rcv_learning/rcv_dimensionality.py:177: RuntimeWarning: invalid value encountered in divide\n",
      "  frequencies = counts / mentioned_together\n",
      "/Users/es5891/Documents/GitHub/bugs-in-democracy/rcv_exploration/../rcv_learning/rcv_dimensionality.py:188: RuntimeWarning: divide by zero encountered in divide\n",
      "  distance = 1 / np.sqrt(freq_upper_triangle)\n"
     ]
    },
    {
     "name": "stdout",
     "output_type": "stream",
     "text": [
      "Consistency points: {7.802411026735905: 116, 7.80002004648965: 66, 7.800322185742245: 38, 7.0256059580320676: 10, 7.025543269030309: 192, 7.0258411770614435: 26, 7.025692223045876: 40, 6.767384343210528: 416, 7.799724440680682: 6, 7.0254447337606525: 16, 7.801211678614188: 51, 7.799625905411025: 62, 7.0261410140918725: 15, 7.801511515644617: 6, 7.800617791551214: 4, 7.025568478403264: 2, 7.800172267227031: 1, 7.025842141561091: 3, 7.025792873926262: 2, 6.830501046226517: 3, 7.02549400139548: 4, 7.800022348711816: 3, 7.800317954520785: 2, 7.0256429554110476: 4, 7.025991095576658: 1, 7.800467873035999: 1, 7.801313293994222: 3, 11.180064830654894: 1, 4.680296368708068: 1, 1.8210375053491097: 1, 6.634661902978565: 1, 4.025189994642965: 1}\n",
      "../rcv_elections_database/sequential/Moab_11022021_CityCouncil.csv\n",
      "Skipping file: ../rcv_elections_database/sequential/Moab_11022021_CityCouncil.csv\n",
      "../rcv_elections_database/sequential/Portland_06142022_SchoolboardAL.csv\n",
      "Skipping file: ../rcv_elections_database/sequential/Portland_06142022_SchoolboardAL.csv\n",
      "../rcv_elections_database/sequential/Lehi_11022021_CityCouncil.csv\n",
      "Skipping file: ../rcv_elections_database/sequential/Lehi_11022021_CityCouncil.csv\n",
      "../rcv_elections_database/single/SanFrancisco_11022010_BoardofSupervisorsDistrict6.csv\n",
      "Skipping file: ../rcv_elections_database/single/SanFrancisco_11022010_BoardofSupervisorsDistrict6.csv\n",
      "../rcv_elections_database/single/Oakland_11042014_SchoolDirectorDistrict2.csv\n"
     ]
    },
    {
     "name": "stderr",
     "output_type": "stream",
     "text": [
      "/Users/es5891/Documents/GitHub/bugs-in-democracy/rcv_exploration/../rcv_learning/rcv_dimensionality.py:188: RuntimeWarning: divide by zero encountered in divide\n",
      "  distance = 1 / np.sqrt(freq_upper_triangle)\n"
     ]
    },
    {
     "name": "stdout",
     "output_type": "stream",
     "text": [
      "Normalized distances: {'AIMEE ENG': 0.0, \"WILLIAM ''BO'' GHIRARDELLI\": 1.0}\n"
     ]
    },
    {
     "name": "stderr",
     "output_type": "stream",
     "text": [
      "/Users/es5891/Documents/GitHub/bugs-in-democracy/rcv_exploration/../rcv_learning/rcv_dimensionality.py:188: RuntimeWarning: divide by zero encountered in divide\n",
      "  distance = 1 / np.sqrt(freq_upper_triangle)\n"
     ]
    },
    {
     "name": "stdout",
     "output_type": "stream",
     "text": [
      "Consistency points: {1.0: 5075, 0.0: 1281, 0.25: 1523}\n",
      "../rcv_elections_database/single/Albany_11082022_CityCouncil.csv\n",
      "Skipping file: ../rcv_elections_database/single/Albany_11082022_CityCouncil.csv\n",
      "../rcv_elections_database/single/Berkeley_11032020_MemberCityCouncilDist2BerkeleyRCV.csv\n",
      "Skipping file: ../rcv_elections_database/single/Berkeley_11032020_MemberCityCouncilDist2BerkeleyRCV.csv\n",
      "../rcv_elections_database/single/Berkeley_11042014_CityAuditor.csv\n",
      "Error in file: ../rcv_elections_database/single/Berkeley_11042014_CityAuditor.csv\n",
      "zero-size array to reduction operation minimum which has no identity\n",
      "../rcv_elections_database/single/Alaska_11082022_HouseDistrict23.csv\n",
      "Skipping file: ../rcv_elections_database/single/Alaska_11082022_HouseDistrict23.csv\n",
      "../rcv_elections_database/single/Berkeley_11042014_CityCouncilDistrict8.csv\n",
      "Skipping file: ../rcv_elections_database/single/Berkeley_11042014_CityCouncilDistrict8.csv\n",
      "../rcv_elections_database/single/Alaska_11082022_HouseDistrict37.csv\n",
      "Error in file: ../rcv_elections_database/single/Alaska_11082022_HouseDistrict37.csv\n",
      "zero-size array to reduction operation minimum which has no identity\n",
      "../rcv_elections_database/single/Minneapolis_11072017_Ward6CityCouncil.csv\n",
      "Skipping file: ../rcv_elections_database/single/Minneapolis_11072017_Ward6CityCouncil.csv\n",
      "../rcv_elections_database/single/Oakland_11082016_CouncilAtLrg.csv\n",
      "Skipping file: ../rcv_elections_database/single/Oakland_11082016_CouncilAtLrg.csv\n",
      "../rcv_elections_database/single/SanFrancisco_11082016_BoardofSupervisorsDistrict7.csv\n",
      "Skipping file: ../rcv_elections_database/single/SanFrancisco_11082016_BoardofSupervisorsDistrict7.csv\n",
      "../rcv_elections_database/single/Minneapolis_11072017_Mayor.csv\n",
      "Skipping file: ../rcv_elections_database/single/Minneapolis_11072017_Mayor.csv\n",
      "../rcv_elections_database/single/Berkeley_11062018_CityCouncilDistrict1.csv\n",
      "Skipping file: ../rcv_elections_database/single/Berkeley_11062018_CityCouncilDistrict1.csv\n",
      "../rcv_elections_database/single/NewYorkCity_06222021_REPCouncilMember23rdCouncilDistrict.csv\n",
      "Skipping file: ../rcv_elections_database/single/NewYorkCity_06222021_REPCouncilMember23rdCouncilDistrict.csv\n",
      "../rcv_elections_database/single/Hawaii_05232020_PresidentoftheUnitedStateCD1.csv\n",
      "Skipping file: ../rcv_elections_database/single/Hawaii_05232020_PresidentoftheUnitedStateCD1.csv\n",
      "../rcv_elections_database/single/Minneapolis_11062009_PRBoardDistrict6.csv\n",
      "Skipping file: ../rcv_elections_database/single/Minneapolis_11062009_PRBoardDistrict6.csv\n",
      "../rcv_elections_database/single/SanFrancisco_06052018_Mayor.csv\n",
      "Skipping file: ../rcv_elections_database/single/SanFrancisco_06052018_Mayor.csv\n",
      "../rcv_elections_database/single/Minneapolis_11062009_Ward10CityCouncil.csv\n",
      "Skipping file: ../rcv_elections_database/single/Minneapolis_11062009_Ward10CityCouncil.csv\n",
      "../rcv_elections_database/single/Minneapolis_11052013_PRBoardDistrict2.csv\n",
      "Skipping file: ../rcv_elections_database/single/Minneapolis_11052013_PRBoardDistrict2.csv\n",
      "../rcv_elections_database/single/LasCruces_11052019_COUNCILORPOSITION2CITYOFLASCRUCESDISTRICT2COUNCILOR.csv\n",
      "Skipping file: ../rcv_elections_database/single/LasCruces_11052019_COUNCILORPOSITION2CITYOFLASCRUCESDISTRICT2COUNCILOR.csv\n",
      "../rcv_elections_database/single/Maine_07142020_DemocraticCandidateforMaineStateHouseDistrict90.csv\n",
      "Skipping file: ../rcv_elections_database/single/Maine_07142020_DemocraticCandidateforMaineStateHouseDistrict90.csv\n",
      "../rcv_elections_database/single/NewYorkCity_06222021_DEMCouncilMember27thCouncilDistrict.csv\n",
      "Skipping file: ../rcv_elections_database/single/NewYorkCity_06222021_DEMCouncilMember27thCouncilDistrict.csv\n",
      "../rcv_elections_database/single/SanFrancisco_11032020_BOARDOFSUPERVISORSDISTRICT9.csv\n"
     ]
    },
    {
     "name": "stderr",
     "output_type": "stream",
     "text": [
      "/Users/es5891/Documents/GitHub/bugs-in-democracy/rcv_exploration/../rcv_learning/rcv_dimensionality.py:188: RuntimeWarning: divide by zero encountered in divide\n",
      "  distance = 1 / np.sqrt(freq_upper_triangle)\n"
     ]
    },
    {
     "name": "stdout",
     "output_type": "stream",
     "text": [
      "Normalized distances: {'BUD RYERSON': 0.0, 'HILLARY RONEN': 1.0}\n"
     ]
    },
    {
     "name": "stderr",
     "output_type": "stream",
     "text": [
      "/Users/es5891/Documents/GitHub/bugs-in-democracy/rcv_exploration/../rcv_learning/rcv_dimensionality.py:188: RuntimeWarning: divide by zero encountered in divide\n",
      "  distance = 1 / np.sqrt(freq_upper_triangle)\n"
     ]
    },
    {
     "name": "stdout",
     "output_type": "stream",
     "text": [
      "Consistency points: {0.0: 29210, 1.0: 59, 0.25: 2}\n",
      "Error in file: ../rcv_elections_database/single/SanFrancisco_11032020_BOARDOFSUPERVISORSDISTRICT9.csv\n",
      "unsupported operand type(s) for -: 'float' and 'NoneType'\n",
      "../rcv_elections_database/single/Oakland_11062012_CityAttorney.csv\n"
     ]
    },
    {
     "name": "stderr",
     "output_type": "stream",
     "text": [
      "/Users/es5891/Documents/GitHub/bugs-in-democracy/rcv_exploration/../rcv_learning/rcv_dimensionality.py:188: RuntimeWarning: divide by zero encountered in divide\n",
      "  distance = 1 / np.sqrt(freq_upper_triangle)\n"
     ]
    },
    {
     "name": "stdout",
     "output_type": "stream",
     "text": [
      "Normalized distances: {'JANE BRUNNER': 0.0, 'BARBARA PARKER': 1.0}\n"
     ]
    },
    {
     "name": "stderr",
     "output_type": "stream",
     "text": [
      "/Users/es5891/Documents/GitHub/bugs-in-democracy/rcv_exploration/../rcv_learning/rcv_dimensionality.py:188: RuntimeWarning: divide by zero encountered in divide\n",
      "  distance = 1 / np.sqrt(freq_upper_triangle)\n"
     ]
    },
    {
     "name": "stdout",
     "output_type": "stream",
     "text": [
      "Consistency points: {0.0: 51876, 1.0: 17806, 0.25: 38422}\n",
      "Error in file: ../rcv_elections_database/single/Oakland_11062012_CityAttorney.csv\n",
      "unsupported operand type(s) for -: 'float' and 'NoneType'\n",
      "../rcv_elections_database/single/Alaska_11082022_HouseDistrict36.csv\n",
      "Skipping file: ../rcv_elections_database/single/Alaska_11082022_HouseDistrict36.csv\n",
      "../rcv_elections_database/single/Alaska_11082022_HouseDistrict22.csv\n"
     ]
    },
    {
     "name": "stderr",
     "output_type": "stream",
     "text": [
      "/Users/es5891/Documents/GitHub/bugs-in-democracy/rcv_exploration/../rcv_learning/rcv_dimensionality.py:188: RuntimeWarning: divide by zero encountered in divide\n",
      "  distance = 1 / np.sqrt(freq_upper_triangle)\n"
     ]
    },
    {
     "name": "stdout",
     "output_type": "stream",
     "text": [
      "Normalized distances: {'Wright, Stanley A.': 0.0, 'Eischeid, Ted J.': 1.0}\n"
     ]
    },
    {
     "name": "stderr",
     "output_type": "stream",
     "text": [
      "/Users/es5891/Documents/GitHub/bugs-in-democracy/rcv_exploration/../rcv_learning/rcv_dimensionality.py:188: RuntimeWarning: divide by zero encountered in divide\n",
      "  distance = 1 / np.sqrt(freq_upper_triangle)\n"
     ]
    },
    {
     "name": "stdout",
     "output_type": "stream",
     "text": [
      "Consistency points: {1.0: 1476, 0.25: 524, 0.0: 1329}\n",
      "Error in file: ../rcv_elections_database/single/Alaska_11082022_HouseDistrict22.csv\n",
      "unsupported operand type(s) for -: 'float' and 'NoneType'\n",
      "../rcv_elections_database/single/Berkeley_11082016_Mayor.csv\n",
      "Skipping file: ../rcv_elections_database/single/Berkeley_11082016_Mayor.csv\n",
      "../rcv_elections_database/single/Maine_07142020_DemocraticCandidateforMaineStateHouseDistrict47.csv\n",
      "Skipping file: ../rcv_elections_database/single/Maine_07142020_DemocraticCandidateforMaineStateHouseDistrict47.csv\n",
      "../rcv_elections_database/single/SantaFe_03062018_Mayor.csv\n",
      "Skipping file: ../rcv_elections_database/single/SantaFe_03062018_Mayor.csv\n",
      "../rcv_elections_database/single/Maine_11082022_CongressionalDistrict2.csv\n",
      "Skipping file: ../rcv_elections_database/single/Maine_11082022_CongressionalDistrict2.csv\n",
      "../rcv_elections_database/single/Springville_11022021_Mayor.csv\n",
      "Skipping file: ../rcv_elections_database/single/Springville_11022021_Mayor.csv\n",
      "../rcv_elections_database/single/LasCruces_11052019_COUNCILORPOSITION4CITYOFLASCRUCESDISTRICT4COUNCILOR.csv\n",
      "Skipping file: ../rcv_elections_database/single/LasCruces_11052019_COUNCILORPOSITION4CITYOFLASCRUCESDISTRICT4COUNCILOR.csv\n",
      "../rcv_elections_database/single/SanLeandro_11062018_Mayor.csv\n",
      "Skipping file: ../rcv_elections_database/single/SanLeandro_11062018_Mayor.csv\n",
      "../rcv_elections_database/single/SantaFe_03062018_CityCouncilDistrict4.csv\n",
      "Skipping file: ../rcv_elections_database/single/SantaFe_03062018_CityCouncilDistrict4.csv\n",
      "../rcv_elections_database/single/Corvallis_11082022_CityCouncilWard9.csv\n",
      "Skipping file: ../rcv_elections_database/single/Corvallis_11082022_CityCouncilWard9.csv\n",
      "../rcv_elections_database/single/Oakland_11022010_SchoolDirectorDistrict6.csv\n",
      "Error in file: ../rcv_elections_database/single/Oakland_11022010_SchoolDirectorDistrict6.csv\n",
      "zero-size array to reduction operation minimum which has no identity\n",
      "../rcv_elections_database/single/Oakland_11022010_SchoolDirectorDistrict4.csv\n"
     ]
    },
    {
     "name": "stderr",
     "output_type": "stream",
     "text": [
      "/Users/es5891/Documents/GitHub/bugs-in-democracy/rcv_exploration/../rcv_learning/rcv_dimensionality.py:188: RuntimeWarning: divide by zero encountered in divide\n",
      "  distance = 1 / np.sqrt(freq_upper_triangle)\n"
     ]
    },
    {
     "name": "stdout",
     "output_type": "stream",
     "text": [
      "Normalized distances: {'BENJAMIN VISNICK': 0.0, 'GARY D. YEE': 1.0}\n"
     ]
    },
    {
     "name": "stderr",
     "output_type": "stream",
     "text": [
      "/Users/es5891/Documents/GitHub/bugs-in-democracy/rcv_exploration/../rcv_learning/rcv_dimensionality.py:188: RuntimeWarning: divide by zero encountered in divide\n",
      "  distance = 1 / np.sqrt(freq_upper_triangle)\n"
     ]
    },
    {
     "name": "stdout",
     "output_type": "stream",
     "text": [
      "Consistency points: {0.25: 6961, 1.0: 2308, 0.0: 6106}\n",
      "Error in file: ../rcv_elections_database/single/Oakland_11022010_SchoolDirectorDistrict4.csv\n",
      "unsupported operand type(s) for -: 'float' and 'NoneType'\n",
      "../rcv_elections_database/single/Berkeley_11032020_MemberCityCouncilDist5BerkeleyRCV.csv\n",
      "Skipping file: ../rcv_elections_database/single/Berkeley_11032020_MemberCityCouncilDist5BerkeleyRCV.csv\n",
      "../rcv_elections_database/single/NewYorkCity_06222021_DEMCouncilMember33rdCouncilDistrict.csv\n",
      "Skipping file: ../rcv_elections_database/single/NewYorkCity_06222021_DEMCouncilMember33rdCouncilDistrict.csv\n",
      "../rcv_elections_database/single/Alaska_08162022_HouseofRepresentativesSpecial.csv\n",
      "Skipping file: ../rcv_elections_database/single/Alaska_08162022_HouseofRepresentativesSpecial.csv\n",
      "../rcv_elections_database/single/NewYorkCity_06222021_REPBoroughPresidentRichmond.csv\n"
     ]
    },
    {
     "name": "stderr",
     "output_type": "stream",
     "text": [
      "/Users/es5891/Documents/GitHub/bugs-in-democracy/rcv_exploration/../rcv_learning/rcv_dimensionality.py:188: RuntimeWarning: divide by zero encountered in divide\n",
      "  distance = 1 / np.sqrt(freq_upper_triangle)\n"
     ]
    },
    {
     "name": "stdout",
     "output_type": "stream",
     "text": [
      "Normalized distances: {'Vito Fossella': 0.0, 'Steven Matteo': 0.7462694119146447, 'Leticia M. Remauro': 1.68659476594723, 'Jhong U. Kim': 3.0}\n"
     ]
    },
    {
     "name": "stderr",
     "output_type": "stream",
     "text": [
      "/Users/es5891/Documents/GitHub/bugs-in-democracy/rcv_exploration/../rcv_learning/rcv_dimensionality.py:188: RuntimeWarning: divide by zero encountered in divide\n",
      "  distance = 1 / np.sqrt(freq_upper_triangle)\n"
     ]
    },
    {
     "name": "stdout",
     "output_type": "stream",
     "text": [
      "Consistency points: {0.3283513085131927: 14, 2.4402979410640167: 1308, 2.2537305880853555: 3034, 2.2406694446816453: 710, 3.0: 3472, 1.3134052340527709: 864, 0.0: 167, 1.735053925539578: 257, 1.6417702490502477: 142, 1.5596824219219494: 231, 1.3843109183043207: 34, 0.5634326470213389: 37, 2.3227572718099436: 264, 1.4897230911760224: 151, 1.548486572560917: 258, 1.5708782712829819: 21, 2.158581617553347: 74, 0.75: 34, 0.4925338160119311: 36, 0.4458919777672658: 12, 0.6567163235106694: 23, 0.5391756542565964: 7}\n",
      "../rcv_elections_database/single/NewYorkCity_06222021_DEMCouncilMember10thCouncilDistrict.csv\n"
     ]
    },
    {
     "name": "stderr",
     "output_type": "stream",
     "text": [
      "/Users/es5891/Documents/GitHub/bugs-in-democracy/rcv_exploration/../rcv_learning/rcv_dimensionality.py:188: RuntimeWarning: divide by zero encountered in divide\n",
      "  distance = 1 / np.sqrt(freq_upper_triangle)\n"
     ]
    },
    {
     "name": "stdout",
     "output_type": "stream",
     "text": [
      "Normalized distances: {'Carmen N. De La Rosa': 0.0, 'Angela Fernandez': 1.3345545447518736, 'Johanna Garcia': 1.404271735427867, 'Josue Perez': 2.300550372461281, 'Francesca M. Castellanos': 2.7557129322435587, 'Tirso S. Pina': 3.377489416932272, 'James E. Behr': 4.132380575172329, 'Thomas A. Leon': 7.0}\n"
     ]
    },
    {
     "name": "stderr",
     "output_type": "stream",
     "text": [
      "/Users/es5891/Documents/GitHub/bugs-in-democracy/rcv_exploration/../rcv_learning/rcv_dimensionality.py:188: RuntimeWarning: divide by zero encountered in divide\n",
      "  distance = 1 / np.sqrt(freq_upper_triangle)\n"
     ]
    },
    {
     "name": "stdout",
     "output_type": "stream",
     "text": [
      "Consistency points: {0.0: 3199, 0.5199980834589282: 35, 0.6320329130881048: 13, 1.4042717354278667: 1382, 1.7421320346317897: 33, 0.45561539367177606: 7, 0.35106793385696666: 616, 1.3345545447518732: 856, 4.132380575172328: 277, 2.7557129322435583: 130, 1.3519838424208714: 265, 1.033095143793082: 44, 1.8619275969908906: 4, 0.4631027634861433: 45, 3.3774894169322716: 124, 0.5258566384795605: 2, 1.6898441416247945: 19, 2.086298945363982: 61, 2.392463480460446: 4, 4.849285431379246: 17, 0.6920815388250243: 31, 2.0340110523569868: 20, 2.758507923139042: 8, 0.3423532850224675: 205, 2.444751373467441: 4, 1.75: 47, 0.5128600875064964: 6, 3.816784699182669: 6, 0.5112834346244289: 45, 7.0: 191, 1.5230248235308104: 13, 0.57513759311532: 76, 1.3600286512281659: 10, 0.3336386361879683: 294, 1.62834139468622: 62, 1.6852367146590048: 6, 0.6889282330608896: 42, 0.4268183598234482: 20, 2.30055037246128: 194, 1.4092341835852407: 11, 3.0998798429757506: 6, 0.3983706998370558: 16, 0.8610116884269858: 4, 0.6584906093469494: 1, 0.44624887496997045: 19, 0.6024731945323611: 5, 2.650102595932284: 1, 0.5977201440450173: 11, 4.416147518529697: 3, 0.5501444649174735: 2, 2.9111570534157365: 7, 0.5588591137519727: 3, 0.4320250449767743: 16, 0.7569356710641975: 1, 4.332737859482705: 4, 2.2822163370213677: 6, 0.8443723542330679: 55, 3.5662122064922857: 2, 1.8452882627969727: 15, 2.4143410124068496: 3, 0.5452871536260828: 3, 1.3915475718965409: 10, 1.4528074277577367: 16, 0.49155042347253575: 7, 0.7097549736741939: 7, 0.804116368454201: 5, 1.5760535016792248: 24, 0.5775921511555838: 5, 2.8032038015709: 15, 0.48926973881149455: 1, 0.510980938619058: 9, 1.336438302533164: 2, 0.4698392236649722: 16, 0.412594529830252: 31, 0.559452330690837: 12, 2.457750303949851: 4, 2.838825385492298: 2, 0.5452285006976408: 13, 0.6349002606519476: 10, 1.5665980677033062: 8, 0.6241843943399246: 23, 0.6720625694728393: 3, 1.8043063936676107: 2, 4.283117062699204: 1, 1.5974697311947632: 2, 1.6329488216520096: 1, 3.0592263398239283: 1, 1.8198540952178788: 1, 1.8367257915200903: 5, 2.664146528359035: 2, 0.6060398111419762: 3, 0.5890054952105181: 20, 1.6978889504320889: 2, 2.569785133579028: 9, 0.45438811465164414: 25, 4.508271826411188: 6, 2.6961647498730295: 1, 1.2971861771165338: 1, 2.5666929368852918: 1, 0.5688775023210846: 2, 1.3170077873866417: 6, 1.9142154899978858: 7, 1.5605079617915174: 2, 2.350389978687434: 1, 2.5759319387425377: 1, 1.1179599630648045: 1, 2.1267722158491895: 2, 0.5216968049310811: 4, 1.8975761558039679: 9, 1.613380877360655: 1, 0.6449008414350208: 1, 1.762958775245094: 8, 1.5761335328517618: 2, 0.5022662897845588: 3, 1.737104870187335: 1, 2.7646547283025518: 1, 2.92223504453929: 2, 0.9387337490130749: 2, 1.673711417512384: 2, 1.7220421888754847: 2, 0.5345712873140598: 4, 2.750915908563905: 7, 0.6154697455054253: 2, 0.8973008548228825: 2, 0.5304114537655803: 1, 0.7666502936469788: 1, 0.7840973991020159: 1, 1.991937550583975: 1, 0.597325162307477: 2, 0.5540018024605821: 1, 1.8612017136403955: 1, 1.2194641165304447: 5, 0.695652918167841: 1, 0.5737348136124752: 1, 2.930949693373789: 2, 1.8500583000487314: 1, 1.7265843330815216: 1, 2.92659236895654: 1, 0.6708939433811494: 1, 3.4754127793459597: 2, 1.7675662022108836: 1, 2.742226903813775: 1, 0.4656793901164928: 1, 0.7180746407711529: 2, 0.4828357746380365: 2, 4.4622096724704425: 1, 1.7189905493350577: 1, 0.8076877477970177: 1, 2.755415726445306: 1, 3.8609308855826696: 1, 4.499557177576689: 1}\n",
      "../rcv_elections_database/single/Alaska_11082022_HouseDistrict34.csv\n"
     ]
    },
    {
     "name": "stderr",
     "output_type": "stream",
     "text": [
      "/Users/es5891/Documents/GitHub/bugs-in-democracy/rcv_exploration/../rcv_learning/rcv_dimensionality.py:188: RuntimeWarning: divide by zero encountered in divide\n",
      "  distance = 1 / np.sqrt(freq_upper_triangle)\n"
     ]
    },
    {
     "name": "stdout",
     "output_type": "stream",
     "text": [
      "Normalized distances: {'Hopkins, Grier H.': 0.0, 'DeMars, Nate': 1.3192311307825006, 'Tomaszewski, Frank J.': 2.0}\n"
     ]
    },
    {
     "name": "stderr",
     "output_type": "stream",
     "text": [
      "/Users/es5891/Documents/GitHub/bugs-in-democracy/rcv_exploration/../rcv_learning/rcv_dimensionality.py:188: RuntimeWarning: divide by zero encountered in divide\n",
      "  distance = 1 / np.sqrt(freq_upper_triangle)\n"
     ]
    },
    {
     "name": "stdout",
     "output_type": "stream",
     "text": [
      "Consistency points: {0.0: 1410, 0.3350961086521874: 446, 2.0: 2190, 0.17019221730437487: 1589, 0.5: 55, 0.6807688692174995: 164, 1.0105766519131247: 6}\n",
      "Error in file: ../rcv_elections_database/single/Alaska_11082022_HouseDistrict34.csv\n",
      "unsupported operand type(s) for -: 'float' and 'NoneType'\n",
      "../rcv_elections_database/single/Alaska_11082022_HouseDistrict20.csv\n"
     ]
    },
    {
     "name": "stderr",
     "output_type": "stream",
     "text": [
      "/Users/es5891/Documents/GitHub/bugs-in-democracy/rcv_exploration/../rcv_learning/rcv_dimensionality.py:188: RuntimeWarning: divide by zero encountered in divide\n",
      "  distance = 1 / np.sqrt(freq_upper_triangle)\n"
     ]
    },
    {
     "name": "stdout",
     "output_type": "stream",
     "text": [
      "Normalized distances: {'Bauer, Paul A.': 0.0, 'Harary, Jordan I.': 0.823778563802245, 'Kohlhaas, Scott A.': 2.037026912092251, 'Gray, Andrew T.': 3.0}\n"
     ]
    },
    {
     "name": "stderr",
     "output_type": "stream",
     "text": [
      "/Users/es5891/Documents/GitHub/bugs-in-democracy/rcv_exploration/../rcv_learning/rcv_dimensionality.py:188: RuntimeWarning: divide by zero encountered in divide\n",
      "  distance = 1 / np.sqrt(freq_upper_triangle)\n"
     ]
    },
    {
     "name": "stdout",
     "output_type": "stream",
     "text": [
      "Consistency points: {0.35760068448681204: 98, 3.0: 1530, 0.0: 441, 2.0370269120922515: 67, 2.0746279802952974: 16, 2.023141820057657: 7, 2.2777701840691886: 24, 0.20594464095056125: 453, 0.823778563802245: 281, 1.2474622868632153: 8, 1.1601321701618257: 9, 0.75: 18, 0.5092567280230629: 18, 2.126114140532938: 6, 1.1270906508747467: 19, 1.024118330399466: 11, 1.3678339228516838: 16, 0.6296283640115314: 1}\n",
      "Error in file: ../rcv_elections_database/single/Alaska_11082022_HouseDistrict20.csv\n",
      "unsupported operand type(s) for -: 'float' and 'NoneType'\n",
      "../rcv_elections_database/single/Kansas_05022020_PRESIDENTOFTHEUNITEDSTATES.csv\n"
     ]
    },
    {
     "name": "stderr",
     "output_type": "stream",
     "text": [
      "/Users/es5891/Documents/GitHub/bugs-in-democracy/rcv_exploration/../rcv_learning/rcv_dimensionality.py:188: RuntimeWarning: divide by zero encountered in divide\n",
      "  distance = 1 / np.sqrt(freq_upper_triangle)\n"
     ]
    },
    {
     "name": "stdout",
     "output_type": "stream",
     "text": [
      "Normalized distances: {'Bernie Sanders': 0.0, 'Joseph R. Biden': 0.6241558201903713, 'Elizabeth Warren': 1.4169573677769634, 'Tulsi Gabbard': 3.0903000326417454, 'Uncommitted': 4.0}\n"
     ]
    },
    {
     "name": "stderr",
     "output_type": "stream",
     "text": [
      "/Users/es5891/Documents/GitHub/bugs-in-democracy/rcv_exploration/../rcv_learning/rcv_dimensionality.py:188: RuntimeWarning: divide by zero encountered in divide\n",
      "  distance = 1 / np.sqrt(freq_upper_triangle)\n"
     ]
    },
    {
     "name": "stdout",
     "output_type": "stream",
     "text": [
      "Consistency points: {0.2926675312952406: 7297, 2.1211205849853663: 68, 0.0: 33665, 0.9027773639835198: 3552, 0.8465128037147697: 2304, 0.3737068616617888: 9129, 1.6348846027860773: 494, 1.008591464447866: 1435, 4.0: 2794, 0.21162820092869242: 6835, 1.0998703137513468: 377, 0.42166970456732566: 3599, 0.39409859325485797: 3907, 1.0: 2282, 1.0447280911264114: 1532, 1.5246001575362063: 109, 1.4948274466471552: 268, 0.6868534308308945: 1373, 1.4143157122863355: 173, 0.5765689855810235: 1798, 1.072299202438879: 1669, 0.7794311095002583: 577, 1.7136982636547302: 81, 3.3382933285007748: 139, 3.117724438001033: 241, 0.8897155547501292: 159, 2.0108361397354955: 35, 0.6317112082059589: 191, 1.9005516944856247: 54, 3.0684580142821796: 24, 1.870271548239283: 12, 2.9485777737506456: 11, 3.054391874214992: 3, 3.1354312045815402: 5, 3.042004489166093: 3, 3.0949115393982662: 1, 3.001484823982819: 1}\n",
      "../rcv_elections_database/single/Hawaii_05232020_PresidentoftheUnitedStateCD2.csv\n"
     ]
    },
    {
     "name": "stderr",
     "output_type": "stream",
     "text": [
      "/Users/es5891/Documents/GitHub/bugs-in-democracy/rcv_exploration/../rcv_learning/rcv_dimensionality.py:188: RuntimeWarning: divide by zero encountered in divide\n",
      "  distance = 1 / np.sqrt(freq_upper_triangle)\n"
     ]
    },
    {
     "name": "stdout",
     "output_type": "stream",
     "text": [
      "Normalized distances: {'Deval Patrick': 0.0, 'Tom Steyer': 7.6109726769383315, 'Andrew Yang': 7.978089764408715, 'Joseph R. Biden': 8.20907006865058, 'Uncommitted': 8.224720677457496, 'Tulsi Gabbard': 8.332590476004528, 'Bernie Sanders': 8.424756299687704, 'Michael R.': 8.842800904044626, 'Amy Klobuchar': 9.271578707827118, 'Pete Buttigieg': 9.630465475318301, 'Elizabeth Warren': 10.0}\n"
     ]
    },
    {
     "name": "stderr",
     "output_type": "stream",
     "text": [
      "/Users/es5891/Documents/GitHub/bugs-in-democracy/rcv_exploration/../rcv_learning/rcv_dimensionality.py:188: RuntimeWarning: divide by zero encountered in divide\n",
      "  distance = 1 / np.sqrt(freq_upper_triangle)\n"
     ]
    },
    {
     "name": "stdout",
     "output_type": "stream",
     "text": [
      "Consistency points: {8.465960848908301: 65, 8.681322747658955: 3, 8.340191881006078: 85, 8.239950170489067: 88, 8.424756299687704: 1958, 8.262991626409862: 1297, 8.474697228444715: 57, 8.20907006865058: 5374, 8.81856722476578: 241, 8.512152664493513: 70, 8.636461901722559: 1, 8.315247201954477: 122, 7.70786904750283: 2, 8.311319342975846: 27, 8.656802551487935: 216, 8.211077632458835: 17, 7.978089764408715: 15, 10.0: 41, 8.519558074381113: 113, 8.355631931925322: 66, 8.610610735902723: 90, 8.251470898449465: 101, 8.224720677457496: 154, 8.565749889966325: 133, 8.870779000565994: 2, 8.332590476004528: 298, 9.271578707827118: 5, 8.564418920317511: 59, 8.842800904044626: 34, 8.21298272085231: 94, 8.035834840469182: 11, 8.421100002971905: 44, 8.960500692438789: 4, 9.228486819802846: 6, 8.234119088379629: 58, 8.078235670268064: 11, 8.29274060353506: 15, 8.367502777499093: 82, 8.658390195481786: 5, 9.630465475318301: 15, 8.727514563244167: 10, 9.13210067803347: 1, 9.291997912943039: 3, 8.962457018539654: 1, 8.342148207106943: 25, 9.199614281772613: 1, 8.066714942307668: 2, 8.872735326666858: 1, 8.529267450776935: 2, 8.726183593595353: 9, 7.6109726769383315: 1, 8.772375409180565: 30, 8.037791166570045: 1, 9.545174680655261: 12, 8.346322846199714: 2, 8.03974749267091: 3, 8.749442857003396: 5, 8.089756398228463: 6, 9.153724645838816: 1, 7.538285161736188: 9, 9.32087045097327: 7, 7.630668792906613: 8, 8.437375507721324: 2, 8.195609199245888: 1, 8.477135309076901: 1, 8.117176846182138: 1, 8.668540508093121: 1, 9.336310501892514: 1, 8.460143083014552: 5, 9.24392687072209: 1, 8.18822945244583: 14, 9.572135459534902: 4, 8.165187996525036: 4, 9.347831229852911: 3, 8.062795619348822: 5, 7.764409677068123: 1, 9.24610827700924: 1, 2.038835030051655: 1, 8.415830494065077: 8, 8.612198379896574: 1, 8.427544497933264: 3, 9.453684030870338: 2, 8.627725522186145: 3, 8.208229507703749: 1, 9.547131006756125: 1, 7.989945204535383: 1, 8.624460640751682: 1, 9.361300399699914: 1, 8.931628154408557: 2, 8.043866762294664: 2, 7.86667415817029: 1, 8.885738518474758: 1, 8.978122149645182: 1, 7.765472687304815: 2, 8.483567323306536: 1, 9.322826777074136: 1, 8.994856200926646: 1, 9.039717046863045: 3, 8.477698805513487: 1, 8.274729583015048: 2, 8.392514661784926: 1, 9.516302142625028: 3, 8.02082530637387: 1, 8.897739779445633: 3, 8.558601154423762: 1, 2.052267517162645: 1, 8.369940858131278: 1, 7.893310604763461: 1, 8.65705922583297: 2, 9.677988260552327: 1, 7.787457803746034: 1, 8.513740308487364: 1, 8.94999535499025: 1, 8.391183692136112: 1, 7.775937075785637: 1, 9.085908862448257: 1, 9.255447598682487: 1, 7.760497024866394: 1, 7.814418582625675: 1}\n",
      "../rcv_elections_database/single/NewYorkCity_06222021_DEMCouncilMember28thCouncilDistrict.csv\n"
     ]
    },
    {
     "name": "stderr",
     "output_type": "stream",
     "text": [
      "/Users/es5891/Documents/GitHub/bugs-in-democracy/rcv_exploration/../rcv_learning/rcv_dimensionality.py:188: RuntimeWarning: divide by zero encountered in divide\n",
      "  distance = 1 / np.sqrt(freq_upper_triangle)\n"
     ]
    },
    {
     "name": "stdout",
     "output_type": "stream",
     "text": [
      "Normalized distances: {'Adrienne E. Adams': 0.0, 'Ruben Wills': 0.7958279467619676, 'Japneet Singh': 2.0}\n"
     ]
    },
    {
     "name": "stderr",
     "output_type": "stream",
     "text": [
      "/Users/es5891/Documents/GitHub/bugs-in-democracy/rcv_exploration/../rcv_learning/rcv_dimensionality.py:188: RuntimeWarning: divide by zero encountered in divide\n",
      "  distance = 1 / np.sqrt(freq_upper_triangle)\n"
     ]
    },
    {
     "name": "stdout",
     "output_type": "stream",
     "text": [
      "Consistency points: {2.0: 2021, 0.5: 412, 0.34947849334524594: 1968, 0.7958279467619677: 1020, 0.0: 3005, 0.19895698669049192: 1278, 1.0968709600714757: 89}\n",
      "../rcv_elections_database/single/Minneapolis_11072017_Ward1CityCouncil.csv\n"
     ]
    },
    {
     "name": "stderr",
     "output_type": "stream",
     "text": [
      "/Users/es5891/Documents/GitHub/bugs-in-democracy/rcv_exploration/../rcv_learning/rcv_dimensionality.py:188: RuntimeWarning: divide by zero encountered in divide\n",
      "  distance = 1 / np.sqrt(freq_upper_triangle)\n"
     ]
    },
    {
     "name": "stdout",
     "output_type": "stream",
     "text": [
      "Normalized distances: {'John Hayden': 0.0, 'Jillia Pessenda': 1.2128630160954066, 'Kevin Reich': 2.0}\n"
     ]
    },
    {
     "name": "stderr",
     "output_type": "stream",
     "text": [
      "/Users/es5891/Documents/GitHub/bugs-in-democracy/rcv_exploration/../rcv_learning/rcv_dimensionality.py:188: RuntimeWarning: divide by zero encountered in divide\n",
      "  distance = 1 / np.sqrt(freq_upper_triangle)\n"
     ]
    },
    {
     "name": "stdout",
     "output_type": "stream",
     "text": [
      "Consistency points: {0.4016078770119258: 172, 2.0: 1262, 1.409647262071555: 1147, 1.2128630160954066: 906, 1.2580393850596292: 1116, 0.0: 316, 0.30321575402385165: 90, 0.5: 132}\n",
      "../rcv_elections_database/single/Minneapolis_11062009_PRBoardDistrict5.csv\n"
     ]
    },
    {
     "name": "stderr",
     "output_type": "stream",
     "text": [
      "/Users/es5891/Documents/GitHub/bugs-in-democracy/rcv_exploration/../rcv_learning/rcv_dimensionality.py:188: RuntimeWarning: divide by zero encountered in divide\n",
      "  distance = 1 / np.sqrt(freq_upper_triangle)\n"
     ]
    },
    {
     "name": "stdout",
     "output_type": "stream",
     "text": [
      "Normalized distances: {'Dan W. Peterson': 0.0, 'McClain Looney': 1.4507234680912389, 'Carol Kummer': 2.4404187432188955, 'Jason Stone': 3.0775615070549294, 'Steve Barland': 4.0}\n"
     ]
    },
    {
     "name": "stderr",
     "output_type": "stream",
     "text": [
      "/Users/es5891/Documents/GitHub/bugs-in-democracy/rcv_exploration/../rcv_learning/rcv_dimensionality.py:188: RuntimeWarning: divide by zero encountered in divide\n",
      "  distance = 1 / np.sqrt(freq_upper_triangle)\n"
     ]
    },
    {
     "name": "stdout",
     "output_type": "stream",
     "text": [
      "Consistency points: {0.0: 608, 0.5136072235862331: 23, 0.6949476570976381: 60, 0.38989531419527607: 259, 0.8186595664885952: 8, 0.6373191329771902: 9, 1.0: 15, 0.3102524687157719: 117, 0.43396437810672894: 18, 0.23060962323626769: 149, 1.3291480026859932: 13, 1.5595812567811043: 1383, 2.1696859425858284: 44, 1.6120574184653804: 30, 1.8070050755630185: 23, 1.9883455090744233: 27, 2.549276531908761: 61, 2.5932978324429756: 9, 2.7882454895406137: 7, 2.7086026440611093: 3, 2.9119573989315706: 3, 4.0: 162, 1.691828869708803: 10, 0.9224384929450707: 1238, 0.9664193722859453: 272, 1.0817241839040792: 411, 1.2054360932950363: 41, 1.5104884361973983: 19}\n",
      "../rcv_elections_database/single/NewYorkCity_06222021_DEMCouncilMember15thCouncilDistrict.csv\n"
     ]
    },
    {
     "name": "stderr",
     "output_type": "stream",
     "text": [
      "/Users/es5891/Documents/GitHub/bugs-in-democracy/rcv_exploration/../rcv_learning/rcv_dimensionality.py:188: RuntimeWarning: divide by zero encountered in divide\n",
      "  distance = 1 / np.sqrt(freq_upper_triangle)\n"
     ]
    },
    {
     "name": "stdout",
     "output_type": "stream",
     "text": [
      "Normalized distances: {'Kenny G. Agosto': 0.0, 'Ischia J. Bravo': 2.03869290615582, 'Oswald Feliz': 2.750738365674, 'Lillithe Lozano': 3.0885749099395388, 'John E. Sanchez': 3.501776083522886, 'Bernadette Ferrara': 3.9431614716864107, 'Troy Blackwell': 5.1100419649808995, 'Latchmi Devi Gopal': 7.0}\n"
     ]
    },
    {
     "name": "stderr",
     "output_type": "stream",
     "text": [
      "/Users/es5891/Documents/GitHub/bugs-in-democracy/rcv_exploration/../rcv_learning/rcv_dimensionality.py:188: RuntimeWarning: divide by zero encountered in divide\n",
      "  distance = 1 / np.sqrt(freq_upper_triangle)\n"
     ]
    },
    {
     "name": "stdout",
     "output_type": "stream",
     "text": [
      "Consistency points: {3.3629423426196965: 1041, 4.895135023226706: 523, 1.7217970475427187: 70, 2.745678222173133: 269, 3.745990512771449: 257, 5.229827182344153: 9, 0.0: 66, 4.565942142285119: 22, 3.022687799929513: 7, 3.4608541377264785: 36, 0.9973059987475912: 1, 4.188416413319537: 32, 2.8699209005627546: 3, 7.0: 46, 3.52902167028451: 4, 2.6546962696199143: 3, 3.7545895230468256: 282, 3.9528435433504803: 337, 3.6282040777869207: 84, 4.039725898091795: 18, 3.804153028122739: 14, 3.4856358902644358: 11, 1.2237837558066764: 4, 0.6864195555432833: 3, 3.433259627746572: 11, 0.8956700349150752: 1, 0.6724612488159759: 1, 2.875538581664233: 46, 2.855933171226011: 5, 2.997906047391556: 11, 3.826481224330591: 4, 2.958695226515112: 1, 0.7942509575102884: 1, 3.6846218363342373: 2, 3.9510384894729698: 1, 2.899994252284774: 29, 3.80925866662985: 6, 5.421351267420029: 15, 4.71463265751286: 3, 2.9737319023761217: 13, 3.639290548637744: 16, 3.3173659535611995: 2, 3.5704022077109423: 1, 2.9613410261071436: 4, 3.0042619506286026: 1, 3.325749285577972: 2, 2.919484405638668: 4, 3.283042422436526: 9, 3.5104176428023925: 113, 0.6355924237703019: 1, 2.831151418688054: 1, 3.5445291077567: 6, 3.9095356013435665: 1, 2.9769098539946452: 3, 4.272206756964772: 15, 3.545235195732762: 3, 3.8518389641373103: 2, 3.0900498499749305: 10, 0.7635775705991037: 1, 2.910292816509434: 2, 3.505920278050062: 2, 2.7042597746958283: 4, 0.8407355856549241: 7, 3.415060596029325: 3, 2.777345260952344: 2, 2.132083371311963: 5, 3.3256227199439867: 7, 2.0954357500782383: 1, 3.19766216544635: 1, 3.091642782072202: 1, 3.04746955246747: 26, 2.9907876348532754: 7, 2.9936510985661773: 1, 3.2959445752488428: 1, 3.1265986541232667: 1, 3.5256324968446093: 9, 2.279558671494659: 2, 2.8849575764237643: 1, 2.120217502616195: 1, 3.4829251061253057: 2, 0.9144732357462722: 2, 4.171323394970576: 3, 3.4239297220776446: 4, 3.4777358798133546: 9, 4.099982879884162: 2, 3.913611985482584: 4, 3.4180201813731896: 1, 3.4718263391088997: 3, 1.0322596707308003: 2, 0.9386473807617064: 2, 2.909739328961721: 4, 1.1059973208221483: 1, 3.6780391155135277: 2, 3.6943109704007266: 1, 2.0379880235661068: 4, 3.315472999509467: 7, 3.5008507443066526: 1, 3.3052744809177703: 9, 1.75: 1, 2.5567844745131323: 2, 2.9468226754254756: 4, 2.948950149838165: 3, 3.755197130569348: 1, 2.3304912694197406: 1, 3.4949379040054946: 2, 3.5408473508868266: 6, 0.43044926188567967: 2, 3.8496194120681833: 1, 3.1473580479459424: 2, 3.032625119868386: 3, 4.009098634868111: 4, 3.5554837831259754: 1, 3.428172374737441: 2, 5.152669167288333: 3, 3.8659158592865475: 2, 3.165255987451998: 7, 3.685798444415267: 1, 2.3973451064791873: 1, 3.716618123041438: 1, 3.311320217239485: 1, 0.9882108858376201: 4, 2.205821021403311: 1, 5.024684020459531: 2, 2.772009105455972: 1, 3.7493232092747704: 1, 3.3753127906538856: 2, 2.2383707956582244: 1, 2.229995166418745: 2, 3.369267054332171: 2, 3.2557109758418568: 2, 3.1196024862286817: 1, 3.5947987008086755: 1, 4.068751814028265: 1, 3.4209523867219036: 1, 3.439437159549834: 1, 1.9777673412003223: 1, 2.1875562238397546: 1, 3.0426868845188104: 1, 3.7681634544730955: 3, 3.7091503017353773: 1, 3.4332350354154064: 1, 3.5325905845040393: 2, 2.1870178205721142: 3, 2.929344739399943: 3, 3.374366217001731: 1, 3.493243317285544: 2, 3.383696122670658: 3, 3.296810048500329: 1, 2.3236074563878395: 1, 2.181039268865354: 1, 3.052861004031919: 1, 3.826886220095461: 1, 3.267802448485286: 1, 2.216464429318246: 1, 4.037520748172368: 4, 2.8510829110436924: 1, 2.0855987431673273: 2, 0.9733664532385362: 1, 3.654666190628386: 2, 2.802127013490301: 1, 1.0925296380178886: 1, 3.1404742349140413: 2, 2.1212407900479486: 1, 2.0643340405518193: 1, 2.968023011261606: 1, 2.919913448474829: 2, 2.9350745690473907: 3, 3.0179051319808536: 1, 3.3830643093221244: 1, 4.981064278402512: 1, 3.261756712163571: 1, 3.361254438293615: 1, 4.302834020188458: 1, 2.944819645724338: 1, 3.3197035492562574: 1, 2.9701548858100075: 2, 2.145718738824644: 1, 2.9398326446648846: 1}\n",
      "../rcv_elections_database/single/Minneapolis_11062009_PRBoardDistrict4.csv\n",
      "Error in file: ../rcv_elections_database/single/Minneapolis_11062009_PRBoardDistrict4.csv\n",
      "zero-size array to reduction operation minimum which has no identity\n",
      "../rcv_elections_database/single/Minneapolis_11072017_Ward9CityCouncil.csv\n"
     ]
    },
    {
     "name": "stderr",
     "output_type": "stream",
     "text": [
      "/Users/es5891/Documents/GitHub/bugs-in-democracy/rcv_exploration/../rcv_learning/rcv_dimensionality.py:188: RuntimeWarning: divide by zero encountered in divide\n",
      "  distance = 1 / np.sqrt(freq_upper_triangle)\n"
     ]
    },
    {
     "name": "stdout",
     "output_type": "stream",
     "text": [
      "Normalized distances: {'Alondra Cano': 0.0, 'Mohamed Farah': 0.7685745218147897, 'Gary Schiff': 1.1422557729679892, 'Ronald W. Peterson': 3.0}\n"
     ]
    },
    {
     "name": "stderr",
     "output_type": "stream",
     "text": [
      "/Users/es5891/Documents/GitHub/bugs-in-democracy/rcv_exploration/../rcv_learning/rcv_dimensionality.py:188: RuntimeWarning: divide by zero encountered in divide\n",
      "  distance = 1 / np.sqrt(freq_upper_triangle)\n"
     ]
    },
    {
     "name": "stdout",
     "output_type": "stream",
     "text": [
      "Consistency points: {0.7685745218147897: 494, 0.0: 741, 0.23885378684784728: 641, 0.7659230193762407: 146, 0.19214363045369742: 335, 0.8619948346030895: 78, 0.28556394324199713: 264, 0.5177819716209986: 26, 1.1422557729679885: 293, 1.6066918297259913: 35, 0.75: 11, 3.0: 72, 1.3264308913610923: 13}\n",
      "../rcv_elections_database/single/SanFrancisco_11082016_BoardofSupervisorsDistrict5.csv\n"
     ]
    },
    {
     "name": "stderr",
     "output_type": "stream",
     "text": [
      "/Users/es5891/Documents/GitHub/bugs-in-democracy/rcv_exploration/../rcv_learning/rcv_dimensionality.py:188: RuntimeWarning: divide by zero encountered in divide\n",
      "  distance = 1 / np.sqrt(freq_upper_triangle)\n"
     ]
    },
    {
     "name": "stdout",
     "output_type": "stream",
     "text": [
      "Normalized distances: {'DEAN PRESTON': 0.0, 'LONDON BREED': 1.0}\n"
     ]
    },
    {
     "name": "stderr",
     "output_type": "stream",
     "text": [
      "/Users/es5891/Documents/GitHub/bugs-in-democracy/rcv_exploration/../rcv_learning/rcv_dimensionality.py:188: RuntimeWarning: divide by zero encountered in divide\n",
      "  distance = 1 / np.sqrt(freq_upper_triangle)\n"
     ]
    },
    {
     "name": "stdout",
     "output_type": "stream",
     "text": [
      "Consistency points: {0.0: 11701, 0.25: 9704, 1.0: 10388}\n",
      "Error in file: ../rcv_elections_database/single/SanFrancisco_11082016_BoardofSupervisorsDistrict5.csv\n",
      "unsupported operand type(s) for -: 'float' and 'NoneType'\n",
      "../rcv_elections_database/single/Burlington_03072023_CityCouncilEastDistrict.csv\n"
     ]
    },
    {
     "name": "stderr",
     "output_type": "stream",
     "text": [
      "/Users/es5891/Documents/GitHub/bugs-in-democracy/rcv_exploration/../rcv_learning/rcv_dimensionality.py:188: RuntimeWarning: divide by zero encountered in divide\n",
      "  distance = 1 / np.sqrt(freq_upper_triangle)\n"
     ]
    },
    {
     "name": "stdout",
     "output_type": "stream",
     "text": [
      "Normalized distances: {'TIMOTHY C. DOHERTY,JR': 0.0, 'JAKE SCHUMANN': 1.0}\n"
     ]
    },
    {
     "name": "stderr",
     "output_type": "stream",
     "text": [
      "/Users/es5891/Documents/GitHub/bugs-in-democracy/rcv_exploration/../rcv_learning/rcv_dimensionality.py:188: RuntimeWarning: divide by zero encountered in divide\n",
      "  distance = 1 / np.sqrt(freq_upper_triangle)\n"
     ]
    },
    {
     "name": "stdout",
     "output_type": "stream",
     "text": [
      "Consistency points: {0.0: 215, 0.25: 429, 1.0: 441}\n",
      "Error in file: ../rcv_elections_database/single/Burlington_03072023_CityCouncilEastDistrict.csv\n",
      "unsupported operand type(s) for -: 'float' and 'NoneType'\n",
      "../rcv_elections_database/single/SanFrancisco_11062018_BoardofSupervisorsDistrict10.csv\n"
     ]
    },
    {
     "name": "stderr",
     "output_type": "stream",
     "text": [
      "/Users/es5891/Documents/GitHub/bugs-in-democracy/rcv_exploration/../rcv_learning/rcv_dimensionality.py:188: RuntimeWarning: divide by zero encountered in divide\n",
      "  distance = 1 / np.sqrt(freq_upper_triangle)\n"
     ]
    },
    {
     "name": "stdout",
     "output_type": "stream",
     "text": [
      "Normalized distances: {'UZURI PEASE-GREENE': 0.0, 'SHAMANN WALTON': 1.5297213867762973, 'THEO ELLINGTON': 2.045920228061571, 'TONY KELLY': 2.52249611650325, 'GLORIA BERRY': 3.479887050733524, 'ASALE CHANDLER': 5.0}\n"
     ]
    },
    {
     "name": "stderr",
     "output_type": "stream",
     "text": [
      "/Users/es5891/Documents/GitHub/bugs-in-democracy/rcv_exploration/../rcv_learning/rcv_dimensionality.py:188: RuntimeWarning: divide by zero encountered in divide\n",
      "  distance = 1 / np.sqrt(freq_upper_triangle)\n"
     ]
    },
    {
     "name": "stdout",
     "output_type": "stream",
     "text": [
      "Consistency points: {3.465559828953822: 35, 2.1988695386028203: 16, 3.108127912622563: 903, 2.9540797719384293: 909, 3.023557496204538: 610, 1.8190326688792549: 35, 2.4775038834967504: 1049, 3.6089382519231243: 65, 3.0831294822597477: 768, 3.4702786132237033: 2748, 2.9169127392755256: 341, 2.9038836294257537: 245, 0.3800282373166191: 38, 2.476973988828386: 94, 2.7256975659284888: 510, 5.0: 211, 1.5201129492664764: 211, 3.8527089599177775: 111, 2.6611727107678296: 321, 1.5694465641657354: 42, 2.713869510767444: 119, 0.6237989453112724: 41, 1.9431295100951238: 47, 1.883557524039914: 33, 3.418924133264815: 61, 0.0: 144, 2.134344683442161: 19, 2.2869598701700764: 56, 0.6789479569293975: 39, 2.416009580491395: 48, 1.688590536276155: 22, 0.4997021040954034: 44, 1.7594606828240449: 33, 2.59664785560717: 181, 0.9942599714923037: 13, 2.6060236991497043: 84, 2.798439927185469: 65, 1.8786046549344646: 16, 2.390084711949857: 3, 3.0962998574615184: 42, 0.7385199429846073: 16, 0.5592740901506132: 48, 0.8675696533059258: 13, 2.007654365255783: 27, 0.9346879854370937: 15, 3.286313976119828: 53, 1.8176402465974735: 24, 1.25: 9, 0.6193759708741876: 11, 0.7434728120900567: 25, 0.8030447981452666: 14, 1.058784826652963: 7}\n",
      "../rcv_elections_database/single/Alaska_11082022_HouseDistrict21.csv\n"
     ]
    },
    {
     "name": "stderr",
     "output_type": "stream",
     "text": [
      "/Users/es5891/Documents/GitHub/bugs-in-democracy/rcv_exploration/../rcv_learning/rcv_dimensionality.py:188: RuntimeWarning: divide by zero encountered in divide\n",
      "  distance = 1 / np.sqrt(freq_upper_triangle)\n"
     ]
    },
    {
     "name": "stdout",
     "output_type": "stream",
     "text": [
      "Normalized distances: {'Wolfe, Forrest M.': 0.0, 'Mears, Donna C.': 1.0}\n"
     ]
    },
    {
     "name": "stderr",
     "output_type": "stream",
     "text": [
      "/Users/es5891/Documents/GitHub/bugs-in-democracy/rcv_exploration/../rcv_learning/rcv_dimensionality.py:188: RuntimeWarning: divide by zero encountered in divide\n",
      "  distance = 1 / np.sqrt(freq_upper_triangle)\n"
     ]
    },
    {
     "name": "stdout",
     "output_type": "stream",
     "text": [
      "Consistency points: {0.0: 2787, 1.0: 2673, 0.25: 645}\n",
      "Error in file: ../rcv_elections_database/single/Alaska_11082022_HouseDistrict21.csv\n",
      "unsupported operand type(s) for -: 'float' and 'NoneType'\n",
      "../rcv_elections_database/single/Alaska_11082022_HouseDistrict35.csv\n"
     ]
    },
    {
     "name": "stderr",
     "output_type": "stream",
     "text": [
      "/Users/es5891/Documents/GitHub/bugs-in-democracy/rcv_exploration/../rcv_learning/rcv_dimensionality.py:188: RuntimeWarning: divide by zero encountered in divide\n",
      "  distance = 1 / np.sqrt(freq_upper_triangle)\n"
     ]
    },
    {
     "name": "stdout",
     "output_type": "stream",
     "text": [
      "Normalized distances: {'McNeill, Ruben A. Jr.': 0.0, 'McKinley, Kevin': 0.8987944916103782, 'Brown, Kieran C.': 1.9436942899953114, 'Carrick, Ashley E.': 3.0}\n"
     ]
    },
    {
     "name": "stderr",
     "output_type": "stream",
     "text": [
      "/Users/es5891/Documents/GitHub/bugs-in-democracy/rcv_exploration/../rcv_learning/rcv_dimensionality.py:188: RuntimeWarning: divide by zero encountered in divide\n",
      "  distance = 1 / np.sqrt(freq_upper_triangle)\n"
     ]
    },
    {
     "name": "stdout",
     "output_type": "stream",
     "text": [
      "Consistency points: {3.0: 2629, 0.4213302045760042: 76, 0.0: 373, 0.898794491610378: 654, 1.4240958687077836: 38, 0.3553110977007111: 93, 0.4859235724988278: 18, 2.020983586972718: 33, 0.2246986229025945: 475, 1.9436942899953111: 62, 1.1789954740296653: 19, 2.0771582426983666: 3, 1.0476701297553142: 28, 2.2077707174964836: 11, 0.75: 8, 1.2920576549571974: 5, 1.1600194412066114: 15, 0.6179617862494139: 5}\n",
      "../rcv_elections_database/single/Portland_06142022_SchoolboardAL-1.csv\n",
      "Skipping file: ../rcv_elections_database/single/Portland_06142022_SchoolboardAL-1.csv\n",
      "../rcv_elections_database/single/Portland_06142022_Schoolboarddistrict5-1.csv\n"
     ]
    },
    {
     "name": "stderr",
     "output_type": "stream",
     "text": [
      "/Users/es5891/Documents/GitHub/bugs-in-democracy/rcv_exploration/../rcv_learning/rcv_dimensionality.py:188: RuntimeWarning: divide by zero encountered in divide\n",
      "  distance = 1 / np.sqrt(freq_upper_triangle)\n"
     ]
    },
    {
     "name": "stdout",
     "output_type": "stream",
     "text": [
      "Normalized distances: {'Capone-Newton, Elizabeth A.': 0.0, 'Goglin, Barbara E.': 3.357911630831758, 'Capone-Newton, Elizabeth': 3.6815430015390014, 'Brydon, Sarah M.': 3.8658352005115204, 'Haefele, Joshua W.': 4.427764264192353, 'Viola, Lou A.': 5.0}\n"
     ]
    },
    {
     "name": "stderr",
     "output_type": "stream",
     "text": [
      "/Users/es5891/Documents/GitHub/bugs-in-democracy/rcv_exploration/../rcv_learning/rcv_dimensionality.py:188: RuntimeWarning: divide by zero encountered in divide\n",
      "  distance = 1 / np.sqrt(freq_upper_triangle)\n"
     ]
    },
    {
     "name": "stdout",
     "output_type": "stream",
     "text": [
      "Consistency points: {0.5722357358076482: 116, 1.318456998460999: 66, 0.14305893395191205: 38, 1.1802378492316081: 192, 0.7587910514709859: 9, 1.2611456919084185: 26, 1.2206917705700133: 40, 1.1341647994884778: 419, 0.2565635524527835: 1, 0.32961424961524977: 6, 1.0742319827835265: 1, 1.1676888373459726: 44, 1.642088369168241: 51, 0.7080543243369366: 1, 1.1062992893924748: 12, 0.0: 62, 0.7127180017278556: 10, 0.27679051312198616: 7, 0.28354119987211945: 5, 0.812989062800429: 4, 1.1193750919723588: 4, 0.21330006691201575: 3, 0.8396988941477964: 11, 2.2388427488457494: 3, 1.1551398254603369: 3, 1.1099967162715045: 3, 0.6411885347518995: 2, 0.23493180968239963: 3, 0.6872615844950298: 1, 0.41052209229206027: 3, 1.3993648411378095: 2, 1.1498064706019835: 2, 0.3065777247436846: 2, 0.776208447937826: 1, 0.7541273740800669: 1, 0.7357545265994208: 3, 2.1006235996163585: 1, 0.22481832934779833: 1, 1.190904558948315: 1, 1.3060871833061407: 1, 0.7334226879039613: 1, 1.2703224498181627: 2, 1.2345577163301846: 1, 0.6999897931114427: 1, 1.1855712040899615: 1}\n",
      "../rcv_elections_database/single/NewYorkCity_06222021_DEMMayorCitywide.csv\n"
     ]
    },
    {
     "name": "stderr",
     "output_type": "stream",
     "text": [
      "/Users/es5891/Documents/GitHub/bugs-in-democracy/rcv_exploration/../rcv_learning/rcv_dimensionality.py:188: RuntimeWarning: divide by zero encountered in divide\n",
      "  distance = 1 / np.sqrt(freq_upper_triangle)\n"
     ]
    },
    {
     "name": "stdout",
     "output_type": "stream",
     "text": [
      "Normalized distances: {'Isaac Wright Jr.': 0.0, 'Eric L. Adams': 4.972007372663981, 'Shaun Donovan': 5.6922512955437945, 'Joycelyn Taylor': 5.83901463425309, 'Maya D. Wiley': 6.560131694757171, 'Art Chang': 6.718586875167071, 'Dianne Morales': 6.7842879980390585, 'Aaron S. Foldenauer': 7.015735759918877, 'Raymond J. McGuire': 7.19589615667215, 'Andrew Yang': 7.467450784504221, 'Kathryn A. Garcia': 7.771695685815537, 'Scott M. Stringer': 8.557392928618011, 'Paperboy Love Prince': 12.0}\n"
     ]
    },
    {
     "name": "stderr",
     "output_type": "stream",
     "text": [
      "/Users/es5891/Documents/GitHub/bugs-in-democracy/rcv_exploration/../rcv_learning/rcv_dimensionality.py:188: RuntimeWarning: divide by zero encountered in divide\n",
      "  distance = 1 / np.sqrt(freq_upper_triangle)\n"
     ]
    },
    {
     "name": "stdout",
     "output_type": "stream",
     "text": [
      "Consistency points: {5.935517216336122: 12813, 7.124192509262427: 20697, 6.449032635830851: 2701, 6.234971249644704: 2863, 4.972007372663981: 64511, 5.276799687920253: 2123, 7.532120856391721: 1498, 6.563731385648363: 10, 7.495896206433135: 284, 8.557392928618011: 6443, 7.705671877163549: 2946, 7.421764860012061: 10308, 5.289029622607918: 632, 7.519890921704056: 1862, 6.664365752532586: 337, 7.198585596949835: 5090, 6.162863372034301: 4163, 6.506214668487272: 319, 6.6905682532845265: 421, 7.0880735798469985: 138, 6.189259271651849: 589, 6.215655171269399: 1351, 7.482492614101323: 1180, 5.425384099536041: 1033, 5.510053656813593: 9493, 5.726400253076745: 1089, 6.306065647693689: 481, 6.590986144406594: 1802, 6.5224122439568415: 183, 6.307079127255107: 6735, 5.547250200657297: 4901, 6.39066287102224: 5, 6.033356693837444: 2531, 6.4318215807998635: 221, 7.151625237363454: 50, 5.584446744501001: 4316, 6.305948003932576: 740, 6.770793138482454: 45, 7.399452191245039: 1126, 5.340714542258489: 3766, 6.6161751655971175: 1340, 6.156366114248707: 8, 7.52173866625842: 104, 7.062231120021712: 660, 6.627149819466444: 43, 6.112247309108681: 468, 6.974475270436013: 124, 6.136726533138587: 134, 7.051848929888411: 42, 6.380458735381098: 425, 6.801051428813144: 34, 6.893247389972158: 3, 7.526005889047889: 467, 7.4596715564745475: 359, 6.446836051042014: 2333, 6.844901839128836: 3356, 5.373699179885469: 557, 6.197774705801: 329, 7.524796149930337: 203, 7.583805776042293: 540, 6.3642669714046916: 72, 7.4516379122520915: 728, 6.403320657837996: 103, 5.443982371457893: 383, 7.100903665782742: 75, 1.508339173459361: 24, 7.818260552640968: 23, 5.9599770857114525: 686, 7.054906413560327: 147, 7.333908202485535: 100, 7.085016096175082: 54, 7.056069036069228: 984, 8.104499442532475: 16, 6.989117594349642: 617, 7.206027534488176: 173, 6.004057867991904: 64, 5.512338866890598: 315, 6.83252176186027: 106, 6.269882583411403: 530, 5.293639213321999: 4, 7.021739247273657: 305, 5.479470748601829: 137, 6.221396090416138: 38, 7.050001185334048: 850, 5.398665789041509: 1135, 7.46578652381838: 237, 6.343262191537394: 170, 6.979162076527908: 1, 5.212884833582017: 9857, 6.232686039567699: 1490, 6.238304501831287: 13, 7.139576211543771: 117, 5.481872478017046: 65, 6.0633469250125955: 426, 6.327070427560987: 14, 6.211272108836835: 8, 5.263396783972681: 162, 7.07232042602507: 133, 5.310406633117354: 118, 5.868353761652489: 3685, 5.237344702957347: 2925, 5.462580643379745: 654, 5.68920370923304: 2115, 7.55490583254509: 173, 6.042424641575283: 415, 6.376924758220447: 1513, 8.34314438194682: 163, 6.350507628813707: 174, 7.136235280363306: 85, 7.557963316217007: 288, 6.485215700113137: 119, 6.8988203287560985: 118, 7.1328610929518605: 104, 5.4632742060951935: 82, 6.122523714380488: 539, 9.418044696463507: 45, 6.925100770299373: 5, 7.0561161526778795: 80, 6.693254465977715: 3, 5.913830561060329: 29, 5.361469245197805: 1924, 6.256685500424004: 162, 6.184000579436364: 37, 6.201972972875909: 2, 7.634698831768289: 10, 5.932428832982181: 31, 6.411836091987146: 180, 6.247790070234416: 148, 5.301678799675679: 96, 5.604534151955489: 494, 7.5518483488731745: 98, 5.3387878461187706: 85, 6.066513104174666: 2, 7.131071102925386: 46, 6.237461350019845: 5, 6.5793349003078605: 18, 7.084550360712735: 105, 8.059888964602344: 2034, 7.221762146169283: 15, 5.449493606430004: 5, 6.561194917042195: 112, 5.408709492768753: 226, 6.989781820104539: 138, 7.151806146231436: 168, 6.647166069778401: 3, 5.514959125745765: 81, 5.440230989280195: 1321, 6.27115431392699: 16, 6.875444516500553: 171, 5.4209394274564175: 165, 7.35728401474108: 17, 5.91046919728714: 1, 7.163674263183136: 253, 5.289034289659168: 6, 5.284564173292068: 59, 6.653371709440822: 226, 5.490661236802959: 18, 5.359583895350015: 13, 7.3461381371732: 189, 12.0: 386, 7.407744865387805: 8, 6.155061757842796: 12, 5.618226954945168: 369, 6.3752261231779785: 12, 5.2932920067337434: 232, 6.790135527858677: 1, 6.338029579334274: 4, 7.315902730176716: 8, 7.918718487072983: 20, 8.566323645009046: 107, 7.007424014588298: 25, 5.380067517119657: 256, 7.173949221600973: 2, 5.225114768269681: 1365, 7.113916039672284: 675, 5.587132957194189: 19, 7.081958612503166: 53, 5.904536860313603: 4, 6.340859337699275: 78, 6.380185657764578: 1, 5.533557397667617: 85, 5.326557911431106: 530, 6.134242355925511: 27, 5.331364401246693: 67, 6.175485145287214: 7, 6.2769278589640525: 21, 6.638124473335772: 42, 6.185213026133852: 111, 7.8060306179533026: 61, 5.551896060964009: 5, 6.625423296507174: 13, 7.126746125608028: 28, 5.3922974518073215: 71, 5.725808425925856: 36, 7.090056680574314: 14, 6.247603637792213: 103, 5.367320034067977: 7, 7.073099904367528: 362, 6.216372977722852: 87, 4.719213620675491: 98, 6.9958967874483715: 63, 6.565670570775081: 54, 6.729005529497986: 185, 6.539989761528669: 39, 6.6609116736511105: 15, 5.473715519227383: 6, 5.967917210126117: 34, 0.0: 487, 7.304296326078798: 4, 6.618634385317295: 2, 7.27302461150113: 132, 6.3035194580738185: 6, 7.142150804190088: 15, 6.251861354866787: 44, 6.42169984990318: 1, 5.923129697021255: 55, 5.2814237533752815: 225, 5.382867032943467: 205, 6.9239472575166: 13, 5.373221115624816: 217, 6.9670322575600405: 1, 5.951442640132515: 25, 7.077199421095983: 2, 7.266246899717685: 90, 7.215746810343499: 3, 6.458089099794394: 34, 6.170803496448965: 48, 8.067302898688771: 13, 6.5991442972988175: 21, 5.390472765769342: 124, 5.398100227380243: 83, 7.719797308753224: 18, 5.328433602519954: 326, 7.60274140459917: 29, 5.410895723729174: 354, 6.734731290447132: 9, 1.4563310513547592: 1, 6.2128806562669885: 5, 6.4473340007883815: 33, 6.724348463728694: 21, 6.224170605418548: 74, 7.174108231359206: 25, 6.664195577792225: 229, 7.5635362550009475: 2, 5.3965969278803625: 6, 7.493775103394153: 1, 7.7025610249948695: 3, 7.5576923019370605: 1, 6.079281682911488: 2, 5.306777369998544: 50, 7.038912803193023: 22, 6.54635249806372: 220, 7.213469472026517: 361, 6.3551851087729: 107, 5.896374894176979: 18, 5.347378655799531: 186, 5.015807450639607: 22, 4.888552735230595: 62, 6.383696012106986: 11, 6.331149247220792: 30, 6.087797117060638: 19, 7.234300423046128: 26, 5.300175500175799: 45, 5.319134466559029: 231, 5.941563195038119: 17, 6.552260311258881: 31, 5.622540596726452: 13, 7.203491065882008: 96, 5.259636458093108: 577, 5.418041605648689: 3, 5.126034048238584: 30, 6.355803991300945: 40, 6.290401005057086: 5, 6.2194889565802995: 20, 6.276114541126299: 43, 6.914724506662234: 211, 6.283092014936148: 99, 5.349933723686651: 65, 6.618460375674123: 25, 4.591383911999019: 185, 6.755005786041536: 135, 4.9629458229180035: 32, 5.9822688408472136: 150, 5.272124617414355: 249, 7.70103316434163: 19, 1.4737924590960945: 1, 5.338079519838605: 288, 5.385451050312482: 63, 7.543266733959602: 14, 6.148016482290147: 66, 4.925510185046063: 26, 5.415555894263592: 409, 6.236242980160291: 67, 7.3581166230974056: 207, 6.169730733069447: 15, 5.224692286723907: 56, 1.4838793040840306: 54, 7.991810459478218: 1, 5.942908194553578: 227, 7.0543442074993825: 2, 5.864001423623696: 14, 5.355194146222216: 145, 5.451044271407529: 209, 5.236260645837562: 324, 6.209663218181894: 97, 6.3594428258474744: 31, 6.135315119305029: 73, 6.494667578413148: 5, 5.349962673168546: 56, 6.687369184695953: 5, 5.490746387525683: 16, 6.524772422364259: 4, 5.2072366198405575: 34, 7.525017520378083: 18, 6.62611020782761: 2, 5.2509572280949675: 272, 5.363921979663891: 270, 5.93612231619609: 5, 5.27821337412843: 13, 6.6841701161073805: 4, 6.59196855044352: 13, 7.157740204707286: 12, 6.491277483087673: 14, 6.858639968375583: 1, 6.2028161246873506: 25, 6.113105148523448: 61, 6.588841803883027: 8, 7.148648620497212: 49, 7.272404658152915: 9, 5.5387347665081474: 53, 5.5870522195825165: 18, 7.095696238280616: 6, 9.090310232428273: 13, 7.030799826843844: 5, 6.095216440810381: 56, 6.2915968341907025: 101, 6.438730718201479: 3, 5.743977770648572: 236, 6.6131933618195085: 10, 7.835127038281511: 25, 7.0196539492759635: 10, 6.090833378377817: 10, 6.349648096485188: 6, 6.577430701014674: 2, 6.607659731447968: 9, 7.669075737172512: 42, 5.680688275083891: 22, 7.240442563932548: 26, 7.04822924015555: 7, 5.361108550736427: 4, 6.624330181026964: 10, 7.021312028329343: 198, 5.833389896906543: 36, 6.20682719605132: 16, 5.573495366547015: 3, 7.685591887494285: 8, 5.375809800045082: 9, 5.902290981695397: 3, 7.183582664532572: 15, 5.956196708688587: 1, 7.148265771533921: 7, 6.1263217555217535: 16, 5.302591142694669: 278, 6.982475209593627: 39, 5.337732738480881: 132, 5.293863309252995: 89, 6.891051253607918: 8, 5.5015382226644425: 114, 7.340520976037385: 5, 7.172397068131029: 8, 5.38484505745335: 73, 6.784020560514845: 39, 7.35171107595714: 1, 1.7329188283359613: 1, 6.129039906422341: 18, 5.353312714275381: 100, 7.3955149307001395: 6, 5.281409278634333: 36, 5.246852840069491: 58, 6.173396982547007: 95, 6.212115260648277: 182, 6.857022740013571: 20, 7.581295886159632: 52, 5.3784532484415415: 13, 5.31970576907828: 149, 6.790121685638759: 51, 6.308350857770695: 22, 6.8865690774322434: 4, 5.555624871730231: 10, 5.430425518422392: 6, 6.581437841473591: 1, 6.332343903550125: 51, 7.210836615999171: 10, 7.071338868926535: 3, 6.567104965620195: 12, 7.057692882952297: 5, 5.958618074165191: 40, 7.2708946144719135: 7, 4.818730067697198: 29, 5.316912130519217: 417, 6.313873344573588: 18, 5.664212257574786: 32, 6.386844640328892: 23, 5.4024946067732: 14, 7.26409819013492: 7, 6.106775426571196: 36, 5.3761519143515555: 94, 5.656751821361815: 1, 5.2712889928546085: 28, 5.945421452157016: 8, 6.261367149262253: 318, 7.147492992054937: 96, 6.405542334908201: 36, 7.056240673062472: 1, 5.427785828951258: 97, 6.026499536322397: 56, 5.4079284326526915: 15, 6.75856320379479: 8, 6.23999436233799: 7, 6.724621788365457: 2, 5.474420083663074: 9, 7.026006470063125: 69, 5.658109711482061: 12, 6.1567261369994934: 40, 7.072219386647031: 2, 6.9393593708387895: 19, 5.779880291217992: 2, 2.3058545063802516: 2, 6.944748722703382: 3, 5.352953811048654: 98, 6.890189906300242: 3, 1.3868163858805587: 7, 6.8976936383639345: 65, 5.529228972112682: 33, 6.557995848453622: 11, 5.344013578314455: 88, 7.138308448898998: 5, 6.581263831830419: 9, 8.969871501969255: 10, 1.561853917232014: 1, 6.577006114755844: 1, 6.579772929941615: 1, 6.020806960582397: 2, 6.192673836914983: 7, 5.3118902786555955: 122, 1.8554412150030153: 7, 7.303560966427451: 7, 6.190744874717412: 4, 6.278257254484337: 4, 7.2593876172121234: 21, 6.439925374530812: 23, 5.403443329375202: 8, 7.531578827831829: 2, 6.850099279432097: 22, 5.475142323046894: 240, 5.499412126870276: 4, 5.3511838557380935: 11, 6.595754651900911: 1, 6.351636862610328: 1, 6.951921050505938: 73, 8.29205177705192: 11, 6.414238945825266: 41, 7.431400009206424: 26, 5.6542923754663414: 109, 5.627015713731082: 67, 7.694918196997798: 10, 7.3099134872146125: 12, 5.271151474178795: 9, 6.298679645575238: 32, 6.206291873592901: 41, 6.41451227046203: 1, 5.317005608021741: 19, 6.417411881610025: 3, 7.563172907261693: 1, 6.887674451188218: 50, 6.709698260210076: 7, 6.94859985812793: 8, 5.299436248036935: 55, 5.34066353720762: 61, 5.182357508085131: 51, 7.185009188737935: 2, 6.448440808679962: 18, 6.39917830517139: 14, 5.502463399916638: 1, 6.4230277046111794: 11, 6.889626561104159: 2, 6.633101580041246: 4, 7.340023169829367: 10, 7.273688837256026: 18, 6.398398477157208: 1, 7.031579408847065: 6, 5.4321802083442146: 6, 1.4902028873897228: 1, 5.95808689720002: 3, 4.615843781374349: 34, 5.564717349256617: 11, 5.54234615645353: 17, 6.184647464472586: 12, 6.86014184048927: 1, 6.745705944316459: 1, 6.0228078829299045: 9, 6.847935414853081: 3, 6.125726921776361: 2, 1.4273554279632494: 6, 5.821672820751575: 2, 5.565139475213091: 35, 5.493022788515293: 325, 5.313804687521441: 8, 5.641138868648304: 10, 7.179793174664859: 2, 6.161810132665689: 8, 5.050718784406306: 32, 6.107504607914988: 6, 6.8708187820305255: 7, 5.362611850236307: 74, 7.615076096603799: 1, 7.550272684952535: 2, 6.193245139434234: 5, 6.012346741211249: 11, 6.696400050795046: 8, 7.208485136763429: 13, 5.861830110388196: 37, 6.100451132792043: 16, 5.253334262373003: 80, 6.8152251512710444: 21, 5.2645750432608: 5, 5.430066540283844: 4, 6.137555340571491: 51, 5.891111367409246: 5, 5.275836339850393: 57, 6.099331022158812: 15, 7.204058904215727: 6, 5.445660990819293: 13, 8.133676379346626: 47, 6.990304022973683: 2, 6.545592621664095: 1, 7.227258505128722: 3, 6.960917290216208: 1, 5.9659255536423075: 1, 5.605084929843103: 3, 5.2408224675742945: 53, 5.42794039078272: 8, 7.259206708344141: 16, 6.345885972811974: 13, 5.248490580525227: 112, 6.078062809809843: 10, 5.3296931521272: 4, 6.120463090922072: 16, 5.374023055814268: 3, 5.497503458862416: 12, 6.137731092830436: 3, 5.227491802547718: 35, 5.1463035692799295: 60, 5.334924625180871: 29, 7.141094918290968: 3, 1.602358871748708: 1, 7.297445999083618: 1, 6.731241017939869: 13, 6.1686207640557615: 2, 6.149159087328649: 19, 5.101154936483158: 37, 9.102540167115936: 2, 6.242768877340401: 10, 7.068883107423428: 17, 6.650342202308336: 1, 5.137916776337994: 22, 7.073376997589593: 31, 5.463923749726339: 7, 7.328933472797548: 2, 5.966177398172554: 3, 6.4602242484548835: 10, 6.940647769174863: 9, 5.921290513560692: 9, 5.290137112076009: 31, 6.287349732010724: 31, 6.231215880971199: 1, 1.2430018431659953: 76, 5.298864945517684: 25, 5.311094880205348: 13, 6.806304739695059: 2, 1.711225459782209: 16, 5.388801091419317: 58, 6.355910044802673: 20, 5.9051027276186545: 15, 7.954615029569091: 16, 1.6963785700380551: 3, 7.275076200241122: 7, 7.591892785785366: 8, 7.170892301280768: 6, 5.416868665386891: 28, 7.550593403931844: 3, 7.237702290517371: 6, 6.052885783293939: 20, 5.862202081674827: 4, 5.313908734363345: 27, 5.971122963279333: 31, 5.9612828017059245: 3, 6.372940913100972: 41, 6.4366608467407085: 2, 7.890456549012592: 4, 5.242098771513419: 9, 5.400008895388103: 13, 6.335626032883447: 8, 1.530630928595122: 10, 5.765691182462748: 2, 5.3116661827246: 11, 4.966049227128754: 72, 5.322636567805019: 12, 5.095581997699218: 79, 6.968263213684201: 1, 6.849554169829191: 3, 7.498381396877019: 1, 5.500125120201691: 1, 5.3763296233042: 15, 7.143839538986218: 5, 5.233064741331658: 16, 5.357345973976428: 7, 6.466610153402677: 40, 5.401999041228091: 20, 6.212659194725647: 6, 6.052106595489367: 4, 6.0308880647123475: 5, 6.017200400361472: 47, 5.831715487350968: 7, 5.698694719854854: 3, 5.388439971727407: 20, 6.826349712202735: 3, 5.079722304977843: 6, 5.3415236000852575: 5, 5.957348836914697: 1, 6.974757024098193: 2, 5.456964416779725: 5, 5.433588604524179: 58, 1.5994280730219688: 4, 6.933052859252441: 6, 6.778894327609738: 2, 5.904366651194415: 18, 6.245884856197849: 4, 5.229868836825753: 28, 1.6512997049169467: 2, 7.991533739582087: 22, 1.9352067280768006: 1, 7.982633341411219: 4, 6.0712870494272595: 17, 7.210255355381385: 1, 7.5182074401976156: 7, 6.74608537446555: 3, 5.139231998047359: 4, 5.35588239331021: 4, 5.415649792285246: 3, 7.25324928939286: 15, 1.7810481273156067: 34, 6.935074830390922: 12, 6.52288483713363: 2, 7.2318514521726405: 3, 5.341884719777168: 16, 7.069559993746406: 7, 5.80616576615053: 20, 5.452715945757554: 13, 5.378182167271868: 5, 5.253262023452008: 51, 5.163759236163279: 53, 1.7424707476040053: 1, 5.268969722756621: 35, 7.650876105344298: 2, 5.943292593619729: 2, 7.185993503874159: 23, 5.393162493893263: 2, 5.529057510616476: 3, 5.357674116749327: 7, 5.2306877070536215: 56, 5.143489715121934: 19, 6.80182343398645: 1, 5.873272653443435: 2, 7.2913310317397855: 9, 6.201147784032744: 16, 6.343423660579143: 1, 6.199682706458214: 2, 6.82442724106869: 17, 6.345830760469468: 3, 6.032350831816989: 1, 6.733137222514607: 4, 5.563166684279094: 2, 7.00711078133777: 1, 5.270343554010556: 12, 6.886985284129281: 20, 5.295669041011779: 47, 5.421126382461466: 15, 7.523541204989006: 2, 5.4122388300757684: 6, 7.254961384664421: 1, 7.946099595419941: 4, 5.513681973237192: 6, 1.5560131442864256: 1, 1.5492215290845053: 6, 6.881559483844385: 11, 8.18426495560626: 81, 7.1879440670065184: 8, 5.898912757390395: 2, 1.691175037660249: 6, 5.424493601499904: 17, 6.017577312070577: 3, 5.534865192665709: 2, 5.1886383479187055: 25, 6.009033756565269: 2, 6.166614754211999: 13, 6.015874814307884: 1, 6.644856275291672: 9, 6.374448337157221: 2, 5.85031375927282: 5, 1.6324637156998185: 5, 7.950675914242101: 4, 5.288607141062144: 11, 7.608856371943003: 12, 7.534636311503745: 2, 6.943405616356788: 20, 6.807166396156977: 2, 6.3411326623360385: 6, 5.220434569649332: 6, 5.281199657444286: 8, 1.4696902066020252: 2, 4.871521866932295: 8, 6.602177757030628: 12, 5.609711520796019: 4, 6.902887880135076: 1, 6.241138501548514: 12, 6.951381211842647: 3, 5.849046492364579: 12, 6.22542245603054: 1, 5.4389317065191385: 7, 6.28903477939539: 26, 7.64348388166159: 11, 7.105141282612327: 7, 7.870187027971247: 1, 5.583315621178469: 16, 7.15548394984624: 1, 5.917507267026795: 2, 7.244081386860306: 2, 7.234327596588715: 11, 5.32935168639693: 57, 5.164391862255394: 8, 7.4815451687064884: 17, 5.931231934372673: 3, 7.369212013704466: 2, 7.307024018202507: 13, 6.8269130573988175: 4, 6.526283583275496: 4, 7.2329080237371635: 6, 7.159192646667853: 2, 5.493740594968746: 52, 6.20360179854587: 11, 1.3756705083126781: 2, 6.375126487041346: 6, 7.040386702443633: 8, 7.335295565470631: 1, 7.426057821341575: 4, 5.461723541117669: 2, 5.785820174798989: 1, 5.3655426489630464: 13, 7.13879515142771: 13, 5.5201364945862945: 6, 7.31041129342263: 3, 6.825106804037671: 3, 7.961700776863464: 1, 6.075681428820216: 2, 5.286996692159222: 14, 5.436933157377617: 5, 5.56776862230298: 7, 1.6473240938062146: 1, 1.61407605183584: 1, 5.265564197060669: 36, 9.044916723451758: 21, 5.466626888897744: 33, 6.274854006181597: 12, 6.421327102608959: 2, 7.014015198771332: 2, 4.914364307478182: 26, 5.308164081478609: 22, 5.151830182588246: 8, 7.272177115057333: 4, 2.1393482321545028: 14, 6.878374609463142: 4, 5.483733385332243: 5, 5.385987662491853: 12, 5.35721152812323: 31, 5.08791532825001: 18, 5.945075902396294: 3, 6.864974828966639: 8, 5.367424080909881: 30, 7.487018784133291: 1, 1.669660259543523: 5, 6.84957758792657: 5, 5.162087987043786: 17, 5.419950273656549: 9, 6.035798672283324: 16, 7.869945472291539: 4, 5.949830206294525: 6, 6.850707682611964: 1, 8.032391564922072: 9, 5.400991307273319: 4, 5.4006699064150725: 3, 9.108113105899879: 1, 5.46201508171848: 10, 6.906209072513084: 27, 6.139501048140997: 10, 6.739970407121718: 3, 6.606865026935952: 6, 2.2419396520420154: 5, 6.130560815406797: 4, 5.470884605972318: 12, 1.7424979211465919: 1, 6.003556930855038: 2, 5.365181529271137: 4, 7.0890934810226005: 19, 5.374841784923972: 14, 5.462851724549419: 20, 6.312770043887019: 6, 5.41806492380876: 2, 7.093646518630939: 6, 5.451233929603233: 5, 7.040261959477913: 6, 7.2979650578833715: 1, 7.043319443149829: 2, 5.911989254667574: 2, 5.039183262895152: 3, 6.648681738963445: 1, 7.412836544646288: 1, 5.439724654383318: 4, 5.524971255038107: 3, 1.363440573625013: 20, 5.184380630844131: 6, 1.7886239866202764: 1, 7.574100466077925: 3, 5.952073367451768: 3, 6.316148485466392: 2, 6.0912284276957065: 1, 4.9782791618164195: 19, 5.284349423987569: 1, 6.235969902543772: 6, 7.101256757872597: 4, 7.1633131434912265: 6, 7.265321675687973: 2, 6.90092846464528: 6, 5.343652458622545: 27, 1.764017259017307: 2, 5.29378369116399: 11, 5.261989856893682: 55, 5.5156721190771805: 8, 1.512024985240801: 10, 5.300238188226387: 3, 5.326497247621297: 2, 8.051812551378593: 1, 6.875504254732428: 1, 6.122428719943442: 1, 5.347154559868536: 8, 5.3825532285047535: 8, 6.232056638916723: 2, 5.74213532250244: 1, 7.2734470658198545: 9, 6.980860049967557: 3, 6.319413631062728: 3, 5.944169649192084: 6, 5.962588517700396: 2, 6.00595493219944: 5, 6.566746506541657: 1, 5.481956459986926: 3, 7.209532211481618: 12, 6.139859951367724: 11, 5.114633638744542: 5, 6.555600628973776: 2, 6.739699140731475: 1, 5.373254092543827: 10, 5.501807114370839: 13, 7.920566231627347: 7, 6.361998913266466: 11, 7.420304618599364: 17, 6.987862111854836: 3, 5.446786554332953: 5, 6.547459377648247: 7, 6.483275405233502: 1, 5.348374980788401: 8, 5.1759891708509445: 8, 5.342128228466666: 3, 5.145134954650314: 7, 5.230612432096104: 8, 5.331935703765946: 20, 6.515292939172644: 1, 6.914536812189106: 8, 1.6117090127605036: 16, 5.36518374573632: 27, 6.336089863734839: 1, 5.48948287789417: 8, 6.21097352243115: 7, 7.034975542648124: 8, 5.4059290407603: 8, 6.303118245567575: 30, 5.66804110316273: 1, 6.422218278495975: 5, 1.81407321401474: 1, 5.074094596661851: 3, 1.4015153016635888: 1, 5.338365364572996: 6, 6.055648448973205: 25, 6.8924130304961295: 4, 5.352951594583471: 12, 5.672298820237305: 2, 6.982436936142101: 2, 6.821340118614877: 3, 5.158533503967595: 6, 1.608399066209996: 1, 5.253244649081299: 1, 6.0434185142855394: 2, 1.818244671159311: 7, 5.798478563139844: 5, 6.103574315013609: 11, 6.94008442397878: 1, 6.090629628115795: 13, 6.528798148904636: 4, 6.16395124018904: 14, 5.322485069303157: 14, 1.5880000785237551: 1, 5.7756225741434175: 1, 6.80739637277039: 7, 5.320394016166275: 3, 5.5134084607682405: 2, 6.108130906748297: 1, 6.802899173367508: 4, 4.63813553651011: 33, 5.9564892156279035: 3, 7.3016818303376585: 1, 6.387125239754264: 2, 5.8182894456308425: 2, 6.097607101925645: 1, 6.188106918540127: 3, 5.256530166878908: 24, 5.401031026106982: 6, 5.236499739865798: 9, 5.6231983777153625: 2, 1.5792722450820806: 1, 7.600326716985459: 1, 7.001469726232312: 1, 4.9377401197337285: 7, 5.328489897599036: 2, 7.153838710317861: 3, 6.843650874405214: 4, 7.046390063931863: 2, 1.8121645460068803: 1, 2.014972241150586: 9, 5.483865127994786: 6, 1.4356039208956195: 1, 6.482437643725484: 10, 5.03063345120752: 6, 6.5988997171865496: 1, 1.5975523819331197: 4, 6.908082121906218: 2, 5.277697556198295: 14, 5.235432220243857: 7, 5.343081581333826: 6, 5.35624351300212: 14, 7.504526628888991: 2, 5.940590799118804: 3, 7.367252992639749: 1, 7.1989873431146325: 3, 6.385838725465024: 7, 8.024968120049994: 1, 5.445818539211844: 19, 5.480183741933245: 14, 5.55222162342749: 6, 7.087802565567052: 3, 5.591113248874167: 12, 5.475005551890568: 5, 7.681654626949386: 1, 6.537002357051924: 2, 5.334258408348793: 4, 5.411298177189018: 8, 5.366510664084156: 20, 7.050652304092427: 8, 7.993010692880877: 1, 5.636810443093369: 7, 6.189041843865542: 4, 2.3905240636578036: 3, 7.06168909146182: 7, 7.042438925429333: 2, 5.351877082034392: 8, 7.974622006776107: 1, 7.08870173045354: 3, 5.686102379277992: 1, 7.207116387887643: 3, 7.751754735922342: 1, 6.481387535869313: 1, 6.906772417709166: 8, 6.81328136350081: 7, 5.533623351505638: 5, 7.1880666724098505: 3, 6.770333766358311: 2, 7.545460023044725: 3, 7.210173871559559: 3, 8.658931524459462: 6, 5.5604596321820425: 3, 5.4103301620679085: 11, 6.478710664781721: 5, 5.403670715578117: 3, 5.319168005115333: 9, 1.9601981797350547: 4, 7.15489950612318: 4, 7.60710922387708: 3, 6.860080223685488: 1, 5.575566249998677: 4, 5.414724541460865: 1, 1.4165653901135191: 3, 6.1634073061116705: 12, 6.314736762718489: 10, 6.343070998220625: 1, 5.625591869772815: 1, 6.559169448660497: 2, 7.04144915309738: 3, 7.190853141801821: 4, 6.689019312454278: 1, 5.386672232882029: 6, 6.52459207513357: 1, 5.724670501360662: 4, 5.291230371123055: 8, 8.098683495853704: 2, 7.638015320416162: 2, 6.159303702853012: 3, 5.159501519088704: 7, 5.426526704574544: 18, 6.034650928606018: 2, 6.303318851820697: 3, 5.270495188632996: 3, 5.438548545578401: 2, 6.313745631628272: 1, 5.3728929728519175: 2, 7.112591571910515: 1, 6.834865146351884: 5, 6.431921759201875: 1, 7.478365413595253: 1, 7.400420158926419: 1, 6.3482336143075875: 2, 6.552090965520421: 4, 6.9564499773689645: 1, 6.186484756649439: 3, 5.799953893971278: 11, 7.026130990447718: 1, 7.168035665657083: 2, 6.521820416805953: 3, 7.452620318289017: 4, 7.059298156734388: 3, 6.8871324226283255: 11, 5.923135132235455: 10, 5.0753124766578726: 34, 7.638603037507538: 5, 5.926974217298098: 3, 6.360729340136714: 2, 5.602679956069679: 14, 8.05644620670981: 1, 6.245020543375319: 1, 7.453661735618908: 1, 6.919527831515433: 3, 5.4354972725320385: 9, 6.899356930160258: 2, 6.2291263703864095: 5, 6.193516988726425: 22, 6.12843195686951: 3, 6.562304032009561: 1, 7.050521462964306: 1, 6.796451972873625: 1, 8.054599020770562: 6, 6.708801464853204: 1, 6.026630347637773: 3, 7.039093604872853: 1, 6.190349825399522: 1, 5.465913895566328: 6, 5.92118926777328: 3, 1.683171374176877: 1, 5.269995758877068: 7, 8.012046890137352: 1, 7.401629898043972: 3, 6.233180937762161: 1, 5.422041601297055: 32, 6.1201504240760976: 1, 6.242016525197354: 3, 6.543370694286111: 25, 5.42324229264929: 1, 6.396433382057939: 5, 5.328105459747055: 5, 5.414228975915757: 11, 7.894723771802061: 1, 5.502734481086312: 6, 1.5600240931099323: 2, 5.405799574115404: 1, 7.299177524971147: 2, 5.120461109454644: 13, 5.291163148196455: 4, 5.1945874427727965: 2, 5.618500279581932: 4, 5.902973869081367: 1, 6.075840650575449: 1, 6.497282298086797: 4, 6.098085094787534: 1, 5.626289148651418: 2, 6.895084511581393: 9, 5.156515048259846: 18, 5.2452946760193235: 3, 1.4789893425629512: 2, 5.5400778728547415: 1, 6.6416572067030994: 1, 5.314267312933631: 18, 7.037600233051663: 2, 5.315509375576569: 3, 5.921000838483968: 1, 5.167680841323795: 4, 5.910196165802905: 5, 5.338252561739999: 2, 8.073804384098278: 9, 7.509188008549229: 5, 6.2668965968524155: 2, 7.98166999334136: 1, 6.329514145185124: 3, 5.5921043799643835: 13, 8.085901170610622: 4, 5.376688526530927: 9, 5.342510278814574: 3, 5.2525532022569426: 5, 6.878445905558197: 4, 6.912287274934055: 2, 8.017723932146561: 3, 8.011608964802729: 2, 6.29755021354454: 12, 6.175348328511659: 2, 6.0494447509579: 1, 7.932791327651368: 4, 6.236491650073279: 4, 6.325312338823785: 1, 1.5194850510272415: 1, 7.195660857038754: 1, 5.954720588117942: 2, 5.450366896690839: 4, 6.851449801229631: 4, 5.028037385327272: 2, 6.666140759906712: 2, 5.963674174318146: 3, 5.190787761872944: 2, 1.5038684543183776: 1, 5.389886476339702: 1, 5.219466554528223: 5, 6.665745694634842: 1, 6.7891531683590305: 2, 7.085052277766711: 2, 6.972605196343981: 1, 6.376569229524573: 1, 5.358476056938779: 3, 5.3337824453729: 4, 6.3622677590533: 2, 8.018645385091922: 1, 5.560297416738241: 1, 5.853200779397541: 1, 5.1339890770824335: 2, 5.887110142912148: 1, 5.257979606905698: 2, 2.1215009215829976: 2, 7.959577350977904: 1, 1.6336063207383211: 4, 7.582230112121653: 1, 1.5035095510916512: 2, 1.6133313572458996: 1, 1.3852632402734586: 2, 5.33975586123988: 9, 5.243810381904878: 3, 5.386452042352602: 5, 6.960287764255703: 6, 7.349069896463386: 1, 6.947323069772145: 1, 5.3647612641905456: 3, 7.377093154213158: 1, 6.553773707552957: 1, 6.8726019524943105: 1, 1.4129432961618025: 1, 5.409342118860868: 2, 5.417227568613618: 18, 5.062948719093971: 5, 5.155719649809599: 2, 6.901199478925226: 6, 5.3617931211266034: 4, 5.317463217439536: 14, 5.904511789038016: 4, 6.432893809804472: 4, 5.307898975699445: 8, 8.110847779241363: 4, 7.026863670185189: 1, 6.8649662831513805: 6, 5.900279143239028: 5, 5.308277774580066: 3, 5.301365131643728: 12, 5.306938070427668: 2, 6.89814199525331: 5, 1.4144365315762317: 1, 6.317027760961594: 2, 1.3824767708814885: 2, 6.535229442960581: 1, 6.4147907125015635: 6, 5.9437669366974815: 1, 5.369441462810895: 2, 6.142606850538372: 1, 7.046704004749979: 22, 1.7461367935489078: 2, 7.9309484217606485: 10, 5.2369222214115725: 3, 7.994867943150135: 2, 1.3953980007941313: 4, 5.322532520963115: 14, 5.365260532032713: 1, 7.2741910694750604: 1, 6.089369093171093: 4, 5.294607228443108: 3, 5.259860998356395: 6, 5.201588406099099: 7, 5.414358840979231: 7, 5.396629904799373: 3, 1.5704307185389488: 1, 6.90223302803655: 3, 1.4771136514741021: 2, 6.8552164866524254: 3, 3.0: 7, 5.442506096161558: 7, 5.334715003990823: 21, 5.340335394434721: 1, 6.859516878489405: 1, 5.981129841201495: 2, 8.00469859900865: 3, 6.1751978758419215: 2, 5.380587340378775: 1, 5.421476039635789: 6, 5.299226626846886: 10, 5.201970743580679: 5, 5.354150069470524: 5, 5.302367046763674: 4, 5.329235542709406: 8, 5.314876749484454: 7, 6.525520109060559: 1, 7.638646170656633: 5, 6.546700517350064: 1, 5.300462284157382: 5, 6.20394195770481: 3, 5.185673996733005: 15, 6.924807344434936: 5, 5.169679381535476: 3, 6.161215298920297: 1, 5.20904980898855: 2, 5.111291140505555: 2, 5.212014160174252: 3, 5.205733320340677: 7, 6.5190191363496295: 2, 6.267534401166063: 1, 6.390257415507679: 1, 6.8982569835600165: 3, 5.396846393031741: 3, 5.335950661301317: 6, 6.410137456944677: 6, 1.4202771125495577: 2, 5.5465131774998255: 2, 6.778343020231102: 1, 6.76857202712085: 3, 6.1788685204079465: 9, 6.964369852716783: 2, 7.149312846252109: 3, 6.79625049520251: 6, 6.875659436166226: 2, 7.132330862413984: 2, 5.461924357833947: 1, 8.043084717936917: 1, 6.866279392357909: 2, 6.398691946949776: 3, 7.025651597542011: 1, 7.549698237556787: 11, 6.267545016060659: 1, 5.3518094147755: 3, 6.046440914590844: 3, 5.353753534772923: 3, 5.466325479141556: 1, 6.424378375655323: 1, 5.283173315182652: 8, 5.0422033502571555: 4, 5.42792249126964: 1, 7.166955040735869: 1, 6.849372533588539: 1, 6.8492238131891545: 4, 5.911701702523041: 2, 5.405392428580928: 8, 2.265315464297561: 1, 5.423384707643649: 1, 5.343541914674843: 5, 5.20183629772748: 5, 5.437168946882064: 5, 6.980557285297048: 2, 6.143758765215572: 2, 5.288008253538721: 9, 7.313502561060121: 1, 7.143265995229795: 1, 5.412176903674863: 2, 7.1304178171662125: 3, 5.3673893905700005: 6, 1.5841443445671755: 1, 6.364425478951823: 1, 1.9252868459683559: 2, 5.339647147346726: 17, 6.300055249469813: 2, 6.896389074972664: 3, 1.7833333373926121: 2, 6.096193415717468: 2, 5.569596552699167: 2, 7.978879723850682: 1, 1.5399641932586352: 1, 5.326304743982667: 11, 5.425870419028746: 3, 6.2120955020881095: 4, 6.2183908913042: 2, 1.5689343741990684: 2, 6.353466327178536: 3, 5.290443308816095: 2, 6.646199381638266: 1, 5.44229647497151: 3, 1.4157297655537726: 1, 7.589793452540647: 1, 5.432085305024298: 2, 8.058787464539622: 4, 8.007512453166646: 5, 6.916229072021166: 1, 7.278063649455523: 5, 8.348370580386257: 1, 5.493032521293169: 4, 5.909572843985754: 6, 5.268760101566572: 6, 7.942094299328529: 5, 6.671312856629051: 5, 5.122476849065574: 7, 6.671692286778142: 1, 6.892684044776076: 3, 5.363022959602272: 4, 5.377615495017773: 4, 5.18287733134425: 1, 5.349634530395647: 1, 1.570506013699546: 2, 7.418890742955686: 2, 8.037407675927708: 1, 5.3341076474984215: 1, 5.404644020727438: 2, 1.412545596936679: 2, 5.354114654464833: 1, 5.100145262937675: 2, 5.990208965261878: 2, 5.106118204595393: 3, 6.737478029369871: 1, 7.468330183209243: 2, 6.89285325976562: 4, 6.233937890179689: 8, 6.134819399302748: 6, 5.174317921731451: 2, 6.021328708111905: 3, 6.861784104516857: 2, 7.045496409101249: 1, 7.14433807227836: 2, 7.165382047996743: 1, 5.8383613196767365: 3, 7.1134866925602624: 1, 5.27254726087389: 1, 5.289927490885961: 2, 5.649594277332912: 1, 6.903985948317196: 1, 1.547794158422267: 5, 6.540790970512151: 1, 6.213239559493715: 1, 1.8116137681192668: 6, 5.943071075289701: 2, 5.325054611931225: 5, 6.194602551391866: 2, 7.858499121843474: 6, 1.527307805642631: 3, 1.5131675902793038: 1, 5.989712962831418: 2, 1.5393568314623136: 1, 1.8263031487024055: 1, 5.51070140867119: 2, 7.556708371275676: 1, 1.6789229031547057: 1, 5.43175772679844: 4, 5.425374853483637: 1, 7.961424056967332: 3, 8.077173337168949: 1, 5.331831656924042: 2, 6.824805116035458: 1, 8.186173651470373: 1, 6.777900624570054: 2, 5.378248121109889: 2, 6.914575786262849: 3, 7.093780711845118: 1, 6.442542100918905: 1, 5.296736086980395: 3, 1.8133406269555448: 2, 8.130640923022822: 4, 5.196397804796739: 5, 6.325240962992779: 1, 1.4825202925377692: 1, 1.6209281941886655: 2, 6.126303098332222: 1, 5.527374588394684: 1, 5.325742974199643: 1, 6.976818654927628: 4, 1.6564455208144961: 1, 5.158463159883993: 1, 1.6510619876216706: 1, 8.164975426785336: 2, 5.363413790425759: 2, 7.556437356995731: 1, 6.9467627365186955: 1, 7.518234613740202: 2, 6.88607392270163: 1, 8.017171245268575: 1, 5.493018355584926: 3, 6.012942683286897: 1, 5.434673989444564: 2, 1.75286694851906: 1, 1.4609623731603505: 1, 7.34601241279147: 3, 6.583253450823004: 1, 7.222155291641881: 4, 5.378569958477762: 3, 6.842492269879556: 1, 5.663206342710918: 1, 6.296137111081788: 1, 6.405819686646446: 1, 5.293719366266102: 1, 5.248068098979453: 2, 5.179910776011461: 1, 6.059787255831306: 1, 1.4699333663483773: 1, 8.063045181614196: 2, 5.415098710076331: 2, 6.619538305776755: 1, 5.974661966386389: 1, 5.549170350381128: 2, 5.258808032499403: 2, 1.6789755835032074: 1, 5.9177348101223775: 1, 6.954714825471763: 3, 6.379327612058567: 2, 5.389845429705439: 3, 5.441417417904235: 4, 6.892311013096516: 1, 6.381305696276255: 2, 5.518010398792128: 3, 5.2618281198614065: 1, 5.327106684172119: 1, 1.445162968486105: 1, 7.046376926821746: 3, 6.973836152468142: 1, 7.325875989125631: 2, 5.247662154931523: 1, 1.62095714367056: 1, 5.423528111876683: 1, 5.295403249870317: 1, 6.318554993411837: 11, 6.899028787387359: 2, 6.9027190112350185: 3, 6.572748397681269: 1, 6.598800449698493: 1, 7.725912276097056: 3, 7.919703695802392: 2, 6.637798113955383: 1, 1.4519208716867242: 1, 6.351118144933197: 1, 6.494125549853256: 1, 1.8238437028069319: 1, 5.319377626305381: 7, 5.306837163130774: 1, 8.013585018868769: 1, 6.9947051442812915: 2, 6.259083672827999: 1, 5.37455966799364: 1, 6.301249905799145: 2, 7.513639329412245: 1, 5.371454952192497: 1, 5.6232535900578675: 2, 7.2857930475619614: 4, 1.6289870421582906: 1, 1.5661116343065893: 1, 6.155256497573475: 4, 7.520361786521118: 1, 5.9934572566895294: 1, 7.368016162910999: 1, 5.952370211250628: 1, 5.416538306148809: 4, 5.929444921550924: 2, 1.7966175471313905: 1, 6.334960629938218: 1, 7.068498761196895: 2, 6.976321968798268: 7, 5.3695759086640935: 3, 5.299347074582094: 6, 5.282573488698222: 1, 7.352127380135303: 2, 6.352370134181552: 1, 7.107817459325458: 1, 6.302775849523442: 1, 6.044244773051845: 2, 6.276049835315213: 4, 7.5594948406676465: 1, 6.956768114103857: 1, 5.806276190835541: 1, 6.853287415297146: 3, 5.814259820467618: 4, 7.752319248505723: 1, 1.6538615034454813: 1, 1.7796069675896835: 2, 5.456124509470048: 4, 1.615008048816469: 1, 6.860681742703513: 2, 6.887340881259586: 1, 6.340256992425456: 2, 1.5592652328117493: 1, 5.999734620604343: 2, 5.410412531477195: 1, 5.915657666605896: 1, 6.480571605282642: 1, 7.267641986233712: 2, 5.690897092159157: 2, 7.0443158233018845: 3, 7.371520215429218: 1, 6.1553744246887705: 2, 6.868032312638555: 5, 5.381049929004873: 1, 5.435738018478418: 5, 5.157364889337979: 3, 7.047205477335789: 2, 5.247119376377451: 4, 5.459016489020619: 4, 1.772801584872854: 1, 5.23447019930969: 5, 6.189934078886604: 1, 6.463385462281632: 1, 5.276710074628549: 3, 7.928533610576793: 3, 5.214066232415146: 1, 7.272299004870653: 2, 5.982966008955446: 3, 5.410048045137575: 3, 1.4036441602008762: 1, 1.5828847491576095: 1, 7.06045535357428: 2, 6.51614036208888: 1, 1.8167629534118994: 1, 6.362021932500995: 2, 6.225092963665787: 2, 5.57344015420451: 3, 6.715833029579544: 1, 6.0210125977383875: 1, 7.064602240529636: 3, 1.4078375566718444: 1, 2.0771602366525443: 1, 6.508388693732591: 1, 5.395751178313528: 1, 7.499326538237088: 1, 1.7213613671928527: 1, 5.486151429458449: 2, 6.859957255856939: 1, 7.997377692645973: 1, 7.997654412542104: 1, 6.6009400338549025: 1, 5.459666032651764: 1, 8.038464130624195: 1, 6.334746757388244: 2, 5.710261427050366: 3, 6.782629652326163: 1, 5.8527456932063755: 1, 4.9894250393843: 4, 7.013538981932131: 1, 6.957058197468491: 2, 1.4290049459912324: 1, 5.394783163192419: 2, 7.162952023799317: 3, 6.801427764109291: 2, 6.909009235089978: 2, 7.034542749379747: 2, 6.607299312728664: 1, 5.405084401786294: 1, 8.05600594784956: 1, 6.040866265966139: 1, 7.260228985949755: 1, 5.351773035192488: 3, 7.4363737946050605: 1, 7.032503640953376: 1, 5.13826398292625: 9, 7.099977105174407: 1, 6.119272400427259: 2, 7.618991951976489: 1, 7.5303388240461375: 4, 6.494288148264057: 1, 6.285494868774268: 2, 5.378740598771821: 1, 5.265751152065716: 2, 6.798765950314534: 2, 5.155876428106245: 1, 5.589562583896642: 1, 6.2048199813536495: 2, 5.187135048418825: 1, 7.318960213848632: 1, 5.291411323937204: 2, 6.947204649358789: 2, 5.931864599121515: 1, 6.428474128514933: 1, 7.215828294165325: 1, 1.6675913983823767: 1, 6.4811142112325495: 1, 5.282435314754781: 3, 5.227984305716648: 2, 2.181463667789154: 1, 5.895851217045265: 1, 1.4329910547977773: 1, 6.90192888111086: 2, 6.160345847458965: 1, 6.81885430228475: 1, 5.337404595707982: 2, 7.1000446852294194: 1, 7.080186667324668: 1, 5.409827854608148: 1, 5.285203932116952: 1, 7.315096894601851: 1, 7.341410532814463: 2, 6.405139772163238: 1, 1.6446936503874838: 2, 7.149802908740273: 1, 5.447727207219704: 3, 1.609782316620785: 2, 6.256255734259744: 1, 5.30754009785426: 5, 5.3385346786703325: 1, 5.606993597850963: 1, 7.168036824554967: 1, 6.626949213213323: 1, 7.087178331120063: 3, 6.366665143808686: 2, 6.740832063583635: 4, 5.695306255325765: 2, 7.2485511912594305: 7, 5.8891332656711475: 2, 7.5536508876037605: 1, 1.5884576879415497: 1, 5.454736030849223: 1, 7.5696296011883195: 1, 5.133659059263419: 2, 5.9768721241269205: 1, 6.9669282107181365: 1, 5.9665617432586355: 1, 1.8755286224575032: 1, 6.454991636251764: 1, 6.4568795056159525: 1, 7.6997782194003: 1, 1.5072551163395764: 3, 5.388039734732747: 1, 5.451220465266283: 1, 5.054433284944821: 1, 1.4377327794329071: 3, 6.595483385510669: 1, 6.182298415405871: 1, 7.3938586227362855: 2, 6.862303347881376: 1, 6.527099513862167: 3, 5.618282879651877: 1, 1.4879603357509783: 1, 6.9591240328273845: 1, 1.4383040819521584: 1, 6.490913960852611: 1, 8.228890281123572: 1, 5.635274561889497: 1, 7.1420062357411975: 1, 5.394501046262086: 1, 1.6716643769170867: 1, 6.113649082600817: 2, 5.450778480266067: 4, 6.641076742477876: 2, 5.466409461111437: 1, 1.9431218292431134: 1, 1.5735856131966832: 1, 7.539563477036114: 1, 7.958643293191548: 3, 7.975555025997528: 1, 5.51975837465555: 1, 1.709181482431212: 1, 6.812739334940917: 1, 6.653076118356402: 1, 5.346246122251114: 1, 6.901020221956583: 1, 7.351856365855356: 1, 5.222240264622024: 2, 6.279755921674272: 1, 7.334998808306586: 1, 5.46133500575361: 1, 5.443532132282005: 1, 7.242189322255898: 4, 5.470162366588499: 1, 7.0346924835652445: 1, 6.023461349470746: 3, 6.478684026164945: 1, 6.944740765380213: 2, 5.5041783988610495: 1, 6.389995336032711: 1, 6.841835984333757: 1, 5.385168933382149: 1, 1.3949163267592015: 1, 5.330915910109806: 1, 5.3699040514369925: 2, 6.489902970018463: 2, 6.261351093768924: 1, 7.214058075547369: 2, 7.322483049946888: 1, 6.282981319179721: 1, 7.437745727469348: 1, 6.2533600220567225: 1, 5.207756443099677: 1, 6.923872110195176: 1, 6.465567212357059: 1, 6.6388633764304945: 1, 6.53091771855653: 1, 7.953733397914017: 1, 6.283696113690542: 1, 6.204732478257842: 1, 7.474174136273129: 2, 7.068741264636702: 1, 6.826577321487806: 1, 6.22798967507702: 1, 5.539931024930016: 1, 6.256585419562172: 2, 1.6614672362713563: 2, 7.524349581084035: 1, 5.898256020480028: 1, 1.4444190492959907: 1, 6.159691217625167: 1, 6.039554899221976: 1, 6.543575531371271: 1, 7.404801154358762: 1, 7.503609841357473: 1, 7.1602815000673194: 1, 6.8214434245318785: 1, 6.225696549142846: 2, 7.209590620305898: 1, 6.320892657534246: 1, 6.64536467477562: 1, 5.331607560993046: 2, 6.314118378922492: 3, 2.3556127298911047: 1, 1.9372016838709167: 1, 1.4961092387716959: 4, 1.6720254966089965: 1, 6.777056713542223: 1, 6.945370291340718: 2, 5.879657748558176: 1, 6.008032075715921: 1, 6.217138373341563: 1, 7.106476604566682: 3, 6.833676814313665: 1, 6.474246614789374: 1, 6.965010286421559: 1, 7.576657173337713: 2, 6.146546323693647: 1, 7.987242932125301: 1, 5.35532617827544: 1, 6.429594508670144: 1, 5.5293656344310635: 1, 6.505813455981029: 2, 5.8415495626383915: 1, 7.089917789936944: 1, 5.384016631859645: 1, 6.22873351657817: 1, 8.074518069429397: 1, 7.018573991205223: 1, 7.1770067052728885: 2, 7.5801647628371: 2, 6.936177192204265: 1, 6.203940423532789: 1, 7.212960340951529: 1, 6.983734969082224: 1, 6.6481332966618325: 1, 6.983429299317376: 1, 6.454121702362158: 1, 7.962901010266123: 1, 7.307796797681491: 1, 6.565073361055772: 1, 5.973267735983269: 1, 7.185537496210696: 1, 7.034636892518982: 1, 6.661746380513756: 1, 1.772532693166457: 1, 6.154183734193958: 1, 7.015296066180884: 1, 6.476700265963988: 2, 7.011669407131677: 1, 6.363780613183077: 1, 6.0716300962505: 1, 6.367406513168185: 1, 6.3100920133080916: 1, 5.113384871170823: 5, 7.471387666881159: 1, 6.292518207594542: 2, 1.3977027961511717: 1, 8.045871187328888: 1, 6.513123805888888: 1, 6.9159109352862735: 2, 5.472763000251824: 1, 6.70959959857089: 1, 5.535890022543834: 1, 6.988009874926041: 3, 6.458442928454561: 1, 6.938405481449369: 1, 7.731485214880997: 1, 5.3854840272314926: 1, 5.387297791919436: 1, 1.4470319153938331: 1, 6.3382301855873955: 1, 5.351985795927545: 1, 1.7494257726173084: 1, 7.0273094042942175: 1, 5.353461796783288: 1, 1.468018957482532: 1, 6.573815442702463: 1, 5.890397323241245: 1, 6.268412424814903: 1, 6.552679482893045: 1, 6.1954265235556605: 1, 5.398902167569695: 1, 5.320507709267732: 3, 6.5801696071705065: 1, 6.146858990539621: 1, 7.064746575133737: 1, 6.153057901176498: 1, 1.7369083660683424: 1, 7.214929835721686: 1, 8.023296870930501: 2, 7.051949865605686: 1, 6.230337857322359: 1, 7.464039375752457: 1, 6.7779305356318975: 1, 7.22122011760939: 1, 6.596191872888279: 1, 6.9138813428665795: 1, 1.4803914340004816: 1, 6.542138580362197: 2, 7.994591223254003: 1, 6.556806652273724: 1, 6.298198632752783: 1, 6.0738790553091135: 1, 1.5901289370610427: 1, 6.283081400041553: 1, 6.785687135998079: 1, 6.2613265796873945: 1, 6.169100465597096: 1, 6.668623117231891: 1, 5.3162652529395835: 1, 7.048359765578849: 2, 1.8881012413489748: 1, 5.98320915679525: 1, 7.046516310276852: 2, 9.113686044683817: 1, 5.3382065358974335: 1, 6.236314355991298: 2, 5.560019251123188: 1, 6.953319616702622: 1, 6.599862103752271: 1, 7.345596108613307: 1, 1.6818901942311881: 1, 5.306035222941322: 1, 6.717554751688987: 1, 6.700286030704055: 1, 6.665306053044067: 1, 7.179184975423534: 1, 6.509720000388704: 1, 6.619217656844754: 1, 6.920312056593883: 1, 1.7616557073049735: 1, 6.795708466642617: 1, 5.398681977040267: 2, 6.160931205701726: 1, 5.881507840895003: 1, 5.385122907539583: 1, 6.520658110342343: 1, 5.301589186383976: 1, 7.196022991928931: 1, 5.307749818790434: 1, 5.320403662425828: 1, 5.869455317427716: 1, 5.447609075320899: 1, 7.036129830891183: 1, 1.63412614399744: 1, 6.988464308590468: 1, 1.7673770329020182: 1, 7.470603563010266: 1, 1.997394723578759: 1, 7.432172788685408: 1, 6.262710255608847: 1, 1.4319650186773303: 1, 6.189976830201864: 1, 1.6408985219390064: 1, 6.42318371932599: 1, 7.083478283664171: 1, 5.325976601209768: 1, 7.458466436968517: 1, 5.311034230715687: 1, 6.102231643432093: 1, 7.113432492829859: 1, 5.9787809707636645: 2, 1.4064306295928464: 1, 5.594164521920529: 1, 7.194167918666553: 1, 6.538456790671046: 1, 1.7135005666635719: 1, 5.347088169520888: 1, 6.36386151589013: 1, 5.360604915476066: 1, 6.635350480896207: 1, 8.305044404251975: 1, 6.293035890606109: 1, 6.861060439716312: 1, 6.727469206043811: 1, 5.37112523400654: 1, 6.656510552343501: 1, 6.2435366739525096: 1, 6.621376274429383: 1, 6.298326345698099: 1, 7.0123292428145785: 1, 5.97867827046418: 1, 1.5587996136783957: 1, 7.089501372014852: 1, 1.4139525240156772: 1, 6.892535123030728: 1, 6.788925788741125: 1, 5.824874462757393: 1, 7.246015502716488: 1, 6.19902655641299: 1, 1.4582454602206048: 1, 7.138434031735801: 1, 7.582550831100963: 1, 7.171200433279248: 1, 6.356031242003285: 1, 7.02359263183993: 1, 6.455755835088858: 1, 9.036205834542596: 1, 6.262638879777841: 1}\n",
      "../rcv_elections_database/single/Oakland_11042014_SchoolDirectorDistrict4.csv\n"
     ]
    },
    {
     "name": "stderr",
     "output_type": "stream",
     "text": [
      "/Users/es5891/Documents/GitHub/bugs-in-democracy/rcv_exploration/../rcv_learning/rcv_dimensionality.py:188: RuntimeWarning: divide by zero encountered in divide\n",
      "  distance = 1 / np.sqrt(freq_upper_triangle)\n"
     ]
    },
    {
     "name": "stdout",
     "output_type": "stream",
     "text": [
      "Normalized distances: {'NINA SENN': 0.0, 'KARL DEBRO': 0.764315637373038, 'SALEEM SHAKIR-GILMORE': 1.350494811042097, 'CHERI SPIGNER': 3.0}\n"
     ]
    },
    {
     "name": "stderr",
     "output_type": "stream",
     "text": [
      "/Users/es5891/Documents/GitHub/bugs-in-democracy/rcv_exploration/../rcv_learning/rcv_dimensionality.py:188: RuntimeWarning: divide by zero encountered in divide\n",
      "  distance = 1 / np.sqrt(freq_upper_triangle)\n"
     ]
    },
    {
     "name": "stdout",
     "output_type": "stream",
     "text": [
      "Consistency points: {1.5940592569013101: 114, 0.19107890934325938: 791, 0.75: 196, 0.0: 1527, 0.33762370276052406: 608, 1.7628711082815722: 77, 0.2643513060518917: 851, 0.543811851380262: 416, 3.0: 379, 0.7643156373730375: 1524, 0.8153209761186725: 757, 1.3504948110420962: 735, 0.9108604307903022: 333, 1.323236728029778: 116}\n",
      "../rcv_elections_database/single/SanFrancisco_11082005_AssessorRecorder.csv\n"
     ]
    },
    {
     "name": "stderr",
     "output_type": "stream",
     "text": [
      "/Users/es5891/Documents/GitHub/bugs-in-democracy/rcv_exploration/../rcv_learning/rcv_dimensionality.py:188: RuntimeWarning: divide by zero encountered in divide\n",
      "  distance = 1 / np.sqrt(freq_upper_triangle)\n"
     ]
    },
    {
     "name": "stdout",
     "output_type": "stream",
     "text": [
      "Normalized distances: {'Gerardo Sandoval': 0.0, 'Ronald Chun': 0.30190213108589387, 'Phil Ting': 1.07523954558582, 'Anthony Faber': 3.0}\n"
     ]
    },
    {
     "name": "stderr",
     "output_type": "stream",
     "text": [
      "/Users/es5891/Documents/GitHub/bugs-in-democracy/rcv_exploration/../rcv_learning/rcv_dimensionality.py:188: RuntimeWarning: divide by zero encountered in divide\n",
      "  distance = 1 / np.sqrt(freq_upper_triangle)\n"
     ]
    },
    {
     "name": "stdout",
     "output_type": "stream",
     "text": [
      "Consistency points: {2.6769062248730906: 5939, 2.7735734016855815: 1461, 2.698097868914109: 9902, 3.0: 23911, 2.1558325744249: 23630, 2.1180948080391633: 10025, 2.193570340810636: 6337, 1.9247604544141814: 33114, 0.0: 4, 1.8774997512373905: 2, 0.7122622336142637: 2, 0.75: 1, 0.5778572904160363: 2, 0.6745244672285272: 1}\n",
      "../rcv_elections_database/single/SanFrancisco_11062018_BoardofSupervisorsDistrict8.csv\n"
     ]
    },
    {
     "name": "stderr",
     "output_type": "stream",
     "text": [
      "/Users/es5891/Documents/GitHub/bugs-in-democracy/rcv_exploration/../rcv_learning/rcv_dimensionality.py:188: RuntimeWarning: divide by zero encountered in divide\n",
      "  distance = 1 / np.sqrt(freq_upper_triangle)\n"
     ]
    },
    {
     "name": "stdout",
     "output_type": "stream",
     "text": [
      "Normalized distances: {\"LAWRENCE ''STARK'' DAGESSE\": 0.0, 'RAFAEL MANDELMAN': 1.0}\n"
     ]
    },
    {
     "name": "stderr",
     "output_type": "stream",
     "text": [
      "/Users/es5891/Documents/GitHub/bugs-in-democracy/rcv_exploration/../rcv_learning/rcv_dimensionality.py:188: RuntimeWarning: divide by zero encountered in divide\n",
      "  distance = 1 / np.sqrt(freq_upper_triangle)\n"
     ]
    },
    {
     "name": "stdout",
     "output_type": "stream",
     "text": [
      "Consistency points: {1.0: 28572, 0.0: 1530, 0.25: 2070}\n",
      "Error in file: ../rcv_elections_database/single/SanFrancisco_11062018_BoardofSupervisorsDistrict8.csv\n",
      "unsupported operand type(s) for -: 'float' and 'NoneType'\n",
      "../rcv_elections_database/single/Minneapolis_11072017_Ward8CityCouncil.csv\n"
     ]
    },
    {
     "name": "stderr",
     "output_type": "stream",
     "text": [
      "/Users/es5891/Documents/GitHub/bugs-in-democracy/rcv_exploration/../rcv_learning/rcv_dimensionality.py:188: RuntimeWarning: divide by zero encountered in divide\n",
      "  distance = 1 / np.sqrt(freq_upper_triangle)\n"
     ]
    },
    {
     "name": "stdout",
     "output_type": "stream",
     "text": [
      "Normalized distances: {'David Holsinger': 0.0, 'April Kane': 1.9139318767112337, 'Terry White': 2.402382025584565, 'Andrea Jenkins': 3.0}\n"
     ]
    },
    {
     "name": "stderr",
     "output_type": "stream",
     "text": [
      "/Users/es5891/Documents/GitHub/bugs-in-democracy/rcv_exploration/../rcv_learning/rcv_dimensionality.py:188: RuntimeWarning: divide by zero encountered in divide\n",
      "  distance = 1 / np.sqrt(freq_upper_triangle)\n"
     ]
    },
    {
     "name": "stdout",
     "output_type": "stream",
     "text": [
      "Consistency points: {3.0: 1799, 2.5517865191884237: 205, 2.490730250579257: 267, 2.402382025584565: 194, 0.0: 147, 2.251488765990353: 42, 0.75: 20, 1.9462074229445208: 67, 2.185448907533425: 220, 0.6005955063961412: 57, 0.6752977531980706: 38, 1.9139318767112332: 103, 0.6142414845889042: 23, 0.4784829691778083: 15, 0.5395392377869748: 9, 2.036044413929566: 9, 2.1107466607314955: 27, 1.796802929340662: 15}\n",
      "../rcv_elections_database/single/Oakland_11082022_CityAuditor.csv\n",
      "Error in file: ../rcv_elections_database/single/Oakland_11082022_CityAuditor.csv\n",
      "zero-size array to reduction operation minimum which has no identity\n",
      "../rcv_elections_database/single/Alaska_11082022_HouseDistrict19.csv\n"
     ]
    },
    {
     "name": "stderr",
     "output_type": "stream",
     "text": [
      "/Users/es5891/Documents/GitHub/bugs-in-democracy/rcv_exploration/../rcv_learning/rcv_dimensionality.py:188: RuntimeWarning: divide by zero encountered in divide\n",
      "  distance = 1 / np.sqrt(freq_upper_triangle)\n"
     ]
    },
    {
     "name": "stdout",
     "output_type": "stream",
     "text": [
      "Normalized distances: {'Wyatt, Russell O.': 0.0, 'Mina, Genevieve G.': 1.0}\n"
     ]
    },
    {
     "name": "stderr",
     "output_type": "stream",
     "text": [
      "/Users/es5891/Documents/GitHub/bugs-in-democracy/rcv_exploration/../rcv_learning/rcv_dimensionality.py:188: RuntimeWarning: divide by zero encountered in divide\n",
      "  distance = 1 / np.sqrt(freq_upper_triangle)\n"
     ]
    },
    {
     "name": "stdout",
     "output_type": "stream",
     "text": [
      "Consistency points: {0.25: 362, 0.0: 340, 1.0: 1088}\n",
      "../rcv_elections_database/single/Maine_11062018_CongressionalDistrict2.csv\n",
      "Skipping file: ../rcv_elections_database/single/Maine_11062018_CongressionalDistrict2.csv\n",
      "../rcv_elections_database/single/Alaska_11082022_HouseDistrict31.csv\n"
     ]
    },
    {
     "name": "stderr",
     "output_type": "stream",
     "text": [
      "/Users/es5891/Documents/GitHub/bugs-in-democracy/rcv_exploration/../rcv_learning/rcv_dimensionality.py:188: RuntimeWarning: divide by zero encountered in divide\n",
      "  distance = 1 / np.sqrt(freq_upper_triangle)\n"
     ]
    },
    {
     "name": "stdout",
     "output_type": "stream",
     "text": [
      "Normalized distances: {'Dibert, Maxine L.': 0.0, 'LeBon, Barton S.': 1.3075284126243365, 'Nash, Kelly': 2.0}\n"
     ]
    },
    {
     "name": "stderr",
     "output_type": "stream",
     "text": [
      "/Users/es5891/Documents/GitHub/bugs-in-democracy/rcv_exploration/../rcv_learning/rcv_dimensionality.py:188: RuntimeWarning: divide by zero encountered in divide\n",
      "  distance = 1 / np.sqrt(freq_upper_triangle)\n"
     ]
    },
    {
     "name": "stdout",
     "output_type": "stream",
     "text": [
      "Consistency points: {1.4806463094682525: 478, 0.0: 1339, 0.41344105157804206: 373, 1.3172052578902103: 209, 2.0: 401, 0.3268821031560841: 364, 1.3075284126243365: 587, 0.5: 70}\n",
      "../rcv_elections_database/single/Alaska_11082022_HouseDistrict25.csv\n"
     ]
    },
    {
     "name": "stderr",
     "output_type": "stream",
     "text": [
      "/Users/es5891/Documents/GitHub/bugs-in-democracy/rcv_exploration/../rcv_learning/rcv_dimensionality.py:188: RuntimeWarning: divide by zero encountered in divide\n",
      "  distance = 1 / np.sqrt(freq_upper_triangle)\n"
     ]
    },
    {
     "name": "stdout",
     "output_type": "stream",
     "text": [
      "Normalized distances: {'Johnson, DeLena M.': 0.0, 'Wood, Lawrence D.': 1.0}\n"
     ]
    },
    {
     "name": "stderr",
     "output_type": "stream",
     "text": [
      "/Users/es5891/Documents/GitHub/bugs-in-democracy/rcv_exploration/../rcv_learning/rcv_dimensionality.py:188: RuntimeWarning: divide by zero encountered in divide\n",
      "  distance = 1 / np.sqrt(freq_upper_triangle)\n"
     ]
    },
    {
     "name": "stdout",
     "output_type": "stream",
     "text": [
      "Consistency points: {1.0: 3697, 0.0: 824, 0.25: 708}\n",
      "../rcv_elections_database/single/SanFrancisco_11082016_BoardofSupervisorsDistrict1.csv\n"
     ]
    },
    {
     "name": "stderr",
     "output_type": "stream",
     "text": [
      "/Users/es5891/Documents/GitHub/bugs-in-democracy/rcv_exploration/../rcv_learning/rcv_dimensionality.py:188: RuntimeWarning: divide by zero encountered in divide\n",
      "  distance = 1 / np.sqrt(freq_upper_triangle)\n"
     ]
    },
    {
     "name": "stdout",
     "output_type": "stream",
     "text": [
      "Normalized distances: {\"SHERMAN R. D'SILVA\": 0.0, 'SAMUEL KWONG': 3.6182526648976223, 'RICHIE GREENBERG': 4.710899330886987, 'BRIAN J. LARKIN': 5.39196063676061, 'DAVID LEE': 5.628455195988027, 'JONATHAN LYENS': 6.24342422339015, 'SANDRA LEE FEWER': 6.899098682564919, 'MARJAN PHILHOUR': 7.022409113007977, 'ANDY THORNLEY': 8.526484477612854, 'JASON JUNGREIS': 9.0}\n"
     ]
    },
    {
     "name": "stderr",
     "output_type": "stream",
     "text": [
      "/Users/es5891/Documents/GitHub/bugs-in-democracy/rcv_exploration/../rcv_learning/rcv_dimensionality.py:188: RuntimeWarning: divide by zero encountered in divide\n",
      "  distance = 1 / np.sqrt(freq_upper_triangle)\n"
     ]
    },
    {
     "name": "stdout",
     "output_type": "stream",
     "text": [
      "Consistency points: {8.080458553692383: 3590, 6.72654336053983: 2469, 6.938361431814437: 1675, 6.135818397602714: 358, 5.966578998458645: 153, 5.251272029607463: 5, 6.719576509173557: 96, 4.317751588703624: 3, 7.0650221588279685: 1071, 6.948333655940721: 56, 1.460095343844924: 6, 4.938051542545881: 3, 5.4483541318845035: 18, 7.179964839616421: 85, 4.955371903449864: 18, 1.8508752392790266: 34, 5.713257544431583: 508, 5.025793278713373: 38, 6.786316405994377: 269, 6.305057796746783: 182, 6.22420423876049: 178, 4.133925605146535: 86, 5.366214710395916: 4, 5.967505206327808: 77, 4.653869462613359: 18, 5.223548242682352: 42, 1.4029300873013664: 16, 5.096887515668821: 15, 5.973438761323726: 11, 6.354227930949994: 13, 4.496897337871101: 175, 4.8306754745925335: 14, 6.823784054194736: 165, 4.987152861186892: 17, 6.655330207376522: 68, 1.9935417069925903: 3, 4.79663852347397: 79, 5.852001620838943: 137, 1.4306538742264778: 4, 4.8231088617574285: 21, 0.0: 87, 4.927648116524752: 26, 7.795658866470806: 18, 6.086272874105902: 56, 4.158497192200293: 3, 7.294907520404873: 23, 4.527208735599828: 22, 5.6247744340855785: 8, 8.141104516125218: 54, 5.082032630463394: 19, 4.9923482609014975: 8, 5.057574236450401: 12, 5.180177792652016: 6, 1.870938150790976: 8, 5.338490923470804: 7, 4.558989693336857: 10, 4.4921966763043955: 11, 1.582698900046538: 7, 3.962978163304536: 57, 1.8785990262041379: 4, 4.30243713775139: 19, 1.7242145122654957: 25, 6.1572647448808135: 27, 1.586756070858455: 13, 5.184234963463932: 7, 6.1635421845278255: 36, 7.231364880378637: 32, 1.2762693602878354: 4, 5.128668473405849: 15, 7.076980366439995: 34, 5.507730322614873: 3, 6.610686223957404: 5, 5.279114732740435: 24, 4.800987389511221: 13, 4.8113908155323495: 6, 1.2095294634670148: 7, 5.590900603692835: 51, 8.310343915269288: 74, 5.7768194599056395: 6, 5.662242082285937: 18, 6.311917559611864: 7, 6.781990934390053: 55, 4.864549304985277: 22, 6.326504144024883: 23, 8.16882830305033: 67, 5.252421805404697: 30, 5.307869379254919: 13, 7.862398763291627: 18, 5.814533972638585: 29, 6.495743543168952: 15, 5.0543088435382835: 27, 6.949461870750461: 17, 1.755995470002524: 7, 4.726861352065335: 1, 2.1350573192115476: 6, 8.014443789111688: 43, 7.016201767571282: 13, 6.534943158323687: 2, 5.9943027853837565: 51, 4.0964579569461765: 12, 1.491876301581952: 6, 6.420000477535235: 16, 8.046224746848715: 18, 6.68711116511355: 40, 1.6816358401349576: 12, 5.152454005726904: 41, 4.681593249538471: 10, 5.7477940758177635: 22, 7.346307561167089: 14, 4.85083264868254: 11, 6.858195443799113: 7, 5.306838519665546: 6, 6.59270853496295: 3, 7.461250241955541: 1, 4.55493252252494: 3, 1.5721694864454354: 7, 4.728229092480926: 6, 4.696448134743898: 8, 3.968737653647287: 14, 6.212712318731036: 9, 4.5050927374509975: 19, 1.1242243344677751: 4, 6.066353983374307: 8, 4.547644250154618: 7, 1.5549751131214267: 16, 6.010906409524084: 11, 4.9215857336921935: 11, 4.95942907426178: 21, 5.749805392377976: 4, 4.832768347248249: 10, 4.5867134802619685: 4, 9.0: 33, 6.2451776627910425: 2, 4.965775329470992: 2, 5.211958750389043: 12, 6.454089600337394: 4, 2.0201146384230957: 9, 6.924935340619934: 9, 4.496975990488431: 3, 7.1087613241770224: 8, 1.9658179200674788: 3, 4.571832634271818: 2, 1.3455179662252221: 4, 1.1991596308684924: 1, 1.2413104212040431: 4, 7.899866411491986: 6, 5.353474362608001: 8, 5.907449194689166: 11, 1.4283143861078957: 6, 5.869981546488807: 11, 1.609637134645794: 1, 5.622673003403325: 3, 1.6871121672338876: 3, 4.238875222277334: 9, 5.476077918809615: 2, 1.6144798577835662: 8, 1.3080503180248635: 12, 5.089355194187429: 3, 1.7370834139851803: 1, 3.905175738173231: 1, 5.617593531028573: 15, 5.392787641826422: 12, 1.7093596270600688: 9, 4.426213463279127: 4, 6.028886335173948: 7, 0.990744540826134: 4, 5.803241649667987: 11, 1.5054295896246148: 2, 2.25: 4, 5.9796907539548805: 5, 6.725628904745856: 5, 6.278484865316277: 6, 4.400548008586298: 2, 1.3361901904805458: 6, 1.440397735501725: 3, 5.060560836169438: 6, 1.313737008488194: 4, 5.962146438353128: 8, 6.022026572308867: 9, 7.05366941577164: 3, 1.8391571930539479: 5, 3.676020982933827: 1, 5.906698864502904: 3, 5.82078596526974: 3, 1.0574844376469545: 2, 4.679534917306189: 2, 5.10729094168995: 1, 5.109756417388506: 5, 5.5910205995980675: 1, 6.184988531805925: 5, 4.464109924060354: 3, 4.709317036463582: 3, 1.0949520858473132: 1, 4.432328966323325: 4, 5.334562306590658: 2, 1.7245798154342462: 1, 4.285970630966596: 1, 4.213944766050515: 3, 7.192288350397197: 1, 1.363913977405657: 2, 5.563296812672956: 1, 6.962402988820292: 3, 5.732536211817025: 1, 5.222233622478402: 1, 4.98514764916625: 1, 7.154820702196838: 1}\n",
      "../rcv_elections_database/single/Berkeley_11062018_CityCouncilDistrict7.csv\n"
     ]
    },
    {
     "name": "stderr",
     "output_type": "stream",
     "text": [
      "/Users/es5891/Documents/GitHub/bugs-in-democracy/rcv_exploration/../rcv_learning/rcv_dimensionality.py:188: RuntimeWarning: divide by zero encountered in divide\n",
      "  distance = 1 / np.sqrt(freq_upper_triangle)\n"
     ]
    },
    {
     "name": "stdout",
     "output_type": "stream",
     "text": [
      "Normalized distances: {'AIDAN HILL': 0.0, 'RIGEL ROBINSON': 1.1673575136625292, \"CECILIA ''CES'' ROSALES\": 2.0}\n"
     ]
    },
    {
     "name": "stderr",
     "output_type": "stream",
     "text": [
      "/Users/es5891/Documents/GitHub/bugs-in-democracy/rcv_exploration/../rcv_learning/rcv_dimensionality.py:188: RuntimeWarning: divide by zero encountered in divide\n",
      "  distance = 1 / np.sqrt(freq_upper_triangle)\n"
     ]
    },
    {
     "name": "stdout",
     "output_type": "stream",
     "text": [
      "Consistency points: {2.0: 163, 1.167357513662529: 330, 0.3959196892078161: 80, 0.0: 30, 1.2295984460390805: 726, 1.3755181352468968: 236, 0.29183937841563223: 58, 0.5: 14}\n",
      "../rcv_elections_database/single/SanFrancisco_11052019_CityAttorney.csv\n",
      "Error in file: ../rcv_elections_database/single/SanFrancisco_11052019_CityAttorney.csv\n",
      "zero-size array to reduction operation minimum which has no identity\n",
      "../rcv_elections_database/single/Maine_06122018_DemocraticPrimaryforCD2.csv\n"
     ]
    },
    {
     "name": "stderr",
     "output_type": "stream",
     "text": [
      "/Users/es5891/Documents/GitHub/bugs-in-democracy/rcv_exploration/../rcv_learning/rcv_dimensionality.py:188: RuntimeWarning: divide by zero encountered in divide\n",
      "  distance = 1 / np.sqrt(freq_upper_triangle)\n"
     ]
    },
    {
     "name": "stdout",
     "output_type": "stream",
     "text": [
      "Normalized distances: {'Golden, Jared F.': 0.0, 'St. Clair, Lucas R.': 0.7858564122492668, 'Olson, Craig R.': 1.7627585953411335, 'Fulford, Jonathan S.': 3.0}\n"
     ]
    },
    {
     "name": "stderr",
     "output_type": "stream",
     "text": [
      "/Users/es5891/Documents/GitHub/bugs-in-democracy/rcv_exploration/../rcv_learning/rcv_dimensionality.py:188: RuntimeWarning: divide by zero encountered in divide\n",
      "  distance = 1 / np.sqrt(freq_upper_triangle)\n"
     ]
    },
    {
     "name": "stdout",
     "output_type": "stream",
     "text": [
      "Consistency points: {3.0: 5719, 1.2372414046588673: 965, 2.2141435877507334: 4733, 2.1338397423442084: 284, 2.2111673301353876: 2118, 2.41060769081305: 2835, 1.5796990019629922: 357, 0.48053914981677925: 140, 1.502371414171813: 446, 2.288494917926567: 1682, 1.4369841870582962: 195, 1.6779310534941505: 204, 0.4314231240512001: 57, 1.523275877911792: 80, 0.0: 632, 1.4814669504318339: 250, 0.30931035116471683: 82, 1.3268117748494754: 65, 0.6517679484688417: 49, 0.5535358969376833: 134, 0.75: 95, 0.5296551755823584: 46}\n",
      "../rcv_elections_database/single/Minneapolis_11022021_Mayor.csv\n"
     ]
    },
    {
     "name": "stderr",
     "output_type": "stream",
     "text": [
      "/Users/es5891/Documents/GitHub/bugs-in-democracy/rcv_exploration/../rcv_learning/rcv_dimensionality.py:177: RuntimeWarning: divide by zero encountered in divide\n",
      "  frequencies = counts / mentioned_together\n",
      "/Users/es5891/Documents/GitHub/bugs-in-democracy/rcv_exploration/../rcv_learning/rcv_dimensionality.py:177: RuntimeWarning: invalid value encountered in divide\n",
      "  frequencies = counts / mentioned_together\n",
      "/Users/es5891/Documents/GitHub/bugs-in-democracy/rcv_exploration/../rcv_learning/rcv_dimensionality.py:188: RuntimeWarning: divide by zero encountered in divide\n",
      "  distance = 1 / np.sqrt(freq_upper_triangle)\n"
     ]
    },
    {
     "name": "stdout",
     "output_type": "stream",
     "text": [
      "Normalized distances: {'Kevin \"No Body\" Ward': 0.0, 'Doug Nelson': 0.0030688840428595076, 'Perry, Jerrell': 0.0036249687810682874, 'AJ Awed': 0.003961254555263576, 'Marcus Harcus': 0.0041819764623776375, 'Nate \"Honey Badger\" Atkins': 0.004382999393340226, 'Christopher W David': 0.004419882460008711, 'Paul E. Johnson': 0.004522498322161251, 'Jacob Frey': 0.004599216751851202, 'Mark Globus': 0.004733155168459063, 'Clint Conner': 0.004855228408870845, 'Mike Winter': 0.0049698241782795555, 'Troy Benjegerdes': 0.005473727506256404, 'Laverne Turner': 0.0063313403652853215, 'Sheila Nezhad': 1.1323885049601907, 'Bob \"Again\" Carney Jr': 1.133839541665464, 'Kate Knuth': 1.1345742206589293, 'Christopher Robin \"CRZ\" Zimmerman': 17.0}\n"
     ]
    },
    {
     "name": "stderr",
     "output_type": "stream",
     "text": [
      "/Users/es5891/Documents/GitHub/bugs-in-democracy/rcv_exploration/../rcv_learning/rcv_dimensionality.py:177: RuntimeWarning: divide by zero encountered in divide\n",
      "  frequencies = counts / mentioned_together\n",
      "/Users/es5891/Documents/GitHub/bugs-in-democracy/rcv_exploration/../rcv_learning/rcv_dimensionality.py:177: RuntimeWarning: invalid value encountered in divide\n",
      "  frequencies = counts / mentioned_together\n",
      "/Users/es5891/Documents/GitHub/bugs-in-democracy/rcv_exploration/../rcv_learning/rcv_dimensionality.py:188: RuntimeWarning: divide by zero encountered in divide\n",
      "  distance = 1 / np.sqrt(freq_upper_triangle)\n"
     ]
    },
    {
     "name": "stdout",
     "output_type": "stream",
     "text": [
      "Consistency points: {0.004601086128207286: 29523, 1.1329349338848744: 12266, 0.28709436976088754: 3299, 0.004655761254125978: 101, 1.1345742206589282: 1900, 0.004572236299253889: 1007, 0.004654088591261537: 2127, 0.004813095980424289: 536, 0.005580444696690566: 21, 0.004641309167726116: 479, 1.1323885049601898: 1446, 0.0036357829418011403: 1, 0.006331340365300855: 1143, 0.003946267792146111: 2983, 0.005033649687480678: 516, 0.28654794083620294: 748, 0.2866032560088417: 190, 0.004416834407149101: 88, 0.28682115529854524: 1387, 0.004109972376161404: 686, 0.004710860592140919: 126, 0.28663027168415317: 6, 0.28820839069034143: 590, 0.004682992764061262: 96, 0.004736419439211761: 42, 0.0045320739229289305: 47, 0.004722697631220057: 110, 1.1338395416654632: 511, 0.005279369595042606: 27, 0.2863300415464994: 266, 0.0046285297441906945: 318, 0.0033700822718327225: 9, 0.28567200373417834: 99, 0.004928712671623189: 109, 0.2869107000125213: 214, 0.2870025348867044: 22, 0.0047644592671946834: 10, 0.0038828295696370714: 1, 0.004631057126129263: 156, 0.004162974839215655: 81, 0.004626966724759973: 84, 0.004603434252748281: 87, 0.004601407877689131: 41, 0.004632338425548005: 19, 0.004086940911029131: 14, 0.0041958514201012355: 177, 0.0011502715320518215: 17, 0.0: 58, 0.004438354929197905: 71, 0.003624968781546434: 95, 0.004544803973267623: 2, 0.004522498322159005: 47, 0.2878456315140231: 10, 0.004503850655340634: 6, 1.1340232114138296: 3, 0.004384111196194777: 184, 0.004577875405677438: 42, 0.004788377055195326: 2, 0.004452076737189608: 10, 0.004699666166087784: 8, 0.0030688840423847307: 100, 0.0032079052271751568: 1, 0.28715641992008323: 10, 0.004845925770328106: 19, 0.005635925317026693: 1, 0.004829220729688593: 11, 0.004668540677661399: 65, 0.003868998118211647: 26, 0.004503120376932477: 5, 0.004546677452183047: 93, 0.2866829665077516: 11, 0.004654400509600287: 6, 0.2864195862604754: 3, 0.2860568270841571: 99, 0.004974708832944467: 1, 0.004150925694088392: 22, 0.2872533771500503: 95, 0.004605498279058421: 89, 0.286762214444009: 10, 0.004601140472053615: 17, 0.004462897337413647: 32, 0.28617861200252565: 1, 0.286980162687708: 45, 0.0038545853054690695: 4, 0.004207699718908753: 1, 0.00492825661827833: 3, 0.004322904588946949: 8, 0.004354812018282224: 3, 0.0040086636991348915: 12, 0.2860890672885496: 79, 0.00413647360768853: 143, 0.004815498921696889: 16, 0.004301561677485039: 4, 0.004059318037648148: 11, 0.28674796881351183: 13, 0.2867069482253657: 22, 0.004560978095728655: 16, 0.28683980368769496: 8, 0.004515899800467898: 7, 0.004085279897848343: 7, 0.0050049331594908585: 3, 0.2865172292674657: 46, 0.004352755387325226: 4, 0.004465798545181312: 5, 0.28830022556452456: 22, 0.004150195415680234: 10, 0.28539878927183604: 19, 0.2883920604387077: 8, 0.0038183437796983906: 6, 0.2867936607437649: 5, 0.286790443729808: 22, 0.004750871525611624: 18, 0.004695575764718494: 8, 0.004297160097127748: 55, 0.004270790004302195: 2, 0.004156289174913185: 10, 0.004448673976858511: 1, 0.004765323612011487: 10, 0.004222568721465779: 2, 0.004457078973592524: 5, 0.004191879012015381: 7, 0.004491357392252155: 2, 0.004000299407441232: 20, 0.004458513921454767: 28, 0.004137415992144813: 12, 0.004323815175854791: 3, 0.28717670060883776: 10, 0.00451186071694848: 1, 0.2869561809700939: 12, 0.004939787728904392: 8, 0.0047640734783204585: 15, 0.0010489628550253089: 3, 0.00472972365640114: 3, 0.004063909445896859: 7, 0.0038361431773233385: 1, 0.0042429163641246204: 8, 0.005192657076643431: 33, 0.004383624503691821: 5, 0.2863852096371935: 3, 0.0046720432927068005: 7, 0.0044893985689407724: 23, 0.001069210181646203: 2, 0.003791221913196827: 2, 0.0011405705114655531: 3, 0.004082850509659841: 13, 0.003777322350447965: 4, 0.0010724953270370016: 4, 0.004435274464032664: 5, 0.004404076510538273: 7, 0.0036985955379971163: 2, 0.003329919895507763: 4, 0.0038954993497387724: 7, 0.2862440148051234: 13, 0.2863622817508919: 6, 0.0039220005812658975: 3, 0.004464856160725029: 14, 0.0042461140052135185: 3, 0.2858158528262073: 21, 0.003859688461071078: 3, 0.003705293534196353: 8, 0.0038989907304147193: 5, 0.003391456749571078: 3, 0.004113837760332467: 1, 0.003350625886813857: 17, 0.28688832781352486: 1, 0.0036967742059611894: 1, 0.003415002033318817: 2, 0.28782888868725: 1, 0.004401128817034005: 2, 0.0012321781679057973: 5, 0.004669749512012135: 4, 0.003849351166699577: 3, 0.28594521819652063: 10, 0.0040903254246493345: 5, 0.004542535935434797: 10, 0.004490340953397055: 6, 0.004123694184153108: 16, 0.2875556742249077: 7, 0.2873400896684495: 1, 0.003320096419751728: 3, 0.005115980535430903: 9, 0.004478577968716734: 5, 0.0048421244267528585: 11, 0.0034519345638403696: 11, 0.0035237000463875234: 3, 0.0034012802253271133: 6, 0.004287336621371713: 5, 0.0051855076364663195: 1, 0.004379066732981724: 3, 0.0038320527759540483: 4, 0.003288229979825076: 2, 0.004485983146392249: 1, 0.0044930300551165965: 2, 0.0034289030987080965: 4, 0.003432287612328299: 2, 0.2864889999816667: 9, 0.003980652455929162: 2, 0.004337383136646578: 7, 0.004049494561892113: 4, 0.00337824876019484: 2, 0.0013158989731752613: 2, 1.132751264136508: 4, 0.004465531139545797: 3, 0.0041020454419100575: 7, 0.003909951436138635: 3, 0.004310881905119452: 6, 0.004683194571318724: 4, 0.0011912248499788094: 3, 0.28690348614649547: 10, 0.004363914134213313: 2, 0.2866584240995358: 11, 0.004842000153224014: 5, 0.003808520303942356: 7, 0.004253243383291806: 2, 0.004164647502080097: 4, 0.287069707401684: 11, 0.004974630584388486: 2, 0.004476619145405351: 7, 0.004582368313189904: 2, 0.004100662719020836: 5, 0.004055728643158277: 7, 0.0033470508067004493: 2, 0.28660677398144174: 8, 0.004527122961413288: 1, 0.003859174642455612: 2, 0.003492157603359199: 2, 0.2870668752061072: 2, 0.00452026156505188: 5, 0.0009776025252059587: 5, 0.004414822457186211: 12, 0.004270038230626184: 13, 0.0038459666530793737: 2, 0.0037953123145661174: 2, 0.2869435940321682: 1, 0.0043474060048723515: 1, 0.00489546089668704: 2, 0.003279265556994507: 5, 0.0043006298635226: 1, 0.003319427933319466: 3, 0.0048709184884712965: 16, 0.004479308247124892: 4, 0.001028256863719215: 2, 0.0044914675033334425: 7, 0.003014080325539151: 1, 0.004368759526921665: 2, 0.004251097166863202: 5, 0.0051164016087830114: 1, 0.2869316385618781: 5, 0.0036696913651973915: 4, 0.2881188459763654: 4, 0.004232392197221814: 3, 0.004225799767308398: 8, 0.0015828350913252138: 2, 0.004391357750196722: 1, 0.003478435795367495: 6, 0.00417155603430527: 2, 0.0011641029834772458: 2, 0.003968501322809933: 2, 0.0043381134150547365: 4, 0.004350162560181999: 7, 0.004307706403162374: 2, 0.004209291637967436: 2, 0.2859972324143665: 1, 0.004528758026897262: 1, 0.2834598854163658: 5, 0.00426430515623944: 2, 0.0042061528157963275: 4, 0.004274128631995475: 4, 0.0041351806717943775: 1, 0.0034554043302352216: 2, 0.0039001279603825996: 3, 0.2872824597625654: 3, 0.2864097520454093: 4, 0.28764521893888373: 1, 0.004674793723215324: 1, 1.1338418318256702: 4, 0.0011777151480352297: 2, 0.003909221157730476: 2, 0.28337034070238976: 2, 0.000958746271324002: 1, 0.0043922919989333575: 1, 0.003896441734195055: 2, 0.005645748792782728: 3, 0.2869930308604715: 8, 0.0010184333879631798: 1, 0.004324603713111157: 3, 0.004177426925615518: 5, 0.0014075066296155056: 3, 0.0011814013742227742: 1, 0.0046632805110897076: 5, 0.0038592970976253785: 1, 0.0029670153815157655: 3, 0.2870354289063513: 2, 0.003954236477176686: 1, 0.0033602587960766877: 1, 0.003248067603500116: 1, 0.004591020079090394: 2, 0.0035049370268946203: 2, 0.003424812697338806: 2, 0.0033741583588255495: 2, 0.0043269539980258995: 1, 0.28623820667231625: 1, 0.003832065587690095: 1, 0.004205242228888486: 2, 0.004126650131932495: 1, 0.0038418762517100835: 2, 0.004596820399589767: 1, 0.28685175915798505: 2, 0.004113442142556257: 8, 0.004618706268434659: 4, 0.28656658922535266: 1, 0.004436626966746072: 4, 0.0009062421953866085: 1, 0.004462718080016072: 1, 0.004425368763220837: 4, 0.004364614646581861: 1, 0.0036981788487899215: 3, 0.00410014890040537: 1, 0.28716154227586715: 1, 0.004764844583183632: 2, 0.004077117435273096: 1, 0.0040598190445275675: 3, 0.004367207473725088: 1, 0.003068324058542278: 1, 0.004109351741186967: 2, 0.003848440579791735: 1, 0.003950904754065623: 1, 0.00425889342874894: 2, 0.004283760038617889: 1, 0.2835517202905489: 1, 0.0013567298359324826: 1, 0.0034426249066998003: 1, 0.004032196171146585: 1, 0.0035645309091447445: 3, 0.004323661328654874: 4, 0.004542145273671075: 4, 0.0011231496655502579: 1, 0.0036607166626391628: 1, 0.0034977836563723184: 1, 0.0011669492878229118: 1, 0.004705518412658473: 1, 0.004219899213368811: 1, 0.003885675873982737: 3, 0.004418707977685834: 1, 0.004287850439987179: 2, 0.28309712624004746: 2, 0.004396464590421112: 1, 0.005044141176783699: 1, 0.003882719926203351: 3, 0.005686702110709716: 1, 0.0028242947218770653: 1, 0.2865911316335684: 1, 0.0034656563718320735: 2, 0.003745243792813307: 1, 0.004277513145615678: 1, 0.2867293204243621: 6, 0.0037600239597024364: 1, 0.0037676894411851343: 7, 0.28669860885562487: 1, 0.004278802230362649: 1, 0.004501314410913854: 1, 0.0029046194745269843: 1, 0.001176772763578947: 2, 0.0040990017058400476: 1, 0.005022118576854617: 1, 0.004605283130820111: 1, 0.28364355516473205: 3, 0.0010547580952463404: 1, 0.004539243183938921: 1, 0.0036682163434770656: 1, 0.004183732790896593: 1, 0.0034421110880843344: 1, 0.00437090574335027: 2, 0.004416916597267564: 3, 0.005768168613843138: 1, 0.004805675445940854: 1, 0.0034422335432541013: 2, 0.004460533236115146: 1, 0.003396583503359848: 1, 0.004238195810767161: 1, 0.0033962300690062726: 1, 0.004453073861657612: 1, 0.004706515094245041: 1, 0.0034158770205183426: 2, 0.004301058429363417: 1, 0.004321847157801509: 1, 0.00108979371778253: 3, 0.0010996171935385652: 1, 0.001190494571570651: 1, 0.003150230694396254: 2, 0.003968386474139784: 1, 0.0011272400669195483: 1, 0.0011133390015302693: 1, 0.0009316244048224384: 1, 0.003736491487690744: 1, 0.004541999739248568: 1, 0.004635861697824854: 1, 0.003981594463516022: 1, 0.004411068119675229: 1, 0.0034058716335758233: 1, 0.0010585957642881396: 1, 0.003342960405331159: 1, 0.0035338411996943455: 1, 0.004126233215775331: 1, 0.0012032739951060723: 2, 0.004624051909525051: 1, 0.005091645677890034: 1, 0.004896579635956086: 1, 0.0013951111741726415: 2, 0.004260214754870149: 1, 0.004497560073402872: 1, 0.0033616332875152154: 1, 0.0010453877749119014: 1, 0.0047128741554640224: 1, 0.004777056529895011: 1, 0.28802701110218226: 1, 0.2855801688599952: 1, 0.0034558328960760387: 1, 1.1328430990106912: 1, 0.004523118920473714: 1, 0.004786906667235914: 1, 0.28708486573465464: 1, 0.004246315192121287: 2, 0.003872896450447316: 1}\n",
      "../rcv_elections_database/single/NewYorkCity_06222021_DEMCouncilMember46thCouncilDistrict.csv\n"
     ]
    },
    {
     "name": "stderr",
     "output_type": "stream",
     "text": [
      "/Users/es5891/Documents/GitHub/bugs-in-democracy/rcv_exploration/../rcv_learning/rcv_dimensionality.py:188: RuntimeWarning: divide by zero encountered in divide\n",
      "  distance = 1 / np.sqrt(freq_upper_triangle)\n"
     ]
    },
    {
     "name": "stdout",
     "output_type": "stream",
     "text": [
      "Normalized distances: {'Tiffany Pryor': 0.0, 'R. Dimple Willabus': 1.3557954881658871, 'Mercedes Narcisse': 2.4852759296280023, 'Donald J. Cranston': 2.885611447670423, 'Shirley S. Paul': 3.4138448503286467, 'Judy D. Newton': 3.8617619599659703, 'Gardy Brazela': 4.34097869269416, 'Zuri S. Jackson': 7.0}\n"
     ]
    },
    {
     "name": "stderr",
     "output_type": "stream",
     "text": [
      "/Users/es5891/Documents/GitHub/bugs-in-democracy/rcv_exploration/../rcv_learning/rcv_dimensionality.py:188: RuntimeWarning: divide by zero encountered in divide\n",
      "  distance = 1 / np.sqrt(freq_upper_triangle)\n"
     ]
    },
    {
     "name": "stdout",
     "output_type": "stream",
     "text": [
      "Consistency points: {3.5075353903093935: 893, 3.4208473734130225: 2, 1.3105365639548054: 13, 5.555902815409824: 1111, 4.287174758403885: 219, 4.380651542732045: 41, 3.1834689127676703: 2211, 3.775138841916262: 5, 4.676960294976492: 446, 3.669963104285299: 73, 0.5782036218366096: 104, 7.0: 429, 4.137601684575753: 119, 0.9369315481898682: 5, 1.6028927901215804: 9, 3.5568417583198757: 103, 3.264485532153101: 376, 4.205960901415932: 43, 4.157246246213016: 679, 3.776577388428209: 38, 0.0: 178, 0.8768838475773484: 21, 3.7998916164761685: 49, 1.0230619606607356: 5, 3.426913246129007: 304, 5.916927111557368: 84, 4.896695925084825: 31, 4.432946386249079: 2, 1.2700282542620902: 14, 4.252868627298017: 2, 4.397042573458052: 36, 1.8283084971540842: 1, 4.019627246584501: 34, 5.660881183419814: 5, 4.5069103885122175: 43, 3.909759431530335: 10, 4.200139394658273: 6, 4.165452591723217: 46, 4.38518822183155: 11, 3.302136904933873: 5, 4.867934684659762: 26, 3.789861267907817: 1, 4.3431247013349035: 4, 4.68742253658599: 19, 5.620372873727098: 7, 3.211696838188509: 7, 1.7380524231171983: 1, 1.8030166792126328: 1, 3.412177291652472: 2, 3.9845546478576317: 2, 4.274542801375418: 5, 3.465396869409929: 3, 3.5919394467699677: 11, 3.4918775022244413: 62, 5.257720221232369: 12, 3.8119435232093704: 5, 3.330963434664519: 7, 1.4157123015857684: 1, 1.75: 6, 5.22243925963114: 5, 3.890405024620052: 4, 3.7349273603807336: 16, 4.38435134094234: 1, 3.2786981136647815: 11, 1.388975703852456: 5, 4.3836330110276185: 3, 4.002623511040025: 2, 1.556776621583719: 1, 4.348278903883135: 1, 4.293376936990732: 4, 3.739668070479794: 12, 1.1329297757149022: 2, 3.653460775525403: 3, 5.742095040407767: 21, 3.361449692687494: 5, 3.5375840802644207: 11, 3.3109795583588557: 2, 3.6017453172786076: 14, 3.3396335164250694: 2, 3.8026057956798036: 2, 3.158908144223917: 11, 4.710009502308722: 2, 0.1445509054591524: 7, 1.5665824920923592: 1, 0.7958672281919176: 15, 1.1682519422247049: 1, 3.2311835969534934: 7, 3.4473280062275347: 4, 3.5468114097515246: 3, 4.673100184360308: 2, 1.0095265389718528: 2, 4.895707793565407: 1, 4.185706746569575: 15, 3.7569656474109285: 4, 1.706586330473416: 1, 3.7574777586613606: 2, 4.375453565483175: 1, 1.169240073744123: 9, 0.9175893948725857: 5, 1.822628420229913: 5, 1.2231858497517882: 2, 1.472964277930711: 5, 5.581750553543443: 2, 1.5379285340261457: 1, 1.2295199445693747: 11, 4.104292206227979: 8, 3.3215646532426755: 2, 3.9570895365019805: 5, 3.3786437743322497: 4, 3.3975874190522823: 2, 3.450919227061826: 1, 3.0289796320330478: 6, 1.7470946401661314: 2, 3.847221721447814: 10, 1.3106351827560667: 2, 1.637990478571672: 1, 3.2967669768471755: 5, 3.333632021191865: 6, 1.3994712375619098: 3, 5.459729084707871: 1, 4.229414764356974: 2, 0.9580977045653012: 2, 3.229765701370903: 8, 3.177360563738739: 3, 3.2929106951764617: 2, 3.101255084762624: 5, 1.4968275397724602: 1, 4.6488491168134845: 3, 1.0455137401401018: 1, 3.4337251454170703: 4, 0.9658185211844525: 2, 3.1467325820930747: 4, 5.077208073158597: 1, 4.750517812001438: 5, 1.1357698141769876: 1, 0.9825536509680204: 2, 0.9206904841660095: 1, 4.338504974009176: 2, 3.987254607735591: 2, 1.039311561553254: 4, 5.681233957067433: 1, 4.745375637089884: 3, 3.7942604558187893: 1, 3.44831501801726: 3, 3.6231470891668613: 2, 1.2729336140959588: 3, 3.5518441248511845: 1, 2.1836527163774573: 2, 3.231521180496625: 3, 3.6370674837884103: 7, 4.0902715796041065: 3, 1.5162683118910036: 1, 4.253719065833462: 2, 1.351242111250043: 1, 5.559212488231861: 2, 3.730010804897819: 1, 4.18153185497897: 2, 3.942209618943371: 1, 3.702543851134277: 2, 3.6667095733740425: 5, 3.6894524200138465: 1, 1.569422530554445: 1, 3.592517987791504: 3, 4.141023545286255: 1, 3.1828703084578627: 1, 3.247834564553297: 3, 3.105085111009163: 2, 3.2659991785690847: 6, 3.6905384696359977: 1, 0.8363755378846329: 5, 1.456714677038193: 3, 1.343117310803784: 2, 4.312075888212764: 1, 5.701488111913791: 3, 4.137214683069738: 3, 1.2791078887982894: 1, 3.738123351751078: 2, 3.267658906861413: 1, 1.0924214660221867: 1, 1.1231239052062618: 2, 3.2675128249850687: 1, 4.163462991796576: 1, 1.3705842645673254: 2, 5.477797947890265: 1, 3.908473887802446: 1, 3.32904842154125: 1, 5.541143625049466: 1, 5.591877630966622: 1, 3.065117358397836: 1, 3.184383954873846: 1, 3.0219562408979406: 2, 3.1648014452754687: 2, 1.511648584565276: 1, 3.449800218602288: 1, 3.7621293326838976: 1, 5.441660221525477: 1, 1.6568385661292453: 1, 4.014485071672947: 1, 3.889119480892164: 1, 4.63078025363109: 2, 3.581185322795827: 1, 1.3917504209427585: 1, 3.503880492690851: 1, 3.469716789905514: 1, 4.8028586479370645: 1, 3.3974413371759375: 1, 3.977662344889116: 1, 4.549365713289495: 1, 0.9820595852083113: 1, 4.420554356612711: 1, 5.691361034490612: 1, 4.547180421625531: 1, 1.4596200368720615: 1}\n",
      "../rcv_elections_database/single/Minneapolis_11062009_PRBoardDistrict1.csv\n"
     ]
    },
    {
     "name": "stderr",
     "output_type": "stream",
     "text": [
      "/Users/es5891/Documents/GitHub/bugs-in-democracy/rcv_exploration/../rcv_learning/rcv_dimensionality.py:188: RuntimeWarning: divide by zero encountered in divide\n",
      "  distance = 1 / np.sqrt(freq_upper_triangle)\n"
     ]
    },
    {
     "name": "stdout",
     "output_type": "stream",
     "text": [
      "Normalized distances: {'Liz Wielinski': 0.0, 'Bernie Kunza': 0.9358391222820505, 'John Malone': 2.0}\n"
     ]
    },
    {
     "name": "stderr",
     "output_type": "stream",
     "text": [
      "/Users/es5891/Documents/GitHub/bugs-in-democracy/rcv_exploration/../rcv_learning/rcv_dimensionality.py:188: RuntimeWarning: divide by zero encountered in divide\n",
      "  distance = 1 / np.sqrt(freq_upper_triangle)\n"
     ]
    },
    {
     "name": "stdout",
     "output_type": "stream",
     "text": [
      "Consistency points: {0.0: 3100, 0.9358391222820502: 458, 1.2018793417115377: 71, 1.0848994514262813: 134, 2.0: 291, 0.23395978057051256: 297, 0.36697989028525624: 494, 0.5: 87}\n",
      "../rcv_elections_database/single/Oakland_11022010_Mayor.csv\n"
     ]
    },
    {
     "name": "stderr",
     "output_type": "stream",
     "text": [
      "/Users/es5891/Documents/GitHub/bugs-in-democracy/rcv_exploration/../rcv_learning/rcv_dimensionality.py:188: RuntimeWarning: divide by zero encountered in divide\n",
      "  distance = 1 / np.sqrt(freq_upper_triangle)\n"
     ]
    },
    {
     "name": "stdout",
     "output_type": "stream",
     "text": [
      "Normalized distances: {'DON MACLEAY': 0.0, 'ARNOLD FIELDS': 3.60089475181172, \"LARRY LIONEL ''LL'' YOUNG JR.\": 4.500286026029896, 'GREG HARLAND': 4.982400247399286, 'DON PERATA': 5.816571118712281, 'TERENCE CANDELL': 6.042866536463441, 'REBECCA KAPLAN': 6.892003868194034, 'JEAN QUAN': 7.091582813031477, 'MARCIE HODGE': 7.3444889885271625, 'JOE TUMAN': 9.0}\n"
     ]
    },
    {
     "name": "stderr",
     "output_type": "stream",
     "text": [
      "/Users/es5891/Documents/GitHub/bugs-in-democracy/rcv_exploration/../rcv_learning/rcv_dimensionality.py:188: RuntimeWarning: divide by zero encountered in divide\n",
      "  distance = 1 / np.sqrt(freq_upper_triangle)\n"
     ]
    },
    {
     "name": "stdout",
     "output_type": "stream",
     "text": [
      "Consistency points: {1.4900990443057776: 4329, 3.293271063825503: 8655, 2.233860029068613: 691, 2.2568676209795795: 1948, 0.6937673356006353: 976, 0.46728488043462396: 1447, 1.7491999050172584: 904, 3.9426507157346844: 46, 1.4814114224974122: 3986, 3.2449540392274594: 261, 1.8048259024736946: 2492, 1.5142346282847292: 23, 0.5404152785269104: 95, 0.4434832537166395: 98, 5.399105248188282: 118, 2.5159684816910604: 759, 1.934376332829435: 1376, 1.2373524027697984: 21, 2.4190364568807894: 1791, 3.1480220144171884: 393, 0.6699657088826508: 108, 1.7824016477802358: 1196, 4.269841453892663: 44, 0.8233177659563757: 571, 1.4424957908698086: 53, 1.9749930357082834: 304, 2.0409274625793863: 10, 0.5744110560969058: 137, 3.3745044695832: 254, 0.5968353107903643: 663, 1.0641227843082646: 27, 1.6752754721179541: 2103, 0.0: 1484, 2.197605605874782: 90, 1.7998881560235351: 34, 0.8415102141417656: 66, 1.3497763120470705: 34, 3.799840955426778: 18, 0.5642169052448949: 610, 0.37035285562435305: 448, 2.5341609298764505: 93, 2.0664546072357037: 168, 3.8197296099161977: 50, 3.221152412509475: 165, 1.1271637418805716: 37, 9.0: 85, 0.8207710726507261: 17, 0.9569966086459827: 110, 1.9119520781359762: 299, 2.4935442269976016: 168, 3.1587255356647512: 117, 0.6713430809071768: 206, 3.113877026277834: 474, 1.845442605352543: 397, 1.627672218681985: 35, 2.1960853012363875: 13, 3.349729111450313: 30, 1.5772755858570364: 20, 2.238222308753631: 36, 0.7343840384794837: 138, 2.3731587213831533: 17, 0.8008935112629172: 67, 3.368399336195642: 115, 0.5166136518089259: 83, 3.618204686856291: 436, 3.361058566873059: 57, 0.9045511717140727: 31, 2.3741879474938723: 320, 0.9331949819279982: 97, 2.3283102119962362: 3, 2.556585184569909: 170, 2.0627574419040515: 105, 3.5932471547501863: 42, 2.707390548337984: 35, 3.4415297342879287: 35, 0.7784692565694585: 51, 1.704351395630341: 157, 3.1832229083834656: 63, 1.8895278234425177: 219, 1.536658882978188: 56, 2.6770046973073494: 16, 3.042427027781755: 25, 0.9516988750309925: 47, 1.8304333107749553: 78, 3.350147602311675: 52, 3.5948817913616535: 108, 0.8445726993687106: 87, 2.1140578606716725: 15, 2.25: 31, 2.0700033860917735: 8, 1.6874642467462633: 7, 2.31509343482631: 50, 2.4711199723041433: 101, 0.8639344688352242: 102, 2.8996172674738485: 9, 0.6475414541891922: 37, 0.6374520136692129: 85, 0.7105824117614994: 60, 2.6667738454591357: 141, 3.256278062728349: 37, 4.135295925731911: 7, 1.9525687810148247: 127, 2.5354707566047634: 34, 5.624440780117676: 2, 2.0851816965975103: 190, 3.0515993600024696: 161, 2.015609738587132: 105, 2.1257983994763587: 71, 4.162097545778386: 5, 3.7073057006389254: 46, 5.624785480477579: 6, 1.1249284934925263: 23, 3.1993422385435997: 58, 2.674769448919304: 3, 4.499713973970105: 162, 3.4080707269380097: 83, 0.974123129724451: 52, 1.0865470390017231: 73, 2.1148518954786906: 14, 3.644613248682171: 6, 3.8385820086347446: 33, 2.2359870603655856: 60, 3.465331361005913: 168, 2.413775424262002: 13, 2.1890115196816957: 92, 3.0711016349161726: 15, 3.6111542413322524: 15, 2.4608348789201298: 34, 2.3913511695685434: 7, 1.7586000210622514: 16, 2.817579209227211: 50, 3.1328327657601664: 47, 1.6514738453999696: 46, 2.644349590765677: 78, 3.109031139042182: 8, 4.719953297869127: 47, 3.239958941422448: 45, 2.1751813511813234: 30, 2.5972018874487572: 45, 3.0359007409498955: 50, 4.72456179252465: 7, 2.7603185751593076: 26, 1.0147398326032995: 36, 2.819814457615256: 24, 2.910946722896594: 8, 3.027797733284485: 11, 3.6684148754001558: 42, 2.3484109696428574: 16, 4.511377929285182: 3, 3.329408460820636: 17, 2.5645807880300775: 5, 3.796330669144429: 4, 3.571482850589885: 13, 3.685184081755446: 12, 3.9510059179120165: 18, 5.906549232740124: 3, 2.5015398304577703: 2, 3.386306422777708: 16, 5.062321233731316: 4, 2.636387994428501: 5, 2.4543921271408506: 9, 2.416462623014841: 2, 4.614373131635423: 1, 3.49253887175822: 11, 3.237305202173041: 2, 2.7985228136193223: 8, 3.460336263200902: 28, 5.882747606022139: 11, 3.572760172478174: 9, 2.350734466689695: 2, 3.869461067236715: 6, 2.787193358196576: 2, 4.963653515142218: 2, 2.930003118504483: 17, 3.8932626939547: 6, 5.809617207929853: 4, 4.585407769708375: 2, 4.551332174063115: 6, 4.444205998400834: 2, 3.4811258812828934: 2, 4.063429827189289: 2, 4.573756428756575: 2, 6.299328936141212: 4, 4.347273973590563: 3, 5.247497661543492: 2, 2.5239640851512286: 2, 4.420404371682849: 1}\n",
      "../rcv_elections_database/single/Alaska_11082022_HouseDistrict24.csv\n"
     ]
    },
    {
     "name": "stderr",
     "output_type": "stream",
     "text": [
      "/Users/es5891/Documents/GitHub/bugs-in-democracy/rcv_exploration/../rcv_learning/rcv_dimensionality.py:188: RuntimeWarning: divide by zero encountered in divide\n",
      "  distance = 1 / np.sqrt(freq_upper_triangle)\n"
     ]
    },
    {
     "name": "stdout",
     "output_type": "stream",
     "text": [
      "Normalized distances: {'Saddler, Dan': 0.0, 'Jackson, Sharon': 0.7352156920182814, 'Nelson, Daryl W.': 2.0}\n"
     ]
    },
    {
     "name": "stderr",
     "output_type": "stream",
     "text": [
      "/Users/es5891/Documents/GitHub/bugs-in-democracy/rcv_exploration/../rcv_learning/rcv_dimensionality.py:188: RuntimeWarning: divide by zero encountered in divide\n",
      "  distance = 1 / np.sqrt(freq_upper_triangle)\n"
     ]
    },
    {
     "name": "stdout",
     "output_type": "stream",
     "text": [
      "Consistency points: {0.0: 896, 1.4485882309862885: 900, 1.264784307981718: 630, 2.0: 1599, 0.40809803849771475: 274, 1.2904901924885737: 241, 0.3161960769954295: 123, 0.5: 159}\n",
      "../rcv_elections_database/single/Maine_07142020_DemocraticCandidateforMaineStateHouseDistrict41.csv\n"
     ]
    },
    {
     "name": "stderr",
     "output_type": "stream",
     "text": [
      "/Users/es5891/Documents/GitHub/bugs-in-democracy/rcv_exploration/../rcv_learning/rcv_dimensionality.py:188: RuntimeWarning: divide by zero encountered in divide\n",
      "  distance = 1 / np.sqrt(freq_upper_triangle)\n"
     ]
    },
    {
     "name": "stdout",
     "output_type": "stream",
     "text": [
      "Normalized distances: {'Davis, Laurie J.': 0.0, 'Grant, Benjamin K.': 1.076837743229204, 'Zager, Samuel Lewis': 2.0}\n"
     ]
    },
    {
     "name": "stderr",
     "output_type": "stream",
     "text": [
      "/Users/es5891/Documents/GitHub/bugs-in-democracy/rcv_exploration/../rcv_learning/rcv_dimensionality.py:188: RuntimeWarning: divide by zero encountered in divide\n",
      "  distance = 1 / np.sqrt(freq_upper_triangle)\n"
     ]
    },
    {
     "name": "stdout",
     "output_type": "stream",
     "text": [
      "Consistency points: {1.0769764104817474: 227, 0.0: 187, 0.9231622567707959: 148, 0.3653952820963495: 558, 0.23079056419269897: 121, 1.192371692578097: 22, 2.0: 55, 0.5: 38}\n",
      "../rcv_elections_database/single/Alaska_11082022_HouseDistrict30.csv\n"
     ]
    },
    {
     "name": "stderr",
     "output_type": "stream",
     "text": [
      "/Users/es5891/Documents/GitHub/bugs-in-democracy/rcv_exploration/../rcv_learning/rcv_dimensionality.py:188: RuntimeWarning: divide by zero encountered in divide\n",
      "  distance = 1 / np.sqrt(freq_upper_triangle)\n"
     ]
    },
    {
     "name": "stdout",
     "output_type": "stream",
     "text": [
      "Normalized distances: {'Holmes, Doyle E.': 0.0, 'McCabe, Kevin J.': 0.632524192824332, 'Mindiola, L. Joy': 2.0}\n"
     ]
    },
    {
     "name": "stderr",
     "output_type": "stream",
     "text": [
      "/Users/es5891/Documents/GitHub/bugs-in-democracy/rcv_exploration/../rcv_learning/rcv_dimensionality.py:188: RuntimeWarning: divide by zero encountered in divide\n",
      "  distance = 1 / np.sqrt(freq_upper_triangle)\n"
     ]
    },
    {
     "name": "stdout",
     "output_type": "stream",
     "text": [
      "Consistency points: {0.15813104820608304: 923, 2.0: 975, 0.5: 106, 0.6325241928243321: 1433, 0.0: 1124, 0.9743931446182491: 29}\n",
      "../rcv_elections_database/single/Alaska_11082022_HouseDistrict18.csv\n"
     ]
    },
    {
     "name": "stderr",
     "output_type": "stream",
     "text": [
      "/Users/es5891/Documents/GitHub/bugs-in-democracy/rcv_exploration/../rcv_learning/rcv_dimensionality.py:188: RuntimeWarning: divide by zero encountered in divide\n",
      "  distance = 1 / np.sqrt(freq_upper_triangle)\n"
     ]
    },
    {
     "name": "stdout",
     "output_type": "stream",
     "text": [
      "Normalized distances: {'Nelson, David': 0.0, 'Groh, Cliff': 1.264496353710555, 'Franks, Lyn D.': 2.0}\n"
     ]
    },
    {
     "name": "stderr",
     "output_type": "stream",
     "text": [
      "/Users/es5891/Documents/GitHub/bugs-in-democracy/rcv_exploration/../rcv_learning/rcv_dimensionality.py:188: RuntimeWarning: divide by zero encountered in divide\n",
      "  distance = 1 / np.sqrt(freq_upper_triangle)\n"
     ]
    },
    {
     "name": "stdout",
     "output_type": "stream",
     "text": [
      "Consistency points: {2.0: 691, 0.0: 104, 0.18387591157236122: 197, 0.7355036462894449: 185, 1.0516277347170837: 22, 0.5: 13, 0.3419379557861806: 103}\n",
      "Error in file: ../rcv_elections_database/single/Alaska_11082022_HouseDistrict18.csv\n",
      "unsupported operand type(s) for -: 'float' and 'NoneType'\n",
      "../rcv_elections_database/single/NewYorkCity_06222021_DEMBoroughPresidentKings.csv\n"
     ]
    },
    {
     "name": "stderr",
     "output_type": "stream",
     "text": [
      "/Users/es5891/Documents/GitHub/bugs-in-democracy/rcv_exploration/../rcv_learning/rcv_dimensionality.py:188: RuntimeWarning: divide by zero encountered in divide\n",
      "  distance = 1 / np.sqrt(freq_upper_triangle)\n"
     ]
    },
    {
     "name": "stdout",
     "output_type": "stream",
     "text": [
      "Normalized distances: {'Robert E. Cornegy Jr.': 0.0, 'Robert Ramos Jr.': 0.5350318986823511, 'Mathieu Eugene': 2.0700455665126567, 'Antonio Reynoso': 2.921193722591775, 'Khari O. Edwards': 3.921176329671962, 'Jo Anne Simon': 4.058821993702733, 'Kim Council': 4.555437799018204, 'Lamor Miller-Whitehead': 5.485946676589627, 'Anthony T. Jones': 6.03997365990018, 'Trisha N. Ocona': 6.7255001654720115, 'Pearlene S. Fields': 8.12470053477817, 'Robert A. Elstein': 11.0}\n"
     ]
    },
    {
     "name": "stderr",
     "output_type": "stream",
     "text": [
      "/Users/es5891/Documents/GitHub/bugs-in-democracy/rcv_exploration/../rcv_learning/rcv_dimensionality.py:188: RuntimeWarning: divide by zero encountered in divide\n",
      "  distance = 1 / np.sqrt(freq_upper_triangle)\n"
     ]
    },
    {
     "name": "stdout",
     "output_type": "stream",
     "text": [
      "Consistency points: {5.856796282762328: 18035, 5.8606785436763795: 896, 6.426351032434773: 17002, 5.980166410232625: 124, 5.943093292250313: 10857, 5.924074732302499: 499, 11.0: 3141, 5.122689390264029: 5831, 5.782007378855493: 25710, 6.552887922933007: 23, 3.615166545521672: 3261, 0.0: 2681, 5.800704604832202: 3326, 8.733318867171802: 2669, 1.398523601008915: 4, 8.180314958788623: 9727, 6.575926928864696: 152, 2.824710486946586: 1434, 7.08650553414162: 876, 6.085491937764887: 16, 7.569763274326079: 251, 6.274202552852256: 4165, 5.9050561723546835: 1184, 1.6448804694193484: 3, 5.349043284161491: 57, 6.437675951768902: 1619, 7.892393771392893: 1194, 5.385010585707969: 3, 6.750730654336348: 114, 6.51983525093457: 209, 6.592017042698022: 82, 6.255389582492467: 14, 5.448604800806715: 366, 6.117061200231495: 10, 5.99918497018044: 4453, 5.2875188874118955: 478, 5.469217901771326: 5, 7.00309299111903: 374, 8.314592667433098: 38, 6.651694930254893: 17, 6.864842014023235: 325, 6.260063888986644: 63, 5.306216113388604: 637, 6.7664693952717325: 15, 6.3656956549199695: 182, 6.309603976989843: 246, 5.2601644452139205: 13, 5.718981253025357: 42, 1.8949587374508217: 11, 6.734044903990197: 25, 6.506801440316799: 17, 3.428784263501774: 1, 5.224438162651965: 1, 5.96114785028481: 1007, 1.5353934143996377: 34, 5.869384488722523: 202, 4.298944107302133: 12, 1.8251195468276658: 1, 1.4904476295567555: 5, 5.9416244780308265: 3, 5.634201068187956: 19, 5.951680868915019: 4, 6.025346759490972: 144, 1.7898431004784583: 18, 5.332464672254777: 20, 7.10319128448777: 3, 5.934284729451481: 11, 5.818658036207726: 1, 1.6065877581086931: 337, 1.516374854451823: 17, 5.822641423780751: 234, 3.022324501590358: 46, 5.92995588241788: 4, 5.43064530897093: 3, 1.7708245405306435: 10, 5.358391897149845: 125, 6.792861717174302: 210, 5.926558402473162: 31, 5.410567680911086: 561, 5.919851724854924: 3, 7.970731503556316: 1, 5.350724981263725: 5, 1.562349357029817: 2, 1.9730984428482232: 78, 6.381584273838776: 309, 6.312239672747886: 383, 5.368061844109305: 149, 5.29686750040025: 96, 8.318565935884418: 149, 7.837890850332183: 3, 6.346370856571093: 19, 5.948816932782326: 24, 7.919369702967855: 29, 5.4045574170903095: 3, 7.455651914639192: 99, 5.7585613346069735: 70, 6.372669442811729: 2, 1.2806723475660073: 65, 8.10262504533762: 46, 5.8870957823951775: 313, 6.660252501439789: 1, 6.25071527599829: 95, 5.973926546985432: 3, 5.527868122631565: 8, 5.9925776932099675: 38, 5.461374909141254: 106, 5.172380628809027: 2, 3.9920472567072616: 135, 2.107099535345291: 11, 6.859262070468222: 9, 6.15747223461382: 34, 2.1782938790543467: 8, 1.464199070690582: 144, 9.011618171036723: 10, 2.0450787396971557: 74, 6.214198670009776: 1, 5.178039767537729: 7, 5.907421608618152: 191, 4.756453648838409: 89, 5.783581485356092: 13, 3.582731935900522: 75, 5.956221270943075: 11, 4.53513930288302: 6, 5.931524325518716: 5, 5.3774104570976595: 100, 1.6333741597931688: 1, 5.965983701657932: 4, 6.534811212163887: 29, 1.4889321455620008: 1, 5.901856650642691: 43, 3.399205212775947: 79, 6.038748872823115: 8, 6.3637546117846835: 20, 5.63186014317648: 17, 6.897977354146667: 26, 6.678750357487416: 212, 4.317962667249947: 136, 7.894479323806549: 2, 4.279925547354318: 98, 4.516072235058518: 5, 1.8258332489029243: 11, 2.75: 59, 7.142597212071746: 207, 3.7251206233186327: 47, 5.32295539228087: 16, 3.8505338973894183: 6, 1.2606517209955155: 2, 5.728421245984354: 4, 2.1833297167929504: 26, 6.888981631432142: 135, 7.125988346320513: 4, 6.098050587284084: 3, 5.6678502916009466: 21, 4.442929705650576: 1, 5.81358444792561: 6, 6.803170392538095: 28, 6.059310042449315: 2, 8.885236219091468: 153, 5.954540573314338: 25, 5.573431180761699: 90, 3.644577666621223: 12, 4.894704625934205: 59, 1.3373080884555308: 2, 3.6135191108834674: 1, 8.203605347111205: 4, 6.915757072375786: 2, 5.9415175788757715: 9, 7.596485686183855: 1, 1.4033585744886452: 4, 5.702413035874895: 3, 5.725760807265183: 8, 7.936362739818843: 15, 1.3756281807169013: 2, 7.822897365621139: 1, 8.585447771599826: 27, 6.199799112064683: 30, 5.858686849889867: 5, 6.104706312325611: 4, 6.296101039128587: 1, 5.672238188083585: 52, 5.8151154855462455: 106, 7.286428132722555: 26, 7.87909822461915: 1, 6.828851865598769: 9, 6.754146433495858: 6, 5.764562925408278: 3, 0.9557932803292949: 1, 1.1746467405471457: 7, 4.156876753855127: 98, 6.783865994459779: 40, 6.034646451657562: 5, 5.327710032267824: 9, 7.923621414658117: 2, 1.568550638213064: 85, 1.2551896972445555: 17, 1.5257484440483255: 4, 5.56269927112403: 18, 7.860831690722756: 1, 6.62990401190296: 12, 8.088644758337994: 4, 5.773329609162999: 11, 5.0990785318191: 21, 5.298198121620246: 2, 5.935889427089803: 3, 5.2511435515522: 2, 3.7049809356649184: 2, 4.3399944289474695: 1, 3.56216291804729: 7, 3.6539262796095775: 5, 6.0105727674222: 9, 5.705576416423611: 27, 5.882867358015532: 70, 6.701884308751892: 15, 4.289581820069005: 2, 6.2863552865338095: 1, 5.996609331761933: 21, 6.209507901711324: 18, 2.159275319106532: 5, 6.23809254040305: 3, 6.921936914172909: 2, 6.330709433314792: 2, 5.616932023392741: 1, 6.135056274443729: 19, 1.6000703749538712: 1, 3.8515284921671435: 1, 6.203566264122133: 6, 0.7061776217366466: 25, 5.989567838119956: 16, 6.51599068604806: 1, 5.887174640553282: 3, 4.196746945030527: 4, 5.97584469410141: 5, 6.014604405974167: 16, 5.76497317344161: 14, 1.4455018447138732: 108, 5.939893770538321: 5, 8.429992774180167: 15, 5.9232868756152275: 8, 5.800833963349139: 4, 5.620174245703471: 23, 6.019796528235796: 3, 1.6450161597967534: 5, 5.826164050381371: 3, 5.862472888722811: 2, 5.45018023532028: 8, 9.29998915037885: 63, 7.78111872587206: 3, 5.811889962620733: 9, 5.644605515930846: 1, 3.6870835034230036: 54, 3.745418260417055: 10, 5.222127325318292: 16, 5.998618142194378: 11, 5.929520635290748: 7, 0.903791636380418: 75, 4.33826030434837: 25, 5.573771730529965: 6, 7.873875636663065: 10, 4.2153586919208985: 2, 4.175573979831836: 104, 6.470811291892333: 2, 5.9940070430619485: 1, 5.117775757795809: 25, 4.26462770737572: 1, 6.024176060214277: 4, 4.127621456482629: 1, 5.663181212228445: 4, 8.215785660111212: 8, 6.933967502571132: 21, 6.061548134968889: 13, 4.684473351989477: 63, 6.790452103473484: 1, 6.214182208205501: 3, 5.612841583228666: 44, 3.6255591066734083: 4, 1.1373641299748554: 3, 5.8650556416889215: 5, 5.3413763682753705: 4, 3.210764857183152: 6, 6.0188566024530585: 5, 5.630836657440899: 3, 1.754638905193869: 10, 4.1636116049070955: 46, 1.5070262414634685: 6, 5.4295862408589: 43, 5.586853054632906: 27, 6.045135511696149: 11, 1.2744038980885857: 3, 6.366699581739258: 3, 1.7888196147428768: 1, 5.018968750473924: 22, 1.5007712793686774: 1, 8.72973853613851: 1, 4.091631308058163: 25, 5.7369757801488435: 17, 4.513763491051456: 2, 6.058665227291934: 22, 6.253404213085882: 1, 4.501218009619713: 14, 6.8198561428842455: 6, 6.890970820987593: 2, 4.155004961978604: 18, 6.0157024034873805: 31, 3.564034709923813: 47, 6.248980146767843: 22, 5.16392305315126: 3, 1.4538467165752638: 1, 1.679578904070702: 1, 3.6350683866473155: 1, 4.277808184316472: 6, 5.811055517286862: 13, 5.864447781106915: 6, 5.8995557195832316: 6, 1.679196869345761: 2, 1.5347459811544422: 4, 8.93574952083349: 1, 1.5875691981608786: 28, 5.813201430821755: 5, 5.108914278989832: 9, 1.5415304647381047: 1, 8.028126101381131: 7, 4.4821994496718975: 17, 4.237419710552537: 23, 6.513443953159098: 16, 1.4246114928895357: 12, 8.770945910425477: 1, 1.5260448014112833: 78, 5.317161190859454: 2, 5.466856235855511: 1, 6.2395564125466: 9, 5.181204425288234: 2, 7.957124158895421: 2, 5.75716703216512: 3, 5.387276044953335: 7, 6.609304369167045: 1, 3.4909685743382344: 4, 8.118633485324194: 2, 5.769448489157758: 1, 6.2737482208910125: 7, 7.0756350733728945: 2, 5.831579522137844: 1, 5.648831731653132: 28, 6.714740505911882: 12, 6.418926424137796: 3, 4.227749763593077: 11, 6.617173444036969: 2, 5.847774269551947: 4, 6.995415180171874: 2, 5.000271524497215: 15, 5.665399401714847: 9, 4.3527428649135755: 1, 5.4685263854147514: 3, 5.260652831526107: 4, 6.8748116036093085: 2, 6.765454883909374: 1, 7.8388267462704455: 3, 8.006716289887198: 4, 5.2964268418169596: 5, 5.894475038380883: 9, 5.367603437605713: 2, 7.81328294407097: 1, 5.433089880545777: 2, 6.441463656310165: 15, 4.553775828105894: 2, 8.080301885142372: 26, 5.542328992429145: 1, 1.8144157807534118: 2, 8.848660465765379: 8, 6.022888241005024: 11, 7.781271481460077: 2, 6.7582202832069225: 3, 5.547492821286874: 4, 5.971902522588899: 1, 2.0977509223569366: 10, 4.0969545294826215: 1, 8.646972168349421: 4, 5.757773477919703: 5, 5.42271254982231: 4, 8.108188120420834: 1, 5.15324381894291: 4, 5.013294004872018: 4, 1.4580896136944266: 1, 4.676424838959842: 3, 5.367901177123752: 7, 8.59479638458818: 32, 3.7268870751946688: 1, 6.033210244743425: 12, 4.074462005281195: 9, 6.110729169672048: 19, 5.334463961712589: 1, 4.789588988961841: 9, 6.1970905757829655: 1, 8.657971955877926: 1, 4.870650228247786: 13, 4.229030535521193: 1, 5.459528848308635: 9, 5.972535647526572: 4, 6.032954687252249: 1, 3.7236781616416272: 8, 7.630696717988234: 3, 5.0319912308487265: 1, 2.6692356907220343: 1, 8.590122078094003: 1, 7.964374068241826: 37, 5.750462559095654: 15, 3.6800694984752633: 1, 3.48161996134988: 6, 1.3730962776725288: 1, 1.4856929895698017: 3, 8.142329150799608: 2, 8.497130308414661: 4, 5.377003890506816: 2, 8.363689390556956: 2, 5.775768552131936: 2, 3.8502875530418823: 4, 5.680944133129728: 45, 5.93994186550123: 15, 4.440801873558342: 1, 6.345594125414309: 3, 6.042207781849542: 10, 5.980819482557429: 10, 1.4126561218308218: 1, 5.788647180219135: 3, 1.236171137296741: 4, 1.2456804172706484: 1, 8.66929532854467: 27, 3.944366114112864: 2, 6.67137659553266: 3, 8.682673707708396: 2, 6.457795123193934: 6, 1.3637780150610923: 1, 6.196916204387729: 10, 6.185464821500474: 1, 7.936520471751938: 1, 5.29987981872248: 2, 4.13598640203079: 13, 1.4436300528373502: 9, 6.268793847116554: 3, 5.123320317996406: 12, 5.852380693302025: 9, 1.5062135176989753: 1, 4.30186258200289: 28, 7.119558206140056: 5, 5.3585525641353975: 10, 3.643486024954065: 1, 5.944553476685396: 4, 4.22791043057863: 2, 6.927093657901922: 1, 6.043643988763679: 1, 7.9098604229939475: 14, 7.756411997696512: 9, 6.2969673529101495: 1, 3.3339946925546804: 1, 4.237123353189579: 3, 4.246768323540891: 35, 1.44909207658831: 1, 5.618326606687755: 1, 1.8759401775030073: 5, 6.410497676726456: 9, 4.011471801457433: 2, 8.018777488392777: 11, 3.7873435298720834: 1, 2.4666648583964754: 2, 5.811673014306476: 49, 1.5258841344257301: 1, 7.848985257501759: 1, 7.802063795934395: 2, 5.398794730554928: 2, 7.900351143020041: 9, 1.4548504577022277: 13, 5.136228290068435: 4, 4.517475896021105: 1, 4.3546694038787646: 1, 4.442808807743996: 2, 5.652883858325574: 2, 8.208324291982375: 3, 5.998391942978301: 1, 5.281182592745771: 2, 5.28920058451413: 5, 5.335366063062503: 6, 6.253725627191706: 4, 3.643007326109639: 1, 5.835058100123212: 1, 6.418351153420025: 8, 5.627496358322419: 1, 5.8180411808741015: 1, 6.260076377290718: 8, 5.903092761584551: 4, 1.6265093427167294: 1, 5.395233849138846: 3, 6.556602130515819: 11, 8.722945186057101: 1, 5.964595522368792: 5, 6.279901760998546: 4, 4.078417869031958: 1, 7.756569729629606: 2, 5.301321477602782: 3, 7.935134331701788: 1, 4.3468817889641: 1, 5.42191932497278: 2, 3.991174984100682: 1, 4.232737093454993: 5, 6.053626850566658: 3, 5.273841666312908: 3, 4.889668788195601: 1, 5.160365370062997: 1, 4.518189598096364: 8, 5.028875197269989: 3, 3.58137711889132: 2, 7.862696849242889: 9, 8.660220110172585: 4, 5.369743541211539: 8, 6.287496044063993: 1, 1.480938349582848: 3, 5.973053463294024: 1, 5.442268506140591: 3, 6.532320563043959: 1, 1.6628755436315816: 2, 4.246120890295696: 5, 5.851105633970711: 12, 1.860395993176873: 1, 5.7157390307146265: 2, 5.161357437892034: 10, 3.7858747123721757: 1, 6.414719613962206: 10, 4.328886714751867: 2, 6.465444127282239: 1, 1.5437435182605586: 1, 5.300970401720544: 1, 6.2475638492492065: 11, 7.97757011410581: 1, 4.216283787566876: 7, 6.023319894024849: 3, 4.232577899950421: 1, 5.851070250466159: 1, 5.973916390363906: 7, 4.931256559763604: 1, 6.264750683784896: 4, 1.474435188038787: 5, 5.337270333805333: 1, 6.086490925234107: 1, 5.417042118010085: 1, 8.033499556789723: 3, 5.072924130565365: 5, 4.588309681421986: 4, 5.648118029577873: 3, 6.295716387826237: 4, 5.954414469128873: 1, 5.975095842025416: 7, 6.234785895348984: 7, 5.958361013131054: 4, 6.027335949046423: 1, 6.246319708048672: 5, 6.009778384567003: 3, 6.7493032501858305: 2, 3.6181934173776447: 1, 4.3171456930590475: 2, 4.1917300708795056: 1, 5.982590596581025: 4, 5.315466878181541: 2, 5.885644187646825: 1, 4.094617376235533: 1, 6.959425031747408: 2, 5.286740723406728: 1, 3.8731717704038084: 4, 6.592377333188435: 1, 6.059489153986516: 3, 8.099320445090186: 18, 5.658833351481839: 9, 5.19965695756086: 1, 7.567971642103718: 1, 6.321315170414181: 5, 8.31614521462107: 1, 3.959910298438998: 1, 3.5431443580994753: 10, 8.501804614908838: 3, 4.255118427401813: 2, 6.150173139445957: 18, 5.5302114491499: 2, 6.319544146098139: 4, 6.790136581920324: 21, 1.1160308780811883: 1, 3.7814084088415214: 1, 5.986684930443002: 8, 6.450709762386673: 7, 1.2256678502700638: 1, 8.147164124279337: 1, 5.210760941552977: 2, 5.581305546647334: 5, 4.013491602660761: 4, 6.295723211709615: 12, 3.7806947067662624: 1, 5.906764271793418: 1, 1.7186487567694027: 9, 6.330663783402535: 3, 4.525790689894666: 6, 5.739243676558192: 4, 6.401685803344436: 10, 7.9460297517258445: 1, 5.221889766812592: 2, 6.863414609872717: 1, 5.48823646171914: 1, 6.648469011118562: 1, 8.265189163772156: 1, 5.666001489018673: 1, 6.097888841744838: 2, 1.1161112115739649: 1, 5.430916862078897: 3, 5.539208986256016: 2, 5.469038128282542: 2, 4.166225366843482: 7, 7.758565499957843: 1, 4.2184011506047225: 4, 5.641444681240172: 1, 8.316579301658757: 2, 8.07443006592888: 2, 6.478344479714075: 4, 6.252321458536403: 1, 4.868532865209939: 32, 5.794675892525668: 5, 6.227619706705932: 1, 5.285354583356579: 1, 3.571948172410189: 2, 5.31760054606067: 1, 7.070152117798652: 3, 8.063723273235658: 3, 5.369297750283627: 3, 5.718559307504855: 1, 1.2016847826473205: 1, 6.3214469470843: 3, 4.1652216257165176: 1, 4.20182253869801: 3, 4.302447746989008: 1, 5.85300974711038: 2, 5.913937276413628: 4, 4.197067898711056: 2, 6.645294517591512: 4, 6.750863342826212: 2, 6.011922162350162: 9, 4.356391068938008: 1, 8.992599611088908: 5, 8.176916961055074: 4, 5.501344080888934: 1, 5.582050072924694: 4, 5.192075274294478: 2, 5.601068632872508: 1, 5.941327016067366: 2, 6.308681901094497: 9, 5.904179386307422: 2, 8.053826378785397: 2, 4.585197723606415: 2, 7.8814353778662385: 1, 6.291029593027987: 2, 6.261583944766895: 1, 5.886826797272656: 1, 4.174219162822634: 3, 3.5123821597246776: 3, 4.288422212241111: 1, 7.790780761433985: 3, 5.173378048317769: 2, 6.256165977904345: 2, 7.979931741447324: 2, 3.866066849059738: 11, 5.770497374257302: 5, 5.01451462673739: 1, 5.864201170277001: 2, 5.122488738835897: 1, 4.443129596973197: 1, 4.211035461308959: 1, 4.006433835576525: 1, 5.920231122518609: 13, 4.538319063414846: 1, 7.762100165924246: 3, 4.623586127771194: 1, 4.642244129410834: 1, 4.044048900656138: 1, 8.503033023025893: 13, 5.715063168432527: 1, 4.372095920249694: 1, 5.797371984929744: 2, 3.9329486459633514: 1, 6.380115459619288: 3, 3.7165097444712023: 1, 5.8176749963158825: 2, 3.6349077196617627: 7, 5.779637876420254: 1, 5.880120119654418: 3, 4.3081481559529315: 3, 1.635667546808399: 2, 3.2109458990554898: 4, 6.943013800705895: 1, 4.537208158044178: 6, 4.3000031754141625: 1, 5.386673837466276: 1, 1.733131317334609: 2, 4.211865810053858: 1, 6.388096665823213: 1, 5.997195236781444: 2, 5.745954613493795: 6, 4.283072879159426: 2, 3.8371816219793424: 4, 4.606333646592076: 6, 5.7970843285776334: 14, 1.5442552611283493: 1, 6.001575230316084: 4, 7.217302644174657: 16, 5.7884996789912835: 3, 6.961523713686008: 1, 5.922499018927956: 5, 6.128261705683117: 2, 1.6268853952071152: 6, 3.7714817841553128: 1, 3.9290570528834996: 1, 6.424086814247678: 1, 5.773852842725104: 2, 4.083810618269549: 17, 7.826765547764867: 5, 5.361459128305804: 2, 8.903632916646336: 1, 5.835757269117333: 4, 4.118996012529049: 1, 3.6705602185013557: 1, 6.01973822634097: 3, 7.172316773035668: 11, 1.5054455858628546: 1, 5.870088810413973: 2, 5.763945428388663: 2, 3.650039690372183: 2, 5.322705751060051: 1, 4.45227831863893: 1, 7.9762109192631225: 1, 5.264171719353448: 5, 3.7413940039022373: 2, 4.53475726815808: 1, 8.113871312303491: 2, 8.275550760165897: 2, 3.8893574057405833: 6, 1.3292152707871434: 1, 6.514019223876868: 3, 5.154337872583442: 1, 5.233340984712407: 1, 5.433270969034474: 3, 6.342656648988279: 4, 1.7452902922055145: 3, 2.3615492214241116: 2, 5.811418508330804: 3, 1.776309563989733: 1, 1.0758397332252598: 2, 2.114204228245053: 3, 3.5733833229121674: 7, 5.360394928223185: 2, 5.5186254530259085: 3, 7.766172855172772: 2, 5.898763914550949: 2, 5.259277083567626: 2, 4.808268627023711: 6, 6.846069798422956: 1, 4.624249055198601: 1, 7.8481753592588: 1, 7.9310362670148: 1, 8.54424039731286: 1, 7.734161392561879: 1, 5.9662193307062426: 3, 1.6175118056106128: 1, 6.069922898006769: 2, 1.80681468895511: 5, 5.637058781296974: 2, 5.803368357857264: 6, 7.067201136063304: 6, 5.622834684422642: 2, 4.296826744264286: 4, 5.947988627445699: 1, 2.0782140798205866: 2, 5.73141136926213: 1, 5.599848419480497: 5, 5.924523043324489: 1, 5.947200770758428: 3, 1.3724357091282946: 4, 4.225632400555231: 3, 1.7093001437810482: 10, 6.341997829908787: 1, 4.124149398642027: 1, 5.963538110420455: 1, 5.929364499425112: 1, 6.9922001100816455: 1, 3.3720318124503095: 3, 6.414636945837212: 6, 1.8237643937417662: 3, 4.242881734303497: 1, 4.526785284672391: 2, 6.7196183180726035: 1, 5.46962851595581: 1, 6.238900421840248: 1, 5.633596119574678: 2, 4.191309517597138: 5, 6.315282210303309: 1, 6.538868700929914: 1, 5.346618946793687: 1, 6.956723518916563: 2, 8.561413102850699: 5, 5.378295287389744: 3, 3.827833008990988: 6, 7.766079009603514: 2, 3.7061020633708184: 6, 6.305962031572064: 3, 5.320340037550596: 4, 5.843827393519406: 5, 4.083582795028527: 1, 5.020473341009021: 3, 4.343233584939668: 3, 1.6228611386922975: 2, 1.1755968907666998: 1, 7.518568138442775: 1, 5.477523922520868: 3, 7.993672343946888: 1, 9.002108891062814: 1, 5.556490358392991: 4, 6.000789667818761: 1, 5.485107670904307: 1, 6.425747021159788: 1, 6.4368537084935795: 1, 4.984813032457873: 2, 1.3635869976986217: 1, 3.7369107147705307: 1, 6.688505981808858: 1, 4.337533175975746: 1, 8.931075214339312: 8, 5.320791088225554: 3, 2.3975393698485776: 4, 1.1839953535355001: 6, 6.130384457473667: 3, 5.966455335229816: 3, 5.049675028158157: 1, 5.404366399727839: 2, 3.719629342633556: 2, 3.7676729131453284: 1, 5.968078232013048: 4, 1.582075300741638: 1, 6.0783286023971295: 4, 6.700262924064899: 1, 8.45469452601064: 7, 7.969932166979962: 2, 4.200307054703255: 3, 8.250715436009404: 2, 4.632895516422479: 2, 1.1058116037997505: 1, 3.942297258951706: 1, 5.231149099587569: 1, 1.9308692202695799: 1, 8.029475300274905: 1, 6.605411106579778: 1, 5.957888844750554: 1, 5.416807693257342: 1, 5.584797564527014: 1, 5.649855217388714: 1, 5.343440100102545: 3, 5.3269491590490246: 1, 8.008332312480608: 2, 8.548914703807037: 3, 5.468547415383682: 1, 6.314955595177978: 3, 5.7678588819491505: 2, 5.399802777103356: 5, 4.380185573803398: 1, 6.00560686886805: 5, 3.9253475541650493: 3, 5.826410661211286: 1, 6.007809837213554: 2, 3.6637918674652528: 1, 6.042338453972663: 1, 4.311260248949074: 2, 1.732001032179479: 1, 5.888769197581184: 1, 6.305958058071862: 2, 4.237259043566985: 2, 4.243417114390455: 5, 6.4789224669411745: 2, 5.787131947872638: 1, 4.246311907658167: 2, 5.172723821657349: 2, 5.840064551655084: 5, 4.334236047833552: 4, 6.476297678267488: 1, 7.7890198499940855: 1, 6.028925098736186: 2, 5.667136589525688: 1, 4.064184639830491: 1, 6.592974492171146: 2, 3.7623235800636436: 1, 6.851964470962553: 1, 4.611161782949419: 1, 5.442087417651893: 6, 5.815362799824612: 2, 5.775164310926126: 9, 5.81936948162076: 3, 5.386313279158101: 2, 5.997897150971187: 7, 5.254823106365094: 5, 4.169544856328457: 2, 6.628451083336229: 1, 8.038445279597997: 1, 6.815801350290068: 1, 5.727090597107532: 1, 3.741585021264708: 1, 6.166112243554117: 2, 6.0609253609006535: 2, 6.580709354749306: 3, 3.9209214471201426: 1, 3.517056466218855: 2, 5.3317032881661675: 2, 4.083964829753468: 1, 5.880875664229019: 2, 4.225422040178222: 2, 5.8420800117341765: 1, 1.1642015646349768: 1, 3.608980494766695: 2, 6.524548740284155: 1, 8.85832747767238: 1, 5.790661047994141: 3, 5.681176286440678: 1, 3.5401514385170523: 5, 4.119407790124077: 1, 5.202647322603853: 2, 6.595382525685037: 1, 5.1307982381706125: 2, 4.5527523423703125: 1, 4.825579137386307: 1, 5.760937582846757: 2, 8.02893599962409: 1, 5.177945570773381: 1, 5.314421916029193: 1, 4.319538101763513: 2, 6.0278541395591745: 2, 7.816979012521058: 1, 6.029599218784448: 4, 5.669577749364414: 5, 4.584797167774959: 2, 4.012749009627646: 2, 5.402537073567048: 1, 5.505208050195792: 1, 1.3886069475070617: 1, 1.0922319919732126: 3, 5.910345939477296: 1, 3.624746382908915: 4, 8.05904896674148: 1, 5.887572491384328: 3, 6.1994691390990235: 1, 8.384111093399024: 1, 6.087204270143744: 5, 5.835014672898146: 4, 6.061898693320371: 1, 6.6728748200536545: 1, 5.903587358135197: 1, 1.8078381746906915: 1, 5.862125045442185: 2, 3.3665999526653136: 1, 3.863823157415454: 4, 5.998218722517025: 2, 5.989345369162172: 2, 5.308954084836791: 1, 4.3696075298492865: 1, 5.210070348506711: 2, 5.782838889136905: 3, 5.990921082536714: 4, 6.105682705643195: 1, 6.901195002375477: 1, 1.359103708566915: 1, 5.8914835153951195: 4, 8.43427220107748: 2, 7.788581192240499: 1, 5.310319014708899: 2, 5.505315358269097: 1, 4.16054731922234: 1, 6.02691123096118: 3, 5.42409234343966: 3, 3.994473042712947: 4, 6.912588301184554: 1, 3.842154902570641: 1, 1.4066385785409687: 1, 5.3877170075799645: 4, 5.9315605800562015: 2, 5.989817019663546: 1, 1.653299994827611: 2, 6.069968321412297: 1, 5.889235524583157: 2, 8.522408302052321: 3, 7.851322410748848: 1, 5.998362726905117: 2, 7.841680764351529: 1, 5.214768215692505: 2, 5.782475229750174: 2, 7.896816477053638: 2, 4.420675052922302: 2, 5.880117131629805: 7, 5.70238884527706: 1, 8.450020219516462: 3, 5.753532464938301: 1, 4.347042455949653: 1, 6.496330414619493: 1, 3.644281309258265: 1, 4.360514957076642: 2, 4.466013814335123: 5, 5.6756732256715825: 1, 5.9248639171682855: 2, 3.908375965688398: 4, 5.447837675907697: 3, 1.6346331192278196: 1, 5.2078171336780015: 1, 5.378741078317656: 2, 6.131759146301534: 3, 1.5625403743922877: 1, 5.843445422518346: 1, 5.530383663678447: 1, 5.37836839459161: 3, 1.0851883462136143: 2, 4.169564488108444: 1, 6.052641525869795: 8, 6.815655704647484: 1, 2.854066746466341: 1, 7.718968920705315: 2, 5.589459238426789: 1, 6.667362822533969: 5, 5.306311740569371: 1, 3.458363314227601: 1, 8.42531846768599: 5, 4.338044918843536: 1, 8.687348014202573: 1, 3.7362053378061053: 1, 1.2649749516074549: 1, 6.126058737337612: 3, 6.774089501574024: 4, 5.957814469888442: 3, 7.653995690526139: 1, 1.3004917899692061: 1, 6.330654221420715: 3, 5.3563897782115975: 1, 4.980100051417786: 1, 5.952719983823996: 2, 8.160981401201688: 1, 6.75933976720974: 2, 6.140756683407651: 1, 4.185951369162871: 1, 4.136140613514709: 1, 3.1925855543879376: 1, 5.521213912043783: 2, 5.448198234215871: 2, 3.7360446708205526: 1, 5.389085559258399: 1, 4.425848224836223: 1, 1.5362614651491968: 1, 5.382521404966382: 4, 1.8233823590168252: 1, 5.829885036832966: 1, 3.8067183977016663: 1, 4.362088748339135: 1, 3.6532788463643815: 3, 5.2794882800678575: 2, 5.348984660303142: 1, 6.006894688077303: 2, 4.114653150137123: 1, 5.413363936833956: 3, 5.28918796893845: 2, 5.67600742551412: 1, 6.098687924960056: 3, 5.7923999483829895: 2, 5.785140254086125: 1, 5.218354183537569: 1, 1.4384450396143205: 4, 4.4085668526992485: 3, 3.8803908274771697: 1, 5.810331296405884: 1, 7.0134370792740075: 1, 5.373523867860265: 2, 3.825473214346237: 1, 6.338046701171693: 2, 4.456665201346769: 2, 7.858494537475667: 1, 5.404231386244962: 1, 8.00697311763792: 2, 4.105224203655992: 2, 8.883029229502853: 1, 6.006115351908678: 2, 6.212180441105952: 1, 6.3219952970693285: 2, 5.861518599687602: 1, 5.9001621653378145: 4, 5.485807757551726: 3, 1.2916852702255601: 1, 5.038223810258343: 2, 5.239469967522976: 1, 1.9650499298185877: 1, 4.587315086644262: 3, 5.369392465329302: 2, 4.8918278487007045: 1, 6.109354099068796: 3, 6.442354331289609: 1, 5.308877355828597: 1, 5.534562481705562: 1, 7.024465406400983: 3, 6.2532236637820615: 1, 1.78530710109585: 1, 5.769974140695196: 2, 4.720463500413944: 9, 5.387877674565518: 1, 4.434996946501956: 1, 5.29009619187453: 1, 5.296089336395083: 2, 0.8049846290585323: 1, 4.257660013866313: 1, 5.995036474510498: 1, 5.2487946179593035: 1, 6.62059276576104: 1, 8.267175797997815: 1, 6.034608290618844: 2, 5.205419602704151: 1, 6.002394365457083: 1, 4.345817011006604: 2, 4.160466985729564: 1, 5.297314203463254: 1, 3.5629506353040723: 1, 6.049167150248115: 2, 4.523272771025364: 1, 5.359722518369841: 2, 3.5265657461927624: 1, 3.5295576579366568: 1, 4.4876844731309875: 1, 5.623449607027939: 1, 6.29661341858371: 1, 3.624788798977356: 1, 6.21551574721506: 1, 5.162871348835119: 3, 4.60559105355896: 2, 5.877947127989162: 2, 8.930139318401052: 1, 1.4080328809828224: 1, 1.210163578908897: 1, 1.3065458900807332: 1, 6.507198626854876: 1, 6.652689651598239: 1, 3.5986584910282944: 1, 3.754551487900576: 1, 4.480082086634051: 1, 4.206361154814782: 1, 6.575104685589374: 2, 5.310991424562242: 1, 8.47242855658419: 1, 5.283190279301262: 1, 5.417452732194569: 1, 1.512981319885761: 1, 7.786682696746997: 1, 3.6622763834704983: 1, 1.260732054488292: 1, 5.600063035627107: 1, 4.2400659052400185: 1, 1.4628442536813802: 1, 0.9450864876360733: 1, 4.426160076381392: 1, 4.213124769488509: 1, 6.287741341816105: 1, 1.7504126894715832: 1, 8.940423827327667: 1, 4.334393985256309: 1, 6.002209479130709: 2, 5.9770414002982655: 5, 5.804011233431708: 1, 5.449402071315113: 1, 6.007892671013366: 1, 5.230121354534622: 1, 6.606966979734568: 1, 8.090631392563653: 1, 6.0659873399108815: 1, 5.992934950311721: 1, 5.942858991380518: 1, 4.1098985101501695: 1, 6.4289409760531315: 1, 1.15638268992267: 1, 6.00709839180052: 2, 5.272185055639655: 1, 5.792265745632463: 2, 1.1665993536605834: 1, 4.7702315071280825: 2, 5.487033202494775: 4, 5.713416295049897: 2, 5.25848852747079: 2, 4.192313258724102: 1, 5.755251747063543: 1, 4.311445284095125: 1, 1.5806955071242879: 1, 5.9023059459689575: 1, 1.6176724725961658: 1, 6.089334301208204: 1, 4.458796947770575: 1, 1.3630870961399402: 3, 8.256532200218082: 1, 6.4417949313596266: 1, 4.430023665910657: 3, 1.4753709858314008: 1, 7.829320618558334: 2, 5.800963321866075: 1, 5.721956776740728: 2, 5.603407561344542: 1, 5.812597589485735: 1, 1.2083864781330895: 1, 4.232577533799268: 1, 1.4801256258183546: 1, 6.268757351927999: 2, 6.089690387853939: 4, 6.641733197017826: 1, 6.177606503925285: 1, 4.224559221428193: 1, 6.856504250147957: 1, 5.977507727300237: 1, 3.635395900932125: 1, 6.024699940593497: 1, 5.960325607009488: 1, 5.8333621333542105: 1, 5.047893757217803: 3, 6.036829217702806: 1, 4.112312395253265: 1, 5.927528941504236: 1, 7.869588944645243: 1, 3.6977595548343203: 1, 1.1709225842725226: 1, 4.31247138656487: 2, 5.8821208218577725: 1, 1.714624500254585: 1, 5.965354647849577: 1, 1.5713468941359334: 1, 4.120896285478624: 1, 5.239797080853187: 1, 1.5705341703714404: 1, 6.308135162770356: 1, 4.123233438725713: 1, 6.036088434103944: 1, 4.338395994725774: 2, 6.045846957109184: 1, 6.295897583104852: 1, 6.083149566546599: 1, 1.3938492945147378: 1, 6.2023082557557565: 1, 7.828381570358276: 2, 6.510982082276091: 2, 8.971346692688018: 1, 4.079136311775372: 1, 4.416850687730106: 2, 3.7886024893067343: 1, 3.8423155695561944: 1, 6.216331310111936: 1, 3.7452028749122217: 1, 4.728982657446023: 1, 4.024865455768051: 1, 5.478035665388659: 1, 4.304557830648201: 1, 1.705475778588852: 1, 3.99225024910844: 1, 1.6437907148537036: 1, 5.310664311232032: 1, 0.993424984651327: 1, 7.871926097892332: 1, 1.3396380322924348: 1, 8.750918465089184: 1, 4.145495682004697: 2, 8.610816606511642: 1, 4.355326290980511: 1, 5.90466274759464: 1, 2.0090885912726897: 1, 6.4069421700922415: 2, 7.698410494029916: 1, 7.75050928308528: 1, 6.0017431521287365: 1, 4.281909079512694: 1, 5.413228923351078: 1, 3.9396436497049994: 1, 4.234068501402101: 2, 5.275845303382671: 3, 1.6261582668344914: 1, 6.629206860682033: 1, 1.41019092499085: 1, 4.1147531154098855: 1, 4.374404664256755: 1, 5.822132411829406: 3, 3.726696057832198: 2, 5.414273885503427: 1, 6.031885778111141: 1, 5.447791667625027: 1, 6.765357414224985: 2, 6.017636702142192: 1, 3.576185598606853: 1, 5.225935866803951: 1, 5.816390544877559: 2, 4.220032998415076: 1, 1.8391058587072928: 1, 6.937547990727719: 3, 3.652316714760925: 1, 4.2896811716757615: 1, 4.435157613487508: 1, 4.614900442210247: 1, 5.817776727986238: 1, 8.894123636672429: 1, 6.411689602599201: 1, 4.257679645646299: 1, 5.4711346487200885: 1, 4.215912760204315: 1, 4.364163161101074: 1, 5.439993921959284: 1, 1.3374991058180012: 1, 5.421512758381937: 2, 6.2752225122782965: 1, 3.84851409618609: 1, 5.951386164157818: 1, 4.23731437055205: 1, 5.413715012716193: 1, 5.424163669130172: 1, 5.291181999800957: 1, 4.123750652516002: 1, 1.3558149055355546: 1, 8.433740319845727: 1, 2.0153361737830036: 1, 6.323825339080768: 1, 5.757888148781468: 1, 5.939342453183239: 1, 4.26340226243267: 3, 5.1300960864061365: 1, 4.031004954715828: 1, 5.673684689849391: 1, 6.54292618969594: 1, 6.698054755565732: 1, 5.057242370206158: 1, 7.040404826555348: 1, 4.343745327807459: 1, 3.763413334629288: 1, 6.7222783237145975: 1, 4.842424345039762: 1, 6.99817182094972: 2, 2.8587410529605184: 1, 5.246759608612174: 1, 3.707161131482848: 1, 6.317296078078315: 1, 6.061325666011105: 1, 5.324742874125836: 1, 7.8540223703888055: 1, 3.7405987195980366: 1, 5.969597699951831: 1, 5.627324143793872: 1, 4.049402085479519: 1, 6.278435015689263: 2, 1.2559774145013383: 1, 6.641506623126278: 1, 8.132889872251305: 1, 3.6336587131212847: 1, 4.194067224126594: 1, 5.801376664070751: 1, 8.177926322654134: 1, 8.195007803468487: 1, 1.4564401138265537: 1, 6.3689476497590825: 1, 5.347682204709445: 1, 1.5577857344053339: 1, 4.299190451649668: 1, 1.199388941026973: 1, 6.140751672644154: 1, 8.49770655022185: 1, 5.311442475237199: 1, 4.766109921553096: 1, 8.051876840014662: 1, 4.961402825441077: 2, 8.878931164815864: 1, 6.2083412158666285: 1, 7.713791593217315: 1, 6.392060152649222: 1, 6.208472992536748: 1, 1.1119166240582925: 1, 6.884781193195382: 1, 4.155159173462524: 1, 1.731754687831943: 1, 2.9353974204205335: 1, 3.6795577556074726: 1, 4.373672441074982: 1, 7.612788316239172: 1, 6.278105964916353: 1, 1.2100832454161206: 1, 6.60229142659395: 1, 8.950743005544535: 1, 5.290180129851888: 2, 8.03583491798888: 1, 1.2654063609824693: 1, 5.857406601516389: 1, 6.733566720308592: 1, 3.8688098643041178: 1, 7.061325598629543: 1, 4.194727143827198: 1, 8.08916956047302: 1, 5.963655978243077: 1, 6.108068730952877: 1, 6.271399287298115: 1, 6.604262888765141: 1, 7.966633438869328: 1, 3.635746976814363: 1, 8.953080158791623: 1, 5.782051032449635: 2, 6.332236967314953: 2, 8.000897357755939: 1, 4.4966820102371035: 1, 5.233786775640319: 1, 1.2149182188958507: 1, 4.246632633163487: 1, 6.654879797078244: 1, 4.269160643546588: 1, 5.352459035924822: 1, 5.460153817554638: 2, 3.5512439645473517: 1, 1.693885941455649: 1, 3.894842429199673: 1, 5.137563420236581: 1, 4.71343847311989: 1, 6.598473543868337: 1, 5.290882281616364: 2, 6.28743255279538: 2, 5.841405477752893: 1, 3.486294267844057: 1, 7.91411213468421: 1, 3.9924532415096183: 1, 5.99515355451: 1, 1.264779990376736: 1, 1.7241337802284922: 1, 3.762484247049196: 1, 1.5610248903975328: 1, 5.973628734011795: 1, 8.085238421649825: 1, 6.535683834106562: 1, 1.6622975319337279: 1, 1.1334393662601792: 1, 6.262968894138293: 1, 1.6439513818392566: 1, 8.754440287968983: 1, 4.258918973300964: 1, 1.219592525390028: 1, 6.051973247200063: 1, 6.10543130968479: 1, 5.921506181849923: 1, 3.5463733303100926: 1, 2.219881650622349: 1, 5.222392108514951: 1, 2.9223534744802233: 1, 4.292070416265542: 1, 1.3311304866459102: 1, 1.346817368429438: 1, 8.1135950922558: 1}\n",
      "../rcv_elections_database/single/Minneapolis_11022021_ParkBoardAtLarge.csv\n"
     ]
    },
    {
     "name": "stderr",
     "output_type": "stream",
     "text": [
      "/Users/es5891/Documents/GitHub/bugs-in-democracy/rcv_exploration/../rcv_learning/rcv_dimensionality.py:188: RuntimeWarning: divide by zero encountered in divide\n",
      "  distance = 1 / np.sqrt(freq_upper_triangle)\n"
     ]
    },
    {
     "name": "stdout",
     "output_type": "stream",
     "text": [
      "Normalized distances: {'Katherine Kelly': 0.0, 'Charles Rucker': 1.6447010089865903, 'Mary McKelvey': 1.934381068842996, 'Alicia D. Smith': 2.7353098300971244, 'Meg Forney': 3.1082040558988018, 'Tom Olsen': 4.219194154479673, 'Londel French': 6.0}\n"
     ]
    },
    {
     "name": "stderr",
     "output_type": "stream",
     "text": [
      "/Users/es5891/Documents/GitHub/bugs-in-democracy/rcv_exploration/../rcv_learning/rcv_dimensionality.py:188: RuntimeWarning: divide by zero encountered in divide\n",
      "  distance = 1 / np.sqrt(freq_upper_triangle)\n"
     ]
    },
    {
     "name": "stdout",
     "output_type": "stream",
     "text": [
      "Consistency points: {0.0: 2399, 1.5246406859466775: 10068, 4.664395615859756: 1516, 1.8641706177188633: 2976, 2.7679788243362493: 3194, 6.0: 3432, 4.219194154479674: 4998, 1.8354752205440703: 564, 3.2865072717530817: 333, 1.897703596980005: 385, 2.643480514460008: 459, 1.6095231688897238: 1174, 0.5988058152213003: 356, 1.7693518876726047: 1191, 0.9356249987879249: 109, 3.265805835823725: 3348, 1.9599319734159395: 901, 0.4236014129581926: 296, 0.6919947060840623: 88, 2.0791055132479332: 516, 3.3533833875621464: 296, 2.1982790530799265: 639, 2.8981279632891477: 84, 3.949354376867794: 212, 2.5464382241660872: 135, 4.136996346549797: 96, 1.4189430831463892: 630, 1.6448951348007357: 160, 3.3289485132246046: 235, 2.779459551380945: 219, 2.7370183099094216: 269, 2.2715245856411377: 124, 1.9815580950302207: 310, 2.8924355772081185: 292, 4.327576432293131: 468, 3.726753646177753: 154, 3.5759841182521868: 150, 3.5411286473898285: 131, 2.4208797837699674: 206, 2.2145794222450785: 251, 1.0959973530420313: 55, 2.09012266937321: 432, 0.8733966223519904: 166, 1.857101342158352: 112, 0.4660426544297158: 124, 3.011609117040112: 140, 0.5790186802568891: 104, 0.6412470566928236: 271, 3.095927186009747: 149, 0.717979355053294: 99, 4.482993699591828: 139, 4.3700176737646546: 608, 2.1523510458091444: 260, 2.0168771368119986: 231, 2.975365389573409: 162, 0.5365774387853659: 67, 1.0547985386199186: 117, 1.2773992693099592: 44, 2.3337529620770723: 194, 2.452926501909066: 198, 3.5041529154877127: 288, 2.2199051746942082: 98, 2.3017062439379736: 282, 3.1307826568721056: 222, 3.229986765210156: 73, 0.7542230825199968: 89, 0.8164514589559313: 172, 2.556353692767113: 63, 1.1582257294779656: 58, 0.7604205965248172: 109, 2.7847853038300743: 119, 0.38116017148666936: 161, 2.675527232599107: 77, 1.5: 44}\n",
      "../rcv_elections_database/single/SantaFe_03062018_CityCouncilDistrict2.csv\n"
     ]
    },
    {
     "name": "stderr",
     "output_type": "stream",
     "text": [
      "/Users/es5891/Documents/GitHub/bugs-in-democracy/rcv_exploration/../rcv_learning/rcv_dimensionality.py:188: RuntimeWarning: divide by zero encountered in divide\n",
      "  distance = 1 / np.sqrt(freq_upper_triangle)\n"
     ]
    },
    {
     "name": "stdout",
     "output_type": "stream",
     "text": [
      "Normalized distances: {'Carol Romero-Wirth': 0.0, 'Nate Downey': 0.8674559027183792, 'Joe H. Arellano': 2.0}\n"
     ]
    },
    {
     "name": "stderr",
     "output_type": "stream",
     "text": [
      "/Users/es5891/Documents/GitHub/bugs-in-democracy/rcv_exploration/../rcv_learning/rcv_dimensionality.py:188: RuntimeWarning: divide by zero encountered in divide\n",
      "  distance = 1 / np.sqrt(freq_upper_triangle)\n"
     ]
    },
    {
     "name": "stdout",
     "output_type": "stream",
     "text": [
      "Consistency points: {0.8674559027183792: 277, 2.0: 260, 0.2168639756795948: 440, 0.3584319878397974: 1726, 0.5: 55, 1.042159939198987: 269, 0.0: 580, 1.1505919270387843: 34}\n",
      "../rcv_elections_database/single/NewYorkCity_06222021_DEMCouncilMember31stCouncilDistrict.csv\n"
     ]
    },
    {
     "name": "stderr",
     "output_type": "stream",
     "text": [
      "/Users/es5891/Documents/GitHub/bugs-in-democracy/rcv_exploration/../rcv_learning/rcv_dimensionality.py:188: RuntimeWarning: divide by zero encountered in divide\n",
      "  distance = 1 / np.sqrt(freq_upper_triangle)\n"
     ]
    },
    {
     "name": "stdout",
     "output_type": "stream",
     "text": [
      "Normalized distances: {'Selvena N. Brooks-Powers': 0.0, 'Nancy J. Martinez': 1.02484063013512, 'Nicole S. Lee': 2.0}\n"
     ]
    },
    {
     "name": "stderr",
     "output_type": "stream",
     "text": [
      "/Users/es5891/Documents/GitHub/bugs-in-democracy/rcv_exploration/../rcv_learning/rcv_dimensionality.py:188: RuntimeWarning: divide by zero encountered in divide\n",
      "  distance = 1 / np.sqrt(freq_upper_triangle)\n"
     ]
    },
    {
     "name": "stdout",
     "output_type": "stream",
     "text": [
      "Consistency points: {1.0248406301351203: 1184, 0.37810507876689003: 2628, 0.0: 5867, 0.25621015753378007: 488, 1.1405253938344502: 731, 0.5: 400, 2.0: 803, 1.2686304726013402: 161}\n",
      "../rcv_elections_database/single/Portland_06082021_charter_commission_at_large.csv\n",
      "Skipping file: ../rcv_elections_database/single/Portland_06082021_charter_commission_at_large.csv\n",
      "../rcv_elections_database/single/Oakland_11022010_SchoolDirectorDistrict2.csv\n",
      "Error in file: ../rcv_elections_database/single/Oakland_11022010_SchoolDirectorDistrict2.csv\n",
      "zero-size array to reduction operation minimum which has no identity\n",
      "../rcv_elections_database/single/NewYorkCity_06222021_DEMCouncilMember35thCouncilDistrict.csv\n"
     ]
    },
    {
     "name": "stderr",
     "output_type": "stream",
     "text": [
      "/Users/es5891/Documents/GitHub/bugs-in-democracy/rcv_exploration/../rcv_learning/rcv_dimensionality.py:188: RuntimeWarning: divide by zero encountered in divide\n",
      "  distance = 1 / np.sqrt(freq_upper_triangle)\n"
     ]
    },
    {
     "name": "stdout",
     "output_type": "stream",
     "text": [
      "Normalized distances: {'Regina A. Kinsey': 0.0, 'Renee T. Collymore': 1.9822189492801359, 'Michael Hollingsworth': 2.2450058323205555, 'Curtis M. Harris': 2.747105459134707, 'Crystal Hudson': 3.3470202700714538, 'Hector Robertson': 4.366367887969718, 'Deirdre M. Levy': 6.0}\n"
     ]
    },
    {
     "name": "stderr",
     "output_type": "stream",
     "text": [
      "/Users/es5891/Documents/GitHub/bugs-in-democracy/rcv_exploration/../rcv_learning/rcv_dimensionality.py:188: RuntimeWarning: divide by zero encountered in divide\n",
      "  distance = 1 / np.sqrt(freq_upper_triangle)\n"
     ]
    },
    {
     "name": "stdout",
     "output_type": "stream",
     "text": [
      "Consistency points: {4.837159651394952: 418, 2.1086709906415324: 87, 2.8609126859283216: 108, 2.202163697439445: 3059, 2.1835065757230345: 11, 4.523224782121845: 6, 2.6046771047608552: 3282, 2.3027920492697973: 2812, 2.929274718967518: 1491, 2.6355123323973446: 183, 2.383941452821463: 526, 5.127869738546214: 29, 2.34336675104563: 619, 1.5348656570549095: 8, 0.0: 505, 0.8799154186042997: 7, 2.685826508312521: 469, 2.324413904410682: 45, 2.2559537207856484: 11, 1.4342373052245572: 8, 6.0: 519, 0.5505409243598612: 69, 2.174804317233983: 65, 2.101162952161925: 15, 2.2880751435167745: 35, 4.66086001321181: 3, 1.1782618411529278: 160, 0.6008551002750375: 23, 0.6511692761902138: 36, 3.1627977414193795: 76, 1.5644602361660072: 2, 4.8893841219927845: 23, 1.3875829269107935: 3, 0.45785395572559295: 1, 2.027521587089867: 132, 2.279372885027723: 30, 0.6414298020508704: 20, 1.1161593398709397: 11, 0.717102616195219: 2, 0.7323186797418795: 37, 2.205731519955665: 61, 2.242552202491694: 28, 3.6969560392256384: 54, 3.1516227730795836: 81, 0.7970113712214928: 7, 3.5516009956500074: 5, 0.621142451162954: 2, 3.0062677295039526: 24, 1.5048388320276498: 2, 1.0252704621799307: 7, 0.9708042962953087: 5, 2.192208834212086: 18, 1.4845514811397333: 1, 2.585642223748391: 10, 1.209289912848738: 19, 2.3096969986576594: 7, 4.798495244301775: 16, 2.50752460036153: 14, 0.7767240203335763: 5, 2.1823123557135906: 18, 3.4062459520743764: 36, 1.0755846380951068: 4, 2.3617165085888328: 22, 1.5: 27, 2.339491564356202: 11, 2.6412835459617527: 10, 2.683393520420069: 4, 0.7403852594396686: 4, 1.8545006771600046: 1, 0.29456546028823194: 16, 2.2285475951059937: 8, 1.4109101160676754: 3, 3.1279231904755345: 10, 2.693646332038199: 10, 3.4535078285706415: 55, 4.856518227126074: 2, 2.2648863559999017: 3, 2.7615198058183967: 1, 2.2646559792747003: 5, 2.6039809417836026: 14, 0.6807638553013113: 3, 3.330796699354699: 11, 0.9302295945194758: 4, 0.4728673682392229: 3, 1.5658253744135715: 1, 2.300994740168608: 4, 3.3081527849950105: 11, 3.1873693423475524: 1, 2.8372131033242725: 5, 0.6917439779660466: 15, 1.354644956424369: 7, 0.8109867862427612: 1, 1.6160150606065753: 13, 4.7063044520573145: 1, 2.383696380864696: 11, 0.5134420700150557: 4, 3.040086612203437: 3, 2.823006992658426: 2, 2.3758303252501096: 5, 1.4687323304624593: 13, 3.1453604659474568: 1, 2.346035759551567: 7, 1.6007989970599148: 2, 4.670507512265961: 5, 0.5276190353079084: 2, 2.3980552694827404: 8, 2.092986293713434: 3, 1.7337522044964935: 2, 0.4225531923240466: 2, 2.4847918382849272: 2, 1.0029071163072913: 2, 2.539987075765695: 8, 2.565658600002384: 3, 2.219845336616942: 4, 4.811942750138327: 2, 1.8139259753841717: 1, 2.273358237763752: 4, 2.4206409679078678: 1, 1.5754403588307424: 1, 2.5715184663794375: 5, 4.848809420216952: 4, 4.775122067602298: 5, 4.823652332259364: 1, 0.4679976311695512: 1, 4.743125134593344: 3, 1.5251261829155662: 2, 0.44771028028163473: 3, 4.697680695747839: 3, 0.5891148841594043: 1, 1.6807077520861886: 1, 4.596866147193903: 1, 2.6776223068556604: 1, 0.5872404394462658: 1, 1.9998557207356356: 1, 2.647054759526161: 2, 4.869096771104869: 1, 3.196703514420835: 1, 4.787700611581092: 1, 0.760672610327585: 3, 4.84393968314728: 6, 4.824521294117121: 2, 1.2869545750804412: 2, 1.6161395503287477: 1, 0.49315471912713926: 1, 1.7310219280013648: 1, 0.847325547136669: 1, 0.8333501321154005: 2, 1.5252506726377386: 2, 2.4933184896956835: 1, 4.734501378283868: 1}\n",
      "../rcv_elections_database/single/Oakland_11032020_MemberCityCouncilDist5OaklandRCV.csv\n"
     ]
    },
    {
     "name": "stderr",
     "output_type": "stream",
     "text": [
      "/Users/es5891/Documents/GitHub/bugs-in-democracy/rcv_exploration/../rcv_learning/rcv_dimensionality.py:188: RuntimeWarning: divide by zero encountered in divide\n",
      "  distance = 1 / np.sqrt(freq_upper_triangle)\n"
     ]
    },
    {
     "name": "stdout",
     "output_type": "stream",
     "text": [
      "Normalized distances: {'ZOE LOPEZ-MERAZ': 0.0, 'RICHARD SANTOS RAYA': 0.8945093750683899, 'NOEL GALLO': 2.0}\n"
     ]
    },
    {
     "name": "stderr",
     "output_type": "stream",
     "text": [
      "/Users/es5891/Documents/GitHub/bugs-in-democracy/rcv_exploration/../rcv_learning/rcv_dimensionality.py:188: RuntimeWarning: divide by zero encountered in divide\n",
      "  distance = 1 / np.sqrt(freq_upper_triangle)\n"
     ]
    },
    {
     "name": "stdout",
     "output_type": "stream",
     "text": [
      "Consistency points: {0.36181367188354874: 1490, 0.8945093750683897: 1217, 1.1708820313012922: 426, 1.0590683594177435: 1340, 2.0: 2915, 0.5: 72, 0.0: 467, 0.22362734376709742: 505}\n",
      "../rcv_elections_database/single/SanFrancisco_11052019_Mayor.csv\n"
     ]
    },
    {
     "name": "stderr",
     "output_type": "stream",
     "text": [
      "/Users/es5891/Documents/GitHub/bugs-in-democracy/rcv_exploration/../rcv_learning/rcv_dimensionality.py:188: RuntimeWarning: divide by zero encountered in divide\n",
      "  distance = 1 / np.sqrt(freq_upper_triangle)\n"
     ]
    },
    {
     "name": "stdout",
     "output_type": "stream",
     "text": [
      "Normalized distances: {'MARC ROTH': 0.0, 'ROBERT L. JORDAN, JR.': 4.46233326379779, 'WILMA PANG': 4.922844630871627, 'JOEL VENTRESCA': 5.009420272327723, 'LONDON N. BREED': 5.300554577316028, 'ELLEN LEE ZHOU': 5.468437854428652, 'PAUL YBARRA ROBERTSON': 6.0}\n"
     ]
    },
    {
     "name": "stderr",
     "output_type": "stream",
     "text": [
      "/Users/es5891/Documents/GitHub/bugs-in-democracy/rcv_exploration/../rcv_learning/rcv_dimensionality.py:188: RuntimeWarning: divide by zero encountered in divide\n",
      "  distance = 1 / np.sqrt(freq_upper_triangle)\n"
     ]
    },
    {
     "name": "stdout",
     "output_type": "stream",
     "text": [
      "Consistency points: {0.7722289989310502: 3702, 0.6994454226839739: 77634, 0.6847983210955535: 606, 0.7660899995095953: 604, 0.531562145571347: 7231, 0.5735329648495037: 1863, 0.6015151832641857: 311, 0.6239158621803829: 41, 0.9090007510635337: 678, 0.9905797276722793: 3817, 0.851436830179304: 195, 0.0: 1542, 0.7892414411658044: 66, 1.0771553691283757: 975, 0.7938729092950744: 1095, 0.821570073228037: 295, 0.7830509541130624: 554, 1.5376667362022132: 497, 0.5070876966530853: 213, 1.0122236380363034: 249, 0.7817747519279876: 15, 0.7064422314595776: 290, 0.6679604514606041: 1291, 0.17486135567099348: 400, 0.7255243723448338: 159, 1.0035290138457278: 77, 0.31603080798431155: 73, 0.13289053639283674: 290, 0.9548464402736869: 87, 0.6144447977435505: 119, 0.8406148749972919: 215, 0.7783126064363673: 307, 0.20108968933746535: 73, 0.19026773415545328: 94, 0.24764493191806983: 305, 0.1819728189997159: 98, 0.6463165410965801: 348, 0.6099247529730418: 191, 0.3844166840505533: 77, 0.3268527631663236: 20, 0.6553566306375975: 54, 0.7968995360795437: 30, 0.7588310635544676: 13, 1.145069467591285: 10, 0.5798712729001617: 128, 0.774850460944747: 44, 0.21125314379453164: 62, 0.6571384962785921: 143, 0.958083761817049: 14, 0.15387594603191512: 130, 0.25846688710008187: 65, 0.21006969196751674: 75, 0.7830882932290635: 135, 0.825276331750886: 21, 0.7147024171628218: 34, 0.8118329145551771: 42, 1.0576387897557882: 40, 0.1747773288891872: 14, 1.192283210896835: 41, 0.2796390198607734: 11, 0.9758318499127653: 120, 0.5987244135149433: 6, 0.1720718400936842: 9, 0.7655300312427589: 62, 1.1240840579522065: 16, 0.789975245096303: 102, 0.6859204567207069: 13, 0.258653610221695: 19, 0.2220750989765437: 25, 0.26928884228209393: 81, 0.7371871531904435: 29, 0.6153357305640479: 18, 0.5875240740568447: 14, 0.8077214912615557: 25, 0.739335615195314: 34, 0.19187379790574766: 10, 0.9669578058649071: 9, 0.8036324213868619: 22, 1.1273514798047628: 96, 0.22446067218857416: 7, 0.19567871174645932: 22, 1.0078763259410157: 19, 0.5767021188748327: 9, 0.21666412138553767: 7, 0.17748281768469024: 3, 0.6081428873320472: 9, 0.664396720178615: 24, 0.9890393783068078: 5, 0.2310551016065951: 8, 0.965339145093226: 7, 0.2454460818276525: 6, 1.0908614238539973: 1, 0.2872488475421967: 12, 0.2298716497795802: 8, 0.9824356141097865: 2, 0.25085705941865855: 6, 1.1345767627717456: 1, 0.6427528098145908: 4, 1.0699742820421463: 15, 0.5699692335675145: 4, 1.0100247879458861: 3, 2.0245840670129804: 1, 0.18916830911024463: 2, 0.9790691714561274: 2, 1.0367516479439371: 3, 0.20626477812680508: 2, 2.2429347957542096: 1, 6.0: 1, 0.9487278280441215: 1}\n",
      "../rcv_elections_database/single/Minneapolis_11062009_Ward11CityCouncil.csv\n"
     ]
    },
    {
     "name": "stderr",
     "output_type": "stream",
     "text": [
      "/Users/es5891/Documents/GitHub/bugs-in-democracy/rcv_exploration/../rcv_learning/rcv_dimensionality.py:188: RuntimeWarning: divide by zero encountered in divide\n",
      "  distance = 1 / np.sqrt(freq_upper_triangle)\n"
     ]
    },
    {
     "name": "stdout",
     "output_type": "stream",
     "text": [
      "Normalized distances: {'Gregg A Iverson': 0.0, 'John Quincy': 0.6190686180255106, 'David A. Alvarado': 2.0}\n"
     ]
    },
    {
     "name": "stderr",
     "output_type": "stream",
     "text": [
      "/Users/es5891/Documents/GitHub/bugs-in-democracy/rcv_exploration/../rcv_learning/rcv_dimensionality.py:188: RuntimeWarning: divide by zero encountered in divide\n",
      "  distance = 1 / np.sqrt(freq_upper_triangle)\n"
     ]
    },
    {
     "name": "stdout",
     "output_type": "stream",
     "text": [
      "Consistency points: {2.0: 530, 0.15476715450637718: 451, 0.6190686180255087: 1178, 0.5: 15, 0.0: 172, 0.9643014635191316: 41}\n",
      "../rcv_elections_database/single/SanFrancisco_11042008_BoardofSupervisorsDistrict9.csv\n"
     ]
    },
    {
     "name": "stderr",
     "output_type": "stream",
     "text": [
      "/Users/es5891/Documents/GitHub/bugs-in-democracy/rcv_exploration/../rcv_learning/rcv_dimensionality.py:188: RuntimeWarning: divide by zero encountered in divide\n",
      "  distance = 1 / np.sqrt(freq_upper_triangle)\n"
     ]
    },
    {
     "name": "stdout",
     "output_type": "stream",
     "text": [
      "Normalized distances: {'TOM VALTIN': 0.0, 'MARK SANCHEZ': 1.4785236292202795, 'DAVID CAMPOS': 1.9262915158401457, 'ERIC QUEZADA': 2.0325285423168755, 'EVA ROYALE': 2.553639411057093, 'ERIC STOREY': 3.123014731797473, 'VERN MATHEWS': 6.0}\n"
     ]
    },
    {
     "name": "stderr",
     "output_type": "stream",
     "text": [
      "/Users/es5891/Documents/GitHub/bugs-in-democracy/rcv_exploration/../rcv_learning/rcv_dimensionality.py:188: RuntimeWarning: divide by zero encountered in divide\n",
      "  distance = 1 / np.sqrt(freq_upper_triangle)\n"
     ]
    },
    {
     "name": "stdout",
     "output_type": "stream",
     "text": [
      "Consistency points: {1.5904656008752458: 416, 2.093555645364855: 139, 0.0: 133, 1.9262915158401464: 1317, 1.6170248574944281: 275, 1.8968797866318452: 2663, 1.478523629220279: 1098, 2.0271575038168996: 211, 1.668884087777364: 389, 3.123014731797473: 211, 1.6037452291848369: 1861, 1.7533356311795028: 41, 1.9087401917123201: 40, 2.032528542316875: 916, 2.553639411057093: 355, 0.43888152144214426: 28, 0.42560189313255314: 50, 1.7473025746794826: 73, 1.5624871210269475: 68, 1.6821637160869551: 204, 1.8423420501643646: 63, 0.6311632809547024: 18, 2.083128489644383: 94, 1.9528507724593285: 360, 1.432209403841893: 142, 2.2492695633898934: 26, 1.140376841474684: 31, 1.8896464048645774: 27, 1.405650147222711: 279, 0.573270994171746: 17, 0.4815728789600366: 35, 0.5040203800346714: 23, 2.6308443826496606: 20, 0.575192295127219: 7, 0.6384098527642732: 16, 3.096024631910683: 25, 0.5599913658621549: 31, 2.5615937685125862: 11, 6.0: 77, 0.7807536829493682: 18, 1.0040660677896094: 8, 1.0692049263821366: 14, 2.051084021897415: 13, 0.6444429092642935: 5, 3.4152295582928196: 15, 0.7095817678568207: 15, 1.9846858803494596: 26, 2.376778314860051: 40, 3.842261048848105: 16, 2.3051500896870243: 12, 1.7048309512120425: 19, 1.81847448977203: 31, 2.225472319829478: 26, 2.6175647543400693: 18, 2.1543004047369303: 32, 0.5081321355792188: 11, 2.695983241242188: 20, 3.4518842073734204: 27, 2.233978174594477: 19, 0.36963090730506976: 28, 2.6088927219152094: 9, 0.4948525072696277: 55, 2.1628062595019295: 49, 2.9447186368801095: 9, 1.5: 8, 3.0243964067376563: 5}\n",
      "../rcv_elections_database/single/Oakland_11082022_Mayor.csv\n"
     ]
    },
    {
     "name": "stderr",
     "output_type": "stream",
     "text": [
      "/Users/es5891/Documents/GitHub/bugs-in-democracy/rcv_exploration/../rcv_learning/rcv_dimensionality.py:188: RuntimeWarning: divide by zero encountered in divide\n",
      "  distance = 1 / np.sqrt(freq_upper_triangle)\n"
     ]
    },
    {
     "name": "stdout",
     "output_type": "stream",
     "text": [
      "Normalized distances: {'PETER Y. LIU': 0.0, 'IGNACIO DE LA FUENTE': 2.3429813434887503, 'SHENG THAO': 3.267880076335667, 'LOREN MANUEL TAYLOR': 3.862126276035659, 'TREVA D. REID': 4.167739305749678, 'SENECA SCOTT': 4.459067713194014, 'GREGORY HODGE': 4.611156356838105, 'ALLYSSA VICTORY VILLANUEVA': 5.117166128668929, 'JOHN REIMANN': 7.140643598419064, 'TYRON C. JORDAN': 9.0}\n"
     ]
    },
    {
     "name": "stderr",
     "output_type": "stream",
     "text": [
      "/Users/es5891/Documents/GitHub/bugs-in-democracy/rcv_exploration/../rcv_learning/rcv_dimensionality.py:188: RuntimeWarning: divide by zero encountered in divide\n",
      "  distance = 1 / np.sqrt(freq_upper_triangle)\n"
     ]
    },
    {
     "name": "stdout",
     "output_type": "stream",
     "text": [
      "Consistency points: {3.8085756012169583: 5509, 4.189794118367153: 79, 4.221951351011555: 1, 4.2151168260600596: 1049, 4.302155580796873: 6446, 5.434740500589362: 847, 4.431021320877527: 99, 6.085673378252732: 2904, 4.020199052385585: 167, 4.748035030160837: 1381, 4.95733781560024: 83, 4.142639471146667: 1010, 4.394079381519486: 26, 4.01183863992326: 27, 4.377850045475902: 652, 3.931970596111937: 2431, 4.581225961382742: 856, 4.440347100918212: 315, 4.979952808913544: 9, 4.021939088588115: 106, 4.854921661282226: 685, 4.001738191258404: 610, 4.040540704812565: 91, 4.371923175943341: 2970, 0.0: 284, 1.058825643989818: 5, 4.365195403124652: 22, 2.084985862391079: 3, 4.310225678495851: 1162, 4.002079713657237: 191, 3.61082846652324: 37, 4.224006080854588: 69, 5.025157285660224: 1, 4.662029550701586: 596, 3.901150879735936: 2, 4.108427508659232: 234, 3.8939746964713624: 163, 4.4106796684505465: 72, 1.2394385645073842: 236, 4.378649603470722: 172, 3.9668543936851703: 1084, 4.585301810744995: 244, 3.9779324964732434: 23, 3.93603467730917: 1, 3.9839603749288885: 141, 3.7738026648472: 3, 4.930780611048341: 37, 9.0: 180, 1.521418344563183: 25, 4.210265582561228: 29, 4.382023624608196: 223, 3.9570195012321276: 11, 5.017940507589373: 121, 6.529617811560078: 8, 4.381012235982881: 110, 4.375286389707031: 121, 4.421695540836842: 166, 4.330426575825562: 82, 4.001066356172606: 278, 4.070162116233275: 417, 4.4013538884098615: 75, 5.6018628444180605: 2, 4.649649886357613: 66, 5.89119124596167: 21, 4.7946045961843975: 58, 4.171547433647828: 6, 4.8552072881735295: 27, 4.437902017352382: 1, 1.2367811224337113: 7, 4.392124073273051: 243, 1.0598032981130352: 2, 4.435186813751674: 9, 4.713562766476643: 4, 3.901778095323782: 32, 4.046050602410695: 19, 4.406135138430775: 785, 5.106431700912719: 64, 4.118527957324087: 29, 1.1453064903456855: 9, 4.999876371109011: 106, 2.0501020648178456: 2, 5.162609590524853: 56, 0.30985964112684605: 13, 6.814255033689549: 43, 5.490448485061478: 4, 5.597473720005205: 59, 4.710252578346746: 63, 4.042013735562898: 7, 4.430318058976182: 13, 3.9168743457178596: 5, 4.7085120488065035: 17, 2.0849934361063283: 23, 3.9769548423500263: 89, 4.135912370973632: 4, 2.048754758649632: 3, 3.5940901660811555: 2, 4.34861475884153: 6, 4.364038796880576: 1, 4.6666684204529165: 40, 5.009888076555192: 3, 3.7390448759079393: 21, 2.2882640485278785: 33, 5.74652216302619: 18, 5.723713569982397: 2, 3.870391533583172: 4, 6.326055375442021: 24, 3.9960518352015915: 29, 3.9719046180175983: 25, 4.298144383435602: 2, 1.662769447599609: 1, 4.33655900193024: 6, 3.7675508737499666: 1, 4.29648343576798: 64, 4.614766088784379: 41, 4.183322776000628: 15, 4.710674203427997: 4, 3.9036748425317143: 11, 4.030092825975163: 1, 4.037305033629302: 89, 2.450997267943721: 17, 4.928575990639501: 1, 4.1998945670320085: 19, 4.334608152217135: 5, 1.337271938311255: 1, 5.558958338783025: 1, 0.9521439003042396: 59, 4.202462183708809: 14, 4.384684570427397: 8, 4.55306859133689: 16, 3.9787417986516207: 2, 4.416235587095631: 39, 4.566543061139219: 23, 1.0755388951992182: 22, 4.601426858712453: 41, 4.022421366084217: 89, 4.082289279867391: 8, 4.1937036392239735: 8, 2.733921485954208: 4, 5.499169434454786: 4, 4.658810679324847: 3, 4.1836031905591184: 8, 1.1205231414373074: 2, 1.8817228236847776: 32, 1.2137304153205566: 6, 4.99027348808699: 2, 4.603570834661168: 8, 4.2490636517671385: 10, 4.577247725024671: 1, 4.899931862324596: 9, 1.1841090038998459: 1, 4.838045746891433: 8, 4.444100766591028: 6, 3.8404952913782577: 6, 4.03595015374584: 118, 4.7485255444879515: 9, 5.500884851269232: 5, 1.1456480127445177: 1, 4.5557443828645745: 1, 4.673836593760644: 3, 4.401213133312592: 6, 3.9919032988053615: 5, 5.455900605031143: 9, 1.0487251953249626: 7, 1.0579556258885525: 2, 4.2184387213953025: 8, 4.869083113600851: 262, 4.03932350223766: 1, 4.665268332108657: 24, 4.291094379252284: 4, 1.2984786198812006: 3, 3.5256662411062845: 20, 5.617031826296818: 2, 6.208475681971381: 3, 1.8857091722815915: 1, 4.016393487628571: 28, 3.6805960616697075: 8, 4.7143714724122185: 1, 3.806283328890822: 15, 4.754246071330604: 6, 1.9875345492690908: 1, 1.1655073876753965: 15, 3.671555076362867: 2, 1.1253112600927202: 3, 5.476616685597655: 81, 4.062355387989878: 2, 2.1466909335538173: 1, 4.27439548293023: 2, 4.861239787396248: 1, 4.2964622518016: 5, 4.9460050959115085: 4, 1.988404567370356: 5, 4.0427239947099975: 2, 5.321628643318649: 9, 4.583917340060635: 7, 5.685919471037057: 35, 1.142753158879337: 1, 4.512824455831603: 83, 4.385386838371886: 8, 2.25: 10, 3.9469145940339425: 3, 3.90487640929652: 1, 4.412198720247834: 18, 4.643965423729613: 6, 4.6309313218378225: 10, 3.891619085620424: 4, 4.28725317893694: 10, 4.449436160957752: 25, 3.864942387390858: 6, 4.974196678577252: 1, 4.339927283057995: 1, 4.057507473882025: 13, 4.259637019619583: 4, 1.3586851251473404: 11, 3.179578923380538: 5, 4.715551363936823: 6, 4.472815916979307: 5, 5.624354967537105: 1, 4.29729312849093: 3, 4.553507760685564: 7, 4.325985634077796: 9, 4.378655007157613: 21, 4.007129937989664: 12, 5.485928640794257: 3, 3.982068406352319: 25, 4.54266569873891: 1, 4.144300418814289: 22, 4.5581902223921436: 1, 2.145336053670355: 1, 2.2567504130269374: 1, 4.056707915887205: 11, 5.394203107583654: 22, 4.0238943968345495: 7, 4.149110813513192: 8, 4.555899683533361: 1, 4.6980233011636745: 35, 4.630359750760599: 4, 4.441896438166553: 15, 4.397447662647242: 4, 4.351174875884451: 28, 4.678908452995886: 11, 3.9011810648475542: 18, 4.246569874082979: 7, 3.9129726462916494: 15, 4.441121769542382: 5, 1.1191758352690941: 1, 4.560850520314335: 10, 4.590116634315097: 8, 3.989010599261316: 16, 5.724177723150063: 1, 4.448002466017238: 1, 1.6976532451728428: 3, 5.2681960464276365: 3, 2.1433093387010946: 9, 3.997739748471908: 3, 1.5090364889471135: 1, 1.250931847052657: 1, 4.025249276718012: 16, 4.6105896694108415: 9, 4.2248157735775385: 3, 5.387465024207279: 2, 4.30119482791714: 3, 4.30289972243706: 1, 4.469777813384733: 7, 4.598873527246105: 1, 4.072188831202536: 30, 4.742140873194311: 12, 5.031816333016694: 14, 1.9719403227069567: 2, 5.344766323910224: 1, 5.486270172259128: 2, 5.182381916984945: 1, 1.9608622199188839: 2, 4.378659738198851: 4, 4.305503226553546: 2, 4.559503718627757: 1, 1.1395174876960745: 1, 3.7490199866445786: 13, 5.524996365091813: 28, 4.355677103911811: 2, 4.592672099386544: 5, 5.142101204705201: 1, 3.9399135199884103: 17, 1.1275286740161696: 1, 4.285302329223835: 16, 5.2843260383013915: 2, 2.228057543261739: 1, 4.346186531407507: 3, 4.432540372674814: 18, 4.307454076266651: 5, 3.5458671384359954: 5, 2.3696306582358: 4, 3.875379088951491: 8, 3.9805968248423707: 13, 4.3752914570710955: 7, 1.9694152105407428: 1, 3.995209028401929: 2, 1.9434203211322671: 6, 4.032623546045142: 1, 3.7389188672739664: 3, 2.5923483709801474: 1, 4.537822517771015: 2, 4.368559289533996: 6, 3.9786157900176478: 2, 2.0051178185797562: 12, 5.318698289751914: 3, 2.1663600458142493: 4, 4.647096554891265: 8, 3.951758143291093: 4, 4.582708294192662: 2, 4.346663909128425: 6, 5.112325857879246: 28, 4.855275287268504: 2, 4.708794052338754: 7, 4.406909807054946: 25, 4.635074175638497: 13, 5.0425863909322315: 2, 3.9977028060860884: 2, 4.042687052324178: 1, 2.0748854137262236: 10, 3.8528866304795684: 5, 4.549578890121529: 2, 4.490119465811713: 16, 4.100816379145206: 3, 2.175778154762191: 2, 1.15541451272579: 1, 3.8125351199880555: 2, 4.209727769544363: 1, 5.0158463520628525: 1, 4.4207801171154015: 4, 4.434000317926173: 3, 4.210331196626283: 4, 5.000778966307276: 1, 4.191889086074808: 2, 3.906231289179982: 3, 4.060133074291246: 3, 4.027471590416645: 12, 3.9685153413527923: 2, 5.156167132507594: 3, 3.9817983916071764: 1, 4.112872136056496: 6, 4.047532363145386: 5, 1.082937157812398: 1, 4.2692645490968495: 2, 6.053545861407958: 5, 1.1093423920564365: 2, 5.447196185653401: 1, 1.2620962564113685: 1, 1.070881400901108: 1, 5.536466215663981: 2, 4.427383414899254: 2, 5.081242980816931: 12, 5.501694546621: 4, 3.8703311633599355: 2, 1.9893822214935735: 1, 2.479298717181612: 1, 4.386568154627966: 8, 2.297153303322408: 1, 4.875971205892318: 7, 4.452474264552327: 6, 1.0779226368413832: 1, 4.938847237998045: 2, 1.0665086165104114: 2, 4.677724814654674: 1, 2.1916751797919067: 2, 4.175982869771827: 3, 4.307931453987569: 1, 3.941864369701515: 5, 1.2305901946256765: 3, 2.0742135786404257: 4, 3.6233320487177068: 2, 1.2171120101732793: 2, 3.7288184186091105: 8, 5.244079414432434: 2, 2.0316487774059144: 1, 1.2258575789546726: 2, 4.190603811090103: 5, 2.0950863110559346: 17, 4.7305473153913296: 1, 3.908725066864142: 5, 5.5710140956943155: 2, 4.318031902652425: 3, 4.3615229630127805: 3, 4.35676435779328: 2, 4.080474726718226: 1, 1.1042921677240085: 1, 2.2301525109693943: 1, 3.8742401911507938: 2, 4.726146882568099: 2, 4.4215547857395725: 2, 4.002727303840228: 3, 3.7007969589994185: 4, 3.9556068008587153: 1, 1.2163839670223222: 1, 4.32982683439314: 5, 1.179518452833121: 2, 2.012516081192936: 11, 4.688452399911774: 4, 5.475024110699605: 2, 4.792051264718048: 2, 4.045590929144993: 2, 5.439255858864815: 5, 3.9798475418940713: 2, 3.944963744320838: 5, 4.606606798158074: 3, 3.9856470491747986: 3, 4.936573897881451: 4, 4.2585606733500745: 2, 4.097179915832776: 2, 4.353726254198706: 2, 4.608557647871179: 1, 3.943335951211463: 3, 2.273041789499828: 4, 2.2157866936144868: 8, 2.186641295481638: 1, 2.101474020791887: 1, 5.490784402604377: 10, 4.102630932294372: 4, 4.692548573883114: 1, 4.013499587590881: 1, 3.9046034960706075: 5, 4.295875697076279: 2, 4.434538130943038: 2, 3.957956892529739: 3, 4.040193274640018: 1, 3.79791417866978: 1, 3.8501302660302246: 1, 1.2862077702339485: 4, 4.668110747484794: 3, 1.7077536938376983: 6, 4.024702560919384: 2, 2.124943798034149: 2, 1.251995807746513: 1, 5.290883729186556: 2, 4.141475018067464: 3, 2.4386154123276516: 2, 2.04000161615299: 2, 4.606413250037304: 8, 4.294158501395924: 2, 4.7484465640498765: 2, 2.191691519814066: 1, 4.025260983923358: 1, 4.06343501606024: 1, 5.442493755094016: 1, 1.1446346552598874: 2, 4.608096473748416: 1, 5.225748336372194: 2, 4.603920054374878: 1, 4.9848089853534345: 1, 4.270889343487276: 3, 1.2955233632564283: 1, 4.287192679826075: 2, 4.686892330555248: 2, 2.1739636016130257: 1, 4.94482146909514: 3, 4.650184606330922: 2, 4.554763348937112: 2, 4.259946538908489: 3, 3.9352924914471803: 3, 1.393852268194931: 6, 5.512940608180522: 1, 4.122972584721352: 1, 5.019648697569102: 1, 1.3916462945184582: 2, 4.2826988251073494: 2, 2.6614441310408163: 5, 4.436516151793968: 1, 4.110088456326853: 4, 4.496077459909005: 1, 5.478392728150188: 3, 4.647290103012034: 4, 3.763030381096546: 1, 4.609410095131139: 1, 4.092530483629516: 10, 3.9436088644373757: 1, 3.880491982248027: 1, 4.975004278981958: 7, 3.833787088824837: 1, 2.109097376213659: 1, 3.869992611723286: 5, 4.462149480709108: 1, 5.747825083804977: 2, 4.653054548988556: 1, 4.243939732031799: 3, 3.9589703509452328: 1, 4.3587152075063855: 2, 1.3434628661192898: 3, 4.120188904991709: 2, 4.298369474760439: 2, 4.578561346407395: 1, 5.121848406682077: 6, 5.352581226634045: 1, 4.198275439714993: 3, 5.0526868395970865: 1, 5.471689303181623: 2, 4.899200781157387: 1, 3.9478564438648833: 3, 2.3782652210483755: 1, 1.8043425625736702: 1, 3.953170843664506: 1, 2.0142068786192975: 1, 5.425051856307398: 1, 4.557346193839374: 3, 5.306033868769369: 1, 4.687620408565693: 1, 4.371623411677636: 5, 4.2147153249126825: 6, 5.007702593358998: 1, 4.634419583384912: 3, 1.0658311765686803: 1, 3.777651322414822: 1, 5.487113677543496: 3, 5.029465560409527: 3, 4.807008380182015: 1, 4.938392853479924: 2, 3.994339255999571: 2, 2.6373326172182363: 3, 3.801762836237402: 1, 1.2665408838086332: 1, 1.9779682011626016: 4, 4.611452151190066: 1, 1.9783041187055006: 2, 4.1030372436034535: 1, 2.072332082259875: 1, 4.28773049284294: 1, 4.029223053572805: 2, 1.6010719501521198: 2, 3.8165097861896506: 1, 2.259527720451507: 2, 4.316663149131311: 3, 5.046907459196143: 5, 4.5171672283925055: 1, 2.2668508616917933: 1, 4.113990155753063: 1, 4.423585891439082: 2, 2.010401313862285: 1, 3.8080146273346354: 1, 5.1281505097707125: 1, 2.143063136762497: 1, 4.837503283709898: 1, 5.163768469188492: 1, 3.96014619113175: 1, 4.0205308467480325: 1, 5.397565472872134: 1, 4.064304788462598: 2, 5.2336320427893055: 2, 4.397783696653112: 1, 4.387347213982386: 2, 4.501982393884949: 1, 5.082806432252316: 1, 5.457918129455888: 1, 4.578531874819125: 1, 5.619304743204677: 1, 4.2484602246852186: 1, 2.1191978248785146: 2, 5.483745060092914: 1, 1.2134842133819588: 2, 2.307822154819493: 1, 4.729389061417349: 3, 5.462968353788315: 1, 1.9851938093694657: 1, 4.568817996623: 1, 5.100248331038933: 1, 3.8163837775556777: 1, 3.9252623935585165: 1, 4.655292078266946: 1, 4.20155551469963: 1, 5.4475439794264435: 1, 4.22566702852221: 1, 5.699558176718489: 1, 1.9356547154260646: 1, 1.0398362871602045: 1, 2.1299940223665765: 1, 4.4981247284251324: 1, 5.077756207919888: 2, 5.338900141917858: 1, 4.595535721009175: 1, 1.0839505152970283: 1, 1.9648521569424853: 1, 1.2044506563268262: 1, 4.965767247088746: 2, 2.209810858542414: 1, 4.698506567980406: 1, 4.817219589497701: 2, 1.0537754196573903: 1, 4.066835508532577: 1, 4.704379573163576: 2, 3.918287046091272: 2, 4.15342809491948: 2, 4.419065398785661: 1, 4.478628849627185: 2, 4.037611101413462: 1, 5.553908114450598: 2, 3.9904905984319488: 1, 5.47334250381776: 1, 4.883123971647651: 1, 4.892730864731531: 1, 4.721776128128482: 1, 5.113266225864214: 1, 4.3253063417397195: 1, 5.646712812868351: 1, 4.032586603659322: 1, 5.139167427271485: 1, 3.835507736009938: 2, 4.005060086593647: 1, 2.1961198071891714: 1, 4.733904418903624: 1, 5.1778998824123414: 1, 5.018794602579238: 1, 1.953606095382963: 1, 2.1601691180062144: 1, 1.9659124442513116: 1, 3.9091239887240277: 1, 1.1478033832117647: 1, 1.3576135907382354: 1, 2.410202957120943: 1, 4.468212280413608: 1}\n",
      "../rcv_elections_database/single/Maine_07142020_RepublicanCandidateforUSHouseofRepresentativesDistrict2.csv\n"
     ]
    },
    {
     "name": "stderr",
     "output_type": "stream",
     "text": [
      "/Users/es5891/Documents/GitHub/bugs-in-democracy/rcv_exploration/../rcv_learning/rcv_dimensionality.py:188: RuntimeWarning: divide by zero encountered in divide\n",
      "  distance = 1 / np.sqrt(freq_upper_triangle)\n"
     ]
    },
    {
     "name": "stdout",
     "output_type": "stream",
     "text": [
      "Normalized distances: {'Bennett, Adrienne': 0.0, 'Crafts, Dale John': 0.9822847933913934, 'Brakey, Eric L.': 2.0}\n"
     ]
    },
    {
     "name": "stderr",
     "output_type": "stream",
     "text": [
      "/Users/es5891/Documents/GitHub/bugs-in-democracy/rcv_exploration/../rcv_learning/rcv_dimensionality.py:188: RuntimeWarning: divide by zero encountered in divide\n",
      "  distance = 1 / np.sqrt(freq_upper_triangle)\n"
     ]
    },
    {
     "name": "stdout",
     "output_type": "stream",
     "text": [
      "Consistency points: {0.3772144008260758: 3586, 2.0: 5205, 1.0177152066086068: 9338, 1.1360720041303793: 6504, 0.5: 360, 0.0: 4301, 0.2544288016521517: 789, 1.2632864049564552: 1819}\n",
      "../rcv_elections_database/single/Alaska_11082022_HouseDistrict26.csv\n"
     ]
    },
    {
     "name": "stderr",
     "output_type": "stream",
     "text": [
      "/Users/es5891/Documents/GitHub/bugs-in-democracy/rcv_exploration/../rcv_learning/rcv_dimensionality.py:188: RuntimeWarning: divide by zero encountered in divide\n",
      "  distance = 1 / np.sqrt(freq_upper_triangle)\n"
     ]
    },
    {
     "name": "stdout",
     "output_type": "stream",
     "text": [
      "Normalized distances: {'Stokes, Daniel L.': 0.0, 'Tilton, Cathy L.': 1.0}\n"
     ]
    },
    {
     "name": "stderr",
     "output_type": "stream",
     "text": [
      "/Users/es5891/Documents/GitHub/bugs-in-democracy/rcv_exploration/../rcv_learning/rcv_dimensionality.py:188: RuntimeWarning: divide by zero encountered in divide\n",
      "  distance = 1 / np.sqrt(freq_upper_triangle)\n"
     ]
    },
    {
     "name": "stdout",
     "output_type": "stream",
     "text": [
      "Consistency points: {0.0: 801, 1.0: 4460, 0.25: 436}\n",
      "Error in file: ../rcv_elections_database/single/Alaska_11082022_HouseDistrict26.csv\n",
      "unsupported operand type(s) for -: 'float' and 'NoneType'\n",
      "../rcv_elections_database/single/Alaska_11082022_HouseDistrict32.csv\n"
     ]
    },
    {
     "name": "stderr",
     "output_type": "stream",
     "text": [
      "/Users/es5891/Documents/GitHub/bugs-in-democracy/rcv_exploration/../rcv_learning/rcv_dimensionality.py:188: RuntimeWarning: divide by zero encountered in divide\n",
      "  distance = 1 / np.sqrt(freq_upper_triangle)\n"
     ]
    },
    {
     "name": "stdout",
     "output_type": "stream",
     "text": [
      "Normalized distances: {'Lawrence, Van': 0.0, 'Givens, Timothy W.': 1.3418485440506398, 'Stapp, Will B.': 2.0}\n"
     ]
    },
    {
     "name": "stderr",
     "output_type": "stream",
     "text": [
      "/Users/es5891/Documents/GitHub/bugs-in-democracy/rcv_exploration/../rcv_learning/rcv_dimensionality.py:188: RuntimeWarning: divide by zero encountered in divide\n",
      "  distance = 1 / np.sqrt(freq_upper_triangle)\n"
     ]
    },
    {
     "name": "stdout",
     "output_type": "stream",
     "text": [
      "Consistency points: {2.0: 646, 0.1645378639873402: 640, 0.0: 626, 0.6581514559493608: 143, 0.5: 32, 0.9936135919620206: 2}\n",
      "Error in file: ../rcv_elections_database/single/Alaska_11082022_HouseDistrict32.csv\n",
      "unsupported operand type(s) for -: 'float' and 'NoneType'\n",
      "../rcv_elections_database/single/Berkeley_11062018_CityCouncilDistrict4.csv\n"
     ]
    },
    {
     "name": "stderr",
     "output_type": "stream",
     "text": [
      "/Users/es5891/Documents/GitHub/bugs-in-democracy/rcv_exploration/../rcv_learning/rcv_dimensionality.py:188: RuntimeWarning: divide by zero encountered in divide\n",
      "  distance = 1 / np.sqrt(freq_upper_triangle)\n"
     ]
    },
    {
     "name": "stdout",
     "output_type": "stream",
     "text": [
      "Normalized distances: {'KATE HARRISON': 0.0, 'BEN GOULD': 0.9747682744619379, 'GREGORY MAGOFNA': 2.0}\n"
     ]
    },
    {
     "name": "stderr",
     "output_type": "stream",
     "text": [
      "/Users/es5891/Documents/GitHub/bugs-in-democracy/rcv_exploration/../rcv_learning/rcv_dimensionality.py:188: RuntimeWarning: divide by zero encountered in divide\n",
      "  distance = 1 / np.sqrt(freq_upper_triangle)\n"
     ]
    },
    {
     "name": "stdout",
     "output_type": "stream",
     "text": [
      "Consistency points: {1.2310762058464535: 358, 0.0: 914, 0.3718460343077422: 1049, 0.24369206861548448: 321, 1.1092301715387112: 427, 0.9747682744619379: 271, 2.0: 65, 0.5: 172}\n",
      "../rcv_elections_database/single/NewYorkCity_06222021_DEMCouncilMember32ndCouncilDistrict.csv\n"
     ]
    },
    {
     "name": "stderr",
     "output_type": "stream",
     "text": [
      "/Users/es5891/Documents/GitHub/bugs-in-democracy/rcv_exploration/../rcv_learning/rcv_dimensionality.py:188: RuntimeWarning: divide by zero encountered in divide\n",
      "  distance = 1 / np.sqrt(freq_upper_triangle)\n"
     ]
    },
    {
     "name": "stdout",
     "output_type": "stream",
     "text": [
      "Normalized distances: {'Helal A. Sheikh': 0.0, 'Felicia Singh': 0.7175443077019086, 'Kaled A. Alamarie': 1.5517113336612254, 'Bella A. Matias': 2.558033195119343, 'Michael G. Scala': 3.212805314824239, 'Shaeleigh Severino': 5.0}\n"
     ]
    },
    {
     "name": "stderr",
     "output_type": "stream",
     "text": [
      "/Users/es5891/Documents/GitHub/bugs-in-democracy/rcv_exploration/../rcv_learning/rcv_dimensionality.py:188: RuntimeWarning: divide by zero encountered in divide\n",
      "  distance = 1 / np.sqrt(freq_upper_triangle)\n"
     ]
    },
    {
     "name": "stdout",
     "output_type": "stream",
     "text": [
      "Consistency points: {4.282455692298091: 1217, 1.6935259526242792: 214, 2.6080659801014665: 1904, 3.602507590826608: 56, 2.800014040993462: 78, 0.9572892394959424: 5, 4.271950694563327: 11, 4.461841769223568: 152, 1.922160959493576: 62, 3.0266634081506227: 281, 2.7088438326929314: 2, 3.3758582236694474: 269, 5.0: 488, 3.555469537931109: 6, 2.4740057934807784: 12, 3.2060494850761: 47, 2.3407583875427322: 43, 4.138225551764342: 41, 3.116356446613361: 39, 2.9581852438034115: 3, 2.4304514260054706: 20, 2.131459673518154: 19, 2.9133387245720423: 26, 4.142461617462158: 6, 0.6520164950253666: 14, 3.0618417809596328: 28, 2.7006551606379396: 27, 0.0: 67, 1.0706139230745229: 15, 4.195384303481666: 5, 3.692200629289347: 5, 0.9510082475126833: 1, 2.9533523228570195: 6, 2.750334600815701: 9, 1.0469822779586808: 2, 0.8439645559173619: 2, 2.31712674242689: 1, 3.1805253128679274: 8, 4.190448632685157: 7, 4.219028008543819: 25, 4.2525430551989905: 25, 1.1603069615372614: 6, 3.5025468519116: 3, 4.348517085644988: 13, 2.7903458945711024: 1, 0.8046528672606545: 1, 0.8613152090499447: 5, 3.587054862349024: 2, 2.272280223195521: 2, 2.5201444644682094: 42, 2.1141090203855715: 12, 4.243371318704665: 3, 2.753690351924301: 4, 1.25: 8, 2.6856965375588135: 9, 2.8766831819252405: 2, 2.0181349899395737: 9, 3.506533560380611: 7, 0.7351818830573753: 1, 0.8270761268763391: 2, 2.812769154186787: 5, 3.534132176329515: 2, 2.0972205913445485: 3, 0.4233814881560698: 6, 4.032380179725324: 4, 2.227433703964152: 4, 3.781893667752086: 5, 2.8800412375634163: 4, 3.3599113897934045: 2, 2.5798511655197958: 2, 1.9931936722653627: 2, 1.7104702154155411: 1, 3.3922160569459625: 3, 0.6903353638260061: 1, 1.9024182763075363: 1, 3.9265348076863074: 7, 3.6080424214012705: 1, 4.300530070421989: 2, 2.1196438509602333: 2, 0.7479905254713642: 2, 2.8351924138024716: 1, 0.6140171777083622: 1, 2.0747973317288637: 1, 2.086649644652834: 1, 3.4812094903100066: 1, 4.0895389314426485: 3, 2.33572227142568: 1, 0.7127586234416907: 1, 3.5716021338714397: 1, 1.0021357587273116: 1, 2.0156169318810475: 1}\n",
      "../rcv_elections_database/single/Minneapolis_11052013_PRBoardDistrict6.csv\n"
     ]
    },
    {
     "name": "stderr",
     "output_type": "stream",
     "text": [
      "/Users/es5891/Documents/GitHub/bugs-in-democracy/rcv_exploration/../rcv_learning/rcv_dimensionality.py:188: RuntimeWarning: divide by zero encountered in divide\n",
      "  distance = 1 / np.sqrt(freq_upper_triangle)\n"
     ]
    },
    {
     "name": "stdout",
     "output_type": "stream",
     "text": [
      "Normalized distances: {'JOSH NEIMAN': 0.0, 'BRAD BOURN': 1.0}\n"
     ]
    },
    {
     "name": "stderr",
     "output_type": "stream",
     "text": [
      "/Users/es5891/Documents/GitHub/bugs-in-democracy/rcv_exploration/../rcv_learning/rcv_dimensionality.py:188: RuntimeWarning: divide by zero encountered in divide\n",
      "  distance = 1 / np.sqrt(freq_upper_triangle)\n"
     ]
    },
    {
     "name": "stdout",
     "output_type": "stream",
     "text": [
      "Consistency points: {0.25: 3898, 0.0: 5019, 1.0: 2377}\n",
      "Error in file: ../rcv_elections_database/single/Minneapolis_11052013_PRBoardDistrict6.csv\n",
      "unsupported operand type(s) for -: 'float' and 'NoneType'\n",
      "../rcv_elections_database/single/Minneapolis_11062009_PRBoardDistrict3.csv\n"
     ]
    },
    {
     "name": "stderr",
     "output_type": "stream",
     "text": [
      "/Users/es5891/Documents/GitHub/bugs-in-democracy/rcv_exploration/../rcv_learning/rcv_dimensionality.py:188: RuntimeWarning: divide by zero encountered in divide\n",
      "  distance = 1 / np.sqrt(freq_upper_triangle)\n"
     ]
    },
    {
     "name": "stdout",
     "output_type": "stream",
     "text": [
      "Normalized distances: {'Mike Wendorf': 0.0, 'Scott Vreeland': 1.0}\n"
     ]
    },
    {
     "name": "stderr",
     "output_type": "stream",
     "text": [
      "/Users/es5891/Documents/GitHub/bugs-in-democracy/rcv_exploration/../rcv_learning/rcv_dimensionality.py:188: RuntimeWarning: divide by zero encountered in divide\n",
      "  distance = 1 / np.sqrt(freq_upper_triangle)\n"
     ]
    },
    {
     "name": "stdout",
     "output_type": "stream",
     "text": [
      "Consistency points: {0.25: 477, 1.0: 2712, 0.0: 770}\n",
      "../rcv_elections_database/single/Berkeley_03072017_CityCouncilDistrict4.csv\n"
     ]
    },
    {
     "name": "stderr",
     "output_type": "stream",
     "text": [
      "/Users/es5891/Documents/GitHub/bugs-in-democracy/rcv_exploration/../rcv_learning/rcv_dimensionality.py:188: RuntimeWarning: divide by zero encountered in divide\n",
      "  distance = 1 / np.sqrt(freq_upper_triangle)\n"
     ]
    },
    {
     "name": "stdout",
     "output_type": "stream",
     "text": [
      "Normalized distances: {'BEN GOULD': 0.0, 'KATE HARRISON': 1.0}\n"
     ]
    },
    {
     "name": "stderr",
     "output_type": "stream",
     "text": [
      "/Users/es5891/Documents/GitHub/bugs-in-democracy/rcv_exploration/../rcv_learning/rcv_dimensionality.py:188: RuntimeWarning: divide by zero encountered in divide\n",
      "  distance = 1 / np.sqrt(freq_upper_triangle)\n"
     ]
    },
    {
     "name": "stdout",
     "output_type": "stream",
     "text": [
      "Consistency points: {1.0: 895, 0.25: 430, 0.0: 565}\n",
      "../rcv_elections_database/single/Minneapolis_11062009_PRBoardDistrict2.csv\n"
     ]
    },
    {
     "name": "stderr",
     "output_type": "stream",
     "text": [
      "/Users/es5891/Documents/GitHub/bugs-in-democracy/rcv_exploration/../rcv_learning/rcv_dimensionality.py:188: RuntimeWarning: divide by zero encountered in divide\n",
      "  distance = 1 / np.sqrt(freq_upper_triangle)\n"
     ]
    },
    {
     "name": "stdout",
     "output_type": "stream",
     "text": [
      "Normalized distances: {'Michael Guest': 0.0, 'Jon Olson': 1.0}\n"
     ]
    },
    {
     "name": "stderr",
     "output_type": "stream",
     "text": [
      "/Users/es5891/Documents/GitHub/bugs-in-democracy/rcv_exploration/../rcv_learning/rcv_dimensionality.py:188: RuntimeWarning: divide by zero encountered in divide\n",
      "  distance = 1 / np.sqrt(freq_upper_triangle)\n"
     ]
    },
    {
     "name": "stdout",
     "output_type": "stream",
     "text": [
      "Consistency points: {0.25: 831, 0.0: 1356, 1.0: 1943}\n",
      "../rcv_elections_database/single/Berkeley_11032020_MemberCityCouncilDist3BerkeleyRCV.csv\n"
     ]
    },
    {
     "name": "stderr",
     "output_type": "stream",
     "text": [
      "/Users/es5891/Documents/GitHub/bugs-in-democracy/rcv_exploration/../rcv_learning/rcv_dimensionality.py:188: RuntimeWarning: divide by zero encountered in divide\n",
      "  distance = 1 / np.sqrt(freq_upper_triangle)\n"
     ]
    },
    {
     "name": "stdout",
     "output_type": "stream",
     "text": [
      "Normalized distances: {'ORLANDO MARTINEZ': 0.0, 'DEBORAH MATTHEWS': 1.183551671646351, 'BEN BARTLETT': 2.0}\n"
     ]
    },
    {
     "name": "stderr",
     "output_type": "stream",
     "text": [
      "/Users/es5891/Documents/GitHub/bugs-in-democracy/rcv_exploration/../rcv_learning/rcv_dimensionality.py:188: RuntimeWarning: divide by zero encountered in divide\n",
      "  distance = 1 / np.sqrt(freq_upper_triangle)\n"
     ]
    },
    {
     "name": "stdout",
     "output_type": "stream",
     "text": [
      "Consistency points: {1.1835516716463512: 510, 2.0: 2488, 1.2397197947789695: 578, 0.39794395895579393: 160, 1.3876637537347634: 376, 0.5: 16, 0.0: 133, 0.2958879179115878: 52}\n",
      "../rcv_elections_database/single/Oakland_11032020_MemberCityCouncilDist1OaklandRCV.csv\n"
     ]
    },
    {
     "name": "stderr",
     "output_type": "stream",
     "text": [
      "/Users/es5891/Documents/GitHub/bugs-in-democracy/rcv_exploration/../rcv_learning/rcv_dimensionality.py:188: RuntimeWarning: divide by zero encountered in divide\n",
      "  distance = 1 / np.sqrt(freq_upper_triangle)\n"
     ]
    },
    {
     "name": "stdout",
     "output_type": "stream",
     "text": [
      "Normalized distances: {'DAN KALB': 0.0, 'STEPH DOMINGUEZ WALTON': 1.004162021756115, 'TRI NGO': 2.0}\n"
     ]
    },
    {
     "name": "stderr",
     "output_type": "stream",
     "text": [
      "/Users/es5891/Documents/GitHub/bugs-in-democracy/rcv_exploration/../rcv_learning/rcv_dimensionality.py:188: RuntimeWarning: divide by zero encountered in divide\n",
      "  distance = 1 / np.sqrt(freq_upper_triangle)\n"
     ]
    },
    {
     "name": "stdout",
     "output_type": "stream",
     "text": [
      "Consistency points: {1.0041620217561142: 1970, 0.0: 7022, 0.3755202527195143: 5834, 0.5: 1717, 0.25104050543902856: 1837, 1.1276012635975714: 3626, 2.0: 854, 1.2531215163170857: 1051}\n",
      "../rcv_elections_database/single/SanFrancisco_11082022_PublicDefender.csv\n"
     ]
    },
    {
     "name": "stderr",
     "output_type": "stream",
     "text": [
      "/Users/es5891/Documents/GitHub/bugs-in-democracy/rcv_exploration/../rcv_learning/rcv_dimensionality.py:188: RuntimeWarning: divide by zero encountered in divide\n",
      "  distance = 1 / np.sqrt(freq_upper_triangle)\n"
     ]
    },
    {
     "name": "stdout",
     "output_type": "stream",
     "text": [
      "Normalized distances: {'REBECCA SUSAN FENG YOUNG': 0.0, 'MANO RAJU': 1.0}\n"
     ]
    },
    {
     "name": "stderr",
     "output_type": "stream",
     "text": [
      "/Users/es5891/Documents/GitHub/bugs-in-democracy/rcv_exploration/../rcv_learning/rcv_dimensionality.py:188: RuntimeWarning: divide by zero encountered in divide\n",
      "  distance = 1 / np.sqrt(freq_upper_triangle)\n"
     ]
    },
    {
     "name": "stdout",
     "output_type": "stream",
     "text": [
      "Consistency points: {0.0: 110757, 0.25: 72640, 1.0: 28109}\n",
      "Error in file: ../rcv_elections_database/single/SanFrancisco_11082022_PublicDefender.csv\n",
      "unsupported operand type(s) for -: 'float' and 'NoneType'\n",
      "../rcv_elections_database/single/NewYorkCity_06222021_DEMCouncilMember30thCouncilDistrict.csv\n"
     ]
    },
    {
     "name": "stderr",
     "output_type": "stream",
     "text": [
      "/Users/es5891/Documents/GitHub/bugs-in-democracy/rcv_exploration/../rcv_learning/rcv_dimensionality.py:188: RuntimeWarning: divide by zero encountered in divide\n",
      "  distance = 1 / np.sqrt(freq_upper_triangle)\n"
     ]
    },
    {
     "name": "stdout",
     "output_type": "stream",
     "text": [
      "Normalized distances: {'Juan D. Ardila': 0.0, 'Robert F. Holden': 1.0}\n"
     ]
    },
    {
     "name": "stderr",
     "output_type": "stream",
     "text": [
      "/Users/es5891/Documents/GitHub/bugs-in-democracy/rcv_exploration/../rcv_learning/rcv_dimensionality.py:188: RuntimeWarning: divide by zero encountered in divide\n",
      "  distance = 1 / np.sqrt(freq_upper_triangle)\n"
     ]
    },
    {
     "name": "stdout",
     "output_type": "stream",
     "text": [
      "Consistency points: {1.0: 3620, 0.0: 2958, 0.25: 1373}\n",
      "../rcv_elections_database/single/NewYorkCity_06222021_DEMCouncilMember49thCouncilDistrict.csv\n"
     ]
    },
    {
     "name": "stderr",
     "output_type": "stream",
     "text": [
      "/Users/es5891/Documents/GitHub/bugs-in-democracy/rcv_exploration/../rcv_learning/rcv_dimensionality.py:188: RuntimeWarning: divide by zero encountered in divide\n",
      "  distance = 1 / np.sqrt(freq_upper_triangle)\n"
     ]
    },
    {
     "name": "stdout",
     "output_type": "stream",
     "text": [
      "Normalized distances: {'Troy McGhie': 0.0, 'Amoy Barnes': 1.754896002153177, 'Ranti Ogunleye': 2.3067528484206608, 'Kelvin Richards': 2.867803288508735, 'David Hernandez': 3.1271486596516223, 'Selina Grey': 3.875652977942084, 'Kamillah Hanks': 4.120743593472549, 'John F. McBeth Sr.': 5.806679158550323, 'Michael P. Schnall': 8.0}\n"
     ]
    },
    {
     "name": "stderr",
     "output_type": "stream",
     "text": [
      "/Users/es5891/Documents/GitHub/bugs-in-democracy/rcv_exploration/../rcv_learning/rcv_dimensionality.py:188: RuntimeWarning: divide by zero encountered in divide\n",
      "  distance = 1 / np.sqrt(freq_upper_triangle)\n"
     ]
    },
    {
     "name": "stdout",
     "output_type": "stream",
     "text": [
      "Consistency points: {2.4597167122409775: 323, 5.0203100829254925: 471, 4.135794728291823: 941, 4.456788951307849: 272, 4.665781733424307: 19, 3.0998650549121063: 16, 0.0: 244, 3.752332289651738: 469, 8.0: 222, 4.848612840374848: 6, 4.425036066162288: 69, 5.2927600797736805: 403, 7.022620627109283: 113, 4.977858162808331: 24, 4.356923566950241: 98, 2.9188604941306924: 13, 4.6317254838182835: 6, 4.1188027762621156: 4, 4.390979816556264: 25, 2.829281612769254: 1, 5.5806045476723485: 4, 5.0884225821375395: 60, 2.958984772007695: 26, 4.168110479215819: 17, 3.848197899311759: 63, 4.470897636066315: 3, 4.2160432840458295: 116, 4.286483425498035: 23, 1.1141972378269622: 13, 1.2550775207313731: 22, 3.844787534180733: 7, 4.069326737970177: 26, 2.7828706065936677: 19, 3.80753370360059: 1, 3.0166527693625382: 2, 4.54730270567069: 3, 0.6149291780602444: 19, 3.9077497907938317: 2, 5.098246870258207: 9, 3.888322177188763: 8, 4.609793151864371: 2, 4.587778881187617: 3, 2.9893006355828975: 2, 3.9758622900058787: 1, 5.0910356116554105: 2, 4.1033829875762: 6, 4.857501202996188: 18, 3.6004426909580536: 5, 5.101846046218867: 46, 4.639720992150146: 4, 4.147413814943885: 8, 1.0339486820729558: 50, 5.220419291869547: 4, 4.588072985411203: 2, 3.1679775541241533: 8, 3.13392130451813: 2, 4.92992535797832: 25, 1.1445131014021643: 10, 3.0294249134599007: 6, 0.9350033493958088: 1, 5.643060140582779: 4, 1.1785693510081878: 9, 2.8787362162536887: 38, 4.59766923421226: 41, 4.345207681032337: 1, 4.348035204328901: 2, 4.509612151505246: 4, 4.137439237182224: 40, 5.016463964899069: 3, 4.259683059166527: 1, 4.032942846123995: 1, 3.858530059392363: 1, 4.215526314155932: 4, 1.1852921674187824: 4, 4.587696942464777: 2, 5.76523256219412: 20, 2.651520182977573: 2, 4.953891760393326: 6, 4.7023548453849076: 3, 2.5712716272235667: 2, 3.9284464550657656: 14, 0.8621111043681531: 1, 1.0261401551199483: 1, 5.3425917134808865: 5, 4.240420813683435: 2, 1.2998390411923224: 1, 0.8244389300666001: 4, 4.603464992384517: 1, 1.7556551567773206: 8, 0.9380830724129345: 10, 3.9080617251258096: 7, 3.1403111846739513: 2, 5.52088771897144: 8, 4.913497523599239: 2, 1.3268099130936661: 1, 4.489417380796321: 2, 4.006533532039474: 6, 3.47232629454642: 1, 1.074072959949959: 7, 1.66159500997171: 3, 1.1306365461781773: 3, 1.161541226205176: 3, 4.954579030619132: 1, 1.1212339692129656: 2, 2.0: 16, 1.516974341036478: 9, 3.8399492259137626: 11, 4.814249217238803: 10, 1.3231900199434201: 8, 5.30797504985855: 2, 0.7765061252365895: 1, 4.694394399371443: 2, 5.137693801828433: 4, 1.3307437212193212: 3, 4.34052686195971: 2, 2.9625946272583006: 3, 4.644303899191881: 2, 5.969570059830261: 9, 4.9979203017468325: 3, 3.0471958747653733: 2, 4.24132345910728: 1, 2.830803411423678: 4, 2.894242542402276: 2, 2.8772144175992644: 1, 2.9294626131283787: 1, 4.208078420368527: 2, 4.8933489586057535: 4, 4.174267965041928: 2, 4.2319067512819295: 4, 4.613760793789046: 1, 4.5848717051823895: 6, 3.6866209521354145: 4, 4.369852515505619: 1, 4.6186160908140375: 6, 4.569904374016124: 7, 4.990885770371646: 1, 5.017982440685334: 8, 4.42258569230599: 1, 4.465902344094919: 5, 6.858179428149769: 1, 4.577724650717293: 3, 4.945542863745244: 1, 4.9739538993318275: 1, 4.132492646038025: 2, 3.8412319756722684: 1, 4.768632235857718: 1, 4.382781464060999: 1, 3.8062818638632487: 1, 5.532671742842338: 4, 3.9353962066498935: 1, 5.725225216607581: 4, 3.7306675563430596: 1, 4.475844227210514: 3, 3.9235422479148654: 2, 2.9754240803589105: 2, 4.1775353149656915: 3, 4.9796736246075275: 1, 4.576512183278537: 1, 5.047007070301904: 6, 4.933559662537741: 3, 1.2891337703373966: 3, 4.504953885672339: 1, 1.0236880515444982: 1, 1.1846373792791676: 5, 1.6275387603656866: 3, 7.050732901915012: 1, 4.027996254979796: 1, 3.900176135923791: 1, 1.0554707930840277: 2, 4.319615555993151: 1, 4.975051224155916: 2, 5.055069766989807: 1, 4.286224940553086: 1, 1.0965802965721538: 1, 4.215784799100881: 1, 4.223392688880423: 1, 3.932056310316371: 1, 1.286685635216663: 1, 4.209358793295555: 3, 2.868475585725231: 1, 4.1985968483608564: 1, 4.519960486199156: 1, 4.641268634579237: 1, 4.251134112299458: 2, 3.940570372717877: 2, 3.6486091801634073: 2, 0.9860158772429451: 3, 2.876989648126737: 1, 3.998886596517971: 2, 4.327795558378574: 1, 5.116155977795477: 2, 4.1111772284243155: 3, 5.063630206635871: 2, 4.055968638638981: 1, 4.435359238692083: 1, 5.060492506252576: 1, 4.731062842048505: 1, 4.050837738878182: 1, 4.406981355293967: 1, 4.560182311570409: 2, 5.036526103837571: 1, 0.8381447019531477: 1, 4.98593710053933: 2, 4.986280735652233: 2, 7.266965470331962: 2, 3.063481163065924: 2, 2.8709276893006814: 1, 5.133545677222653: 1, 4.13891865184335: 2, 3.8831480111207792: 1, 4.188043375681846: 1, 4.421260006342871: 1, 4.847108146090563: 1, 1.1344133968161279: 1, 3.031292169038271: 1, 3.766869507889421: 3, 2.954080564856795: 2, 4.358383539022811: 1, 1.1092930306760618: 1, 4.721186454089288: 1, 5.4451583908585555: 4, 6.873667691444218: 1, 4.698422287736406: 1, 3.8986543372693663: 1, 3.6683977009757562: 1, 1.2461424737122486: 1, 6.764885446513158: 1, 2.7924004658819843: 1, 5.0631083068629295: 1, 4.416147703540948: 1, 6.936076198915058: 1, 2.7605875122428145: 1, 3.1755312554000543: 1, 4.663851293968609: 1, 4.509005917785868: 1, 5.0670692092404055: 1, 1.3948019194251382: 2, 0.9552264142767314: 3, 4.946117881728396: 1, 3.773753589174894: 1, 0.8645632079436033: 1, 2.8355683410678365: 1, 1.0354086541455263: 1, 4.108683114510826: 1, 0.9246833088738965: 1, 3.6392458074128706: 1, 3.0828827212933327: 1, 1.0060780161814469: 1, 5.070063530918108: 1, 3.2797137314828744: 1, 1.5570986189134812: 1, 4.43093872631129: 2, 3.2395894536058716: 1, 4.499096100764739: 1, 3.0427584434163295: 1, 2.8860856210882826: 1, 3.9755204845268968: 1, 6.6476250624615405: 1, 3.3842101225411034: 1, 3.891013973226511: 1, 1.8778275783886604: 2, 1.5053663387543468: 1, 1.2955236504932184: 1, 4.722388690151411: 1, 0.8967492645342161: 1, 1.0498121493090553: 1, 1.4349261973021414: 1, 4.100862837809657: 1, 4.285964893386167: 1, 4.5505035916019905: 1}\n",
      "../rcv_elections_database/single/SanFrancisco_11082016_BoardofSupervisorsDistrict3.csv\n"
     ]
    },
    {
     "name": "stderr",
     "output_type": "stream",
     "text": [
      "/Users/es5891/Documents/GitHub/bugs-in-democracy/rcv_exploration/../rcv_learning/rcv_dimensionality.py:188: RuntimeWarning: divide by zero encountered in divide\n",
      "  distance = 1 / np.sqrt(freq_upper_triangle)\n"
     ]
    },
    {
     "name": "stdout",
     "output_type": "stream",
     "text": [
      "Normalized distances: {'AARON PESKIN': 0.0, 'TIM E. DONNELLY': 1.0}\n"
     ]
    },
    {
     "name": "stderr",
     "output_type": "stream",
     "text": [
      "/Users/es5891/Documents/GitHub/bugs-in-democracy/rcv_exploration/../rcv_learning/rcv_dimensionality.py:188: RuntimeWarning: divide by zero encountered in divide\n",
      "  distance = 1 / np.sqrt(freq_upper_triangle)\n"
     ]
    },
    {
     "name": "stdout",
     "output_type": "stream",
     "text": [
      "Consistency points: {0.0: 11752, 0.25: 7467, 1.0: 4146}\n",
      "Error in file: ../rcv_elections_database/single/SanFrancisco_11082016_BoardofSupervisorsDistrict3.csv\n",
      "unsupported operand type(s) for -: 'float' and 'NoneType'\n",
      "../rcv_elections_database/single/Alaska_11082022_HouseDistrict33.csv\n",
      "Error in file: ../rcv_elections_database/single/Alaska_11082022_HouseDistrict33.csv\n",
      "zero-size array to reduction operation minimum which has no identity\n",
      "../rcv_elections_database/single/Alaska_11082022_HouseDistrict27.csv\n"
     ]
    },
    {
     "name": "stderr",
     "output_type": "stream",
     "text": [
      "/Users/es5891/Documents/GitHub/bugs-in-democracy/rcv_exploration/../rcv_learning/rcv_dimensionality.py:188: RuntimeWarning: divide by zero encountered in divide\n",
      "  distance = 1 / np.sqrt(freq_upper_triangle)\n"
     ]
    },
    {
     "name": "stdout",
     "output_type": "stream",
     "text": [
      "Normalized distances: {'Eastman, David': 0.0, 'Carpenter, Brendan R.': 1.0485408672067291, 'Graham, Stuart R. \"Stu\"': 2.0}\n"
     ]
    },
    {
     "name": "stderr",
     "output_type": "stream",
     "text": [
      "/Users/es5891/Documents/GitHub/bugs-in-democracy/rcv_exploration/../rcv_learning/rcv_dimensionality.py:188: RuntimeWarning: divide by zero encountered in divide\n",
      "  distance = 1 / np.sqrt(freq_upper_triangle)\n"
     ]
    },
    {
     "name": "stdout",
     "output_type": "stream",
     "text": [
      "Consistency points: {0.5: 133, 0.38106760840084114: 700, 2.0: 619, 0.0: 1441, 1.1553380420042056: 263, 1.0485408672067291: 434, 1.286405650405047: 157, 0.2621352168016823: 203}\n",
      "../rcv_elections_database/single/Burlington_03072006_Mayor.csv\n"
     ]
    },
    {
     "name": "stderr",
     "output_type": "stream",
     "text": [
      "/Users/es5891/Documents/GitHub/bugs-in-democracy/rcv_exploration/../rcv_learning/rcv_dimensionality.py:188: RuntimeWarning: divide by zero encountered in divide\n",
      "  distance = 1 / np.sqrt(freq_upper_triangle)\n"
     ]
    },
    {
     "name": "stdout",
     "output_type": "stream",
     "text": [
      "Normalized distances: {'Louie the Cowman Beaudin': 0.0, 'Loyal Ploof': 1.074634418438936, 'Kevin Curley': 2.4935688123474087, 'Bob Kiss': 3.3001344309129195, 'Hinda Miller': 4.0}\n"
     ]
    },
    {
     "name": "stderr",
     "output_type": "stream",
     "text": [
      "/Users/es5891/Documents/GitHub/bugs-in-democracy/rcv_exploration/../rcv_learning/rcv_dimensionality.py:188: RuntimeWarning: divide by zero encountered in divide\n",
      "  distance = 1 / np.sqrt(freq_upper_triangle)\n"
     ]
    },
    {
     "name": "stdout",
     "output_type": "stream",
     "text": [
      "Consistency points: {3.1969133216254413: 86, 3.475100823184689: 1142, 3.0625840193205742: 77, 3.3742801208640003: 254, 4.0: 551, 3.300134430912919: 495, 2.4935688123474082: 802, 2.517843417750227: 20, 2.4506787665977936: 7, 2.870176609260556: 302, 2.782693413124671: 126, 3.285596721244721: 8, 1.6310094215574316: 2, 2.6940100135053915: 13, 3.252014395668504: 110, 2.38351411544536: 30, 2.695210216988786: 223, 0.6233922030868521: 10, 1.4293680169160539: 6, 0.0: 33, 1.805975813829202: 3, 2.660427687929175: 58, 2.626845362352958: 11, 3.129748670473008: 29, 2.55848050771713: 21, 0.7242129054075409: 2, 1.0746344184389358: 5, 0.8250336077282298: 7, 2.5340713415926572: 19, 1.7184926176933166: 2, 2.6256451588695637: 6, 2.692809810021997: 19, 1.0: 2, 0.7679545034754834: 2, 0.49643575500863746: 1, 1.456003264424782: 1, 0.9125168038641149: 2, 0.26865860460973395: 1}\n",
      "../rcv_elections_database/single/Minneapolis_11072017_Ward7CityCouncil.csv\n"
     ]
    },
    {
     "name": "stderr",
     "output_type": "stream",
     "text": [
      "/Users/es5891/Documents/GitHub/bugs-in-democracy/rcv_exploration/../rcv_learning/rcv_dimensionality.py:188: RuntimeWarning: divide by zero encountered in divide\n",
      "  distance = 1 / np.sqrt(freq_upper_triangle)\n"
     ]
    },
    {
     "name": "stdout",
     "output_type": "stream",
     "text": [
      "Normalized distances: {'Joe Kovacs': 0.0, 'Janne Flisrand': 1.6782756023422918, 'Lisa Goodman': 2.03836034569643, 'Teqen Zéa-Aida': 3.0}\n"
     ]
    },
    {
     "name": "stderr",
     "output_type": "stream",
     "text": [
      "/Users/es5891/Documents/GitHub/bugs-in-democracy/rcv_exploration/../rcv_learning/rcv_dimensionality.py:188: RuntimeWarning: divide by zero encountered in divide\n",
      "  distance = 1 / np.sqrt(freq_upper_triangle)\n"
     ]
    },
    {
     "name": "stdout",
     "output_type": "stream",
     "text": [
      "Consistency points: {1.0516608401421033: 613, 1.3217243976577076: 530, 0.9616396543035686: 1938, 3.0: 250, 0.2854205064951595: 238, 0.9314558833541573: 1003, 0.3304310994144269: 138, 0.24040991357589214: 56, 0.5402155497072134: 39, 0.0: 135, 1.4712297407276764: 223, 1.576077748536067: 44, 1.7412932982432807: 30, 0.75: 6}\n",
      "../rcv_elections_database/single/SanFrancisco_11052019_Treasurer.csv\n",
      "Error in file: ../rcv_elections_database/single/SanFrancisco_11052019_Treasurer.csv\n",
      "zero-size array to reduction operation minimum which has no identity\n",
      "../rcv_elections_database/single/SanFrancisco_11022010_BoardofSupervisorsDistrict2.csv\n"
     ]
    },
    {
     "name": "stderr",
     "output_type": "stream",
     "text": [
      "/Users/es5891/Documents/GitHub/bugs-in-democracy/rcv_exploration/../rcv_learning/rcv_dimensionality.py:188: RuntimeWarning: divide by zero encountered in divide\n",
      "  distance = 1 / np.sqrt(freq_upper_triangle)\n"
     ]
    },
    {
     "name": "stdout",
     "output_type": "stream",
     "text": [
      "Normalized distances: {'VILMA B. GUINTO PEORO': 0.0, 'MARK FARRELL': 2.731782762225261, 'JANET REILLY': 2.8472274902317, 'KAT ANDERSON': 3.378922450230169, 'ABRAHAM SIMMONS': 3.425393415869848, 'BARBARA BERWICK': 5.0}\n"
     ]
    },
    {
     "name": "stderr",
     "output_type": "stream",
     "text": [
      "/Users/es5891/Documents/GitHub/bugs-in-democracy/rcv_exploration/../rcv_learning/rcv_dimensionality.py:188: RuntimeWarning: divide by zero encountered in divide\n",
      "  distance = 1 / np.sqrt(freq_upper_triangle)\n"
     ]
    },
    {
     "name": "stdout",
     "output_type": "stream",
     "text": [
      "Consistency points: {1.6210775497698307: 374, 2.1527725097683: 4929, 2.2682172377747385: 3579, 0.9085271547218423: 34, 1.5511834245250296: 78, 0.40526938744245766: 11, 1.5746065841301518: 458, 2.1093629510651413: 498, 1.7480092475412985: 157, 2.1816336917699095: 884, 5.0: 41, 2.951162928331054: 20, 1.5802277780498288: 91, 0.0: 101, 2.115171821770101: 521, 1.719148065539689: 174, 0.46592238673730646: 13, 1.7335786565404936: 136, 1.7828624717710575: 142, 1.5513665960482192: 51, 1.7540012897694481: 92, 0.47173125744226635: 23, 2.6676357736092116: 59, 2.5954828186051877: 55, 0.5526237184428798: 25, 1.5862243255400714: 62, 0.39365164603253794: 18, 0.5670543094436846: 39, 1.25: 6, 1.7684318807702528: 90, 0.538193127442075: 15, 1.52232224252342: 62, 0.48035297773811125: 17, 2.4309549380976136: 5, 0.39946051673749783: 14, 2.864579382326225: 14, 0.8940965637210375: 7, 0.48616184844307114: 19, 2.465808162327373: 1}\n",
      "../rcv_elections_database/single/Oakland_11042014_SchoolDirectorDistrict6.csv\n"
     ]
    },
    {
     "name": "stderr",
     "output_type": "stream",
     "text": [
      "/Users/es5891/Documents/GitHub/bugs-in-democracy/rcv_exploration/../rcv_learning/rcv_dimensionality.py:188: RuntimeWarning: divide by zero encountered in divide\n",
      "  distance = 1 / np.sqrt(freq_upper_triangle)\n"
     ]
    },
    {
     "name": "stdout",
     "output_type": "stream",
     "text": [
      "Normalized distances: {'RENATO ALMANZOR': 0.0, 'SHANTHI GONZALES': 1.0}\n"
     ]
    },
    {
     "name": "stderr",
     "output_type": "stream",
     "text": [
      "/Users/es5891/Documents/GitHub/bugs-in-democracy/rcv_exploration/../rcv_learning/rcv_dimensionality.py:188: RuntimeWarning: divide by zero encountered in divide\n",
      "  distance = 1 / np.sqrt(freq_upper_triangle)\n"
     ]
    },
    {
     "name": "stdout",
     "output_type": "stream",
     "text": [
      "Consistency points: {0.0: 3059, 0.25: 3022, 1.0: 1968}\n",
      "Error in file: ../rcv_elections_database/single/Oakland_11042014_SchoolDirectorDistrict6.csv\n",
      "unsupported operand type(s) for -: 'float' and 'NoneType'\n",
      "../rcv_elections_database/single/SanFrancisco_11082022_BoardofSupervisorsD8.csv\n"
     ]
    },
    {
     "name": "stderr",
     "output_type": "stream",
     "text": [
      "/Users/es5891/Documents/GitHub/bugs-in-democracy/rcv_exploration/../rcv_learning/rcv_dimensionality.py:188: RuntimeWarning: divide by zero encountered in divide\n",
      "  distance = 1 / np.sqrt(freq_upper_triangle)\n"
     ]
    },
    {
     "name": "stdout",
     "output_type": "stream",
     "text": [
      "Normalized distances: {'RAFAEL MANDELMAN': 0.0, 'KATE STOIA': 1.0}\n"
     ]
    },
    {
     "name": "stderr",
     "output_type": "stream",
     "text": [
      "/Users/es5891/Documents/GitHub/bugs-in-democracy/rcv_exploration/../rcv_learning/rcv_dimensionality.py:188: RuntimeWarning: divide by zero encountered in divide\n",
      "  distance = 1 / np.sqrt(freq_upper_triangle)\n"
     ]
    },
    {
     "name": "stdout",
     "output_type": "stream",
     "text": [
      "Consistency points: {0.0: 17576, 0.25: 9821, 1.0: 3662}\n",
      "Error in file: ../rcv_elections_database/single/SanFrancisco_11082022_BoardofSupervisorsD8.csv\n",
      "unsupported operand type(s) for -: 'float' and 'NoneType'\n",
      "../rcv_elections_database/single/NewYorkCity_06222021_DEMCouncilMember29thCouncilDistrict.csv\n"
     ]
    },
    {
     "name": "stderr",
     "output_type": "stream",
     "text": [
      "/Users/es5891/Documents/GitHub/bugs-in-democracy/rcv_exploration/../rcv_learning/rcv_dimensionality.py:188: RuntimeWarning: divide by zero encountered in divide\n",
      "  distance = 1 / np.sqrt(freq_upper_triangle)\n"
     ]
    },
    {
     "name": "stdout",
     "output_type": "stream",
     "text": [
      "Normalized distances: {'Avi Cyperstein': 0.0, 'David Aronov': 1.7269724274234568, 'Aleda F. Gagarin': 2.5943867518482615, 'Lynn C. Schulman': 3.5488887476439794, 'Sheryl Ann Fetik': 3.9988053997279547, 'Donghui Zang': 5.31095473767899, 'Douglas J. Shapiro': 6.343736540963221, 'Eliseo Dorion Labayen': 7.744691879034164, 'Edwin K. Wong': 8.0}\n"
     ]
    },
    {
     "name": "stderr",
     "output_type": "stream",
     "text": [
      "/Users/es5891/Documents/GitHub/bugs-in-democracy/rcv_exploration/../rcv_learning/rcv_dimensionality.py:188: RuntimeWarning: divide by zero encountered in divide\n",
      "  distance = 1 / np.sqrt(freq_upper_triangle)\n"
     ]
    },
    {
     "name": "stdout",
     "output_type": "stream",
     "text": [
      "Consistency points: {8.0: 451, 5.8166245941234855: 5, 6.325141559676666: 732, 0.43109671688653683: 250, 4.558204301137596: 1113, 5.483902765443146: 714, 5.064426046654265: 10, 6.7438561697575: 124, 4.430163078130164: 13, 4.293548953656376: 12, 4.1613562513545785: 1, 4.922573262295589: 3, 4.999938615772363: 110, 0.7783707314430395: 10, 4.789628917213983: 179, 3.113482925772158: 287, 3.614228144801935: 1, 5.6942124640015255: 56, 5.4186532258531965: 57, 1.8131491358683363: 23, 6.5229890124401155: 10, 2.0234588344267164: 10, 3.7060878856899047: 17, 1.6974368278301428: 4, 2.4328412259440095: 29, 5.427439228401966: 4, 1.1415350677626548: 1, 5.034460675030584: 6, 3.931264783636777: 2, 0.0: 345, 0.8431800501045648: 2, 4.230949495175331: 32, 3.8002090794511094: 9, 4.819348443851684: 37, 1.7243868675461473: 249, 6.468446544779738: 5, 3.4746632696135173: 73, 0.5895645926767333: 128, 0.7853238960854678: 46, 1.8025916771093327: 4, 1.472639584471194: 5, 4.5222202416541775: 3, 4.6090387452933035: 27, 4.231047904544099: 1, 5.578500155963332: 24, 3.4201208019531397: 3, 2.5485535339822034: 7, 4.92440815199168: 2, 4.875442428123979: 1, 6.495717778609927: 3, 0.6047337241647881: 18, 4.826178689843104: 1, 6.3423988405194365: 20, 3.301026262335266: 5, 1.5812853899191666: 18, 3.695530426930901: 21, 4.335112194329119: 24, 0.6813931932100337: 5, 5.091398419890932: 11, 6.112927074082359: 28, 4.645711436573432: 13, 1.5697755376421996: 7, 1.2205441759505895: 11, 5.20929592081278: 25, 1.139551075284399: 29, 4.121864559854576: 80, 6.147806157658676: 3, 5.397909984042652: 13, 6.2555803368803105: 1, 1.3604182326017829: 8, 4.503858652214755: 4, 5.661680613133417: 2, 3.7476316548115145: 2, 5.712009277242943: 1, 0.8025849257145781: 2, 0.8315130027241264: 1, 5.4447958181834295: 4, 4.567528960530908: 3, 0.7580526622552792: 2, 0.695028810125128: 1, 3.0854779038919977: 6, 5.4882050700029925: 3, 1.2552633833225926: 1, 2.664265842020397: 14, 0.9888314091930348: 1, 1.3601801342222917: 1, 3.527212218526765: 4, 5.240165088224188: 2, 5.203317301181893: 4, 4.840086055802008: 3, 3.2932901506596104: 10, 6.326550244740355: 3, 5.224272976764401: 14, 2.3237562906232543: 11, 1.581724519791949: 28, 4.435401738015052: 12, 1.8313588102290699: 5, 2.41687324988314: 1, 1.6428943601697652: 3, 5.5720611946658964: 1, 4.125754889288702: 5, 4.294945929664014: 2, 2.07166088210265: 14, 4.700130985582802: 1, 2.0: 19, 1.4761305406399765: 5, 4.672683809810098: 5, 5.903569769041942: 9, 4.4144460624325434: 4, 2.2522510540233296: 6, 3.050088542655834: 1, 3.5358331099913336: 3, 6.168761833241184: 8, 4.05491522049153: 2, 0.7366099825393796: 3, 4.882041114850515: 5, 3.806201497720251: 1, 2.1173709795977413: 1, 0.14739114816918333: 15, 0.28924393252786007: 6, 2.86306568830181: 2, 3.3655783342927625: 11, 2.232816139467133: 2, 4.945903880230851: 1, 5.735756233123135: 3, 3.916397584248285: 33, 4.717670176893708: 4, 2.44217344450755: 5, 6.335397585049396: 3, 1.3709756913607865: 21, 1.4011343478712692: 5, 4.9120447961222835: 4, 1.5168466559094629: 4, 2.6537083832613932: 8, 6.026909048882509: 5, 1.030466139963644: 13, 3.600907792611357: 3, 0.8578017150439241: 2, 4.068348627601109: 3, 5.082420192405724: 8, 4.048167894109274: 3, 5.5352134076236: 6, 1.7906426949595833: 9, 3.2116759766347798: 1, 2.3679633620615235: 2, 5.311091480403527: 1, 1.1217338082825152: 1, 3.6536414026397614: 1, 1.8561125236593816: 4, 0.7869807392648277: 3, 2.5991659156010156: 1, 4.848877688210997: 4, 4.824150976472204: 2, 4.577028439541445: 4, 4.894783766493173: 26, 5.551228922133143: 1, 1.074673211401913: 3, 6.432693926479776: 6, 4.857018534602831: 1, 0.6677575762949393: 1, 3.5903755776517112: 6, 4.3460514523145655: 1, 2.0119489821497494: 2, 4.2567011666140795: 1, 1.9183039851475265: 5, 4.336326406991416: 2, 4.927027481934124: 1, 1.3891853657215196: 2, 1.621763406809162: 1, 4.892016790620034: 1, 4.950198680732506: 2, 2.769420691299587: 2, 4.1900291787643145: 2, 3.5009377440701415: 1, 4.462374111251718: 11, 3.653497839150631: 1, 4.219853379571783: 10, 2.874575540578777: 9, 1.9574065144893718: 1, 2.7058096111420067: 1, 0.7307814284250904: 7, 4.4512938494748395: 2, 3.947141041269896: 4, 5.953213474797916: 9, 0.8732701613940869: 6, 1.0024670261081292: 1, 3.642953002291306: 1, 6.389284674660213: 1, 3.3905980940529767: 2, 3.316902519968385: 2, 4.1049017909150285: 6, 4.3644753458357135: 1, 5.694342894394691: 1, 5.501134802486558: 2, 0.7239568871346764: 3, 4.020836615354487: 1, 4.64674378471437: 3, 5.116498797542767: 1, 5.523957688302954: 3, 4.956651867432631: 1, 5.658122187632126: 1, 0.9589609033637192: 3, 3.9159213874893033: 1, 2.415023958942126: 1, 1.5850382061506685: 1, 0.7502455994544739: 4, 1.6854878456803932: 1, 0.8054623887838199: 4, 0.8132694515846252: 2, 1.748049209448955: 1, 3.1591734779765894: 2, 0.7791736764640222: 1, 4.81925330271249: 1, 5.5976736332440415: 1, 4.537937257351798: 2, 6.291988333229833: 2, 0.710321270219582: 1, 1.0431057697026136: 1, 3.811242734969095: 2, 2.336395920362224: 1, 3.4150795647042957: 1, 5.6404558047838735: 2, 4.718379783341783: 1, 6.06098765401955: 5, 2.0195904963437528: 1, 2.108207932179986: 3, 3.554094253214402: 1, 4.804488680532834: 4, 3.1932520831136317: 1, 0.7528849641442248: 1, 4.978295241602497: 1, 4.725616232623602: 2, 4.609895997672074: 1, 4.327627558793418: 5, 1.5271820521315713: 1, 2.1276612901879433: 2, 4.4867570455645085: 1, 1.1468019007124308: 1, 4.576165349909109: 1, 4.776886265571325: 1, 4.845520028212298: 1, 4.732529940212558: 3, 1.4105544174616136: 1, 4.595452333062593: 2, 1.0168170573828161: 1, 2.0621541902683953: 1, 1.179828060681103: 7, 4.04483998115041: 1, 4.1968194474442475: 1, 1.5576614885635978: 1, 5.582808165224185: 1, 3.530554380611832: 3, 4.4683331520433605: 1, 1.0850086076240215: 1, 4.288854853878812: 1, 4.8915642858444555: 1, 5.622031911262726: 1, 1.069394482022411: 1, 4.856101089754786: 1, 4.630915529152262: 1, 4.8252262924831575: 1, 1.5376185404702678: 1, 6.464205852544851: 1, 6.420796600725288: 1, 5.642987586845234: 1, 3.395782894790951: 1, 2.478551323439101: 1, 4.242606603403909: 1, 3.606433579474506: 1, 3.4645807951158294: 1, 6.405422692649587: 1, 3.733179543030685: 2, 5.564384271703037: 1, 4.910905624213649: 1, 3.5278055408946045: 1, 1.047614569088299: 1, 1.4852792142101636: 2, 6.2016932472694934: 1, 4.628319891193222: 1, 1.6220015051886532: 1, 6.353821478570544: 1, 5.3837940997823575: 1, 3.545656660860926: 1, 1.4650968851219912: 1, 5.555166061202456: 1, 5.275628284313858: 1, 4.682206980804039: 1, 1.2845067132013113: 1, 4.113798335908454: 1, 4.999462419013382: 1, 6.210830009788827: 1}\n",
      "../rcv_elections_database/single/Oakland_11082016_SchoolDirectorDistrict3.csv\n"
     ]
    },
    {
     "name": "stderr",
     "output_type": "stream",
     "text": [
      "/Users/es5891/Documents/GitHub/bugs-in-democracy/rcv_exploration/../rcv_learning/rcv_dimensionality.py:188: RuntimeWarning: divide by zero encountered in divide\n",
      "  distance = 1 / np.sqrt(freq_upper_triangle)\n"
     ]
    },
    {
     "name": "stdout",
     "output_type": "stream",
     "text": [
      "Normalized distances: {'MISTY CROSS': 0.0, \"KHARYSHI ''MS. K'' WIGINTON\": 2.5899426924930804, 'JUMOKE HINTON HODGE': 2.7583349131198402, 'BENJAMIN LANG': 3.552713958786011, 'LUCKY NARAIN': 4.0}\n"
     ]
    },
    {
     "name": "stderr",
     "output_type": "stream",
     "text": [
      "/Users/es5891/Documents/GitHub/bugs-in-democracy/rcv_exploration/../rcv_learning/rcv_dimensionality.py:188: RuntimeWarning: divide by zero encountered in divide\n",
      "  distance = 1 / np.sqrt(freq_upper_triangle)\n"
     ]
    },
    {
     "name": "stdout",
     "output_type": "stream",
     "text": [
      "Consistency points: {1.2416650868801604: 2942, 1.1844657613285792: 1893, 0.21111889101176873: 182, 0.11182151030349738: 143, 0.3104162717200401: 67, 0.4472860412139895: 1002, 0.6879788577872223: 355, 0.6669298302088773: 747, 0.6458808026305323: 267, 1.4100573075069207: 1892, 1.2837631420368505: 659, 0.0: 434, 0.33146529929838514: 102, 0.3525143268767302: 58, 4.0: 24, 2.0575429806301906: 7, 1.9312488151601204: 1}\n",
      "../rcv_elections_database/single/Maine_07142020_DemocraticCandidateforMaineStateSenateDistrict11.csv\n"
     ]
    },
    {
     "name": "stderr",
     "output_type": "stream",
     "text": [
      "/Users/es5891/Documents/GitHub/bugs-in-democracy/rcv_exploration/../rcv_learning/rcv_dimensionality.py:188: RuntimeWarning: divide by zero encountered in divide\n",
      "  distance = 1 / np.sqrt(freq_upper_triangle)\n"
     ]
    },
    {
     "name": "stdout",
     "output_type": "stream",
     "text": [
      "Normalized distances: {'Curry, Glenn Chip': 0.0, 'Stanicki, Robyn M.': 0.9717719287973798, 'Pattavina, Charles F.': 2.0}\n"
     ]
    },
    {
     "name": "stderr",
     "output_type": "stream",
     "text": [
      "/Users/es5891/Documents/GitHub/bugs-in-democracy/rcv_exploration/../rcv_learning/rcv_dimensionality.py:188: RuntimeWarning: divide by zero encountered in divide\n",
      "  distance = 1 / np.sqrt(freq_upper_triangle)\n"
     ]
    },
    {
     "name": "stdout",
     "output_type": "stream",
     "text": [
      "Consistency points: {1.1073574554983623: 510, 0.3714714910996725: 882, 0.24294298219934488: 115, 0.0: 487, 0.5: 110, 2.0: 264, 0.9717719287973795: 199, 1.2288289465980347: 53}\n",
      "../rcv_elections_database/single/Oakland_11032020_SchoolDirectorDist3OaklandRCV.csv\n"
     ]
    },
    {
     "name": "stderr",
     "output_type": "stream",
     "text": [
      "/Users/es5891/Documents/GitHub/bugs-in-democracy/rcv_exploration/../rcv_learning/rcv_dimensionality.py:188: RuntimeWarning: divide by zero encountered in divide\n",
      "  distance = 1 / np.sqrt(freq_upper_triangle)\n"
     ]
    },
    {
     "name": "stdout",
     "output_type": "stream",
     "text": [
      "Normalized distances: {'MARK HURTY': 0.0, 'MAXIMO SANTANA': 1.2219278601367365, 'CHERISSE GASH': 2.308580720529998, 'MAIYA EDGERLY': 3.2499891911720593, 'VANCEDRIC WILLIAMS': 4.0}\n"
     ]
    },
    {
     "name": "stderr",
     "output_type": "stream",
     "text": [
      "/Users/es5891/Documents/GitHub/bugs-in-democracy/rcv_exploration/../rcv_learning/rcv_dimensionality.py:188: RuntimeWarning: divide by zero encountered in divide\n",
      "  distance = 1 / np.sqrt(freq_upper_triangle)\n"
     ]
    },
    {
     "name": "stdout",
     "output_type": "stream",
     "text": [
      "Consistency points: {3.250396585643307: 369, 0.0: 586, 0.5617194143863853: 456, 3.4861227403003205: 1986, 3.3148303204004272: 2101, 2.5138658232592626: 383, 1.2223290174861945: 377, 4.0: 517, 2.246877657545541: 1781, 2.385797243251844: 154, 1.8311005531646993: 71, 2.42515246285695: 453, 1.0: 39, 0.521809428294884: 45, 0.609968022210801: 3, 2.495367389655248: 45, 3.2245600774360414: 238, 1.611960260357892: 42, 1.7454543432147527: 73, 3.35262865744346: 147, 2.3094016796589574: 34, 2.404298535965963: 32, 3.2885943674397504: 60, 0.43365083437896695: 24, 1.477867934234883: 30, 2.5995120332092094: 166, 0.8287075801001068: 67, 2.685158243159156: 102, 2.23300611606607: 83, 3.148164513843154: 34, 0.695213497243246: 83, 2.4590821796126128: 76, 3.071768950250267: 72, 1.916746763114646: 18, 0.5003978758073974: 6, 0.5671449172358277: 16, 0.7380366022182193: 33, 1.3256750503152568: 15, 0.3055822543715486: 39, 1.6547833653328652: 17, 0.9143537900500533: 16, 1.4784661775010313: 46, 1.6976064703078384: 9, 3.212198803846863: 27, 0.5432209807823707: 2, 0.7808597071931926: 15, 1.7662676524360912: 2, 1.4564563817473963: 6, 1.4992794867223695: 3}\n",
      "../rcv_elections_database/single/LasCruces_11052019_MAYORCITYOFLASCRUCES.csv\n",
      "Skipping file: ../rcv_elections_database/single/LasCruces_11052019_MAYORCITYOFLASCRUCES.csv\n",
      "../rcv_elections_database/single/Alaska_11082022_HouseDistrict40.csv\n",
      "Error in file: ../rcv_elections_database/single/Alaska_11082022_HouseDistrict40.csv\n",
      "zero-size array to reduction operation minimum which has no identity\n",
      "../rcv_elections_database/single/SanFrancisco_11052019_MemberBoardofSupervisorsDistrict5.csv\n"
     ]
    },
    {
     "name": "stderr",
     "output_type": "stream",
     "text": [
      "/Users/es5891/Documents/GitHub/bugs-in-democracy/rcv_exploration/../rcv_learning/rcv_dimensionality.py:188: RuntimeWarning: divide by zero encountered in divide\n",
      "  distance = 1 / np.sqrt(freq_upper_triangle)\n"
     ]
    },
    {
     "name": "stdout",
     "output_type": "stream",
     "text": [
      "Normalized distances: {'DEAN PRESTON': 0.0, 'VALLIE BROWN': 0.6622373636875598, 'RYAN LAM': 1.9296155818405696, \"NOMVULA O'MEARA\": 3.0}\n"
     ]
    },
    {
     "name": "stderr",
     "output_type": "stream",
     "text": [
      "/Users/es5891/Documents/GitHub/bugs-in-democracy/rcv_exploration/../rcv_learning/rcv_dimensionality.py:188: RuntimeWarning: divide by zero encountered in divide\n",
      "  distance = 1 / np.sqrt(freq_upper_triangle)\n"
     ]
    },
    {
     "name": "stdout",
     "output_type": "stream",
     "text": [
      "Consistency points: {3.0: 5338, 2.3377626363124406: 5657, 1.5527883136195735: 49, 2.27800067383024: 1000, 0.46740821703945645: 13, 2.5033219772343305: 2120, 1.3740318942927903: 41, 1.3872289726976836: 68, 2.3448996999652043: 181, 1.0703844181594313: 294, 0.5087980522699289: 18, 1.4700086431586286: 21, 1.2534309204277547: 10, 2.2111016476952754: 55, 0.2675961045398578: 14, 0.0: 73, 0.426018381808984: 7, 0.75: 14, 0.5844406590781102: 14, 0.6672203295390551: 5}\n",
      "../rcv_elections_database/single/Minneapolis_11022021_CityCouncilWard4.csv\n"
     ]
    },
    {
     "name": "stderr",
     "output_type": "stream",
     "text": [
      "/Users/es5891/Documents/GitHub/bugs-in-democracy/rcv_exploration/../rcv_learning/rcv_dimensionality.py:188: RuntimeWarning: divide by zero encountered in divide\n",
      "  distance = 1 / np.sqrt(freq_upper_triangle)\n"
     ]
    },
    {
     "name": "stdout",
     "output_type": "stream",
     "text": [
      "Normalized distances: {'Leslie Davis': 0.0, 'Phillipe M. Cunningham': 1.2623507074883795, 'LaTrisha Vetaw': 2.0}\n"
     ]
    },
    {
     "name": "stderr",
     "output_type": "stream",
     "text": [
      "/Users/es5891/Documents/GitHub/bugs-in-democracy/rcv_exploration/../rcv_learning/rcv_dimensionality.py:188: RuntimeWarning: divide by zero encountered in divide\n",
      "  distance = 1 / np.sqrt(freq_upper_triangle)\n"
     ]
    },
    {
     "name": "stdout",
     "output_type": "stream",
     "text": [
      "Consistency points: {0.0: 2175, 1.0532369693837151: 62, 0.34220616156395256: 640, 0.18441232312790504: 635, 0.5: 449, 0.7376492925116201: 975, 2.0: 323}\n",
      "../rcv_elections_database/single/Minneapolis_11022021_CityCouncilWard11.csv\n"
     ]
    },
    {
     "name": "stderr",
     "output_type": "stream",
     "text": [
      "/Users/es5891/Documents/GitHub/bugs-in-democracy/rcv_exploration/../rcv_learning/rcv_dimensionality.py:188: RuntimeWarning: divide by zero encountered in divide\n",
      "  distance = 1 / np.sqrt(freq_upper_triangle)\n"
     ]
    },
    {
     "name": "stdout",
     "output_type": "stream",
     "text": [
      "Normalized distances: {'Albert T. Ross': 0.0, 'Dillon Gherna': 1.678829423726158, 'Jeremy Schroeder': 1.9153741649447844, 'Emily Koski': 2.31810518811573, 'Kurt Michael Anderson': 4.0}\n"
     ]
    },
    {
     "name": "stderr",
     "output_type": "stream",
     "text": [
      "/Users/es5891/Documents/GitHub/bugs-in-democracy/rcv_exploration/../rcv_learning/rcv_dimensionality.py:188: RuntimeWarning: divide by zero encountered in divide\n",
      "  distance = 1 / np.sqrt(freq_upper_triangle)\n"
     ]
    },
    {
     "name": "stdout",
     "output_type": "stream",
     "text": [
      "Consistency points: {1.9470863659020057: 3779, 2.468047291290063: 2001, 2.460314774426504: 163, 2.0773265972490202: 938, 2.8510354684675474: 101, 2.0453484787632896: 7, 0.0: 368, 0.7433857957377508: 49, 2.0629240859272056: 8, 4.0: 84, 1.6725575660212633: 74, 1.7411897659914488: 108, 1.8339408015112693: 78, 0.4867715914755014: 64, 2.2169289786887534: 91, 0.5175756071639158: 4, 1.8714299973384632: 20, 0.8085059114112578: 14, 1.806309881664956: 60, 0.45245549149040865: 26, 2.2544181745159477: 10, 1.6623603015858053: 3, 2.5425295570562896: 13, 0.6170118228225158: 15, 0.5518917071490086: 26, 1.0: 8, 0.7090696957526579: 14, 0.4181393915053158: 6}\n",
      "../rcv_elections_database/single/Minneapolis_11062009_Ward13CityCouncil.csv\n"
     ]
    },
    {
     "name": "stderr",
     "output_type": "stream",
     "text": [
      "/Users/es5891/Documents/GitHub/bugs-in-democracy/rcv_exploration/../rcv_learning/rcv_dimensionality.py:188: RuntimeWarning: divide by zero encountered in divide\n",
      "  distance = 1 / np.sqrt(freq_upper_triangle)\n"
     ]
    },
    {
     "name": "stdout",
     "output_type": "stream",
     "text": [
      "Normalized distances: {'Kris Broberg': 0.0, 'Betsy Hodges': 1.119809394626916, 'Joseph Henry': 2.0}\n"
     ]
    },
    {
     "name": "stderr",
     "output_type": "stream",
     "text": [
      "/Users/es5891/Documents/GitHub/bugs-in-democracy/rcv_exploration/../rcv_learning/rcv_dimensionality.py:188: RuntimeWarning: divide by zero encountered in divide\n",
      "  distance = 1 / np.sqrt(freq_upper_triangle)\n"
     ]
    },
    {
     "name": "stdout",
     "output_type": "stream",
     "text": [
      "Consistency points: {0.0: 939, 0.5: 213, 0.2799523486567289: 168, 0.38997617432836446: 107, 2.0: 69, 1.1198093946269156: 2456, 1.3398570459701866: 742, 1.1998808716418223: 397}\n",
      "../rcv_elections_database/single/NewYorkCity_06222021_DEMCouncilMember11thCouncilDistrict.csv\n"
     ]
    },
    {
     "name": "stderr",
     "output_type": "stream",
     "text": [
      "/Users/es5891/Documents/GitHub/bugs-in-democracy/rcv_exploration/../rcv_learning/rcv_dimensionality.py:188: RuntimeWarning: divide by zero encountered in divide\n",
      "  distance = 1 / np.sqrt(freq_upper_triangle)\n"
     ]
    },
    {
     "name": "stdout",
     "output_type": "stream",
     "text": [
      "Normalized distances: {'Carlton Berkley': 0.0, 'Marcos Sierra': 2.486663736375082, 'Eric Dinowitz': 3.5610368368534364, 'Daniel Padernacht': 3.8089011397795174, 'Mino Lora': 4.461351952492381, 'Abigail Martin': 5.160946845958623, 'Jessica Haller': 6.0}\n"
     ]
    },
    {
     "name": "stderr",
     "output_type": "stream",
     "text": [
      "/Users/es5891/Documents/GitHub/bugs-in-democracy/rcv_exploration/../rcv_learning/rcv_dimensionality.py:188: RuntimeWarning: divide by zero encountered in divide\n",
      "  distance = 1 / np.sqrt(freq_upper_triangle)\n"
     ]
    },
    {
     "name": "stdout",
     "output_type": "stream",
     "text": [
      "Consistency points: {4.979047593764498: 2518, 6.0: 194, 4.195509843316952: 303, 3.9343305931677692: 935, 2.8315275564466473: 186, 3.107228315626928: 42, 5.034770880453712: 15, 4.644142650110851: 434, 4.965845690658642: 83, 4.893505739614849: 1, 4.2812657761396835: 149, 4.611904746102811: 7, 5.234285695323373: 220, 5.103696070248782: 67, 4.727868886024263: 173, 4.5335825695065655: 6, 3.9739332278133994: 69, 3.0898521179692757: 115, 4.3231288940963895: 39, 3.36840756577611: 152, 4.153646725360246: 91, 4.742199493449688: 6, 3.3903539732091232: 3, 4.402589156319282: 11, 4.450747944875827: 164, 3.6236456673349853: 19, 3.195954822744813: 15, 3.326544447819404: 30, 0.0: 109, 4.054630681872071: 5, 4.11178360740354: 258, 4.057659463726811: 35, 4.639142378906377: 52, 3.237817940701519: 26, 3.3778814495683163: 7, 4.501291999316237: 24, 4.983106987583138: 57, 3.4784247510046695: 13, 1.2028987804844187: 3, 4.063815970617333: 3, 4.186763801653825: 4, 4.65371425731073: 14, 3.301627466091238: 1, 1.3305178312638564: 7, 5.050916165548876: 3, 3.284681329862698: 23, 4.998136260848971: 6, 4.723883463274449: 12, 4.01238030489425: 13, 0.825599770270544: 1, 4.165418989623847: 13, 4.788820671065441: 9, 3.2487911444180253: 2, 4.981990975753806: 3, 4.756530100875112: 12, 3.6199922832575684: 12, 3.9962362994262177: 5, 1.241791324145971: 2, 3.4960266165555476: 17, 4.578754005458485: 9, 1.3723809492205623: 2, 4.667239241597443: 10, 4.758344778544852: 2, 1.2447618984411244: 12, 3.3654369914809568: 7, 3.014466621220279: 7, 3.5202878689613755: 3, 4.103037565740414: 19, 4.092794178112758: 4, 1.1610356625277127: 8, 3.817389088476957: 6, 4.684190149831319: 2, 2.753287371071097: 2, 0.9835826482919423: 4, 3.300971736768899: 14, 3.442534565559997: 2, 3.389698243886784: 9, 4.788875218380727: 5, 1.0514904303780876: 1, 2.896108696827304: 6, 3.216886381723166: 5, 4.805020503475891: 2, 4.084721535565175: 15, 3.9589566207298557: 5, 4.75027213599727: 4, 4.6753118841450245: 7, 4.661786899858312: 11, 3.386755883815772: 2, 4.10086682066034: 5, 3.0189843504668974: 1, 4.1492737045286825: 16, 3.5621509869180814: 7, 0.9667493460100158: 2, 3.280695907112885: 11, 0.7724630294923189: 2, 3.474439328254856: 1, 1.0723091554098274: 2, 3.43156136184349: 2, 4.089950033917139: 19, 4.094508419713471: 10, 4.006223798003728: 9, 4.217456250749964: 12, 4.138356917785482: 3, 3.410629802865137: 2, 3.7037185191709803: 2, 3.948570779504531: 4, 4.096106540807662: 4, 0.8780228388921306: 1, 0.7078818891116618: 1, 3.128401145584208: 2, 3.9800897347039212: 8, 3.1922106709739273: 3, 3.796962755535484: 6, 2.957546523647101: 1, 3.09219323625851: 1, 5.042843523001294: 2, 3.188466519203041: 1, 4.1353281359307426: 13, 4.565229021171772: 1, 3.2771930263209264: 1, 2.9307403853068674: 3, 4.578289831658889: 1, 4.579559628597197: 1, 3.1495739755414887: 1, 4.5702171891113075: 1, 1.5: 5, 3.3140719241785974: 1, 0.9344587758196873: 2, 4.035370114066698: 2, 4.772675385970277: 1, 0.9763218937763931: 1, 3.901593276769606: 1, 3.4541634985988416: 4, 3.647906919740813: 2, 3.9900785129085636: 1, 0.9647566346351091: 1, 1.1570502397778992: 1, 3.4875395156645546: 1, 0.9553903347980401: 1, 3.3988130085466692: 1, 4.586362474206472: 1, 3.301868737070165: 3, 4.077233232023404: 2, 4.595704913692361: 1, 4.48173195297235: 1, 3.90775106328726: 1}\n",
      "../rcv_elections_database/single/SanFrancisco_11062012_BoardofSupervisorsDistrict5.csv\n"
     ]
    },
    {
     "name": "stderr",
     "output_type": "stream",
     "text": [
      "/Users/es5891/Documents/GitHub/bugs-in-democracy/rcv_exploration/../rcv_learning/rcv_dimensionality.py:188: RuntimeWarning: divide by zero encountered in divide\n",
      "  distance = 1 / np.sqrt(freq_upper_triangle)\n"
     ]
    },
    {
     "name": "stdout",
     "output_type": "stream",
     "text": [
      "Normalized distances: {'HOPE JOHNSON': 0.0, 'JULIAN DAVIS': 2.5717087756006762, 'DANIEL EVERETT': 2.8375711760654094, 'JOHN RIZZO': 3.3687207148927087, 'CHRISTINA OLAGUE': 3.5134094250568375, 'LONDON BREED': 3.859145322258234, 'THEA SELBY': 4.433837319546091, \"ANDREW ''ELLARD'' RESIGNATO\": 7.0}\n"
     ]
    },
    {
     "name": "stderr",
     "output_type": "stream",
     "text": [
      "/Users/es5891/Documents/GitHub/bugs-in-democracy/rcv_exploration/../rcv_learning/rcv_dimensionality.py:188: RuntimeWarning: divide by zero encountered in divide\n",
      "  distance = 1 / np.sqrt(freq_upper_triangle)\n"
     ]
    },
    {
     "name": "stdout",
     "output_type": "stream",
     "text": [
      "Consistency points: {7.0: 60, 2.63871470469045: 2525, 3.674316519481215: 578, 3.0080008526249378: 66, 2.9544586241372603: 284, 2.7861329394063294: 434, 3.183335981024593: 1297, 3.404703728495494: 57, 0.8960820204453115: 48, 3.27343930608334: 724, 2.8362425910810636: 361, 3.8963221619215105: 32, 4.911052749881332: 52, 3.2943180342586977: 178, 2.6781615145386315: 30, 2.8976151583881413: 210, 2.891435438199462: 104, 4.529941458872042: 739, 4.102814422613835: 23, 2.774870023773986: 385, 2.7973958550386726: 249, 3.20586181228928: 254, 1.75: 11, 3.373658609432809: 130, 3.111521393235848: 353, 3.758772527480076: 461, 2.9528080055065398: 90, 3.420278710876843: 164, 3.413034233062602: 307, 3.5358045739750605: 37, 3.1783849310200982: 45, 2.902698353831805: 110, 2.4450306856876796: 76, 3.2380034560969806: 291, 2.847505506713407: 325, 3.416466809875545: 33, 3.4682270801810002: 32, 3.4288514565512074: 98, 3.5199873504864554: 96, 3.888222754328922: 918, 4.115859296428401: 226, 3.004568275811995: 384, 3.059761122930393: 69, 3.7345925620432774: 69, 3.7847022137180115: 32, 2.781682055149542: 114, 4.164186989920913: 36, 1.1324853647180104: 12, 4.5812134117950265: 25, 4.219379837039312: 22, 3.361273962757147: 126, 3.8364624840234667: 44, 0.7390192513467237: 41, 3.122070352858381: 35, 3.5875648442805157: 83, 3.3060811156387486: 203, 1.025532247294157: 29, 3.3685184405713877: 43, 0.818359826520835: 10, 2.567775820301835: 82, 4.034736763072067: 33, 0.9185791298703038: 17, 0.7891289030214581: 15, 4.322412060267751: 15, 3.82874466812745: 70, 1.4412426823590052: 18, 0.8684694781955694: 24, 0.8443217501398564: 15, 0.0: 87, 0.8070969108884917: 14, 0.9754225956194227: 20, 3.7290360285178377: 22, 0.7277563357143804: 22, 0.6596786761726126: 19, 0.9737719769887021: 10, 3.655251986869166: 36, 4.046447824675759: 10, 4.836894472321301: 5, 3.074864390409188: 18, 0.9641596799870793: 5, 3.4840443036696054: 33, 2.4675565169523663: 65, 0.9236623253139677: 6, 3.42893318939377: 98, 4.205079479562505: 21, 3.018549812247471: 16, 1.2841799132604175: 8, 5.147456094154031: 21, 0.9123994096816244: 5, 1.2048393380863063: 11, 3.723329646410934: 41, 0.7958339952561483: 10, 4.137501985768445: 10, 3.7958995663020874: 14, 4.505737389610911: 5, 1.0807250944125553: 8, 4.114077338246179: 20, 0.857206562563226: 10, 1.272916997628074: 2, 1.0289648241071003: 6, 3.7395849881403707: 12, 1.3342895649351518: 1}\n",
      "../rcv_elections_database/single/SanFrancisco_11052019_DistrictAttorney.csv\n"
     ]
    },
    {
     "name": "stderr",
     "output_type": "stream",
     "text": [
      "/Users/es5891/Documents/GitHub/bugs-in-democracy/rcv_exploration/../rcv_learning/rcv_dimensionality.py:188: RuntimeWarning: divide by zero encountered in divide\n",
      "  distance = 1 / np.sqrt(freq_upper_triangle)\n"
     ]
    },
    {
     "name": "stdout",
     "output_type": "stream",
     "text": [
      "Normalized distances: {'CHESA BOUDIN': 0.0, 'SUZY LOFTUS': 1.0586526149814393, 'LEIF DAUTCH': 2.0627401894011395, 'NANCY TUNG': 3.0}\n"
     ]
    },
    {
     "name": "stderr",
     "output_type": "stream",
     "text": [
      "/Users/es5891/Documents/GitHub/bugs-in-democracy/rcv_exploration/../rcv_learning/rcv_dimensionality.py:188: RuntimeWarning: divide by zero encountered in divide\n",
      "  distance = 1 / np.sqrt(freq_upper_triangle)\n"
     ]
    },
    {
     "name": "stdout",
     "output_type": "stream",
     "text": [
      "Consistency points: {0.0: 11427, 0.9372598105988607: 6483, 3.0: 33262, 1.941347385018561: 25974, 0.23431495264971516: 2576, 0.3598258994521777: 2007, 1.4529448579491455: 958, 1.2000454897164994: 1968, 2.2060105387639206: 3766, 0.48533684625464024: 2380, 1.0711242278789281: 978, 2.0219208537990294: 2911, 1.1882817042037859: 1721, 0.6176684231273202: 518, 0.4259916878885176: 3307, 1.3206132810764657: 461, 0.75: 874, 2.080499591961458: 976, 1.9633421156366007: 689}\n",
      "../rcv_elections_database/single/SanFrancisco_11052019_PublicDefender.csv\n",
      "Error in file: ../rcv_elections_database/single/SanFrancisco_11052019_PublicDefender.csv\n",
      "zero-size array to reduction operation minimum which has no identity\n",
      "../rcv_elections_database/single/SanFrancisco_11022004_BoardofSupervisorsDistrict2.csv\n"
     ]
    },
    {
     "name": "stderr",
     "output_type": "stream",
     "text": [
      "/Users/es5891/Documents/GitHub/bugs-in-democracy/rcv_exploration/../rcv_learning/rcv_dimensionality.py:188: RuntimeWarning: divide by zero encountered in divide\n",
      "  distance = 1 / np.sqrt(freq_upper_triangle)\n"
     ]
    },
    {
     "name": "stdout",
     "output_type": "stream",
     "text": [
      "Normalized distances: {'Michela Alioto-pier': 0.0, 'Steve Braccini': 0.718587872399052, 'David Pascal': 1.580372901501434, 'Jay R. Shah': 2.5055134693142884, 'Roger E. Schulke': 4.0}\n"
     ]
    },
    {
     "name": "stderr",
     "output_type": "stream",
     "text": [
      "/Users/es5891/Documents/GitHub/bugs-in-democracy/rcv_exploration/../rcv_learning/rcv_dimensionality.py:188: RuntimeWarning: divide by zero encountered in divide\n",
      "  distance = 1 / np.sqrt(freq_upper_triangle)\n"
     ]
    },
    {
     "name": "stdout",
     "output_type": "stream",
     "text": [
      "Consistency points: {3.1127936528599744: 225, 2.9259828365242604: 207, 3.3111794038291125: 410, 3.0815725384388166: 975, 1.7044472162882738: 135, 2.1208648980142835: 71, 1.8334948012767227: 69, 1.588920753593744: 60, 1.9482982339718706: 84, 1.4944865306857114: 162, 0.572007383640566: 176, 0.7126299032624392: 174, 0.8274333359575872: 125, 0.6548666719151743: 65, 0.7703931346097042: 46, 0.0: 190, 4.0: 8734, 2.594370630733354: 294, 2.40755981439764: 410, 2.849796583050375: 274, 2.82397749612365: 258, 2.637166679787936: 330, 2.964600015745523: 550, 2.734993150355227: 110, 2.6194666876606973: 1329, 0.8851965673048521: 132, 0.6868108163357138: 76, 1.0: 73, 2.0060614653191355: 84, 1.8912580326239876: 28, 1.7757315699294578: 26, 0.5142441522933011: 87, 0.37362163267142784: 30}\n",
      "../rcv_elections_database/single/Alaska_11082022_HouseDistrict1.csv\n"
     ]
    },
    {
     "name": "stderr",
     "output_type": "stream",
     "text": [
      "/Users/es5891/Documents/GitHub/bugs-in-democracy/rcv_exploration/../rcv_learning/rcv_dimensionality.py:188: RuntimeWarning: divide by zero encountered in divide\n",
      "  distance = 1 / np.sqrt(freq_upper_triangle)\n"
     ]
    },
    {
     "name": "stdout",
     "output_type": "stream",
     "text": [
      "Normalized distances: {'Bynum, Jeremy T.': 0.0, 'Ortiz, Daniel H. \"Dan\"': 1.0}\n"
     ]
    },
    {
     "name": "stderr",
     "output_type": "stream",
     "text": [
      "/Users/es5891/Documents/GitHub/bugs-in-democracy/rcv_exploration/../rcv_learning/rcv_dimensionality.py:188: RuntimeWarning: divide by zero encountered in divide\n",
      "  distance = 1 / np.sqrt(freq_upper_triangle)\n"
     ]
    },
    {
     "name": "stdout",
     "output_type": "stream",
     "text": [
      "Consistency points: {1.0: 2500, 0.25: 728, 0.0: 2450}\n",
      "../rcv_elections_database/single/PierceCounty_11042008_CountyExecutiveMember.csv\n"
     ]
    },
    {
     "name": "stderr",
     "output_type": "stream",
     "text": [
      "/Users/es5891/Documents/GitHub/bugs-in-democracy/rcv_exploration/../rcv_learning/rcv_dimensionality.py:188: RuntimeWarning: divide by zero encountered in divide\n",
      "  distance = 1 / np.sqrt(freq_upper_triangle)\n"
     ]
    },
    {
     "name": "stdout",
     "output_type": "stream",
     "text": [
      "Normalized distances: {'Shawn Bunney': 0.0, 'Mike Lonergan': 1.2406996796121665, 'Pat McCarthy': 2.252266954265441, 'Calvin Goings': 3.0}\n"
     ]
    },
    {
     "name": "stderr",
     "output_type": "stream",
     "text": [
      "/Users/es5891/Documents/GitHub/bugs-in-democracy/rcv_exploration/../rcv_learning/rcv_dimensionality.py:188: RuntimeWarning: divide by zero encountered in divide\n",
      "  distance = 1 / np.sqrt(freq_upper_triangle)\n"
     ]
    },
    {
     "name": "stdout",
     "output_type": "stream",
     "text": [
      "Consistency points: {3.0: 47651, 0.31337917076529864: 16823, 0.0: 16831, 0.7477330457345572: 17239, 0.9071582336810562: 6433, 1.155712324349397: 2594, 1.9430293309592146: 4351, 1.759300320387832: 10479, 0.1869332614336393: 11364, 1.8495627002423949: 4079, 1.3107997843009178: 1492, 0.75: 1792, 0.5949125400484789: 2336, 2.069475240290874: 5171, 1.000624864397876: 1534, 0.439825080096958: 1566}\n",
      "../rcv_elections_database/single/Oakland_11032020_SchoolDirectorDist7OaklandRCV.csv\n"
     ]
    },
    {
     "name": "stderr",
     "output_type": "stream",
     "text": [
      "/Users/es5891/Documents/GitHub/bugs-in-democracy/rcv_exploration/../rcv_learning/rcv_dimensionality.py:188: RuntimeWarning: divide by zero encountered in divide\n",
      "  distance = 1 / np.sqrt(freq_upper_triangle)\n"
     ]
    },
    {
     "name": "stdout",
     "output_type": "stream",
     "text": [
      "Normalized distances: {'VICTOR JAVIER VALERIO': 0.0, 'KRISTINA MOLINA': 0.9176063902602045, 'BRONCHÉ TAYLOR': 2.1939616398346145, 'CLIFFORD THOMPSON': 3.2103139526343343, 'BEN \"COACH\" TAPSCOTT': 4.0}\n"
     ]
    },
    {
     "name": "stderr",
     "output_type": "stream",
     "text": [
      "/Users/es5891/Documents/GitHub/bugs-in-democracy/rcv_exploration/../rcv_learning/rcv_dimensionality.py:188: RuntimeWarning: divide by zero encountered in divide\n",
      "  distance = 1 / np.sqrt(freq_upper_triangle)\n"
     ]
    },
    {
     "name": "stdout",
     "output_type": "stream",
     "text": [
      "Consistency points: {4.0: 1443, 3.2063804181195965: 1331, 3.1696951137208034: 392, 0.9171057967450328: 705, 2.6445735549732805: 69, 1.4619249400543213: 21, 3.0039877613247477: 27, 0.6748931447604963: 19, 3.4047853135896973: 254, 0.0: 515, 2.4461686595031797: 36, 2.192764739964374: 351, 2.485116187070863: 26, 1.4894244520886737: 77, 2.331139597229102: 40, 0.7244943686280215: 39, 1.1213823079567389: 20, 0.3887338170886758: 12, 1.0: 40, 2.54537110723823: 59, 0.2292764491862582: 83, 3.2780833538202945: 105, 3.118625985917877: 70, 2.4656424232870213: 30, 1.236020532549868: 30, 3.1983546698690857: 12, 1.6878293475587745: 65, 0.8015951045298991: 79, 1.588626899823724: 21, 3.141035557572521: 59, 1.412323716186796: 8, 1.362722492319271: 9, 1.3140631956601745: 6, 1.2644619717926493: 6, 3.0613068736213123: 24, 0.4520847969733772: 5, 1.2892625837264118: 69, 2.4083233109904567: 18, 0.9007975522649496: 15, 0.7740955924955468: 15, 2.3704779624777337: 12, 2.286711291600762: 15, 0.5481911849910935: 34, 2.3996634953529887: 3, 2.2293921793041975: 11, 2.172073067007633: 11}\n",
      "../rcv_elections_database/single/Minneapolis_11072017_Ward5CityCouncil.csv\n"
     ]
    },
    {
     "name": "stderr",
     "output_type": "stream",
     "text": [
      "/Users/es5891/Documents/GitHub/bugs-in-democracy/rcv_exploration/../rcv_learning/rcv_dimensionality.py:188: RuntimeWarning: divide by zero encountered in divide\n",
      "  distance = 1 / np.sqrt(freq_upper_triangle)\n"
     ]
    },
    {
     "name": "stdout",
     "output_type": "stream",
     "text": [
      "Normalized distances: {'Blong Yang': 0.0, 'Jeremiah Ellison': 1.102101030722946, 'Raeisha (RA) Williams': 1.7017091725828597, 'Cathy Spann': 3.0}\n"
     ]
    },
    {
     "name": "stderr",
     "output_type": "stream",
     "text": [
      "/Users/es5891/Documents/GitHub/bugs-in-democracy/rcv_exploration/../rcv_learning/rcv_dimensionality.py:188: RuntimeWarning: divide by zero encountered in divide\n",
      "  distance = 1 / np.sqrt(freq_upper_triangle)\n"
     ]
    },
    {
     "name": "stdout",
     "output_type": "stream",
     "text": [
      "Consistency points: {0.6122373711596317: 20, 3.0: 627, 2.17342422695779: 200, 1.8978989692770538: 427, 1.2982908274171403: 88, 1.9361868557981587: 121, 1.2859065094549762: 71, 0.39952372458677426: 21, 1.5614317671357127: 17, 1.585955491722487: 94, 1.4481928628821188: 55, 0.0: 31, 0.75: 15, 1.7237181205628551: 11, 0.47447474231926345: 8, 0.5372863534271426: 9, 0.3245727068542851: 2}\n",
      "../rcv_elections_database/single/SanFrancisco_11022004_BoardofSupervisorsDistrict3.csv\n"
     ]
    },
    {
     "name": "stderr",
     "output_type": "stream",
     "text": [
      "/Users/es5891/Documents/GitHub/bugs-in-democracy/rcv_exploration/../rcv_learning/rcv_dimensionality.py:188: RuntimeWarning: divide by zero encountered in divide\n",
      "  distance = 1 / np.sqrt(freq_upper_triangle)\n"
     ]
    },
    {
     "name": "stdout",
     "output_type": "stream",
     "text": [
      "Normalized distances: {'Arron Peskin': 0.0, 'Eugene Chi-ching Wong': 1.065393363366378, \"Brian Murphy 0'flynn\": 1.807344532122035, 'Sal Busalacchi': 3.0}\n"
     ]
    },
    {
     "name": "stderr",
     "output_type": "stream",
     "text": [
      "/Users/es5891/Documents/GitHub/bugs-in-democracy/rcv_exploration/../rcv_learning/rcv_dimensionality.py:188: RuntimeWarning: divide by zero encountered in divide\n",
      "  distance = 1 / np.sqrt(freq_upper_triangle)\n"
     ]
    },
    {
     "name": "stdout",
     "output_type": "stream",
     "text": [
      "Consistency points: {3.0: 5611, 1.644491600908474: 205, 1.5113174304876769: 247, 1.229061326582134: 882, 1.3781432600668797: 78, 1.1926554678779655: 564, 2.1082110813807593: 706, 1.9591291478960138: 322, 2.2009549774752166: 318, 1.934606636633622: 800, 0.5240819334847457: 331, 0.3909077630639485: 386, 0.2981638669694914: 91, 0.6168258295792027: 53, 0.0: 187, 0.75: 50, 0.4836516591584055: 31}\n",
      "../rcv_elections_database/single/Oakland_11062012_SchoolDirectorDistrict1.csv\n"
     ]
    },
    {
     "name": "stderr",
     "output_type": "stream",
     "text": [
      "/Users/es5891/Documents/GitHub/bugs-in-democracy/rcv_exploration/../rcv_learning/rcv_dimensionality.py:188: RuntimeWarning: divide by zero encountered in divide\n",
      "  distance = 1 / np.sqrt(freq_upper_triangle)\n"
     ]
    },
    {
     "name": "stdout",
     "output_type": "stream",
     "text": [
      "Normalized distances: {'THEARSE PECOT': 0.0, 'JODY LONDON': 1.0}\n"
     ]
    },
    {
     "name": "stderr",
     "output_type": "stream",
     "text": [
      "/Users/es5891/Documents/GitHub/bugs-in-democracy/rcv_exploration/../rcv_learning/rcv_dimensionality.py:188: RuntimeWarning: divide by zero encountered in divide\n",
      "  distance = 1 / np.sqrt(freq_upper_triangle)\n"
     ]
    },
    {
     "name": "stdout",
     "output_type": "stream",
     "text": [
      "Consistency points: {0.25: 8592, 0.0: 11269, 1.0: 3461}\n",
      "Error in file: ../rcv_elections_database/single/Oakland_11062012_SchoolDirectorDistrict1.csv\n",
      "unsupported operand type(s) for -: 'float' and 'NoneType'\n",
      "../rcv_elections_database/single/Oakland_11062018_SchoolDirectorDistrict6.csv\n"
     ]
    },
    {
     "name": "stderr",
     "output_type": "stream",
     "text": [
      "/Users/es5891/Documents/GitHub/bugs-in-democracy/rcv_exploration/../rcv_learning/rcv_dimensionality.py:188: RuntimeWarning: divide by zero encountered in divide\n",
      "  distance = 1 / np.sqrt(freq_upper_triangle)\n"
     ]
    },
    {
     "name": "stdout",
     "output_type": "stream",
     "text": [
      "Normalized distances: {'SHANTHI GONZALES': 0.0, 'ANTHONY WILSON': 1.0}\n"
     ]
    },
    {
     "name": "stderr",
     "output_type": "stream",
     "text": [
      "/Users/es5891/Documents/GitHub/bugs-in-democracy/rcv_exploration/../rcv_learning/rcv_dimensionality.py:188: RuntimeWarning: divide by zero encountered in divide\n",
      "  distance = 1 / np.sqrt(freq_upper_triangle)\n"
     ]
    },
    {
     "name": "stdout",
     "output_type": "stream",
     "text": [
      "Consistency points: {1.0: 13939, 0.25: 63, 0.0: 166}\n",
      "Error in file: ../rcv_elections_database/single/Oakland_11062018_SchoolDirectorDistrict6.csv\n",
      "unsupported operand type(s) for -: 'float' and 'NoneType'\n",
      "../rcv_elections_database/single/Minneapolis_11022021_CityCouncilWard10.csv\n"
     ]
    },
    {
     "name": "stderr",
     "output_type": "stream",
     "text": [
      "/Users/es5891/Documents/GitHub/bugs-in-democracy/rcv_exploration/../rcv_learning/rcv_dimensionality.py:188: RuntimeWarning: divide by zero encountered in divide\n",
      "  distance = 1 / np.sqrt(freq_upper_triangle)\n"
     ]
    },
    {
     "name": "stdout",
     "output_type": "stream",
     "text": [
      "Normalized distances: {'David Wheeler': 0.0, 'Chris Parsons': 0.9748523672569664, 'Alicia Gibson': 1.90015713866819, 'Katie Jones': 2.470951943511811, 'Aisha Chughtai': 3.294159862285746, 'Ubah Nur': 5.0}\n"
     ]
    },
    {
     "name": "stderr",
     "output_type": "stream",
     "text": [
      "/Users/es5891/Documents/GitHub/bugs-in-democracy/rcv_exploration/../rcv_learning/rcv_dimensionality.py:188: RuntimeWarning: divide by zero encountered in divide\n",
      "  distance = 1 / np.sqrt(freq_upper_triangle)\n"
     ]
    },
    {
     "name": "stdout",
     "output_type": "stream",
     "text": [
      "Consistency points: {3.331169054184616: 152, 1.911642117407734: 1149, 4.025147632743034: 362, 1.8411108014043585: 100, 1.7058401377142496: 832, 2.09865456443959: 88, 1.698412100193453: 340, 2.3556157506380697: 21, 4.268860724557276: 170, 2.0724369942571648: 19, 3.7657172704643966: 12, 1.9829914680131868: 428, 0.0: 168, 4.153197628130873: 247, 2.0543408186186394: 126, 3.0998428613318096: 309, 3.4530256000917365: 408, 3.574882145998857: 53, 2.671746757699093: 73, 2.5688457678523506: 161, 5.0: 147, 2.5290480564881874: 294, 0.4264600344285624: 38, 2.787409854125496: 66, 4.08184827752542: 56, 2.2856670114714457: 17, 2.2918604609521633: 18, 3.1467860423661405: 24, 0.8192744611539027: 6, 3.400631805546662: 15, 2.4075235573785667: 12, 0.8906238117593555: 3, 2.9030729505518993: 33, 0.6322620141220469: 11, 0.6007103748807574: 31, 0.7749607153329524: 5, 2.9436886965181395: 11, 3.187401788332381: 10, 0.7036113647274996: 12, 2.830655035305117: 8, 0.7163734713071606: 8, 3.156918713732421: 31, 0.5293610242753046: 19, 0.8382300172142811: 12, 3.02492949645902: 23, 1.25: 4, 2.1700039150450428: 32, 3.9789472876786776: 12, 0.9411310070610235: 8, 2.5293801032856873: 10, 1.1281434540928794: 2, 2.5869419434908756: 11, 1.0124803576664763: 4, 1.0062869081857586: 1}\n",
      "../rcv_elections_database/single/Minneapolis_11022021_CityCouncilWard5.csv\n"
     ]
    },
    {
     "name": "stderr",
     "output_type": "stream",
     "text": [
      "/Users/es5891/Documents/GitHub/bugs-in-democracy/rcv_exploration/../rcv_learning/rcv_dimensionality.py:188: RuntimeWarning: divide by zero encountered in divide\n",
      "  distance = 1 / np.sqrt(freq_upper_triangle)\n"
     ]
    },
    {
     "name": "stdout",
     "output_type": "stream",
     "text": [
      "Normalized distances: {'James \"Jim\" Seymour': 0.0, 'Elijah Norris-Holliday': 2.2370834429713526, 'Victor Martinez': 3.608815303870876, 'Kristel Porter': 3.845792205114451, 'Suleiman Isse': 4.127062407265016, 'Cathy Spann': 4.914986860529623, 'Jeremiah Ellison': 6.0}\n"
     ]
    },
    {
     "name": "stderr",
     "output_type": "stream",
     "text": [
      "/Users/es5891/Documents/GitHub/bugs-in-democracy/rcv_exploration/../rcv_learning/rcv_dimensionality.py:188: RuntimeWarning: divide by zero encountered in divide\n",
      "  distance = 1 / np.sqrt(freq_upper_triangle)\n"
     ]
    },
    {
     "name": "stdout",
     "output_type": "stream",
     "text": [
      "Consistency points: {5.052590813470321: 12, 4.127062407265015: 433, 6.0: 571, 3.84579220511445: 333, 3.608815303870875: 489, 3.5669105971069692: 6, 2.23708344297135: 64, 3.0421859397947153: 2, 4.206611477903156: 63, 4.070984835469359: 19, 4.384344153835838: 173, 3.935358193035562: 26, 4.248717511402041: 51, 3.668059529181769: 134, 3.7032183044505893: 22, 4.18325555856795: 29, 4.324043520581167: 4, 4.595296805448761: 19, 3.7638917104231213: 12, 3.912002273700356: 12, 4.914986860529623: 67, 2.3003809778248123: 3, 2.674419408775946: 4, 0.9022038259677188: 3, 0.0: 12, 4.113090868968244: 38, 2.743287852778575: 5, 3.9161097556520916: 8, 3.836867636377486: 7, 3.484256280051703: 1, 2.772909965434022: 4, 3.4965930465693282: 30, 2.639260633507125: 5, 2.908536607867819: 4, 3.73837707971941: 4, 2.580016408196231: 7, 0.760359456010725: 3, 3.8864876429966446: 14, 2.3596252031357063: 2, 4.459670163014964: 1, 2.9436953831366393: 2, 2.609638520851678: 7, 2.6269238669894994: 1, 5.022968700814874: 16, 5.186240145397218: 4, 2.644797296120499: 5, 0.5592708607428375: 4, 4.359049434912053: 1, 3.1778125822285124: 3, 3.632366843328937: 8, 0.7307373433552782: 4, 3.755509564919297: 3, 0.9614480512786125: 1, 2.878914495212372: 2, 2.709578184044766: 1, 3.715021160384204: 6, 1.364373357566203: 1, 2.9065592973609182: 1, 4.851502218202433: 1, 4.087796150044459: 2, 5.0877495887391415: 1, 1.0296354303714188: 1, 0.9966068265474332: 1}\n",
      "../rcv_elections_database/single/NewYorkCity_06222021_DEMCouncilMember1stCouncilDistrict.csv\n"
     ]
    },
    {
     "name": "stderr",
     "output_type": "stream",
     "text": [
      "/Users/es5891/Documents/GitHub/bugs-in-democracy/rcv_exploration/../rcv_learning/rcv_dimensionality.py:188: RuntimeWarning: divide by zero encountered in divide\n",
      "  distance = 1 / np.sqrt(freq_upper_triangle)\n"
     ]
    },
    {
     "name": "stdout",
     "output_type": "stream",
     "text": [
      "Normalized distances: {'Sean C. Hayes': 0.0, 'Gigi Li': 1.5776399903009086, 'Susan Lee': 2.5311069943483657, 'Christopher Marte': 2.668788086982509, 'Jenny L. Low': 3.4981485302568176, 'Maud Maron': 3.844744015230852, 'Tiffany Johnson-Winbush': 5.204482923239848, 'Denny R. Salas': 5.986385509725555, 'Susan Damplo': 8.0}\n"
     ]
    },
    {
     "name": "stderr",
     "output_type": "stream",
     "text": [
      "/Users/es5891/Documents/GitHub/bugs-in-democracy/rcv_exploration/../rcv_learning/rcv_dimensionality.py:188: RuntimeWarning: divide by zero encountered in divide\n",
      "  distance = 1 / np.sqrt(freq_upper_triangle)\n"
     ]
    },
    {
     "name": "stdout",
     "output_type": "stream",
     "text": [
      "Consistency points: {3.020802461097137: 13, 6.1842360342454: 2949, 4.066545288233427: 381, 5.659065483482507: 175, 5.48400863322821: 851, 0.3589205880158828: 4, 4.219809400998976: 64, 0.9252437538462971: 23, 4.548760765819567: 12, 3.792367583597248: 118, 6.638177025684049: 157, 5.055760313033066: 296, 0.0: 285, 1.4714649695522901: 2, 4.679601739295622: 1095, 4.880703462778769: 229, 4.798652066911257: 3, 2.2421876796413533: 1, 1.9663246033810493: 70, 3.7009750153851884: 400, 5.343378954074357: 1, 4.781223264342979: 23, 4.320360262740549: 68, 1.54605900856135: 33, 4.420911124482123: 78, 1.2356513812038235: 10, 4.146733419845944: 22, 4.758375122289965: 17, 2.2466621988715536: 5, 2.7107616372560788: 1, 1.4356823520635311: 56, 3.9742913014371575: 1, 5.520198593549546: 13, 1.0166363220583567: 31, 4.804071406395995: 144, 4.968231887905918: 91, 8.0: 183, 5.558514621740934: 79, 1.591627582586975: 1, 4.104958968599724: 4, 2.522315546870888: 1, 0.6649303129841049: 1, 1.1699004348239055: 18, 4.59596797473642: 49, 2.399987206382084: 7, 3.945631696362797: 52, 4.776570059239733: 5, 4.813321139333025: 7, 4.82824308606016: 13, 4.337894176946296: 1, 2.3988533119370614: 2, 5.282730808752391: 24, 5.588150513127054: 1, 4.898111049830356: 24, 0.970940037952327: 21, 4.649959471539706: 3, 1.1938192401827046: 3, 5.096568417404058: 2, 4.158383538875576: 2, 4.276624895064424: 3, 5.509701304471717: 21, 2.4347414857402763: 2, 4.321790270100241: 101, 5.497350451496532: 6, 5.673295971190262: 5, 6.4500977388153276: 46, 3.9572818153924283: 4, 4.038628687185034: 6, 4.980344654914577: 1, 4.237044935046829: 4, 1.458530583434201: 3, 5.639132025781397: 2, 3.5423711413893857: 4, 1.5083181610291785: 2, 2.7298404381649117: 3, 4.470810095621114: 9, 4.650270389629055: 4, 2.6446438873596927: 8, 4.333440389129873: 2, 4.852414765724326: 8, 5.598823323761165: 10, 4.298492578902486: 8, 1.093268378441131: 5, 0.7695766225901819: 1, 2.4913797745941437: 4, 4.155931329229931: 1, 6.113006474921157: 20, 2.622820772608998: 13, 5.056166953340956: 4, 5.589253885877774: 4, 4.716600671043745: 5, 3.5755362820967305: 6, 4.350530182906492: 3, 4.775731261538891: 14, 4.04618255810437: 10, 1.5849502174119527: 1, 6.3734656824325535: 10, 4.197072679553483: 6, 4.475213539374757: 10, 1.3579797216926277: 4, 3.8650672454756796: 2, 3.8689996399800224: 15, 4.924125562337768: 1, 4.765486926203912: 5, 6.044607815411316: 10, 4.234261844973092: 16, 2.7103948337396107: 3, 0.8307407928345839: 4, 2.3124131452514716: 4, 3.929902118345426: 3, 4.146689394597776: 1, 2.487326557318747: 1, 3.0596936699477397: 1, 2.823880081599273: 1, 3.4747434525357868: 2, 5.508774522523039: 10, 4.675756779199942: 1, 4.224254321763385: 2, 3.7996872071156793: 1, 3.5487543451300168: 1, 0.7032463411754921: 1, 5.010830163308527: 5, 0.7312605943987946: 2, 4.3641244753041235: 10, 1.3710021583070524: 10, 4.312016929679981: 6, 3.8381858960691453: 1, 3.8257679883871702: 1, 4.721051099153833: 1, 5.865147521403375: 7, 4.0029509065115185: 2, 4.133710983231519: 13, 5.543285439625069: 1, 4.508439549609271: 9, 3.6841115429227953: 2, 2.0: 9, 1.5683429148929107: 5, 3.803619601620022: 4, 2.618287261847705: 3, 1.1654259155937048: 3, 6.327769398326524: 9, 3.8473838141835963: 2, 0.641850512142414: 1, 5.481882565358159: 19, 2.4477639223547007: 11, 5.606965689775572: 4, 3.6869758832119195: 2, 4.822938470455745: 1, 2.7560911178456404: 2, 2.8457456108428394: 4, 2.572590977741675: 1, 4.735410045328597: 2, 6.110938096826006: 14, 4.295753245366816: 5, 5.219354979751612: 2, 2.8497912683283233: 3, 1.0475720943351012: 6, 2.422551874823843: 2, 5.04990896617507: 4, 4.954853673760187: 4, 5.153024698336923: 1, 2.9332740359699883: 3, 3.8611348509713372: 1, 5.443142626121403: 2, 3.8591683931770926: 4, 3.0767617640476486: 5, 3.483009819439648: 1, 2.3472130606131274: 3, 4.99692722526825: 4, 4.087649813707242: 4, 5.170541662482395: 1, 4.682738430668781: 2, 5.039584382987283: 2, 5.011596297690018: 2, 5.08171713576558: 4, 4.3064687885186945: 4, 5.954877668407345: 1, 6.346149814222303: 3, 1.1435438093119177: 2, 4.910223816839015: 5, 3.8840042085410427: 2, 4.541543820789447: 6, 4.092053257460885: 3, 2.2455891991715125: 3, 1.2440506458053233: 1, 4.796738568979353: 5, 6.242201889629279: 2, 3.7288003948622794: 3, 0.863616266024543: 1, 0.6877784550371198: 3, 4.089946770667945: 2, 5.404826597930015: 5, 4.418648533078132: 1, 3.699136345374106: 1, 4.198591179883852: 1, 3.6059051071509636: 1, 6.1413235333669345: 1, 6.219353747576265: 1, 2.5044625210363645: 1, 2.093398086106005: 4, 4.257992560907362: 1, 3.912592963452944: 5, 4.229921402230843: 1, 0.4915811508452623: 2, 2.0020055178939455: 1, 3.247772956816462: 1, 2.8327231742284145: 3, 6.0329078826166755: 2, 6.096458459864949: 1, 4.284586682236907: 1, 4.751042284873323: 3, 5.140956863838285: 4, 4.262704575955119: 3, 4.461232340692417: 3, 5.113150987757731: 1, 4.281910008548814: 2, 2.9830616135649652: 2, 3.848484675122007: 1, 1.2704512965654788: 2, 6.350617540379538: 1, 5.436186281252129: 8, 5.4677567559930145: 1, 0.64208217093109: 1, 6.400357639597433: 2, 4.909157389654157: 1, 0.898476783672587: 1, 6.2090367489219345: 1, 4.9247510870597635: 1, 4.198594680855094: 1, 6.18618860686892: 2, 1.1481229560766748: 3, 3.814871619642796: 1, 5.605836456231446: 1, 4.254280469094682: 1, 1.0092560661437142: 2, 5.459034423305145: 2, 5.4379841267942375: 1, 5.715764082164171: 3, 5.104211381067705: 1, 2.5352923474818496: 1, 4.267110107715183: 1, 4.260042324710752: 1, 6.077772956118661: 2, 5.89012727269078: 1, 5.186653147944316: 2, 5.204875342790555: 2, 4.6834355303364: 1, 2.133037651908543: 1, 5.427505395767631: 1, 6.119306601917964: 1, 4.1258461942228335: 1, 3.637688701518448: 2, 4.965900013583989: 2, 4.6219247974689335: 1, 5.98804280911469: 1, 4.0143155362953875: 1, 3.7274188485224187: 1, 3.586985525154628: 1, 2.483999518679501: 1, 4.31572811295034: 1, 4.508378680082102: 1, 2.445683490488114: 1, 4.06620118222596: 1, 3.8442253436351566: 1, 2.6685626927184916: 2, 1.2813476653098532: 1, 2.640169368129492: 1, 2.7889589616648403: 1, 4.7676248552269955: 1, 5.079985847050386: 1, 2.1166827538000694: 1, 3.7382395632600214: 1, 3.787482719705325: 1, 1.773029504280675: 1, 5.57597518170815: 1, 6.157906103720607: 1, 4.127648826081618: 1, 5.289171128699228: 1, 4.720621852701926: 1, 5.334036202201213: 1, 4.047037134427789: 1, 2.622866408612462: 2, 4.884985709989992: 1, 2.594473084023462: 1, 4.373648030138149: 1, 4.994719309485298: 1, 3.7307400957754937: 1, 3.773841689926766: 1, 4.749068712083471: 1, 3.571320413981132: 1, 2.8457015855946715: 1}\n",
      "../rcv_elections_database/single/SanFrancisco_11072006_BoardofSupervisorsDistrict8.csv\n"
     ]
    },
    {
     "name": "stderr",
     "output_type": "stream",
     "text": [
      "/Users/es5891/Documents/GitHub/bugs-in-democracy/rcv_exploration/../rcv_learning/rcv_dimensionality.py:188: RuntimeWarning: divide by zero encountered in divide\n",
      "  distance = 1 / np.sqrt(freq_upper_triangle)\n"
     ]
    },
    {
     "name": "stdout",
     "output_type": "stream",
     "text": [
      "Normalized distances: {'Bevan Dufty': 0.0, 'Alix Amelia Rosenthal': 0.8571621160837732, 'Starchild': 2.0}\n"
     ]
    },
    {
     "name": "stderr",
     "output_type": "stream",
     "text": [
      "/Users/es5891/Documents/GitHub/bugs-in-democracy/rcv_exploration/../rcv_learning/rcv_dimensionality.py:188: RuntimeWarning: divide by zero encountered in divide\n",
      "  distance = 1 / np.sqrt(freq_upper_triangle)\n"
     ]
    },
    {
     "name": "stdout",
     "output_type": "stream",
     "text": [
      "Consistency points: {2.0: 10661, 1.2142736774476417: 1871, 1.1428378839162268: 3367, 1.3571284129371701: 2185, 0.0: 590, 0.2857094709790567: 141, 0.3928547354895283: 404, 0.5: 112}\n",
      "../rcv_elections_database/single/Alaska_11082022_SenateDistrictA.csv\n"
     ]
    },
    {
     "name": "stderr",
     "output_type": "stream",
     "text": [
      "/Users/es5891/Documents/GitHub/bugs-in-democracy/rcv_exploration/../rcv_learning/rcv_dimensionality.py:188: RuntimeWarning: divide by zero encountered in divide\n",
      "  distance = 1 / np.sqrt(freq_upper_triangle)\n"
     ]
    },
    {
     "name": "stdout",
     "output_type": "stream",
     "text": [
      "Normalized distances: {'Stedman, Bert K.': 0.0, 'Sheldon, Mike': 1.0}\n"
     ]
    },
    {
     "name": "stderr",
     "output_type": "stream",
     "text": [
      "/Users/es5891/Documents/GitHub/bugs-in-democracy/rcv_exploration/../rcv_learning/rcv_dimensionality.py:188: RuntimeWarning: divide by zero encountered in divide\n",
      "  distance = 1 / np.sqrt(freq_upper_triangle)\n"
     ]
    },
    {
     "name": "stdout",
     "output_type": "stream",
     "text": [
      "Consistency points: {1.0: 6314, 0.0: 2455, 0.25: 1526}\n",
      "Error in file: ../rcv_elections_database/single/Alaska_11082022_SenateDistrictA.csv\n",
      "unsupported operand type(s) for -: 'float' and 'NoneType'\n",
      "../rcv_elections_database/single/Oakland_11062018_CityCouncilDistrict2.csv\n"
     ]
    },
    {
     "name": "stderr",
     "output_type": "stream",
     "text": [
      "/Users/es5891/Documents/GitHub/bugs-in-democracy/rcv_exploration/../rcv_learning/rcv_dimensionality.py:188: RuntimeWarning: divide by zero encountered in divide\n",
      "  distance = 1 / np.sqrt(freq_upper_triangle)\n"
     ]
    },
    {
     "name": "stdout",
     "output_type": "stream",
     "text": [
      "Normalized distances: {'KENZIE DONTE SMITH': 0.0, 'NIKKI FORTUNATO BAS': 1.1984956241452378, 'ABEL GUILLÉN': 2.0}\n"
     ]
    },
    {
     "name": "stderr",
     "output_type": "stream",
     "text": [
      "/Users/es5891/Documents/GitHub/bugs-in-democracy/rcv_exploration/../rcv_learning/rcv_dimensionality.py:188: RuntimeWarning: divide by zero encountered in divide\n",
      "  distance = 1 / np.sqrt(freq_upper_triangle)\n"
     ]
    },
    {
     "name": "stdout",
     "output_type": "stream",
     "text": [
      "Consistency points: {0.35018804698184536: 2351, 0.20037609396369066: 1586, 0.5: 270, 2.0: 375, 0.0: 3265, 0.8015043758547626: 3267, 1.101128281891072: 1483, 1.0009402349092267: 1983}\n",
      "../rcv_elections_database/single/NewYorkCity_06222021_DEMCouncilMember14thCouncilDistrict.csv\n"
     ]
    },
    {
     "name": "stderr",
     "output_type": "stream",
     "text": [
      "/Users/es5891/Documents/GitHub/bugs-in-democracy/rcv_exploration/../rcv_learning/rcv_dimensionality.py:188: RuntimeWarning: divide by zero encountered in divide\n",
      "  distance = 1 / np.sqrt(freq_upper_triangle)\n"
     ]
    },
    {
     "name": "stdout",
     "output_type": "stream",
     "text": [
      "Normalized distances: {'Haile Rivera': 0.0, 'Yudelka Tapia': 1.1437675086301233, 'Pierina Ana Sanchez': 1.806227518308191, 'Fernando A. Aquino': 2.7418274244404417, 'Adolfo Abreu': 3.1001045539644476, 'Socrates S. Solano': 5.0}\n"
     ]
    },
    {
     "name": "stderr",
     "output_type": "stream",
     "text": [
      "/Users/es5891/Documents/GitHub/bugs-in-democracy/rcv_exploration/../rcv_learning/rcv_dimensionality.py:188: RuntimeWarning: divide by zero encountered in divide\n",
      "  distance = 1 / np.sqrt(freq_upper_triangle)\n"
     ]
    },
    {
     "name": "stdout",
     "output_type": "stream",
     "text": [
      "Consistency points: {1.982525267893454: 1177, 2.2619200894112024: 166, 2.507502374505907: 28, 2.537628176158264: 606, 2.635130010286362: 27, 2.128751755495278: 7, 1.514080483227516: 11, 2.67824727060981: 51, 3.1001045539644476: 529, 1.171669007327038: 366, 2.1605630568404: 39, 0.4956313169733635: 39, 0.634407044039566: 30, 2.0141044309245206: 13, 2.1213009949596566: 211, 2.0199439623888544: 58, 0.8728156584866817: 2, 2.1916105421854293: 39, 1.5131587995348446: 29, 0.0: 315, 2.6088594070767086: 32, 1.8734853364729749: 23, 2.027838753146621: 23, 2.208536133145514: 11, 1.3743830724686419: 30, 5.0: 69, 0.6353287277322377: 7, 2.836017610098915: 5, 2.762757646066817: 7, 2.7571324403543627: 3, 0.6001739541193513: 1, 0.7750261384911119: 19, 1.4901769665648334: 7, 3.5750784154733357: 8, 2.558180890791308: 19, 0.46366214793566274: 4, 1.4437709360017432: 13, 0.5581886542371601: 2, 0.5828664551592206: 1, 2.041010734809244: 14, 0.8234600566425611: 4, 0.6595456868079623: 2, 2.1409320259000286: 19, 2.0677027129420886: 7, 1.3705416230438034: 4, 2.4994070201656466: 13, 2.18162982926079: 12, 2.6614006134960153: 2, 2.062077507229634: 5, 1.3484516682176002: 7, 2.3491552275970595: 4, 2.7368939509200905: 15, 1.9467146494309147: 8, 3.153221132118698: 11, 1.5604865137906063: 2, 2.235228111278358: 32, 1.012513069245556: 4, 3.2607946591857195: 1, 1.6537778939863903: 21, 0.5234947224706097: 2, 1.4308052338762223: 5, 1.4078234009062114: 4, 0.2929172518317595: 12, 0.5339716951614357: 4, 1.5834683467606174: 4, 2.0897926677682914: 7, 1.8912648247408343: 1, 0.9422035220197831: 5, 1.25: 2, 1.5382974423032407: 6, 0.704716591265339: 6, 1.6298743773237077: 2, 2.434273061547967: 2, 2.1619987983204183: 5, 1.3667001736189648: 2, 1.5465991279724138: 2, 3.18756534622778: 1, 3.3340239721436595: 1, 2.361043748590027: 5, 1.4671951335948223: 2, 0.5650191805064648: 4, 1.2279244465527621: 7, 2.5820997329910695: 4, 0.3942742844025615: 5, 0.4465456029755554: 1, 2.6834567655618713: 1, 0.5059173356641664: 1, 1.8209552775150615: 2, 1.4789257096146295: 1, 0.7189174194965733: 1}\n",
      "../rcv_elections_database/single/NewYorkCity_06222021_DEMCouncilMember5thCouncilDistrict.csv\n"
     ]
    },
    {
     "name": "stderr",
     "output_type": "stream",
     "text": [
      "/Users/es5891/Documents/GitHub/bugs-in-democracy/rcv_exploration/../rcv_learning/rcv_dimensionality.py:188: RuntimeWarning: divide by zero encountered in divide\n",
      "  distance = 1 / np.sqrt(freq_upper_triangle)\n"
     ]
    },
    {
     "name": "stdout",
     "output_type": "stream",
     "text": [
      "Normalized distances: {'Billy Freeland': 0.0, 'Rebecca N. Lamorte': 0.9301264813613196, 'Kim Moscaritolo': 1.9778372589503888, 'Julie Menin': 2.398612171920613, 'Tricia M. Shimamura': 2.8238050817339664, 'Christopher  A. Sosa': 4.403742988226719, 'Marco A. Tamayo': 6.0}\n"
     ]
    },
    {
     "name": "stderr",
     "output_type": "stream",
     "text": [
      "/Users/es5891/Documents/GitHub/bugs-in-democracy/rcv_exploration/../rcv_learning/rcv_dimensionality.py:188: RuntimeWarning: divide by zero encountered in divide\n",
      "  distance = 1 / np.sqrt(freq_upper_triangle)\n"
     ]
    },
    {
     "name": "stdout",
     "output_type": "stream",
     "text": [
      "Consistency points: {0.9301264813613186: 648, 0.5417293824888694: 163, 2.1669175299554775: 3368, 2.1609364571420637: 1459, 0.6329288875691672: 6, 2.1624317253454173: 438, 3.1251881474666083: 136, 2.338802474233404: 273, 2.1849512272608105: 59, 0.7256236608528187: 6, 1.2385766094081816: 37, 2.8724005255074236: 573, 4.403742988226719: 451, 0.0: 628, 1.2378289753065048: 115, 6.0: 184, 4.522456424784457: 3, 2.7216380899132275: 70, 2.068685417090646: 71, 0.3871305014145995: 30, 1.1009357470566798: 49, 0.7747590583690569: 2, 3.2552361411872477: 18, 0.820584930671098: 19, 0.5402341142855159: 100, 1.3275096179538517: 23, 2.197594861020989: 10, 4.528647025839564: 3, 2.343288278843464: 278, 0.3867566843637612: 6, 2.7261238945232877: 94, 1.2393242435098584: 92, 0.23253162034032965: 104, 2.188689397769194: 60, 0.4566574799347375: 6, 0.5409817483871926: 33, 1.7985306080776688: 34, 1.4731015534917227: 4, 4.445904618348999: 1, 0.6299147569328627: 53, 1.3885472284333427: 2, 0.9095179392167678: 7, 2.0724235875990296: 41, 1.2908097448554496: 10, 2.925656020994948: 13, 0.6291671228311859: 25, 1.3804067802080713: 8, 0.7181001313768559: 39, 1.6071128002377568: 13, 2.4248926986894315: 2, 1.5: 19, 0.40880302797475954: 8, 1.020117057142758: 4, 1.2429552928954717: 5, 3.654300394130568: 15, 2.2607748161000383: 7, 4.80280724117004: 38, 2.455259203278853: 19, 0.8213325647727746: 14, 1.0208646912444346: 10, 1.4156949923978448: 64, 2.126818322175728: 18, 1.12156316513634: 25, 0.3863828673129228: 32, 0.4308493715857578: 5, 0.8253897240886487: 4, 2.196906026272124: 31, 4.522830241835296: 2, 2.694826857656636: 2, 3.1207023428565477: 30, 2.954318980583902: 2, 1.326761983852175: 36, 2.257597371167912: 20, 1.241139768202665: 5, 1.1230584333396936: 21, 0.5850744356091893: 7, 2.4515210327704695: 7, 2.89618607549882: 7, 1.1804437043230993: 3, 2.3251266354536018: 13, 1.706878863473587: 1, 0.6807833395291452: 7, 1.3305237485901562: 15, 1.998062734549329: 5, 4.566922929057292: 2, 1.2826692966301783: 17, 4.499580573297022: 2, 2.311991241976812: 2, 0.9210986280086046: 2, 0.43122318863659614: 4, 1.5165302139067676: 1, 1.5189274257937635: 6, 1.518179791692087: 18, 0.6828119191870823: 4, 2.3951617535019367: 5, 4.455300977549607: 5, 4.611389433330127: 6, 4.387771713263917: 2, 3.0124518856689844: 5, 1.3386641968154276: 4, 1.3406927764733647: 1, 1.4224708877721308: 6, 4.528460117314144: 1, 4.310472272726782: 3, 2.3750096670715166: 2, 2.1305564926841116: 11, 2.3284909889111467: 4, 0.7805494027649753: 3, 2.921170216384888: 11, 2.3992737410611586: 2, 4.460930853028454: 3, 2.51905756825005: 2, 4.523204058886134: 3, 2.5151324892162474: 1, 0.824642089986972: 2, 4.368605177811864: 2, 1.390042496636696: 1, 1.5222369510079607: 1, 1.30046787352834: 4, 1.0092840024525978: 1, 1.5229845851096377: 2, 0.7755066924707337: 1, 1.338877251780558: 1, 2.250340319873003: 3, 1.3783782005501342: 2, 3.4547682676589075: 2, 2.308626888519267: 1, 4.4993936647716035: 1, 4.489997305570996: 1, 2.378374020529062: 1, 4.252339367641699: 3, 4.445530801298161: 1, 4.567109837582712: 2, 4.416464348755619: 1, 2.2467890578900387: 3, 1.2923050130588032: 2, 2.691462504199091: 1, 1.244450561098825: 1, 1.472353919390046: 2, 1.3401594650187811: 2, 1.6162962771425975: 2, 0.7306663711470602: 1, 2.200457288255088: 3, 1.109050065688428: 2, 3.29525032844214: 1, 1.5664132455246826: 1}\n",
      "../rcv_elections_database/single/Alaska_11082022_SenateDistrictC.csv\n"
     ]
    },
    {
     "name": "stderr",
     "output_type": "stream",
     "text": [
      "/Users/es5891/Documents/GitHub/bugs-in-democracy/rcv_exploration/../rcv_learning/rcv_dimensionality.py:188: RuntimeWarning: divide by zero encountered in divide\n",
      "  distance = 1 / np.sqrt(freq_upper_triangle)\n"
     ]
    },
    {
     "name": "stdout",
     "output_type": "stream",
     "text": [
      "Normalized distances: {'Jones, Walter H.': 0.0, 'Smith, Heath': 0.9056927651824556, 'Stevens, Gary': 2.0}\n"
     ]
    },
    {
     "name": "stderr",
     "output_type": "stream",
     "text": [
      "/Users/es5891/Documents/GitHub/bugs-in-democracy/rcv_exploration/../rcv_learning/rcv_dimensionality.py:188: RuntimeWarning: divide by zero encountered in divide\n",
      "  distance = 1 / np.sqrt(freq_upper_triangle)\n"
     ]
    },
    {
     "name": "stdout",
     "output_type": "stream",
     "text": [
      "Consistency points: {2.0: 5150, 1.0660579782390347: 620, 0.0: 666, 0.9056927651824555: 2019, 1.1792695738868417: 454, 0.22642319129561386: 368, 0.3632115956478069: 352, 0.5: 76}\n",
      "../rcv_elections_database/single/PierceCounty_11032009_CountyAuditor.csv\n"
     ]
    },
    {
     "name": "stderr",
     "output_type": "stream",
     "text": [
      "/Users/es5891/Documents/GitHub/bugs-in-democracy/rcv_exploration/../rcv_learning/rcv_dimensionality.py:188: RuntimeWarning: divide by zero encountered in divide\n",
      "  distance = 1 / np.sqrt(freq_upper_triangle)\n"
     ]
    },
    {
     "name": "stdout",
     "output_type": "stream",
     "text": [
      "Normalized distances: {'Will Baker': 0.0, 'Jan Shabro': 1.1888136608072601, 'Julie Anderson': 2.0}\n"
     ]
    },
    {
     "name": "stderr",
     "output_type": "stream",
     "text": [
      "/Users/es5891/Documents/GitHub/bugs-in-democracy/rcv_exploration/../rcv_learning/rcv_dimensionality.py:188: RuntimeWarning: divide by zero encountered in divide\n",
      "  distance = 1 / np.sqrt(freq_upper_triangle)\n"
     ]
    },
    {
     "name": "stdout",
     "output_type": "stream",
     "text": [
      "Consistency points: {0.3513982923990925: 26123, 2.0: 3789, 0.8111863391927399: 21438, 0.0: 23619, 0.20279658479818496: 11872, 1.0069914619954625: 6356, 1.108389754394555: 935, 0.5: 3137}\n",
      "../rcv_elections_database/single/SanLeandro_11042014_CountyCouncilDistrict5.csv\n"
     ]
    },
    {
     "name": "stderr",
     "output_type": "stream",
     "text": [
      "/Users/es5891/Documents/GitHub/bugs-in-democracy/rcv_exploration/../rcv_learning/rcv_dimensionality.py:188: RuntimeWarning: divide by zero encountered in divide\n",
      "  distance = 1 / np.sqrt(freq_upper_triangle)\n"
     ]
    },
    {
     "name": "stdout",
     "output_type": "stream",
     "text": [
      "Normalized distances: {'CORINA LOPEZ': 0.0, 'MIA OUSLEY': 1.017359948639628, 'LEAH HALL': 2.0}\n"
     ]
    },
    {
     "name": "stderr",
     "output_type": "stream",
     "text": [
      "/Users/es5891/Documents/GitHub/bugs-in-democracy/rcv_exploration/../rcv_learning/rcv_dimensionality.py:188: RuntimeWarning: divide by zero encountered in divide\n",
      "  distance = 1 / np.sqrt(freq_upper_triangle)\n"
     ]
    },
    {
     "name": "stdout",
     "output_type": "stream",
     "text": [
      "Consistency points: {0.3771699935799535: 2677, 1.1358499678997678: 843, 0.2543399871599071: 401, 2.0: 988, 0.0: 2511, 0.5: 374, 1.0173599486396283: 789, 1.2630199614797213: 237}\n",
      "../rcv_elections_database/single/Minneapolis_11022021_CityCouncilWard12.csv\n"
     ]
    },
    {
     "name": "stderr",
     "output_type": "stream",
     "text": [
      "/Users/es5891/Documents/GitHub/bugs-in-democracy/rcv_exploration/../rcv_learning/rcv_dimensionality.py:188: RuntimeWarning: divide by zero encountered in divide\n",
      "  distance = 1 / np.sqrt(freq_upper_triangle)\n"
     ]
    },
    {
     "name": "stdout",
     "output_type": "stream",
     "text": [
      "Normalized distances: {'Nancy Ford': 0.0, 'Andrew Johnson': 0.9693214043631534, 'David Rosenfeld': 2.0}\n"
     ]
    },
    {
     "name": "stderr",
     "output_type": "stream",
     "text": [
      "/Users/es5891/Documents/GitHub/bugs-in-democracy/rcv_exploration/../rcv_learning/rcv_dimensionality.py:188: RuntimeWarning: divide by zero encountered in divide\n",
      "  distance = 1 / np.sqrt(freq_upper_triangle)\n"
     ]
    },
    {
     "name": "stdout",
     "output_type": "stream",
     "text": [
      "Consistency points: {0.0: 2470, 0.9693214043631537: 6183, 1.2269910532723654: 904, 0.24233035109078843: 1141, 2.0: 209, 1.1058258777269712: 647, 0.5: 203, 0.3711651755453942: 521}\n",
      "../rcv_elections_database/single/Minneapolis_11022021_CityCouncilWard7.csv\n"
     ]
    },
    {
     "name": "stderr",
     "output_type": "stream",
     "text": [
      "/Users/es5891/Documents/GitHub/bugs-in-democracy/rcv_exploration/../rcv_learning/rcv_dimensionality.py:188: RuntimeWarning: divide by zero encountered in divide\n",
      "  distance = 1 / np.sqrt(freq_upper_triangle)\n"
     ]
    },
    {
     "name": "stdout",
     "output_type": "stream",
     "text": [
      "Normalized distances: {'Joanna Diaz': 0.0, 'Lisa Goodman': 1.1296120767984401, 'Nick Kor': 2.05660346890405, 'Teqen Zéa-Aida': 3.0}\n"
     ]
    },
    {
     "name": "stderr",
     "output_type": "stream",
     "text": [
      "/Users/es5891/Documents/GitHub/bugs-in-democracy/rcv_exploration/../rcv_learning/rcv_dimensionality.py:188: RuntimeWarning: divide by zero encountered in divide\n",
      "  distance = 1 / np.sqrt(freq_upper_triangle)\n"
     ]
    },
    {
     "name": "stdout",
     "output_type": "stream",
     "text": [
      "Consistency points: {1.12961207679844: 4883, 1.59720905759883: 351, 2.176578677664836: 210, 1.2201584152250373: 283, 2.0566034689040498: 936, 1.3613599248248422: 407, 3.0: 162, 1.4792844912118361: 209, 0.28240301919961: 61, 2.035377168065031: 397, 2.292452601678037: 643, 0.0: 100, 0.6320754336130062: 45, 0.5141508672260124: 20, 0.3982769432128112: 37, 0.75: 28, 0.5162015095998049: 45}\n",
      "../rcv_elections_database/single/NewYorkCity_06222021_DEMCouncilMember2ndCouncilDistrict.csv\n"
     ]
    },
    {
     "name": "stderr",
     "output_type": "stream",
     "text": [
      "/Users/es5891/Documents/GitHub/bugs-in-democracy/rcv_exploration/../rcv_learning/rcv_dimensionality.py:188: RuntimeWarning: divide by zero encountered in divide\n",
      "  distance = 1 / np.sqrt(freq_upper_triangle)\n"
     ]
    },
    {
     "name": "stdout",
     "output_type": "stream",
     "text": [
      "Normalized distances: {'Carlina Rivera': 0.0, 'Erin Hussein': 1.0}\n"
     ]
    },
    {
     "name": "stderr",
     "output_type": "stream",
     "text": [
      "/Users/es5891/Documents/GitHub/bugs-in-democracy/rcv_exploration/../rcv_learning/rcv_dimensionality.py:188: RuntimeWarning: divide by zero encountered in divide\n",
      "  distance = 1 / np.sqrt(freq_upper_triangle)\n"
     ]
    },
    {
     "name": "stdout",
     "output_type": "stream",
     "text": [
      "Consistency points: {0.0: 3244, 0.25: 2489, 1.0: 10109}\n",
      "Error in file: ../rcv_elections_database/single/NewYorkCity_06222021_DEMCouncilMember2ndCouncilDistrict.csv\n",
      "unsupported operand type(s) for -: 'float' and 'NoneType'\n",
      "../rcv_elections_database/single/Oakland_11062018_SchoolDirectorDistrict4.csv\n"
     ]
    },
    {
     "name": "stderr",
     "output_type": "stream",
     "text": [
      "/Users/es5891/Documents/GitHub/bugs-in-democracy/rcv_exploration/../rcv_learning/rcv_dimensionality.py:188: RuntimeWarning: divide by zero encountered in divide\n",
      "  distance = 1 / np.sqrt(freq_upper_triangle)\n"
     ]
    },
    {
     "name": "stdout",
     "output_type": "stream",
     "text": [
      "Normalized distances: {'CLARISSA DOUTHERD': 0.0, 'GARY D. YEE': 1.0}\n"
     ]
    },
    {
     "name": "stderr",
     "output_type": "stream",
     "text": [
      "/Users/es5891/Documents/GitHub/bugs-in-democracy/rcv_exploration/../rcv_learning/rcv_dimensionality.py:188: RuntimeWarning: divide by zero encountered in divide\n",
      "  distance = 1 / np.sqrt(freq_upper_triangle)\n"
     ]
    },
    {
     "name": "stdout",
     "output_type": "stream",
     "text": [
      "Consistency points: {0.0: 8241, 1.0: 6249, 0.25: 6304}\n",
      "Error in file: ../rcv_elections_database/single/Oakland_11062018_SchoolDirectorDistrict4.csv\n",
      "unsupported operand type(s) for -: 'float' and 'NoneType'\n",
      "../rcv_elections_database/single/Oakland_11062012_SchoolDirectorDistrict3.csv\n"
     ]
    },
    {
     "name": "stderr",
     "output_type": "stream",
     "text": [
      "/Users/es5891/Documents/GitHub/bugs-in-democracy/rcv_exploration/../rcv_learning/rcv_dimensionality.py:188: RuntimeWarning: divide by zero encountered in divide\n",
      "  distance = 1 / np.sqrt(freq_upper_triangle)\n"
     ]
    },
    {
     "name": "stdout",
     "output_type": "stream",
     "text": [
      "Normalized distances: {'JUMOKE HINTON HODGE': 0.0, 'RICHARD FUENTES': 1.0020766043524332, 'BENJAMIN LANG': 2.0}\n"
     ]
    },
    {
     "name": "stderr",
     "output_type": "stream",
     "text": [
      "/Users/es5891/Documents/GitHub/bugs-in-democracy/rcv_exploration/../rcv_learning/rcv_dimensionality.py:188: RuntimeWarning: divide by zero encountered in divide\n",
      "  distance = 1 / np.sqrt(freq_upper_triangle)\n"
     ]
    },
    {
     "name": "stdout",
     "output_type": "stream",
     "text": [
      "Consistency points: {1.126297877720271: 1346, 2.0: 1367, 0.0: 3571, 0.3752595755440542: 2316, 0.2505191510881084: 914, 1.0020766043524336: 1809, 1.2515574532643252: 559, 0.5: 789}\n",
      "../rcv_elections_database/single/Alaska_11082022_HouseDistrict2.csv\n"
     ]
    },
    {
     "name": "stderr",
     "output_type": "stream",
     "text": [
      "/Users/es5891/Documents/GitHub/bugs-in-democracy/rcv_exploration/../rcv_learning/rcv_dimensionality.py:188: RuntimeWarning: divide by zero encountered in divide\n",
      "  distance = 1 / np.sqrt(freq_upper_triangle)\n"
     ]
    },
    {
     "name": "stdout",
     "output_type": "stream",
     "text": [
      "Normalized distances: {'Skaflestad, Kenny': 0.0, 'Himschoot, Rebecca': 1.0}\n"
     ]
    },
    {
     "name": "stderr",
     "output_type": "stream",
     "text": [
      "/Users/es5891/Documents/GitHub/bugs-in-democracy/rcv_exploration/../rcv_learning/rcv_dimensionality.py:188: RuntimeWarning: divide by zero encountered in divide\n",
      "  distance = 1 / np.sqrt(freq_upper_triangle)\n"
     ]
    },
    {
     "name": "stdout",
     "output_type": "stream",
     "text": [
      "Consistency points: {1.0: 3187, 0.25: 624, 0.0: 2329}\n",
      "../rcv_elections_database/single/Alaska_11082022_HouseDistrict3.csv\n",
      "Error in file: ../rcv_elections_database/single/Alaska_11082022_HouseDistrict3.csv\n",
      "zero-size array to reduction operation minimum which has no identity\n",
      "../rcv_elections_database/single/SanLeandro_11032020_MemberCityCouncilDist4SanLeandroRCV.csv\n"
     ]
    },
    {
     "name": "stderr",
     "output_type": "stream",
     "text": [
      "/Users/es5891/Documents/GitHub/bugs-in-democracy/rcv_exploration/../rcv_learning/rcv_dimensionality.py:188: RuntimeWarning: divide by zero encountered in divide\n",
      "  distance = 1 / np.sqrt(freq_upper_triangle)\n"
     ]
    },
    {
     "name": "stdout",
     "output_type": "stream",
     "text": [
      "Normalized distances: {'FRED SIMON': 0.0, 'CHRISTOPHER BAMMER': 1.0}\n"
     ]
    },
    {
     "name": "stderr",
     "output_type": "stream",
     "text": [
      "/Users/es5891/Documents/GitHub/bugs-in-democracy/rcv_exploration/../rcv_learning/rcv_dimensionality.py:188: RuntimeWarning: divide by zero encountered in divide\n",
      "  distance = 1 / np.sqrt(freq_upper_triangle)\n"
     ]
    },
    {
     "name": "stdout",
     "output_type": "stream",
     "text": [
      "Consistency points: {1.0: 8701, 0.0: 3522, 0.25: 6192}\n",
      "Error in file: ../rcv_elections_database/single/SanLeandro_11032020_MemberCityCouncilDist4SanLeandroRCV.csv\n",
      "unsupported operand type(s) for -: 'float' and 'NoneType'\n",
      "../rcv_elections_database/single/SanFrancisco_11062012_BoardofSupervisorsDistrict7.csv\n"
     ]
    },
    {
     "name": "stderr",
     "output_type": "stream",
     "text": [
      "/Users/es5891/Documents/GitHub/bugs-in-democracy/rcv_exploration/../rcv_learning/rcv_dimensionality.py:188: RuntimeWarning: divide by zero encountered in divide\n",
      "  distance = 1 / np.sqrt(freq_upper_triangle)\n"
     ]
    },
    {
     "name": "stdout",
     "output_type": "stream",
     "text": [
      "Normalized distances: {'GLENN ROGERS': 0.0, 'LYNN GAVIN': 2.720255450628373, 'JULIAN P. LAGOS': 4.372094109655858, 'NORMAN YEE': 4.880156358062937, 'ANDREW BLEY': 4.963615941914526, 'JOEL ENGARDIO': 6.013031118147834, 'ROBERT J. SQUERI': 6.521295123300089, 'MICHAEL GARCIA': 7.98251892629802, 'F. X. FRANCIS XAVIER CROWLEY': 8.0}\n"
     ]
    },
    {
     "name": "stderr",
     "output_type": "stream",
     "text": [
      "/Users/es5891/Documents/GitHub/bugs-in-democracy/rcv_exploration/../rcv_learning/rcv_dimensionality.py:188: RuntimeWarning: divide by zero encountered in divide\n",
      "  distance = 1 / np.sqrt(freq_upper_triangle)\n"
     ]
    },
    {
     "name": "stdout",
     "output_type": "stream",
     "text": [
      "Consistency points: {7.052574130285012: 382, 2.5661894557599414: 93, 5.03397533386692: 2319, 5.467008265636817: 90, 4.6371634478918065: 114, 7.077323541682635: 1377, 7.307992656261977: 335, 6.0142823550174285: 746, 6.510711766263071: 167, 3.739589418957133: 94, 6.12693767038831: 59, 3.1438760635667764: 9, 8.0: 1068, 6.7441008955216395: 45, 7.175112507928826: 477, 5.66014694311052: 393, 1.5035705887543571: 6, 5.810142379956868: 261, 5.5448123858208485: 619, 0.9500205987033576: 10, 3.8093075345302854: 11, 0.0: 73, 5.7641564929607645: 14, 7.149595011046255: 257, 4.318604423661544: 25, 5.386414740605128: 174, 1.0966955941030065: 15, 5.995706034676194: 45, 5.868118550263342: 16, 4.415625304422788: 7, 5.77548150040019: 203, 6.395377208973401: 264, 3.5042875228064316: 7, 5.411932237487698: 197, 6.226375149255534: 51, 4.3372433868482085: 8, 4.6241696657687505: 30, 0.9004191129564685: 20, 3.2801568060479296: 13, 6.890775890921288: 63, 3.1335344395397966: 21, 5.117253849790823: 53, 6.157504274039916: 302, 4.9155654690874835: 53, 2.5387657645892467: 27, 5.2535345922719765: 53, 4.282745156089637: 7, 3.553889008553321: 10, 6.338571902872369: 30, 1.5139123594436943: 11, 4.477494670369102: 52, 5.952112669443035: 8, 6.24227222767798: 85, 5.236339151057477: 114, 6.3576067849676505: 53, 5.066218856025683: 26, 4.160206778445823: 10, 5.228017095389407: 53, 5.477872585918854: 9, 4.013584411937691: 8, 4.5564773585950284: 15, 6.1079027882930275: 25, 3.8173079307911526: 19, 5.861177373722008: 28, 7.002972644538123: 85, 5.146234583666825: 44, 5.758926471885893: 36, 4.919543860626034: 28, 5.229657880296033: 13, 4.350762749921596: 4, 5.279052089154547: 148, 5.088805826123792: 10, 1.7517852943771786: 3, 3.535575332024894: 8, 5.980315303880177: 16, 5.631338987473042: 16, 2.763159271822915: 25, 3.4385544512636503: 17, 1.1592908619729516: 4, 1.047041479464601: 6, 6.28004265168373: 127, 3.6764273861971346: 8, 6.098787664842684: 18, 4.970578854391174: 38, 3.0564040048391803: 5, 5.247203471339514: 5, 6.079700153855885: 31, 4.649805172421182: 36, 4.530959861712458: 12, 1.2054391246803222: 6, 0.7882223593396342: 25, 5.400669872893701: 24, 3.693972977240615: 8, 3.924642091819956: 5, 1.4780530918717871: 9, 4.185724275328393: 13, 1.2192339717468201: 12, 3.7897789818374252: 5, 5.362538028629184: 12, 4.106574272268867: 14, 1.3521141200799711: 13, 1.0725589763471712: 13, 5.7145550072138755: 7, 5.528257357306551: 9, 4.833387300146828: 26, 1.3314307253636544: 20, 1.629246916733365: 5, 5.7214435548636935: 14, 1.7693308854206589: 7, 1.3059132284810842: 2, 4.722571425656729: 16, 1.5796454309864758: 4, 4.898227154932379: 9, 3.916510902284931: 15, 3.595737220314938: 12, 3.021337685922963: 8, 0.9348973547392833: 6, 4.9304081809080715: 3, 3.118358566684206: 1, 4.441142801305357: 21, 4.257227659207067: 6, 4.736366419385584: 33, 1.7262677974946086: 4, 4.667558040353038: 6, 4.98833172232303: 5, 1.4643108736968053: 10, 5.849031039276545: 18, 3.4965342488211597: 12, 5.204140383413463: 6, 1.4674486773696418: 11, 1.3555147142279735: 7, 4.689357506928179: 20, 2.859539446559239: 6, 1.6109332402049379: 4, 3.25607281718361: 14, 4.06318589768458: 15, 3.183135925286686: 9, 1.2088923477198408: 19, 4.80469206421785: 10, 3.1074389986043203: 9, 4.401797743686736: 10, 4.110605292698934: 4, 4.5740229496385085: 11, 1.0470941083561174: 7, 3.3889529655167614: 5, 1.3810322111105435: 5, 1.6364507370875079: 5, 3.840813975602565: 7, 3.3056743029304996: 9, 2.9717362001760734: 9, 3.428212680574313: 2, 4.308262652972207: 9, 3.9639829261908015: 3, 3.23055532030104: 5, 3.0839329537929077: 12, 5.114323323006363: 12, 4.955925677790642: 7, 3.561092828907464: 3, 4.671536431891589: 5, 2.862362243316693: 6, 4.9814431746732115: 7, 1.452535594989217: 6, 1.1937164748642501: 7, 1.25849383346673: 7, 2.0: 8, 0.6415473639399853: 3, 4.1361227895815045: 3, 4.818211427291238: 3, 1.8846654427103293: 6, 3.6509098893145646: 5}\n",
      "../rcv_elections_database/single/Minneapolis_11022021_CityCouncilWard6.csv\n"
     ]
    },
    {
     "name": "stderr",
     "output_type": "stream",
     "text": [
      "/Users/es5891/Documents/GitHub/bugs-in-democracy/rcv_exploration/../rcv_learning/rcv_dimensionality.py:188: RuntimeWarning: divide by zero encountered in divide\n",
      "  distance = 1 / np.sqrt(freq_upper_triangle)\n"
     ]
    },
    {
     "name": "stdout",
     "output_type": "stream",
     "text": [
      "Normalized distances: {'Jamal Osman': 0.0, 'A. Bihi': 1.0}\n"
     ]
    },
    {
     "name": "stderr",
     "output_type": "stream",
     "text": [
      "/Users/es5891/Documents/GitHub/bugs-in-democracy/rcv_exploration/../rcv_learning/rcv_dimensionality.py:188: RuntimeWarning: divide by zero encountered in divide\n",
      "  distance = 1 / np.sqrt(freq_upper_triangle)\n"
     ]
    },
    {
     "name": "stdout",
     "output_type": "stream",
     "text": [
      "Consistency points: {0.0: 2728, 1.0: 1867, 0.25: 1028}\n",
      "../rcv_elections_database/single/Minneapolis_11072017_Ward2CityCouncil.csv\n",
      "Error in file: ../rcv_elections_database/single/Minneapolis_11072017_Ward2CityCouncil.csv\n",
      "zero-size array to reduction operation minimum which has no identity\n",
      "../rcv_elections_database/single/Minneapolis_11022021_CityCouncilWard13.csv\n"
     ]
    },
    {
     "name": "stderr",
     "output_type": "stream",
     "text": [
      "/Users/es5891/Documents/GitHub/bugs-in-democracy/rcv_exploration/../rcv_learning/rcv_dimensionality.py:188: RuntimeWarning: divide by zero encountered in divide\n",
      "  distance = 1 / np.sqrt(freq_upper_triangle)\n"
     ]
    },
    {
     "name": "stdout",
     "output_type": "stream",
     "text": [
      "Normalized distances: {'Ken Salway': 0.0, 'Bob Reuer': 2.0389922513113734, 'Linea Palmisano': 2.8304648989754546, 'Mike Norton': 3.366602809477908, 'Kati Medford': 4.0}\n"
     ]
    },
    {
     "name": "stderr",
     "output_type": "stream",
     "text": [
      "/Users/es5891/Documents/GitHub/bugs-in-democracy/rcv_exploration/../rcv_learning/rcv_dimensionality.py:188: RuntimeWarning: divide by zero encountered in divide\n",
      "  distance = 1 / np.sqrt(freq_upper_triangle)\n"
     ]
    },
    {
     "name": "stdout",
     "output_type": "stream",
     "text": [
      "Consistency points: {2.8304648989754555: 6036, 2.9644993766010685: 2038, 3.04367402541633: 979, 3.366602809477908: 901, 0.0: 518, 3.5249521071084313: 563, 0.7076162247438639: 125, 2.610691264229137: 56, 2.2368604132273946: 54, 2.8655652956430586: 427, 2.0389922513113743: 97, 0.6086821437858537: 104, 0.5097480628278436: 212, 3.359000787337614: 80, 3.4579348682956246: 257, 2.3038776520402013: 23, 3.1228486742315917: 144, 0.7548740314139217: 106, 0.7746334635566705: 23, 0.6756993825986604: 64, 4.0: 72, 1.9819863818134729: 25, 3.0239145932735814: 42, 2.116020859439086: 10, 1.0: 7, 0.841650702369477: 16, 2.3708948908530076: 13, 2.3830523008554625: 9, 2.7690405618596596: 13, 2.274370157069609: 3, 2.4500695396682692: 7, 3.1041267559236925: 6, 2.529244188483531: 8, 0.9208253511847385: 2, 0.8538081123719319: 1}\n",
      "../rcv_elections_database/single/NewYorkCity_06222021_DEMCouncilMember26thCouncilDistrict.csv\n"
     ]
    },
    {
     "name": "stderr",
     "output_type": "stream",
     "text": [
      "/Users/es5891/Documents/GitHub/bugs-in-democracy/rcv_exploration/../rcv_learning/rcv_dimensionality.py:188: RuntimeWarning: divide by zero encountered in divide\n",
      "  distance = 1 / np.sqrt(freq_upper_triangle)\n"
     ]
    },
    {
     "name": "stdout",
     "output_type": "stream",
     "text": [
      "Normalized distances: {'Glennis E. Gomez': 0.0, 'Emily E. Sharpe': 1.3403035533736662, 'Julia L. Forman': 2.6062407396264398, 'Denise M. Keehan-Smith': 3.157126885987389, 'Ebony R. Young': 3.2417602203027043, \"Brent O'Leary\": 4.856962427252262, 'Hailie Kim': 5.418427781140073, 'Jonathan Bailey': 5.5000693205046565, 'Julie Won': 5.804468294349008, 'Amit S. Bagga': 6.218094533775601, 'Jesse Laymon': 6.5521222511328325, 'Steven B. Raga': 7.893340013611354, 'Badrun Khan': 8.305285189996235, 'Lorenzo Brea': 10.352807936357047, 'Sultan Al Maruf': 14.0}\n"
     ]
    },
    {
     "name": "stderr",
     "output_type": "stream",
     "text": [
      "/Users/es5891/Documents/GitHub/bugs-in-democracy/rcv_exploration/../rcv_learning/rcv_dimensionality.py:188: RuntimeWarning: divide by zero encountered in divide\n",
      "  distance = 1 / np.sqrt(freq_upper_triangle)\n"
     ]
    },
    {
     "name": "stdout",
     "output_type": "stream",
     "text": [
      "Consistency points: {4.835874067379796: 16, 4.679864309432213: 3, 4.086910715020043: 281, 6.1042315060237184: 522, 7.014519502620773: 24, 6.905746093782164: 321, 4.975206938376833: 1, 8.937488022850328: 246, 4.071489479275304: 100, 5.777127498939492: 392, 5.858903500710548: 107, 5.808199922907418: 3, 6.05928214765016: 14, 10.203116017137745: 104, 4.791619559710573: 19, 4.933832050565734: 6, 4.90560915863592: 395, 5.237331733575319: 1, 5.749963708172602: 21, 4.3404395071383615: 10, 2.737007224374717: 5, 5.529017028111003: 4, 6.878304145781016: 1, 5.103639075605741: 10, 4.5796749859624075: 80, 4.751565414042636: 1, 1.3474276012389013: 167, 4.398013765944766: 1, 6.371301663545327: 20, 8.153824157362834: 277, 5.270051287354862: 13, 5.6476264027206176: 13, 6.616629668858497: 37, 5.830212109094819: 3, 5.20526474548287: 38, 4.960870697747853: 2, 7.3656383265463266: 5, 5.76217725347619: 1, 9.745383492411937: 117, 6.686686485520242: 116, 6.304610152963329: 13, 5.8334852097210605: 1, 4.075344788211488: 4, 5.412552182838552: 1, 7.637657425798423: 1, 5.809058119113885: 1, 5.101963612796839: 1, 6.382354358689119: 1, 6.587541275372658: 2, 5.123488743711812: 35, 5.101025883493319: 80, 6.741451387585722: 4, 7.05347090348089: 3, 8.066903203816986: 1, 5.405643392422481: 44, 3.4469165740321603: 5, 2.9508845748481045: 1, 6.00451724558468: 10, 5.204464063254862: 6, 5.836449024051919: 3, 4.764237108677833: 2, 4.736854657645092: 10, 4.465840209954662: 4, 5.351827289125919: 17, 4.280019399115457: 6, 4.499721994277185: 1, 6.362536915514945: 7, 5.200878664763571: 1, 5.645698748252525: 15, 5.932369039121323: 3, 4.42880742967424: 1, 4.874069016664469: 1, 5.246593262976765: 1, 5.073875276389196: 2, 5.767683095852786: 2, 2.285827171802506: 5, 5.65581416760084: 2, 5.8985072493240605: 4, 5.646662575486571: 5, 5.482100979354807: 2, 4.4005251184619585: 2, 4.432459876632263: 1, 5.100999785562792: 9, 4.650542235355239: 1, 5.515371068703144: 86, 7.315723592863268: 5, 5.203470331507055: 2, 4.44918417048793: 3, 10.809037619308953: 1, 4.953784676232648: 2, 4.591240912770962: 25, 5.058049636152726: 11, 5.273901104900545: 1, 7.387122388598486: 1, 6.072241395613781: 1, 5.174748543860622: 1, 5.055685270582621: 1, 4.518802664384812: 1, 5.785280371325927: 3, 5.774390798779777: 21, 4.291585325924012: 18, 6.115552742079924: 19, 2.5366285774351054: 6, 7.413681576049205: 5, 4.413386282260579: 1, 4.509464910999905: 12, 3.244942706641758: 1, 5.174906239794515: 3, 7.217765609677332: 20, 5.113208091871349: 3, 6.5672176299172005: 8, 5.7843165440918805: 1, 0.3368569003097253: 13, 7.20003162706091: 11, 2.4489664554868735: 1, 5.710526687133174: 1, 5.118778539319525: 1, 6.249845250897849: 12, 6.83083623762035: 2, 1.22640228965898: 2, 5.489962982559462: 5, 5.264566068067147: 7, 5.234898665413649: 1, 7.615655443439607: 9, 5.092073148797186: 8, 5.238240479144003: 1, 8.183797235663446: 1, 5.796592494584777: 2, 0.0: 125, 6.992175583391226: 1, 5.648195421455959: 1, 5.299555041977614: 1, 3.0490267402698845: 7, 6.812545635230371: 17, 5.223135238598667: 2, 6.558452881886819: 2, 4.239167251207857: 2, 5.282823064885535: 1, 5.794242289403984: 6, 2.6822423223092366: 4, 14.0: 52, 2.9681729365514924: 1, 5.130541116722005: 1, 8.764568548506634: 1, 6.1749843408680665: 7, 5.7176629083176485: 22, 9.594866199190868: 5, 7.514668509744406: 1, 7.8328456242046185: 5, 7.06132715370394: 2, 6.045527582404656: 1, 7.44535963237408: 3, 2.236972990588156: 10, 5.337141210282724: 1, 4.5180169389702085: 1, 4.7267423928910235: 1, 4.760492050808242: 2, 5.160686290628284: 1, 6.553617109456478: 1, 5.913578874689522: 8, 5.224099065832713: 1, 6.967748492784051: 3, 6.248928514167523: 1, 8.291277341017139: 1, 5.7913124931266555: 4, 4.712602132716707: 1, 5.811176945401541: 1, 5.0348189842609345: 3, 4.550352911885433: 5, 8.078173629517789: 6, 4.664047785208027: 1, 4.769846688360008: 1, 8.093541042317318: 1, 6.668204563612402: 1, 5.14135923682761: 1, 6.2037310816905835: 1, 6.278373809060354: 1, 6.723065680526336: 1, 4.248805523548319: 1, 6.769191497307603: 7, 2.0322983796841867: 11, 2.282535824091554: 2, 5.73611101349617: 3, 4.510570700929176: 1, 8.29551490970772: 3, 5.931710373147614: 4, 5.907160610894252: 1, 9.13946189024073: 4, 5.6236452032999775: 2, 5.826183946931005: 19, 5.829730195477796: 1, 5.090769189932269: 3, 5.698313141829586: 3, 4.91681793088864: 1, 5.744920573005602: 1, 5.613462227313695: 2, 5.214714810581564: 2, 5.350878490357: 11, 5.627714724228938: 3, 5.307901399958428: 1, 5.87724047687864: 1, 4.538786985076879: 4, 5.710044773516151: 1, 9.254358464436317: 1, 7.966494665645542: 1, 4.842929387913041: 2, 5.721230022412807: 1, 6.364464569983038: 5, 5.859551585961486: 1, 5.561653150370065: 2, 5.777937047326568: 4, 6.200744923702215: 1, 5.37826094138974: 2, 5.778418960943591: 1, 6.292191306185517: 1, 4.853049573870527: 1, 6.215479010095029: 1, 5.555738278804101: 1, 5.855796435457815: 2, 1.378842767175786: 5, 5.565820805443538: 2, 1.6999550707613094: 1, 6.176729478855856: 1, 5.621698177147759: 10, 7.059399499235847: 1, 7.026752203992223: 1, 8.659904122821104: 2, 6.779185671277334: 1, 5.767201182235763: 1, 5.995752497554298: 2, 5.0340213740355395: 1, 7.151428886666826: 1, 5.7600791275209176: 1, 6.010148514062022: 1, 5.451554622325448: 1, 5.773066826022339: 4, 4.497898984191351: 7, 5.772102998788292: 1, 4.4151162041578695: 1, 5.291762843436305: 1, 5.7353930504703525: 2, 5.727602110151728: 1, 5.760598067251203: 5, 6.328826732737956: 1, 6.029966818303947: 1, 4.920246866625416: 3, 5.736592927113193: 1, 7.253053190983969: 1, 5.893714747844553: 2, 2.6429998654290205: 2, 5.828711091186039: 2, 4.7800536329020185: 3, 5.185162436193364: 1, 7.076688285321998: 2, 9.72355824971812: 4, 5.068303291682493: 1, 7.2633010210943425: 1, 4.494313168588327: 1, 5.733215616218462: 1, 5.183215263917657: 1, 4.847439994188351: 5, 4.316012416531187: 2, 5.2780716179199345: 1, 6.5463928718332305: 1, 5.046384911069489: 4, 5.219162731251248: 1, 5.843221280996952: 3, 4.588631471151189: 1, 2.792827658852495: 4, 1.1989788809187325: 1, 4.954463339850269: 7, 2.4363458731029843: 1, 4.444025803440818: 9, 5.991592131887742: 1, 5.021151438259828: 6, 9.615368118022126: 3, 4.592063600653379: 2, 5.719062365445485: 1, 5.184966994076368: 1, 2.0384560393407085: 8, 5.104461763488159: 3, 2.4548525756640487: 9, 1.2002852229653982: 1, 1.7131003072842834: 1, 5.485562957280173: 1, 2.6905930219192973: 1, 5.580810176262231: 9, 1.3882709585239832: 1, 8.55171399112511: 3, 2.3131932293465587: 2, 4.761203686383098: 2, 1.5025449835757607: 1, 1.708649403258247: 1, 5.302583992486879: 1, 1.0217276787550107: 4, 5.043056558258693: 3, 4.225990818267587: 3, 2.6735763464785567: 1, 1.5300918590478596: 3, 5.79408237467276: 1, 5.140143428682447: 1, 2.2711008642168222: 1, 5.321664894348002: 1, 5.214471406332244: 1, 5.22416487568026: 1, 4.5904402305429555: 1, 5.834052773312164: 4, 7.147274649317231: 1, 5.019223783791736: 1, 5.659611133556001: 1, 5.69879505544661: 3, 4.99108970146437: 1, 5.316674667184706: 1, 5.501528909368016: 4, 5.1576222792619735: 1, 4.463597927621164: 1, 1.4627333449791053: 1, 5.8350166005462105: 1, 5.352992214576193: 1, 7.188091549763099: 1, 5.292476285306035: 2, 5.870395668888845: 1, 6.815574585739635: 1, 4.080377073393456: 3, 5.247075176593788: 3, 5.181283111637379: 1, 8.349740123734708: 6, 7.17920686897694: 1, 6.572874174630342: 4, 4.3370281047353965: 2, 2.172745804515373: 1, 6.060141418332572: 2, 6.100017457474374: 2, 5.896328549452741: 1, 5.711008600750197: 5, 5.181031429567975: 1, 5.402252632051843: 4, 5.258165170738144: 1, 5.859504809837165: 2, 4.441413119347487: 3, 6.098885896263672: 1, 5.662586178033287: 10, 6.013505142704627: 1, 6.018974582920483: 2, 4.768703025936944: 1, 1.302622528417383: 1, 5.214837536431268: 1, 5.305454068952675: 4, 6.052445054087871: 3, 5.465152916464399: 2, 5.369767722410097: 2, 5.895577453046733: 1, 4.424952209069134: 2, 5.530021491569516: 1, 6.855263328227524: 1, 5.461463826900259: 1, 6.791399216580921: 1, 5.558003731405561: 1, 5.260092825206236: 1, 5.08675964191531: 1, 5.488633872533728: 1, 5.383458947926467: 1, 5.883031383592302: 2, 5.796169943872076: 1, 8.193730365787124: 1, 6.158096911087304: 2, 5.8255899105356255: 1, 7.016982046481353: 1, 7.071843930633953: 1, 5.862964824972899: 1, 4.852126034398285: 2, 5.204612179795776: 2, 5.502351597250434: 1, 2.265012176128214: 1, 3.9980041179157193: 2, 4.328873580329807: 2, 4.566029533424468: 1, 5.645150451131113: 1, 4.411245133315663: 1, 5.531455577808519: 3, 6.359102139006953: 1, 1.4006571736896296: 1, 5.119191783506555: 1, 4.46421816788144: 1, 4.955712330700741: 1, 6.262115285722974: 6, 2.1590627757433465: 2, 2.8171780873733603: 1, 2.2844634785596463: 2, 6.215291905597743: 1, 5.8834527910424494: 1, 5.808806039888364: 1, 4.425357176874034: 1, 9.699131159110944: 2, 5.9320438825308095: 1, 5.078793234679289: 1, 6.565183036265032: 2, 5.296635184395061: 1, 5.102927440030885: 3, 5.2142447729611545: 1, 6.907056476378752: 1, 5.613907236829134: 1, 7.125166491421736: 1, 5.212317118493062: 1, 5.396863814306669: 1, 8.145687116284245: 2, 6.048848804748382: 1, 9.59679385365896: 5, 5.112244264637303: 2, 2.5632103462398392: 1, 1.6874951413458645: 1, 5.164376744597341: 4, 7.030994650616289: 1, 5.8428712432959165: 1, 5.818731785200468: 1, 6.4160255039794905: 1, 4.5112879210857395: 1, 6.718891764481297: 1, 4.729665019199223: 1, 5.504589937503828: 3, 7.26137336662625: 1, 4.97028898008674: 1, 4.927039931110023: 1, 4.936063390849602: 2, 2.119649497321288: 1, 5.697831228212563: 2, 5.521181419390942: 2, 7.636528301527358: 1, 5.749084275986723: 1, 1.2752564708733298: 3, 2.4221330218845054: 1, 5.534270699337324: 1, 5.99768015202239: 3, 6.154782359539855: 2, 5.8102131181674945: 1, 6.587747650905387: 1, 5.629642378697031: 1, 4.7949860664942685: 2, 5.310939288240391: 6, 4.945397977374288: 1, 5.583588057768558: 3, 4.827514457239341: 1, 1.9403138739189285: 1, 3.3459296403369594: 1, 1.7822569579233192: 2, 5.886185253272203: 1, 5.534233459314846: 1, 5.843978518624268: 1, 2.263194258913922: 1, 5.8642254519606976: 4, 4.91049085059612: 1, 1.5281642045797672: 2, 2.6245482431282725: 1, 2.389413468104962: 2, 1.8630737485871511: 1, 1.5260578765059296: 2, 1.4524503218408578: 1, 1.444281874734873: 2, 5.552205936065531: 1, 1.7058352466999875: 1, 4.714199053689255: 1, 2.134635685136171: 1, 1.4058804953143687: 1, 5.49744103400005: 3, 4.304446489722633: 1, 1.6169532987680852: 3, 2.44860827203248: 1, 5.753509956719393: 1, 4.725288730836538: 2, 5.851174236898621: 1, 5.1900311319831225: 1, 2.4596076564486964: 1, 5.499438968294376: 1, 5.167902931102438: 1, 2.397690938793752: 1, 6.219358711912662: 1, 4.335360271599062: 1, 5.277963341615624: 1, 4.623159784322499: 3, 4.606256754767141: 1, 5.520699505773918: 1, 5.531937491425542: 2, 5.87763111013706: 1, 5.307117541982928: 1, 4.476745357220361: 2, 5.146574234539295: 1, 4.420969118904723: 1, 8.450727057429908: 1, 8.193627745879823: 1, 5.227935998477525: 1, 5.753991870336416: 2, 5.632228682523261: 2, 4.167029521777263: 1, 5.2250628930667595: 1, 5.853600730605533: 1, 5.576687733066219: 1, 5.018204849811354: 1, 9.66017605168854: 2, 4.351658666502713: 1, 7.993042819242585: 1, 4.593939750663356: 1, 5.488157169706114: 1, 6.411442247326957: 1, 4.51763335810589: 1, 6.241295962222607: 1, 2.028443070748002: 1, 5.8097698671224105: 1, 6.085255590939175: 1, 3.1469847234558213: 1, 7.700914421609618: 1, 5.505569660437586: 1, 6.477286742323623: 1, 5.048827945521745: 1, 6.047050559940167: 1, 5.555298515983896: 1, 8.259927165313064: 1, 1.726436523445541: 1, 5.098368675158917: 1, 2.3697483142915603: 1, 5.253685034984994: 1, 4.39441926842245: 1, 6.17920945014703: 2, 4.561239128017473: 1, 6.373929257749204: 1, 2.5638169111239844: 1, 2.4622992484886255: 1, 5.708215694013115: 1, 5.028241248718247: 1, 4.675025127592105: 1, 2.893016982322301: 1, 6.27722770193059: 1, 2.60932717356786: 1, 4.906105795682373: 1, 5.22560272138627: 2, 5.476576605967157: 1, 6.714587652044434: 2, 4.652481858399472: 1, 4.362808473952231: 1, 4.9915809563973275: 1, 5.679598720093379: 1, 5.372374318510185: 1, 4.8028387190749235: 1, 6.718800965191461: 1, 4.691430236240768: 1, 7.034192784924601: 1, 5.0760936583281: 1, 5.017252782690015: 1, 8.132316335224838: 1, 4.92511227664193: 1, 5.9247233532710615: 1, 5.586365939274884: 1, 5.4246341615629845: 1, 5.6827221493708615: 1, 6.012445857337488: 1, 5.834702613963978: 1, 7.163664459155925: 1, 7.190024121648622: 1, 6.766666258891833: 1, 5.8839786765686615: 1, 4.947629317658157: 1, 5.28798911516906: 1, 6.522975798109424: 1, 8.22190735504265: 1}\n",
      "../rcv_elections_database/single/Berkeley_11032020_MemberCityCouncilDist6BerkeleyRCV.csv\n"
     ]
    },
    {
     "name": "stderr",
     "output_type": "stream",
     "text": [
      "/Users/es5891/Documents/GitHub/bugs-in-democracy/rcv_exploration/../rcv_learning/rcv_dimensionality.py:188: RuntimeWarning: divide by zero encountered in divide\n",
      "  distance = 1 / np.sqrt(freq_upper_triangle)\n"
     ]
    },
    {
     "name": "stdout",
     "output_type": "stream",
     "text": [
      "Normalized distances: {'RICHARD ILLGEN': 0.0, 'SUSAN WENGRAF': 1.0}\n"
     ]
    },
    {
     "name": "stderr",
     "output_type": "stream",
     "text": [
      "/Users/es5891/Documents/GitHub/bugs-in-democracy/rcv_exploration/../rcv_learning/rcv_dimensionality.py:188: RuntimeWarning: divide by zero encountered in divide\n",
      "  distance = 1 / np.sqrt(freq_upper_triangle)\n"
     ]
    },
    {
     "name": "stdout",
     "output_type": "stream",
     "text": [
      "Consistency points: {1.0: 3480, 0.0: 1049, 0.25: 1072}\n",
      "../rcv_elections_database/single/Hawaii_05232020_PresidentoftheUnitedStateCD1CD2.csv\n"
     ]
    },
    {
     "name": "stderr",
     "output_type": "stream",
     "text": [
      "/Users/es5891/Documents/GitHub/bugs-in-democracy/rcv_exploration/../rcv_learning/rcv_dimensionality.py:188: RuntimeWarning: divide by zero encountered in divide\n",
      "  distance = 1 / np.sqrt(freq_upper_triangle)\n"
     ]
    },
    {
     "name": "stdout",
     "output_type": "stream",
     "text": [
      "Normalized distances: {'Michael R.': 0.0, 'Tom Steyer': 1.2269499115378688, 'Uncommitted': 1.8599417955612088, 'Bernie Sanders': 2.0905346318518396, 'Tulsi Gabbard': 2.4157596862869806, 'Joseph R. Biden': 2.5332920212316616, 'Andrew Yang': 2.6359065742661825, 'Elizabeth Warren': 2.807716070137291, 'Pete Buttigieg': 2.8908304090535486, 'Amy Klobuchar': 2.8918315779832593, 'Deval Patrick': 10.0}\n"
     ]
    },
    {
     "name": "stderr",
     "output_type": "stream",
     "text": [
      "/Users/es5891/Documents/GitHub/bugs-in-democracy/rcv_exploration/../rcv_learning/rcv_dimensionality.py:188: RuntimeWarning: divide by zero encountered in divide\n",
      "  distance = 1 / np.sqrt(freq_upper_triangle)\n"
     ]
    },
    {
     "name": "stdout",
     "output_type": "stream",
     "text": [
      "Consistency points: {7.466707978768339: 9778, 8.100030984076254: 238, 7.577397326113294: 2133, 7.898942084419026: 2, 7.909465368148161: 3045, 7.400403393970401: 23, 7.584240313713019: 435, 7.496091062504509: 124, 7.260889942089117: 114, 7.635045535185952: 194, 7.6655465773218046: 99, 7.192283929862709: 87, 8.140058204438795: 237, 7.606221430649623: 272, 7.371579289434072: 77, 7.364093425733818: 42, 7.967113577220819: 189, 7.253898861574402: 27, 7.198554187901924: 25, 7.532579881519345: 105, 7.638028216324405: 38, 7.483264243375194: 24, 7.316234615761594: 280, 7.723194786394464: 36, 7.877465897435138: 10, 10.0: 78, 7.532705027635559: 210, 7.685345416152541: 36, 7.109169590946452: 28, 7.309243535246879: 2, 7.45127361791056: 16, 7.911768903548341: 23, 7.36827087700856: 6, 7.694370681858134: 46, 7.6083845013766505: 5, 7.500436411337404: 11, 7.290273025825287: 4, 7.197803311204641: 6, 7.461788056391305: 46, 7.2352363038304865: 5, 7.926460445416427: 6, 7.459783279533012: 16, 7.308492658549596: 2, 8.278730287168887: 2, 8.035713868440972: 4, 7.108168422016742: 7, 7.248063122959802: 17, 7.9466622451340205: 6, 7.3897470639924485: 16, 7.185727368772609: 10, 7.793293506191787: 14, 7.529260515873733: 2, 8.125361548226653: 6, 8.931186344502962: 1, 7.387139522263984: 1, 7.359750262166009: 2, 7.616552029340516: 44, 7.587475469512565: 1, 7.831126316512556: 1, 7.451398764026774: 13, 7.606162736975984: 7, 7.3872646683801975: 3, 7.419130147728619: 2, 7.172900549643294: 3, 7.2132457297700086: 3, 8.432099026111121: 8, 8.773050088462133: 2, 7.558084620410062: 5, 7.240150196070637: 2, 2.1386461988683063: 1, 7.267839526745203: 2, 7.253147984877119: 3, 8.025199429960226: 2, 7.281972089413448: 1, 7.357756438527814: 4, 7.60603759085977: 4, 8.188180235284765: 8, 9.0797875663466: 1, 7.338067639783208: 1, 7.479527379473319: 7, 7.83187719320984: 4, 7.42922749850673: 7, 7.8942129473970315: 4, 7.275581483957202: 6, 1.916542766787688: 1, 7.417191625286126: 1, 6.859955008845745: 2, 7.39765396074473: 1, 1.8685417174308547: 1, 7.33092615762968: 6, 7.129197298978234: 2, 7.212494853072726: 1, 7.166692486730212: 3, 7.1084187142491695: 1, 8.025324576076441: 1, 8.971839476307354: 1, 7.357881584644028: 3, 7.282722966110731: 6, 7.262754664827886: 1, 7.227937271638094: 1, 8.916494802634876: 3, 7.184976492075326: 3, 8.034811496342531: 1, 7.268590403442487: 5, 7.86970133035813: 1, 7.404438605860534: 1, 1.8666769946920847: 1, 7.366891744319538: 1, 1.8813685365601698: 1, 0.0: 1, 2.138521052752093: 1, 8.90366798350556: 1, 7.740844208454798: 1}\n",
      "../rcv_elections_database/single/Alaska_11082022_SenateDistrictB.csv\n",
      "Error in file: ../rcv_elections_database/single/Alaska_11082022_SenateDistrictB.csv\n",
      "zero-size array to reduction operation minimum which has no identity\n",
      "../rcv_elections_database/single/Oakland_11082016_SchoolDirectorDistrict1.csv\n"
     ]
    },
    {
     "name": "stderr",
     "output_type": "stream",
     "text": [
      "/Users/es5891/Documents/GitHub/bugs-in-democracy/rcv_exploration/../rcv_learning/rcv_dimensionality.py:188: RuntimeWarning: divide by zero encountered in divide\n",
      "  distance = 1 / np.sqrt(freq_upper_triangle)\n"
     ]
    },
    {
     "name": "stdout",
     "output_type": "stream",
     "text": [
      "Normalized distances: {'DON MACLEAY': 0.0, 'JODY LONDON': 1.0}\n"
     ]
    },
    {
     "name": "stderr",
     "output_type": "stream",
     "text": [
      "/Users/es5891/Documents/GitHub/bugs-in-democracy/rcv_exploration/../rcv_learning/rcv_dimensionality.py:188: RuntimeWarning: divide by zero encountered in divide\n",
      "  distance = 1 / np.sqrt(freq_upper_triangle)\n"
     ]
    },
    {
     "name": "stdout",
     "output_type": "stream",
     "text": [
      "Consistency points: {0.0: 13945, 0.25: 7802, 1.0: 4510}\n",
      "Error in file: ../rcv_elections_database/single/Oakland_11082016_SchoolDirectorDistrict1.csv\n",
      "unsupported operand type(s) for -: 'float' and 'NoneType'\n",
      "../rcv_elections_database/single/Alaska_11082022_GovernorLieutenantGovernor.csv\n"
     ]
    },
    {
     "name": "stderr",
     "output_type": "stream",
     "text": [
      "/Users/es5891/Documents/GitHub/bugs-in-democracy/rcv_exploration/../rcv_learning/rcv_dimensionality.py:188: RuntimeWarning: divide by zero encountered in divide\n",
      "  distance = 1 / np.sqrt(freq_upper_triangle)\n"
     ]
    },
    {
     "name": "stdout",
     "output_type": "stream",
     "text": [
      "Normalized distances: {'Dunleavy/Dahlstrom': 0.0, 'Pierce/Grunwald': 0.7157579182473168, 'Walker/Drygas': 2.351929258004086, 'Gara/Cook': 3.0}\n"
     ]
    },
    {
     "name": "stderr",
     "output_type": "stream",
     "text": [
      "/Users/es5891/Documents/GitHub/bugs-in-democracy/rcv_exploration/../rcv_learning/rcv_dimensionality.py:188: RuntimeWarning: divide by zero encountered in divide\n",
      "  distance = 1 / np.sqrt(freq_upper_triangle)\n"
     ]
    },
    {
     "name": "stdout",
     "output_type": "stream",
     "text": [
      "Consistency points: {0.16201768549897883: 28741, 3.0: 58187, 1.1465833167160215: 382, 1.2360530564969365: 2498, 0.0: 14366, 0.6480707419959153: 12100, 0.75: 1398, 2.2842420817526814: 3248, 2.463181561314511: 5156, 1.0571135769351068: 617, 2.2586601438449154: 575, 2.2181557224701707: 869, 0.5710605204381703: 468, 2.177651301095426: 114, 0.6605302602190852: 151}\n",
      "../rcv_elections_database/single/SanFrancisco_11082016_BoardofSupervisorsDistrict11.csv\n"
     ]
    },
    {
     "name": "stderr",
     "output_type": "stream",
     "text": [
      "/Users/es5891/Documents/GitHub/bugs-in-democracy/rcv_exploration/../rcv_learning/rcv_dimensionality.py:188: RuntimeWarning: divide by zero encountered in divide\n",
      "  distance = 1 / np.sqrt(freq_upper_triangle)\n"
     ]
    },
    {
     "name": "stdout",
     "output_type": "stream",
     "text": [
      "Normalized distances: {'BERTA HERNANDEZ': 0.0, 'FRANCISCO HERRERA': 1.114386731220719, 'MAGDALENA DE GUZMAN': 2.0884074028590893, 'KIM ALVARENGA': 3.164010047758874, 'AHSHA SAFAI': 4.0}\n"
     ]
    },
    {
     "name": "stderr",
     "output_type": "stream",
     "text": [
      "/Users/es5891/Documents/GitHub/bugs-in-democracy/rcv_exploration/../rcv_learning/rcv_dimensionality.py:188: RuntimeWarning: divide by zero encountered in divide\n",
      "  distance = 1 / np.sqrt(freq_upper_triangle)\n"
     ]
    },
    {
     "name": "stdout",
     "output_type": "stream",
     "text": [
      "Consistency points: {0.8716080979991205: 201, 0.0: 2998, 2.972864783992964: 168, 0.2116458138952213: 857, 0.6135850320360466: 411, 0.8465832555808852: 1853, 0.3477998409845368: 737, 2.2098846701846306: 115, 1.5065455396847844: 418, 2.0589237731304824: 197, 2.3234697022206774: 337, 3.1000174240325284: 234, 4.0: 401, 1.9358154722954093: 541, 1.0: 178, 1.9531008661828717: 140, 0.7419769340369262: 504, 1.634937441685664: 797, 1.0130684028119057: 273, 0.4839538680738523: 197, 1.2485224737217107: 400, 2.963863396943213: 92, 2.451861604221557: 56, 1.3769143757225901: 374, 3.2296485879947228: 42, 2.195077800219798: 60, 1.378153637683905: 97, 0.743216195998241: 77, 1.1188913097595163: 112, 2.8580404899956022: 77}\n",
      "../rcv_elections_database/single/Oakland_11042014_Mayor.csv\n"
     ]
    },
    {
     "name": "stderr",
     "output_type": "stream",
     "text": [
      "/Users/es5891/Documents/GitHub/bugs-in-democracy/rcv_exploration/../rcv_learning/rcv_dimensionality.py:177: RuntimeWarning: divide by zero encountered in divide\n",
      "  frequencies = counts / mentioned_together\n",
      "/Users/es5891/Documents/GitHub/bugs-in-democracy/rcv_exploration/../rcv_learning/rcv_dimensionality.py:188: RuntimeWarning: divide by zero encountered in divide\n",
      "  distance = 1 / np.sqrt(freq_upper_triangle)\n"
     ]
    },
    {
     "name": "stdout",
     "output_type": "stream",
     "text": [
      "Normalized distances: {'NANCY SIDEBOTHAM': 0.0, 'COURTNEY RUBY': 7.345202490513923, 'DAN SIEGEL': 7.364138592308295, 'LIBBY SCHAAF': 7.365711289880497, 'REBECCA KAPLAN': 7.3680855814670885, 'JOE TUMAN': 7.368271438178671, 'JEAN QUAN': 7.3790223507909145, 'ERIC WILSON': 7.38447008805253, 'CHARLES R. WILLIAMS': 7.388243058011028, 'KEN HOUSTON': 7.390908637833816, 'PETER LIU': 7.3920170515292005, 'BRYAN PARKER': 7.392841244829568, 'JASON ANDERSON': 7.394496808187725, 'PAT MCCULLOUGH': 7.39499480148719, 'SAIED KARAMOOZ': 7.3991855462884395, 'SAMMUEL WASHINGTON': 15.0}\n"
     ]
    },
    {
     "name": "stderr",
     "output_type": "stream",
     "text": [
      "/Users/es5891/Documents/GitHub/bugs-in-democracy/rcv_exploration/../rcv_learning/rcv_dimensionality.py:177: RuntimeWarning: divide by zero encountered in divide\n",
      "  frequencies = counts / mentioned_together\n",
      "/Users/es5891/Documents/GitHub/bugs-in-democracy/rcv_exploration/../rcv_learning/rcv_dimensionality.py:188: RuntimeWarning: divide by zero encountered in divide\n",
      "  distance = 1 / np.sqrt(freq_upper_triangle)\n"
     ]
    },
    {
     "name": "stdout",
     "output_type": "stream",
     "text": [
      "Consistency points: {7.366328094866094: 1246, 7.3790223507909145: 3936, 7.365711289880498: 3129, 7.372525014462534: 7, 7.3699301786969444: 248, 7.3663513269550425: 913, 7.382477074300578: 155, 7.3499365159625185: 15, 7.382202679854969: 6, 7.36808558146709: 2491, 7.370959166331733: 91, 7.370766416862934: 262, 7.366304862777146: 950, 7.381648367299506: 11, 7.371530271383303: 203, 7.364851785238619: 315, 7.35064970889284: 343, 7.381795659648681: 16, 7.374628537034405: 7, 7.350453121696315: 47, 7.364531766701347: 337, 7.3506264768038925: 155, 7.368132045644986: 162, 7.352313591506642: 47, 7.350969727430112: 79, 7.364138592308297: 1609, 7.368271438178673: 1444, 7.394994801487192: 55, 7.365148571686944: 284, 7.374413889841398: 164, 7.39284124482957: 1401, 7.372493778617766: 256, 7.374207841516306: 17, 7.364828553149671: 860, 0.0: 48, 7.3810304953297905: 18, 7.3806166044902515: 165, 7.388214120914759: 262, 7.371414110938565: 37, 7.372816330135081: 19, 7.365125339597995: 525, 7.37107629670118: 6, 7.37218170811345: 22, 7.375860572672428: 5, 7.3811099781351: 224, 7.367859531928952: 277, 7.381133210224048: 131, 7.392367589372826: 24, 7.369321321744305: 8, 7.381320293321876: 37, 7.370400989423507: 9, 7.373257108862695: 20, 7.370819773798046: 402, 7.369039055108102: 500, 7.371583450020818: 17, 7.374036538570275: 21, 7.372990143973145: 8, 7.3714473840206365: 4, 7.3808131916867765: 192, 7.373228102710581: 7, 7.373117716329007: 42, 7.37427449730771: 172, 7.393017176931673: 2, 7.370157474459912: 29, 7.368540499086653: 23, 7.371968745063527: 27, 7.393809175219012: 5, 7.370973362282704: 12, 7.371728146278155: 46, 7.3749689687863205: 4, 7.38902991899348: 1, 7.372314238540744: 192, 7.372969918619739: 4, 7.372762973199969: 18, 7.362758326873699: 143, 7.368471325239448: 3, 7.370735864949264: 15, 7.374812886472116: 11, 7.3868998499820595: 3, 1.8440694586899526: 5, 7.377092810787252: 16, 7.382001156825708: 12, 7.365492519204655: 53, 7.390937574930088: 113, 7.394496808187727: 74, 7.3870964371785846: 2, 7.392390821461774: 8, 7.366475455187281: 195, 7.354806426848653: 6, 7.370267860841485: 9, 7.382746268882781: 22, 7.372686528086565: 48, 7.382890965140118: 14, 7.356906130767745: 8, 7.37244856934913: 9, 7.392017051529202: 89, 7.372547135552878: 126, 1.8420213953667726: 8, 7.35199357296937: 116, 7.354833990943833: 4, 7.345202490513925: 303, 7.391611449817447: 1, 7.351796985772845: 34, 7.350946495341164: 33, 7.353779762435091: 3, 7.380384285106318: 17, 7.372152795717785: 8, 7.382239115563143: 7, 7.371654329440406: 2, 7.371790395440588: 14, 7.369793839103553: 53, 7.3703440695364835: 7, 7.382271025975486: 113, 7.356177855020364: 1, 7.374580060261054: 5, 7.372107293120974: 9, 7.378249591765955: 41, 7.38041055616516: 31, 7.365171803775891: 132, 7.370474806261255: 14, 7.353439330683175: 6, 7.384470088052531: 65, 7.393255135669109: 11, 7.38381539195367: 4, 7.371944162222843: 6, 7.353720934724202: 102, 7.3540409532614746: 144, 7.399185546288441: 33, 7.3559553981141335: 6, 7.389095382386489: 1, 7.378523815295991: 20, 7.372309176815443: 14, 7.392801243504624: 14, 7.391413492404958: 11, 7.379953197156397: 55, 7.370379931366142: 19, 7.380634060660229: 9, 7.378720402492517: 8, 7.380852289214097: 9, 7.371314255438615: 130, 7.369586893683783: 96, 7.374688388147249: 28, 7.353524347527677: 15, 7.389847041895434: 7, 7.355019389898576: 4, 7.353657455583172: 30, 1.842152442755391: 1, 7.3715007409557485: 40, 7.381671599388453: 9, 7.379017188940841: 23, 7.370868993531285: 6, 7.391310468242413: 2, 7.367790461735616: 15, 7.37318379213758: 9, 7.373458148080924: 15, 7.374750637309683: 5, 7.3740684489826185: 17, 7.370188026373583: 14, 7.350133103159044: 52, 7.377773674291084: 9, 7.385406096268088: 7, 7.36807554787364: 36, 7.350923263252216: 35, 1.847734393732522: 2, 7.3679593874289: 93, 7.352290359417695: 39, 7.358698254457554: 2, 7.371640133489436: 2, 7.373903052238129: 23, 7.373125078548035: 12, 7.37359754061461: 3, 7.380927161898956: 53, 7.372255819880331: 7, 7.370663392700388: 31, 7.3850764351769635: 2, 7.3816376251232185: 6, 7.38219281671887: 1, 7.386361460817653: 4, 7.3735930826558125: 7, 7.381898683811227: 14, 7.371828001778104: 11, 7.372754080972648: 27, 7.35379354210988: 2, 7.392676745179758: 16, 7.352994558664344: 3, 7.380607143361685: 62, 7.391827383244498: 2, 7.372900330803333: 28, 7.3709428103690335: 14, 7.3739653014005615: 10, 7.395668992712905: 18, 7.350329690355569: 82, 7.379976429245345: 12, 1.8471639166102625: 4, 7.369008503194432: 21, 7.3812270825263155: 11, 7.369348934946348: 15, 7.382684019720348: 18, 7.372444111390332: 31, 7.371108207113523: 11, 7.382643244720235: 18, 7.371336997639063: 9, 7.37304885756269: 4, 7.372287730292674: 11, 7.3687411943892265: 3, 7.375274480409839: 36, 7.353482975986767: 3, 7.370164836678939: 11, 7.38216787839343: 16, 7.3809039298100085: 50, 7.370528458125499: 13, 7.357650568257242: 4, 7.381523868974639: 11, 7.3720686605477095: 5, 7.373933514407729: 4, 7.373798579832839: 17, 7.372017861142895: 10, 1.8497963865721103: 1, 7.373937972366527: 9, 7.371035611445137: 8, 7.393379633993975: 9, 7.385675861763997: 3, 7.356874220355401: 3, 7.3825083101453455: 5, 7.350429889607367: 44, 1.8410346480770743: 1, 7.370838337963745: 10, 7.381351580851182: 12, 7.370257329959862: 25, 7.382374050138033: 19, 7.378043543440863: 33, 7.393734685538304: 13, 7.3849287047631496: 1, 7.386191432177209: 6, 7.3745436918899125: 10, 7.353462562772123: 11, 1.8470608924477165: 2, 7.356430764440939: 1, 7.3796564107080735: 9, 7.3721081375972135: 9, 7.371521200858385: 18, 1.8430917050839266: 8, 7.372321100647137: 6, 7.375476122105959: 2, 7.37128324212095: 5, 7.362804791051595: 70, 7.369221466244356: 33, 7.369437482189044: 4, 7.385405992614218: 3, 7.374171473145164: 8, 7.3794598235115485: 46, 1.8465855261209112: 3, 7.37448144272748: 18, 7.353421323365131: 2, 7.3746830844236: 17, 7.354513972406561: 2, 7.37510390336121: 14, 7.372907669457305: 17, 7.381327655540902: 13, 1.8412312352735993: 2, 7.352477952930547: 7, 7.354017721172526: 16, 7.372649712221229: 15, 7.391207444079866: 1, 1.8481072870448465: 1, 7.371211231276069: 6, 7.372122333548185: 3, 7.381654427554465: 1, 7.354224666592296: 4, 7.386775351657193: 6, 7.3565337886034845: 8, 7.370537055423688: 8, 7.374440667727367: 5, 7.388426980310813: 2, 1.838864222549303: 6, 7.374175931103962: 14, 7.369689470352134: 10, 7.383015463464984: 9, 7.391818118584116: 1, 7.373493761719895: 18, 7.381660725073791: 5, 7.39519490261595: 1, 1.8454365548554308: 2, 7.383167087820391: 9, 7.382136091400597: 10, 7.37239075445522: 4, 7.374620835261167: 10, 7.374827780680937: 8, 7.369483869521238: 12, 7.374072906941416: 4, 7.372004268958428: 3, 7.369724130371853: 9, 7.374310865678851: 6, 7.374952279005803: 11, 7.371559454545293: 6, 7.372700724037536: 7, 7.37171657860284: 7, 7.371812363965869: 4, 7.3724627653001: 4, 7.354317385210036: 4, 7.386558048014179: 4, 7.369856088265986: 11, 7.385984486757439: 5, 7.389267877730916: 2, 7.369720022265804: 8, 7.3803372742119056: 4, 7.384021440278762: 2, 7.374079853982484: 9, 7.37002990210405: 10, 7.379040421029789: 5, 7.384435331118301: 1, 7.373696106818358: 12, 7.372240421702996: 3, 7.357112179092836: 26, 7.378663482605494: 4, 7.354286915754729: 5, 7.384011979150195: 2, 7.375206927523756: 5, 1.8428951178874016: 3, 7.372659949037423: 6, 7.38676982266656: 2, 7.367837389502685: 6, 7.38403889644874: 2, 7.37185264460302: 5, 7.357381373675039: 3, 7.371480425858272: 5, 7.371345491283383: 2, 7.392208741071979: 3, 7.3730321677821715: 11, 7.382446060982913: 1, 7.373835499352046: 7, 7.383358032944908: 6, 7.393903477094131: 4, 7.3886358214675205: 4, 7.383061246496584: 2, 7.389370901893462: 10, 7.354310147843677: 5, 7.386672018226359: 4, 7.3704979062118285: 3, 7.381699874285651: 5, 7.370938193463694: 4, 7.3687733977182415: 7, 7.3737324751895: 4, 7.386854834462503: 6, 7.355384817338004: 7, 1.8484249584004: 1, 7.393285332118856: 2, 7.3732868163001255: 12, 7.394427320194287: 3, 7.389402137738229: 3, 1.8415280217219234: 2, 7.386531863929125: 2, 7.3735744406640364: 3, 7.3927614890186995: 4, 7.392699958439456: 4, 7.390839488629129: 2, 7.383032153245502: 3, 7.383270111982937: 3, 1.8464829494525605: 3, 1.8433884915322505: 2, 7.366854453520059: 9, 7.3575260699323755: 4, 7.374305733152478: 3, 7.3733401732352375: 10, 7.388015882302889: 4, 7.389474823150685: 1, 7.381430679703448: 11, 7.392333239396845: 6, 7.3884641419161685: 3, 7.37167742939098: 3, 7.381154993654657: 13, 7.389784792733001: 7, 7.390956977258179: 4, 7.386878066551451: 6, 7.371418176695839: 1, 7.355281793175458: 1, 7.3903708849955905: 2, 7.375999965206115: 5, 7.391486951492581: 3, 7.354338422740875: 3, 7.382580995557802: 15, 7.388760319792387: 4, 7.395670268942755: 2, 7.3801406870153805: 8, 7.382864659300059: 3, 7.353617910561656: 6, 7.374964510827523: 3, 7.3754138729435255: 6, 7.3713242230582114: 17, 7.381547101063587: 5, 7.371209425283201: 6, 7.356065784495707: 2, 1.848748700371798: 2, 7.375336729572272: 3, 7.372184582710617: 3, 7.358112162194965: 3, 7.382691721493586: 3, 7.354810758854885: 4, 7.3709732725386345: 4, 7.387268725302042: 6, 7.373000186303282: 7, 7.37343504813035: 5, 7.372955722668768: 4, 7.371054353908433: 3, 1.8451390853760303: 3, 7.353937929098928: 9, 7.39188963240693: 1, 7.37046856786135: 6, 7.370632840786718: 3, 7.391620437824728: 3, 1.8447160426762126: 1, 7.384725129110386: 4, 7.3725835039240195: 10, 7.38916485356837: 2, 7.37878798093036: 8, 7.380657292749177: 9, 7.3906050565452635: 3, 7.374104693934249: 2, 7.371915388128415: 7, 7.3811927209660135: 6, 7.356802983185688: 1, 7.388221930627981: 2, 7.372708425810774: 4, 1.8417246089184487: 3, 1.8425246615001396: 1, 1.8417478410073964: 2, 7.372789104754916: 3, 7.373497297292783: 10, 7.374378418564934: 1, 1.8391842410865746: 5, 1.8478693283074112: 1, 7.388902897785683: 3, 7.35391469700998: 5, 7.37363668982647: 3, 7.383477057402707: 14, 7.357326826285844: 3, 7.3910189473848025: 1, 7.389846282138477: 1, 1.8473708620300322: 1, 1.8435760850451035: 1, 7.382068318394004: 1, 1.8475288965554952: 1, 7.393317384831542: 8, 7.386971938853718: 4, 7.3537312929474465: 2, 7.353990129306405: 6, 7.392184837626726: 1, 7.371060898523845: 1, 7.354247898681244: 7, 7.370373490404601: 7, 7.385746528020004: 1, 7.387393223626908: 2, 7.357319124512606: 1, 7.371208062613473: 6, 1.842255466917937: 3, 7.379835667130672: 3, 1.8451158532870826: 3, 7.353802994524039: 2, 7.384331997687466: 1, 7.373129536506832: 2, 1.8414278224701246: 2, 1.8420446274557203: 1, 1.8476319207180412: 1, 7.38729195739099: 5, 7.388148952611509: 1, 7.373264471081721: 4, 7.374489144500718: 4, 7.391682686987161: 3, 7.390520955012924: 1, 1.8416770764285855: 2, 7.390462478551967: 2, 7.387117956191714: 1, 7.374445125686164: 3, 7.391332862273978: 4, 7.388440909827221: 1, 7.374382876523732: 5, 7.389339888575796: 2, 7.391143445709669: 1, 1.8363006226284813: 8, 1.8440926907789006: 1, 7.3864598530842445: 2, 7.389577847313231: 6, 7.38353930656514: 4, 7.357588319094809: 2, 7.3532863887902415: 4, 7.3713443598580906: 3, 1.8445811081013233: 1, 1.8482103112073924: 3, 7.352971326575396: 4, 7.391951881569364: 1, 7.384063149665296: 7, 7.3955353343678665: 1, 7.353142544234851: 1, 7.357143414937604: 2, 7.392286122691894: 1, 7.355654011920207: 1, 7.392191131909981: 1, 7.35721610035006: 1, 7.352674540127072: 3, 7.389640096475664: 4, 7.355962760333161: 3, 1.8480042628823006: 2, 7.37259769987499: 2, 7.382105629230996: 6, 7.356272729915476: 1, 7.389537072313118: 1, 7.391137151426413: 1, 1.8445606948866788: 2, 7.35629582986605: 1, 7.3829532143025505: 5, 7.389808005992699: 2, 7.371005059531466: 3, 7.3944143610928235: 3, 7.394621306512593: 3, 7.357905216775195: 3, 7.374829576252634: 4, 1.8469259578728274: 1, 1.839161008997627: 2, 7.394415652696006: 1, 7.355146858600569: 1, 7.391073060653042: 2, 7.374517811098621: 1, 7.353927880143972: 2, 7.390840973550196: 1, 1.8453227987068521: 1, 7.384756416639692: 1, 7.393848929704936: 1, 7.387101266411197: 1, 7.387562860348919: 1, 7.389909291057867: 4, 7.39314167525654: 2, 1.8448190668387585: 1, 7.386976768086329: 6, 7.369454261222074: 5, 7.375067534990069: 5, 7.374160532926626: 3, 7.392223099854294: 3, 1.8443845209047982: 1, 7.374890029843369: 4, 7.352945957038326: 5, 7.3566362616179655: 3, 7.357802192612649: 2, 1.844901126638595: 1, 7.389132943156026: 1, 7.374042444771815: 1, 1.8430485046002958: 2, 7.356334979077909: 3, 1.841209072320807: 1, 7.3863568289216985: 1, 7.383545522803891: 1, 1.8459088909694414: 2, 7.355487394006355: 2, 7.38608695977192: 1, 7.387039017248763: 1, 7.3913560943629255: 2, 1.8486242020469317: 1, 7.37195250010297: 1, 1.8446224796422332: 1, 1.8415512538108714: 3, 7.373556010882328: 1, 7.387416455715856: 7, 7.3877460131531105: 1, 7.371869334383539: 1, 7.356740734023255: 1, 7.385607515643479: 2, 7.392999567769676: 1, 1.8447555876977286: 3, 7.388696849460591: 1, 1.8482415470521598: 1, 7.3570091549302905: 1, 7.386351999689087: 1, 7.383381265033855: 3, 7.384308765598519: 1, 7.396042487687504: 1, 7.384951936852097: 1, 1.8481792978897267: 2, 7.373367495244267: 1, 1.8473939619806057: 1, 7.388894984418591: 1, 7.38656287724679: 1, 1.8454155173245923: 1, 1.8479011153002438: 2, 7.391747733527489: 1, 7.392088165279405: 2, 7.390324367816399: 1, 7.385881462594893: 1, 1.8442406763494072: 1, 7.391036075825654: 2, 7.384631918314826: 1, 1.8453850478692853: 1, 15.0: 16, 9.276064186100317: 1, 7.386324918509356: 1, 7.392865804784428: 1, 9.276203578634005: 1, 9.274283467410374: 1, 9.284266763093186: 1, 9.296246101115393: 1, 7.3952240885557: 1, 7.390337980227101: 1}\n",
      "../rcv_elections_database/single/Minneapolis_11072017_Ward3CityCouncil.csv\n"
     ]
    },
    {
     "name": "stderr",
     "output_type": "stream",
     "text": [
      "/Users/es5891/Documents/GitHub/bugs-in-democracy/rcv_exploration/../rcv_learning/rcv_dimensionality.py:188: RuntimeWarning: divide by zero encountered in divide\n",
      "  distance = 1 / np.sqrt(freq_upper_triangle)\n"
     ]
    },
    {
     "name": "stdout",
     "output_type": "stream",
     "text": [
      "Normalized distances: {'Samantha Pree-Stinson': 0.0, 'Ginger Jentzen': 1.1389255715560531, 'Steve Fletcher': 2.137009425256892, 'Tim Bildsoe': 3.0}\n"
     ]
    },
    {
     "name": "stderr",
     "output_type": "stream",
     "text": [
      "/Users/es5891/Documents/GitHub/bugs-in-democracy/rcv_exploration/../rcv_learning/rcv_dimensionality.py:188: RuntimeWarning: divide by zero encountered in divide\n",
      "  distance = 1 / np.sqrt(freq_upper_triangle)\n"
     ]
    },
    {
     "name": "stdout",
     "output_type": "stream",
     "text": [
      "Consistency points: {2.0856308907855583: 422, 1.1389255715560538: 806, 3.0: 633, 2.1370094252568936: 412, 0.4094918746016184: 153, 2.3527570689426702: 560, 0.0: 136, 2.227996587230065: 271, 1.3884465349812638: 229, 1.246080838536757: 421, 1.496320356824152: 376, 0.5342523563142234: 87, 0.6421261781571117: 161, 0.75: 37, 0.5173656964445067: 56, 1.6041941786670404: 65, 0.28473139288901345: 91}\n",
      "../rcv_elections_database/single/Berkeley_11022010_CityCouncilDistrict8.csv\n"
     ]
    },
    {
     "name": "stderr",
     "output_type": "stream",
     "text": [
      "/Users/es5891/Documents/GitHub/bugs-in-democracy/rcv_exploration/../rcv_learning/rcv_dimensionality.py:188: RuntimeWarning: divide by zero encountered in divide\n",
      "  distance = 1 / np.sqrt(freq_upper_triangle)\n"
     ]
    },
    {
     "name": "stdout",
     "output_type": "stream",
     "text": [
      "Normalized distances: {'JACQUELYN McCORMICK': 0.0, 'STEWART JONES': 0.914257179576658, 'GORDON WOZNIAK': 2.0}\n"
     ]
    },
    {
     "name": "stderr",
     "output_type": "stream",
     "text": [
      "/Users/es5891/Documents/GitHub/bugs-in-democracy/rcv_exploration/../rcv_learning/rcv_dimensionality.py:188: RuntimeWarning: divide by zero encountered in divide\n",
      "  distance = 1 / np.sqrt(freq_upper_triangle)\n"
     ]
    },
    {
     "name": "stdout",
     "output_type": "stream",
     "text": [
      "Consistency points: {0.0: 933, 1.1785892627645889: 227, 0.3857178525529178: 758, 0.27143570510583553: 263, 1.3143071153175065: 214, 0.5: 239, 2.0: 127, 1.0857428204233421: 122}\n",
      "../rcv_elections_database/single/Burlington_03072023_CityCouncilSouthDistrict.csv\n"
     ]
    },
    {
     "name": "stderr",
     "output_type": "stream",
     "text": [
      "/Users/es5891/Documents/GitHub/bugs-in-democracy/rcv_exploration/../rcv_learning/rcv_dimensionality.py:188: RuntimeWarning: divide by zero encountered in divide\n",
      "  distance = 1 / np.sqrt(freq_upper_triangle)\n"
     ]
    },
    {
     "name": "stdout",
     "output_type": "stream",
     "text": [
      "Normalized distances: {'JOAN SHANNON': 0.0, 'FARIED MUNARSYAH': 1.0644927375836628, 'WILL \"BILLY\" ANDERSON': 2.0}\n"
     ]
    },
    {
     "name": "stderr",
     "output_type": "stream",
     "text": [
      "/Users/es5891/Documents/GitHub/bugs-in-democracy/rcv_exploration/../rcv_learning/rcv_dimensionality.py:188: RuntimeWarning: divide by zero encountered in divide\n",
      "  distance = 1 / np.sqrt(freq_upper_triangle)\n"
     ]
    },
    {
     "name": "stdout",
     "output_type": "stream",
     "text": [
      "Consistency points: {2.0: 697, 0.36693840780204223: 103, 0.2338768156040845: 55, 1.0846920390102113: 54, 1.2016304468122536: 10, 0.935507262416338: 34, 0.5: 13, 0.0: 23}\n",
      "../rcv_elections_database/single/Alaska_11082022_SenateDistrictQ.csv\n"
     ]
    },
    {
     "name": "stderr",
     "output_type": "stream",
     "text": [
      "/Users/es5891/Documents/GitHub/bugs-in-democracy/rcv_exploration/../rcv_learning/rcv_dimensionality.py:188: RuntimeWarning: divide by zero encountered in divide\n",
      "  distance = 1 / np.sqrt(freq_upper_triangle)\n"
     ]
    },
    {
     "name": "stdout",
     "output_type": "stream",
     "text": [
      "Normalized distances: {'Myers, Robert H. Jr.': 0.0, 'Serkov, Arthur P.': 1.058355897082688, 'Bennett, John D.': 2.0}\n"
     ]
    },
    {
     "name": "stderr",
     "output_type": "stream",
     "text": [
      "/Users/es5891/Documents/GitHub/bugs-in-democracy/rcv_exploration/../rcv_learning/rcv_dimensionality.py:188: RuntimeWarning: divide by zero encountered in divide\n",
      "  distance = 1 / np.sqrt(freq_upper_triangle)\n"
     ]
    },
    {
     "name": "stdout",
     "output_type": "stream",
     "text": [
      "Consistency points: {0.0: 5787, 0.382294487135336: 687, 2.0: 2348, 0.26458897427067196: 560, 0.5: 328, 1.16147243567668: 209, 1.2937669228120159: 132, 1.0583558970826878: 269}\n",
      "../rcv_elections_database/single/Springville_11022021_CityCouncil2yr.csv\n"
     ]
    },
    {
     "name": "stderr",
     "output_type": "stream",
     "text": [
      "/Users/es5891/Documents/GitHub/bugs-in-democracy/rcv_exploration/../rcv_learning/rcv_dimensionality.py:188: RuntimeWarning: divide by zero encountered in divide\n",
      "  distance = 1 / np.sqrt(freq_upper_triangle)\n"
     ]
    },
    {
     "name": "stdout",
     "output_type": "stream",
     "text": [
      "Normalized distances: {'KELLY JENSEN': 0.0, 'CHRIS SORENSEN': 1.0722780572825596, 'LYLE WERT': 2.0}\n"
     ]
    },
    {
     "name": "stderr",
     "output_type": "stream",
     "text": [
      "/Users/es5891/Documents/GitHub/bugs-in-democracy/rcv_exploration/../rcv_learning/rcv_dimensionality.py:188: RuntimeWarning: divide by zero encountered in divide\n",
      "  distance = 1 / np.sqrt(freq_upper_triangle)\n"
     ]
    },
    {
     "name": "stdout",
     "output_type": "stream",
     "text": [
      "Consistency points: {0.9277219427174402: 544, 0.36596524283968: 1383, 0.0: 421, 1.0798262141984: 860, 0.23193048567936006: 195, 2.0: 82, 0.5: 33, 1.19579145703808: 41}\n",
      "../rcv_elections_database/single/Oakland_11082016_SchoolDirectorDistrict5.csv\n"
     ]
    },
    {
     "name": "stderr",
     "output_type": "stream",
     "text": [
      "/Users/es5891/Documents/GitHub/bugs-in-democracy/rcv_exploration/../rcv_learning/rcv_dimensionality.py:188: RuntimeWarning: divide by zero encountered in divide\n",
      "  distance = 1 / np.sqrt(freq_upper_triangle)\n"
     ]
    },
    {
     "name": "stdout",
     "output_type": "stream",
     "text": [
      "Normalized distances: {'MIKE HASSID': 0.0, 'HUBER TRENADO': 1.058885463869726, 'ROSIE TORRES': 1.6516983301660457, 'MIKE HUTCHINSON': 3.0}\n"
     ]
    },
    {
     "name": "stderr",
     "output_type": "stream",
     "text": [
      "/Users/es5891/Documents/GitHub/bugs-in-democracy/rcv_exploration/../rcv_learning/rcv_dimensionality.py:188: RuntimeWarning: divide by zero encountered in divide\n",
      "  distance = 1 / np.sqrt(freq_upper_triangle)\n"
     ]
    },
    {
     "name": "stdout",
     "output_type": "stream",
     "text": [
      "Consistency points: {1.9411145361302737: 1732, 0.0: 566, 0.4111770257455285: 267, 1.62886556939175: 716, 0.33707541745848857: 531, 1.4965048864080341: 524, 2.2058359020977054: 307, 1.3483016698339543: 1705, 0.5435377087292443: 185, 1.963196585081421: 307, 1.7612262523754656: 132, 3.0: 355, 1.3279671776787898: 324, 0.48527863403256843: 85, 1.5926885436462215: 99, 0.6176393170162842: 94, 0.75: 52}\n",
      "../rcv_elections_database/single/Alaska_11082022_SenateDistrictF.csv\n"
     ]
    },
    {
     "name": "stderr",
     "output_type": "stream",
     "text": [
      "/Users/es5891/Documents/GitHub/bugs-in-democracy/rcv_exploration/../rcv_learning/rcv_dimensionality.py:188: RuntimeWarning: divide by zero encountered in divide\n",
      "  distance = 1 / np.sqrt(freq_upper_triangle)\n"
     ]
    },
    {
     "name": "stdout",
     "output_type": "stream",
     "text": [
      "Normalized distances: {'Kaufman, James D.': 0.0, 'Park, Janice L.': 1.0}\n"
     ]
    },
    {
     "name": "stderr",
     "output_type": "stream",
     "text": [
      "/Users/es5891/Documents/GitHub/bugs-in-democracy/rcv_exploration/../rcv_learning/rcv_dimensionality.py:188: RuntimeWarning: divide by zero encountered in divide\n",
      "  distance = 1 / np.sqrt(freq_upper_triangle)\n"
     ]
    },
    {
     "name": "stdout",
     "output_type": "stream",
     "text": [
      "Consistency points: {1.0: 4869, 0.25: 1373, 0.0: 6446}\n",
      "Error in file: ../rcv_elections_database/single/Alaska_11082022_SenateDistrictF.csv\n",
      "unsupported operand type(s) for -: 'float' and 'NoneType'\n",
      "../rcv_elections_database/single/WoodlandHills_11022021_Mayor.csv\n"
     ]
    },
    {
     "name": "stderr",
     "output_type": "stream",
     "text": [
      "/Users/es5891/Documents/GitHub/bugs-in-democracy/rcv_exploration/../rcv_learning/rcv_dimensionality.py:188: RuntimeWarning: divide by zero encountered in divide\n",
      "  distance = 1 / np.sqrt(freq_upper_triangle)\n"
     ]
    },
    {
     "name": "stdout",
     "output_type": "stream",
     "text": [
      "Normalized distances: {'BRENT WINDER': 0.0, 'BENJAMIN J HILLYARD': 0.8229892886172785, 'MIKE LAURITZEN': 2.0}\n"
     ]
    },
    {
     "name": "stderr",
     "output_type": "stream",
     "text": [
      "/Users/es5891/Documents/GitHub/bugs-in-democracy/rcv_exploration/../rcv_learning/rcv_dimensionality.py:188: RuntimeWarning: divide by zero encountered in divide\n",
      "  distance = 1 / np.sqrt(freq_upper_triangle)\n"
     ]
    },
    {
     "name": "stdout",
     "output_type": "stream",
     "text": [
      "Consistency points: {0.8229892886172785: 26, 2.0: 56, 0.3528736610771598: 122, 0.0: 46, 0.20574732215431962: 53, 1.014368305385799: 52, 1.117241966462959: 3, 0.5: 10}\n",
      "../rcv_elections_database/single/Minneapolis_11022021_CityCouncilWard2.csv\n"
     ]
    },
    {
     "name": "stderr",
     "output_type": "stream",
     "text": [
      "/Users/es5891/Documents/GitHub/bugs-in-democracy/rcv_exploration/../rcv_learning/rcv_dimensionality.py:188: RuntimeWarning: divide by zero encountered in divide\n",
      "  distance = 1 / np.sqrt(freq_upper_triangle)\n"
     ]
    },
    {
     "name": "stdout",
     "output_type": "stream",
     "text": [
      "Normalized distances: {'Robin Wonsley Worlobah': 0.0, 'Cam Gordon': 0.998538706431811, 'Yusra Arab': 1.3714709643175171, 'Tom Anderson': 1.6380185936883676, 'Guy T Gaskin': 4.0}\n"
     ]
    },
    {
     "name": "stderr",
     "output_type": "stream",
     "text": [
      "/Users/es5891/Documents/GitHub/bugs-in-democracy/rcv_exploration/../rcv_learning/rcv_dimensionality.py:188: RuntimeWarning: divide by zero encountered in divide\n",
      "  distance = 1 / np.sqrt(freq_upper_triangle)\n"
     ]
    },
    {
     "name": "stdout",
     "output_type": "stream",
     "text": [
      "Consistency points: {1.4381078716602302: 358, 1.3914913394245167: 257, 1.3714709643175176: 802, 1.2666740011205404: 196, 0.24963467660795266: 643, 1.0917717709032373: 211, 4.0: 302, 0.3428677410793794: 261, 0.0: 405, 0.9985387064318106: 484, 1.1250902245745937: 188, 0.9669544325992611: 205, 1.15840867824595: 80, 0.37618619475073567: 355, 1.638018593688368: 233, 1.0: 4, 1.0335913399419736: 78, 0.409504648422092: 30, 0.32956966251502234: 130, 0.296251208843666: 447, 2.228513945266276: 36, 2.028603223238138: 32, 1.748904029823858: 20, 0.704752324211046: 3, 0.6714338705396896: 4, 2.02376162105523: 4}\n",
      "../rcv_elections_database/single/Burlington_03072023_CityCouncilCentralDistrict.csv\n"
     ]
    },
    {
     "name": "stderr",
     "output_type": "stream",
     "text": [
      "/Users/es5891/Documents/GitHub/bugs-in-democracy/rcv_exploration/../rcv_learning/rcv_dimensionality.py:188: RuntimeWarning: divide by zero encountered in divide\n",
      "  distance = 1 / np.sqrt(freq_upper_triangle)\n"
     ]
    },
    {
     "name": "stdout",
     "output_type": "stream",
     "text": [
      "Normalized distances: {'AVERY MUZIKAR': 0.0, 'MELO GRANT': 1.0}\n"
     ]
    },
    {
     "name": "stderr",
     "output_type": "stream",
     "text": [
      "/Users/es5891/Documents/GitHub/bugs-in-democracy/rcv_exploration/../rcv_learning/rcv_dimensionality.py:188: RuntimeWarning: divide by zero encountered in divide\n",
      "  distance = 1 / np.sqrt(freq_upper_triangle)\n"
     ]
    },
    {
     "name": "stdout",
     "output_type": "stream",
     "text": [
      "Consistency points: {0.25: 812, 1.0: 397, 0.0: 604}\n",
      "../rcv_elections_database/single/NewYorkCity_06222021_DEMCouncilMember34thCouncilDistrict.csv\n"
     ]
    },
    {
     "name": "stderr",
     "output_type": "stream",
     "text": [
      "/Users/es5891/Documents/GitHub/bugs-in-democracy/rcv_exploration/../rcv_learning/rcv_dimensionality.py:188: RuntimeWarning: divide by zero encountered in divide\n",
      "  distance = 1 / np.sqrt(freq_upper_triangle)\n"
     ]
    },
    {
     "name": "stdout",
     "output_type": "stream",
     "text": [
      "Normalized distances: {'Lutchi Gayot': 0.0, 'Andy J. Marte': 1.2663754942776795, 'Scott Murphy': 2.2263422518449256, 'Jennifer Gutierrez': 3.0}\n"
     ]
    },
    {
     "name": "stderr",
     "output_type": "stream",
     "text": [
      "/Users/es5891/Documents/GitHub/bugs-in-democracy/rcv_exploration/../rcv_learning/rcv_dimensionality.py:188: RuntimeWarning: divide by zero encountered in divide\n",
      "  distance = 1 / np.sqrt(freq_upper_triangle)\n"
     ]
    },
    {
     "name": "stdout",
     "output_type": "stream",
     "text": [
      "Consistency points: {0.0: 7225, 0.75: 530, 0.19341443703876857: 1156, 1.3302433111163057: 19, 1.7336245057223203: 572, 0.4334061264305801: 577, 0.59170306321529: 134, 1.1719463743315957: 19, 0.31341028173467433: 168, 1.0560886097678095: 69, 0.7736577481550743: 515, 0.9169422190275015: 21, 2.0502183792917403: 23, 3.0: 214, 1.0136494375468859: 67, 1.8335153160764501: 9, 1.9302225345958344: 6}\n",
      "../rcv_elections_database/single/Alaska_11082022_HouseDistrict7.csv\n"
     ]
    },
    {
     "name": "stderr",
     "output_type": "stream",
     "text": [
      "/Users/es5891/Documents/GitHub/bugs-in-democracy/rcv_exploration/../rcv_learning/rcv_dimensionality.py:188: RuntimeWarning: divide by zero encountered in divide\n",
      "  distance = 1 / np.sqrt(freq_upper_triangle)\n"
     ]
    },
    {
     "name": "stdout",
     "output_type": "stream",
     "text": [
      "Normalized distances: {'Ruffridge, Justin': 0.0, 'Gillham, Ronald D. \"Ron\"': 1.0}\n"
     ]
    },
    {
     "name": "stderr",
     "output_type": "stream",
     "text": [
      "/Users/es5891/Documents/GitHub/bugs-in-democracy/rcv_exploration/../rcv_learning/rcv_dimensionality.py:188: RuntimeWarning: divide by zero encountered in divide\n",
      "  distance = 1 / np.sqrt(freq_upper_triangle)\n"
     ]
    },
    {
     "name": "stdout",
     "output_type": "stream",
     "text": [
      "Consistency points: {0.0: 1955, 1.0: 2390, 0.25: 1247}\n",
      "../rcv_elections_database/single/Alaska_11082022_HouseDistrict6.csv\n"
     ]
    },
    {
     "name": "stderr",
     "output_type": "stream",
     "text": [
      "/Users/es5891/Documents/GitHub/bugs-in-democracy/rcv_exploration/../rcv_learning/rcv_dimensionality.py:188: RuntimeWarning: divide by zero encountered in divide\n",
      "  distance = 1 / np.sqrt(freq_upper_triangle)\n"
     ]
    },
    {
     "name": "stdout",
     "output_type": "stream",
     "text": [
      "Normalized distances: {'Vance, Sarah L.': 0.0, 'Bryant, Ginger': 1.3285141496360997, 'Flora, Louis A. \"Louie\"': 2.0}\n"
     ]
    },
    {
     "name": "stderr",
     "output_type": "stream",
     "text": [
      "/Users/es5891/Documents/GitHub/bugs-in-democracy/rcv_exploration/../rcv_learning/rcv_dimensionality.py:188: RuntimeWarning: divide by zero encountered in divide\n",
      "  distance = 1 / np.sqrt(freq_upper_triangle)\n"
     ]
    },
    {
     "name": "stdout",
     "output_type": "stream",
     "text": [
      "Consistency points: {2.0: 3909, 0.3339357312954875: 630, 0.0: 1707, 0.16787146259097493: 1488, 0.6714858503638997: 125, 0.5: 189, 1.0036143877729247: 17}\n",
      "Error in file: ../rcv_elections_database/single/Alaska_11082022_HouseDistrict6.csv\n",
      "unsupported operand type(s) for -: 'float' and 'NoneType'\n",
      "../rcv_elections_database/single/Oakland_11062012_SchoolDirectorDistrict7.csv\n"
     ]
    },
    {
     "name": "stderr",
     "output_type": "stream",
     "text": [
      "/Users/es5891/Documents/GitHub/bugs-in-democracy/rcv_exploration/../rcv_learning/rcv_dimensionality.py:188: RuntimeWarning: divide by zero encountered in divide\n",
      "  distance = 1 / np.sqrt(freq_upper_triangle)\n"
     ]
    },
    {
     "name": "stdout",
     "output_type": "stream",
     "text": [
      "Normalized distances: {'ALICE A. SPEARMAN': 0.0, 'JAMES HARRIS': 1.0}\n"
     ]
    },
    {
     "name": "stderr",
     "output_type": "stream",
     "text": [
      "/Users/es5891/Documents/GitHub/bugs-in-democracy/rcv_exploration/../rcv_learning/rcv_dimensionality.py:188: RuntimeWarning: divide by zero encountered in divide\n",
      "  distance = 1 / np.sqrt(freq_upper_triangle)\n"
     ]
    },
    {
     "name": "stdout",
     "output_type": "stream",
     "text": [
      "Consistency points: {0.0: 2861, 1.0: 4038, 0.25: 3127}\n",
      "Error in file: ../rcv_elections_database/single/Oakland_11062012_SchoolDirectorDistrict7.csv\n",
      "unsupported operand type(s) for -: 'float' and 'NoneType'\n",
      "../rcv_elections_database/single/SanFrancisco_11022004_BoardofSupervisorsDistrict5.csv\n"
     ]
    },
    {
     "name": "stderr",
     "output_type": "stream",
     "text": [
      "/Users/es5891/Documents/GitHub/bugs-in-democracy/rcv_exploration/../rcv_learning/rcv_dimensionality.py:188: RuntimeWarning: divide by zero encountered in divide\n",
      "  distance = 1 / np.sqrt(freq_upper_triangle)\n"
     ]
    },
    {
     "name": "stdout",
     "output_type": "stream",
     "text": [
      "Normalized distances: {'Emmett Gilman': 0.0, 'Dan Kalb': 4.861324693080595, 'Phoenix Streets': 5.524132532130459, 'Joseph Blue': 5.542715496918073, 'Brett Wheeler': 5.844286541510817, 'Tys Sniffen': 6.861612853235428, 'Bill Barnes': 7.54967211741516, 'Andrew Sullivan': 7.600873012466862, 'Francis Somesel': 7.97919639565062, 'Ross Mirkarimi': 8.121186137109083, 'Robert Haaland': 8.32298766728044, 'Nick Waugh': 8.37944625761068, 'Jim Siegel': 8.396689068714444, 'Lisa Feldstein': 8.523860303659138, 'Patrick M. Ciocca': 8.989670792276055, 'Rob Anderson': 9.20935873533951, \"Michael E. O'connor\": 9.465947049205692, 'Susan C. King': 9.85840917685594, 'H. Brown': 12.170754486932843, 'Julian Davis': 12.46645433607338, 'Phillip House': 15.235065976948313, 'Vivian Wilder': 21.0}\n"
     ]
    },
    {
     "name": "stderr",
     "output_type": "stream",
     "text": [
      "/Users/es5891/Documents/GitHub/bugs-in-democracy/rcv_exploration/../rcv_learning/rcv_dimensionality.py:188: RuntimeWarning: divide by zero encountered in divide\n",
      "  distance = 1 / np.sqrt(freq_upper_triangle)\n"
     ]
    },
    {
     "name": "stdout",
     "output_type": "stream",
     "text": [
      "Consistency points: {8.352514309962949: 41, 8.344229939415026: 2614, 8.365343466918523: 64, 8.414068199914036: 192, 8.402592811624027: 124, 8.258342295844844: 14, 8.537245847669709: 35, 8.523140628242082: 7, 8.53177399877359: 55, 8.379510002774783: 869, 7.887078883166084: 125, 8.70026336573802: 36, 8.517742791331797: 591, 2.1363145504154852: 4, 2.4804315383344475: 3, 13.450414410050643: 59, 8.134013226697682: 19, 7.99503863691998: 41, 7.801995046546535: 6, 8.021581353892941: 4, 7.820803918782707: 390, 7.613820339132511: 5, 7.77148631617394: 3, 7.618365125540162: 4, 7.383103855578563: 1, 8.12084020366095: 15, 7.9453735200486575: 1, 7.522734157787987: 116, 8.722947526107028: 1, 8.751194280167796: 124, 6.955300824107613: 6, 10.005520095391288: 2, 8.624165495524622: 14, 8.244897449696625: 18, 8.246539402711111: 54, 8.183366580178927: 27, 8.037192235157358: 24, 8.304240376347177: 8, 7.989712138810671: 243, 8.563350903436206: 1, 9.269712484541174: 449, 9.433166576021572: 2, 6.563316974506858: 8, 6.486599861425313: 10, 6.674592284727657: 5, 6.88666330503137: 2, 9.23256260130782: 3, 9.225937693372217: 200, 8.599901228288063: 1, 8.405876717653001: 26, 8.641567152446791: 27, 9.750910696011509: 7, 8.215716013592125: 22, 8.443249636018535: 142, 8.472431072123037: 30, 8.644879606414595: 2, 8.51213455124383: 2, 8.494963642593031: 49, 8.602060623216381: 76, 8.484019944800792: 18, 7.857651776741154: 11, 7.888683804912405: 4, 7.699204902576775: 1, 8.204526844654604: 3, 8.48898830447216: 50, 8.62878768527676: 24, 7.9777595383503535: 243, 8.006940974454853: 63, 7.816229924001544: 16, 8.071755750001525: 60, 8.086875453642834: 9, 8.083562999675031: 54, 8.027836846650903: 4, 7.667089858535676: 24, 8.122482156675439: 5, 7.896305916944098: 2, 8.185654979207623: 2, 7.200780806430311: 8, 7.025139084606622: 12, 7.2527131900005575: 7, 7.094355099798731: 11, 6.666799792549248: 96, 9.253443661003464: 1, 9.252437325114629: 37, 8.764329904283693: 141, 9.629539509553423: 65, 8.133622139475825: 9, 7.921797561519021: 8, 8.01800253689625: 55, 8.535888464974636: 28, 8.530416616078517: 2, 11.380954389028565: 5, 9.294854465247564: 8, 10.018476464961196: 7, 9.083368550088224: 1, 8.365334091499687: 27, 8.426990245156496: 10, 9.05441310267906: 19, 8.647039001342911: 36, 7.953856752118382: 17, 8.155459241550044: 12, 8.164092612081552: 3, 8.232737283509856: 7, 8.45172958434782: 16, 8.577747616555284: 9, 8.576105663540798: 40, 8.607674157773266: 58, 7.7090739771982815: 16, 7.960480439780726: 42, 8.02422007302448: 43, 8.104111065248025: 3, 8.056685415157954: 12, 7.443937792900436: 2, 8.228009438348856: 10, 8.177559211326205: 18, 7.92068089984764: 9, 8.172087362430085: 13, 7.865482527825112: 6, 9.94835241959732: 3, 8.411831218938962: 2, 8.75447818619677: 2, 8.875595319844562: 3, 8.764525036088004: 14, 8.7856385635915: 8, 8.823419598794775: 11, 8.875351982365022: 8, 7.7505956246095735: 1, 9.538438789190376: 1, 8.890675549348064: 5, 8.765637889808684: 1, 7.88314540864893: 1, 11.431663945147612: 6, 9.248393930573437: 10, 12.20228436340588: 5, 9.156870729120163: 46, 6.469320762855686: 12, 6.487657865128145: 3, 6.38220340378705: 9, 6.430305891475664: 4, 6.514592241511345: 4, 7.126944764190336: 2, 5.809552218123152: 175, 9.15119642559383: 9, 8.444891589033023: 35, 8.41087718217195: 3, 8.474073025137523: 19, 8.490644852736395: 1, 8.504011923862118: 9, 8.632933781915286: 3, 8.591116925424142: 29, 11.165309162374562: 5, 4.178491537951276: 2, 8.510101831975655: 18, 8.694791516841901: 70, 2.1308427015193656: 9, 14.618340474512586: 1, 7.743632174337535: 5, 8.399156518024741: 1, 8.055043462143466: 12, 8.118216284675652: 19, 8.05340150912898: 11, 7.825772253665359: 11, 7.205430570374485: 3, 8.183031060222325: 27, 9.152791679400979: 1, 7.990351898175188: 4, 8.781319773734864: 8, 8.854481792341067: 4, 8.834363296587014: 28, 8.880823831261141: 16, 7.209426534468431: 1, 7.297691568127088: 3, 7.303422746119603: 3, 8.842573061659449: 5, 8.75280873285311: 4, 8.104440703371326: 27, 11.079122402391889: 76, 9.178555670074427: 9, 9.141296949950087: 10, 8.423706339127522: 21, 8.390107696036097: 2, 8.573850184361127: 8, 8.37702814914595: 9, 8.058289150756872: 5, 8.121461973289058: 3, 8.010186663068259: 11, 8.075883607326116: 5, 8.322694039762919: 3, 8.581359135441165: 20, 8.750713592760672: 14, 8.70573521463414: 53, 2.1413380353678226: 3, 2.0731417278833: 1, 2.2975917237151524: 1, 2.769780600597972: 5, 1.8849080878330406: 1, 0.0: 56, 7.800113939754212: 3, 8.025862026038967: 7, 8.116056889747334: 3, 8.112744435779533: 12, 8.180871665294006: 4, 8.114386388794019: 3, 7.754207217604312: 17, 7.783388653708813: 8, 7.629936323379844: 3, 7.7850306067233: 7, 7.736928119034686: 11, 7.910460905951643: 5, 9.00465422085365: 6, 7.597251598036667: 11, 7.831491141397427: 3, 7.889192115033492: 3, 9.151978449119012: 9, 9.33317631072382: 4, 8.772809406635927: 1, 8.829820769492995: 1, 8.753581338295765: 13, 8.852613392405889: 2, 7.112256443675259: 18, 6.9180421039832725: 5, 8.886356759491427: 15, 8.611285094831057: 1, 8.793848328663936: 18, 8.210244164696006: 15, 8.307552830314979: 10, 8.244380007782794: 27, 8.580866843101168: 4, 8.14434818196062: 48, 8.354690603369828: 6, 8.309712225243297: 134, 7.971669771403983: 1, 9.199669197577924: 6, 9.177867833435306: 2, 6.4385902620235855: 3, 5.586171116022647: 6, 6.493478714007849: 7, 9.159480796141752: 3, 9.521876519351368: 5, 9.513592148803445: 11, 9.689233870627135: 12, 9.228248020632948: 3, 9.647236104593748: 16, 8.584920398846094: 11, 8.87321524107425: 10, 8.594429379391944: 5, 8.59658877432026: 35, 8.027465761637885: 17, 8.228418493653221: 3, 7.944836011524237: 3, 3.025457953124495: 1, 8.618617855565505: 61, 8.691629995206515: 5, 2.670604787974092: 1, 2.254255298603108: 4, 2.1552686829906627: 2, 1.8200933122863685: 1, 8.066283901105406: 42, 8.074929629143526: 6, 7.851377308397485: 2, 8.171549759779996: 2, 9.284057490605974: 1, 8.776700381851725: 7, 9.860436168526718: 1, 9.354887706620664: 3, 9.304724371623783: 1, 5.7258476370206655: 3, 6.452041664286059: 6, 6.566490853648858: 2, 6.354592198295031: 6, 8.733168379597606: 8, 2.2039934159861767: 1, 2.3252320700224844: 1, 1.9272492590896304: 1, 2.2520959036747903: 2, 8.008582927469341: 16, 8.11769884276182: 1, 8.635383539685003: 7, 8.038780544443142: 6, 7.848203429255484: 11, 7.5227803765765815: 2, 7.8023097052929264: 4, 7.829849188382939: 7, 7.959478739476284: 4, 7.931268300621031: 3, 8.727266315963664: 9, 8.51311857350556: 4, 7.250553795072239: 1, 7.202506300457448: 2, 8.135264092490313: 20, 8.349218754473709: 8, 6.500144151974673: 8, 6.3289338843838845: 3, 6.9007685244589965: 3, 9.236881391164456: 9, 8.536728405755877: 1, 8.533415951788076: 9, 8.692017379469442: 18, 9.350824603636404: 10, 8.280815900134927: 16, 8.505509643308228: 3, 8.073926296312012: 7, 8.455013490376794: 4, 8.976889832492011: 7, 8.570415437648926: 8, 1.6665357969888923: 1, 8.089034848571153: 42, 7.863030973789698: 22, 8.931795040642347: 2, 8.163453991898578: 2, 7.800667752278439: 8, 8.830044506730378: 6, 8.817223072216727: 2, 9.0726269997715: 2, 9.554172949482451: 1, 9.254876054501473: 1, 8.933494532546277: 3, 8.18433169559487: 2, 8.18172462716444: 4, 8.180082674149952: 13, 7.910846590092987: 13, 7.974982225371784: 1, 8.022119998426634: 1, 6.428663938461177: 7, 6.304880492219059: 1, 8.261626201873819: 9, 8.115990124392939: 6, 8.277715661636387: 3, 2.2061528109144946: 4, 2.588582738993164: 1, 2.1574280779189805: 2, 7.909150993349797: 5, 7.842731580359365: 9, 7.692653327653225: 2, 7.745330997018179: 1, 8.180183130311503: 1, 8.923642814459354: 1, 8.965471052968239: 5, 8.716322618171425: 5, 8.77469486579926: 4, 8.150901238045453: 16, 8.242738054768306: 5, 9.05847620566332: 1, 7.768416844088275: 1, 13.559341801793916: 1, 21.0: 12, 6.320649513835963: 2, 6.420596029860172: 4, 10.20664201034311: 2, 8.328460917798123: 4, 8.47792860319125: 5, 8.466753203737778: 5, 1.1884037301831045: 13, 8.500556581049057: 5, 8.671315891694228: 7, 8.553148696585913: 8, 8.745241743864552: 8, 8.591905136156361: 2, 2.432329050645834: 2, 2.0634318662678086: 1, 2.11108432756438: 2, 11.11560293908703: 3, 7.833133094411913: 5, 8.869880133468902: 13, 7.1575279223309165: 6, 8.7895295388073: 30, 8.871098481024317: 1, 8.032873445300721: 8, 11.440297315679118: 2, 9.540951393284043: 8, 6.608295352633389: 9, 6.546741462682302: 4, 6.275106423163701: 4, 6.835953748912324: 1, 6.544962733634312: 3, 6.945746902585528: 2, 5.628398171029637: 1, 6.463604472963318: 1, 6.7195706628541885: 4, 8.597741833359745: 1, 8.538887800684195: 19, 7.964643572395997: 7, 2.916342037832015: 1, 8.81956387244574: 5, 2.181292928542016: 3, 8.175399816397887: 4, 8.451629996092786: 1, 8.760206246231368: 2, 11.813395710125848: 2, 7.449707993627396: 1, 7.814641614715759: 3, 8.087161604801699: 21, 8.239425600800505: 16, 7.8245690507001076: 1, 6.341763041339458: 2, 6.403316931290545: 3, 6.512432846583026: 3, 8.52478258125657: 2, 2.38360431765032: 1, 8.414161088200924: 14, 8.475714978152011: 21, 7.912737197077231: 6, 8.639731383069: 26, 8.677524775778888: 1, 8.403735451057544: 7, 7.880558744501985: 7, 8.230633357334154: 3, 7.142539370447025: 3, 7.122309175399795: 3, 6.354548440385229: 8, 8.731157291179464: 1, 8.761791103368202: 6, 9.514436821334256: 1, 8.289875827823156: 2, 8.291517780837642: 2, 8.762064704705976: 5, 8.298768527451058: 11, 9.56206492078754: 8, 9.722064964003852: 8, 12.847095512460939: 8, 9.221034686092839: 15, 10.590934303337416: 3, 8.383653057081553: 3, 8.169564460977671: 9, 4.253906400149989: 1, 2.200680962018375: 5, 8.069596355073207: 7, 7.912434899378772: 7, 8.222537589452735: 9, 7.860010678928992: 3, 7.894663963929611: 10, 8.699055877108412: 2, 8.772734801160441: 8, 8.521328338577996: 5, 10.214415770052206: 3, 8.140029392103983: 3, 8.30539343538666: 10, 11.22739687373109: 3, 10.31488796591854: 3, 9.811841835478157: 1, 5.8743981032935535: 1, 6.789493214238197: 2, 6.399482502356677: 15, 6.168114627508858: 1, 6.611419462195472: 1, 6.714098813958069: 7, 9.275037924228478: 4, 8.006974352332211: 5, 8.044744860207512: 7, 8.103107732416513: 3, 8.106391638445487: 4, 7.97304645037949: 1, 8.453441674345076: 1, 4.61184403567279: 1, 8.356267695190821: 4, 2.03588300775896: 3, 2.3131093312786573: 1, 9.629587811681164: 8, 8.920330360491553: 3, 10.301931596348632: 1, 9.167758695432838: 1, 8.883805084916998: 4, 8.980632305601127: 2, 9.080836764843937: 4, 8.61754058758902: 3, 8.533729070046318: 2, 7.639935349925997: 1, 7.694651745847477: 12, 10.164058241521115: 2, 6.451419418979159: 5, 6.472237843494826: 2, 8.269872202342688: 10, 8.640402997173638: 2, 8.51338573800463: 6, 9.15808769409682: 5, 8.615958528321187: 5, 8.856380178443635: 1, 7.490259802381825: 2, 7.939642342056143: 3, 7.0732415722952355: 2, 6.997527879114603: 9, 9.346712871224327: 2, 9.385903902863271: 1, 8.838254271802814: 8, 8.121719801940953: 9, 8.230792230268998: 3, 11.671945404306577: 2, 9.549235763831966: 3, 9.195146932004931: 4, 6.56115757957854: 2, 5.7604058341599185: 2, 6.53845709213438: 5, 6.50119837201004: 1, 6.609777509180985: 1, 5.8220526123978935: 4, 6.609260067267154: 3, 6.548246639663287: 6, 8.588051102649981: 1, 9.113937705469489: 3, 8.167405066049353: 3, 2.343690852168116: 1, 8.473219282855256: 3, 2.0250392401946864: 3, 2.134155155487167: 2, 2.356934650365705: 1, 9.228206541599691: 4, 7.8052789525755095: 5, 8.409207299953664: 8, 8.049435495729346: 2, 8.878664436332823: 2, 8.888516154419746: 4, 8.35253120844151: 1, 8.489544714620036: 2, 8.281501786388045: 4, 7.216542218543029: 1, 6.498502198960186: 4, 6.312365143288041: 9, 6.76454904098072: 2, 6.475550297462627: 1, 8.599797354246899: 3, 8.0755682493265: 1, 8.133269222962564: 1, 8.275556266708069: 1, 2.771986337084325: 1, 8.692805590201663: 1, 8.686158146310396: 4, 8.463423641994083: 2, 1.9552009796956769: 7, 2.3174281211352934: 3, 7.931624597639879: 5, 7.506828543477669: 3, 8.838712770724163: 1, 6.987880364482282: 2, 7.240249923587418: 1, 7.248883294118924: 1, 9.991935232763039: 3, 10.584758234677729: 2, 6.625574451203017: 3, 8.53508645274139: 7, 8.368617997528661: 6, 8.370772656387988: 4, 7.8434168992861455: 4, 8.497272675020083: 5, 2.775201086277305: 1, 8.250606051751852: 4, 8.119858237690138: 8, 7.834098209827858: 4, 8.853824496456225: 1, 8.7354760810361: 2, 7.459548674164851: 1, 8.340585383942202: 1, 6.557845125610738: 3, 8.488242902245215: 1, 7.950572846089408: 1, 8.457168149236123: 2, 2.112156599263322: 8, 1.963485350243599: 2, 8.057650530573898: 5, 7.657783049837164: 1, 8.925802209387673: 3, 7.158716978349385: 2, 7.046252612110117: 6, 8.39966898149636: 1, 9.265673029143064: 6, 6.575124224180366: 4, 6.442114774455883: 1, 6.23784770303936: 2, 9.238313784662466: 11, 9.326838147417519: 5, 8.582483554892635: 1, 8.214542839104203: 4, 2.7934760355917616: 1, 8.795691970887203: 6, 8.611520944213748: 2, 2.2511311890410255: 1, 2.250453950660303: 1, 7.893181807382016: 5, 7.094977345105631: 8, 7.317527965547229: 9, 9.7658432839167: 4, 9.72858456379236: 2, 8.028789357173864: 5, 7.630228869113763: 1, 7.704700090573848: 1, 11.23012466463114: 1, 9.29649641826205: 6, 9.359669240794236: 8, 6.501763084555771: 1, 5.908956300432807: 1, 6.5174232505443: 2, 6.488006865111729: 12, 5.6602041420468545: 2, 6.391405218336836: 2, 7.242158403542872: 3, 6.449777465964672: 3, 6.646381845872405: 2, 6.666961040903219: 1, 6.895296675562877: 2, 3.204412128915986: 1, 2.5950973147505607: 1, 8.36721139298306: 4, 2.5462287087811157: 2, 7.863323132896793: 1, 7.0148181798961495: 1, 9.224328368109433: 3, 9.933845148395438: 3, 6.515781297529813: 2, 6.580596073076485: 7, 6.898609129530678: 2, 6.663648586935418: 2, 9.985645371584479: 3, 8.38797184693819: 27, 8.362892603126424: 1, 8.57938956956977: 7, 2.3624907901468246: 1, 2.1440342084176764: 1, 2.252613345588621: 1, 7.850201816834125: 2, 8.16483661581667: 2, 8.272987816475386: 11, 7.835287753271242: 1, 7.206252655326431: 14, 7.081525942843158: 10, 8.009496935546602: 1, 11.334493854354438: 2, 5.751290323391379: 1, 6.333478670791536: 2, 6.605947613299352: 2, 6.086005025942912: 1, 8.136581676930366: 1, 2.986180298331024: 1, 8.590407416710253: 4, 8.736608373333045: 2, 2.1429799883823097: 5, 2.0948775006936957: 3, 1.9262266301192588: 1, 7.675374229083599: 3, 7.618985351953809: 1, 7.223531753896057: 8, 7.129535542244885: 7, 9.306401645668267: 1, 9.161830167205935: 3, 8.930182078578476: 2, 8.879731851555825: 2, 8.232434183283486: 5, 9.225970321123919: 1, 6.296596121671136: 1, 9.234721996236138: 1, 8.107356753861431: 2, 8.183719449985215: 3, 8.213160215186111: 2, 2.7287405516031784: 1, 4.30630180125633: 1, 7.141437879779758: 5, 6.976414351611108: 2, 7.152056073434797: 4, 7.357034494777641: 2, 8.870975927961425: 1, 8.201610794164498: 3, 8.104749685430999: 4, 8.834743313367921: 1, 8.686192847095034: 2, 8.626815219659843: 4, 1.9763145071991723: 3, 1.9288912121041175: 2, 15.337810807537982: 1, 8.225850043420538: 1, 7.688203386039172: 3, 7.136414394827421: 6, 7.034340899156408: 2, 6.357832346414203: 2, 7.254355143015044: 6, 7.191182320482859: 7, 7.155368527402598: 2, 9.93585103072543: 1, 8.628484285381258: 6, 11.25858616466221: 1, 9.289544930701599: 2, 9.275409741437691: 1, 8.080202397182752: 1, 3.020738495470278: 1, 7.041341790961303: 3, 7.581482576419763: 2, 6.880783383858932: 1, 5.937454559670024: 1, 7.867194106404969: 2, 2.867617304836501: 1, 2.0814260984312223: 2, 2.0342410547444727: 1, 2.701428177093079: 1, 2.4073848773883557: 1, 7.295387326627548: 1, 7.130942545931301: 2, 8.29560700581567: 2, 7.929605943323057: 1, 9.39670087750486: 4, 6.72793932428711: 1, 6.296219950667196: 1, 6.456219993883509: 1, 6.450748144987389: 1, 6.038355013715325: 1, 9.607164163592364: 3, 6.6691204358315375: 2, 9.262185686221002: 1, 3.7291592645329876: 1, 3.7815546656393284: 1, 8.010570105587888: 1, 8.970780587514202: 1, 7.268510132022588: 2, 7.071599619280748: 5, 7.035982852170896: 3, 6.312728371318836: 1, 11.528456433421397: 1, 7.956355758658274: 5, 9.534705676306942: 2, 8.359761408082935: 3, 8.587955403788754: 2, 8.212900886089715: 2, 8.167922507963183: 1, 8.637090543205836: 10, 8.564324096039385: 2, 1.9845988777470944: 3, 2.1602590869519362: 1, 2.209326690056495: 1, 3.3626036025126607: 2, 2.6216435709798285: 3, 7.705482484608798: 1, 7.3153685706189115: 1, 8.840309792689968: 1, 8.86246511049281: 1, 8.885203700451944: 3, 6.023864111729676: 1, 8.138741071858684: 2, 8.221793585717617: 3, 8.492272210501135: 6, 8.698103970809703: 1, 2.042318338764313: 9, 1.9390557870748322: 1, 2.0942552553867957: 3, 7.837372659878552: 2, 7.019136969752785: 2, 9.256756114971266: 1, 8.83162936386721: 3, 7.103183813765169: 2, 9.85500868813569: 1, 2.187798570041949: 1, 7.3496622467907375: 1, 7.325770597792121: 1, 7.194486872582246: 2, 7.063531710679745: 1, 9.774127654464621: 1, 5.944079467605627: 1, 8.153817288535558: 2, 7.246852423114096: 1, 2.050602709312235: 1, 7.722857392728097: 1, 7.639478653043658: 1, 6.926326474531194: 1, 7.480531382746383: 2, 7.407484721800292: 2, 8.862691557413502: 1, 8.707265642180847: 1, 9.503692673159705: 6, 6.837595701926811: 1, 8.056647197742386: 1, 8.626902226113426: 1, 2.151956229022861: 1, 1.8806835394469967: 2, 6.971869565203457: 1, 11.26465559385543: 1, 9.496406380196323: 2, 2.879083317707675: 1, 2.1064403093709547: 1, 8.861246762937395: 1, 9.085647808212762: 1, 9.571821242395036: 1, 7.235908725321857: 1, 3.2986876750256844: 1, 2.192047591486868: 1, 3.828692438694178: 1, 7.882200697516472: 1, 7.736305873727786: 1, 8.876505041404505: 1, 8.866718611833514: 2, 9.378786537859012: 1, 9.45465627452901: 2, 13.279434695288087: 1, 7.121765163217628: 1, 8.516453341100467: 1, 2.071499774868813: 5, 8.615955730452185: 1, 8.620274520308822: 2, 8.7487560144711: 1, 12.472154632165067: 1, 8.241067553814993: 6, 6.719654953739188: 2, 9.277912764887224: 2, 8.47650318888423: 1, 1.7249080446167278: 1, 8.163194662802184: 1, 7.892504569001293: 2, 7.218059904999937: 1, 7.742758530177128: 1, 9.108029572936296: 1, 6.4996036896274525: 2, 6.479373494580223: 1, 10.282056872541823: 1, 8.474367339786323: 3, 8.632827857697594: 2, 7.033423455154544: 3, 7.042418183176249: 4, 7.478889429731897: 1, 7.990877083768539: 1, 8.781019171708362: 4, 7.1156417644977275: 1, 3.550205088741497: 1, 2.2684102876106524: 2, 2.129435697832949: 1, 1.8109504639164944: 1, 7.8507881211407975: 6, 8.13340448416838: 3, 2.924626408379937: 1, 8.614299065708868: 2, 1.8980678229851304: 2, 1.666699948137312: 1, 8.168925840794698: 2, 8.757428124736247: 1, 7.0850504552754545: 1, 7.14342270290329: 1, 6.484177991478573: 1, 9.530154418642454: 1, 8.770075473916123: 1, 8.540769409983579: 1, 9.470425296145912: 1, 7.7504958299378925: 1, 9.600080971614082: 4, 2.2234319094841215: 3, 2.583487428905456: 1, 1.9920640346363028: 2, 7.050702553724171: 1, 7.763350687354642: 1, 8.685089762972535: 2, 1.9779588152086762: 1, 7.948535041684044: 3, 6.410177837309863: 1, 7.093683825806961: 1, 7.840115706235913: 1, 7.977141620300102: 1, 11.382596342043053: 2, 8.063003206632553: 1, 8.598691787258174: 2, 8.527044858291498: 2, 7.734663920713299: 1, 8.720545575615848: 1, 8.935653927474595: 1, 6.362223782232337: 1, 9.135427403976927: 1, 10.131227148144397: 2, 9.709108594433944: 2, 8.11930257836074: 2, 8.701416424777506: 1, 2.1895772990899385: 1, 7.005159463051909: 1, 2.830358584712161: 1, 8.628457172674329: 3, 7.36250634367376: 3, 9.83568154441571: 1, 9.18684004062235: 1, 7.085904715195542: 1, 8.084098140664265: 1, 8.873192587436703: 3, 8.926719819249001: 2, 7.769880445009908: 2, 8.7526469896869: 2, 8.227265434613736: 1, 7.143079832794245: 1, 7.144698765375343: 1, 7.181392772953952: 1, 6.936530470941252: 1, 9.28569944362046: 1, 8.458913523241195: 1, 2.130493701535781: 1, 7.589766946967686: 1, 7.1305935459477165: 1, 7.189540367468372: 2, 7.252195748086726: 1, 6.722685214004524: 1, 7.737384815917024: 1, 10.28705510400759: 2, 9.070770852811956: 4, 9.172309953097326: 1, 8.272243812740268: 1, 8.635412593212363: 1, 3.7188992850209743: 1, 8.76849061677929: 1, 7.994420718869729: 1, 8.386823790007123: 2, 8.503891901367727: 1, 2.8095793777517954: 1, 7.846044034327167: 2, 7.43242889505777: 1, 12.189327993835972: 1, 9.52518237166714: 2, 6.654755887307516: 1, 5.970603078670781: 1, 3.072595726179345: 1, 3.689717848916475: 1, 2.0573727062663965: 2, 2.5436043608666328: 1, 12.117653046840122: 1, 3.0135121286251874: 1, 8.093369845180344: 1, 9.454499195054163: 1, 1.7037945171132325: 1, 7.939901671152538: 1, 2.0333236107426083: 1, 8.116137743105366: 1, 9.204057982223238: 1, 2.6649945414294827: 1, 8.708242719896306: 2, 8.73781231667886: 1, 10.694608894755177: 2, 7.605535968584589: 2, 8.988860258962857: 1, 2.962802572506141: 1, 2.306484423343054: 1, 8.183495584279305: 1, 8.600273846526004: 1, 7.549505430417914: 1, 8.492824806298074: 1, 7.962102752587251: 1, 2.9336211364016416: 1, 8.736314597232752: 1, 6.390487774334972: 1, 7.132365249869668: 1, 11.534632502081088: 1, 8.609330822516583: 1, 6.98469872215903: 2, 8.008981796302104: 1, 8.30208098141886: 1, 10.15484178715407: 1, 6.509120392615225: 1, 1.9974280347026678: 2, 7.957319344547965: 1, 9.343028028810743: 3, 7.907562684064013: 1, 6.806772312807825: 1, 6.6702734948710205: 2, 6.740768481242684: 1, 7.191708176520221: 1, 10.89205061834099: 1, 7.2386079705729305: 1, 8.23430493821368: 2, 7.84670080531512: 1, 8.883044305523626: 2, 9.10519017575187: 1, 9.188872222936332: 1, 8.973680818040675: 1}\n",
      "../rcv_elections_database/single/Minneapolis_11022021_CityCouncilWard3.csv\n"
     ]
    },
    {
     "name": "stderr",
     "output_type": "stream",
     "text": [
      "/Users/es5891/Documents/GitHub/bugs-in-democracy/rcv_exploration/../rcv_learning/rcv_dimensionality.py:188: RuntimeWarning: divide by zero encountered in divide\n",
      "  distance = 1 / np.sqrt(freq_upper_triangle)\n"
     ]
    },
    {
     "name": "stdout",
     "output_type": "stream",
     "text": [
      "Normalized distances: {'Steve Fletcher': 0.0, 'Michael Rainville': 1.0576886282110305, 'Merv Moorhead': 1.4795480116741921, 'Hope Hennessey': 3.0}\n"
     ]
    },
    {
     "name": "stderr",
     "output_type": "stream",
     "text": [
      "/Users/es5891/Documents/GitHub/bugs-in-democracy/rcv_exploration/../rcv_learning/rcv_dimensionality.py:188: RuntimeWarning: divide by zero encountered in divide\n",
      "  distance = 1 / np.sqrt(freq_upper_triangle)\n"
     ]
    },
    {
     "name": "stdout",
     "output_type": "stream",
     "text": [
      "Consistency points: {0.0: 2711, 1.0576886282110305: 2459, 0.559943501459274: 78, 0.369887002918548: 184, 0.2644221570527576: 552, 0.3171545799856528: 785, 1.479548011674192: 237, 1.1631534740768208: 1365, 0.5072110785263788: 155, 1.030942395550442: 430, 1.5432664711582729: 104, 0.75: 194, 3.0: 478, 1.67471750729637: 26, 1.859661008755644: 23}\n",
      "../rcv_elections_database/single/Minnetonka_11022021_CityCouncilAtLargeSeatA.csv\n"
     ]
    },
    {
     "name": "stderr",
     "output_type": "stream",
     "text": [
      "/Users/es5891/Documents/GitHub/bugs-in-democracy/rcv_exploration/../rcv_learning/rcv_dimensionality.py:188: RuntimeWarning: divide by zero encountered in divide\n",
      "  distance = 1 / np.sqrt(freq_upper_triangle)\n"
     ]
    },
    {
     "name": "stdout",
     "output_type": "stream",
     "text": [
      "Normalized distances: {'Iola Kostrzewski': 0.0, 'Deb Calvert': 1.0779450787702367, 'Karen Ahlbrecht': 2.3837236087913536, 'Marshall Glynn': 3.0668455266851864, 'Wyn Ray': 4.0}\n"
     ]
    },
    {
     "name": "stderr",
     "output_type": "stream",
     "text": [
      "/Users/es5891/Documents/GitHub/bugs-in-democracy/rcv_exploration/../rcv_learning/rcv_dimensionality.py:188: RuntimeWarning: divide by zero encountered in divide\n",
      "  distance = 1 / np.sqrt(freq_upper_triangle)\n"
     ]
    },
    {
     "name": "stdout",
     "output_type": "stream",
     "text": [
      "Consistency points: {3.1915411909223232: 1620, 2.922054921229764: 2202, 2.9429286349329544: 184, 0.5672914140548013: 81, 0.0: 357, 0.40406909780216166: 75, 1.6162763912086466: 280, 4.0: 184, 2.8262843257686026: 180, 0.9331544733148128: 179, 2.0774641585602054: 63, 0.9872906436239197: 79, 1.7406864748128452: 56, 3.0283188746696834: 242, 0.31867885806543245: 1108, 2.010172744505404: 10, 0.730513730307441: 60, 2.212207293406485: 16, 1.942721023713926: 70, 0.2332886183287032: 79, 0.8652568651537205: 10, 1.5651227201398301: 9, 1.1039349527882714: 41, 1.6998658549861096: 12, 1.0: 11, 1.267157269040911: 23, 1.4303795852935508: 16, 0.7020345489010809: 6}\n",
      "../rcv_elections_database/single/SanLeandro_11042014_CountyCouncilDistrict1.csv\n"
     ]
    },
    {
     "name": "stderr",
     "output_type": "stream",
     "text": [
      "/Users/es5891/Documents/GitHub/bugs-in-democracy/rcv_exploration/../rcv_learning/rcv_dimensionality.py:188: RuntimeWarning: divide by zero encountered in divide\n",
      "  distance = 1 / np.sqrt(freq_upper_triangle)\n"
     ]
    },
    {
     "name": "stdout",
     "output_type": "stream",
     "text": [
      "Normalized distances: {'MIKE KATZ-LACABE': 0.0, 'DEBORAH COX': 1.1139115897275498, 'KENNETH PON': 1.715724813932364, 'DAVID L. ANDERSON, SR.': 3.0}\n"
     ]
    },
    {
     "name": "stderr",
     "output_type": "stream",
     "text": [
      "/Users/es5891/Documents/GitHub/bugs-in-democracy/rcv_exploration/../rcv_learning/rcv_dimensionality.py:188: RuntimeWarning: divide by zero encountered in divide\n",
      "  distance = 1 / np.sqrt(freq_upper_triangle)\n"
     ]
    },
    {
     "name": "stdout",
     "output_type": "stream",
     "text": [
      "Consistency points: {1.1139115897275498: 1863, 3.0: 699, 0.3537045504574892: 779, 0.428931203483091: 149, 2.0367936104492728: 104, 1.5854336922956622: 215, 0.0: 808, 1.2643648957787534: 322, 1.1251259470628097: 900, 1.715724813932364: 867, 0.5142389487159438: 343, 0.27847789743188744: 229, 1.8223280087077276: 163, 0.75: 64, 0.5894656017415455: 231}\n",
      "../rcv_elections_database/single/Oakland_11032020_CityAttorneyOaklandRCV.csv\n"
     ]
    },
    {
     "name": "stderr",
     "output_type": "stream",
     "text": [
      "/Users/es5891/Documents/GitHub/bugs-in-democracy/rcv_exploration/../rcv_learning/rcv_dimensionality.py:188: RuntimeWarning: divide by zero encountered in divide\n",
      "  distance = 1 / np.sqrt(freq_upper_triangle)\n"
     ]
    },
    {
     "name": "stdout",
     "output_type": "stream",
     "text": [
      "Normalized distances: {'BARBARA PARKER': 0.0, 'ELI FERRAN': 1.0}\n"
     ]
    },
    {
     "name": "stderr",
     "output_type": "stream",
     "text": [
      "/Users/es5891/Documents/GitHub/bugs-in-democracy/rcv_exploration/../rcv_learning/rcv_dimensionality.py:188: RuntimeWarning: divide by zero encountered in divide\n",
      "  distance = 1 / np.sqrt(freq_upper_triangle)\n"
     ]
    },
    {
     "name": "stdout",
     "output_type": "stream",
     "text": [
      "Consistency points: {0.25: 22204, 0.0: 12591, 1.0: 51607}\n",
      "Error in file: ../rcv_elections_database/single/Oakland_11032020_CityAttorneyOaklandRCV.csv\n",
      "unsupported operand type(s) for -: 'float' and 'NoneType'\n",
      "../rcv_elections_database/single/Alaska_11082022_SenateDistrictG.csv\n"
     ]
    },
    {
     "name": "stderr",
     "output_type": "stream",
     "text": [
      "/Users/es5891/Documents/GitHub/bugs-in-democracy/rcv_exploration/../rcv_learning/rcv_dimensionality.py:188: RuntimeWarning: divide by zero encountered in divide\n",
      "  distance = 1 / np.sqrt(freq_upper_triangle)\n"
     ]
    },
    {
     "name": "stdout",
     "output_type": "stream",
     "text": [
      "Normalized distances: {'Gray-Jackson, Elvi': 0.0, 'Sanders, Marcus D.': 1.0}\n"
     ]
    },
    {
     "name": "stderr",
     "output_type": "stream",
     "text": [
      "/Users/es5891/Documents/GitHub/bugs-in-democracy/rcv_exploration/../rcv_learning/rcv_dimensionality.py:188: RuntimeWarning: divide by zero encountered in divide\n",
      "  distance = 1 / np.sqrt(freq_upper_triangle)\n"
     ]
    },
    {
     "name": "stdout",
     "output_type": "stream",
     "text": [
      "Consistency points: {0.0: 4705, 0.25: 1645, 1.0: 3899}\n",
      "Error in file: ../rcv_elections_database/single/Alaska_11082022_SenateDistrictG.csv\n",
      "unsupported operand type(s) for -: 'float' and 'NoneType'\n",
      "../rcv_elections_database/single/Alaska_11082022_SenateDistrictP.csv\n"
     ]
    },
    {
     "name": "stderr",
     "output_type": "stream",
     "text": [
      "/Users/es5891/Documents/GitHub/bugs-in-democracy/rcv_exploration/../rcv_learning/rcv_dimensionality.py:188: RuntimeWarning: divide by zero encountered in divide\n",
      "  distance = 1 / np.sqrt(freq_upper_triangle)\n"
     ]
    },
    {
     "name": "stdout",
     "output_type": "stream",
     "text": [
      "Normalized distances: {'Matherly, Jim': 0.0, 'Jafre, Alex N.': 0.6944006801222601, 'Kawasaki, Scott': 2.0}\n"
     ]
    },
    {
     "name": "stderr",
     "output_type": "stream",
     "text": [
      "/Users/es5891/Documents/GitHub/bugs-in-democracy/rcv_exploration/../rcv_learning/rcv_dimensionality.py:188: RuntimeWarning: divide by zero encountered in divide\n",
      "  distance = 1 / np.sqrt(freq_upper_triangle)\n"
     ]
    },
    {
     "name": "stdout",
     "output_type": "stream",
     "text": [
      "Consistency points: {0.5: 433, 0.0: 2434, 1.3055993198777391: 208, 2.0: 1418, 0.3263998299694348: 156, 1.4791994899083043: 190, 0.4131999149847174: 555, 1.3159995749235869: 99}\n",
      "../rcv_elections_database/single/NewYorkCity_06222021_DEMCouncilMember48thCouncilDistrict.csv\n"
     ]
    },
    {
     "name": "stderr",
     "output_type": "stream",
     "text": [
      "/Users/es5891/Documents/GitHub/bugs-in-democracy/rcv_exploration/../rcv_learning/rcv_dimensionality.py:188: RuntimeWarning: divide by zero encountered in divide\n",
      "  distance = 1 / np.sqrt(freq_upper_triangle)\n"
     ]
    },
    {
     "name": "stdout",
     "output_type": "stream",
     "text": [
      "Normalized distances: {'Heshy Tischler': 0.0, 'Binyomin Zev Bendet': 1.4851469720963315, 'Amber L. Adler': 2.3675947294345905, 'Steven Saperstein': 3.0081725448581653, 'Mariya Markh': 4.0}\n"
     ]
    },
    {
     "name": "stderr",
     "output_type": "stream",
     "text": [
      "/Users/es5891/Documents/GitHub/bugs-in-democracy/rcv_exploration/../rcv_learning/rcv_dimensionality.py:188: RuntimeWarning: divide by zero encountered in divide\n",
      "  distance = 1 / np.sqrt(freq_upper_triangle)\n"
     ]
    },
    {
     "name": "stdout",
     "output_type": "stream",
     "text": [
      "Consistency points: {1.6220577810829195: 1197, 4.0: 834, 2.2165433358121898: 275, 3.3350998970736585: 141, 2.5940424519059673: 56, 3.1134665294315447: 503, 1.994909968170076: 160, 2.105726651991133: 66, 1.8714003939754607: 74, 1.693754985827798: 5, 0.5578899226722647: 13, 2.125389935874623: 298, 3.047295192212398: 5, 1.5451335971454805: 32, 0.0: 135, 1.7478908197808454: 112, 2.4832257680849104: 31, 3.1486738035300803: 52, 2.013786113176825: 16, 0.4055144452707299: 31, 1.8443324769989369: 31, 1.7921527455347108: 18, 2.4266556939227266: 26, 3.2115903228790432: 18, 0.5855940936275289: 4, 2.3724090842638534: 55, 3.180132063204562: 18, 1.7700217826577782: 14, 3.1294427575457204: 23, 0.6548570581632709: 9, 0.5313474839686557: 23, 1.0: 16, 2.9459165808947154: 6, 2.00434804067345: 8, 0.5301857517170004: 12, 0.4684309646196928: 15, 2.1067353422795256: 17, 3.0787534518868793: 3, 1.9407741342170284: 15, 2.3283687099216395: 14, 0.7656737419843278: 1, 0.7783666323578862: 14, 0.6473488807248364: 3, 0.7027572226353649: 6, 0.7102654000737993: 1, 0.591940538814308: 4, 2.3503888970927465: 2}\n",
      "../rcv_elections_database/single/Oakland_11062018_CityCouncilDistrict4.csv\n"
     ]
    },
    {
     "name": "stderr",
     "output_type": "stream",
     "text": [
      "/Users/es5891/Documents/GitHub/bugs-in-democracy/rcv_exploration/../rcv_learning/rcv_dimensionality.py:188: RuntimeWarning: divide by zero encountered in divide\n",
      "  distance = 1 / np.sqrt(freq_upper_triangle)\n"
     ]
    },
    {
     "name": "stdout",
     "output_type": "stream",
     "text": [
      "Normalized distances: {'SHENG THAO': 0.0, 'NAYELI MAXSON': 0.7596578053980052, 'PAM HARRIS': 2.081816869192955, 'JOSEPH TANIOS': 2.79740564672084, 'MATT HUMMEL': 3.157859176626264, 'CHARLIE MICHELSON': 4.987894406294352, 'JOSEPH E. SIMMONS': 6.0}\n"
     ]
    },
    {
     "name": "stderr",
     "output_type": "stream",
     "text": [
      "/Users/es5891/Documents/GitHub/bugs-in-democracy/rcv_exploration/../rcv_learning/rcv_dimensionality.py:188: RuntimeWarning: divide by zero encountered in divide\n",
      "  distance = 1 / np.sqrt(freq_upper_triangle)\n"
     ]
    },
    {
     "name": "stdout",
     "output_type": "stream",
     "text": [
      "Consistency points: {0.5438656814145197: 216, 0.7140466247687582: 696, 0.4892052376316557: 543, 1.9568209505266227: 1554, 6.0: 707, 2.3941045007895347: 217, 0.17851165619218956: 477, 4.240395323780202: 13, 0.3338584469119226: 1791, 0.0: 1530, 1.0247402062082243: 264, 2.5280715111686103: 41, 2.967615712894967: 97, 2.290099383168001: 137, 4.4504025582828: 17, 3.289934681092136: 235, 1.5: 91, 1.821539219276523: 83, 0.7748305179526493: 103, 3.295578375592151: 19, 0.9414697342733386: 19, 4.2418231930945725: 197, 1.2802278991368214: 27, 1.1913794225289136: 80, 1.0794006499910884: 98, 2.045496764352173: 126, 0.6558444539523449: 172, 4.151139495684108: 12, 1.9107950473726176: 76, 3.41592803655492: 7, 2.0661418380923506: 88, 0.5985261251973837: 63, 1.5959907668502118: 31, 2.5567711112671025: 12, 1.8157628677133903: 15, 2.618062045865185: 12, 1.3580186388496027: 21, 0.8294909617355134: 29, 1.4770047028499071: 14, 1.0492630625986918: 37, 4.68136739482093: 23, 2.4090854471683056: 19, 3.6454650037786798: 9, 1.2460398663117775: 11, 1.0604557982736431: 37, 2.134752592448268: 145, 1.1340610937739524: 51, 1.310365486529218: 59, 2.0355349685765685: 55, 2.2834688923527824: 27, 2.408054811362588: 8, 3.0758062747289725: 25, 0.822483670273034: 35, 0.7105048977352089: 20, 3.116664973956228: 9, 2.7370481098654897: 9, 2.856034173865794: 16, 2.3187989832664933: 5, 3.361267592772056: 8, 3.205920802052323: 9, 2.646026939363197: 11, 1.6967768037130857: 13, 4.395742114499936: 13, 2.7478436120317884: 22, 3.5279068090927455: 11, 1.3650259303120822: 14, 3.967451010819102: 8, 1.161241835136517: 14, 3.7476789099559236: 9, 3.556209175682585: 4}\n",
      "../rcv_elections_database/single/SanFrancisco_11082005_Treasurer.csv\n"
     ]
    },
    {
     "name": "stderr",
     "output_type": "stream",
     "text": [
      "/Users/es5891/Documents/GitHub/bugs-in-democracy/rcv_exploration/../rcv_learning/rcv_dimensionality.py:188: RuntimeWarning: divide by zero encountered in divide\n",
      "  distance = 1 / np.sqrt(freq_upper_triangle)\n"
     ]
    },
    {
     "name": "stdout",
     "output_type": "stream",
     "text": [
      "Normalized distances: {'Manuel B. Valle': 0.0, 'Jose Cisneros': 1.3321260069291803, 'Calvin Louie': 1.951637834521075, 'Isaac Wang': 3.0}\n"
     ]
    },
    {
     "name": "stderr",
     "output_type": "stream",
     "text": [
      "/Users/es5891/Documents/GitHub/bugs-in-democracy/rcv_exploration/../rcv_learning/rcv_dimensionality.py:188: RuntimeWarning: divide by zero encountered in divide\n",
      "  distance = 1 / np.sqrt(freq_upper_triangle)\n"
     ]
    },
    {
     "name": "stdout",
     "output_type": "stream",
     "text": [
      "Consistency points: {1.3204882129610065: 8035, 1.3321260069291805: 52051, 0.6189547293151344: 1042, 0.48790945863026874: 287, 1.5825787543307377: 4502, 1.4870039638271542: 6895, 0.41047048018128196: 1285, 0.5415157508661476: 752, 1.9697736465756719: 4398, 1.951637834521075: 13040, 2.213728375890806: 3860, 3.0: 3833, 1.6180492345120197: 11249, 0.3330315017322951: 566, 0.0: 2741, 1.7490945051968854: 2189, 0.75: 145}\n",
      "../rcv_elections_database/single/Oakland_11062018_CityCouncilDistrict6.csv\n"
     ]
    },
    {
     "name": "stderr",
     "output_type": "stream",
     "text": [
      "/Users/es5891/Documents/GitHub/bugs-in-democracy/rcv_exploration/../rcv_learning/rcv_dimensionality.py:188: RuntimeWarning: divide by zero encountered in divide\n",
      "  distance = 1 / np.sqrt(freq_upper_triangle)\n"
     ]
    },
    {
     "name": "stdout",
     "output_type": "stream",
     "text": [
      "Normalized distances: {'MARLO RODRIGUEZ': 0.0, 'NATASHA MIDDLETON': 1.1814033174432832, 'LOREN TAYLOR': 1.775407720400896, 'MYA WHITAKER': 2.262100257475365, 'DESLEY BROOKS': 4.0}\n"
     ]
    },
    {
     "name": "stderr",
     "output_type": "stream",
     "text": [
      "/Users/es5891/Documents/GitHub/bugs-in-democracy/rcv_exploration/../rcv_learning/rcv_dimensionality.py:188: RuntimeWarning: divide by zero encountered in divide\n",
      "  distance = 1 / np.sqrt(freq_upper_triangle)\n"
     ]
    },
    {
     "name": "stdout",
     "output_type": "stream",
     "text": [
      "Consistency points: {2.81859668255672: 276, 0.0: 1556, 0.5561480698997764: 232, 2.3122568132042005: 1304, 0.85232458531959: 89, 2.520768795018919: 883, 4.0: 342, 2.668444209699329: 115, 0.5695620531351695: 218, 0.7172374678155795: 195, 0.6303986202694782: 288, 2.2245922795991055: 1405, 0.7780740349498882: 161, 1.737899742524636: 419, 0.4953115027654677: 334, 2.9788603944135295: 156, 1.7908365097170775: 82, 1.0: 58, 2.0861873390778976: 81, 1.9338234271629553: 292, 0.70464917063918: 68, 2.303424806893477: 134, 2.390370174749441: 63, 2.008073977532657: 54, 1.642335408977674: 147, 0.434474935631159: 311, 2.373093380338509: 242, 2.095019345388621: 207, 2.155749392213067: 159, 3.11394751191754: 39, 1.8595728767932536: 84, 2.76162292659795: 32}\n",
      "../rcv_elections_database/single/NewYorkCity_06222021_DEMCouncilMember47thCouncilDistrict.csv\n"
     ]
    },
    {
     "name": "stderr",
     "output_type": "stream",
     "text": [
      "/Users/es5891/Documents/GitHub/bugs-in-democracy/rcv_exploration/../rcv_learning/rcv_dimensionality.py:188: RuntimeWarning: divide by zero encountered in divide\n",
      "  distance = 1 / np.sqrt(freq_upper_triangle)\n"
     ]
    },
    {
     "name": "stdout",
     "output_type": "stream",
     "text": [
      "Normalized distances: {'Ari Kagan': 0.0, 'Steven D. Patzer': 0.889150280644365, 'Alec Brook-Krasny': 1.8548252580577622, 'Joseph Packer': 3.0}\n"
     ]
    },
    {
     "name": "stderr",
     "output_type": "stream",
     "text": [
      "/Users/es5891/Documents/GitHub/bugs-in-democracy/rcv_exploration/../rcv_learning/rcv_dimensionality.py:188: RuntimeWarning: divide by zero encountered in divide\n",
      "  distance = 1 / np.sqrt(freq_upper_triangle)\n"
     ]
    },
    {
     "name": "stdout",
     "output_type": "stream",
     "text": [
      "Consistency points: {3.0: 486, 0.22228757016109124: 393, 0.46370631451444055: 194, 0.0: 1624, 0.889150280644365: 1169, 0.4145703637091558: 162, 1.9648376788263742: 33, 1.8548252580577622: 264, 1.151353347376896: 93, 1.1305690249977143: 81, 2.0204095713666472: 16, 0.75: 101, 2.1411189435433218: 29, 0.3429969423377659: 79, 1.4168627104832736: 88, 1.0194252399171686: 68, 0.6068531572572202: 38, 1.273715867740494: 27, 1.9092657862861013: 10}\n",
      "../rcv_elections_database/single/Alaska_11082022_SenateDistrictR.csv\n"
     ]
    },
    {
     "name": "stderr",
     "output_type": "stream",
     "text": [
      "/Users/es5891/Documents/GitHub/bugs-in-democracy/rcv_exploration/../rcv_learning/rcv_dimensionality.py:188: RuntimeWarning: divide by zero encountered in divide\n",
      "  distance = 1 / np.sqrt(freq_upper_triangle)\n"
     ]
    },
    {
     "name": "stdout",
     "output_type": "stream",
     "text": [
      "Normalized distances: {'Williams, Robert \"Bert\"': 0.0, 'Verhagen, Elijah M.': 1.1307433087986196, 'Bishop, Click': 2.0}\n"
     ]
    },
    {
     "name": "stderr",
     "output_type": "stream",
     "text": [
      "/Users/es5891/Documents/GitHub/bugs-in-democracy/rcv_exploration/../rcv_learning/rcv_dimensionality.py:188: RuntimeWarning: divide by zero encountered in divide\n",
      "  distance = 1 / np.sqrt(freq_upper_triangle)\n"
     ]
    },
    {
     "name": "stdout",
     "output_type": "stream",
     "text": [
      "Consistency points: {2.0: 4849, 1.13074330879862: 1811, 1.348057481598965: 968, 1.2067145679991376: 483, 0.5: 216, 0.0: 1219, 0.39134291359982754: 314, 0.282685827199655: 129}\n",
      "../rcv_elections_database/single/NewYorkCity_06222021_DEMBoroughPresidentQueens.csv\n"
     ]
    },
    {
     "name": "stderr",
     "output_type": "stream",
     "text": [
      "/Users/es5891/Documents/GitHub/bugs-in-democracy/rcv_exploration/../rcv_learning/rcv_dimensionality.py:188: RuntimeWarning: divide by zero encountered in divide\n",
      "  distance = 1 / np.sqrt(freq_upper_triangle)\n"
     ]
    },
    {
     "name": "stdout",
     "output_type": "stream",
     "text": [
      "Normalized distances: {'Donovan J. Richards Jr.': 0.0, 'Elizabeth S. Crowley': 0.8834776065542802, 'James G. Van Bramer': 2.0}\n"
     ]
    },
    {
     "name": "stderr",
     "output_type": "stream",
     "text": [
      "/Users/es5891/Documents/GitHub/bugs-in-democracy/rcv_exploration/../rcv_learning/rcv_dimensionality.py:188: RuntimeWarning: divide by zero encountered in divide\n",
      "  distance = 1 / np.sqrt(freq_upper_triangle)\n"
     ]
    },
    {
     "name": "stdout",
     "output_type": "stream",
     "text": [
      "Consistency points: {0.360434700819285: 22770, 0.0: 33468, 0.22086940163857005: 10788, 0.5: 4567, 1.052173504096425: 11862, 0.8834776065542802: 34999, 1.1626082049157103: 3800, 2.0: 11740}\n",
      "../rcv_elections_database/single/Alaska_11082022_SenateDistrictE.csv\n"
     ]
    },
    {
     "name": "stderr",
     "output_type": "stream",
     "text": [
      "/Users/es5891/Documents/GitHub/bugs-in-democracy/rcv_exploration/../rcv_learning/rcv_dimensionality.py:188: RuntimeWarning: divide by zero encountered in divide\n",
      "  distance = 1 / np.sqrt(freq_upper_triangle)\n"
     ]
    },
    {
     "name": "stdout",
     "output_type": "stream",
     "text": [
      "Normalized distances: {'Cacy, Roselynn': 0.0, 'Giessel, Cathy': 0.9714724144375309, 'Holland, Roger': 2.0}\n"
     ]
    },
    {
     "name": "stderr",
     "output_type": "stream",
     "text": [
      "/Users/es5891/Documents/GitHub/bugs-in-democracy/rcv_exploration/../rcv_learning/rcv_dimensionality.py:188: RuntimeWarning: divide by zero encountered in divide\n",
      "  distance = 1 / np.sqrt(freq_upper_triangle)\n"
     ]
    },
    {
     "name": "stdout",
     "output_type": "stream",
     "text": [
      "Consistency points: {1.02852758556247: 2003, 0.37856594819530875: 531, 0.2571318963906175: 2074, 2.0: 2873, 0.0: 2689, 1.1428297409765438: 561, 0.5: 98, 1.2713956891718525: 879}\n",
      "../rcv_elections_database/single/NewYorkCity_06222021_DEMCouncilMember3rdCouncilDistrict.csv\n"
     ]
    },
    {
     "name": "stderr",
     "output_type": "stream",
     "text": [
      "/Users/es5891/Documents/GitHub/bugs-in-democracy/rcv_exploration/../rcv_learning/rcv_dimensionality.py:188: RuntimeWarning: divide by zero encountered in divide\n",
      "  distance = 1 / np.sqrt(freq_upper_triangle)\n"
     ]
    },
    {
     "name": "stdout",
     "output_type": "stream",
     "text": [
      "Normalized distances: {'Phelan D. Fitzpatrick': 0.0, 'Arthur Z. Schwartz': 0.9127518919273776, 'Erik D. Bottcher': 1.899052241778338, 'Leslie Boghosian Murphy': 2.870270655307933, 'Marni Halasa': 3.805074978713248, 'Aleta A. LaFargue': 5.0}\n"
     ]
    },
    {
     "name": "stderr",
     "output_type": "stream",
     "text": [
      "/Users/es5891/Documents/GitHub/bugs-in-democracy/rcv_exploration/../rcv_learning/rcv_dimensionality.py:188: RuntimeWarning: divide by zero encountered in divide\n",
      "  distance = 1 / np.sqrt(freq_upper_triangle)\n"
     ]
    },
    {
     "name": "stdout",
     "output_type": "stream",
     "text": [
      "Consistency points: {2.7787841023395607: 5861, 5.0: 639, 1.2896383054554914: 1405, 3.203027266530115: 36, 2.7246184435131147: 78, 0.9143643636945153: 28, 0.0: 771, 1.583885071651606: 10, 3.0719664563055593: 406, 1.6619247546765088: 506, 0.5787287273890308: 119, 2.3027226322394037: 75, 2.4308822077519827: 401, 2.3149149095561232: 1264, 3.1479448521441618: 50, 1.551119869095467: 4, 3.3340880767546706: 201, 1.7427670991823565: 4, 0.6946960255848902: 206, 3.951513518203556: 395, 1.9551071086425076: 318, 1.7100018966262176: 10, 1.25: 88, 1.1189391897754444: 17, 1.5459574564806493: 116, 2.2172287290916186: 95, 2.696821818472577: 80, 2.434700198023466: 12, 1.9395767418840637: 46, 3.0293532601338926: 7, 2.885823231695051: 120, 2.1415178440574674: 61, 1.606522311885988: 15, 4.067043961669667: 7, 1.384752668298713: 24, 2.7240645617179813: 55, 1.5007199664945723: 50, 2.470540450392146: 5, 1.7326175724036041: 8, 1.603941105578579: 64, 2.4327912028877243: 10, 2.9861861821670925: 119, 0.5085528009743815: 27, 0.32240957636387285: 58, 2.9867400639622255: 58, 1.808515931659508: 44, 2.937812222100717: 12, 4.213635138652667: 41, 4.009060312571738: 15, 0.987878379550889: 51, 0.45056915187645186: 10, 0.6367123764869604: 48, 2.3326689543562393: 16, 1.6670871672913263: 5, 1.6998523698474652: 12, 3.7196959488772223: 10, 1.6392875144421266: 9, 2.086167918867063: 27, 3.1528088008114072: 13, 1.874046336771786: 6, 0.5489739732273055: 10, 1.6166502742077449: 3, 2.437775247836007: 9, 0.6146135920220201: 4, 2.763722804358145: 4, 3.944980524815448: 2, 3.933671152318929: 4, 2.405010045279868: 5, 1.523338711487611: 14, 4.006012243242558: 4, 0.742773167534599: 9, 0.8412872025678896: 19, 2.3060291472248067: 19, 0.5162087706711666: 4, 0.47956097642541673: 8, 1.6772366940700787: 4, 2.855125371942537: 14, 0.78330355346996: 12, 3.880900737059159: 8, 1.7505322825615783: 17, 3.8002983429681905: 3, 3.965711046197074: 5, 2.3093356622102097: 4, 3.893369955273445: 1, 3.9739723493644132: 3, 2.2221202381484355: 9, 0.9723480127924451: 11, 3.86437813072448: 6, 0.7100079649784601: 2, 0.5856217674730553: 4, 2.805220837604083: 11, 2.6913817134345157: 2, 2.7104431900952792: 2, 3.024649225298828: 5, 0.7755383700907379: 3, 3.9046793277699643: 3, 0.6183869700291942: 2, 2.025799926369603: 2, 0.5818483894658812: 2, 0.9068176076801673: 2, 4.038052137120703: 1, 0.5528565649169164: 1}\n",
      "../rcv_elections_database/single/Burlington_03072023_CityCouncilNorthDistrict.csv\n",
      "Error in file: ../rcv_elections_database/single/Burlington_03072023_CityCouncilNorthDistrict.csv\n",
      "zero-size array to reduction operation minimum which has no identity\n",
      "../rcv_elections_database/single/SanLeandro_11042014_CountyCouncilDistrict3.csv\n"
     ]
    },
    {
     "name": "stderr",
     "output_type": "stream",
     "text": [
      "/Users/es5891/Documents/GitHub/bugs-in-democracy/rcv_exploration/../rcv_learning/rcv_dimensionality.py:188: RuntimeWarning: divide by zero encountered in divide\n",
      "  distance = 1 / np.sqrt(freq_upper_triangle)\n"
     ]
    },
    {
     "name": "stdout",
     "output_type": "stream",
     "text": [
      "Normalized distances: {'LEE THOMAS': 0.0, 'VICTOR AGUILAR': 0.8917152023246172, 'ALLEN SCHOENFELD': 2.0}\n"
     ]
    },
    {
     "name": "stderr",
     "output_type": "stream",
     "text": [
      "/Users/es5891/Documents/GitHub/bugs-in-democracy/rcv_exploration/../rcv_learning/rcv_dimensionality.py:188: RuntimeWarning: divide by zero encountered in divide\n",
      "  distance = 1 / np.sqrt(freq_upper_triangle)\n"
     ]
    },
    {
     "name": "stdout",
     "output_type": "stream",
     "text": [
      "Consistency points: {1.108284797675383: 1357, 1.1926779985471143: 1847, 2.0: 2320, 0.0: 562, 1.3312135982565372: 394, 0.38853559970942286: 757, 0.5: 107, 0.2770711994188457: 151}\n",
      "../rcv_elections_database/single/NewYorkCity_06222021_REPCouncilMember24thCouncilDistrict.csv\n"
     ]
    },
    {
     "name": "stderr",
     "output_type": "stream",
     "text": [
      "/Users/es5891/Documents/GitHub/bugs-in-democracy/rcv_exploration/../rcv_learning/rcv_dimensionality.py:188: RuntimeWarning: divide by zero encountered in divide\n",
      "  distance = 1 / np.sqrt(freq_upper_triangle)\n"
     ]
    },
    {
     "name": "stdout",
     "output_type": "stream",
     "text": [
      "Normalized distances: {'Angelo King': 0.0, 'Timothy Rosen': 1.0}\n"
     ]
    },
    {
     "name": "stderr",
     "output_type": "stream",
     "text": [
      "/Users/es5891/Documents/GitHub/bugs-in-democracy/rcv_exploration/../rcv_learning/rcv_dimensionality.py:188: RuntimeWarning: divide by zero encountered in divide\n",
      "  distance = 1 / np.sqrt(freq_upper_triangle)\n"
     ]
    },
    {
     "name": "stdout",
     "output_type": "stream",
     "text": [
      "Consistency points: {0.25: 266, 0.0: 221, 1.0: 161}\n",
      "../rcv_elections_database/single/Minneapolis_11072017_Ward4CityCouncil.csv\n"
     ]
    },
    {
     "name": "stderr",
     "output_type": "stream",
     "text": [
      "/Users/es5891/Documents/GitHub/bugs-in-democracy/rcv_exploration/../rcv_learning/rcv_dimensionality.py:188: RuntimeWarning: divide by zero encountered in divide\n",
      "  distance = 1 / np.sqrt(freq_upper_triangle)\n"
     ]
    },
    {
     "name": "stdout",
     "output_type": "stream",
     "text": [
      "Normalized distances: {'Dana Hansen': 0.0, 'Stephanie Gasca': 1.6625061401761576, 'Phillipe M. Cunningham': 2.1336974419048627, 'Barbara A. \"Barb\" Johnson': 3.0}\n"
     ]
    },
    {
     "name": "stderr",
     "output_type": "stream",
     "text": [
      "/Users/es5891/Documents/GitHub/bugs-in-democracy/rcv_exploration/../rcv_learning/rcv_dimensionality.py:188: RuntimeWarning: divide by zero encountered in divide\n",
      "  distance = 1 / np.sqrt(freq_upper_triangle)\n"
     ]
    },
    {
     "name": "stdout",
     "output_type": "stream",
     "text": [
      "Consistency points: {1.3374938598238426: 105, 0.27547455223987255: 383, 0.8758125637654217: 383, 0.984100383527314: 403, 0.21657563952378445: 222, 0.8663025580951378: 430, 0.33437346495596065: 111, 0.0: 969, 0.75: 41, 3.0: 101, 0.5421867324779803: 101, 1.3997269185713535: 16, 1.753120394867882: 11, 1.5859336623899016: 14}\n",
      "../rcv_elections_database/single/Oakland_11022010_CityAuditor.csv\n"
     ]
    },
    {
     "name": "stderr",
     "output_type": "stream",
     "text": [
      "/Users/es5891/Documents/GitHub/bugs-in-democracy/rcv_exploration/../rcv_learning/rcv_dimensionality.py:188: RuntimeWarning: divide by zero encountered in divide\n",
      "  distance = 1 / np.sqrt(freq_upper_triangle)\n"
     ]
    },
    {
     "name": "stdout",
     "output_type": "stream",
     "text": [
      "Normalized distances: {'MICHAEL KILIAN': 0.0, 'COURTNEY RUBY': 1.0}\n"
     ]
    },
    {
     "name": "stderr",
     "output_type": "stream",
     "text": [
      "/Users/es5891/Documents/GitHub/bugs-in-democracy/rcv_exploration/../rcv_learning/rcv_dimensionality.py:188: RuntimeWarning: divide by zero encountered in divide\n",
      "  distance = 1 / np.sqrt(freq_upper_triangle)\n"
     ]
    },
    {
     "name": "stdout",
     "output_type": "stream",
     "text": [
      "Consistency points: {0.0: 28773, 0.25: 36797, 1.0: 11339}\n",
      "Error in file: ../rcv_elections_database/single/Oakland_11022010_CityAuditor.csv\n",
      "unsupported operand type(s) for -: 'float' and 'NoneType'\n",
      "../rcv_elections_database/single/Oakland_11062018_SchoolDirectorDistrict2.csv\n",
      "Error in file: ../rcv_elections_database/single/Oakland_11062018_SchoolDirectorDistrict2.csv\n",
      "zero-size array to reduction operation minimum which has no identity\n",
      "../rcv_elections_database/single/Minneapolis_11022021_CityCouncilWard1.csv\n"
     ]
    },
    {
     "name": "stderr",
     "output_type": "stream",
     "text": [
      "/Users/es5891/Documents/GitHub/bugs-in-democracy/rcv_exploration/../rcv_learning/rcv_dimensionality.py:188: RuntimeWarning: divide by zero encountered in divide\n",
      "  distance = 1 / np.sqrt(freq_upper_triangle)\n"
     ]
    },
    {
     "name": "stdout",
     "output_type": "stream",
     "text": [
      "Normalized distances: {'Calvin L Carpenter': 0.0, 'Kevin Reich': 1.7048763348985483, 'Thomas E Wortman': 2.124862726278735, 'Elliott Payne': 3.0}\n"
     ]
    },
    {
     "name": "stderr",
     "output_type": "stream",
     "text": [
      "/Users/es5891/Documents/GitHub/bugs-in-democracy/rcv_exploration/../rcv_learning/rcv_dimensionality.py:188: RuntimeWarning: divide by zero encountered in divide\n",
      "  distance = 1 / np.sqrt(freq_upper_triangle)\n"
     ]
    },
    {
     "name": "stdout",
     "output_type": "stream",
     "text": [
      "Consistency points: {1.295123665101452: 2368, 0.323780916275363: 1087, 0.0: 2551, 0.2712826173528395: 374, 0.980133871566311: 47, 0.870741712351153: 45, 0.218784318430316: 233, 3.0: 356, 0.875137273721264: 99, 1.5594522906884074: 69, 0.5368904581376814: 58, 1.721342748826089: 165, 1.4063529552909482: 12, 0.75: 17}\n",
      "../rcv_elections_database/single/Maine_06122018_DemocraticPrimaryforGovernor.csv\n"
     ]
    },
    {
     "name": "stderr",
     "output_type": "stream",
     "text": [
      "/Users/es5891/Documents/GitHub/bugs-in-democracy/rcv_exploration/../rcv_learning/rcv_dimensionality.py:188: RuntimeWarning: divide by zero encountered in divide\n",
      "  distance = 1 / np.sqrt(freq_upper_triangle)\n"
     ]
    },
    {
     "name": "stdout",
     "output_type": "stream",
     "text": [
      "Normalized distances: {'Mills, Janet T.': 0.0, 'Eves, Mark W.': 0.8721331290845091, 'Cote, Adam Roland': 1.680721696089865, 'Sweet, Elizabeth A.': 2.516273022754625, 'Russell, Diane Marie': 4.035838148465445, 'Dion, Donna J.': 5.34035716526262, 'Dion, Mark N.': 6.0}\n"
     ]
    },
    {
     "name": "stderr",
     "output_type": "stream",
     "text": [
      "/Users/es5891/Documents/GitHub/bugs-in-democracy/rcv_exploration/../rcv_learning/rcv_dimensionality.py:188: RuntimeWarning: divide by zero encountered in divide\n",
      "  distance = 1 / np.sqrt(freq_upper_triangle)\n"
     ]
    },
    {
     "name": "stdout",
     "output_type": "stream",
     "text": [
      "Consistency points: {4.946047807766753: 824, 1.5352074698173874: 4874, 3.1748207462085167: 6508, 3.4126758520491847: 291, 0.0: 1214, 1.1468525932760647: 32, 1.7532098551879964: 1190, 0.4155806940201419: 258, 1.9451107889151698: 1706, 1.9663873763098316: 193, 2.874403823627044: 213, 0.588753527003238: 522, 2.387917554304729: 341, 3.2207749183220113: 242, 0.9898215200469613: 340, 1.874076176387202: 99, 1.1110254505654842: 387, 1.5209287696632665: 769, 2.2272235831111376: 55, 0.2424078610370458: 667, 1.8700065582698016: 79, 0.38380186745434686: 418, 3.484262966380323: 26, 1.2365119519416883: 84, 1.6482508618709044: 54, 0.9696314441481833: 1585, 1.836524061064518: 37, 0.31310486424569633: 597, 6.0: 324, 1.9637355350528258: 98, 2.166514171609949: 397, 3.6054668968988457: 82, 4.591279879854221: 9, 3.6176275115980756: 533, 1.0151085692469088: 155, 1.10886979376439: 38, 0.718600955906761: 36, 2.1534633188429324: 32, 0.7937051865521292: 649, 1.7141228738854823: 10, 2.0875913068283545: 76, 5.209535855825065: 30, 2.519661578333885: 36, 0.4805044084719034: 199, 1.1276458514257321: 182, 1.4458245390178983: 120, 1.6599503577025503: 54, 1.238347542773122: 46, 1.808204164372624: 7, 3.7493715356272315: 58, 1.704780037035362: 28, 2.651405602363041: 128, 0.6994552183506277: 46, 3.524058843691127: 14, 3.3773273504448595: 50, 3.8811155596563873: 100, 1.7423321523580462: 144, 3.316725385185598: 63, 2.949508054272412: 40, 3.392314819661971: 30, 1.154167246933731: 23, 3.341978848840534: 249, 2.298258195639105: 71, 4.988132473130285: 8, 1.55073179155913: 2, 1.0809805812614868: 7, 1.4833766543405824: 113, 3.033014341708591: 4, 0.9775564539242246: 10, 0.5512014116805539: 40, 3.281376883581273: 66, 0.39680463635879987: 54, 2.4750661537139687: 8, 1.5177957855518414: 9, 0.44210208952814056: 30, 0.4780115138668103: 8, 0.569977469341896: 6, 2.1205273128356437: 5, 3.1542182722271135: 12, 4.783180813581394: 9, 1.5: 24, 2.128962056287265: 20, 1.9075586735924857: 34, 1.215932703106716: 7, 2.7467600084418797: 7, 0.4615435108631658: 11, 1.1182578225950612: 10, 0.7561530712294451: 26, 0.7653272303652057: 8, 2.232386183624527: 9, 2.7821085100462053: 11, 1.1829966970994272: 18, 2.0182603649398754: 4, 3.4160076279663354: 2, 1.5940783456879724: 8, 2.791005043329987: 1, 1.811608206728899: 3, 1.1459332454319087: 2, 0.4061926651894709: 24, 3.5448649316395846: 9, 1.4624449398781465: 26, 0.7323912243579167: 1, 3.2965023897669026: 3, 2.0954795590819817: 14, 1.3682559759708441: 9, 2.0322593883244098: 12, 2.9912611979905015: 1, 3.5892495554111523: 7, 1.6390186432401141: 9, 1.6781056245426282: 18, 1.1093004779533806: 1, 1.6811868678781932: 2, 1.8912831456644634: 5, 3.6558028677202827: 19, 2.9067612678608645: 8, 1.5731466312255362: 15, 0.6806791606892857: 10, 0.47093153969383683: 23, 4.950580357807601: 9, 3.3470263678152286: 13, 1.9993233823171206: 6, 1.206544674276045: 7, 0.7465511727038636: 3, 1.173608668268756: 7, 0.9327267745914127: 2, 0.6253283150155908: 1, 4.909832278610229: 2, 1.9571362305092914: 1, 4.789706176492253: 1, 4.911094158353903: 2, 4.687230346717808: 3, 2.194834068301843: 3, 4.712483810372744: 7, 2.840889255846286: 2, 4.866880585694497: 1, 3.5509452389891996: 2, 1.1900766712724007: 4, 4.831532084090172: 2, 3.6115472042484607: 2, 2.748484422089948: 1, 3.4900364070921364: 1, 2.078359088197564: 1, 2.7510641363579413: 1, 2.0511963709471646: 1, 1.9181969672898167: 1, 1.1994647001030716: 1, 1.77065204904994: 4, 2.0124870761829863: 4, 3.520337389721767: 1, 2.911586259054937: 3, 1.6270143516952613: 3, 3.3495680332504234: 1, 2.8217611395665916: 1, 3.465614202125843: 2, 4.88565664335584: 1, 4.927506529412391: 1, 4.91866940401131: 1, 3.0936163069678524: 1, 1.9900722365165806: 1}\n",
      "../rcv_elections_database/single/Oakland_11062012_SchoolDirectorDistrict5.csv\n"
     ]
    },
    {
     "name": "stderr",
     "output_type": "stream",
     "text": [
      "/Users/es5891/Documents/GitHub/bugs-in-democracy/rcv_exploration/../rcv_learning/rcv_dimensionality.py:188: RuntimeWarning: divide by zero encountered in divide\n",
      "  distance = 1 / np.sqrt(freq_upper_triangle)\n"
     ]
    },
    {
     "name": "stdout",
     "output_type": "stream",
     "text": [
      "Normalized distances: {'ROSIE TORRES': 0.0, 'MIKE HUTCHINSON': 1.0}\n"
     ]
    },
    {
     "name": "stderr",
     "output_type": "stream",
     "text": [
      "/Users/es5891/Documents/GitHub/bugs-in-democracy/rcv_exploration/../rcv_learning/rcv_dimensionality.py:188: RuntimeWarning: divide by zero encountered in divide\n",
      "  distance = 1 / np.sqrt(freq_upper_triangle)\n"
     ]
    },
    {
     "name": "stdout",
     "output_type": "stream",
     "text": [
      "Consistency points: {0.25: 2589, 1.0: 3282, 0.0: 2377}\n",
      "../rcv_elections_database/single/SanFrancisco_11022004_BoardofSupervisorsDistrict7.csv\n"
     ]
    },
    {
     "name": "stderr",
     "output_type": "stream",
     "text": [
      "/Users/es5891/Documents/GitHub/bugs-in-democracy/rcv_exploration/../rcv_learning/rcv_dimensionality.py:188: RuntimeWarning: divide by zero encountered in divide\n",
      "  distance = 1 / np.sqrt(freq_upper_triangle)\n"
     ]
    },
    {
     "name": "stdout",
     "output_type": "stream",
     "text": [
      "Normalized distances: {'Sheela Kini': 0.0, 'David Parker': 1.3499827504678679, 'Gregory Corrales': 3.1973986708410593, 'Michael Patrick Mallen': 3.518010946964396, 'Isaac Wang': 4.348490605407129, 'Milton `Rennie` O`Brien': 4.666009935555112, 'Shawn Reifsteck': 4.8210618712440905, 'Sean R. Elsbernd': 5.104643669364692, 'Pat Lakey': 5.241286102971658, 'Vernon C. Grigg III': 5.780785543549623, 'Christine Linnenbach': 6.15324506074869, 'Svelana Kaff': 7.913870330871326, 'Art Belenson': 12.0}\n"
     ]
    },
    {
     "name": "stderr",
     "output_type": "stream",
     "text": [
      "/Users/es5891/Documents/GitHub/bugs-in-democracy/rcv_exploration/../rcv_learning/rcv_dimensionality.py:188: RuntimeWarning: divide by zero encountered in divide\n",
      "  distance = 1 / np.sqrt(freq_upper_triangle)\n"
     ]
    },
    {
     "name": "stdout",
     "output_type": "stream",
     "text": [
      "Consistency points: {3.649827925042387: 18, 3.5187527511193872: 17, 4.888064686530074: 65, 4.101782710195332: 10, 4.84150724688019: 23, 4.7949498072303065: 8, 4.576789682985069: 6, 4.466337895123868: 102, 6.207324917483275: 5, 6.15324506074869: 839, 5.372407316434942: 13, 5.2412861029716575: 125, 2.4197231541150734: 4, 2.2886479801920734: 10, 1.3499827504678676: 35, 4.905644603933968: 54, 5.031494835169524: 71, 4.917499965447395: 15, 4.938379955869758: 13, 4.786424791524396: 25, 4.643494256087969: 53, 4.671095175925517: 19, 4.6575780933098025: 311, 6.314056740380049: 4, 5.780785543549623: 272, 1.1711530646353077: 12, 7.913870330871325: 97, 5.1117927303376165: 169, 4.728713558540104: 38, 5.185060588968273: 278, 5.36679401721069: 512, 5.05901605598633: 35, 5.082921080759571: 91, 5.089679622067429: 42, 5.1388042777664324: 272, 5.193890916130821: 51, 5.320236577560808: 304, 5.091945709668507: 112, 5.273679137910924: 145, 5.104643669364691: 2035, 4.042877637176444: 24, 4.145318273833189: 95, 4.049636178484301: 14, 3.9651184442111846: 27, 3.650776243425354: 428, 5.025488643366784: 18, 4.8098957351706675: 92, 4.71164642377266: 739, 3.625922900269145: 21, 3.2007281765770133: 5, 3.445723070647141: 6, 3.415059504566042: 9, 3.0646333743801004: 137, 4.4122027382080375: 14, 4.769928767170248: 1, 4.71043207295719: 12, 5.909432159946574: 5, 1.9538584715388967: 2, 2.1529765614051097: 4, 2.1836401274862087: 4, 5.251572993934854: 18, 5.20501555428497: 7, 4.8894538910364576: 2, 4.853862221596641: 25, 4.769344487323525: 46, 5.709594466796171: 71, 5.806462992777144: 27, 5.789382688576273: 161, 1.3513528942573116: 6, 1.2932412215420435: 2, 5.01867785103785: 62, 4.804346523048821: 28, 3.781398797719326: 6, 3.3983196259218134: 14, 4.276393447756188: 43, 4.0894350768263275: 73, 3.446129675468297: 18, 3.9092352472043235: 19, 4.183278568456421: 16, 4.716549765286847: 6, 3.557896069482019: 2, 4.014243099910188: 95, 3.4596467580840113: 11, 4.651838123853568: 13, 4.939437310473254: 17, 4.844056343572409: 10, 4.77305457254283: 6, 4.826976039371538: 14, 4.8944134694437835: 36, 3.574635948126248: 18, 3.211169091641414: 12, 4.712851621437102: 8, 4.32977244963959: 10, 4.270530554003815: 4, 4.660074947085815: 5, 4.514147944670351: 16, 4.642994642884944: 10, 4.6259143386840735: 19, 4.425719820823751: 2, 2.1903986687940655: 3, 4.449297573505799: 15, 4.812529724634201: 17, 5.733499491569412: 58, 5.87390042284939: 78, 5.58687217597602: 53, 5.551949047868276: 9, 4.229836008106305: 29, 4.098760834183305: 32, 4.096193618134184: 30, 3.453707124174735: 7, 3.343777864184827: 10, 3.47638663672824: 8, 4.756989512607073: 24, 4.352451962193094: 6, 6.406443007349488: 10, 6.413201548657344: 12, 5.197194251341971: 7, 5.422718402766032: 12, 4.8323767453033115: 25, 4.9849373955196405: 35, 4.356182694206033: 4, 4.647190151152275: 20, 1.7118319843026186: 1, 1.3581114355651687: 4, 4.897461402348588: 67, 5.80695033474135: 19, 4.04840370831193: 6, 3.6148775192767806: 17, 3.8956793818367355: 10, 3.7266439132905025: 13, 3.6283946018924946: 6, 3.9159937885121803: 25, 4.483090280045085: 18, 5.072046083016668: 35, 4.958051213294538: 13, 4.9789312037169005: 9, 4.604019103996597: 27, 4.677286962627254: 34, 3.535833055320258: 11, 3.2485382261234967: 5, 3.6032704853925033: 3, 3.7902288563223645: 11, 3.591716252327119: 11, 3.656586466350244: 7, 5.1081428452954025: 15, 4.520906485978209: 14, 5.824245745685762: 5, 6.280592776113932: 11, 4.814115079544458: 5, 5.279292437135175: 8, 1.9845220376199957: 2, 2.2088597584119705: 7, 2.7708764868034024: 1, 2.7243190471535192: 2, 2.051031354942795: 8, 2.3705984984160695: 5, 4.870942525797512: 6, 4.6776548644897105: 9, 4.570226397457312: 32, 5.607649260333856: 31, 6.828482752023518: 46, 4.115841138384176: 3, 3.9024767058964662: 28, 5.091994441384227: 8, 12.0: 93, 3.438964529339284: 5, 3.0319803327685295: 4, 3.494847726346145: 9, 5.8389872127018165: 2, 5.469275842415915: 22, 5.104079372042205: 4, 5.309956003216274: 4, 1.7786454064459258: 1, 2.5600130911003: 2, 2.1768815861783515: 5, 4.390055677870024: 4, 4.803505095725266: 9, 4.524930538014516: 5, 1.7583894239525018: 8, 4.018972612403202: 4, 3.8853302224310813: 2, 3.5119280305470157: 9, 3.313114298103728: 2, 4.236657570339823: 2, 4.523969132221759: 8, 5.992993589494246: 7, 6.593401378279348: 6, 7.614933795561518: 28, 2.164721867241999: 5, 2.0507269975198703: 1, 2.1290715366318675: 1, 4.618045417314282: 15, 4.739261866003545: 6, 5.982417361341268: 2, 5.471651152700183: 2, 5.74025803287727: 33, 2.155160762871457: 2, 8.528366218458304: 3, 6.190402293352932: 3, 3.5670674697302966: 4, 3.8785716811232245: 14, 4.558723244553802: 11, 5.061585405645519: 3, 2.3638399571082123: 4, 2.1069145519496564: 3, 4.567630663378662: 2, 3.705711122049248: 21, 3.33701932287697: 9, 4.727512377158061: 8, 6.382537982576245: 6, 2.2395233244930695: 4, 6.612990964718515: 2, 1.0385442920918946: 7, 4.496471606521517: 12, 3.9583599029033274: 53, 4.031323404111059: 24, 4.866169451842597: 22, 4.711447571028996: 6, 3.360304620137219: 3, 4.774069816807944: 6, 5.376160963116149: 7, 2.293377492685087: 4, 2.37316571446519: 7, 5.058201734844942: 4, 6.781738808526998: 3, 1.1404894985542087: 13, 1.147248039862066: 5, 0.0: 43, 4.162398578034059: 9, 5.738082182569015: 9, 4.846322431173487: 4, 6.0229686091884105: 1, 6.533734817829495: 6, 3.469628095420383: 15, 3.462869554112526: 9, 4.527665027286066: 4, 7.014526006776414: 5, 6.420198368587659: 1, 1.9777634963121387: 6, 2.3399349323349705: 1, 2.2259400626128416: 4, 6.493183569982352: 3, 1.3274478694840697: 8, 1.5475260282493992: 1, 1.1643945233274506: 4, 3.9344548781300857: 3, 5.227315973927931: 4, 4.3653964325985175: 16, 4.923246597575743: 4, 4.498520293448073: 2, 4.450701273591102: 6, 6.349753421342901: 4, 2.232764783185212: 5, 5.591458547436345: 2, 4.382476736799388: 2, 3.975440207104198: 14, 5.512202400547326: 4, 2.0577898962506525: 2, 4.604387005859054: 10, 1.2441165658430395: 2, 5.2921242417819965: 7, 3.5793654606192615: 3, 3.8367862959722476: 16, 1.6098975626374423: 1, 2.590676657181399: 1, 3.988794261136502: 14, 4.911493773644655: 3, 5.245566802132113: 2, 3.6100290267003605: 3, 2.305728284392944: 3, 2.324041058766186: 1, 1.5383112651871724: 6, 4.619736742137335: 2, 3.5017208542098164: 5, 5.974537719233858: 1, 1.4451963858874057: 1, 1.177911605943165: 3, 4.389975400745318: 3, 6.047805577864515: 2, 2.550798328038073: 3, 5.337617719879247: 5, 6.317716543382434: 5, 3.9821987484120553: 2, 3.525511292427244: 9, 1.445580821787085: 1, 4.2602027348586775: 1, 4.276942613502907: 1, 3.9515351823309564: 6, 3.8546666563499823: 3, 3.820046417328019: 6, 4.449914166871634: 8, 4.056864454737577: 5, 4.236369945602074: 3, 6.845778162967931: 3, 5.270462109972628: 5, 4.6381797123983395: 7, 3.3944652285389605: 5, 0.9652764334612378: 3, 2.118164427592116: 2, 2.3228085885938152: 2, 1.2373580245351825: 5, 3.7227914262501187: 6, 3.942869585015448: 5, 4.938676610978732: 2, 1.2761609173411728: 3, 1.0146392673186528: 3, 1.0944274890987558: 2, 3.0: 1, 2.9968377636523846: 5, 1.2134529997619405: 6, 3.7608045216922443: 1, 3.726931538028252: 1, 5.689354001181245: 6, 2.5839181158735416: 2, 1.3115539959152853: 1, 3.6591536823993644: 4, 2.191432286222773: 1, 1.0382399346689697: 2, 1.3723129631564284: 1, 2.0582922368904835: 1, 1.8519132650765826: 1, 3.2816426954444866: 2, 1.0453028333997518: 3, 3.5920566778837606: 2, 5.298475030785076: 2, 2.237989725872656: 1, 2.4580678846379858: 2, 0.9720349747690951: 1, 2.1380804586705864: 2, 1.9784675827178313: 3, 3.0797903823150135: 4, 1.6443945542303728: 2, 8.584249415465164: 3, 1.2255026630217554: 2, 1.021159630468099: 1, 1.1789452233718722: 1, 5.303197461908417: 3, 1.9251811237072394: 2, 7.335589157662217: 5, 0.551827015605996: 1, 2.8280899198439013: 2, 2.990954645568732: 1, 1.116584473780967: 2, 8.935402748153495: 2, 3.60879655652799: 3, 4.010307015087694: 3, 3.5425915966281147: 1, 3.0933074649307275: 3, 4.405405414148307: 1, 2.0271263301695535: 1, 1.2202777203343116: 5, 2.082197261663725: 2, 1.4072360912641726: 2, 8.53512475976616: 3, 0.9126940608563385: 2, 1.3103215257429144: 1, 6.275803814357285: 1, 0.9413714086879961: 2, 5.423019240883601: 1, 6.930964577228743: 1, 2.123994856150527: 1, 2.2566036286939406: 1, 1.4243163954650435: 3, 2.4576834487383064: 1, 3.676233986600235: 1, 0.8394262022256818: 1, 1.37775895581516: 1, 2.436803458315944: 2, 0.3374956876169669: 1, 1.571431053022641: 1, 8.114916800603062: 4, 4.4848618819928445: 2, 2.6568816170812735: 1, 1.1963726955610698: 2, 0.6250948742366527: 2, 1.3606786516142892: 1, 2.0336466933189996: 1, 2.2498450873860834: 1, 4.558129740623501: 1}\n",
      "../rcv_elections_database/single/Alaska_11082022_HouseDistrict4.csv\n"
     ]
    },
    {
     "name": "stderr",
     "output_type": "stream",
     "text": [
      "/Users/es5891/Documents/GitHub/bugs-in-democracy/rcv_exploration/../rcv_learning/rcv_dimensionality.py:188: RuntimeWarning: divide by zero encountered in divide\n",
      "  distance = 1 / np.sqrt(freq_upper_triangle)\n"
     ]
    },
    {
     "name": "stdout",
     "output_type": "stream",
     "text": [
      "Normalized distances: {'Harmon, Darrell J.': 0.0, 'Hannan, Sara': 1.0}\n"
     ]
    },
    {
     "name": "stderr",
     "output_type": "stream",
     "text": [
      "/Users/es5891/Documents/GitHub/bugs-in-democracy/rcv_exploration/../rcv_learning/rcv_dimensionality.py:188: RuntimeWarning: divide by zero encountered in divide\n",
      "  distance = 1 / np.sqrt(freq_upper_triangle)\n"
     ]
    },
    {
     "name": "stdout",
     "output_type": "stream",
     "text": [
      "Consistency points: {0.0: 4224, 1.0: 981, 0.25: 1227}\n",
      "Error in file: ../rcv_elections_database/single/Alaska_11082022_HouseDistrict4.csv\n",
      "unsupported operand type(s) for -: 'float' and 'NoneType'\n",
      "../rcv_elections_database/single/Alaska_11082022_HouseDistrict5.csv\n"
     ]
    },
    {
     "name": "stderr",
     "output_type": "stream",
     "text": [
      "/Users/es5891/Documents/GitHub/bugs-in-democracy/rcv_exploration/../rcv_learning/rcv_dimensionality.py:188: RuntimeWarning: divide by zero encountered in divide\n",
      "  distance = 1 / np.sqrt(freq_upper_triangle)\n"
     ]
    },
    {
     "name": "stdout",
     "output_type": "stream",
     "text": [
      "Normalized distances: {'Stutes, Louise B.': 0.0, 'Vincent, Benjamin T.': 1.0}\n"
     ]
    },
    {
     "name": "stderr",
     "output_type": "stream",
     "text": [
      "/Users/es5891/Documents/GitHub/bugs-in-democracy/rcv_exploration/../rcv_learning/rcv_dimensionality.py:188: RuntimeWarning: divide by zero encountered in divide\n",
      "  distance = 1 / np.sqrt(freq_upper_triangle)\n"
     ]
    },
    {
     "name": "stdout",
     "output_type": "stream",
     "text": [
      "Consistency points: {0.25: 963, 0.0: 2332, 1.0: 1309}\n",
      "../rcv_elections_database/single/SanFrancisco_11062007_Mayor.csv\n"
     ]
    },
    {
     "name": "stderr",
     "output_type": "stream",
     "text": [
      "/Users/es5891/Documents/GitHub/bugs-in-democracy/rcv_exploration/../rcv_learning/rcv_dimensionality.py:188: RuntimeWarning: divide by zero encountered in divide\n",
      "  distance = 1 / np.sqrt(freq_upper_triangle)\n"
     ]
    },
    {
     "name": "stdout",
     "output_type": "stream",
     "text": [
      "Normalized distances: {'Harold M. Hoogasian': 0.0, 'John Rinaldi': 2.0841377537562233, 'Michael Powers': 2.9290609926037305, 'George Davis': 4.7674060990270215, 'Grasshopper Alec Kaplan': 5.041776315193003, 'Josh Wolf': 5.966311865169512, 'Gavin Newsom': 6.012645752653933, 'Quintin Mecke': 6.723693396871412, 'Wilma Pang': 7.358840312520854, 'H. Brown': 8.327748126188878, 'Ahimsa Porter Sumchai': 9.119447369891137, 'Lonnie S. Holmes': 11.0}\n"
     ]
    },
    {
     "name": "stderr",
     "output_type": "stream",
     "text": [
      "/Users/es5891/Documents/GitHub/bugs-in-democracy/rcv_exploration/../rcv_learning/rcv_dimensionality.py:188: RuntimeWarning: divide by zero encountered in divide\n",
      "  distance = 1 / np.sqrt(freq_upper_triangle)\n"
     ]
    },
    {
     "name": "stdout",
     "output_type": "stream",
     "text": [
      "Consistency points: {4.939138033352356: 229, 5.380000908598257: 713, 5.741137071929216: 808, 5.360528334603167: 377, 5.2576344307479665: 1001, 6.615631712450467: 6, 5.212225856961047: 192, 5.634984134506871: 1212, 3.764074463707283: 16, 6.214391982757335: 331, 6.097953729853284: 284, 5.137710505289584: 492, 3.7457949239003456: 4, 6.101508805882625: 11, 5.278373449146476: 283, 1.3962433605230338: 260, 4.992561575038088: 75, 8.313230236561255: 16, 4.028953316038448: 16, 6.119454850043104: 28, 6.495216271118112: 2, 5.714833901700006: 115, 5.812947107677414: 21, 5.505677264854663: 35, 5.303955554918088: 66, 4.809010195353183: 190, 5.5579638817688: 127, 5.701218096182916: 5, 5.13322451889498: 118, 5.849837914988833: 89, 6.403325837605777: 11, 5.281526996537099: 105, 3.823395454764131: 5, 3.938000572465538: 8, 4.431355709573154: 4, 6.32054492017968: 93, 5.923545832712081: 145, 5.675635990411304: 19, 4.467406109191407: 2, 1.1129284321641153: 63, 5.967825891854111: 240, 6.474968768593575: 26, 2.79933220636586: 11, 4.498316569831742: 18, 4.008109292989942: 19, 6.040453511977035: 13, 5.452258032560207: 5, 4.088274307095296: 41, 5.173827716918915: 40, 5.502528026855316: 94, 1.36658286499461: 25, 6.60718825771173: 37, 3.1645828000354883: 6, 5.112641831511963: 323, 6.694633050516535: 34, 2.431993614426686: 4, 1.972696798225221: 8, 6.482327175671845: 28, 4.606978403426233: 19, 2.1473498929896477: 5, 7.640004562662009: 3, 5.754637328477371: 33, 5.8794984105172565: 37, 3.5736732906843605: 6, 6.392354955927878: 21, 5.3221301945610335: 25, 7.731537936470748: 6, 8.966361401523269: 18, 4.6864309116791985: 54, 1.5263655043917628: 4, 5.386133591763604: 33, 3.4435454526851874: 15, 8.283569741032832: 29, 1.191929770230183: 55, 3.4113591897387656: 8, 4.7590053768049465: 16, 5.087440510994475: 3, 1.7573795238539929: 4, 5.5162614297627774: 47, 2.0185651783708223: 35, 4.334789361133082: 18, 5.16918043529216: 5, 2.5822280572685927: 19, 4.1827623877543685: 9, 5.033640493445896: 184, 6.246256207495403: 6, 1.5788305917247325: 5, 4.878334285246908: 4, 5.1699335528604475: 17, 1.844363253793293: 38, 3.6999208879439767: 8, 3.593767950521632: 4, 2.2199243581153962: 10, 5.426675926788596: 9, 8.109367816455302: 4, 3.63394662570811: 13, 4.159081154037621: 9, 3.2889927118884756: 6, 6.577527762183306: 66, 2.5543600922769762: 4, 2.048225673899246: 17, 1.1923809404170809: 20, 8.719133841633095: 9, 4.729344881276523: 19, 7.056661068684082: 20, 4.4169746170316975: 13, 6.262662893748885: 8, 4.808797389529489: 26, 6.835707672984364: 29, 6.498507893350223: 10, 5.650830504497435: 7, 8.814334428144555: 30, 1.3067012224688033: 4, 0.8770649017957621: 10, 4.2553368528801165: 17, 1.017727845652654: 30, 5.2860129829317035: 9, 6.252759386821725: 3, 4.35765362597485: 14, 1.1425889276925392: 23, 5.571090258183743: 8, 3.9229794802132143: 10, 8.499469559710136: 5, 1.2649554055428291: 17, 4.068128410464711: 4, 3.085130291782523: 7, 1.2215902657586069: 56, 4.212422883282793: 8, 4.656770416150775: 17, 1.3167908522700682: 53, 1.468817825648782: 12, 6.691107032275128: 21, 6.11612836949623: 22, 8.84399492367298: 13, 0.7980635637296944: 7, 3.693267616764958: 15, 4.037769788518366: 8, 1.923364591859361: 13, 4.957312672995302: 22, 1.2713822784831486: 24, 8.18836915452137: 11, 5.534436069405723: 7, 4.991206150312355: 21, 1.051717996560189: 4, 7.232706760451963: 21, 6.72796075874768: 10, 5.643188463688567: 3, 4.021967926701359: 3, 8.893786936397522: 6, 4.218402145094469: 3, 3.3684452201414414: 3, 1.4391573301203582: 20, 2.0980176866237876: 5, 1.773593064281938: 4, 5.899790568120143: 1, 4.515123968875959: 5, 4.695925524464042: 3, 4.132970375029827: 9, 7.96870487259841: 7, 0.9722654883072235: 7, 4.910130659206297: 6, 3.49856736401017: 3, 1.4473641663256949: 5, 0.45882814793557425: 5, 6.064090421811657: 4, 3.962646935644511: 12, 6.858088596746853: 12, 1.8936954601591534: 13, 5.664563907404896: 2, 3.1337679405274397: 4, 4.333007262795876: 4, 1.5186098383733238: 15, 7.781329949195291: 5, 4.18785833254438: 17, 5.933962583812484: 3, 2.0975578802651063: 2, 5.534973046554412: 7, 2.587938564573572: 2, 1.8071715365785344: 1, 3.2346858531810785: 1, 1.798494873647692: 6, 5.791493448354327: 7, 2.177010388518072: 3, 3.3387847246130176: 1, 4.317986170543553: 3, 1.5535171037480398: 4, 2.170592151749536: 7, 7.770132400661183: 2, 2.8289927018942844: 1, 2.930631906423651: 5, 4.517198121915948: 5, 1.7530325163022615: 4, 4.070219546242195: 3, 4.32520277215081: 2, 3.243584138101556: 6, 1.3439567436088968: 7, 5.7833961330284325: 3, 5.275333372714505: 5, 4.986771674509295: 11, 2.002357293753645: 3, 7.606676854430863: 1, 3.1641316298485904: 9, 5.749341401110912: 4, 4.623351059338293: 2, 1.973147968412119: 3, 3.114790787310947: 1, 2.353000912532402: 2, 4.661707572732277: 6, 6.276396296656347: 4, 5.148521426966577: 68544, 5.385805391193968: 1220, 6.611391070224933: 2824, 6.364737213996288: 2637, 5.307426443472508: 680, 3.2593322163600518: 24, 11.0: 3917, 5.452575373724005: 4254, 0.9387265075865863: 30, 0.0: 374, 3.754906030346345: 291, 4.3869167348748865: 319, 5.485389416643052: 402, 5.784141492990302: 621, 4.577317907897809: 103, 1.0410227039933841: 118, 5.207842418023425: 1101, 1.2871303567416443: 187, 7.824007300259215: 487, 6.029698770134426: 155, 6.789354043395476: 36, 5.929290423241799: 48, 4.103309879501403: 69, 5.8173928952897365: 486, 2.9109283672049937: 9, 1.0967291837187216: 35, 8.618005475194412: 39, 4.140509559527901: 10, 2.75: 15, 1.346451347798492: 62, 8.673230799637974: 209, 6.2076617433049694: 8, 6.7295547355620196: 57, 2.62960247949121: 149, 6.941860610406709: 35, 7.523552910497216: 95, 4.262214896007334: 9, 1.4460353732475755: 14, 6.29410794480753: 39, 3.9129087064784804: 15, 2.0678973847366824: 20, 9.25492309972848: 25, 3.5307670279950383: 6, 5.630538346894548: 38, 4.636638898954657: 27, 5.246189376220968: 13, 3.5633861631174795: 8, 6.040187551156165: 8, 2.736768853059842: 4, 5.99535586846028: 34, 4.432945932030442: 2, 6.365088433118939: 4, 2.1683076999094935: 5, 7.088106119742727: 24, 2.842921790482187: 2, 1.7194935355816243: 4, 5.566179522759759: 14, 6.50641381965222: 8, 4.9844872226692525: 3, 4.881371854655237: 13, 5.458495251065658: 7, 1.8774962117137597: 1, 4.40736382625883: 6, 3.7295813834724: 3, 1.6325184418141077: 3, 1.9233559556875772: 1, 3.418237232865983: 7, 4.722201859618408: 6, 1.7010185991561895: 5, 1.1242924616859373: 3, 2.9899297052710616: 5, 2.4023331188982624: 4, 2.951359179744574: 8, 6.146268458657174: 2, 4.034356622105556: 7, 2.2993768663683616: 2, 1.6215660909032241: 4, 3.3161586032273043: 4, 2.052149306478187: 3, 3.779373396196942: 1, 4.8279526223607805: 3, 2.124723771603935: 1, 3.8519478613226905: 7, 2.7123558952677658: 8, 2.9899528974804985: 3, 7.527675516364796: 2, 8.300897087772906: 5, 3.068931043337129: 3, 1.591184303499072: 6, 2.37195133149411: 7, 3.3186532074168995: 5, 2.12721837579353: 4, 4.736222924403741: 24, 4.162630870558251: 4, 6.797259969697473: 5, 1.651226586431648: 8, 3.7928516422140413: 5, 5.352342313643313: 1, 2.4132854698091455: 2, 3.1937921253770143: 2, 2.0621547624871486: 1, 4.437745613662983: 2, 4.697824784361607: 1, 7.853904414321039: 8, 2.4591538499547467: 3, 2.740230733400728: 5, 2.878784714618826: 1, 1.6578319297908002: 1, 3.7722457626215884: 4, 4.463135100795049: 3, 3.4908116979917314: 1, 2.5381465518490307: 1, 3.089536922929582: 4, 2.24958485364382: 2, 0.26025567599834604: 5, 7.701877440942325: 4, 2.870358571399901: 2, 2.4817856271512273: 2, 4.284997348408541: 2, 2.5084860563206073: 1, 4.589772587041697: 3, 6.112096442964833: 4, 2.2268024012426135: 3, 4.142794011367943: 3, 1.9560018250648037: 4, 1.7826930118306854: 2, 4.772181347824563: 2, 8.170769249773734: 1, 4.51655864248078: 1, 5.04025849720547: 1, 3.9282036846832113: 3, 5.863136379342125: 1, 6.400260882229875: 3, 4.302818094031269: 1, 8.640132503567028: 1, 1.0019259838356473: 1, 1.832485024555227: 1, 8.036313175103905: 4, 0.6574006198728025: 1}\n",
      "../rcv_elections_database/single/Minneapolis_11052013_Mayor.csv\n",
      "Skipping file: ../rcv_elections_database/single/Minneapolis_11052013_Mayor.csv\n",
      "../rcv_elections_database/single/Minnetonka_11022021_CityCouncilAtLargeSeatB.csv\n"
     ]
    },
    {
     "name": "stderr",
     "output_type": "stream",
     "text": [
      "/Users/es5891/Documents/GitHub/bugs-in-democracy/rcv_exploration/../rcv_learning/rcv_dimensionality.py:188: RuntimeWarning: divide by zero encountered in divide\n",
      "  distance = 1 / np.sqrt(freq_upper_triangle)\n"
     ]
    },
    {
     "name": "stdout",
     "output_type": "stream",
     "text": [
      "Normalized distances: {'Jim Hadley': 0.0, 'Daniel Kral': 0.7331109976372817, 'Stacy Cranbrook': 1.658092961098598, 'Kimberly Wilburn': 3.0266119079872538, 'Ash Patel': 4.0}\n"
     ]
    },
    {
     "name": "stderr",
     "output_type": "stream",
     "text": [
      "/Users/es5891/Documents/GitHub/bugs-in-democracy/rcv_exploration/../rcv_learning/rcv_dimensionality.py:188: RuntimeWarning: divide by zero encountered in divide\n",
      "  distance = 1 / np.sqrt(freq_upper_triangle)\n"
     ]
    },
    {
     "name": "stdout",
     "output_type": "stream",
     "text": [
      "Consistency points: {3.26995893099044: 1534, 3.0266119079872538: 1396, 0.7072616201373247: 15, 1.658092961098598: 390, 0.7331109976372817: 378, 1.1354213568636928: 36, 3.098894062629358: 172, 2.983271317196694: 126, 2.8916324424920337: 88, 0.7566529769968134: 38, 0.0: 400, 4.0: 408, 2.121896209322355: 65, 1.8845999523880974: 41, 1.3064862252247749: 34, 0.8783264884984068: 25, 0.9643564885026108: 79, 0.4145232402746495: 90, 1.5498332482279613: 24, 0.29890049484198494: 231, 0.18327774940932043: 121, 2.0363081006866235: 18, 1.792961077683437: 36, 1.4281597367263679: 20, 2.2435697208239485: 26, 0.5855881086357315: 35, 0.8727176137979505: 103, 2.000222697820762: 58, 1.0: 25}\n",
      "../rcv_elections_database/single/Oakland_11082016_CityAttorney.csv\n",
      "Error in file: ../rcv_elections_database/single/Oakland_11082016_CityAttorney.csv\n",
      "zero-size array to reduction operation minimum which has no identity\n",
      "../rcv_elections_database/single/NewYorkCity_06222021_REPCouncilMember19thCouncilDistrict.csv\n"
     ]
    },
    {
     "name": "stderr",
     "output_type": "stream",
     "text": [
      "/Users/es5891/Documents/GitHub/bugs-in-democracy/rcv_exploration/../rcv_learning/rcv_dimensionality.py:188: RuntimeWarning: divide by zero encountered in divide\n",
      "  distance = 1 / np.sqrt(freq_upper_triangle)\n"
     ]
    },
    {
     "name": "stdout",
     "output_type": "stream",
     "text": [
      "Normalized distances: {'Vickie Paladino': 0.0, 'John-Alexander Sakelos': 1.0}\n"
     ]
    },
    {
     "name": "stderr",
     "output_type": "stream",
     "text": [
      "/Users/es5891/Documents/GitHub/bugs-in-democracy/rcv_exploration/../rcv_learning/rcv_dimensionality.py:188: RuntimeWarning: divide by zero encountered in divide\n",
      "  distance = 1 / np.sqrt(freq_upper_triangle)\n"
     ]
    },
    {
     "name": "stdout",
     "output_type": "stream",
     "text": [
      "Consistency points: {0.25: 801, 0.0: 819, 1.0: 963}\n",
      "../rcv_elections_database/single/NewYorkCity_06222021_DEMPublicAdvocateCitywide.csv\n"
     ]
    },
    {
     "name": "stderr",
     "output_type": "stream",
     "text": [
      "/Users/es5891/Documents/GitHub/bugs-in-democracy/rcv_exploration/../rcv_learning/rcv_dimensionality.py:188: RuntimeWarning: divide by zero encountered in divide\n",
      "  distance = 1 / np.sqrt(freq_upper_triangle)\n"
     ]
    },
    {
     "name": "stdout",
     "output_type": "stream",
     "text": [
      "Normalized distances: {'Jumaane D. Williams': 0.0, 'Anthony L. Herbert': 1.0131907309182606, 'Theo Bruce Chino Tavarez': 2.0}\n"
     ]
    },
    {
     "name": "stderr",
     "output_type": "stream",
     "text": [
      "/Users/es5891/Documents/GitHub/bugs-in-democracy/rcv_exploration/../rcv_learning/rcv_dimensionality.py:188: RuntimeWarning: divide by zero encountered in divide\n",
      "  distance = 1 / np.sqrt(freq_upper_triangle)\n"
     ]
    },
    {
     "name": "stdout",
     "output_type": "stream",
     "text": [
      "Consistency points: {2.0: 353824, 0.3733511586352174: 15513, 1.116755793176087: 30395, 1.2401069518113044: 18064, 0.9868092690817392: 80011, 0.2467023172704348: 4862, 0.0: 25446, 0.5: 5019}\n",
      "../rcv_elections_database/single/Oakland_11062018_CityAuditor.csv\n"
     ]
    },
    {
     "name": "stderr",
     "output_type": "stream",
     "text": [
      "/Users/es5891/Documents/GitHub/bugs-in-democracy/rcv_exploration/../rcv_learning/rcv_dimensionality.py:188: RuntimeWarning: divide by zero encountered in divide\n",
      "  distance = 1 / np.sqrt(freq_upper_triangle)\n"
     ]
    },
    {
     "name": "stdout",
     "output_type": "stream",
     "text": [
      "Normalized distances: {'COURTNEY RUBY': 0.0, 'BRENDA ROBERTS': 1.0}\n"
     ]
    },
    {
     "name": "stderr",
     "output_type": "stream",
     "text": [
      "/Users/es5891/Documents/GitHub/bugs-in-democracy/rcv_exploration/../rcv_learning/rcv_dimensionality.py:188: RuntimeWarning: divide by zero encountered in divide\n",
      "  distance = 1 / np.sqrt(freq_upper_triangle)\n"
     ]
    },
    {
     "name": "stdout",
     "output_type": "stream",
     "text": [
      "Consistency points: {0.25: 32225, 0.0: 55603, 1.0: 19133}\n",
      "Error in file: ../rcv_elections_database/single/Oakland_11062018_CityAuditor.csv\n",
      "unsupported operand type(s) for -: 'float' and 'NoneType'\n",
      "../rcv_elections_database/single/NewYorkCity_06222021_REPMayorCitywide.csv\n"
     ]
    },
    {
     "name": "stderr",
     "output_type": "stream",
     "text": [
      "/Users/es5891/Documents/GitHub/bugs-in-democracy/rcv_exploration/../rcv_learning/rcv_dimensionality.py:188: RuntimeWarning: divide by zero encountered in divide\n",
      "  distance = 1 / np.sqrt(freq_upper_triangle)\n"
     ]
    },
    {
     "name": "stdout",
     "output_type": "stream",
     "text": [
      "Normalized distances: {'Curtis A. Sliwa': 0.0, 'Fernando Mateo': 1.0}\n"
     ]
    },
    {
     "name": "stderr",
     "output_type": "stream",
     "text": [
      "/Users/es5891/Documents/GitHub/bugs-in-democracy/rcv_exploration/../rcv_learning/rcv_dimensionality.py:188: RuntimeWarning: divide by zero encountered in divide\n",
      "  distance = 1 / np.sqrt(freq_upper_triangle)\n"
     ]
    },
    {
     "name": "stdout",
     "output_type": "stream",
     "text": [
      "Consistency points: {1.0: 21496, 0.25: 9408, 0.0: 7897}\n",
      "Error in file: ../rcv_elections_database/single/NewYorkCity_06222021_REPMayorCitywide.csv\n",
      "unsupported operand type(s) for -: 'float' and 'NoneType'\n",
      "../rcv_elections_database/single/Alaska_11082022_SenateDistrictD.csv\n"
     ]
    },
    {
     "name": "stderr",
     "output_type": "stream",
     "text": [
      "/Users/es5891/Documents/GitHub/bugs-in-democracy/rcv_exploration/../rcv_learning/rcv_dimensionality.py:188: RuntimeWarning: divide by zero encountered in divide\n",
      "  distance = 1 / np.sqrt(freq_upper_triangle)\n"
     ]
    },
    {
     "name": "stdout",
     "output_type": "stream",
     "text": [
      "Normalized distances: {'Bjorkman, Jesse J.': 0.0, 'Babcock, Tuckerman': 0.6520214511101324, 'Cizek, Andy': 2.0}\n"
     ]
    },
    {
     "name": "stderr",
     "output_type": "stream",
     "text": [
      "/Users/es5891/Documents/GitHub/bugs-in-democracy/rcv_exploration/../rcv_learning/rcv_dimensionality.py:188: RuntimeWarning: divide by zero encountered in divide\n",
      "  distance = 1 / np.sqrt(freq_upper_triangle)\n"
     ]
    },
    {
     "name": "stdout",
     "output_type": "stream",
     "text": [
      "Consistency points: {0.6520214511101327: 3074, 0.0: 3595, 0.16300536277753316: 1659, 0.5: 540, 2.0: 995, 0.9890160883325995: 207}\n",
      "../rcv_elections_database/single/Oakland_11082016_SchoolDirectorDistrict7.csv\n"
     ]
    },
    {
     "name": "stderr",
     "output_type": "stream",
     "text": [
      "/Users/es5891/Documents/GitHub/bugs-in-democracy/rcv_exploration/../rcv_learning/rcv_dimensionality.py:188: RuntimeWarning: divide by zero encountered in divide\n",
      "  distance = 1 / np.sqrt(freq_upper_triangle)\n"
     ]
    },
    {
     "name": "stdout",
     "output_type": "stream",
     "text": [
      "Normalized distances: {'CHRIS JACKSON': 0.0, 'JAMES HARRIS': 1.0}\n"
     ]
    },
    {
     "name": "stderr",
     "output_type": "stream",
     "text": [
      "/Users/es5891/Documents/GitHub/bugs-in-democracy/rcv_exploration/../rcv_learning/rcv_dimensionality.py:188: RuntimeWarning: divide by zero encountered in divide\n",
      "  distance = 1 / np.sqrt(freq_upper_triangle)\n"
     ]
    },
    {
     "name": "stdout",
     "output_type": "stream",
     "text": [
      "Consistency points: {1.0: 2488, 0.25: 4972, 0.0: 5002}\n",
      "Error in file: ../rcv_elections_database/single/Oakland_11082016_SchoolDirectorDistrict7.csv\n",
      "unsupported operand type(s) for -: 'float' and 'NoneType'\n",
      "../rcv_elections_database/single/Alaska_11082022_SenateDistrictS.csv\n"
     ]
    },
    {
     "name": "stderr",
     "output_type": "stream",
     "text": [
      "/Users/es5891/Documents/GitHub/bugs-in-democracy/rcv_exploration/../rcv_learning/rcv_dimensionality.py:188: RuntimeWarning: divide by zero encountered in divide\n",
      "  distance = 1 / np.sqrt(freq_upper_triangle)\n"
     ]
    },
    {
     "name": "stdout",
     "output_type": "stream",
     "text": [
      "Normalized distances: {'Hoffman, Lyman F.': 0.0, 'Keppel, Willy': 1.0}\n"
     ]
    },
    {
     "name": "stderr",
     "output_type": "stream",
     "text": [
      "/Users/es5891/Documents/GitHub/bugs-in-democracy/rcv_exploration/../rcv_learning/rcv_dimensionality.py:188: RuntimeWarning: divide by zero encountered in divide\n",
      "  distance = 1 / np.sqrt(freq_upper_triangle)\n"
     ]
    },
    {
     "name": "stdout",
     "output_type": "stream",
     "text": [
      "Consistency points: {0.0: 2586, 0.25: 1893, 1.0: 1384}\n",
      "Error in file: ../rcv_elections_database/single/Alaska_11082022_SenateDistrictS.csv\n",
      "unsupported operand type(s) for -: 'float' and 'NoneType'\n",
      "../rcv_elections_database/single/Minneapolis_11062009_Ward12CityCouncil.csv\n"
     ]
    },
    {
     "name": "stderr",
     "output_type": "stream",
     "text": [
      "/Users/es5891/Documents/GitHub/bugs-in-democracy/rcv_exploration/../rcv_learning/rcv_dimensionality.py:188: RuntimeWarning: divide by zero encountered in divide\n",
      "  distance = 1 / np.sqrt(freq_upper_triangle)\n"
     ]
    },
    {
     "name": "stdout",
     "output_type": "stream",
     "text": [
      "Normalized distances: {'Brent Perry': 0.0, 'Rick L. Nyhlen': 1.5882383931186514, 'Charley Underwood': 2.0634923396289344, 'Sandy Colvin Roy': 3.0}\n"
     ]
    },
    {
     "name": "stderr",
     "output_type": "stream",
     "text": [
      "/Users/es5891/Documents/GitHub/bugs-in-democracy/rcv_exploration/../rcv_learning/rcv_dimensionality.py:188: RuntimeWarning: divide by zero encountered in divide\n",
      "  distance = 1 / np.sqrt(freq_upper_triangle)\n"
     ]
    },
    {
     "name": "stdout",
     "output_type": "stream",
     "text": [
      "Consistency points: {1.5882383931186514: 500, 0.39705959827966286: 8, 3.0: 1698, 1.7070518797462224: 73, 1.9411787948389887: 83, 1.742648995699157: 5, 1.5085220806063908: 68, 1.8241153372926053: 69, 0.5735297991398314: 4, 0.4564663415934483: 15, 0.0: 14, 0.75: 19, 0.5158730849072337: 13, 0.6329365424536169: 19, 2.0396827122680845: 48, 2.297619254721701: 168, 2.063492339628935: 162}\n",
      "../rcv_elections_database/single/Berkeley_11022010_CityCouncilDistrict7.csv\n"
     ]
    },
    {
     "name": "stderr",
     "output_type": "stream",
     "text": [
      "/Users/es5891/Documents/GitHub/bugs-in-democracy/rcv_exploration/../rcv_learning/rcv_dimensionality.py:188: RuntimeWarning: divide by zero encountered in divide\n",
      "  distance = 1 / np.sqrt(freq_upper_triangle)\n"
     ]
    },
    {
     "name": "stdout",
     "output_type": "stream",
     "text": [
      "Normalized distances: {'GEORGE BEIER': 0.0, \"CECILIA ''CES'' ROSALES\": 1.009463197985962, 'KRISS WORTHINGTON': 2.0}\n"
     ]
    },
    {
     "name": "stderr",
     "output_type": "stream",
     "text": [
      "/Users/es5891/Documents/GitHub/bugs-in-democracy/rcv_exploration/../rcv_learning/rcv_dimensionality.py:188: RuntimeWarning: divide by zero encountered in divide\n",
      "  distance = 1 / np.sqrt(freq_upper_triangle)\n"
     ]
    },
    {
     "name": "stdout",
     "output_type": "stream",
     "text": [
      "Consistency points: {0.0: 572, 2.0: 219, 1.1190855012587737: 195, 0.37381710025175474: 556, 1.2429026015105284: 48, 0.5: 136, 0.9905368020140379: 72, 0.24763420050350948: 255}\n",
      "../rcv_elections_database/single/Portland_11082022_SchoolBoardDistrict3.csv\n"
     ]
    },
    {
     "name": "stderr",
     "output_type": "stream",
     "text": [
      "/Users/es5891/Documents/GitHub/bugs-in-democracy/rcv_exploration/../rcv_learning/rcv_dimensionality.py:188: RuntimeWarning: divide by zero encountered in divide\n",
      "  distance = 1 / np.sqrt(freq_upper_triangle)\n"
     ]
    },
    {
     "name": "stdout",
     "output_type": "stream",
     "text": [
      "Normalized distances: {'Rosenthal, Samuel H.': 0.0, 'Opperman, Julianne R.': 1.0863574585722404, 'Burk, Adam M.': 2.0}\n"
     ]
    },
    {
     "name": "stderr",
     "output_type": "stream",
     "text": [
      "/Users/es5891/Documents/GitHub/bugs-in-democracy/rcv_exploration/../rcv_learning/rcv_dimensionality.py:188: RuntimeWarning: divide by zero encountered in divide\n",
      "  distance = 1 / np.sqrt(freq_upper_triangle)\n"
     ]
    },
    {
     "name": "stdout",
     "output_type": "stream",
     "text": [
      "Consistency points: {2.0: 988, 1.0863574585722406: 1038, 0.0: 306, 1.1789734116076505: 866, 0.3857946823215301: 275, 1.3147680939291804: 331, 0.27158936464306016: 85, 0.5: 30}\n",
      "../rcv_elections_database/single/SanLeandro_11082016_CountyCouncilDistrict4.csv\n",
      "Error in file: ../rcv_elections_database/single/SanLeandro_11082016_CountyCouncilDistrict4.csv\n",
      "zero-size array to reduction operation minimum which has no identity\n",
      "../rcv_elections_database/single/Alaska_11082022_SenateDistrictI.csv\n"
     ]
    },
    {
     "name": "stderr",
     "output_type": "stream",
     "text": [
      "/Users/es5891/Documents/GitHub/bugs-in-democracy/rcv_exploration/../rcv_learning/rcv_dimensionality.py:188: RuntimeWarning: divide by zero encountered in divide\n",
      "  distance = 1 / np.sqrt(freq_upper_triangle)\n"
     ]
    },
    {
     "name": "stdout",
     "output_type": "stream",
     "text": [
      "Normalized distances: {'Tobin, Löki G.': 0.0, 'Herndon, Heather': 1.0}\n"
     ]
    },
    {
     "name": "stderr",
     "output_type": "stream",
     "text": [
      "/Users/es5891/Documents/GitHub/bugs-in-democracy/rcv_exploration/../rcv_learning/rcv_dimensionality.py:188: RuntimeWarning: divide by zero encountered in divide\n",
      "  distance = 1 / np.sqrt(freq_upper_triangle)\n"
     ]
    },
    {
     "name": "stdout",
     "output_type": "stream",
     "text": [
      "Consistency points: {1.0: 3616, 0.0: 1771, 0.25: 699}\n",
      "../rcv_elections_database/single/NewYorkCity_06222021_DEMComptrollerCitywide.csv\n"
     ]
    },
    {
     "name": "stderr",
     "output_type": "stream",
     "text": [
      "/Users/es5891/Documents/GitHub/bugs-in-democracy/rcv_exploration/../rcv_learning/rcv_dimensionality.py:188: RuntimeWarning: divide by zero encountered in divide\n",
      "  distance = 1 / np.sqrt(freq_upper_triangle)\n"
     ]
    },
    {
     "name": "stdout",
     "output_type": "stream",
     "text": [
      "Normalized distances: {'Alex Pan': 0.0, 'Terri Liftin': 0.2095478075433459, 'Zach Iscol': 2.9729009203343293, 'Reshma Patel': 3.5592125639630896, 'Michelle Caruso-Cabrera': 4.335937019392577, 'Brad Lander': 5.232158256468472, 'David I. Weprin': 6.029968252849153, 'Corey D. Johnson': 6.0632075824971485, 'Kevin S. Parker': 7.502361297851969, 'Brian A. Benjamin': 9.0}\n"
     ]
    },
    {
     "name": "stderr",
     "output_type": "stream",
     "text": [
      "/Users/es5891/Documents/GitHub/bugs-in-democracy/rcv_exploration/../rcv_learning/rcv_dimensionality.py:188: RuntimeWarning: divide by zero encountered in divide\n",
      "  distance = 1 / np.sqrt(freq_upper_triangle)\n"
     ]
    },
    {
     "name": "stdout",
     "output_type": "stream",
     "text": [
      "Consistency points: {6.079940002781095: 359, 5.602107428718608: 65621, 4.593224454988595: 64, 6.021998947040905: 90049, 7.657891994025139: 17658, 5.603708306689566: 66, 7.736445924855538: 511, 6.766499210280679: 5368, 5.707080308299183: 11948, 3.9730367302941607: 573, 6.705947694101163: 21401, 5.1207268484464: 1931, 5.291714035211465: 1544, 6.228899183183495: 13, 3.71310725478299: 311, 6.943933769082157: 571, 0.0: 2592, 6.19298613380597: 3570, 7.762689144750682: 57, 4.868913788247895: 191, 5.841953927800102: 276, 5.620902827788688: 89, 4.531991028354704: 1, 3.213664015766615: 492, 5.153734002038645: 459, 2.875801679746017: 7366, 5.878067495064247: 5669, 4.820302815581565: 38345, 6.4515805715389565: 3839, 4.406851259809512: 304, 3.6511281328155922: 29, 3.213741298993958: 12199, 3.690614701865026: 11142, 3.4596525403470344: 186, 6.430972208786963: 2676, 7.738257750590149: 54, 5.048651393232021: 357, 3.8108328314251207: 1267, 4.924428090102454: 29, 5.056504975695749: 35, 4.772691326886382: 174, 4.2057859352612565: 70, 5.807954381026478: 62, 4.660305974245468: 600, 9.0: 16716, 3.5976325735198538: 250, 2.960286584558002: 382, 7.279460770575873: 796, 3.6623509965697387: 869, 5.792573901681715: 1439, 0.8034353247484896: 228, 6.193236540345331: 11, 5.92124279638383: 22, 6.0376975503751025: 120, 6.41546700427481: 930, 5.76687336577157: 45, 5.609354731657052: 1621, 0.7189504199365042: 96, 4.306467916751241: 51, 4.13163412632266: 16, 3.863319271215408: 332, 1.1515550013827613: 3, 3.5122484235958678: 25, 1.6764869235252908: 169, 5.068240408656113: 575, 5.015753968865826: 5609, 5.799711475394108: 343, 3.557378116989165: 1050, 3.8333381833348037: 996, 5.780341918422117: 555, 1.2050757038953912: 283, 6.046698768207102: 8, 4.034601128189626: 94, 7.437900158639956: 136, 1.4407813137103411: 19, 1.0042555143219403: 71, 3.361926963704904: 882, 4.273460763158996: 221, 5.857959945390976: 1, 5.498384023768828: 40, 6.110792352917382: 215, 3.51408804863145: 67, 5.3098824672581735: 205, 5.579521728848666: 189, 4.326783702387643: 5, 4.220974323368709: 26, 4.097005526831435: 4, 4.444447949924061: 313, 5.578470573448819: 137, 6.116053570045241: 3717, 1.6574999278429683: 30, 3.915805711005695: 1254, 3.61538167814086: 1830, 3.791847467070899: 9, 5.537279276442673: 293, 5.4085345420836015: 998, 7.043755160760923: 101, 5.997060532554744: 371, 5.643301018573924: 78, 5.865227111686174: 1482, 6.5987357095338215: 439, 3.8668376274427683: 47, 5.529700110192458: 837, 3.7655936945732775: 159, 6.800692518781479: 100, 5.834192012199879: 20, 5.678344748243462: 109, 4.563440987414557: 30, 3.332959649711725: 492, 5.615128779722871: 137, 4.373549436008114: 78, 5.792336272712789: 19, 5.578660375382696: 84, 6.042774117373552: 336, 5.81750780382966: 209, 3.695358150161984: 209, 6.283817070792098: 636, 3.609864556779452: 198, 1.6818851594711488: 7, 4.987460094496314: 6, 5.663204825434815: 87, 5.4681437174424845: 111, 4.8149337792923745: 651, 6.028078993610045: 24, 4.997634901548829: 15, 4.071324258315798: 143, 4.144677573506905: 10, 7.788932364645825: 257, 5.162818218061999: 12, 5.750033882802801: 115, 5.334297695342784: 4, 4.841648639958175: 95, 6.48628674349076: 3, 3.9700803254463066: 92, 1.2994576428821387: 4, 3.2799149353629082: 2, 2.771205483900537: 6, 6.036033652699971: 11, 5.9138952345020765: 17, 6.153034805323375: 235, 6.15498495795073: 28, 7.566051815544751: 17, 0.9205293695829597: 1, 1.825263428589826: 34, 3.7410108426385307: 16, 4.518188996498704: 63, 1.400526857179652: 199, 4.288055842625582: 164, 3.5121389801373213: 78, 1.3285126373638463: 3, 5.110987205347379: 31, 6.013749341900565: 128, 5.708093007616086: 135, 1.1472224862950942: 6, 4.235569402835295: 128, 6.238866708324159: 39, 2.25: 106, 6.373224551868818: 369, 5.177804066474421: 67, 5.200388156448094: 13, 6.203797153446829: 17, 6.115341842090536: 18, 5.493597458733149: 30, 5.968949974086036: 4, 3.019895759916886: 23, 3.409115169050876: 41, 4.919906658872949: 247, 4.08679289777076: 558, 4.682434024905055: 292, 4.992395759558733: 15, 3.7166256110103504: 32, 4.492542473498611: 85, 3.9230613103775087: 26, 5.697463610939316: 100, 4.324778972751753: 561, 6.113422961481311: 15, 4.9049515158550845: 9, 5.542871602980363: 21, 3.5117098925610324: 34, 4.168487883578422: 374, 3.8510872879558096: 70, 6.507407969693757: 43, 5.378662897661544: 4, 5.777433978873068: 35, 1.1972143274456242: 4, 6.228306095222661: 75, 6.402098380327891: 12, 1.154467530754358: 29, 6.326624759825626: 132, 5.48782341066733: 90, 3.6003316914927828: 20, 4.092191133716618: 20, 3.4178949685357276: 28, 5.146477808170398: 42, 7.638720348213408: 147, 1.1122250783483651: 16, 1.159302445495549: 5, 5.728363935223471: 57, 4.255094567828304: 8, 1.2399611241368902: 61, 7.653060695934755: 9, 4.971458113555294: 34, 5.050221544852518: 25, 5.093833153490696: 17, 3.800440473201105: 3, 6.441217308813227: 55, 7.993418995518854: 1552, 6.311979171296467: 303, 5.814692319006689: 15, 0.863044500107373: 16, 5.532310989878865: 11, 5.67822234040685: 48, 3.880029625823882: 18, 4.877664206466957: 106, 6.3943457780718145: 59, 1.5267176623742449: 24, 3.867837010009792: 8, 1.2266610095989698: 5, 3.9821146883993386: 110, 5.942364022586827: 29, 3.9078799677496274: 3, 1.128728655144488: 1, 4.407905310683204: 5, 5.277201647474971: 3, 4.8987854326699525: 4, 1.8793617113892165: 2, 3.89823293802591: 5, 6.242743009452197: 56, 5.442442187386802: 13, 1.9144729985062847: 55, 6.99384446492154: 10, 3.4738629733665514: 37, 5.017961026398769: 209, 1.5054997367602263: 203, 5.749485161426468: 44, 3.515620545177858: 6, 5.762294056064421: 73, 5.75131714294913: 66, 4.120094721572158: 99, 6.280760192354546: 231, 5.327852344649621: 6, 3.528642556933444: 32, 3.0795049352757693: 104, 3.747844589952271: 170, 1.1724240554431207: 3, 3.1979029070209126: 27, 3.0024517537366515: 35, 4.001299304388227: 113, 4.946709087666391: 39, 5.120877342875285: 15, 3.2418358796338484: 10, 6.322790190937326: 22, 6.423219606530887: 59, 3.2907171973057325: 30, 6.134544187684308: 40, 5.206220441828933: 206, 2.981369169147327: 11, 2.8905112367006525: 2, 4.979515834231832: 46, 5.5238469307100475: 43, 5.1058103470422065: 6, 6.445271591954253: 23, 4.975353903984892: 51, 5.262689259738478: 43, 6.139549178139979: 55, 5.033922400912535: 24, 3.652611353470718: 19, 6.858440175699625: 102, 3.290697876498897: 7, 4.1202923418787245: 109, 4.856840285174328: 17, 6.4968280357854225: 2, 5.1391968577123865: 17, 5.5614352248772985: 15, 4.799014499880543: 5, 5.032202681048924: 24, 5.49458882307539: 5, 4.82361714076882: 11, 5.076164853318527: 72, 3.906066067906674: 21, 5.403594518235239: 18, 6.214608173087688: 32, 5.622179792370928: 96, 3.7820972713694: 15, 4.912291802595182: 19, 5.562775409841254: 37, 5.760886313652936: 33, 5.751733442962923: 22, 6.805953735909338: 135, 5.786115966487935: 34, 1.3167117092213945: 4, 5.953971792299497: 24, 5.652644212333317: 38, 5.796386577626663: 16, 6.882126381869704: 4, 3.6389210590845726: 17, 5.307657835760895: 12, 4.067805902088437: 108, 1.0531183026430055: 9, 5.877116979188544: 78, 5.098445850882463: 42, 5.508944636870327: 123, 6.293665955938892: 18, 7.602855648541393: 9, 4.946621519538748: 15, 1.0092040314093214: 2, 5.090893845638013: 83, 7.8744259580283575: 81, 3.5548857768285878: 11, 1.4530132969699392: 29, 3.94881286459794: 113, 6.933078804426679: 3, 5.6391309042075495: 53, 1.7099863676332556: 18, 4.9327865841998495: 40, 7.446583520116402: 1, 3.507269158587811: 9, 5.286637468213015: 29, 3.2207159494903363: 13, 4.207885929371941: 2, 5.618610600529287: 14, 5.191708054092439: 13, 3.4650169743365247: 6, 3.5846340362012117: 20, 7.326910129944897: 2, 5.503278891096005: 27, 3.6215081493032626: 3, 0.9620130619159477: 29, 5.736797620751894: 11, 1.6399442842844345: 5, 7.486743626154186: 21, 2.0822364992531424: 10, 5.09011244527106: 4, 7.536948673547549: 41, 5.602992492215598: 22, 6.284683884638912: 55, 6.072161675148321: 4, 4.882303192115547: 21, 6.7082281592672075: 64, 5.847787649446953: 18, 4.850197525651912: 23, 1.0798658668234227: 4, 5.352124919664166: 7, 4.204174092252153: 14, 6.465165517287764: 36, 4.844738366971817: 22, 1.260328542281988: 9, 5.741172829861425: 36, 6.30422656904039: 33, 5.847312391509101: 5, 3.4301269517953257: 5, 5.034223978131813: 98, 4.21144145808204: 18, 6.141141131682028: 7, 6.329935695985229: 10, 4.867400898275826: 33, 4.834177753870319: 10, 5.423417515116486: 6, 6.131913579120379: 19, 3.9523312208253003: 33, 6.136463068293533: 16, 5.205974326915647: 60, 4.195743802790469: 16, 4.719047827685826: 24, 5.646657160214683: 46, 6.872313143931819: 5, 3.843281024434724: 7, 3.302875786601487: 24, 7.677492090095288: 24, 6.851618332663917: 2, 4.6140749481052525: 45, 3.9777552024660126: 11, 4.0075034618386365: 24, 1.7954799610157877: 21, 1.8777498683801133: 30, 4.3659644354964895: 15, 1.6391383627798826: 2, 5.901563103158985: 38, 5.415790141455415: 80, 3.7540487474026807: 14, 1.3589541616273872: 20, 5.737841266988711: 82, 5.851499189912636: 6, 1.4015395564965556: 8, 3.925475540488077: 23, 3.8387364192806617: 24, 4.689176183263768: 58, 0.8860343612897549: 2, 4.933413028798178: 32, 1.7275378519476956: 22, 4.782152121212926: 27, 0.9922185041422984: 1, 5.140735464720003: 43, 5.226000716884744: 5, 2.8401955004869466: 8, 6.283105342837394: 41, 6.892686994971202: 2, 5.99574522827278: 10, 4.985139565690487: 15, 1.59800340909772: 10, 5.994429923990815: 35, 1.0511449065960359: 2, 3.6624604400282856: 8, 7.61341626164289: 17, 4.008309383343189: 9, 5.74964756214776: 33, 6.0354265554917985: 11, 5.3495987109476095: 27, 4.645710894778883: 26, 5.950769328940489: 36, 1.2689034620049628: 3, 1.1019810909640708: 45, 5.182676339906718: 41, 3.6850752353965146: 31, 5.775265351423667: 93, 1.5909933301427586: 30, 5.820832701597105: 22, 1.1977186717308976: 27, 3.9780789212425463: 1, 5.879081171593973: 15, 5.55840050264567: 17, 5.029400969683029: 15, 5.680512003147571: 13, 4.925530390331603: 76, 1.4221070333376369: 3, 0.9747090231161166: 1, 3.9655625866519224: 23, 1.0662399125905773: 5, 1.5385068903524715: 29, 1.2654865883480926: 4, 3.4399900804135233: 2, 1.542218707642304: 1, 0.7611928723424969: 17, 5.6582033124136455: 6, 3.739350474678134: 24, 5.468531700153607: 5, 6.080942282928173: 37, 5.609326316528108: 5, 6.475076179633694: 105, 7.63737808914111: 71, 1.1282243108592143: 10, 7.687583136534473: 47, 4.992283102945098: 60, 1.1615902663229543: 13, 1.3717912971239314: 3, 5.678107119274536: 29, 6.306549138506634: 3, 1.3028012805375218: 50, 3.9358143272792985: 15, 7.111697269829015: 83, 1.559774351200838: 10, 4.957269700767889: 15, 1.3143493766691579: 6, 6.130580518580531: 10, 4.477947394032025: 12, 3.8912228590709486: 23, 5.060782157954017: 13, 5.7065177751346: 1, 3.8415937901146484: 12, 2.848570361513938: 2, 5.410707072701961: 90, 5.0697726194350174: 15, 5.158447281261379: 3, 5.445836970641232: 30, 5.181137732899101: 43, 7.702954997036507: 9, 1.9632434617626453: 12, 3.6092761660436645: 19, 1.010875850237013: 1, 3.657129092265102: 7, 5.931803409485329: 7, 1.0597386385580783: 16, 5.2657169605741805: 39, 5.953496534361645: 15, 4.954232677781897: 19, 4.874542954651258: 124, 7.51298684604933: 5, 5.9328505660965005: 10, 3.790472132396391: 8, 4.733748338276757: 9, 3.863091259988406: 9, 3.471296132870845: 4, 6.145017432810067: 9, 3.951718760383221: 13, 3.814351187652481: 58, 0.9925764096683941: 3, 4.903664769425554: 12, 2.983573769605624: 3, 3.6982640459472647: 7, 5.557773896820084: 8, 3.485895760242178: 13, 4.793812553089379: 22, 4.440715289352974: 10, 5.538749224549768: 17, 4.0328958503636265: 8, 5.593147693588068: 51, 4.942333878556861: 8, 6.058818776578099: 15, 3.27331183273917: 17, 6.184699438599589: 43, 5.831373993891767: 10, 1.3405925965643013: 9, 5.644933367402312: 24, 3.8711851025292847: 24, 5.594007553519874: 75, 4.059643414544043: 2, 7.036182496265711: 20, 4.070762306936292: 56, 5.438339129763043: 16, 7.587173041747747: 26, 3.672020826052121: 24, 3.4121915419588946: 15, 6.169887251790451: 12, 3.883534665301363: 20, 4.808916630177889: 9, 5.826666423243957: 24, 3.6990699674518166: 3, 5.115082497587257: 11, 4.872020923704989: 20, 5.852129330185176: 14, 4.703943750597316: 24, 3.795989622589395: 20, 5.779782142175424: 115, 4.7443089513782555: 20, 5.139221614302151: 38, 5.170483724092628: 26, 6.842934971187471: 68, 5.9088857592734145: 3, 6.186958307996782: 16, 3.9347803945477446: 1, 3.579567274116548: 3, 3.686874587490325: 7, 0.9104657554502875: 3, 5.325213479319429: 128, 4.058224619298999: 5, 4.502332625660205: 4, 1.3801661581509226: 8, 5.183939444264996: 18, 5.7291987256241566: 17, 5.66186464047086: 25, 5.817644346979747: 21, 1.1173615703088347: 6, 1.5841595828290185: 4, 7.563191893442692: 16, 5.957266316426548: 7, 5.85481023238729: 30, 5.042763294150421: 9, 5.064084894118072: 28, 4.967830313869388: 38, 3.5753051845794928: 14, 5.0305032699121774: 34, 3.190418666827433: 1, 0.9226536754662565: 73, 6.040711716088468: 4, 6.12398357458281: 19, 3.7243004880300568: 12, 6.739771139587353: 4, 1.5863268377331283: 11, 6.125902455192034: 7, 6.304476975579751: 9, 1.063864689680824: 5, 3.7594881824760824: 2, 5.908828453753775: 31, 7.626817476039612: 35, 2.8401581549327597: 1, 3.5789582931471493: 10, 6.721788194034631: 5, 3.850898644174316: 3, 7.587623287603225: 13, 3.6930690080023068: 21, 4.049444337025351: 32, 6.0298760895347465: 26, 3.80134014924801: 8, 3.5333643093927782: 23, 6.692575538947692: 2, 3.626574911387926: 10, 1.3552877203278086: 20, 5.498336287833048: 3, 5.779289749105909: 3, 5.676766934310581: 13, 1.2900768016546125: 2, 5.417217903560046: 9, 7.437880837833121: 7, 6.922223839771201: 16, 7.6636213090362535: 14, 4.100254095098041: 5, 3.4500536945461953: 5, 6.325674243949922: 7, 6.90388609036382: 18, 5.632740405472426: 19, 5.677004563279507: 15, 6.368566593561524: 6, 3.4914234342060637: 12, 4.766971482682265: 21, 4.949711246552391: 6, 7.3863142105606245: 12, 4.190068059736406: 1, 1.1170599930895564: 2, 5.103731011479132: 21, 6.686485440480989: 4, 5.574581705000304: 4, 3.849281983884234: 2, 5.764994740284938: 28, 3.6856381816173607: 4, 6.379127206663022: 18, 3.796795544093947: 5, 5.792098643743863: 15, 3.6300799508654067: 11, 5.266230471734724: 2, 4.852465076064798: 20, 5.511433198118749: 3, 4.1992488422679495: 8, 1.1127274780018892: 2, 4.882487214915741: 33, 6.9433450659741975: 9, 6.207673454574867: 9, 5.992710204127204: 34, 2.869943759859571: 3, 5.9446790348793535: 12, 3.4226040366537966: 9, 4.152201603163741: 4, 7.65228038298083: 45, 4.169500582895325: 44, 5.839891526515016: 4, 4.97217199460761: 9, 1.2808960191230694: 1, 6.932784452872699: 3, 3.9194335106916016: 9, 5.664584645498213: 4, 3.8324130075831055: 10, 1.298651721377587: 2, 6.902544146546355: 20, 4.592953721902256: 11, 7.237041327452834: 3, 5.544523272615587: 18, 1.1709711075504805: 4, 4.123248746726579: 15, 4.289667685634685: 4, 5.914419407746173: 16, 7.395657706233964: 41, 4.203323260881999: 11, 1.0859818584532217: 2, 7.678523602875974: 14, 5.815920554167376: 11, 5.084689120839211: 12, 5.52340204641259: 7, 1.650489848888007: 5, 5.791890014553752: 14, 6.412658993429389: 20, 5.019849261105703: 17, 3.313525014193187: 5, 5.357541671458547: 12, 5.905876425780717: 21, 7.713826356429617: 14, 5.588205090325111: 5, 1.3290445004326652: 4, 3.892585327860014: 1, 4.225492062163093: 1, 5.6513040273693615: 9, 0.971203011322761: 3, 3.5806653020367865: 1, 3.9906533979576335: 7, 5.159248004271249: 5, 5.596630252774143: 9, 7.688052703196786: 36, 3.8118455307420245: 16, 1.1793459685774716: 1, 6.840200555180915: 3, 6.0042882102382364: 4, 3.6816678557758387: 5, 6.29754225706693: 14, 5.097255982525672: 25, 4.982732607709108: 17, 4.128290937674964: 2, 4.960352742360455: 14, 4.097139118029455: 8, 1.332017676841327: 4, 3.3960269577501148: 12, 1.2189116208544326: 4, 5.521993811220248: 4, 3.568106984968145: 5, 6.671880727679791: 6, 5.616648972642538: 5, 4.284702479190386: 4, 5.13577402867741: 28, 6.07787760149601: 11, 0.8208020477013804: 4, 6.642076140000349: 3, 3.7455554477925936: 9, 5.06259605779697: 37, 4.561829144405454: 3, 1.0453708585302177: 4, 1.4005934595948233: 3, 5.022144018931358: 39, 6.3122295778358275: 6, 1.341398518068853: 2, 3.9903109045021448: 2, 1.1847201344122553: 6, 4.151687652461866: 13, 5.877592237126395: 10, 7.517189027223686: 5, 4.046050676262002: 16, 3.8651331710583614: 8, 7.602075335587468: 13, 3.385214148752526: 5, 3.950042078665623: 4, 3.4286802962005622: 5, 5.096954405306394: 5, 4.10273669832019: 4, 4.096837540810177: 5, 5.93560423710641: 10, 5.240746908257985: 5, 4.3054103040420095: 2, 1.1549718750396312: 3, 2.8996920192321953: 3, 5.209373095143817: 5, 7.59151472248597: 32, 6.406959233293359: 1, 6.656680852801547: 6, 5.343954360088466: 3, 3.5370174179604352: 4, 1.230580282909364: 6, 4.047767655307753: 3, 3.7071610458452935: 7, 2.7974487037956806: 3, 6.56701714505264: 18, 4.0049271040741345: 2, 3.9443117051107612: 1, 7.553212547266403: 8, 7.538310253426682: 15, 3.650228456768687: 7, 1.4277827763916988: 6, 6.308102870168429: 13, 6.893434370134814: 3, 5.1419985690782815: 16, 6.8296399420794165: 5, 4.901257815317058: 13, 7.501645919993907: 23, 5.766635736802644: 14, 4.245264136068713: 5, 4.025148406250838: 11, 7.592295035439895: 12, 1.1816048379746635: 6, 3.8669470709013147: 4, 5.747358233853392: 5, 4.931630099063872: 9, 5.169057773698646: 3, 5.051892278303982: 21, 4.731204488161415: 22, 3.9816738173981525: 5, 5.017264682175756: 2, 6.851606428385884: 4, 5.861197902378045: 1, 1.597197487593168: 3, 5.3101840444774515: 3, 3.7891081659884116: 4, 4.425460954241738: 50, 4.239087759062655: 21, 5.797649074109024: 3, 6.821813744984476: 4, 5.198964247960686: 11, 6.109744590460537: 7, 6.023554158989248: 10, 1.2567108461908725: 4, 5.427778516661545: 6, 3.564734863386155: 9, 4.241722788451395: 1, 1.1603440962426657: 2, 7.001818444818302: 10, 1.0223246690410184: 4, 6.622720358320203: 6, 6.222360775343764: 5, 3.9097778851965064: 8, 4.739909668806933: 4, 5.513286317608549: 4, 5.109438146728113: 2, 5.933685356497185: 5, 3.5583908163060682: 21, 4.016896617852777: 3, 1.4434804316832701: 6, 4.1390799932161695: 8, 5.59011099464516: 5, 5.736322362814042: 5, 3.7607238730237667: 6, 4.165995543417845: 3, 4.208742340109111: 39, 3.831049041175126: 3, 2.9384768195357247: 1, 3.9831211121909322: 11, 5.086309563375191: 13, 3.9287746178172567: 1, 4.3589543565415285: 20, 1.3022694174687026: 8, 1.230166049076451: 1, 4.950040650539106: 13, 5.856836900832986: 2, 4.006017178636445: 4, 5.419791288725316: 8, 5.077324624679467: 30, 6.237916192448455: 4, 2.8188221021413136: 3, 3.838088750637168: 13, 5.236425884055283: 9, 1.4732286910558945: 5, 5.983776379978939: 8, 5.035383749492753: 22, 1.0809494942754776: 2, 4.161382385695284: 11, 1.43128781586918: 5, 1.2140767061132414: 21, 1.4697236515784133: 2, 3.875729217444328: 9, 1.6924307240747214: 2, 1.442835912000816: 2, 7.49750933399884: 37, 4.9271622582447625: 31, 6.424150365751256: 3, 5.396194684965468: 2, 3.8005073613837794: 3, 5.411734095023049: 6, 5.215304657852286: 8, 1.734371599261436: 4, 3.438773754441381: 1, 5.823631399098382: 10, 1.7938681180066844: 2, 6.336353726186076: 3, 1.193797453788754: 2, 3.7079110756709825: 2, 3.7121078722159666: 9, 4.194797535375174: 2, 5.826191165306105: 9, 1.0642655442277327: 1, 3.8537864059287386: 18, 7.616977629427189: 22, 5.59876570342661: 3, 5.080326783565467: 9, 5.777196349904142: 14, 5.638571127960858: 5, 3.8083404912645435: 5, 1.0464544859822729: 2, 1.0882407278504138: 1, 0.9794557720366972: 3, 5.836751778407603: 5, 5.156865157884556: 6, 7.576612428646249: 5, 4.88328793792561: 8, 4.84176129657181: 9, 5.128250438561905: 21, 4.0244206140894185: 8, 3.7548546689072326: 20, 1.4575310357643232: 1, 3.391127292092458: 4, 1.2004177897038266: 1, 4.939150633450892: 2, 5.1271168985119315: 7, 1.0808931659686603: 2, 4.173575001509374: 12, 6.103367737853268: 11, 6.7824443414397555: 4, 4.556634188665641: 8, 1.3504178987782982: 1, 4.250632726063207: 15, 3.6563231707605506: 3, 1.0176352207431303: 2, 5.05332390725192: 13, 3.7707563378637534: 4, 4.067390858656831: 3, 5.862689943286674: 9, 3.2918001767280454: 4, 1.2995702994957736: 11, 6.08948526489363: 8, 3.950719377816197: 5, 1.1769707456677183: 3, 5.592551582391751: 4, 1.3833393932555675: 7, 4.2848428272009285: 14, 5.762260527693113: 8, 4.068018275571035: 4, 2.784327093848109: 2, 4.060795823133476: 5, 4.131332549103382: 1, 5.19880603307127: 4, 5.023944553345581: 3, 3.339560664819962: 2, 6.227355579346957: 2, 4.118378925177068: 4, 1.3590668182410222: 3, 1.1790443913581934: 3, 6.166267655972974: 5, 1.158476914517112: 1, 4.143970506559303: 2, 4.294209228241682: 2, 3.856625368382425: 4, 4.418450875286776: 2, 3.7036145726058796: 5, 4.119139933289292: 3, 1.0087560154308655: 1, 4.6979266014828305: 5, 6.466885258164489: 17, 5.095249733940708: 2, 3.8073411086975195: 16, 5.902570720479207: 9, 6.635559626598551: 4, 6.66102253353977: 7, 5.036602978644447: 1, 1.1221083192294152: 3, 4.99198152572582: 18, 4.2376846779771835: 5, 5.1388952804931085: 13, 5.05920555736247: 4, 1.223545713161378: 1, 3.209001405776929: 5, 5.438374231429087: 2, 5.646928818259831: 8, 1.2865717621771318: 4, 6.7570909475882726: 16, 3.8121339254258677: 9, 3.149504887031681: 3, 4.8871250007935: 6, 5.2670866841547594: 5, 4.335410254619314: 5, 3.3710374093813007: 3, 5.439476531658236: 8, 1.316320021549756: 2, 5.8490943060396: 14, 5.097368639139307: 5, 4.0591390702587695: 3, 1.4185633369862707: 7, 3.3324013751531956: 3, 1.0301294137764985: 1, 3.481841697474418: 1, 6.0572593813086: 6, 5.715510459380651: 6, 1.2232441359421: 2, 4.139752323522701: 5, 4.203021683662721: 1, 3.2548159435355473: 3, 3.614382295573836: 4, 5.694389233177655: 4, 5.0550135301196795: 5, 6.9436394175281775: 1, 6.438121900370608: 8, 5.268243169290737: 5, 1.5151695662426088: 5, 6.8287800821476115: 13, 5.3697932198363345: 2, 5.1733637826655725: 9, 3.258395984096939: 3, 4.460391750473491: 2, 6.696325287093412: 3, 5.647642699312147: 3, 3.205953155214482: 1, 1.3980345170190747: 4, 4.398472836946981: 2, 0.9665135630248729: 2, 0.9747653514229342: 3, 4.109959150757748: 4, 5.9568299657150385: 5, 5.841934606993266: 8, 4.994820318347148: 2, 6.42756128726911: 3, 4.4498461858699185: 9, 3.5881390756786926: 10, 3.6650608674990806: 3, 4.293469379432599: 3, 4.1483894106266925: 1, 6.025473039598473: 3, 3.994465557074487: 5, 6.434710978852754: 1, 6.973149653653639: 3, 1.1228340411553746: 1, 7.542651934164905: 3, 5.005380931448646: 4, 3.6823596128433422: 8, 3.8146844931957107: 1, 5.289175751712239: 3, 4.221107187171926: 9, 5.409095229692858: 5, 3.2509422809636437: 2, 7.3374514222395595: 3, 0.9503339572624016: 1, 5.251313970330531: 5, 0.9289605589167684: 1, 4.080512468604403: 1, 1.1073552567988547: 3, 0.8914075548086641: 1, 5.812567779981298: 2, 6.5372125573731985: 2, 7.467704746319399: 6, 5.0383859083787526: 5, 1.075119117902842: 2, 6.7319449424924125: 3, 6.278697791069462: 4, 3.1027921203233912: 1, 4.988260817506185: 4, 7.527889139889051: 16, 2.9166670545134474: 1, 6.099183977359039: 3, 7.527749640325184: 11, 5.989369504365963: 1, 1.211465753960923: 1, 1.181717494588299: 1, 6.507388648886921: 2, 5.421564395626686: 1, 3.8928395193610306: 4, 4.083917132834667: 6, 6.426222528678139: 5, 3.429355257684131: 2, 4.647322737787986: 1, 6.06523114317124: 5, 6.436783141779637: 1, 5.837227036345455: 5, 4.046017460311198: 3, 2.720029725307517: 7, 2.938040452859081: 3, 6.897776050873038: 3, 4.054896665623462: 4, 3.9603664075399143: 3, 6.151365362133253: 1, 4.036212971198729: 2, 0.9336500072146566: 3, 5.998754561765478: 1, 4.097071958733044: 3, 1.1518565786020394: 2, 0.9533919530773012: 2, 6.394029500502743: 7, 4.0037750079052055: 3, 6.303217218152234: 6, 5.746882975915541: 2, 6.949332005028015: 5, 3.717547307289368: 2, 7.628318555482612: 2, 5.261099632036125: 2, 1.238955143936355: 2, 6.620954913797354: 4, 0.9825127955357219: 2, 6.7068859001949095: 6, 3.728815462677039: 5, 4.110260727977027: 2, 6.958247359813918: 2, 4.1018858669500355: 6, 3.9525246818877724: 3, 6.009315174866976: 6, 3.707001742685795: 2, 3.8056366523131127: 3, 7.568114841106124: 9, 7.617757942381114: 4, 3.4235238491715876: 4, 4.152907149421077: 5, 0.9158389489691967: 1, 4.979903816942954: 5, 1.2269625868182483: 3, 6.193486946884692: 7, 5.0565613040025665: 5, 7.367275330725837: 2, 3.2827003477589733: 3, 3.0006324645321065: 3, 5.075366253897821: 1, 4.360715825941892: 1, 4.4070993891786525: 2, 3.4155586862529907: 2, 4.263721120059975: 1, 4.904379067132756: 2, 4.089391673916667: 4, 7.427320224731623: 2, 1.4002017719231847: 1, 4.241189717454664: 8, 4.050250258529903: 5, 1.0389522907819457: 2, 5.730963899105042: 3, 5.771329099885982: 1, 1.5674492282205439: 1, 7.643220849322333: 4, 3.496783551663358: 1, 4.148127184549692: 2, 6.140804749031755: 5, 0.9878869613705059: 2, 5.258460766705934: 8, 3.7596647233210394: 1, 0.9580814013751893: 3, 1.741381678216397: 2, 6.088623364257541: 1, 6.050935946539692: 3, 6.872739558866914: 2, 1.5024450873596995: 1, 6.285427912303637: 1, 4.075804497884677: 1, 3.1387039211483407: 2, 7.266845915132276: 2, 4.303119165853494: 6, 1.1882251738897365: 1, 3.269578737811402: 2, 3.8573657881118764: 2, 4.356531961760267: 1, 7.476183013052688: 5, 7.41677893243696: 5, 1.0045136107955583: 1, 5.595527746439541: 3, 5.047163591745945: 3, 6.453024194210329: 4, 3.56733529085695: 1, 3.271584139006473: 2, 6.597257451378984: 1, 7.452783131672842: 4, 5.230192744127535: 5, 5.505446146000115: 4, 1.2568235028045076: 3, 1.325095763706976: 1, 6.516091331170202: 3, 6.855102849020636: 4, 4.0038082238560095: 1, 5.673105606253366: 3, 1.0812510714947556: 1, 5.22428959654801: 2, 1.5255083530338294: 1, 1.2007193669231047: 2, 5.871758515479543: 3, 5.67643333276518: 1, 1.4994719109510375: 2, 1.079361522538149: 1, 6.5866968382774855: 1, 6.396417940998697: 1, 5.932375308158648: 5, 1.0876133109362103: 2, 5.408467485340985: 4, 6.923238957814256: 1, 1.039008619088763: 1, 4.247283975165461: 1, 1.442948568614451: 1, 3.5627425509786548: 3, 3.179253146404305: 4, 6.637622652159924: 3, 1.125849087949461: 1, 1.11099933086738: 2, 2.9118846350462855: 2, 4.928590020349395: 2, 2.959850217881358: 1, 1.6436561015742668: 1, 6.646120239700049: 1, 3.0315393524406966: 2, 4.03827001619841: 1, 3.8753216885243513: 1, 3.8400988880697273: 2, 3.601756431243932: 1, 6.942892042364565: 6, 3.910583806701058: 4, 4.3232176388052235: 1, 4.799406187552182: 1, 3.5237825726611325: 1, 4.110160352729811: 3, 1.3739585520280413: 3, 4.365158513991938: 1, 6.807907248380975: 4, 4.0389976269787295: 3, 3.2211940215910193: 1, 3.7479540334108177: 3, 5.616824157406296: 2, 6.742474978538785: 1, 6.642045562945223: 1, 4.503445716527556: 1, 0.9402703431297293: 2, 3.0409783445062106: 1, 1.341096940849575: 2, 5.006230694897632: 1, 1.2320332308020043: 1, 1.4010076934277365: 1, 4.509342704615166: 3, 6.137486776854894: 1, 3.9812610576075436: 1, 3.9015649084194948: 1, 5.547868542239167: 1, 1.2721069242631653: 1, 5.194485008868568: 3, 5.2014904566772415: 1, 6.607818064480482: 3, 2.959413851204714: 1, 3.1797099353193388: 1, 0.8616029671292222: 1, 4.050663833984562: 1, 1.2572151904761462: 1, 0.9367089753454311: 1, 4.185747688480573: 2, 1.4957600936612052: 1, 1.0239974601845847: 2, 1.221286843764186: 1, 5.440912514928312: 1, 5.117608706303813: 1, 0.9878306330636883: 1, 7.356714717624339: 1, 1.1813032607553855: 1, 6.958541711367898: 1, 6.671583146641268: 2, 0.9449607637434924: 1, 4.6195341067853475: 1, 7.4571441332179: 1, 6.8550233020427545: 3, 3.801605598507754: 1, 1.0595760959298446: 1, 1.5552566124064537: 1, 3.292883156150358: 1, 3.8435464736944684: 2, 6.882873757033316: 2, 3.4085506814063717: 1, 3.963974813349111: 1, 5.397234079252243: 1, 5.946705703325049: 1, 5.9721686102662686: 1, 1.1878334862180977: 1}\n",
      "../rcv_elections_database/single/NewYorkCity_06222021_DEMCouncilMember38thCouncilDistrict.csv\n"
     ]
    },
    {
     "name": "stderr",
     "output_type": "stream",
     "text": [
      "/Users/es5891/Documents/GitHub/bugs-in-democracy/rcv_exploration/../rcv_learning/rcv_dimensionality.py:188: RuntimeWarning: divide by zero encountered in divide\n",
      "  distance = 1 / np.sqrt(freq_upper_triangle)\n"
     ]
    },
    {
     "name": "stdout",
     "output_type": "stream",
     "text": [
      "Normalized distances: {'Victor Swinton': 0.0, 'Jacqui Painter': 1.9730521249251267, 'Rodrigo G. Camarena': 2.4496372875524735, 'Alexa Aviles': 2.9712410257249693, 'Cesar Zuniga': 3.3990305134621424, 'Yu Lin': 5.0}\n"
     ]
    },
    {
     "name": "stderr",
     "output_type": "stream",
     "text": [
      "/Users/es5891/Documents/GitHub/bugs-in-democracy/rcv_exploration/../rcv_learning/rcv_dimensionality.py:188: RuntimeWarning: divide by zero encountered in divide\n",
      "  distance = 1 / np.sqrt(freq_upper_triangle)\n"
     ]
    },
    {
     "name": "stdout",
     "output_type": "stream",
     "text": [
      "Consistency points: {3.078188397659263: 148, 5.0: 2081, 2.6869855940298915: 55, 2.2225993501250874: 159, 2.9712410257249697: 1234, 2.449637287552474: 305, 2.580038222095598: 153, 0.0: 192, 3.3990305134621437: 304, 3.7992728850966078: 23, 3.37439407091384: 4, 2.953414785059283: 71, 1.25: 21, 2.680530763407947: 4, 3.4784307692937273: 48, 2.329546722059381: 40, 2.034083125045705: 3, 2.184135725837099: 8, 0.8497576283655359: 12, 1.9730521249251267: 299, 2.5204650767671795: 83, 2.480409577590715: 3, 3.046600075669587: 35, 0.7715709227070249: 4, 1.9759678345094467: 7, 3.0872279656643555: 11, 2.729789093693845: 16, 3.0129879303877014: 88, 0.5988048316872678: 1, 2.2760730360922343: 24, 0.8716315156156409: 4, 2.182148932108942: 2, 2.983201357723492: 51, 2.6335119080627445: 71, 0.4932630312312817: 9, 0.7428102564312424: 12, 2.0921984155819633: 40, 2.210872568820672: 10, 2.5798021533865336: 31, 2.1573988828535255: 28, 3.1397853662798907: 8, 2.8871067798471235: 6, 2.529667907876613: 5, 2.8300990272514626: 3, 2.629832449840842: 11, 2.1224778469331884: 6, 0.7310834751268271: 3, 3.0469340842259856: 6, 2.503250988150519: 14, 2.128675246141795: 3, 2.987360938897567: 5, 2.3807809330858323: 4, 2.6570213357353456: 10, 2.603311581059135: 2, 2.7810233047202964: 3, 2.476848153723344: 7, 3.0926070193686845: 2, 3.080212220951472: 5, 0.6124093218881185: 7, 2.273833561151539: 2, 0.6776097891596804: 2, 0.7543769285975618: 2, 0.7962839423983892: 2, 2.2473493993805036: 3, 2.3761336290008503: 3, 2.1651520767016263: 1, 2.08291520644374: 3, 3.49770982872166: 1, 2.433231230679509: 1, 3.1070256410781063: 2, 0.6715103297984089: 1, 3.6210255865294805: 2, 0.5528361765597001: 1, 0.8963445353070052: 1, 2.786810118229443: 2, 0.5854364101954811: 1, 0.6622035496333625: 1, 0.6180366438312621: 1}\n",
      "../rcv_elections_database/single/SanLeandro_11042014_Mayor.csv\n"
     ]
    },
    {
     "name": "stderr",
     "output_type": "stream",
     "text": [
      "/Users/es5891/Documents/GitHub/bugs-in-democracy/rcv_exploration/../rcv_learning/rcv_dimensionality.py:188: RuntimeWarning: divide by zero encountered in divide\n",
      "  distance = 1 / np.sqrt(freq_upper_triangle)\n"
     ]
    },
    {
     "name": "stdout",
     "output_type": "stream",
     "text": [
      "Normalized distances: {'GREGG DALY': 0.0, 'DAN DILLMAN': 1.7798945114524845, 'PAULINE RUSSO CUTTER': 2.291521263499254, 'DIANA SOUZA': 3.0}\n"
     ]
    },
    {
     "name": "stderr",
     "output_type": "stream",
     "text": [
      "/Users/es5891/Documents/GitHub/bugs-in-democracy/rcv_exploration/../rcv_learning/rcv_dimensionality.py:188: RuntimeWarning: divide by zero encountered in divide\n",
      "  distance = 1 / np.sqrt(freq_upper_triangle)\n"
     ]
    },
    {
     "name": "stdout",
     "output_type": "stream",
     "text": [
      "Consistency points: {0.24107302813103273: 2560, 1.2201054885475158: 798, 0.0: 1648, 0.7478255824498452: 850, 0.7084787365007461: 2266, 0.17711968412518653: 867, 0.8363854245124385: 426, 0.30502637213687894: 207, 1.2813590523755596: 6, 3.0: 23, 1.6650791164106369: 9, 1.5125659303421974: 1}\n",
      "../rcv_elections_database/single/SanFrancisco_11072006_BoardofSupervisorsDistrict10.csv\n"
     ]
    },
    {
     "name": "stderr",
     "output_type": "stream",
     "text": [
      "/Users/es5891/Documents/GitHub/bugs-in-democracy/rcv_exploration/../rcv_learning/rcv_dimensionality.py:188: RuntimeWarning: divide by zero encountered in divide\n",
      "  distance = 1 / np.sqrt(freq_upper_triangle)\n"
     ]
    },
    {
     "name": "stdout",
     "output_type": "stream",
     "text": [
      "Normalized distances: {'Charlie Walker': 0.0, 'Espanola Jackson': 1.7061776432849922, 'Sophie Maxwell': 2.2017100572759505, 'Rodney Hampton Jr.': 2.5452511130181072, 'Marie L. Harrison': 2.9366478160967486, 'Dwayne Jusino': 3.239423261562357, 'Sala Chandler': 6.0}\n"
     ]
    },
    {
     "name": "stderr",
     "output_type": "stream",
     "text": [
      "/Users/es5891/Documents/GitHub/bugs-in-democracy/rcv_exploration/../rcv_learning/rcv_dimensionality.py:188: RuntimeWarning: divide by zero encountered in divide\n",
      "  distance = 1 / np.sqrt(freq_upper_triangle)\n"
     ]
    },
    {
     "name": "stdout",
     "output_type": "stream",
     "text": [
      "Consistency points: {3.7982899427240495: 3785, 4.293822356715008: 405, 3.4547488869818928: 256, 3.0200050395092446: 110, 0.7279911152926117: 5, 3.1438881430069845: 66, 0.7658380459758127: 5, 2.760576738437643: 511, 3.922173046221789: 227, 3.6645172544151716: 25, 3.830305826369189: 201, 0.8817998868940814: 8, 4.528711065251586: 4, 0.9066298537132428: 11, 3.37096972710619: 47, 0.776915703177442: 3, 2.885195187688875: 55, 3.039003959290345: 29, 2.864167600620544: 30, 3.2470866236084506: 106, 3.8792304142540197: 193, 3.0819465912581143: 88, 3.204143991640681: 46, 3.7924588956859884: 133, 3.063352183903251: 283, 2.798816050702279: 32, 3.602575702666302: 56, 3.3090281753573203: 53, 2.836270599804045: 23, 3.1233544289897104: 24, 3.5777457358471403: 15, 3.4917095630326016: 46, 6.0: 154, 3.659218054363683: 8, 2.9341197755737056: 24, 2.977062407541475: 47, 3.873931214202531: 15, 3.453862632349401: 28, 4.09106166523642: 7, 0.0: 45, 3.2253604615235267: 9, 2.6749329472045393: 24, 0.8577052658284126: 13, 3.797514137927438: 14, 2.589047683269: 16, 3.540634150917432: 68, 3.5842419325168144: 32, 3.232673643542435: 13, 1.073455589178752: 6, 4.720366767536256: 19, 1.2247862428405063: 3, 2.988050704118284: 19, 0.8636872217454732: 5, 4.566557995934787: 23, 3.357160348417608: 12, 0.9495724856810124: 11, 4.348717457043037: 71, 0.9685714054621126: 6, 0.6901441846094107: 4, 3.5704325538282324: 11, 1.5: 2, 3.161201359672911: 17, 0.9196468175772824: 14, 4.183638972946881: 3, 1.0950720923047053: 5, 1.1329190229879065: 4, 0.8198583351452116: 11, 0.814762633860643: 7, 1.1818436108727366: 3, 1.286727794589376: 7, 3.414595114939532: 3, 1.0115140374298823: 2}\n",
      "../rcv_elections_database/single/Oakland_11082016_CityCouncilDistrict3.csv\n"
     ]
    },
    {
     "name": "stderr",
     "output_type": "stream",
     "text": [
      "/Users/es5891/Documents/GitHub/bugs-in-democracy/rcv_exploration/../rcv_learning/rcv_dimensionality.py:188: RuntimeWarning: divide by zero encountered in divide\n",
      "  distance = 1 / np.sqrt(freq_upper_triangle)\n"
     ]
    },
    {
     "name": "stdout",
     "output_type": "stream",
     "text": [
      "Normalized distances: {'LYNETTE GIBSON MCELHANEY': 0.0, 'NONI D. SESSION': 1.0}\n"
     ]
    },
    {
     "name": "stderr",
     "output_type": "stream",
     "text": [
      "/Users/es5891/Documents/GitHub/bugs-in-democracy/rcv_exploration/../rcv_learning/rcv_dimensionality.py:188: RuntimeWarning: divide by zero encountered in divide\n",
      "  distance = 1 / np.sqrt(freq_upper_triangle)\n"
     ]
    },
    {
     "name": "stdout",
     "output_type": "stream",
     "text": [
      "Consistency points: {0.25: 4213, 1.0: 5700, 0.0: 5907}\n",
      "Error in file: ../rcv_elections_database/single/Oakland_11082016_CityCouncilDistrict3.csv\n",
      "unsupported operand type(s) for -: 'float' and 'NoneType'\n",
      "../rcv_elections_database/single/Minneapolis_11072017_PRBoardDistrict3.csv\n"
     ]
    },
    {
     "name": "stderr",
     "output_type": "stream",
     "text": [
      "/Users/es5891/Documents/GitHub/bugs-in-democracy/rcv_exploration/../rcv_learning/rcv_dimensionality.py:188: RuntimeWarning: divide by zero encountered in divide\n",
      "  distance = 1 / np.sqrt(freq_upper_triangle)\n"
     ]
    },
    {
     "name": "stdout",
     "output_type": "stream",
     "text": [
      "Normalized distances: {'Abdi Gurhan Mohamed': 0.0, 'AK Hassan': 0.8316332446916753, 'Charles Exner': 2.0}\n"
     ]
    },
    {
     "name": "stderr",
     "output_type": "stream",
     "text": [
      "/Users/es5891/Documents/GitHub/bugs-in-democracy/rcv_exploration/../rcv_learning/rcv_dimensionality.py:188: RuntimeWarning: divide by zero encountered in divide\n",
      "  distance = 1 / np.sqrt(freq_upper_triangle)\n"
     ]
    },
    {
     "name": "stdout",
     "output_type": "stream",
     "text": [
      "Consistency points: {2.0: 3059, 1.1683667553083246: 3451, 1.230229222067703: 1450, 1.3762750664812433: 1260, 0.39604584441354057: 455, 0.5: 122, 0.0: 993, 0.29209168882708114: 201}\n",
      "../rcv_elections_database/single/StLouisPark_11022021_CityCouncilWard3.csv\n"
     ]
    },
    {
     "name": "stderr",
     "output_type": "stream",
     "text": [
      "/Users/es5891/Documents/GitHub/bugs-in-democracy/rcv_exploration/../rcv_learning/rcv_dimensionality.py:188: RuntimeWarning: divide by zero encountered in divide\n",
      "  distance = 1 / np.sqrt(freq_upper_triangle)\n"
     ]
    },
    {
     "name": "stdout",
     "output_type": "stream",
     "text": [
      "Normalized distances: {'Saul Eugene': 0.0, 'Sue Budd': 0.9612919799372328, 'Jim Leuthner': 2.0}\n"
     ]
    },
    {
     "name": "stderr",
     "output_type": "stream",
     "text": [
      "/Users/es5891/Documents/GitHub/bugs-in-democracy/rcv_exploration/../rcv_learning/rcv_dimensionality.py:188: RuntimeWarning: divide by zero encountered in divide\n",
      "  distance = 1 / np.sqrt(freq_upper_triangle)\n"
     ]
    },
    {
     "name": "stdout",
     "output_type": "stream",
     "text": [
      "Consistency points: {1.10080748746077: 179, 2.0: 219, 0.240322994984308: 55, 0.0: 35, 1.2209689849529242: 71, 0.961291979937232: 106, 0.5: 14, 0.370161497492154: 111}\n",
      "../rcv_elections_database/single/SanFrancisco_11082011_Mayor.csv\n"
     ]
    },
    {
     "name": "stderr",
     "output_type": "stream",
     "text": [
      "/Users/es5891/Documents/GitHub/bugs-in-democracy/rcv_exploration/../rcv_learning/rcv_dimensionality.py:188: RuntimeWarning: divide by zero encountered in divide\n",
      "  distance = 1 / np.sqrt(freq_upper_triangle)\n"
     ]
    },
    {
     "name": "stdout",
     "output_type": "stream",
     "text": [
      "Normalized distances: {'JOHN AVALOS': 0.0, 'TERRY JOAN BAUM': 0.6363932704832158, 'DENNIS HERRERA': 1.3087084118275005, 'LELAND YEE': 1.5003325912654142, 'BEVAN DUFTY': 2.2357339897433404, 'DAVID CHIU': 2.5816497982307816, 'ED LEE': 2.7916771608291886, 'PHIL TING': 3.178171545985566, 'MICHELA ALIOTO-PIER': 3.2707033881897893, 'JEFF ADACHI': 3.806781728576007, 'WILMA PANG': 4.194029167607931, 'TONY HALL': 4.527973732613707, 'JOANNA REES': 4.774764055819816, 'EMIL LAWRENCE': 5.231468707812393, 'CESAR ASCARRUNZ': 7.085737425963888, 'PAUL CURRIER': 15.0}\n"
     ]
    },
    {
     "name": "stderr",
     "output_type": "stream",
     "text": [
      "/Users/es5891/Documents/GitHub/bugs-in-democracy/rcv_exploration/../rcv_learning/rcv_dimensionality.py:188: RuntimeWarning: divide by zero encountered in divide\n",
      "  distance = 1 / np.sqrt(freq_upper_triangle)\n"
     ]
    },
    {
     "name": "stdout",
     "output_type": "stream",
     "text": [
      "Consistency points: {15.0: 3372, 13.30349529722629: 2916, 12.260829679820414: 2280, 13.383314799897432: 3, 11.193218271423993: 1817, 12.208322839170812: 12999, 10.983118689169283: 63, 12.628108054298307: 815, 12.572232814762282: 226, 12.76426601025666: 1062, 11.729296611810213: 1506, 13.887463699680794: 2639, 12.304069155881344: 1555, 12.829580435613337: 555, 13.727621472919717: 619, 12.212517881675867: 3175, 10.994800782441711: 38, 11.056114739476097: 52, 10.687382809832567: 23, 12.13394160885206: 2126, 14.363606729516786: 92, 11.149151984116: 7, 11.875306588975164: 98, 14.025198063582579: 152, 12.482115953684682: 676, 11.93285061572128: 283, 11.821828454014435: 112, 12.8516995634802: 519, 10.975593306718155: 41, 10.601251111087691: 64, 10.225235944180184: 467, 10.472026267386294: 1560, 11.06996731303149: 14, 14.522705047137588: 62, 13.252712562162905: 129, 14.006499457139792: 9, 11.237088856015836: 83, 12.555112003991495: 458, 12.351687662597925: 87, 11.387116134940623: 128, 12.78126863746879: 39, 12.200951401400339: 656, 11.006165163791145: 8, 13.342839053788953: 134, 11.446994413360697: 257, 11.516487309746429: 83, 11.988038961421825: 59, 12.414712292813478: 654, 12.17714201031178: 10, 11.325996622455222: 69, 11.791469847600734: 7, 13.530846637242707: 282, 11.653383867003363: 130, 11.79378357818138: 219, 13.185702769614629: 172, 12.287430353522199: 488, 12.418350201769218: 2008, 12.712632525940299: 288, 11.392704861975304: 8, 11.583890970617633: 162, 12.35522788271633: 416, 12.658356267504281: 59, 11.683140441249247: 170, 12.97206938230588: 213, 10.730622285893498: 33, 13.588554435379816: 377, 12.005846666028093: 88, 12.012203146232098: 64, 13.46383684469443: 506, 12.452814053450965: 127, 12.347308631942274: 541, 13.338844260907782: 204, 12.220420560973922: 231, 12.639636475633486: 275, 12.268838383777858: 85, 11.338804336796075: 32, 12.694179041531395: 454, 11.356845412855986: 108, 12.924695613787012: 138, 12.63248708495396: 149, 11.327237856520547: 113, 11.901560009299963: 55, 12.486494984340332: 451, 11.691894375597373: 78, 11.252889575153105: 42, 9.862638390032814: 1, 10.930900275491588: 29, 14.390191118101278: 218, 10.906100410332424: 527, 11.656887020924446: 220, 11.206240065615072: 58, 13.981958587521648: 208, 12.187956551329341: 5, 12.614629882720994: 30, 11.042996967589358: 65, 11.71355242584621: 23, 11.610144390942432: 282, 11.944799485360894: 20, 10.786343853492273: 125, 10.534241318539413: 32, 13.955705167196847: 204, 11.255060055436072: 16, 10.624384071638747: 5, 12.769702157193262: 150, 11.473247833685498: 352, 12.099422770068445: 141, 14.165597774760595: 298, 11.849053168650363: 196, 12.915694257806887: 48, 11.866779628488192: 90, 13.312590840582981: 234, 12.210386278615468: 29, 12.128438672599842: 42, 7.914262574036112: 88, 13.063762651326915: 227, 9.768531292187607: 89, 12.13027156046921: 82, 12.38022219242448: 104, 11.726379917310176: 60, 14.12640648987599: 487, 12.334909371010946: 98, 11.918546065036093: 103, 11.115993017896171: 49, 9.46708073417678: 1, 10.730900541219524: 47, 13.323199507692495: 120, 10.846222131912349: 153, 11.542740730071229: 90, 12.767175091838208: 321, 2.884003323676737: 5, 12.702692364644985: 191, 13.780411166349506: 10, 12.195842333471045: 90, 10.58801138680658: 4, 10.927397121570507: 25, 10.80597083239207: 61, 11.965687490111243: 62, 9.855332057617254: 2, 12.565071257164139: 80, 12.747143811757304: 14, 12.09135052115647: 43, 13.045065432612693: 53, 10.932353830657224: 90, 11.444921382918917: 6, 12.365497193434857: 109, 11.791959129056096: 12, 12.265078882211617: 153, 10.661129389507767: 73, 12.298996833797727: 122, 11.00039317187732: 15, 12.192245164817399: 6, 10.719334060943996: 112, 12.511489294048483: 38, 12.055442622293029: 62, 10.884157645509577: 46, 3.104454124612885: 2, 11.366451441650504: 8, 12.411070982825242: 169, 11.325885625459918: 46, 10.652324268395718: 213, 11.934838699710479: 40, 11.4995012540103: 156, 11.312407453882605: 9, 11.661045585196609: 67, 13.064704978709152: 63, 12.234230091810852: 151, 12.55350477688861: 157, 9.27685900700336: 7, 13.382083736968712: 177, 12.581694573739508: 78, 12.785628576247113: 157, 10.286933524981713: 36, 11.221103456860954: 12, 13.449487397839915: 218, 13.373687844189718: 73, 12.122846283164233: 91, 11.42493603554095: 52, 11.720787527874567: 217, 11.067796832748524: 22, 13.126818540338412: 112, 11.045086203103885: 22, 10.22984544348264: 12, 11.268908540956149: 14, 13.053967382520945: 104, 11.542701655470019: 6, 12.023742718825032: 3, 10.603918338516728: 2, 10.77921233936407: 161, 13.0366695398337: 13, 13.542413117518235: 50, 11.830880168368836: 34, 11.656464344347139: 4, 12.899073331999068: 312, 14.193416282424268: 14, 13.005820749432935: 22, 13.9073933690523: 37, 10.805465759688872: 79, 14.322787457230074: 36, 12.612543364140272: 40, 11.945358420542844: 55, 12.172014631094932: 23, 11.872623238994557: 7, 11.380201774481758: 11, 13.371748319621904: 13, 10.745761419639996: 10, 12.504829153891079: 102, 12.070093204135897: 6, 10.747261088252642: 50, 10.930539875801013: 23, 11.839875777479724: 21, 11.350370817071603: 25, 11.185485914281902: 13, 10.884042032512678: 12, 10.809476814043329: 9, 12.023519891488881: 4, 11.176110743958674: 6, 10.87247555223715: 41, 13.707819305323019: 60, 12.906242129378109: 372, 11.64596702844247: 17, 12.927260738082415: 17, 11.112489863975089: 17, 12.255360212200545: 9, 10.871021997071514: 27, 12.430263935421731: 29, 8.770740568846723: 6, 12.080830800324105: 30, 11.278831926641557: 14, 10.467231525991137: 24, 12.308409111935784: 2, 13.18374073616815: 8, 10.191712829544981: 3, 10.80959242704023: 6, 11.378503463104822: 72, 12.144913703567994: 169, 11.424680754578201: 3, 13.828817096228494: 180, 11.179893524846293: 94, 11.46495266299982: 17, 13.285750972289883: 14, 10.915715028298079: 42, 11.744401216246974: 25, 10.66361249334522: 10, 9.040284480969389: 3, 11.209065674736358: 4, 12.407905421317759: 31, 13.184132470152594: 68, 8.137480611336734: 2, 7.998494818565273: 1, 11.456910166314708: 6, 12.54697245885766: 51, 10.705929111173702: 4, 11.413369555265422: 68, 12.14277847628403: 9, 11.58598020613216: 66, 13.648072314109315: 28, 11.037124951187213: 13, 11.391956612693006: 34, 11.001846727042956: 6, 10.958607250982025: 30, 12.387874141236857: 9, 12.442169868384404: 11, 11.733637446223096: 6, 12.919314292838617: 7, 11.782043376102084: 70, 7.901871222276179: 1, 8.680013500025883: 5, 10.49740186893595: 4, 11.834550216751687: 35, 10.586663102019191: 6, 10.370419666233156: 5, 11.718877986574247: 3, 10.026939032324321: 5, 14.078000559997: 8, 10.586379948663652: 29, 10.857904225184775: 46, 11.26022181656689: 16, 10.859993460699304: 26, 12.222617622780474: 9, 13.03158726103538: 32, 9.955299316212237: 3, 12.396345983835621: 48, 12.687625933027807: 22, 11.206863870288425: 40, 12.727686674353134: 18, 12.418697455146203: 76, 11.970958890953131: 19, 11.398682615216151: 41, 11.800031377968072: 31, 11.06925038791416: 25, 12.967720222717608: 6, 11.853301456910879: 26, 11.94470547062833: 45, 11.495462216765734: 3, 11.742943296468999: 7, 8.434917835073058: 4, 8.93946584217524: 2, 10.92171206476058: 6, 10.332603806726945: 33, 9.149358449738987: 2, 10.312379439819683: 9, 10.940501354898117: 4, 11.310918065701081: 22, 11.576344049214251: 4, 11.727666256410412: 7, 14.46318716840809: 99, 9.161443284576093: 1, 9.712621446218343: 4, 11.968827287892733: 4, 10.7979103337678: 18, 10.489756352374556: 3, 9.070782176915182: 3, 11.695379806673248: 4, 13.41894763405501: 24, 11.140792883055337: 22, 10.321635243946568: 6, 12.601268186005209: 10, 11.09622073335629: 16, 12.58408115507497: 28, 10.773514508577442: 41, 12.323134110925407: 20, 12.124841503946195: 7, 12.984213492516512: 7, 10.790500564313572: 34, 12.80027853537962: 2, 12.138663201701743: 4, 3.670450841189598: 1, 2.9719401955765727: 3, 12.500751697860276: 12, 11.229373026166128: 14, 12.265241215124211: 17, 13.509005276569415: 16, 12.542338084449247: 32, 9.685696930527083: 10, 8.69641410877257: 2, 7.564420675619143: 3, 2.9251926388243508: 2, 8.80101129093136: 4, 13.895826888776773: 117, 10.485835388660423: 7, 11.742658319978744: 6, 11.468175511601881: 17, 3.2584701634353688: 4, 11.603957503697536: 3, 12.306821952837339: 28, 12.261538662093214: 14, 13.264279042438433: 36, 9.52659861290628: 2, 10.313331584734083: 5, 11.918452050303529: 23, 12.772150404669798: 13, 3.5313838036496974: 1, 13.738668095723783: 31, 10.541629156515144: 3, 10.902782692150051: 5, 11.456609031326353: 56, 10.721007667927841: 72, 10.62037301728429: 30, 12.826692970567708: 7, 11.77138482722385: 10, 12.703116912533966: 5, 10.594119596959489: 31, 11.05991105060682: 3, 11.85786377934571: 2, 10.524663618236975: 5, 11.877750618211406: 6, 13.748295051431496: 4, 11.892382618129325: 16, 12.84514645497661: 8, 10.571121789431295: 2, 10.178359854723126: 6, 8.840233465232453: 3, 8.812483639472443: 1, 13.078412610459422: 4, 12.338237265431024: 5, 10.588371786497156: 4, 12.894869064900142: 5, 11.279859920595237: 21, 9.00895873856097: 2, 0.0: 41, 12.877571222212897: 4, 13.41543091481544: 13, 12.477304302970925: 6, 10.86017306317752: 17, 11.418926958135138: 15, 10.124703036996703: 4, 11.661789905075176: 3, 9.334566805140469: 2, 10.742188766169026: 2, 8.613003707477606: 2, 11.182812254411557: 20, 11.142246438220972: 13, 10.25872262209326: 5, 10.882588477347042: 4, 10.816753984638373: 16, 10.378479178933407: 5, 10.545807798814941: 9, 11.319708811668491: 4, 10.61281759136322: 7, 11.531771899515205: 2, 10.981358964973856: 5, 10.798025946764701: 52, 12.78963435031306: 7, 11.752429572361269: 4, 12.197837554253008: 6, 13.243650348882094: 14, 12.530106740284241: 10, 11.089631791836814: 10, 10.432135996659833: 2, 12.369484596236271: 38, 12.84868446525861: 27, 3.146197195238607: 2, 9.009302264739205: 4, 11.067681219751623: 3, 9.037656210569807: 2, 10.47422549564394: 2, 8.709057117271687: 2, 13.095553769109916: 43, 10.857788612187877: 15, 8.622925418526812: 5, 12.32475909385371: 2, 10.251591107965055: 5, 11.785897796039675: 6, 12.042334688569373: 9, 12.616371340510826: 4, 11.865446954850077: 64, 10.95715369581639: 23, 11.259828640514336: 3, 11.339377799324737: 4, 8.868021083479636: 8, 12.789623369128284: 61, 13.104583311342193: 5, 8.64385249787837: 5, 11.425969320380002: 3, 14.086048615950194: 10, 9.208876328468486: 1, 11.324552951821802: 4, 8.492005916572129: 4, 3.3988698746133856: 2, 11.985815385947191: 12, 9.124674197576722: 5, 11.13450045626701: 2, 11.333916274378755: 4, 10.564387396495883: 25, 10.034554036491992: 4, 3.3214911960859497: 1, 10.907122334721048: 2, 9.13779196946346: 5, 11.156558834086756: 12, 8.564597777598616: 1, 11.016671574545889: 1, 12.328356262507357: 5, 12.081602027885264: 17, 10.830190831123565: 3, 12.076625522166848: 14, 9.261570754833656: 8, 9.650923865416814: 3, 12.820472159529048: 19, 10.725365741435112: 5, 10.996849310330303: 3, 11.17551089662567: 5, 2.628900847071532: 1, 13.736728571155968: 5, 3.5909016823791964: 1, 13.164101190071692: 18, 2.7751653598995634: 3, 13.137296839735638: 3, 8.927899361899712: 10, 10.140772465112615: 3, 10.638886789313252: 5, 8.99778612660837: 2, 10.99468516944481: 3, 11.978861570251187: 8, 8.553703497373657: 3, 10.717382561612386: 1, 2.6180065668465735: 3, 11.575945923773705: 7, 3.2619733173564507: 2, 9.336737285423435: 6, 12.404308252664112: 16, 13.256332597194636: 4, 10.4666233918235: 18, 9.47363384268037: 17, 11.786144286872696: 4, 11.505518479190403: 3, 9.981674147491812: 3, 8.860889569351434: 5, 11.385403504189417: 2, 14.253294560844342: 12, 12.499257949883477: 11, 10.113130309315796: 5, 10.990418154221087: 3, 7.5027230948176165: 1, 14.279547981169143: 39, 10.937331431600803: 1, 10.672695869783293: 5, 3.016517252713049: 2, 8.734001498383082: 6, 11.73504424139451: 22, 9.11970021395037: 3, 11.362948287729422: 1, 11.321415381605751: 4, 9.060789171120863: 1, 11.108247035942208: 5, 12.758535464753898: 8, 12.654286434765995: 6, 2.5415765969756663: 1, 10.081547994965147: 2, 10.652272293447277: 1, 2.784733662944112: 1, 10.34463345262424: 3, 9.407562855447281: 4, 9.58183896767678: 3, 11.642415036447339: 2, 8.876788335702892: 1, 11.987944946689261: 11, 12.303281732718936: 7, 9.892919447227767: 2, 12.057437843074991: 4, 2.2982861051778007: 1, 12.065364544757593: 21, 10.44797207531914: 4, 9.736082919680598: 10, 10.78478622248359: 1, 10.404732599258208: 3, 10.455497457770267: 1, 11.080810382381383: 2, 11.430351948600626: 2, 12.716949078164927: 14, 11.076398469140706: 2, 3.003768911648156: 1, 10.753692244361858: 1, 10.38848766522199: 2, 12.573436970008409: 1, 2.210349233277965: 1, 10.917300151519902: 2, 11.60401970053972: 23, 11.910994886515093: 6, 12.557850760544124: 4, 13.669718778607692: 8, 9.870890241423005: 5, 9.064795919156646: 8, 2.467011378506318: 1, 8.997392258285442: 1, 12.457273022890023: 2, 2.5300696949467376: 2, 8.907637126103657: 2, 12.467423300047258: 3, 10.584868632576073: 2, 11.802233617624614: 5, 8.685595568504091: 1, 10.802676307301581: 4, 12.90466433370611: 5, 10.321084004350787: 3, 9.546629892987184: 3, 8.682803696946886: 2, 11.048368757522134: 1, 8.710862290426647: 7, 3.1215736061784343: 1, 10.698949290108095: 5, 2.7014927080980176: 1, 9.944405035987279: 4, 9.130300055644682: 2, 9.197309848192958: 2, 13.568523155298914: 13, 9.20991960805956: 2, 3.75: 3, 8.465766625473822: 2, 11.926297507217692: 4, 9.288425487278888: 1, 3.078334130117504: 2, 10.847602142441863: 1, 11.233577112923616: 1, 12.01419836701406: 6, 3.2741522839279993: 3, 3.0736053342121212: 1, 10.927281508573607: 3, 11.127314711478023: 5, 8.98063317641047: 2, 3.1045875504423046: 1, 10.467627344560194: 8, 11.036802277246606: 3, 3.129098988629563: 1, 11.139460209417221: 7, 9.716646289419188: 2, 3.3477446164107505: 1, 10.270289102368785: 1, 13.304738527073626: 8, 11.281313475760873: 3, 10.027891177238722: 3, 11.200310761784836: 2, 11.511159706700063: 6, 12.630525051507481: 1, 13.933503406832978: 3, 8.377829753573986: 2, 9.057270536705518: 3, 3.086679316509108: 3, 13.431626598041978: 7, 8.987777640319788: 3, 9.209849214455083: 3, 11.854478124294053: 1, 11.68541977981299: 3, 8.272287933079141: 1, 11.575011375576135: 1, 10.14330689966599: 2, 11.774928965483651: 1, 3.4718659249201984: 1, 10.798264394060904: 3, 11.503347998907438: 2, 12.670598592854063: 1, 2.951446059149151: 1, 10.930255295272104: 1, 10.861039621524329: 1, 10.328676595607433: 3, 14.204982762699796: 2, 13.822860269900845: 2, 2.267437314777037: 1, 10.295016417116434: 1, 12.438815003085125: 3, 2.4554448982307906: 1, 11.843976688250335: 4, 13.45788001836678: 5, 2.9462796053310916: 1, 13.126652654669078: 3, 11.407894333727612: 2, 10.484642837309433: 1, 3.188977267049638: 1, 3.1406654689050906: 1, 8.796993989171522: 1, 11.245003793011401: 5, 2.5718127655724596: 1, 11.63586192794375: 1, 3.052080709792703: 2, 3.1350852463880985: 1, 12.948732667933864: 3, 9.577197982537452: 1, 11.524470541729318: 1, 2.903040129270161: 1, 10.330167380788861: 1, 2.865314360404276: 3, 2.725215784214613: 1, 12.397755144160524: 1, 9.406230181809166: 2, 13.796606849576044: 4, 12.438089054461344: 4, 11.749726776975011: 2, 13.866099745961774: 2, 8.722428770702175: 1, 7.744718676628568: 1, 10.225597695165241: 1, 12.524606492240435: 2, 9.126763433091249: 1, 9.014031060644587: 3, 9.606147771716682: 3, 10.614625206821957: 1, 13.650731223823946: 1, 2.932324152952553: 1, 11.17773993232794: 1, 2.749898637977008: 1, 10.969792484698328: 1, 12.846722431812132: 3, 3.202095038936376: 1, 3.2152306873744383: 1, 9.882707455185752: 2, 11.295544626858218: 1, 11.992671101088117: 3, 11.122933975991481: 1, 3.1840032834232868: 2, 3.013683266202295: 1, 9.08352395703032: 1, 3.3258738243065724: 2, 8.752296593332618: 1, 9.040151055139969: 1, 8.838737059797245: 1, 10.344854320838134: 1, 2.8350436383196382: 2, 8.809384674831689: 1, 11.935583019589044: 1, 12.45440121254941: 2, 8.954152782224513: 1, 2.388435105682513: 3, 3.5379369121532864: 1, 2.6872284879997275: 1, 2.798304567855998: 1, 3.194603125117597: 1, 7.388546931819471: 1, 2.8304482682436753: 1, 8.522854706972893: 2, 9.081894125765691: 1, 3.0300223319729565: 1, 3.331466213742182: 1, 10.86050870867922: 1, 10.101563829040268: 2, 10.79509530179226: 1, 3.4272937752211523: 2, 9.649603967558738: 2, 11.562865877636938: 1, 9.394084683869968: 1, 10.318600900513333: 1, 9.442853174905318: 3, 11.09668055566668: 1, 12.341653380239471: 1, 11.127199098481123: 1, 2.7081555673512856: 2, 12.661373841908244: 2, 11.20176431695047: 1, 9.267163144269265: 2, 11.06888841630613: 1, 12.732535287629211: 2, 10.796931720422787: 2, 2.8041948479188745: 1, 11.703799429820108: 1, 2.8768808406798034: 2, 10.356420801113662: 1, 11.021655514886943: 1, 13.214589526568915: 1, 8.764171841327897: 1, 9.194167093962452: 1, 11.29345539134369: 1, 12.065262962114604: 1, 8.637189638625102: 1, 10.13591809949563: 1, 10.076297107117712: 1, 11.059935237797662: 1, 8.051001659214874: 1, 10.555512408637739: 1, 2.9410914051758095: 1, 10.698471705503167: 1, 2.5153231766508655: 2, 10.418825596112146: 1, 2.873687744304606: 1, 3.470533251282083: 1, 9.197670247883535: 1, 2.499220904545974: 1, 3.0616953277583594: 1, 9.913556245586514: 1, 2.9946855352100816: 1, 11.511468876105761: 1}\n",
      "../rcv_elections_database/single/NewYorkCity_06222021_DEMCouncilMember23rdCouncilDistrict.csv\n"
     ]
    },
    {
     "name": "stderr",
     "output_type": "stream",
     "text": [
      "/Users/es5891/Documents/GitHub/bugs-in-democracy/rcv_exploration/../rcv_learning/rcv_dimensionality.py:188: RuntimeWarning: divide by zero encountered in divide\n",
      "  distance = 1 / np.sqrt(freq_upper_triangle)\n"
     ]
    },
    {
     "name": "stdout",
     "output_type": "stream",
     "text": [
      "Normalized distances: {'Koshy O. Thomas': 0.0, 'Sanjeev Kumar Jindal': 1.7474571109640915, 'Debra Markell': 2.585860341758103, 'Steve Behar': 3.132487426154529, 'Linda Lee': 3.7727174308590317, 'Jaslin Kaur': 4.233632060391852, 'Harpreet S. Toor': 6.0}\n"
     ]
    },
    {
     "name": "stderr",
     "output_type": "stream",
     "text": [
      "/Users/es5891/Documents/GitHub/bugs-in-democracy/rcv_exploration/../rcv_learning/rcv_dimensionality.py:188: RuntimeWarning: divide by zero encountered in divide\n",
      "  distance = 1 / np.sqrt(freq_upper_triangle)\n"
     ]
    },
    {
     "name": "stdout",
     "output_type": "stream",
     "text": [
      "Consistency points: {3.3215921998466325: 1626, 2.5877220197589454: 653, 3.581750979166085: 642, 3.294898122165535: 128, 3.9911941498849743: 29, 3.3866318946764955: 294, 2.771189564780867: 162, 4.233632060391852: 936, 1.7474571109640924: 692, 1.9575233381628057: 20, 2.8362292596107306: 191, 2.803709412195799: 99, 2.999199529917172: 64, 2.8851945473490197: 42, 3.3519006134496108: 12, 0.0: 261, 3.5496021649829372: 267, 2.3690008483210323: 84, 2.763585666654942: 10, 2.3246512944017788: 3, 2.589796840772051: 48, 1.058408015097963: 36, 2.077944678653451: 1, 3.3697335867745575: 6, 0.5418973913403797: 5, 3.457868392471976: 62, 3.625268879981562: 5, 2.1409908831847275: 31, 3.744721249472527: 33, 2.8444519797724093: 11, 3.422250143574236: 29, 2.8105928332230694: 34, 6.0: 164, 1.2792040075489814: 3, 3.4070996115623657: 3, 3.2605175173393017: 7, 4.1863132343745635: 10, 2.150568709450521: 17, 0.8303980499616581: 13, 0.6040242013033259: 1, 3.3027088919220318: 10, 2.0858883181695376: 2, 3.620467629546634: 11, 2.6881595156036: 3, 3.440791514819209: 14, 3.3572654960757635: 4, 3.4890520794270907: 4, 2.2060305780145906: 15, 4.4694852902147755: 15, 3.2481008572044034: 10, 2.311191609014928: 3, 0.6469305049397364: 22, 3.35283527887262: 31, 3.416436010136998: 5, 3.2199955223681904: 4, 2.899650977885164: 8, 2.666156451181511: 14, 2.7511928553961207: 3, 4.675224045293889: 85, 2.7486104728433975: 5, 3.1344031400021084: 17, 3.0281123909894605: 2, 4.364452176615419: 54, 1.9225587443142158: 6, 2.1596452634586414: 3, 0.4368642777410231: 18, 4.146020037744908: 6, 1.5: 10, 2.917714394763951: 20, 2.2549958657528797: 7, 2.2875157131678114: 3, 2.8578265422786533: 8, 2.824224826833822: 1, 3.326081809120649: 4, 2.278671761599996: 2, 0.801031651360926: 4, 2.8340655235509304: 2, 2.1054528539358146: 2, 4.255236107180163: 20, 2.4163526400152646: 8, 1.0734652524698682: 1, 3.770398157433956: 17, 2.8026275441658988: 12, 2.072933006520883: 2, 3.3151255520569296: 7, 2.447724312310999: 8, 2.86261545541155: 5, 2.728613763458651: 2, 3.5214691237363547: 3, 2.731196146011374: 2, 2.5127640071408623: 4, 2.4757918582038982: 3, 0.7476361464194929: 5, 2.0817769580886982: 1, 3.358498853429913: 3, 3.2423815653658563: 6, 3.5759951249041455: 1, 2.269452296289024: 3, 3.2970023770767662: 2, 0.6498910875588063: 1, 0.8954377447915213: 12, 2.6757342774473036: 3, 2.197186626446775: 2, 3.957026500849315: 3, 0.6661510112662722: 2, 3.513343038029328: 2, 2.6635740686287876: 3, 0.7458326532481714: 1, 0.8526692600188497: 3, 0.976922879944742: 1, 0.8580341426450022: 3, 3.243619209437364: 2, 2.6965848206784924: 5, 2.145779796317624: 2, 0.9444030325298105: 3, 0.7752954849464683: 3, 0.7711841248656288: 1, 0.7386642774506973: 1, 0.6447667688799363: 2, 1.987598439144079: 1, 2.0492571106737665: 4, 3.5154345159472777: 5, 2.6419767859608645: 4, 3.5202357663822053: 2, 0.754924201158163: 1, 2.173510730599659: 4, 4.416968733415097: 3, 0.8304944830592229: 2, 0.8671256905549939: 2, 3.1173262623493407: 1, 2.163262093241919: 4, 2.2533823697088233: 2, 1.7390911992922942: 1, 2.0655170343812324: 3, 0.6162655232378982: 1, 0.699965766992691: 1, 2.365393861978389: 2, 1.0140584611787093: 1, 2.7234619211140854: 2, 2.106259601957843: 1, 2.6474169480269896: 1, 2.0502538558230596: 1, 3.0265674769654143: 1, 1.1977188723957606: 1, 3.567951072746956: 1, 1.9725608886534423: 1, 2.889264521663685: 2, 2.9444635197764395: 1, 4.3623606986974695: 1, 2.5569403817462546: 1, 0.5958942394495931: 1}\n",
      "../rcv_elections_database/single/Alaska_11082022_HouseDistrict8.csv\n",
      "Error in file: ../rcv_elections_database/single/Alaska_11082022_HouseDistrict8.csv\n",
      "zero-size array to reduction operation minimum which has no identity\n",
      "../rcv_elections_database/single/SanFrancisco_11082011_DistrictAttorney.csv\n"
     ]
    },
    {
     "name": "stderr",
     "output_type": "stream",
     "text": [
      "/Users/es5891/Documents/GitHub/bugs-in-democracy/rcv_exploration/../rcv_learning/rcv_dimensionality.py:188: RuntimeWarning: divide by zero encountered in divide\n",
      "  distance = 1 / np.sqrt(freq_upper_triangle)\n"
     ]
    },
    {
     "name": "stdout",
     "output_type": "stream",
     "text": [
      "Normalized distances: {'BILL FAZIO': 0.0, 'GEORGE GASCÓN': 0.8081979306695747, 'SHARMIN BOCK': 1.6761061648544207, 'DAVID ONEK': 2.0913115138379488, 'VU VUONG TRINH': 4.0}\n"
     ]
    },
    {
     "name": "stderr",
     "output_type": "stream",
     "text": [
      "/Users/es5891/Documents/GitHub/bugs-in-democracy/rcv_exploration/../rcv_learning/rcv_dimensionality.py:188: RuntimeWarning: divide by zero encountered in divide\n",
      "  distance = 1 / np.sqrt(freq_upper_triangle)\n"
     ]
    },
    {
     "name": "stdout",
     "output_type": "stream",
     "text": [
      "Consistency points: {0.0: 25339, 0.7079187221813801: 2681, 0.4680230076850357: 5942, 0.3040087816926252: 5895, 2.080834284029244: 6809, 0.4158374443627603: 5956, 1.6633497774510413: 9259, 0.35619434501490055: 3389, 0.19218011902249008: 5634, 0.7687204760899603: 5689, 2.0395936109069006: 1037, 1.5598021819142118: 2588, 0.8962877419189855: 1541, 1.6558922414254569: 2314, 1.0445633647525059: 1132, 4.0: 1692, 1.767720904095592: 2648, 0.9923778014302306: 923, 1.3366446425711258: 480, 0.520208571007311: 2235, 1.0: 502, 1.5765403570674703: 214, 2.3005214275182775: 316, 2.3966114870295225: 325, 2.247512333088281: 528, 0.7601042855036555: 738, 2.560625713021933: 209, 1.0967489280747813: 455}\n",
      "../rcv_elections_database/single/Alaska_11082022_HouseDistrict9.csv\n"
     ]
    },
    {
     "name": "stderr",
     "output_type": "stream",
     "text": [
      "/Users/es5891/Documents/GitHub/bugs-in-democracy/rcv_exploration/../rcv_learning/rcv_dimensionality.py:188: RuntimeWarning: divide by zero encountered in divide\n",
      "  distance = 1 / np.sqrt(freq_upper_triangle)\n"
     ]
    },
    {
     "name": "stdout",
     "output_type": "stream",
     "text": [
      "Normalized distances: {'Schaff, David L.': 0.0, 'Shaw, Laddie H.': 1.0}\n"
     ]
    },
    {
     "name": "stderr",
     "output_type": "stream",
     "text": [
      "/Users/es5891/Documents/GitHub/bugs-in-democracy/rcv_exploration/../rcv_learning/rcv_dimensionality.py:188: RuntimeWarning: divide by zero encountered in divide\n",
      "  distance = 1 / np.sqrt(freq_upper_triangle)\n"
     ]
    },
    {
     "name": "stdout",
     "output_type": "stream",
     "text": [
      "Consistency points: {1.0: 3440, 0.0: 4492, 0.25: 838}\n",
      "Error in file: ../rcv_elections_database/single/Alaska_11082022_HouseDistrict9.csv\n",
      "unsupported operand type(s) for -: 'float' and 'NoneType'\n",
      "../rcv_elections_database/single/StLouisPark_11022021_CityCouncilWard2.csv\n"
     ]
    },
    {
     "name": "stderr",
     "output_type": "stream",
     "text": [
      "/Users/es5891/Documents/GitHub/bugs-in-democracy/rcv_exploration/../rcv_learning/rcv_dimensionality.py:188: RuntimeWarning: divide by zero encountered in divide\n",
      "  distance = 1 / np.sqrt(freq_upper_triangle)\n"
     ]
    },
    {
     "name": "stdout",
     "output_type": "stream",
     "text": [
      "Normalized distances: {'John Basill': 0.0, 'Lynette Lungay Dumalag': 1.0}\n"
     ]
    },
    {
     "name": "stderr",
     "output_type": "stream",
     "text": [
      "/Users/es5891/Documents/GitHub/bugs-in-democracy/rcv_exploration/../rcv_learning/rcv_dimensionality.py:188: RuntimeWarning: divide by zero encountered in divide\n",
      "  distance = 1 / np.sqrt(freq_upper_triangle)\n"
     ]
    },
    {
     "name": "stdout",
     "output_type": "stream",
     "text": [
      "Consistency points: {1.0: 958, 0.0: 547, 0.25: 39}\n",
      "Error in file: ../rcv_elections_database/single/StLouisPark_11022021_CityCouncilWard2.csv\n",
      "unsupported operand type(s) for -: 'float' and 'NoneType'\n",
      "../rcv_elections_database/single/Minneapolis_11072017_PRBoardDistrict2.csv\n"
     ]
    },
    {
     "name": "stderr",
     "output_type": "stream",
     "text": [
      "/Users/es5891/Documents/GitHub/bugs-in-democracy/rcv_exploration/../rcv_learning/rcv_dimensionality.py:188: RuntimeWarning: divide by zero encountered in divide\n",
      "  distance = 1 / np.sqrt(freq_upper_triangle)\n"
     ]
    },
    {
     "name": "stdout",
     "output_type": "stream",
     "text": [
      "Normalized distances: {'Mike Talley Tate': 0.0, 'Kale Severson': 1.0}\n"
     ]
    },
    {
     "name": "stderr",
     "output_type": "stream",
     "text": [
      "/Users/es5891/Documents/GitHub/bugs-in-democracy/rcv_exploration/../rcv_learning/rcv_dimensionality.py:188: RuntimeWarning: divide by zero encountered in divide\n",
      "  distance = 1 / np.sqrt(freq_upper_triangle)\n"
     ]
    },
    {
     "name": "stdout",
     "output_type": "stream",
     "text": [
      "Consistency points: {1.0: 2449, 0.25: 1913, 0.0: 1872}\n",
      "../rcv_elections_database/single/PierceCounty_11042008_CountyAssessorTreasurer.csv\n"
     ]
    },
    {
     "name": "stderr",
     "output_type": "stream",
     "text": [
      "/Users/es5891/Documents/GitHub/bugs-in-democracy/rcv_exploration/../rcv_learning/rcv_dimensionality.py:188: RuntimeWarning: divide by zero encountered in divide\n",
      "  distance = 1 / np.sqrt(freq_upper_triangle)\n"
     ]
    },
    {
     "name": "stdout",
     "output_type": "stream",
     "text": [
      "Normalized distances: {'Dale Washam': 0.0, 'Bernardo Tuma': 0.7613705807140416, 'Terry Lee': 2.0916571222470743, 'Jan Shabro': 2.7523102325914506, 'Barbara Gelman': 3.373544641702865, 'Beverly Davidson': 5.0}\n"
     ]
    },
    {
     "name": "stderr",
     "output_type": "stream",
     "text": [
      "/Users/es5891/Documents/GitHub/bugs-in-democracy/rcv_exploration/../rcv_learning/rcv_dimensionality.py:188: RuntimeWarning: divide by zero encountered in divide\n",
      "  distance = 1 / np.sqrt(freq_upper_triangle)\n"
     ]
    },
    {
     "name": "stdout",
     "output_type": "stream",
     "text": [
      "Consistency points: {1.242645043579302: 16820, 0.5327433945695045: 2150, 0.0: 22190, 2.7565608324372506: 2473, 5.0: 4535, 2.5607519869337168: 16640, 3.773765777603551: 7534, 2.864005434601175: 1800, 2.067711097783898: 2111, 2.6992420666818733: 4044, 1.2019519446426434: 2181, 2.219337821617627: 624, 1.4168411489704928: 1421, 1.8754252270853642: 757, 1.25: 678, 1.7011951696223193: 14908, 1.464727177253981: 2259, 0.3106612608948255: 1736, 1.9160843739501687: 2281, 0.3679800266502027: 2885, 0.42529879240557983: 1845, 0.47542462881412734: 3506, 1.723798503251635: 4532, 2.5258963772167395: 680, 3.928697609368934: 310, 0.83764939620279: 2388, 4.080324333202663: 296, 0.7918147205671584: 2147, 2.850469991833573: 283, 0.9434414444008877: 629, 1.0967207222004438: 515, 0.6401879967334292: 1089, 2.006688425414837: 777, 0.6843701184032338: 1641, 3.0172847124007314: 709, 1.5721717794179058: 1703, 2.5439114362344606: 1518, 1.7034349777473787: 1345, 1.3572825750900563: 1362, 3.1705639902002876: 378, 1.8770777810511912: 531, 3.8212530072050095: 666, 0.9450939983667146: 319, 2.3726170994171834: 489, 2.0287045048849204: 435, 3.6086036110022195: 468, 2.1819837826844766: 601, 3.763934241449632: 421}\n",
      "../rcv_elections_database/single/Berkeley_11032020_MayorBerkeleyRCV.csv\n"
     ]
    },
    {
     "name": "stderr",
     "output_type": "stream",
     "text": [
      "/Users/es5891/Documents/GitHub/bugs-in-democracy/rcv_exploration/../rcv_learning/rcv_dimensionality.py:188: RuntimeWarning: divide by zero encountered in divide\n",
      "  distance = 1 / np.sqrt(freq_upper_triangle)\n"
     ]
    },
    {
     "name": "stdout",
     "output_type": "stream",
     "text": [
      "Normalized distances: {'NAOMI D. PETE': 0.0, 'AIDAN HILL': 1.3802026370687603, 'JESSE ARREGUÍN': 2.284890301765807, 'WAYNE HSIUNG': 3.0}\n"
     ]
    },
    {
     "name": "stderr",
     "output_type": "stream",
     "text": [
      "/Users/es5891/Documents/GitHub/bugs-in-democracy/rcv_exploration/../rcv_learning/rcv_dimensionality.py:188: RuntimeWarning: divide by zero encountered in divide\n",
      "  distance = 1 / np.sqrt(freq_upper_triangle)\n"
     ]
    },
    {
     "name": "stdout",
     "output_type": "stream",
     "text": [
      "Consistency points: {2.284890301765807: 16233, 1.6063745532430218: 853, 3.0: 3084, 2.4636677263243554: 4554, 2.264319103420427: 4310, 0.0: 437, 1.3802026370687601: 1268, 1.78515197780157: 341, 2.350581768237224: 1721, 0.502830973493958: 102, 1.695763265522296: 307, 2.178056438603629: 117, 0.5712225754414517: 104, 1.6095006007054984: 629, 0.75: 62, 0.6606112877207259: 22, 1.612626648167975: 97, 1.433849223609427: 103, 0.547525329633595: 40, 0.4581366173543209: 33, 0.34505065926719003: 55}\n",
      "../rcv_elections_database/single/SanLeandro_11062012_CountyCouncilDistrict6.csv\n"
     ]
    },
    {
     "name": "stderr",
     "output_type": "stream",
     "text": [
      "/Users/es5891/Documents/GitHub/bugs-in-democracy/rcv_exploration/../rcv_learning/rcv_dimensionality.py:188: RuntimeWarning: divide by zero encountered in divide\n",
      "  distance = 1 / np.sqrt(freq_upper_triangle)\n"
     ]
    },
    {
     "name": "stdout",
     "output_type": "stream",
     "text": [
      "Normalized distances: {'JIM PROLA': 0.0, 'HERMY B. ALMONTE': 1.0}\n"
     ]
    },
    {
     "name": "stderr",
     "output_type": "stream",
     "text": [
      "/Users/es5891/Documents/GitHub/bugs-in-democracy/rcv_exploration/../rcv_learning/rcv_dimensionality.py:188: RuntimeWarning: divide by zero encountered in divide\n",
      "  distance = 1 / np.sqrt(freq_upper_triangle)\n"
     ]
    },
    {
     "name": "stdout",
     "output_type": "stream",
     "text": [
      "Consistency points: {0.25: 7762, 1.0: 3535, 0.0: 5155}\n",
      "Error in file: ../rcv_elections_database/single/SanLeandro_11062012_CountyCouncilDistrict6.csv\n",
      "unsupported operand type(s) for -: 'float' and 'NoneType'\n",
      "../rcv_elections_database/single/Alaska_11082022_SenateDistrictH.csv\n"
     ]
    },
    {
     "name": "stderr",
     "output_type": "stream",
     "text": [
      "/Users/es5891/Documents/GitHub/bugs-in-democracy/rcv_exploration/../rcv_learning/rcv_dimensionality.py:188: RuntimeWarning: divide by zero encountered in divide\n",
      "  distance = 1 / np.sqrt(freq_upper_triangle)\n"
     ]
    },
    {
     "name": "stdout",
     "output_type": "stream",
     "text": [
      "Normalized distances: {'Costello, Mia': 0.0, 'Claman, Matt': 1.0}\n"
     ]
    },
    {
     "name": "stderr",
     "output_type": "stream",
     "text": [
      "/Users/es5891/Documents/GitHub/bugs-in-democracy/rcv_exploration/../rcv_learning/rcv_dimensionality.py:188: RuntimeWarning: divide by zero encountered in divide\n",
      "  distance = 1 / np.sqrt(freq_upper_triangle)\n"
     ]
    },
    {
     "name": "stdout",
     "output_type": "stream",
     "text": [
      "Consistency points: {0.0: 5868, 0.25: 2019, 1.0: 5885}\n",
      "Error in file: ../rcv_elections_database/single/Alaska_11082022_SenateDistrictH.csv\n",
      "unsupported operand type(s) for -: 'float' and 'NoneType'\n",
      "../rcv_elections_database/single/Minneapolis_08112020_Ward6CityCouncilSpecialElection.csv\n"
     ]
    },
    {
     "name": "stderr",
     "output_type": "stream",
     "text": [
      "/Users/es5891/Documents/GitHub/bugs-in-democracy/rcv_exploration/../rcv_learning/rcv_dimensionality.py:188: RuntimeWarning: divide by zero encountered in divide\n",
      "  distance = 1 / np.sqrt(freq_upper_triangle)\n"
     ]
    },
    {
     "name": "stdout",
     "output_type": "stream",
     "text": [
      "Normalized distances: {'Suud Olat': 0.0, 'Mohamoud Hassan': 1.4340688520336344, 'Joshua Scheunemann': 2.719491022219872, 'Sara Mae Engberg': 3.9236389580820226, 'Michael P. Dougherty': 4.917454763604495, 'Nebiha Mohammed': 6.008636797325808, 'Jamal Osman': 6.401535353191591, 'Alex Palacios': 6.78813950827685, 'AJ Awed': 7.304425892257381, 'AK Hassan': 8.428454277789733, 'Saciido Shaie': 10.390399983556179, 'Abdirizak Bihi': 11.0}\n"
     ]
    },
    {
     "name": "stderr",
     "output_type": "stream",
     "text": [
      "/Users/es5891/Documents/GitHub/bugs-in-democracy/rcv_exploration/../rcv_learning/rcv_dimensionality.py:188: RuntimeWarning: divide by zero encountered in divide\n",
      "  distance = 1 / np.sqrt(freq_upper_triangle)\n"
     ]
    },
    {
     "name": "stdout",
     "output_type": "stream",
     "text": [
      "Consistency points: {8.693853702612042: 524, 7.7028079447085736: 978, 6.906737444968887: 1578, 4.327596376137073: 34, 8.52710595853143: 20, 5.598236884281903: 103, 5.838758240223421: 6, 5.882060132338535: 5, 7.516243758195042: 2, 6.783362436299832: 6, 5.851748315970842: 3, 6.02487083692111: 2, 10.384846183939345: 647, 6.067479014438758: 1, 7.870001589651589: 1, 4.51514595475147: 1, 7.093495637863216: 2, 1.7266843612422218: 3, 4.3508082158594386: 3, 7.807758679601866: 13, 4.9723816433450265: 8, 7.247602865110074: 39, 5.615862835434821: 1, 4.721998391662341: 16, 6.490174328758565: 5, 7.609165574485566: 9, 0.0: 24, 1.9257019861771434: 7, 5.766531960935545: 6, 1.6057299686739972: 3, 6.9698244369510585: 6, 10.14647922310085: 20, 5.310798768953708: 13, 1.8883555719502108: 1, 7.930053083726666: 12, 4.8034142419249655: 1, 8.573938985648937: 3, 11.0: 44, 6.646926092278203: 4, 7.897433861659061: 7, 5.195771175550421: 5, 7.105755069903809: 36, 7.377998812612279: 7, 6.560322308047975: 42, 8.373317504516267: 20, 9.047000744753637: 11, 9.193496049951449: 8, 7.85106057171698: 22, 7.353516509379676: 29, 7.666912883695766: 1, 7.9505693841844405: 31, 9.27039027695903: 16, 6.417135602729998: 1, 7.6417847965531704: 8, 7.361404135009699: 7, 4.981609993317367: 1, 7.0937051566889915: 7, 7.229635789641742: 13, 4.7631497110664816: 4, 7.528667938113003: 3, 7.240481864046394: 5, 6.010578379488946: 15, 6.880454750274975: 9, 6.124379649388571: 1, 7.6874980016311065: 2, 10.538634637954509: 6, 5.925362024453649: 5, 6.828391229918311: 10, 5.815832212876204: 5, 3.1222433721312797: 12, 1.4535919795789036: 1, 7.853158856719084: 8, 8.450211731523849: 19, 7.820539634651479: 5, 1.3531314146049818: 1, 7.776264629711502: 19, 6.94865190788907: 5, 6.632693310799108: 5, 7.564890569545589: 7, 8.161943444350353: 12, 7.275494065376936: 11, 8.77390836309032: 4, 5.467200779923899: 3, 0.7805608430328199: 1, 8.185702148832556: 4, 8.893212290738473: 7, 4.929079751229913: 6, 5.701079190470118: 4, 7.048854434953997: 7, 6.663945289699405: 2, 1.5631217911563486: 2, 5.526647640241564: 1, 4.941058014817232: 5, 6.453051705824637: 2, 2.337850993088572: 2, 7.031123875775699: 11, 1.2900294094930305: 5, 4.8769509809661065: 4, 8.84991039862336: 2, 5.714962219399766: 1, 4.248454530430962: 1, 7.456991324621964: 4, 6.703215216346806: 4, 7.410466511427694: 5, 6.611881769342741: 1, 5.353399510024274: 2, 5.09168252909846: 2, 5.822449151885515: 1, 7.453871996107525: 2, 7.155233387406177: 2, 7.954535386959268: 2, 7.305079216854905: 1, 8.183658564132527: 5, 1.5531007920463642: 6, 9.116601822943867: 7, 6.248260369126504: 1, 5.506654048183795: 1, 7.318795957492051: 7, 10.203379858050662: 9, 8.108807921824974: 6, 6.5023519577652955: 2, 5.1472287624207524: 2, 5.967970201971298: 11, 2.238342180621111: 1, 5.138978629688183: 1, 4.808819073259154: 2, 5.36384334360122: 3, 5.104620584903104: 2, 5.0149898208626755: 1, 5.225582413918411: 4, 5.367691967456438: 1, 8.935820468256122: 8, 5.407145235716333: 4, 4.58002470971957: 5, 6.191359734176691: 10, 6.003230506573261: 1, 7.189953939293803: 4, 7.045703575828732: 4, 6.7321424473135: 3, 6.863914667140787: 2, 4.291756422546076: 3, 10.103871045583201: 10, 6.942192499817936: 2, 8.570819657134496: 2, 6.372141088864438: 4, 1.1804995979155852: 1, 6.6895342697958515: 4, 6.526665414307444: 1, 4.068366890340681: 1, 9.003698852638523: 6, 6.148751556659043: 3, 4.645256503173281: 2, 6.402733794342605: 5, 4.42619688001839: 1, 4.128193852460203: 1, 6.912922449090391: 2, 2.75: 2, 5.424600038853333: 3, 5.4482707950792575: 2, 3.5914826845940437: 1, 5.224881262873863: 1, 4.11097506785833: 2, 6.871783436203845: 2, 6.845943717213125: 2, 1.4102900874637894: 3, 5.802455559827745: 2, 4.7410886373758485: 1, 7.402994826882044: 2, 5.924668309856183: 2, 3.751972616562249: 2, 6.789043082263312: 6, 6.991953800004184: 7, 4.334364600063724: 1, 4.971687928747561: 3, 1.8119007162775185: 2, 7.279751790693796: 5, 5.491572687194372: 3, 6.214604566739174: 1, 5.529259051204593: 1, 7.2934650153046: 3, 6.794889209196263: 1, 5.3243900753413245: 1, 6.61615322766492: 2, 1.6769815117842979: 1, 7.080424127716357: 2, 8.15450476440065: 3, 5.6723614783292: 2, 1.404291727638245: 1, 10.327260577788596: 7, 5.238379353068069: 1, 5.152469283435307: 1, 7.2441647633639406: 2, 8.72460811114966: 3, 6.814614415200129: 3, 4.851427250776802: 1, 2.195040288505997: 2, 1.3995592210704757: 2, 2.161447953613529: 1, 5.4407375706088015: 1, 7.381973443862487: 1, 1.725990646644756: 1, 6.850201442529984: 1, 4.591329571800957: 1, 1.3609898355231311: 1, 4.275527754517666: 1, 7.066710903105554: 2, 8.883438174667765: 1, 5.701248994788963: 1, 1.1311993459749268: 1, 1.0818990940342683: 1, 3.7952745086773634: 1, 5.484039462723915: 1, 1.868801351227331: 1, 7.564254965442858: 2, 6.83266268824049: 2, 7.670032212210206: 1, 8.105204512459993: 1, 4.503130482711988: 1, 0.9805302204742026: 1, 6.583515149030351: 1, 1.4962001570965517: 1, 4.679533522187032: 1, 4.0250649982255675: 2, 6.06264189984561: 2, 3.63171193859149: 1, 6.416183850223538: 1, 4.391265235013536: 2, 3.7412417501689355: 1, 5.267489440391512: 2, 6.566852975724262: 1, 1.7692925387598701: 2, 7.516453277020817: 2, 8.420150531633773: 1, 4.765517181144039: 1, 4.210483880325791: 1, 7.670241731035981: 1, 1.6833824691271078: 1}\n",
      "../rcv_elections_database/single/NewYorkCity_06222021_DEMBoroughPresidentRichmond.csv\n"
     ]
    },
    {
     "name": "stderr",
     "output_type": "stream",
     "text": [
      "/Users/es5891/Documents/GitHub/bugs-in-democracy/rcv_exploration/../rcv_learning/rcv_dimensionality.py:188: RuntimeWarning: divide by zero encountered in divide\n",
      "  distance = 1 / np.sqrt(freq_upper_triangle)\n"
     ]
    },
    {
     "name": "stdout",
     "output_type": "stream",
     "text": [
      "Normalized distances: {'Cesar A. Vargas': 0.0, 'Radhakrishna Mohan': 0.9607721410032419, 'Mark S. Murphy': 2.1439472788160785, 'Lorraine A. Honor': 2.898248589176474, 'Brandon P. Stradford': 4.0}\n"
     ]
    },
    {
     "name": "stderr",
     "output_type": "stream",
     "text": [
      "/Users/es5891/Documents/GitHub/bugs-in-democracy/rcv_exploration/../rcv_learning/rcv_dimensionality.py:188: RuntimeWarning: divide by zero encountered in divide\n",
      "  distance = 1 / np.sqrt(freq_upper_triangle)\n"
     ]
    },
    {
     "name": "stdout",
     "output_type": "stream",
     "text": [
      "Consistency points: {4.0: 563, 2.098613239157662: 370, 2.9203384740735157: 1136, 1.824704827519044: 5698, 1.0831433262161043: 1665, 1.542442113180457: 271, 2.368528620639283: 345, 0.0: 809, 1.6773998039212676: 77, 1.8123574946620782: 155, 2.0848519739148843: 103, 2.9606044620729604: 39, 2.973103826960141: 175, 1.2479654825059145: 30, 0.4994369674969533: 17, 1.2685337015418392: 788, 0.2707858315540261: 93, 0.7300846185183789: 95, 0.456176206879761: 175, 0.5004352250362025: 31, 2.1404405171994023: 60, 1.2817049051911171: 140, 1.0: 46, 2.0059180514947945: 131, 1.8705251357177815: 84, 2.2335709298984723: 50, 0.59313041269907: 38, 0.43195812212654805: 9, 0.8650423092591895: 24, 3.053299649735828: 43, 3.1902538555551367: 80, 2.1418739997748544: 22, 0.3634810192168936: 40, 2.892908004184454: 24, 0.4656975448117507: 66, 1.4054879073611481: 109, 1.3154443278763197: 20, 0.7280881034398805: 22, 1.1331407857648261: 77, 3.006952055904394: 15, 1.5893527395149376: 30, 0.6606092580694752: 11, 2.8252115462959475: 15, 2.119526878178532: 14, 2.9392555980158876: 11}\n",
      "../rcv_elections_database/single/Minneapolis_11062009_Ward7CityCouncil.csv\n"
     ]
    },
    {
     "name": "stderr",
     "output_type": "stream",
     "text": [
      "/Users/es5891/Documents/GitHub/bugs-in-democracy/rcv_exploration/../rcv_learning/rcv_dimensionality.py:188: RuntimeWarning: divide by zero encountered in divide\n",
      "  distance = 1 / np.sqrt(freq_upper_triangle)\n"
     ]
    },
    {
     "name": "stdout",
     "output_type": "stream",
     "text": [
      "Normalized distances: {'Lisa Goodman': 0.0, 'Jeffrey Alan Wagner': 1.2876011986103548, 'Michael J. Katch': 2.0}\n"
     ]
    },
    {
     "name": "stderr",
     "output_type": "stream",
     "text": [
      "/Users/es5891/Documents/GitHub/bugs-in-democracy/rcv_exploration/../rcv_learning/rcv_dimensionality.py:188: RuntimeWarning: divide by zero encountered in divide\n",
      "  distance = 1 / np.sqrt(freq_upper_triangle)\n"
     ]
    },
    {
     "name": "stdout",
     "output_type": "stream",
     "text": [
      "Consistency points: {0.0: 2365, 0.5: 152, 0.4109501498262944: 167, 0.32190029965258876: 87, 1.287601198610355: 94, 2.0: 420, 1.4657008989577662: 130, 1.3047507491314718: 62}\n",
      "../rcv_elections_database/single/Oakland_11062012_CityCouncilDistrict3.csv\n"
     ]
    },
    {
     "name": "stderr",
     "output_type": "stream",
     "text": [
      "/Users/es5891/Documents/GitHub/bugs-in-democracy/rcv_exploration/../rcv_learning/rcv_dimensionality.py:188: RuntimeWarning: divide by zero encountered in divide\n",
      "  distance = 1 / np.sqrt(freq_upper_triangle)\n"
     ]
    },
    {
     "name": "stdout",
     "output_type": "stream",
     "text": [
      "Normalized distances: {'LARRY LIONEL YOUNG, JR.': 0.0, 'NYEISHA DEWITT': 1.9152530405104145, 'LYNETTE GIBSON-MCELHANEY': 2.2107624741072005, 'ALEX MILLER-COLE': 2.9650263296117094, 'SEAN SULLIVAN': 3.280706308943711, 'DERRICK MUHAMMAD': 5.0}\n"
     ]
    },
    {
     "name": "stderr",
     "output_type": "stream",
     "text": [
      "/Users/es5891/Documents/GitHub/bugs-in-democracy/rcv_exploration/../rcv_learning/rcv_dimensionality.py:188: RuntimeWarning: divide by zero encountered in divide\n",
      "  distance = 1 / np.sqrt(freq_upper_triangle)\n"
     ]
    },
    {
     "name": "stdout",
     "output_type": "stream",
     "text": [
      "Consistency points: {2.210032845790205: 140, 2.0922191410143496: 919, 1.015811380981904: 61, 1.5999162546648737: 883, 0.7816227619638081: 51, 3.0060158770578176: 21, 3.1264910478552324: 1297, 0.0: 673, 1.7815704211293542: 66, 5.0: 444, 0.4615169244599029: 684, 2.737628170854735: 92, 2.8096254032925083: 471, 3.20405690490952: 72, 2.31117891215423: 143, 2.0892597250977767: 208, 2.35078711772457: 195, 1.5230024444191335: 276, 2.8888418144331895: 99, 1.8126677590370126: 233, 1.7023540099886731: 108, 0.39997906366621844: 109, 2.819164355760762: 65, 2.176140366410219: 85, 2.7991660316484195: 114, 0.6127305680383572: 72, 2.2157485719805594: 66, 0.5230547852535874: 93, 1.9815599529624635: 71, 2.0100433139570955: 57, 1.9419517473921228: 84, 1.7229919762522428: 179, 0.5511927072446727: 86, 2.5576369631339686: 99, 0.6523387736086977: 127, 2.4499371909986554: 50, 2.584975736742666: 211, 0.7024063508231271: 26, 1.25: 44, 3.3572190524693815: 19, 0.8865273926267937: 127, 3.4040464367426293: 85, 1.9023435418217824: 74, 0.7420145563934676: 26, 2.2715707065838893: 54, 0.9762031754115635: 26, 3.5948682858914243: 62, 0.5908009128150132: 64}\n",
      "../rcv_elections_database/single/Oakland_11082022_Schoolboarddistrict2.csv\n"
     ]
    },
    {
     "name": "stderr",
     "output_type": "stream",
     "text": [
      "/Users/es5891/Documents/GitHub/bugs-in-democracy/rcv_exploration/../rcv_learning/rcv_dimensionality.py:188: RuntimeWarning: divide by zero encountered in divide\n",
      "  distance = 1 / np.sqrt(freq_upper_triangle)\n"
     ]
    },
    {
     "name": "stdout",
     "output_type": "stream",
     "text": [
      "Normalized distances: {'MAX OROZCO': 0.0, 'JENNIFER BROUHARD': 1.1216016594851534, 'DAVID KAKISHIBA': 2.0}\n"
     ]
    },
    {
     "name": "stderr",
     "output_type": "stream",
     "text": [
      "/Users/es5891/Documents/GitHub/bugs-in-democracy/rcv_exploration/../rcv_learning/rcv_dimensionality.py:188: RuntimeWarning: divide by zero encountered in divide\n",
      "  distance = 1 / np.sqrt(freq_upper_triangle)\n"
     ]
    },
    {
     "name": "stdout",
     "output_type": "stream",
     "text": [
      "Consistency points: {1.201001037178221: 2176, 2.0: 1831, 1.1216016594851534: 2292, 1.341201244613865: 877, 0.28040041487128836: 885, 0.3902002074356442: 985, 0.0: 386, 0.5: 54}\n",
      "../rcv_elections_database/single/Alaska_11082022_USRepresentative.csv\n",
      "Skipping file: ../rcv_elections_database/single/Alaska_11082022_USRepresentative.csv\n",
      "../rcv_elections_database/single/Oakland_11042014_CityCouncilDistrict2.csv\n"
     ]
    },
    {
     "name": "stderr",
     "output_type": "stream",
     "text": [
      "/Users/es5891/Documents/GitHub/bugs-in-democracy/rcv_exploration/../rcv_learning/rcv_dimensionality.py:188: RuntimeWarning: divide by zero encountered in divide\n",
      "  distance = 1 / np.sqrt(freq_upper_triangle)\n"
     ]
    },
    {
     "name": "stdout",
     "output_type": "stream",
     "text": [
      "Normalized distances: {'KEVIN BLACKBURN': 0.0, 'ABEL GUILLEN': 0.8438519108270889, 'DANA KING': 1.375642944803685, 'ANDREW PARK': 1.563885779657465, 'KEN MAXEY': 4.0}\n"
     ]
    },
    {
     "name": "stderr",
     "output_type": "stream",
     "text": [
      "/Users/es5891/Documents/GitHub/bugs-in-democracy/rcv_exploration/../rcv_learning/rcv_dimensionality.py:188: RuntimeWarning: divide by zero encountered in divide\n",
      "  distance = 1 / np.sqrt(freq_upper_triangle)\n"
     ]
    },
    {
     "name": "stdout",
     "output_type": "stream",
     "text": [
      "Consistency points: {1.524336252715847: 1223, 0.20176951552130662: 60, 0.36299158012179106: 124, 0.3720378216503764: 136, 1.4519663204871642: 1254, 0.2914267893501342: 118, 1.470058803544335: 295, 0.8070780620852265: 568, 2.088974740365373: 29, 0.9773463682142962: 267, 0.8855078519822284: 269, 0.9863926097428817: 240, 0.968300126685711: 152, 0.38108406317896176: 66, 0.0: 207, 0.8674153689250577: 127, 4.0: 63, 2.1432521895368852: 16, 0.28238054782154887: 77, 0.6814957900608956: 37, 1.6053085465639199: 12, 0.6905420315894808: 16, 1.0: 11}\n",
      "../rcv_elections_database/single/Berkeley_11022010_CityCouncilDistrict4.csv\n"
     ]
    },
    {
     "name": "stderr",
     "output_type": "stream",
     "text": [
      "/Users/es5891/Documents/GitHub/bugs-in-democracy/rcv_exploration/../rcv_learning/rcv_dimensionality.py:188: RuntimeWarning: divide by zero encountered in divide\n",
      "  distance = 1 / np.sqrt(freq_upper_triangle)\n"
     ]
    },
    {
     "name": "stdout",
     "output_type": "stream",
     "text": [
      "Normalized distances: {'JESSE ARREGUIN': 0.0, 'JIM NOVOSEL': 0.9428293907227567, 'BERNT RAINER WAHL': 1.8244405932363679, 'ERIC PANZER': 3.0}\n"
     ]
    },
    {
     "name": "stderr",
     "output_type": "stream",
     "text": [
      "/Users/es5891/Documents/GitHub/bugs-in-democracy/rcv_exploration/../rcv_learning/rcv_dimensionality.py:188: RuntimeWarning: divide by zero encountered in divide\n",
      "  distance = 1 / np.sqrt(freq_upper_triangle)\n"
     ]
    },
    {
     "name": "stdout",
     "output_type": "stream",
     "text": [
      "Consistency points: {0.3459087479948905: 329, 0.0: 935, 0.9428293907227566: 328, 3.0: 14, 1.0453785175108148: 145, 0.603055074154546: 204, 1.8902753707727298: 54, 2.1183304449272757: 26, 0.4561101483090919: 83, 0.75: 44, 0.23570734768068916: 373, 1.1632321913511594: 69, 1.3101771171966134: 196, 2.0081290446130744: 67, 1.8244405932363676: 70, 1.4571220430420675: 38}\n",
      "../rcv_elections_database/single/Oakland_11062012_CityCouncilDistrict1.csv\n"
     ]
    },
    {
     "name": "stderr",
     "output_type": "stream",
     "text": [
      "/Users/es5891/Documents/GitHub/bugs-in-democracy/rcv_exploration/../rcv_learning/rcv_dimensionality.py:188: RuntimeWarning: divide by zero encountered in divide\n",
      "  distance = 1 / np.sqrt(freq_upper_triangle)\n"
     ]
    },
    {
     "name": "stdout",
     "output_type": "stream",
     "text": [
      "Normalized distances: {'DONALD MACLEAY': 0.0, 'DAN KALB': 2.5087920014540184, 'AMY LEMLEY': 2.9143012747253505, 'CRAIG BRANDT': 3.1426024741594034, 'RICHARD RAYA': 3.5659869863745164, 'LEN RAPHAEL': 4.342477051180054, \"GORDON ''DON'' LINK\": 6.0}\n"
     ]
    },
    {
     "name": "stderr",
     "output_type": "stream",
     "text": [
      "/Users/es5891/Documents/GitHub/bugs-in-democracy/rcv_exploration/../rcv_learning/rcv_dimensionality.py:188: RuntimeWarning: divide by zero encountered in divide\n",
      "  distance = 1 / np.sqrt(freq_upper_triangle)\n"
     ]
    },
    {
     "name": "stdout",
     "output_type": "stream",
     "text": [
      "Consistency points: {3.4831659374496775: 1697, 3.159022202277805: 134, 4.342477051180054: 333, 6.0: 413, 2.9077557715987847: 991, 2.649059600816713: 99, 2.5087920014540184: 2380, 2.7523854854529333: 721, 3.0202086991566492: 65, 3.001737841793412: 1278, 2.85979937466923: 241, 2.60853294399021: 305, 2.6804592147215716: 729, 4.5775176284373815: 59, 3.051608313061508: 318, 3.2947682540205254: 39, 3.5761969738828143: 130, 3.5095960324531195: 58, 3.231969026210808: 227, 0.7489947423629619: 80, 3.1744036324880205: 29, 2.438786485271181: 213, 4.75685778838504: 23, 3.7167864010556126: 37, 3.6979937158822715: 74, 2.938938613983695: 58, 3.4736264600965954: 64, 2.7209858715480744: 88, 3.2043711259259267: 84, 3.2542415971940226: 40, 4.112374453087258: 67, 0.9062791028473548: 18, 2.9672132638855273: 90, 2.689586257643216: 32, 0.0: 222, 2.68813884161166: 101, 4.214048156987533: 31, 1.0635990001817524: 31, 1.2928096313975068: 18, 1.1853957421812096: 21, 0.7988652136310578: 32, 0.6271980003635046: 66, 3.6769787109060483: 40, 4.618044285263885: 44, 3.6808168286990885: 60, 0.7175951284581032: 99, 3.519980641381755: 24, 2.902966620044254: 25, 0.807992256552702: 23, 3.3173473572492407: 29, 1.0856192627950134: 14, 0.6770684716316004: 75, 1.113469471449848: 18, 1.1539961282763511: 17, 3.923976769658106: 34, 0.9468057596738577: 18, 2.8283997607643716: 33, 3.0679950009087618: 43, 3.1055999041767683: 24, 3.62606744515091: 94, 2.9888090852517903: 34, 2.653614263703775: 35, 3.2664360914941017: 53, 3.9051840844847647: 40, 3.3815940010905137: 87, 1.5: 9, 0.7269389428996962: 20, 0.856408631579259: 25, 0.8707914843624194: 24, 0.8393918704575607: 20, 3.262597973701062: 34, 0.7674655997261991: 8, 2.3759872574614636: 26, 0.9782053735787164: 18, 4.527647157169286: 28}\n",
      "../rcv_elections_database/single/Alaska_11082022_SenateDistrictJ.csv\n"
     ]
    },
    {
     "name": "stderr",
     "output_type": "stream",
     "text": [
      "/Users/es5891/Documents/GitHub/bugs-in-democracy/rcv_exploration/../rcv_learning/rcv_dimensionality.py:188: RuntimeWarning: divide by zero encountered in divide\n",
      "  distance = 1 / np.sqrt(freq_upper_triangle)\n"
     ]
    },
    {
     "name": "stdout",
     "output_type": "stream",
     "text": [
      "Normalized distances: {'Dunbar, Forrest': 0.0, 'Tarr, Geran': 0.7995261871385244, 'Satterfield, Andrew E.': 2.0}\n"
     ]
    },
    {
     "name": "stderr",
     "output_type": "stream",
     "text": [
      "/Users/es5891/Documents/GitHub/bugs-in-democracy/rcv_exploration/../rcv_learning/rcv_dimensionality.py:188: RuntimeWarning: divide by zero encountered in divide\n",
      "  distance = 1 / np.sqrt(freq_upper_triangle)\n"
     ]
    },
    {
     "name": "stdout",
     "output_type": "stream",
     "text": [
      "Consistency points: {2.0: 2087, 0.34994077339231566: 1004, 0.1998815467846313: 1890, 0.0: 1175, 0.5: 67, 0.7995261871385252: 370, 1.099644640353894: 44}\n",
      "../rcv_elections_database/single/Minneapolis_11062009_Ward8CityCouncil.csv\n"
     ]
    },
    {
     "name": "stderr",
     "output_type": "stream",
     "text": [
      "/Users/es5891/Documents/GitHub/bugs-in-democracy/rcv_exploration/../rcv_learning/rcv_dimensionality.py:188: RuntimeWarning: divide by zero encountered in divide\n",
      "  distance = 1 / np.sqrt(freq_upper_triangle)\n"
     ]
    },
    {
     "name": "stdout",
     "output_type": "stream",
     "text": [
      "Normalized distances: {'David Regan': 0.0, 'Gregory McDonald': 1.867081069422181, 'Jeanine Estime': 2.982486426195359, 'Michael J. Cavlan': 3.3374212870825373, 'Elizabeth Glidden': 4.0}\n"
     ]
    },
    {
     "name": "stderr",
     "output_type": "stream",
     "text": [
      "/Users/es5891/Documents/GitHub/bugs-in-democracy/rcv_exploration/../rcv_learning/rcv_dimensionality.py:188: RuntimeWarning: divide by zero encountered in divide\n",
      "  distance = 1 / np.sqrt(freq_upper_triangle)\n"
     ]
    },
    {
     "name": "stdout",
     "output_type": "stream",
     "text": [
      "Consistency points: {3.097439150049872: 53, 4.0: 1077, 1.0: 12, 3.5030659653119027: 4, 3.337421287082537: 10, 3.0712201414171534: 8, 2.9824864261953588: 67, 2.4003108020666364: 14, 3.2368648196465193: 165, 2.2346661238372705: 4, 1.9125472749377033: 3, 2.1902992662263734: 9, 0.0: 85, 2.273121605341056: 10, 2.145932408615476: 4, 1.8670810694221818: 27, 2.9317944718205062: 20, 3.154042480531836: 34, 0.46677026735554544: 22, 0.7333851336777728: 9, 0.6505627945630899: 12, 0.6061959369521925: 13, 0.8728108032744198: 3, 2.864054016372099: 4, 2.166925668388864: 2, 2.317488462951953: 2, 0.8343553217706342: 1, 3.319273438104358: 1}\n",
      "../rcv_elections_database/single/SanLeandro_11062012_CountyCouncilDistrict4.csv\n"
     ]
    },
    {
     "name": "stderr",
     "output_type": "stream",
     "text": [
      "/Users/es5891/Documents/GitHub/bugs-in-democracy/rcv_exploration/../rcv_learning/rcv_dimensionality.py:188: RuntimeWarning: divide by zero encountered in divide\n",
      "  distance = 1 / np.sqrt(freq_upper_triangle)\n"
     ]
    },
    {
     "name": "stdout",
     "output_type": "stream",
     "text": [
      "Normalized distances: {'BENNY LEE': 0.0, 'CHRIS CROW': 0.9540956988047575, 'DARLENE DAEVU': 1.6034721584892715, 'JUSTIN HUTCHISON': 3.0}\n"
     ]
    },
    {
     "name": "stderr",
     "output_type": "stream",
     "text": [
      "/Users/es5891/Documents/GitHub/bugs-in-democracy/rcv_exploration/../rcv_learning/rcv_dimensionality.py:188: RuntimeWarning: divide by zero encountered in divide\n",
      "  distance = 1 / np.sqrt(freq_upper_triangle)\n"
     ]
    },
    {
     "name": "stdout",
     "output_type": "stream",
     "text": [
      "Consistency points: {0.31969598216175366: 1476, 0.9971778513752914: 876, 0.9540956988047575: 1387, 0.5754340198111589: 932, 0.0: 2997, 1.465571774103568: 162, 1.6034721584892715: 1061, 3.0: 584, 0.23852392470118938: 334, 1.9526041188669536: 132, 0.75: 171, 1.116439813725886: 323, 1.7521700990557947: 331, 0.4008680396223179: 406}\n",
      "../rcv_elections_database/single/Minneapolis_11062009_Mayor.csv\n"
     ]
    },
    {
     "name": "stderr",
     "output_type": "stream",
     "text": [
      "/Users/es5891/Documents/GitHub/bugs-in-democracy/rcv_exploration/../rcv_learning/rcv_dimensionality.py:188: RuntimeWarning: divide by zero encountered in divide\n",
      "  distance = 1 / np.sqrt(freq_upper_triangle)\n"
     ]
    },
    {
     "name": "stdout",
     "output_type": "stream",
     "text": [
      "Normalized distances: {'John Charles Wilson': 0.0, 'Joey Lombard': 6.79245476384726, 'Bob Carney Jr.': 6.846176948197008, 'Bill McGaughey': 7.095654377642417, 'Christopher Clark': 7.4446729349970555, 'Papa John Kolstad': 7.7185243621316415, 'Tom Fiske': 7.923445275503221, 'Dick Franson': 8.376540377138852, 'R.T. Rybak': 8.598032074023829, 'James R. Everett': 9.524023916121164, 'Al Flowers': 10.0}\n"
     ]
    },
    {
     "name": "stderr",
     "output_type": "stream",
     "text": [
      "/Users/es5891/Documents/GitHub/bugs-in-democracy/rcv_exploration/../rcv_learning/rcv_dimensionality.py:188: RuntimeWarning: divide by zero encountered in divide\n",
      "  distance = 1 / np.sqrt(freq_upper_triangle)\n"
     ]
    },
    {
     "name": "stdout",
     "output_type": "stream",
     "text": [
      "Consistency points: {1.401967925976174: 20408, 2.2814756378683594: 1950, 1.8533622535203158: 367, 0.9273509723762184: 7, 0.7074740444031721: 41, 0.40586490571528755: 101, 1.856426483396599: 17, 1.7879636266129526: 26, 1.457340850197418: 1221, 1.6218448539492203: 1240, 3.153823051802992: 87, 3.1360689192097535: 3, 3.1672535978904293: 1, 1.736733398270058: 9, 2.5553270650029454: 566, 2.445032189062444: 2, 2.6451045191396867: 3, 2.5884676314352326: 1, 2.704951061702957: 9, 2.711666334746676: 7, 2.5607811693246108: 6, 2.458462735149881: 4, 2.658535065227124: 1, 2.7183816077903944: 45, 2.3989657246650262: 1, 2.60189817752267: 4, 2.574211715412048: 5, 2.673766383022281: 8, 2.382662831701092: 1, 2.5260982740738807: 4, 2.6425817043416053: 10, 2.608350275949782: 11, 2.6804816560659996: 10, 2.498411811963259: 6, 4.416495298752209: 3, 1.1454378258598767: 1, 1.0773411005535896: 2, 0.9958138291598649: 5, 1.0107792849466002: 1, 0.9359672865965943: 1, 0.9017358582047711: 1, 1.017494557990319: 1, 0.9795946062659243: 3, 0.8761207440333237: 2, 0.8793303988921406: 2, 0.8450989705003173: 1, 0.9608576702858651: 1, 0.9229577185614705: 1, 0.7628469686244161: 12, 1.0363943991180475: 2, 0.9615824007680417: 1, 1.043109672161766: 3, 1.0052097204373718: 1, 1.1588683719473138: 2, 1.1209684202229195: 1, 1.0830684684985248: 1, 0.9264559351315244: 1, 0.8516439367815185: 2, 0.7917973942182479: 2, 0.7351605065137942: 3, 0.8174125083896953: 1, 0.933171208175243: 5, 0.8952712564508485: 2, 0.47597608387883816: 76, 2.0765547244967806: 81, 2.145799476246091: 1, 2.3525870793670522: 1, 2.3458718063233333: 4, 2.2710598079733275: 2, 1.9961754795460789: 1, 2.2777750810170465: 7, 2.111924459808246: 5, 2.196247809623322: 1, 2.1277849528396753: 19, 2.1620163812314983: 2, 2.0711480651352216: 3, 2.0434616030245993: 34, 2.0997330118486732: 8, 2.359302352410771: 3, 2.023933108399884: 3, 2.321402400686376: 2, 2.199179099146906: 6, 2.2835024489619817: 1, 4.057416043372585: 1, 0.7951710359944667: 1, 0.788455762950748: 3, 0.3504919814940435: 155, 0.7136437646007422: 2, 0.7203590376444609: 4, 0.6388317662507363: 7, 0.23474300123187652: 20, 0.11899402096970954: 17, 0.5191386811241951: 13, 0.6537972220374716: 2, 0.5789852236874657: 5, 0.5447537952956425: 11, 0.6605124950811903: 10, 0.6226125433567957: 4, 0.5971603343330179: 6, 0.5223483359830119: 21, 0.46250179341974135: 21, 0.4881169075911887: 54, 0.6038756073767364: 32, 0.5659756556523419: 1, 0.5703689094670898: 44, 0.6794123362089189: 7, 0.6046003378589131: 7, 0.6861276092526376: 24, 0.6482276575282431: 6, 0.8018863090381854: 11, 0.7572710842700721: 2, 0.7639863573137908: 1, 0.7260864055893962: 2, 0.0: 446, 0.5694738722223958: 2, 0.4946618738723899: 8, 0.4348153313091193: 28, 0.3781784436046655: 142, 0.46043044548056666: 34, 0.5761891452661144: 18, 0.5382891935417198: 4, 1.6234596228611502: 491, 1.8031180272389669: 2, 2.0127657531403296: 1, 2.0060504800966106: 2, 1.9312384817466048: 2, 1.71299104102381: 2, 1.6534940305389552: 8, 1.9379537547903234: 5, 1.9000538030659289: 3, 1.7965799408333285: 3, 1.533800945412414: 2, 1.762348512441505: 1, 1.8970070533547816: 7, 1.8221950550047756: 10, 1.6445281842401636: 1, 1.5850311737553087: 25, 1.9037223263985004: 15, 1.8658223746741056: 8, 1.876045583811259: 1, 1.8165485733264042: 6, 2.019481026184048: 3, 1.9748658014159348: 3, 1.7407486698776151: 1, 1.9815810744596534: 3, 1.9436811227352588: 4, 2.403054573452932: 35, 2.512993037439455: 51, 2.499562491352018: 38, 2.349938494652006: 272, 2.2738750471033273: 4, 2.2143780366184727: 14, 2.4173104894761166: 13, 2.5062777643957364: 10, 2.3896240273654943: 25, 2.3243233804805588: 15, 2.2676864927761047: 36, 2.393565814321336: 45, 2.240000030665483: 62, 2.287305593190765: 12, 2.2278085827059098: 17, 2.4307410355635537: 8, 2.4683778126713416: 15, 2.2115056897419754: 4, 2.1520086792571207: 14, 2.3549411321147646: 17, 2.47509308571506: 10, 2.3272546700041428: 13, 2.437193133990666: 30, 4.211106728401269: 10, 3.2075452361527415: 109, 4.9056589271145565: 4, 3.7175947171458628: 1, 2.863241117486336: 1, 2.8066042297818825: 3, 2.8888562316577833: 2, 2.9667149797189367: 2, 2.902286777745221: 4, 2.7923483137586977: 2, 2.980145525806374: 3, 2.9043456223575848: 62, 10.0: 37, 1.5706146256063256: 360, 1.8399317074328785: 60, 1.6646857166858569: 26, 1.846646980476597: 16, 1.6903077107328668: 172, 1.7651197090828727: 20, 1.5745587304706998: 22, 1.515061719985845: 46, 1.7718349821265913: 64, 1.7339350304021968: 15, 1.7052731665196021: 21, 1.6304611681695962: 41, 1.4548656453441586: 35, 1.3953686348593037: 163, 1.596229739777773: 93, 1.7119884395633207: 130, 1.6740884878389262: 12, 1.341591869935251: 34, 1.7308882806910493: 47, 1.6560762823410435: 107, 1.5060958736870533: 40, 1.4465988632021984: 335, 1.737603553734768: 204, 1.6997036020103735: 30, 1.678116262773294: 91, 1.7775623500715265: 29, 1.8087470287522025: 8, 1.602316359324505: 18, 1.8154623017959213: 7, 3.5514759444821307: 12}\n",
      "../rcv_elections_database/single/SanFrancisco_11052019_Sheriff.csv\n",
      "Error in file: ../rcv_elections_database/single/SanFrancisco_11052019_Sheriff.csv\n",
      "zero-size array to reduction operation minimum which has no identity\n",
      "../rcv_elections_database/single/Oakland_11032020_SchoolDirectorDist5OaklandRCV.csv\n"
     ]
    },
    {
     "name": "stderr",
     "output_type": "stream",
     "text": [
      "/Users/es5891/Documents/GitHub/bugs-in-democracy/rcv_exploration/../rcv_learning/rcv_dimensionality.py:188: RuntimeWarning: divide by zero encountered in divide\n",
      "  distance = 1 / np.sqrt(freq_upper_triangle)\n"
     ]
    },
    {
     "name": "stdout",
     "output_type": "stream",
     "text": [
      "Normalized distances: {'JORGE C. LERMA': 0.0, 'SHEILA POPE-LAWRENCE': 1.0678342473303588, 'MIKE HUTCHINSON': 2.0627274892570533, 'LEROY ROCHES GAINES': 3.0}\n"
     ]
    },
    {
     "name": "stderr",
     "output_type": "stream",
     "text": [
      "/Users/es5891/Documents/GitHub/bugs-in-democracy/rcv_exploration/../rcv_learning/rcv_dimensionality.py:188: RuntimeWarning: divide by zero encountered in divide\n",
      "  distance = 1 / np.sqrt(freq_upper_triangle)\n"
     ]
    },
    {
     "name": "stdout",
     "output_type": "stream",
     "text": [
      "Consistency points: {2.105944321243806: 1014, 3.0: 1203, 1.550875685497769: 81, 2.0627274892570533: 2484, 1.0678342473303586: 593, 2.1726839617019533: 164, 1.1830782768957375: 73, 2.29704561694279: 409, 0.4498997489948606: 246, 0.39132021707342646: 27, 1.3165575578120323: 96, 1.4337166216549007: 52, 0.0: 414, 1.30383863643759: 344, 0.75: 35, 0.6328409361571317: 25, 0.5156818723142633: 50, 2.0392046807856583: 40, 0.26695856183258965: 31, 0.5084792809162948: 19}\n",
      "../rcv_elections_database/single/Minneapolis_11072017_Ward12CityCouncil.csv\n"
     ]
    },
    {
     "name": "stderr",
     "output_type": "stream",
     "text": [
      "/Users/es5891/Documents/GitHub/bugs-in-democracy/rcv_exploration/../rcv_learning/rcv_dimensionality.py:188: RuntimeWarning: divide by zero encountered in divide\n",
      "  distance = 1 / np.sqrt(freq_upper_triangle)\n"
     ]
    },
    {
     "name": "stdout",
     "output_type": "stream",
     "text": [
      "Normalized distances: {'Andrew Johnson': 0.0, 'Will Jaeger': 1.050460990647126, 'Harrison Bullard': 2.0}\n"
     ]
    },
    {
     "name": "stderr",
     "output_type": "stream",
     "text": [
      "/Users/es5891/Documents/GitHub/bugs-in-democracy/rcv_exploration/../rcv_learning/rcv_dimensionality.py:188: RuntimeWarning: divide by zero encountered in divide\n",
      "  distance = 1 / np.sqrt(freq_upper_triangle)\n"
     ]
    },
    {
     "name": "stdout",
     "output_type": "stream",
     "text": [
      "Consistency points: {0.0: 5911, 0.38130762383089073: 1107, 0.26261524766178146: 497, 0.5: 361, 1.0504609906471258: 325, 1.2878457429853443: 124, 1.1565381191544537: 197, 2.0: 63}\n",
      "../rcv_elections_database/single/Minneapolis_11052013_Ward9CityCouncil.csv\n"
     ]
    },
    {
     "name": "stderr",
     "output_type": "stream",
     "text": [
      "/Users/es5891/Documents/GitHub/bugs-in-democracy/rcv_exploration/../rcv_learning/rcv_dimensionality.py:188: RuntimeWarning: divide by zero encountered in divide\n",
      "  distance = 1 / np.sqrt(freq_upper_triangle)\n"
     ]
    },
    {
     "name": "stdout",
     "output_type": "stream",
     "text": [
      "Normalized distances: {'GREGORY MCDONALD': 0.0, 'ABDI ABDULLE': 2.3459780390393985, 'PAT FLEETHAM': 2.8536830883382036, 'ALONDRA CANO': 3.2863730159491267, 'CHARLES CURTIS': 3.9428949083765708, 'TY MOORE': 5.0}\n"
     ]
    },
    {
     "name": "stderr",
     "output_type": "stream",
     "text": [
      "/Users/es5891/Documents/GitHub/bugs-in-democracy/rcv_exploration/../rcv_learning/rcv_dimensionality.py:188: RuntimeWarning: divide by zero encountered in divide\n",
      "  distance = 1 / np.sqrt(freq_upper_triangle)\n"
     ]
    },
    {
     "name": "stdout",
     "output_type": "stream",
     "text": [
      "Consistency points: {5.0: 274, 3.2863730159491267: 370, 3.9428949083765708: 87, 3.714779761961845: 240, 2.3459780390393985: 159, 4.0075565726152815: 5, 3.5826416255089164: 73, 3.009483529279549: 17, 2.745207256373692: 1, 3.332954116942272: 18, 3.0397068620623466: 12, 0.0: 16, 2.8536830883382036: 27, 2.2878295283869057: 13, 0.7040438818735657: 6, 0.6499576409222003: 7, 3.3902623162536525: 6, 0.7675070130359163: 17, 2.179657046484175: 6, 2.79528015627319: 14, 0.8215932539872817: 3, 0.5864945097598496: 2, 3.258124179800724: 5, 3.4505034890559876: 45, 4.207171181282428: 19, 3.3039831349682043: 26, 3.0335519302113774: 7, 2.87734539282662: 5, 3.1259860433477953: 8, 0.7134207720845509: 11, 2.9618555702409344: 5, 0.9817103860422755: 5, 0.7861091184269962: 1, 1.25: 1, 2.526990542315465: 3, 4.071019703777632: 11, 2.5810767832668304: 9, 2.4519600014937666: 1, 2.7692756573055197: 4, 3.7143093177353568: 4, 1.1178618635470714: 1, 2.663142019820261: 4, 2.8983924390785836: 3, 3.043920806794365: 1, 0.9036584905407121: 1, 2.4729043013640997: 2, 0.8495722495893467: 2, 2.7162362743996242: 1, 0.9857237270941427: 1}\n",
      "../rcv_elections_database/single/StLouisPark_11022021_CityCouncilWard1.csv\n",
      "Error in file: ../rcv_elections_database/single/StLouisPark_11022021_CityCouncilWard1.csv\n",
      "zero-size array to reduction operation minimum which has no identity\n",
      "../rcv_elections_database/single/Minneapolis_11072017_PRBoardDistrict1.csv\n"
     ]
    },
    {
     "name": "stderr",
     "output_type": "stream",
     "text": [
      "/Users/es5891/Documents/GitHub/bugs-in-democracy/rcv_exploration/../rcv_learning/rcv_dimensionality.py:188: RuntimeWarning: divide by zero encountered in divide\n",
      "  distance = 1 / np.sqrt(freq_upper_triangle)\n"
     ]
    },
    {
     "name": "stdout",
     "output_type": "stream",
     "text": [
      "Normalized distances: {'Mohamed Issa Barre': 0.0, 'Chris Meyer': 1.1643427784126625, 'Billy Menz': 2.0}\n"
     ]
    },
    {
     "name": "stderr",
     "output_type": "stream",
     "text": [
      "/Users/es5891/Documents/GitHub/bugs-in-democracy/rcv_exploration/../rcv_learning/rcv_dimensionality.py:188: RuntimeWarning: divide by zero encountered in divide\n",
      "  distance = 1 / np.sqrt(freq_upper_triangle)\n"
     ]
    },
    {
     "name": "stdout",
     "output_type": "stream",
     "text": [
      "Consistency points: {1.1643427784126623: 2222, 0.3955428473015828: 731, 2.0: 1943, 1.227714236507914: 1648, 1.3732570838094968: 1279, 0.0: 1189, 0.5: 111, 0.2910856946031656: 118}\n",
      "../rcv_elections_database/single/SanFrancisco_11062018_PublicDefender.csv\n",
      "Error in file: ../rcv_elections_database/single/SanFrancisco_11062018_PublicDefender.csv\n",
      "zero-size array to reduction operation minimum which has no identity\n",
      "../rcv_elections_database/single/SanFrancisco_11022004_BoardofSupervisorsDistrict9.csv\n"
     ]
    },
    {
     "name": "stderr",
     "output_type": "stream",
     "text": [
      "/Users/es5891/Documents/GitHub/bugs-in-democracy/rcv_exploration/../rcv_learning/rcv_dimensionality.py:188: RuntimeWarning: divide by zero encountered in divide\n",
      "  distance = 1 / np.sqrt(freq_upper_triangle)\n"
     ]
    },
    {
     "name": "stdout",
     "output_type": "stream",
     "text": [
      "Normalized distances: {'Miguel Bustos': 0.0, 'Lucrecia Bermudez': 0.9498256122004667, 'Renee Saucedo': 0.9810296395578965, 'Tom Ammiano': 1.500869178726047, 'Steve Zeltzer': 2.707988571943691, 'James Boris Perez': 5.0}\n"
     ]
    },
    {
     "name": "stderr",
     "output_type": "stream",
     "text": [
      "/Users/es5891/Documents/GitHub/bugs-in-democracy/rcv_exploration/../rcv_learning/rcv_dimensionality.py:188: RuntimeWarning: divide by zero encountered in divide\n",
      "  distance = 1 / np.sqrt(freq_upper_triangle)\n"
     ]
    },
    {
     "name": "stdout",
     "output_type": "stream",
     "text": [
      "Consistency points: {2.4372497326457196: 14, 2.727651664572437: 24, 2.8463798660974957: 48, 2.6587712187567396: 49, 2.7813999237014766: 44, 2.445050739485077: 9, 2.850280369517174: 12, 2.6825071425351936: 49, 2.29201142805631: 154, 0.7888727235623018: 14, 0.7927732269819804: 9, 0.9115014285070387: 37, 0.5730028570140775: 7, 1.0086430935302046: 20, 1.127371295055263: 20, 0.9397626477145071: 17, 0.9436631511341858: 11, 1.0623913526592441: 37, 1.25: 43, 0.0: 124, 4.026771367281461: 80, 4.048357903783354: 72, 3.761856475276315: 93, 4.018970360442104: 636, 3.4782007819137855: 358, 3.6329912094856693: 1380, 3.7517194110107277: 2188, 3.6290907060659907: 2073, 3.4860017887531427: 49, 3.7556199144304063: 279, 3.636891712905348: 73, 3.7234581918032594: 223, 3.4369567632962204: 195, 3.8743481159554647: 496, 3.499130821273953: 2295, 3.781358992374708: 34, 4.050174387799533: 119, 5.0: 850, 2.5937912763607205: 29, 1.004742590110526: 13, 0.8747827053184882: 17, 1.1312717984749416: 15, 1.0125435969498833: 7, 4.264227770331578: 125, 2.7237511611527587: 10, 2.307289847853682: 19, 2.6626717221764182: 15, 2.731552167992116: 5, 2.9690085710422327: 13, 0.7238927811662829: 6, 4.067860420881747: 16, 4.28763079084965: 28}\n",
      "../rcv_elections_database/single/Oakland_11082016_CityCouncilDistrict1.csv\n"
     ]
    },
    {
     "name": "stderr",
     "output_type": "stream",
     "text": [
      "/Users/es5891/Documents/GitHub/bugs-in-democracy/rcv_exploration/../rcv_learning/rcv_dimensionality.py:188: RuntimeWarning: divide by zero encountered in divide\n",
      "  distance = 1 / np.sqrt(freq_upper_triangle)\n"
     ]
    },
    {
     "name": "stdout",
     "output_type": "stream",
     "text": [
      "Normalized distances: {'DAN KALB': 0.0, 'KEVIN M. CORBETT': 1.0}\n"
     ]
    },
    {
     "name": "stderr",
     "output_type": "stream",
     "text": [
      "/Users/es5891/Documents/GitHub/bugs-in-democracy/rcv_exploration/../rcv_learning/rcv_dimensionality.py:188: RuntimeWarning: divide by zero encountered in divide\n",
      "  distance = 1 / np.sqrt(freq_upper_triangle)\n"
     ]
    },
    {
     "name": "stdout",
     "output_type": "stream",
     "text": [
      "Consistency points: {0.0: 16786, 0.25: 8321, 1.0: 3217}\n",
      "Error in file: ../rcv_elections_database/single/Oakland_11082016_CityCouncilDistrict1.csv\n",
      "unsupported operand type(s) for -: 'float' and 'NoneType'\n",
      "../rcv_elections_database/single/NewYorkCity_06222021_REPCouncilMember15thCouncilDistrict.csv\n"
     ]
    },
    {
     "name": "stderr",
     "output_type": "stream",
     "text": [
      "/Users/es5891/Documents/GitHub/bugs-in-democracy/rcv_exploration/../rcv_learning/rcv_dimensionality.py:188: RuntimeWarning: divide by zero encountered in divide\n",
      "  distance = 1 / np.sqrt(freq_upper_triangle)\n"
     ]
    },
    {
     "name": "stdout",
     "output_type": "stream",
     "text": [
      "Normalized distances: {'Ariel Rivera-Diaz': 0.0, 'Aramis Ocasio': 1.0}\n"
     ]
    },
    {
     "name": "stderr",
     "output_type": "stream",
     "text": [
      "/Users/es5891/Documents/GitHub/bugs-in-democracy/rcv_exploration/../rcv_learning/rcv_dimensionality.py:188: RuntimeWarning: divide by zero encountered in divide\n",
      "  distance = 1 / np.sqrt(freq_upper_triangle)\n"
     ]
    },
    {
     "name": "stdout",
     "output_type": "stream",
     "text": [
      "Consistency points: {0.0: 29, 1.0: 47, 0.25: 41}\n",
      "Error in file: ../rcv_elections_database/single/NewYorkCity_06222021_REPCouncilMember15thCouncilDistrict.csv\n",
      "unsupported operand type(s) for -: 'float' and 'NoneType'\n",
      "../rcv_elections_database/single/SanFrancisco_11052004_BoardofSupervisorsDistrict1.csv\n"
     ]
    },
    {
     "name": "stderr",
     "output_type": "stream",
     "text": [
      "/Users/es5891/Documents/GitHub/bugs-in-democracy/rcv_exploration/../rcv_learning/rcv_dimensionality.py:188: RuntimeWarning: divide by zero encountered in divide\n",
      "  distance = 1 / np.sqrt(freq_upper_triangle)\n"
     ]
    },
    {
     "name": "stdout",
     "output_type": "stream",
     "text": [
      "Normalized distances: {'Jeffrey S. Freebairn': 0.0, 'David Heller': 3.393332727047817, 'Leanna Dawydiak': 3.649015212489359, 'Jake McGoldrick': 4.030748913692973, 'Matt Tuchow': 4.27544972917606, 'Lillian Sing': 5.075954695858259, 'Rose Tsui': 6.0}\n"
     ]
    },
    {
     "name": "stderr",
     "output_type": "stream",
     "text": [
      "/Users/es5891/Documents/GitHub/bugs-in-democracy/rcv_exploration/../rcv_learning/rcv_dimensionality.py:188: RuntimeWarning: divide by zero encountered in divide\n",
      "  distance = 1 / np.sqrt(freq_upper_triangle)\n"
     ]
    },
    {
     "name": "stdout",
     "output_type": "stream",
     "text": [
      "Consistency points: {1.997954410197655: 241, 2.1286051329683158: 172, 2.0966448222881233: 211, 1.9340337888372696: 231, 2.0646845116079304: 125, 2.97693831473027: 29, 1.969251086307027: 2961, 3.455000454714137: 9, 2.606667272952183: 327, 2.3671886962205746: 48, 2.3366010942851885: 70, 2.3509847875106407: 188, 6.0: 17, 1.2650237730137062: 178, 1.2330634623335133: 194, 1.069841086665344: 404, 1.1853467496830616: 281, 1.3447007963443507: 78, 1.312740485664158: 158, 1.2807801749839651: 77, 1.1547591477476757: 405, 1.2344361710783203: 359, 1.2024758603981276: 371, 1.0086658827945725: 361, 1.1241715458122898: 241, 0.9240453041417399: 1478, 0.49231277157675674: 28, 1.075833409119023: 9, 0.6516668182380457: 22, 0.619706507557853: 41, 0.5877461968776602: 16, 0.36166204880609587: 149, 0.4413390721367404: 87, 0.4093787614565476: 64, 0.33107444687070997: 217, 0.23101132603543498: 135, 0.4617251696413709: 33, 0.5414021929720154: 29, 0.5094418822918225: 37, 0.0: 239, 1.8334421873451634: 114, 1.6856623538594366: 239, 1.7857254746947118: 120, 1.8450164005207257: 117, 1.7295107375030083: 42, 1.9450795213560008: 56, 1.913119210675808: 104, 1.7810957791603401: 83, 1.881158899995615: 37, 1.72455027082394: 285, 1.8824487471799376: 92, 1.818528125819552: 95, 2.236537973449914: 45, 0.5719897949074012: 19, 0.431137567705985: 33, 2.414905408871026: 23, 3.2632385906329806: 3, 0.5400294842272084: 24, 1.04387309843883: 7, 1.6655901161426225: 29, 3.129167045595114: 15, 1.5: 4, 2.193033978106305: 6, 2.793412703117955: 2}\n",
      "../rcv_elections_database/single/TakomaPark_11082022_Mayor.csv\n",
      "Skipping file: ../rcv_elections_database/single/TakomaPark_11082022_Mayor.csv\n",
      "../rcv_elections_database/single/Eastpointe_11052019_CityCouncil.csv\n",
      "Skipping file: ../rcv_elections_database/single/Eastpointe_11052019_CityCouncil.csv\n",
      "../rcv_elections_database/single/Alaska_11082022_SenateDistrictK.csv\n",
      "Skipping file: ../rcv_elections_database/single/Alaska_11082022_SenateDistrictK.csv\n",
      "../rcv_elections_database/single/SanFrancisco_11072006_BoardofSupervisorsDistrict2.csv\n"
     ]
    },
    {
     "name": "stderr",
     "output_type": "stream",
     "text": [
      "/Users/es5891/Documents/GitHub/bugs-in-democracy/rcv_exploration/../rcv_learning/rcv_dimensionality.py:188: RuntimeWarning: divide by zero encountered in divide\n",
      "  distance = 1 / np.sqrt(freq_upper_triangle)\n"
     ]
    },
    {
     "name": "stdout",
     "output_type": "stream",
     "text": [
      "Normalized distances: {'Michela Alioto-pier': 0.0, 'Vilma Guinto Peoro': 1.0}\n"
     ]
    },
    {
     "name": "stderr",
     "output_type": "stream",
     "text": [
      "/Users/es5891/Documents/GitHub/bugs-in-democracy/rcv_exploration/../rcv_learning/rcv_dimensionality.py:188: RuntimeWarning: divide by zero encountered in divide\n",
      "  distance = 1 / np.sqrt(freq_upper_triangle)\n"
     ]
    },
    {
     "name": "stdout",
     "output_type": "stream",
     "text": [
      "Consistency points: {0.0: 13153, 1.0: 2289, 0.25: 3697}\n",
      "Error in file: ../rcv_elections_database/single/SanFrancisco_11072006_BoardofSupervisorsDistrict2.csv\n",
      "unsupported operand type(s) for -: 'float' and 'NoneType'\n",
      "../rcv_elections_database/single/SanLeandro_11082016_CountyCouncilDistrict6.csv\n",
      "Error in file: ../rcv_elections_database/single/SanLeandro_11082016_CountyCouncilDistrict6.csv\n",
      "zero-size array to reduction operation minimum which has no identity\n",
      "../rcv_elections_database/single/Oakland_11032020_SchoolDirectorDist1OaklandRCV.csv\n"
     ]
    },
    {
     "name": "stderr",
     "output_type": "stream",
     "text": [
      "/Users/es5891/Documents/GitHub/bugs-in-democracy/rcv_exploration/../rcv_learning/rcv_dimensionality.py:188: RuntimeWarning: divide by zero encountered in divide\n",
      "  distance = 1 / np.sqrt(freq_upper_triangle)\n"
     ]
    },
    {
     "name": "stdout",
     "output_type": "stream",
     "text": [
      "Normalized distances: {'STACY THOMAS': 0.0, 'SAM DAVIS': 0.9055356231854464, 'AUSTIN DANNHAUS': 2.0}\n"
     ]
    },
    {
     "name": "stderr",
     "output_type": "stream",
     "text": [
      "/Users/es5891/Documents/GitHub/bugs-in-democracy/rcv_exploration/../rcv_learning/rcv_dimensionality.py:188: RuntimeWarning: divide by zero encountered in divide\n",
      "  distance = 1 / np.sqrt(freq_upper_triangle)\n"
     ]
    },
    {
     "name": "stdout",
     "output_type": "stream",
     "text": [
      "Consistency points: {1.065959764490904: 5045, 0.9055356231854464: 4252, 0.2263839057963616: 2565, 0.36319195289818085: 2032, 1.1791517173890849: 1474, 0.0: 866, 2.0: 2739, 0.5: 119}\n",
      "../rcv_elections_database/single/Easthampton_11022021_Mayor.csv\n",
      "Skipping file: ../rcv_elections_database/single/Easthampton_11022021_Mayor.csv\n",
      "../rcv_elections_database/single/NewYorkCity_06222021_DEMCouncilMember37thCouncilDistrict.csv\n"
     ]
    },
    {
     "name": "stderr",
     "output_type": "stream",
     "text": [
      "/Users/es5891/Documents/GitHub/bugs-in-democracy/rcv_exploration/../rcv_learning/rcv_dimensionality.py:188: RuntimeWarning: divide by zero encountered in divide\n",
      "  distance = 1 / np.sqrt(freq_upper_triangle)\n"
     ]
    },
    {
     "name": "stdout",
     "output_type": "stream",
     "text": [
      "Normalized distances: {'Heriberto Mateo': 0.0, 'Misba Abdin': 0.8313018833998522, 'Darma V. Diaz': 2.1932565436239826, 'Rick Echevarria': 2.8787463218310485, 'Sandy Nurse': 3.4377220564464, 'Christopher Durosinmi': 5.0}\n"
     ]
    },
    {
     "name": "stderr",
     "output_type": "stream",
     "text": [
      "/Users/es5891/Documents/GitHub/bugs-in-democracy/rcv_exploration/../rcv_learning/rcv_dimensionality.py:188: RuntimeWarning: divide by zero encountered in divide\n",
      "  distance = 1 / np.sqrt(freq_upper_triangle)\n"
     ]
    },
    {
     "name": "stdout",
     "output_type": "stream",
     "text": [
      "Consistency points: {3.476449994021211: 2207, 3.070061564711422: 1016, 2.360592947029425: 30, 2.4621900543568724: 28, 3.1716586720388693: 217, 1.058588436197422: 290, 2.124103407802093: 221, 3.6882941722385185: 37, 3.857337495515908: 109, 3.5525461735335666: 24, 3.0780956307335074: 9, 1.561456718325922: 70, 3.053413902425203: 34, 3.174035054630739: 3, 2.920224530974619: 38, 0.8691124985053027: 22, 2.8430775558515697: 10, 5.0: 104, 2.411391500693149: 6, 0.2646471090493555: 108, 0.0: 496, 0.39783648049993936: 149, 2.344796814967857: 4, 3.588618597882057: 8, 0.7675153911778555: 18, 3.4889430235255956: 3, 0.818313944841579: 2, 1.331060333521968: 1, 2.9537383280687415: 31, 3.5551048007879347: 4, 1.8534975764007178: 8, 0.5310258519505232: 4, 2.0950800210541636: 4, 1.3249671790985897: 15, 0.9135358202152534: 3, 1.4432119487122559: 3, 1.6122552719896457: 11, 3.4227812462632565: 13, 3.6216994865132266: 4, 2.245547005723721: 8, 2.352710674150134: 2, 1.6630538256533693: 19, 1.391370909624736: 2, 2.2274035755788413: 11, 2.3117159263366873: 5, 1.192643624573912: 6, 2.0439413271480666: 7, 2.278635037705518: 3, 3.1111765193646765: 7, 1.8026990227369943: 3, 2.5087442199186576: 2, 1.516222163230955: 2, 2.986819216699911: 13, 2.506613376066823: 1, 2.9449062592829236: 10, 2.196677128381611: 3, 3.3011120324693164: 3, 1.318360695106037: 1, 1.4686112255441177: 2, 1.4940105023759795: 2, 3.236385352254093: 3, 1.378671271208805: 4, 1.25: 2, 3.2033044636229233: 9, 1.0595562492526513: 1, 2.9206574394375724: 5, 0.48235814213863426: 1, 0.7222808360828883: 1, 0.7000691752279129: 1, 1.580249511165231: 5, 2.4346685834740414: 2, 3.170223574991754: 1, 1.6278604488520683: 2, 2.37642066539398: 1, 3.1687884779446387: 2, 1.0087576955889277: 1, 0.5160812501136055: 1, 1.5638331009177922: 2, 2.3685068062117027: 1, 1.6754713865389053: 1, 2.652633805104221: 1, 0.45695886530677243: 1}\n",
      "../rcv_elections_database/single/Berkeley_11022010_CityCouncilDistrict1.csv\n"
     ]
    },
    {
     "name": "stderr",
     "output_type": "stream",
     "text": [
      "/Users/es5891/Documents/GitHub/bugs-in-democracy/rcv_exploration/../rcv_learning/rcv_dimensionality.py:188: RuntimeWarning: divide by zero encountered in divide\n",
      "  distance = 1 / np.sqrt(freq_upper_triangle)\n"
     ]
    },
    {
     "name": "stdout",
     "output_type": "stream",
     "text": [
      "Normalized distances: {'ANTHONY Di DONATO': 0.0, 'JASPER KINGETER': 1.6651354482275398, 'LINDA MAIO': 2.1251243010994916, 'MERRILIE MITCHELL': 3.0}\n"
     ]
    },
    {
     "name": "stderr",
     "output_type": "stream",
     "text": [
      "/Users/es5891/Documents/GitHub/bugs-in-democracy/rcv_exploration/../rcv_learning/rcv_dimensionality.py:188: RuntimeWarning: divide by zero encountered in divide\n",
      "  distance = 1 / np.sqrt(freq_upper_triangle)\n"
     ]
    },
    {
     "name": "stdout",
     "output_type": "stream",
     "text": [
      "Consistency points: {2.1251243010994916: 1733, 1.6651354482275402: 248, 1.9988515861706553: 97, 2.3438432258246187: 130, 1.7907096551422126: 147, 1.5719907304170855: 89, 1.8894921238080915: 199, 3.0: 55, 2.078202688187182: 74, 1.7801326614455282: 185, 0.5831419310284425: 37, 0.0: 44, 0.6406405376374364: 9, 0.5312810752748729: 16, 0.41628386205688506: 10, 0.75: 6, 0.473782468665879: 19}\n",
      "../rcv_elections_database/single/NewYorkCity_06222021_DEMBoroughPresidentBronx.csv\n"
     ]
    },
    {
     "name": "stderr",
     "output_type": "stream",
     "text": [
      "/Users/es5891/Documents/GitHub/bugs-in-democracy/rcv_exploration/../rcv_learning/rcv_dimensionality.py:188: RuntimeWarning: divide by zero encountered in divide\n",
      "  distance = 1 / np.sqrt(freq_upper_triangle)\n"
     ]
    },
    {
     "name": "stdout",
     "output_type": "stream",
     "text": [
      "Normalized distances: {'Sammy Ravelo': 0.0, 'Luis R. Sepulveda': 1.301120215778128, 'Nathalia Fernandez': 2.2529894427502146, 'Fernando Cabrera': 3.0757403077693826, 'Vanessa L. Gibson': 4.0}\n"
     ]
    },
    {
     "name": "stderr",
     "output_type": "stream",
     "text": [
      "/Users/es5891/Documents/GitHub/bugs-in-democracy/rcv_exploration/../rcv_learning/rcv_dimensionality.py:188: RuntimeWarning: divide by zero encountered in divide\n",
      "  distance = 1 / np.sqrt(freq_upper_triangle)\n"
     ]
    },
    {
     "name": "stdout",
     "output_type": "stream",
     "text": [
      "Consistency points: {1.7000412728238847: 11623, 1.8698212628356818: 498, 2.6988797842218717: 3384, 1.737245741570396: 518, 0.4587635951097986: 368, 0.5498651321307195: 626, 0.6747199460554679: 1284, 1.4031416785478554: 252, 1.9497509006733815: 1300, 0.9712289766565168: 3947, 0.0: 15160, 0.4369961948904909: 1424, 4.0: 684, 0.4250103182059712: 2707, 1.1534320506983589: 740, 0.2428072441641292: 2855, 2.2750309546179137: 418, 2.0023967841009678: 156, 1.0320284286162942: 324, 2.006138348094155: 156, 2.0625257955149277: 91, 0.3963361881474244: 228, 1.1806666108321955: 351, 2.1123909276456474: 152, 0.3339087811850502: 771, 0.8373599730277339: 52, 1.7284217324923876: 87, 1.2782868646231071: 223, 1.0: 206, 0.7125051591029856: 100, 1.8586493636524604: 379, 1.221326617575262: 34, 1.5657817055201215: 42, 1.1400066040891288: 81, 1.880993162018903: 87, 3.024159838166404: 62, 0.4776562016335574: 133, 0.6311851456168526: 114, 1.4710362454247585: 29, 2.747501676179702: 13, 2.808203487220734: 11, 2.8993050242416554: 25, 2.6867998651386698: 26, 2.853754255731195: 10}\n",
      "../rcv_elections_database/single/NewYorkCity_06222021_DEMCouncilMember22ndCouncilDistrict.csv\n"
     ]
    },
    {
     "name": "stderr",
     "output_type": "stream",
     "text": [
      "/Users/es5891/Documents/GitHub/bugs-in-democracy/rcv_exploration/../rcv_learning/rcv_dimensionality.py:188: RuntimeWarning: divide by zero encountered in divide\n",
      "  distance = 1 / np.sqrt(freq_upper_triangle)\n"
     ]
    },
    {
     "name": "stdout",
     "output_type": "stream",
     "text": [
      "Normalized distances: {'John J. Ciafone': 0.0, 'Evie Hantzopoulos': 2.2005698848761894, 'Tiffany Caban': 2.3994825081851183, 'Catherina Gioino': 3.700337109722365, 'Leonardo T. Bullaro': 4.420261825648487, 'Nick Velkov': 5.0}\n"
     ]
    },
    {
     "name": "stderr",
     "output_type": "stream",
     "text": [
      "/Users/es5891/Documents/GitHub/bugs-in-democracy/rcv_exploration/../rcv_learning/rcv_dimensionality.py:188: RuntimeWarning: divide by zero encountered in divide\n",
      "  distance = 1 / np.sqrt(freq_upper_triangle)\n"
     ]
    },
    {
     "name": "stdout",
     "output_type": "stream",
     "text": [
      "Consistency points: {0.0: 581, 2.272708893369604: 2100, 3.7604954016613736: 28, 2.084305566212362: 876, 2.954531670027203: 111, 2.024351027167405: 8, 0.568177223342401: 50, 2.724547052671606: 78, 0.6634364766813694: 3, 4.080061530577613: 122, 3.347327202215165: 316, 2.4000609752130626: 125, 1.0200153826444032: 13, 0.5210763915530905: 131, 2.606645074936167: 36, 2.1314063980016726: 773, 2.8132291746592717: 64, 5.0: 208, 0.6789540960534408: 49, 2.4916527662583685: 7, 2.583244557303675: 39, 1.0434159002768957: 24, 2.541363470580994: 106, 4.084127068282209: 2, 0.6575863472732463: 2, 3.39487157049241: 4, 0.9284235915990973: 8, 2.6329552616263: 11, 0.8368318005537912: 97, 3.6026176971610235: 14, 0.8855381957765452: 19, 1.25: 36, 2.1395227794365175: 11, 0.9090886116712005: 12, 0.6863344244426959: 3, 0.7705458870987468: 7, 0.6117904517505933: 7, 0.5446268074477457: 9, 2.2572748589097937: 16, 4.218454356887904: 2, 2.6704430583560024: 15, 2.0530991043368547: 2, 1.1350076913222016: 4, 2.552690978882726: 9, 2.7479475703040985: 24, 0.6346883995119198: 4, 2.698236865981473: 9, 4.072351860334881: 2, 2.4404584410004055: 3, 3.3726330798054267: 2, 0.828042041437646: 3, 4.007217311390744: 5, 2.3227063615271293: 5, 4.3100461479332095: 4, 2.8395393613494044: 15, 3.342079501384478: 7, 0.7770484846401987: 3, 3.3961834957000816: 1, 3.800038456611008: 2, 3.4759251296669786: 1, 0.7025045119480962: 4, 2.6059032644684983: 1, 2.619429263047399: 5, 0.7534980687455434: 4, 2.3217536815482447: 3, 3.530510784305777: 5, 3.942082762446608: 3, 3.43605431268353: 1, 2.135464588719095: 4, 2.549148920597268: 2, 0.8057965618096483: 1, 2.690451415965199: 1, 0.782246145914993: 5, 3.645503092983575: 2, 2.4277305530741935: 5, 4.060576652387553: 5, 0.7247499915760938: 1, 0.9859197459379965: 3, 0.7150825016121455: 2, 2.4524991194259598: 1, 3.3713211545977546: 1, 0.7483004074707491: 1, 1.9956029499979553: 3, 3.112094884028881: 2, 3.242363981917154: 1, 0.7940963029934021: 1}\n",
      "../rcv_elections_database/single/Alaska_11082022_SenateDistrictO.csv\n",
      "Skipping file: ../rcv_elections_database/single/Alaska_11082022_SenateDistrictO.csv\n",
      "../rcv_elections_database/single/SanLeandro_11082016_CountyCouncilDistrict2.csv\n"
     ]
    },
    {
     "name": "stderr",
     "output_type": "stream",
     "text": [
      "/Users/es5891/Documents/GitHub/bugs-in-democracy/rcv_exploration/../rcv_learning/rcv_dimensionality.py:188: RuntimeWarning: divide by zero encountered in divide\n",
      "  distance = 1 / np.sqrt(freq_upper_triangle)\n"
     ]
    },
    {
     "name": "stdout",
     "output_type": "stream",
     "text": [
      "Normalized distances: {'ED HERNANDEZ': 0.0, 'BRYAN AZEVEDO': 1.0}\n"
     ]
    },
    {
     "name": "stderr",
     "output_type": "stream",
     "text": [
      "/Users/es5891/Documents/GitHub/bugs-in-democracy/rcv_exploration/../rcv_learning/rcv_dimensionality.py:188: RuntimeWarning: divide by zero encountered in divide\n",
      "  distance = 1 / np.sqrt(freq_upper_triangle)\n"
     ]
    },
    {
     "name": "stdout",
     "output_type": "stream",
     "text": [
      "Consistency points: {0.25: 8487, 0.0: 6173, 1.0: 6122}\n",
      "Error in file: ../rcv_elections_database/single/SanLeandro_11082016_CountyCouncilDistrict2.csv\n",
      "unsupported operand type(s) for -: 'float' and 'NoneType'\n",
      "../rcv_elections_database/single/SanFrancisco_11072006_BoardofSupervisorsDistrict6.csv\n"
     ]
    },
    {
     "name": "stderr",
     "output_type": "stream",
     "text": [
      "/Users/es5891/Documents/GitHub/bugs-in-democracy/rcv_exploration/../rcv_learning/rcv_dimensionality.py:188: RuntimeWarning: divide by zero encountered in divide\n",
      "  distance = 1 / np.sqrt(freq_upper_triangle)\n"
     ]
    },
    {
     "name": "stdout",
     "output_type": "stream",
     "text": [
      "Normalized distances: {'Chris Daly': 0.0, 'George Dias': 0.6406907597926761, 'Manuel Jimenez, Jr.': 1.8398389046581367, 'Rob Black': 2.061718702294451, 'Matt Drake': 2.194112549157717, 'Davy Jones': 2.665744312976276, 'Viliam Dugovic': 3.621793689500606, 'Robert Jordan': 7.0}\n"
     ]
    },
    {
     "name": "stderr",
     "output_type": "stream",
     "text": [
      "/Users/es5891/Documents/GitHub/bugs-in-democracy/rcv_exploration/../rcv_learning/rcv_dimensionality.py:188: RuntimeWarning: divide by zero encountered in divide\n",
      "  distance = 1 / np.sqrt(freq_upper_triangle)\n"
     ]
    },
    {
     "name": "stdout",
     "output_type": "stream",
     "text": [
      "Consistency points: {0.0: 4522, 2.2931883771810524: 2850, 2.1651168689885574: 264, 2.31501038709674: 307, 0.5785483984059241: 107, 0.6125424412857892: 231, 1.8851881870291354: 6, 7.0: 47, 0.5732970942952631: 573, 2.418777503087394: 22, 0.7053787154553421: 136, 2.607151153105261: 149, 1.8398389046581367: 73, 2.0212360341421314: 96, 0.5166284102298986: 118, 1.75: 22, 0.5558737572204246: 40, 0.539303051415398: 145, 0.9858270783800399: 3, 2.3376850282822392: 171, 0.4826343673500335: 63, 0.9054484223751516: 118, 0.6406907597926761: 35, 1.8817734486617352: 9, 2.3716790711621045: 357, 2.294545130932332: 7, 0.7393727583352073: 166, 0.3100662080563516: 57, 2.0892241199018615: 10, 0.7786181053257334: 58, 1.16322214411435: 4, 1.9924216197793916: 11, 0.5053090085355328: 98, 3.621793689500606: 63, 2.3386911581133094: 30, 2.128469466892388: 13, 1.3277242111875758: 58, 2.6253397052609406: 28, 1.9150603096151473: 7, 0.6827040742698429: 48, 2.055347737786487: 2, 0.6517877882763152: 51, 1.1323058581208223: 7, 2.42137544798175: 8, 1.2008938941381575: 22, 4.466345267125455: 4, 0.9404777960090412: 9, 0.9971464800744057: 9, 1.8016871036876507: 3, 1.0363918270649317: 6, 2.1677148138829136: 4, 0.16017268994816902: 27, 1.803282754680683: 6, 0.4599597261645342: 53, 1.9166559606081797: 8, 1.0538151641397702: 5, 1.2198908281797145: 4, 0.9631524371945406: 6, 3.2659270256065986: 4, 3.469891282885789: 13, 1.9531762727888657: 7, 2.0665494787163623: 9, 2.168720943713984: 6, 3.1298791784936024: 2, 1.7231964097065986: 11, 2.5349178930659395: 11, 1.1858967852998492: 3, 4.013621055937879: 3, 2.615004238040024: 2, 1.0930605111302962: 8, 1.2591361751702403: 4, 1.019821121259905: 3, 2.8608117872040975: 6, 2.1354340827605713: 1, 2.230518069844507: 3, 3.705363364828946: 2, 2.031666966769918: 3, 2.7648977561482067: 3, 1.9191822299090004: 5, 2.1584972838193357: 1, 1.0590664682504312: 1, 2.2488072886880683: 1, 1.9951466545892318: 1}\n",
      "../rcv_elections_database/single/Berkeley_11062018_CityAuditor.csv\n"
     ]
    },
    {
     "name": "stderr",
     "output_type": "stream",
     "text": [
      "/Users/es5891/Documents/GitHub/bugs-in-democracy/rcv_exploration/../rcv_learning/rcv_dimensionality.py:188: RuntimeWarning: divide by zero encountered in divide\n",
      "  distance = 1 / np.sqrt(freq_upper_triangle)\n"
     ]
    },
    {
     "name": "stdout",
     "output_type": "stream",
     "text": [
      "Normalized distances: {'VLADISLAV S. DAVIDZON': 0.0, 'JENNY WONG': 1.0}\n"
     ]
    },
    {
     "name": "stderr",
     "output_type": "stream",
     "text": [
      "/Users/es5891/Documents/GitHub/bugs-in-democracy/rcv_exploration/../rcv_learning/rcv_dimensionality.py:188: RuntimeWarning: divide by zero encountered in divide\n",
      "  distance = 1 / np.sqrt(freq_upper_triangle)\n"
     ]
    },
    {
     "name": "stdout",
     "output_type": "stream",
     "text": [
      "Consistency points: {0.0: 1515, 1.0: 31066, 0.25: 2504}\n",
      "Error in file: ../rcv_elections_database/single/Berkeley_11062018_CityAuditor.csv\n",
      "unsupported operand type(s) for -: 'float' and 'NoneType'\n",
      "../rcv_elections_database/single/Vineyard_11052019_CityCouncil.csv\n",
      "Skipping file: ../rcv_elections_database/single/Vineyard_11052019_CityCouncil.csv\n",
      "../rcv_elections_database/single/NewYorkCity_06222021_DEMCouncilMember25thCouncilDistrict.csv\n"
     ]
    },
    {
     "name": "stderr",
     "output_type": "stream",
     "text": [
      "/Users/es5891/Documents/GitHub/bugs-in-democracy/rcv_exploration/../rcv_learning/rcv_dimensionality.py:188: RuntimeWarning: divide by zero encountered in divide\n",
      "  distance = 1 / np.sqrt(freq_upper_triangle)\n"
     ]
    },
    {
     "name": "stdout",
     "output_type": "stream",
     "text": [
      "Normalized distances: {'Fatima Baryab': 0.0, 'Liliana C. Melo': 0.7061394210686434, 'Carolyn Tran': 1.4197298767397721, 'Yi Andy Chen': 1.5749780547274588, 'Shekar Krishnan': 2.5935288970949713, 'Manuel F. Perez': 4.33899141157953, 'Alfonso Quiroz': 4.375444444184509, 'William H. Salgado': 7.0}\n"
     ]
    },
    {
     "name": "stderr",
     "output_type": "stream",
     "text": [
      "/Users/es5891/Documents/GitHub/bugs-in-democracy/rcv_exploration/../rcv_learning/rcv_dimensionality.py:188: RuntimeWarning: divide by zero encountered in divide\n",
      "  distance = 1 / np.sqrt(freq_upper_triangle)\n"
     ]
    },
    {
     "name": "stdout",
     "output_type": "stream",
     "text": [
      "Consistency points: {1.3850943785837388: 382, 4.359154410349966: 286, 2.566178908942407: 726, 1.4241473208268116: 125, 1.9044874488493506: 117, 1.1092652614313994: 103, 1.680365511173406: 386, 1.4357430477239865: 6, 1.4027817290172273: 7, 4.322475121862065: 129, 1.3289639458698106: 7, 1.5413061475560297: 2323, 3.0144227842942968: 121, 0.8530470710848052: 43, 0.6415447272356017: 16, 0.6236273789277303: 523, 2.2457682132545136: 42, 1.8999025377883632: 4, 0.1559068447319326: 14, 0.0: 326, 1.797524337902624: 71, 0.9616296951365659: 7, 7.0: 94, 0.3462735946459347: 11, 1.6828144918240866: 6, 2.788820783937804: 4, 0.9513873759984954: 6, 1.382926610679522: 2, 1.4588122134362134: 7, 2.732627131859479: 3, 2.2365983911325387: 16, 1.771060888201794: 12, 3.009837873233309: 8, 4.33164494398404: 24, 0.5134356320623046: 1, 1.4136211682534139: 6, 1.0806187804655163: 11, 2.241183302193526: 4, 0.8139941288417325: 16, 1.3288022880463566: 5, 2.0170613645175814: 5, 1.5575091367832892: 8, 0.9695111459396559: 2, 0.7360407064757661: 13, 0.8552486240932443: 5, 0.9811561662581023: 23, 4.991856341396549: 10, 2.1286093865252953: 48, 2.6936504206764957: 12, 1.9403102051600243: 3, 1.3333871991073445: 6, 0.9536056319689037: 4, 1.3594975296864855: 5, 0.9524594042036567: 3, 4.624683748486758: 4, 2.021646275578569: 11, 0.9960070861972332: 2, 2.1194395644033204: 6, 0.3853265368890074: 18, 0.7750936487188389: 7, 0.8335205999632689: 11, 2.7716038430424623: 14, 3.6746341817068053: 4, 2.019353820048075: 3, 1.4961475929299777: 2, 1.006271632652235: 1, 1.4368892754892333: 1, 3.0052529621723214: 12, 2.762434020920487: 5, 2.684480598554521: 4, 2.124024475464308: 1, 0.6059701297787407: 1, 1.4198943012937457: 7, 2.4587150852315496: 1, 0.8965031193447561: 1, 3.344528483000551: 3, 1.75: 11, 1.0897886025874914: 24, 0.4939091609407682: 5, 1.7809765858827413: 1, 1.5072287138504386: 9, 2.905979610667022: 12, 2.857617395877488: 6, 1.548339314661314: 6, 2.2177205341957977: 2, 4.451546951163791: 5, 4.474471506468729: 13, 1.8876148354895435: 1, 4.647608303791696: 1, 5.019365807762474: 13, 1.085203691526504: 9, 0.7329726586772618: 3, 1.4153093902327583: 3, 4.529500373529757: 1, 1.7786841303522476: 1, 4.4905236623467735: 1, 0.48588509777310585: 2, 0.7375575697382495: 3, 1.6048610694581202: 4, 2.8494516914244086: 2, 4.667134774913232: 2, 0.5407693544268452: 3, 1.2502565408796311: 8, 0.36580006576747104: 1, 0.7080230255768406: 1, 1.381780382914275: 1, 0.9525336037637424: 4, 0.9112791085122305: 2, 1.9021949933188569: 2, 1.3461624754406394: 1, 2.936020090085892: 2, 1.6379985732608693: 4, 1.3310947435768505: 2, 1.856637552718214: 2, 0.968364918174409: 3, 1.731895538853414: 2, 1.0074178604174817: 1, 1.6391448010261163: 4, 0.9101328807469836: 2, 0.9123344337554228: 2, 3.1748907225864365: 1, 4.57080314069098: 2, 0.9459006340576164: 1, 1.3473087032058864: 1, 2.8927358907551506: 1, 1.730749311088167: 3, 0.25109021968893364: 4, 2.3154358508601485: 1, 1.5529242257223017: 1, 4.644210219608294: 2, 1.7699146604365472: 2, 0.27061669081047: 1, 1.8577837804834607: 1, 2.9675156751772804: 2, 4.567366940977534: 1, 0.8610817538505591: 1, 2.4541301741705626: 1, 1.4576659856709666: 3, 0.7945438887802857: 2, 1.6931074658358276: 1, 4.614087340021722: 1, 4.538115349825274: 1, 1.6919612380705806: 1, 0.9134806615206696: 2, 2.8884284026073916: 1, 3.0269853117029415: 1, 0.8975751475499174: 1, 2.0239828576018346: 1, 1.6438377806411035: 1, 1.8589300082487075: 1}\n",
      "../rcv_elections_database/single/Minneapolis_11072017_PRBoardDistrict5.csv\n"
     ]
    },
    {
     "name": "stderr",
     "output_type": "stream",
     "text": [
      "/Users/es5891/Documents/GitHub/bugs-in-democracy/rcv_exploration/../rcv_learning/rcv_dimensionality.py:188: RuntimeWarning: divide by zero encountered in divide\n",
      "  distance = 1 / np.sqrt(freq_upper_triangle)\n"
     ]
    },
    {
     "name": "stdout",
     "output_type": "stream",
     "text": [
      "Normalized distances: {'Andrea Fahrenkrug': 0.0, 'Steffanie Musich': 1.0036594693471281, 'Bill Shroyer': 2.0}\n"
     ]
    },
    {
     "name": "stderr",
     "output_type": "stream",
     "text": [
      "/Users/es5891/Documents/GitHub/bugs-in-democracy/rcv_exploration/../rcv_learning/rcv_dimensionality.py:188: RuntimeWarning: divide by zero encountered in divide\n",
      "  distance = 1 / np.sqrt(freq_upper_triangle)\n"
     ]
    },
    {
     "name": "stdout",
     "output_type": "stream",
     "text": [
      "Consistency points: {1.1272871683419547: 1260, 1.2527446020103459: 1047, 1.0036594693471277: 4386, 0.0: 676, 2.0: 1434, 0.37545743366839096: 1047, 0.5: 232, 0.2509148673367819: 341}\n",
      "../rcv_elections_database/single/Minneapolis_11062009_Ward1CityCouncil.csv\n"
     ]
    },
    {
     "name": "stderr",
     "output_type": "stream",
     "text": [
      "/Users/es5891/Documents/GitHub/bugs-in-democracy/rcv_exploration/../rcv_learning/rcv_dimensionality.py:188: RuntimeWarning: divide by zero encountered in divide\n",
      "  distance = 1 / np.sqrt(freq_upper_triangle)\n"
     ]
    },
    {
     "name": "stdout",
     "output_type": "stream",
     "text": [
      "Normalized distances: {'Mark Fox': 0.0, 'Thomas Alessi': 1.3192701569919782, 'Kevin Reich': 2.5929365962260573, 'Larry Ranallo': 3.308674731923834, 'Susan Howitz Hanna': 4.0}\n"
     ]
    },
    {
     "name": "stderr",
     "output_type": "stream",
     "text": [
      "/Users/es5891/Documents/GitHub/bugs-in-democracy/rcv_exploration/../rcv_learning/rcv_dimensionality.py:188: RuntimeWarning: divide by zero encountered in divide\n",
      "  distance = 1 / np.sqrt(freq_upper_triangle)\n"
     ]
    },
    {
     "name": "stdout",
     "output_type": "stream",
     "text": [
      "Consistency points: {1.319270156991978: 130, 1.9894526177439835: 5, 1.816621300724942: 58, 1.9030369592344627: 18, 1.4727779971765007: 2, 1.8135696922722406: 5, 1.72715403376272: 7, 1.6376867668004977: 5, 0.5784931111144765: 7, 0.4890258441522544: 6, 0.3298175392479945: 6, 1.0: 6, 0.9135843414904793: 7, 0.8271686829809586: 5, 0.6482341490565143: 16, 0.8241170745282571: 23, 0.7377014160187365: 10, 0.0: 36, 4.0: 142, 2.5929365962260573: 771, 3.232830477076394: 17, 3.0679217074523963: 20, 3.3920387819806535: 73, 3.481506048942876: 40, 3.3086747319238343: 403, 2.944702447169543: 425, 2.785494142265283: 35, 2.620585372641286: 96, 2.7718711301505015: 121, 2.612662825246242: 13, 2.4477540556222444: 28, 2.8582867886600223: 123}\n",
      "../rcv_elections_database/single/Oakland_11082016_CityCouncilDistrict5.csv\n"
     ]
    },
    {
     "name": "stderr",
     "output_type": "stream",
     "text": [
      "/Users/es5891/Documents/GitHub/bugs-in-democracy/rcv_exploration/../rcv_learning/rcv_dimensionality.py:188: RuntimeWarning: divide by zero encountered in divide\n",
      "  distance = 1 / np.sqrt(freq_upper_triangle)\n"
     ]
    },
    {
     "name": "stdout",
     "output_type": "stream",
     "text": [
      "Normalized distances: {'NOEL GALLO': 0.0, 'VIOLA GONZALES': 1.0}\n"
     ]
    },
    {
     "name": "stderr",
     "output_type": "stream",
     "text": [
      "/Users/es5891/Documents/GitHub/bugs-in-democracy/rcv_exploration/../rcv_learning/rcv_dimensionality.py:188: RuntimeWarning: divide by zero encountered in divide\n",
      "  distance = 1 / np.sqrt(freq_upper_triangle)\n"
     ]
    },
    {
     "name": "stdout",
     "output_type": "stream",
     "text": [
      "Consistency points: {1.0: 4514, 0.0: 2877, 0.25: 3181}\n",
      "Error in file: ../rcv_elections_database/single/Oakland_11082016_CityCouncilDistrict5.csv\n",
      "unsupported operand type(s) for -: 'float' and 'NoneType'\n",
      "../rcv_elections_database/single/StLouisPark_11022021_CityCouncilWard4.csv\n",
      "Error in file: ../rcv_elections_database/single/StLouisPark_11022021_CityCouncilWard4.csv\n",
      "zero-size array to reduction operation minimum which has no identity\n",
      "../rcv_elections_database/single/Minneapolis_11062009_Ward9CityCouncil.csv\n"
     ]
    },
    {
     "name": "stderr",
     "output_type": "stream",
     "text": [
      "/Users/es5891/Documents/GitHub/bugs-in-democracy/rcv_exploration/../rcv_learning/rcv_dimensionality.py:188: RuntimeWarning: divide by zero encountered in divide\n",
      "  distance = 1 / np.sqrt(freq_upper_triangle)\n"
     ]
    },
    {
     "name": "stdout",
     "output_type": "stream",
     "text": [
      "Normalized distances: {'Todd J. Eberhardy': 0.0, 'Dave Bicking': 1.2900991570269695, 'Gary Schiff': 1.7168286974492202, 'Khalif Jama': 3.0}\n"
     ]
    },
    {
     "name": "stderr",
     "output_type": "stream",
     "text": [
      "/Users/es5891/Documents/GitHub/bugs-in-democracy/rcv_exploration/../rcv_learning/rcv_dimensionality.py:188: RuntimeWarning: divide by zero encountered in divide\n",
      "  distance = 1 / np.sqrt(freq_upper_triangle)\n"
     ]
    },
    {
     "name": "stdout",
     "output_type": "stream",
     "text": [
      "Consistency points: {1.3898536876563425: 445, 1.229457274837495: 201, 1.7099008429730307: 172, 1.8186880268581442: 39, 2.032425632229773: 44, 0.0: 27, 0.32079282563769496: 11, 0.5353964128188475: 6, 0.3741340181904763: 9, 3.0: 142, 1.5519820640942374: 14, 1.7123784769130848: 23, 1.2831713025507798: 757, 0.42747521074325767: 4, 0.5887376053716289: 6}\n",
      "../rcv_elections_database/single/NewYorkCity_06222021_DEMCouncilMember6thCouncilDistrict.csv\n"
     ]
    },
    {
     "name": "stderr",
     "output_type": "stream",
     "text": [
      "/Users/es5891/Documents/GitHub/bugs-in-democracy/rcv_exploration/../rcv_learning/rcv_dimensionality.py:188: RuntimeWarning: divide by zero encountered in divide\n",
      "  distance = 1 / np.sqrt(freq_upper_triangle)\n"
     ]
    },
    {
     "name": "stdout",
     "output_type": "stream",
     "text": [
      "Normalized distances: {'Zachary Tov Weiner': 0.0, 'Gale A. Brewer': 1.9393209083252834, 'David Gold': 2.1328911639404566, 'Sara Lind': 3.140792347539965, 'Jeffrey Omura': 3.643181286915417, 'Maria Danzilo': 5.0}\n"
     ]
    },
    {
     "name": "stderr",
     "output_type": "stream",
     "text": [
      "/Users/es5891/Documents/GitHub/bugs-in-democracy/rcv_exploration/../rcv_learning/rcv_dimensionality.py:188: RuntimeWarning: divide by zero encountered in divide\n",
      "  distance = 1 / np.sqrt(freq_upper_triangle)\n"
     ]
    },
    {
     "name": "stdout",
     "output_type": "stream",
     "text": [
      "Consistency points: {3.0606790916747166: 10353, 2.9155013999633366: 189, 1.25: 400, 0.0: 1505, 2.1595755122637055: 659, 3.4003316270446575: 91, 1.8592076524600354: 819, 0.46480191311500885: 193, 3.5455093187560376: 281, 2.1111829483599123: 119, 1.7827838077321174: 461, 1.3568187130845843: 774, 1.787635771428541: 4, 2.8671088360595434: 377, 0.7651697729186792: 613, 0.5521872255949126: 52, 0.6006928630041293: 5, 1.482415947928447: 334, 2.019178752033057: 9, 1.878781991802408: 14, 0.7409734909667824: 45, 0.9833886045074429: 35, 0.40200329569307747: 50, 2.833222298632816: 5, 2.135379230311809: 54, 0.614985843016844: 184, 0.531649968541186: 8, 1.0075848864593395: 56, 0.5907895610649474: 44, 0.3392046782711461: 134, 5.0: 295, 0.7167772090148858: 89, 1.5236024263105992: 7, 3.332526771432271: 32, 2.401990625804366: 31, 0.8574009565575045: 19, 0.5279909436430159: 34, 2.1234762958888984: 25, 1.9271745557062012: 95, 2.2446838526592288: 6, 2.0251989212727777: 24, 0.47104619015602084: 7, 1.5477987082624958: 31, 2.0010026393208813: 13, 2.2565867870821394: 6, 1.6131814685965444: 49, 3.162924432296698: 32, 1.5781011520704407: 16, 1.7343912438283242: 46, 1.879795082550551: 6, 3.0419430225372146: 6, 1.7585875257802208: 37, 2.6444057393450264: 31, 1.407206741478809: 7, 1.4799086608399223: 14, 2.789513752013398: 34, 0.6733947823652429: 9, 2.2676140348134384: 23, 1.8408802990287578: 4, 0.7240952588112259: 3, 2.8247672921755718: 12, 0.8621810477371127: 5, 0.5376990390291602: 9, 1.564788904692751: 9, 3.211545361672788: 13, 0.6612966413892944: 6, 2.7704236812108847: 4, 1.6737863562124342: 3, 2.1840800742740636: 10, 0.7361933997871742: 11, 1.3128136087928741: 40, 1.413255811966783: 13, 1.4193048824547574: 15, 0.6634914804260608: 6, 0.4649971196680467: 6, 2.293076416563022: 13, 0.47709526064399504: 12, 3.2477256018644844: 4, 1.7924877351249644: 5, 0.6028877020408957: 10, 1.5405124392250875: 1, 2.9228194497596767: 1, 2.8600208323377454: 2, 0.5983028174143252: 5, 2.123474077427449: 3, 2.117328512893681: 3, 2.0750815135236556: 1, 0.5400890846189642: 2}\n",
      "../rcv_elections_database/single/Minneapolis_11072017_PRBoardDistrict4.csv\n"
     ]
    },
    {
     "name": "stderr",
     "output_type": "stream",
     "text": [
      "/Users/es5891/Documents/GitHub/bugs-in-democracy/rcv_exploration/../rcv_learning/rcv_dimensionality.py:188: RuntimeWarning: divide by zero encountered in divide\n",
      "  distance = 1 / np.sqrt(freq_upper_triangle)\n"
     ]
    },
    {
     "name": "stdout",
     "output_type": "stream",
     "text": [
      "Normalized distances: {'Tom Nordyke': 0.0, 'Jono Cowgill': 1.0}\n"
     ]
    },
    {
     "name": "stderr",
     "output_type": "stream",
     "text": [
      "/Users/es5891/Documents/GitHub/bugs-in-democracy/rcv_exploration/../rcv_learning/rcv_dimensionality.py:188: RuntimeWarning: divide by zero encountered in divide\n",
      "  distance = 1 / np.sqrt(freq_upper_triangle)\n"
     ]
    },
    {
     "name": "stdout",
     "output_type": "stream",
     "text": [
      "Consistency points: {1.0: 3843, 0.0: 3548, 0.25: 3257}\n",
      "Error in file: ../rcv_elections_database/single/Minneapolis_11072017_PRBoardDistrict4.csv\n",
      "unsupported operand type(s) for -: 'float' and 'NoneType'\n",
      "../rcv_elections_database/single/Oakland_11032020_MemberCityCouncilAtLargeOaklandRCV.csv\n"
     ]
    },
    {
     "name": "stderr",
     "output_type": "stream",
     "text": [
      "/Users/es5891/Documents/GitHub/bugs-in-democracy/rcv_exploration/../rcv_learning/rcv_dimensionality.py:188: RuntimeWarning: divide by zero encountered in divide\n",
      "  distance = 1 / np.sqrt(freq_upper_triangle)\n"
     ]
    },
    {
     "name": "stdout",
     "output_type": "stream",
     "text": [
      "Normalized distances: {'NANCY SIDEBOTHAM': 0.0, 'DERRECK B. JOHNSON': 1.0542212468454455, 'REBECCA KAPLAN': 2.0}\n"
     ]
    },
    {
     "name": "stderr",
     "output_type": "stream",
     "text": [
      "/Users/es5891/Documents/GitHub/bugs-in-democracy/rcv_exploration/../rcv_learning/rcv_dimensionality.py:188: RuntimeWarning: divide by zero encountered in divide\n",
      "  distance = 1 / np.sqrt(freq_upper_triangle)\n"
     ]
    },
    {
     "name": "stdout",
     "output_type": "stream",
     "text": [
      "Consistency points: {0.3817776558556807: 5215, 1.1588882792784034: 26667, 2.0: 32707, 1.0542212468454455: 16819, 0.2635553117113614: 2226, 1.2906659351340841: 8496, 0.0: 3007, 0.5: 739}\n",
      "../rcv_elections_database/single/NewYorkCity_06222021_DEMCouncilMember18thCouncilDistrict.csv\n"
     ]
    },
    {
     "name": "stderr",
     "output_type": "stream",
     "text": [
      "/Users/es5891/Documents/GitHub/bugs-in-democracy/rcv_exploration/../rcv_learning/rcv_dimensionality.py:188: RuntimeWarning: divide by zero encountered in divide\n",
      "  distance = 1 / np.sqrt(freq_upper_triangle)\n"
     ]
    },
    {
     "name": "stdout",
     "output_type": "stream",
     "text": [
      "Normalized distances: {'Mirza M. Rashid': 0.0, 'Mohammed Mujumder': 1.9236682938070346, 'Michael Beltzer': 3.5624325600406634, 'Amanda Farias': 3.6411467572365064, 'William Rivera': 4.194841512198795, 'Darlene Jackson': 5.285936470178157, 'Eliu A. Lara': 6.549678714691737, 'William Russell Moore': 7.0}\n"
     ]
    },
    {
     "name": "stderr",
     "output_type": "stream",
     "text": [
      "/Users/es5891/Documents/GitHub/bugs-in-democracy/rcv_exploration/../rcv_learning/rcv_dimensionality.py:188: RuntimeWarning: divide by zero encountered in divide\n",
      "  distance = 1 / np.sqrt(freq_upper_triangle)\n"
     ]
    },
    {
     "name": "stdout",
     "output_type": "stream",
     "text": [
      "Consistency points: {3.0217163207591313: 12, 2.483371756765063: 2, 2.2990553996357406: 402, 1.511396350717049: 8, 3.1639818684146173: 279, 2.9010051955727763: 899, 2.5810311850409198: 52, 5.642274313096978: 176, 3.95291188694014: 1293, 2.4602819708355703: 2, 0.0: 35, 1.2488433344108183: 164, 2.9622358992946047: 103, 3.1459280104600906: 430, 5.189699084129304: 388, 3.473178667711908: 62, 2.480158200480914: 43, 2.8869921748024754: 36, 5.174874752304113: 3, 2.4495428486199993: 129, 2.6116465369018345: 12, 2.8817960591313123: 3, 1.8239874879831426: 9, 7.0: 211, 1.7231145034231363: 38, 2.7125195214618403: 94, 0.7157517426115249: 1, 1.7181284116300988: 8, 2.821353920725918: 2, 2.569244292673078: 6, 2.375493592204018: 9, 3.009848591442506: 2, 3.3476739795801027: 43, 4.084959874780944: 2, 0.7864820026150227: 3, 2.9574616357693726: 17, 4.109446007845068: 9, 0.7252512988931941: 3, 5.356187577027412: 41, 5.318565714781347: 4, 3.9257538966795824: 13, 5.487675913448332: 28, 3.0098896467696634: 2, 1.6618837997013078: 11, 4.262108686237431: 37, 3.241814903227059: 6, 2.4662029616326184: 12, 2.8928756047433093: 2, 1.6989485854280872: 1, 4.092998487570446: 1, 1.9248604725431486: 18, 2.530594692760917: 5, 2.898759034684143: 3, 1.9012866878074655: 1, 2.9527363430129356: 9, 1.6172554270700927: 1, 2.8620799306512863: 4, 2.5842447413250693: 3, 3.007502515007047: 2, 2.414519946404356: 5, 2.510773552341828: 45, 2.379497044188713: 11, 3.4742915497268054: 4, 2.855797425124709: 1, 4.241149529280088: 6, 0.8567396353141146: 5, 0.5747638499089351: 5, 5.229208782434909: 2, 2.1621609236655317: 5, 2.7343343958046638: 1, 2.421632370923409: 4, 2.6866325008081136: 1, 2.2233916273873606: 1, 3.266658435066663: 2, 3.28835341557823: 6, 2.9011062848516245: 19, 2.80135621896802: 20, 1.6523842434196385: 1, 4.488396300721268: 1, 1.8381571473753457: 1, 0.988227971735035: 11, 1.692499151562222: 2, 1.7746629710670279: 2, 3.6568707788773938: 18, 4.13062034981651: 11, 0.7930509424358476: 1, 2.4587492115223: 10, 2.870331477394635: 1, 2.6363408979657006: 2, 1.7933721361222283: 8, 2.5215126745573992: 5, 1.7223875008127576: 3, 3.1570769074251146: 3, 5.280838840596219: 3, 3.3185802680632626: 15, 2.4251375965073727: 1, 4.319392016188186: 1, 3.517105936143789: 1, 2.23405727184044: 5, 1.297424771032326: 2, 4.267176566477125: 1, 1.9479705357708736: 1, 3.248003935242968: 2, 3.110538395073944: 7, 3.5022723792287485: 3, 4.197534860415872: 6, 3.1411250995956213: 2, 2.50485256154478: 5, 2.991385942925097: 3, 2.437340222563686: 2, 3.383704586975669: 1, 4.055376625324381: 7, 3.563128247232985: 2, 1.7360133711548666: 1, 2.7823275665255798: 2, 2.5614244651657394: 3, 0.680622926261979: 1, 3.699466282195745: 14, 3.1371502949501635: 1, 3.2317815119572706: 5, 3.15292543634639: 1, 5.280943852535282: 3, 2.33646723800368: 2, 2.5601622744695605: 1, 2.4267998531441037: 2, 3.883158393361231: 1, 3.1372674433399643: 1, 1.01133803496276: 2, 2.9598487675319887: 3, 5.386802928888326: 4, 4.0601793605321665: 2, 2.5582881895650242: 2, 1.9785858876317879: 5, 2.411017593406621: 1, 2.9494475083642686: 2, 2.688945736726157: 1, 3.093405535594323: 3, 4.376675346138939: 2, 2.867117921110486: 2, 2.8794089273686962: 1, 2.3182663404668844: 4, 5.1901824282345705: 2, 2.9553309383051025: 1, 4.7146839152051045: 10, 4.23656121461621: 1, 1.3691139858675174: 1, 3.9241001171712657: 1, 2.3917769509284605: 1, 1.6237048609359577: 1, 2.9208224133316505: 5, 3.504144336648791: 1, 2.673306081711479: 1, 1.7815852437543866: 1, 1.5085873668085021: 1, 1.6676919193500956: 1, 5.352684321834836: 3, 2.5780845781783586: 2, 3.139963836851392: 1, 1.7296834432439612: 1, 2.805756545887035: 1, 0.6905334964715233: 1, 4.122581737027009: 3, 3.1511934774842807: 3, 2.875052050831491: 1, 0.781495910821985: 2, 5.149667344382167: 1, 3.5181534574724465: 1, 2.808102622322494: 1, 3.7162050065375567: 1, 4.1882199911035665: 2, 2.399398057567339: 1, 3.0575433942447217: 1, 5.285746587743068: 1, 1.627165997279637: 1, 3.5228456103433645: 1, 3.419735194371235: 1, 3.265361030978315: 1, 5.071614635981491: 1, 5.371495252957869: 1, 5.268235136635247: 1, 0.9360943104706305: 1, 4.3210633568827514: 1}\n",
      "../rcv_elections_database/single/SanFrancisco_11032015_BoardofSupervisorsDistrict3.csv\n"
     ]
    },
    {
     "name": "stderr",
     "output_type": "stream",
     "text": [
      "/Users/es5891/Documents/GitHub/bugs-in-democracy/rcv_exploration/../rcv_learning/rcv_dimensionality.py:188: RuntimeWarning: divide by zero encountered in divide\n",
      "  distance = 1 / np.sqrt(freq_upper_triangle)\n"
     ]
    },
    {
     "name": "stdout",
     "output_type": "stream",
     "text": [
      "Normalized distances: {'AARON PESKIN': 0.0, 'WILMA PANG': 1.082537614324159, 'JULIE CHRISTENSEN': 2.0}\n"
     ]
    },
    {
     "name": "stderr",
     "output_type": "stream",
     "text": [
      "/Users/es5891/Documents/GitHub/bugs-in-democracy/rcv_exploration/../rcv_learning/rcv_dimensionality.py:188: RuntimeWarning: divide by zero encountered in divide\n",
      "  distance = 1 / np.sqrt(freq_upper_triangle)\n"
     ]
    },
    {
     "name": "stdout",
     "output_type": "stream",
     "text": [
      "Consistency points: {2.0: 3830, 0.0: 4606, 0.27063440358103963: 1035, 0.3853172017905198: 1286, 1.176586008952599: 124, 1.0825376143241585: 280, 0.5: 586, 1.311903210743119: 105}\n",
      "../rcv_elections_database/single/Berkeley_11022010_CityAuditor.csv\n",
      "Error in file: ../rcv_elections_database/single/Berkeley_11022010_CityAuditor.csv\n",
      "zero-size array to reduction operation minimum which has no identity\n",
      "../rcv_elections_database/single/NewYorkCity_06222021_DEMBoroughPresidentNewYork.csv\n",
      "Skipping file: ../rcv_elections_database/single/NewYorkCity_06222021_DEMBoroughPresidentNewYork.csv\n",
      "../rcv_elections_database/single/SanFrancisco_11082022_AssessorRecorder.csv\n",
      "Error in file: ../rcv_elections_database/single/SanFrancisco_11082022_AssessorRecorder.csv\n",
      "zero-size array to reduction operation minimum which has no identity\n",
      "../rcv_elections_database/single/Minneapolis_11072017_Ward13CityCouncil.csv\n"
     ]
    },
    {
     "name": "stderr",
     "output_type": "stream",
     "text": [
      "/Users/es5891/Documents/GitHub/bugs-in-democracy/rcv_exploration/../rcv_learning/rcv_dimensionality.py:188: RuntimeWarning: divide by zero encountered in divide\n",
      "  distance = 1 / np.sqrt(freq_upper_triangle)\n"
     ]
    },
    {
     "name": "stdout",
     "output_type": "stream",
     "text": [
      "Normalized distances: {'Bob Reuer': 0.0, 'Linea Palmisano': 1.0}\n"
     ]
    },
    {
     "name": "stderr",
     "output_type": "stream",
     "text": [
      "/Users/es5891/Documents/GitHub/bugs-in-democracy/rcv_exploration/../rcv_learning/rcv_dimensionality.py:188: RuntimeWarning: divide by zero encountered in divide\n",
      "  distance = 1 / np.sqrt(freq_upper_triangle)\n"
     ]
    },
    {
     "name": "stdout",
     "output_type": "stream",
     "text": [
      "Consistency points: {1.0: 7237, 0.0: 1295, 0.25: 549}\n",
      "Error in file: ../rcv_elections_database/single/Minneapolis_11072017_Ward13CityCouncil.csv\n",
      "unsupported operand type(s) for -: 'float' and 'NoneType'\n",
      "../rcv_elections_database/single/Burlington_03032009_Mayor.csv\n"
     ]
    },
    {
     "name": "stderr",
     "output_type": "stream",
     "text": [
      "/Users/es5891/Documents/GitHub/bugs-in-democracy/rcv_exploration/../rcv_learning/rcv_dimensionality.py:188: RuntimeWarning: divide by zero encountered in divide\n",
      "  distance = 1 / np.sqrt(freq_upper_triangle)\n"
     ]
    },
    {
     "name": "stdout",
     "output_type": "stream",
     "text": [
      "Normalized distances: {'Kurt Wright': 0.0, 'Andy Montroll': 1.1929178138805585, 'Dan Smith': 1.7350366549973935, 'Bob Kiss': 2.5340144046353843, 'James Simpson': 4.0}\n"
     ]
    },
    {
     "name": "stderr",
     "output_type": "stream",
     "text": [
      "/Users/es5891/Documents/GitHub/bugs-in-democracy/rcv_exploration/../rcv_learning/rcv_dimensionality.py:188: RuntimeWarning: divide by zero encountered in divide\n",
      "  distance = 1 / np.sqrt(freq_upper_triangle)\n"
     ]
    },
    {
     "name": "stdout",
     "output_type": "stream",
     "text": [
      "Consistency points: {1.8012597430533224: 359, 2.8070821861194415: 187, 3.1053116395895812: 95, 4.0: 854, 1.6657300327741136: 127, 1.8080522512812527: 30, 1.733494887913718: 122, 1.6180115436327454: 52, 1.9503744697883922: 50, 1.4824818333535366: 15, 2.2649633450026063: 126, 2.400493055281815: 93, 1.465985595364616: 333, 1.7210587383482852: 80, 2.4090606275144033: 30, 1.6418707882034294: 38, 2.698722508751955: 95, 2.300620836577066: 83, 2.0994891965234617: 67, 2.937674565745228: 34, 2.1173726371564894: 5, 0.366496398841154: 3, 2.338280522983072: 43, 1.7763874439224567: 2, 2.415602090626629: 4, 2.2089967368667778: 12, 0.0: 4, 0.5341334726855071: 2, 0.500251045115705: 2, 0.7831204181253257: 1, 0.634005691390256: 1, 2.754426366324651: 3, 0.6086908360530421: 1, 1.0: 3, 2.408047572954222: 2, 0.5748084084832399: 1}\n",
      "../rcv_elections_database/single/Alaska_11082022_SenateDistrictN.csv\n",
      "Skipping file: ../rcv_elections_database/single/Alaska_11082022_SenateDistrictN.csv\n",
      "../rcv_elections_database/single/Oakland_11062012_CityCouncilDistrict5.csv\n"
     ]
    },
    {
     "name": "stderr",
     "output_type": "stream",
     "text": [
      "/Users/es5891/Documents/GitHub/bugs-in-democracy/rcv_exploration/../rcv_learning/rcv_dimensionality.py:188: RuntimeWarning: divide by zero encountered in divide\n",
      "  distance = 1 / np.sqrt(freq_upper_triangle)\n"
     ]
    },
    {
     "name": "stdout",
     "output_type": "stream",
     "text": [
      "Normalized distances: {\"ARACELY ''SHELLY'' GARZA\": 0.0, 'MARIO JUAREZ': 1.115528832351531, 'NOEL GALLO': 1.8256371931089561, 'DAWN MCMAHAN': 3.0}\n"
     ]
    },
    {
     "name": "stderr",
     "output_type": "stream",
     "text": [
      "/Users/es5891/Documents/GitHub/bugs-in-democracy/rcv_exploration/../rcv_learning/rcv_dimensionality.py:188: RuntimeWarning: divide by zero encountered in divide\n",
      "  distance = 1 / np.sqrt(freq_upper_triangle)\n"
     ]
    },
    {
     "name": "stdout",
     "output_type": "stream",
     "text": [
      "Consistency points: {0.29359070172276125: 138, 1.9277944797802928: 219, 0.0: 485, 1.174362806891045: 1718, 1.8844711676484687: 1326, 0.6105588959560586: 188, 1.4913310011243424: 482, 0.75: 71, 1.2050945462190203: 425, 0.5217953508613806: 213, 3.0: 195, 0.47111779191211717: 173, 2.1633533757363517: 168, 1.351889897080401: 329, 0.38235424681743924: 304, 1.6307721051682837: 161}\n",
      "../rcv_elections_database/single/NewYorkCity_06222021_DEMCouncilMember20thCouncilDistrict.csv\n"
     ]
    },
    {
     "name": "stderr",
     "output_type": "stream",
     "text": [
      "/Users/es5891/Documents/GitHub/bugs-in-democracy/rcv_exploration/../rcv_learning/rcv_dimensionality.py:188: RuntimeWarning: divide by zero encountered in divide\n",
      "  distance = 1 / np.sqrt(freq_upper_triangle)\n"
     ]
    },
    {
     "name": "stdout",
     "output_type": "stream",
     "text": [
      "Normalized distances: {'Ming-Kang Low': 0.0, 'Dao Yin': 2.029421593876183, 'Hailing Chen': 2.8959492534126205, 'Neng Wang': 3.62648086828801, 'Anthony Miranda': 4.572001407739103, 'Ellen Young': 4.715364048847381, 'Sandra Ung': 5.482573737353337, 'John Choe': 7.0}\n"
     ]
    },
    {
     "name": "stderr",
     "output_type": "stream",
     "text": [
      "/Users/es5891/Documents/GitHub/bugs-in-democracy/rcv_exploration/../rcv_learning/rcv_dimensionality.py:188: RuntimeWarning: divide by zero encountered in divide\n",
      "  distance = 1 / np.sqrt(freq_upper_triangle)\n"
     ]
    },
    {
     "name": "stdout",
     "output_type": "stream",
     "text": [
      "Consistency points: {2.8959492534126205: 411, 2.4286864124791396: 153, 3.214692554701389: 6, 5.482573737353337: 625, 2.564796810049061: 11, 3.5426053743978: 45, 3.0785821571314678: 18, 5.8619303030150025: 90, 2.2460535087602924: 231, 5.286523036635536: 34, 5.096844753804703: 17, 3.131930229935708: 5, 4.715364048847381: 301, 3.4282527983721063: 3, 4.90716647097387: 107, 0.7239873133531551: 2, 3.8987016634278526: 48, 7.0: 467, 4.572001407739102: 593, 2.029421593876183: 167, 4.607842068016172: 60, 3.62648086828801: 395, 2.7009072076189824: 52, 5.530102489731098: 1, 4.771056073403948: 19, 3.3508029522713105: 16, 3.1079549271698967: 3, 3.923391015885012: 7, 3.8100634887510116: 6, 4.950780229764137: 7, 4.0905040855543415: 69, 4.799644490142661: 94, 3.9946028744910973: 35, 4.67123986875321: 9, 4.621819132398867: 5, 3.862861003150783: 13, 2.8927096297454717: 25, 3.4989901664909673: 2, 3.8908716762528632: 9, 4.607820443944579: 2, 5.6299186943818365: 5, 4.822529368491564: 1, 2.4054251594046767: 6, 3.446704163334555: 7, 5.179001055804327: 30, 2.337369960619716: 15, 3.9219619400594654: 11, 3.2720661954071373: 1, 5.430286285080358: 7, 2.796808418682227: 10, 3.7322836572286326: 3, 4.562162218014867: 6, 5.538602242522413: 8, 4.829910118633138: 2, 2.970266199689413: 3, 4.598990019434011: 1, 0.0: 8, 4.738593666773714: 1, 1.1788410122118453: 1, 4.698318858113724: 13, 4.983131329090031: 3, 4.989322772973494: 10, 4.679739621544525: 9, 0.8704131827948152: 1, 4.725397847474237: 2, 2.6601669862883917: 1, 3.404151025075551: 3, 5.032035887782374: 2, 4.581638218060535: 2, 0.6953571812332926: 2, 3.8734829135596422: 8, 4.550085460741668: 2, 3.894786669840358: 4, 3.3149622919942408: 9, 4.0894420159065135: 1, 4.546562771185675: 10, 2.9716789359030074: 1, 3.179349800643416: 2, 3.332882622132776: 1, 3.8807813332893177: 1, 3.155374497877605: 2, 2.6127474155806834: 3, 4.469860651216007: 12, 4.519868730663227: 6, 4.865553925560373: 1, 3.807385211568429: 10, 3.9708105865927203: 3, 3.8586497057134013: 3, 5.557181479091612: 1, 2.390830722211939: 1, 4.681454422711274: 2, 3.7715445512913592: 1, 2.429400462170488: 7, 4.594740143038353: 3, 5.059096187206191: 1, 4.590137970851851: 7, 3.172144746063867: 3, 2.545868964915461: 1, 4.57142366410247: 9, 3.541543304749972: 1, 0.5073553984690458: 1, 3.9761144887725135: 3, 4.000209142706358: 5, 3.701747531308957: 4, 3.6990692541263743: 10, 4.634899433305093: 3, 4.280182368385175: 3, 4.928973350369003: 3, 1.75: 2, 3.079499541869452: 1, 2.453375764936299: 3, 3.764032826635602: 1, 2.9529686353176636: 1, 2.2944668127203047: 2, 4.766490693824506: 1, 3.6632285938493045: 2, 0.9547538374710588: 1, 4.508491605264867: 1, 5.584260468452125: 1, 2.6606980211123057: 5, 0.9066202170720025: 2, 2.5468764799105266: 1, 4.913845820350987: 2, 4.481822013409796: 2, 3.1967722245628543: 1, 3.9766825443525624: 1, 2.6650665473419126: 4, 2.318442115486116: 1, 3.0839796244040856: 2, 4.8239413801468745: 1, 2.424920379635854: 1, 2.3658616861938238: 2, 3.9761515095286484: 1, 3.636382446165388: 1, 2.555836644979794: 1, 1.1386318257051684: 2, 2.2081978184930917: 1, 2.4379579604318: 1, 4.018230157300429: 1, 1.3706434343383342: 1, 3.8228090454363315: 1, 4.607671473926556: 2, 3.393958920827122: 1, 4.861178579071462: 1, 4.7418878828681565: 1, 4.697102530529613: 1, 4.535979992130823: 1, 3.0823879125763045: 3, 3.0336957263631006: 1, 2.8916475600976437: 1, 4.444584814485209: 1, 3.9405455802256055: 1, 3.7896916477509506: 1, 4.969494536513516: 2, 2.593288535623169: 1, 4.5719110300734975: 1, 2.778888088543692: 1, 3.874073539581304: 1}\n",
      "../rcv_elections_database/single/Oakland_11042014_CityCouncilDistrict4.csv\n"
     ]
    },
    {
     "name": "stderr",
     "output_type": "stream",
     "text": [
      "/Users/es5891/Documents/GitHub/bugs-in-democracy/rcv_exploration/../rcv_learning/rcv_dimensionality.py:188: RuntimeWarning: divide by zero encountered in divide\n",
      "  distance = 1 / np.sqrt(freq_upper_triangle)\n"
     ]
    },
    {
     "name": "stdout",
     "output_type": "stream",
     "text": [
      "Normalized distances: {'ANNIE CAMPBELL WASHINGTON': 0.0, 'JILL BROADHURST': 0.8676963051667749, 'PAUL LIM': 2.0}\n"
     ]
    },
    {
     "name": "stderr",
     "output_type": "stream",
     "text": [
      "/Users/es5891/Documents/GitHub/bugs-in-democracy/rcv_exploration/../rcv_learning/rcv_dimensionality.py:188: RuntimeWarning: divide by zero encountered in divide\n",
      "  distance = 1 / np.sqrt(freq_upper_triangle)\n"
     ]
    },
    {
     "name": "stdout",
     "output_type": "stream",
     "text": [
      "Consistency points: {0.3584620381458469: 3821, 0.0: 4006, 0.8676963051667748: 1396, 0.2169240762916937: 2053, 0.5: 498, 1.0423101907292343: 695, 1.150772228875081: 305, 2.0: 322}\n",
      "../rcv_elections_database/single/Oakland_11082022_Schoolboarddistrict4.csv\n"
     ]
    },
    {
     "name": "stderr",
     "output_type": "stream",
     "text": [
      "/Users/es5891/Documents/GitHub/bugs-in-democracy/rcv_exploration/../rcv_learning/rcv_dimensionality.py:188: RuntimeWarning: divide by zero encountered in divide\n",
      "  distance = 1 / np.sqrt(freq_upper_triangle)\n"
     ]
    },
    {
     "name": "stdout",
     "output_type": "stream",
     "text": [
      "Normalized distances: {'PECOLIA MANIGO': 0.0, 'MIKE HUTCHINSON': 0.8691313601931243, 'NICK RESNICK': 2.0}\n"
     ]
    },
    {
     "name": "stderr",
     "output_type": "stream",
     "text": [
      "/Users/es5891/Documents/GitHub/bugs-in-democracy/rcv_exploration/../rcv_learning/rcv_dimensionality.py:188: RuntimeWarning: divide by zero encountered in divide\n",
      "  distance = 1 / np.sqrt(freq_upper_triangle)\n"
     ]
    },
    {
     "name": "stdout",
     "output_type": "stream",
     "text": [
      "Consistency points: {1.1308686398068757: 2331, 0.2827171599517189: 924, 0.0: 3746, 0.39135857997585943: 2171, 2.0: 1851, 1.2067928998792974: 2283, 1.3481514798551568: 1298, 0.5: 939}\n",
      "../rcv_elections_database/single/Oakland_11042014_CityCouncilDistrict6.csv\n"
     ]
    },
    {
     "name": "stderr",
     "output_type": "stream",
     "text": [
      "/Users/es5891/Documents/GitHub/bugs-in-democracy/rcv_exploration/../rcv_learning/rcv_dimensionality.py:188: RuntimeWarning: divide by zero encountered in divide\n",
      "  distance = 1 / np.sqrt(freq_upper_triangle)\n"
     ]
    },
    {
     "name": "stdout",
     "output_type": "stream",
     "text": [
      "Normalized distances: {'JAMES MOORE': 0.0, 'DESLEY BROOKS': 1.3745288889091434, 'SHEREDA F. NOSAKHARE': 1.5008829348760673, 'MICHAEL V. JOHNSON': 1.5468304387039655, 'VICENTE CRUZ': 4.0}\n"
     ]
    },
    {
     "name": "stderr",
     "output_type": "stream",
     "text": [
      "/Users/es5891/Documents/GitHub/bugs-in-democracy/rcv_exploration/../rcv_learning/rcv_dimensionality.py:188: RuntimeWarning: divide by zero encountered in divide\n",
      "  distance = 1 / np.sqrt(freq_upper_triangle)\n"
     ]
    },
    {
     "name": "stdout",
     "output_type": "stream",
     "text": [
      "Consistency points: {2.6254711110908566: 1962, 2.453169561296035: 392, 2.8743377988429497: 117, 2.499117065123933: 862, 2.9691033333181425: 140, 2.530705576615664: 237, 4.0: 233, 2.4962449487447405: 95, 2.8398771709720263: 82, 2.4646564372530095: 186, 0.6247792662809832: 17, 0.6405735220268487: 18, 0.6563677777727142: 7, 0.0: 21, 0.8123896331404916: 1, 0.8066461951620043: 1}\n",
      "../rcv_elections_database/single/Oakland_11082022_Schoolboarddistrict6.csv\n"
     ]
    },
    {
     "name": "stderr",
     "output_type": "stream",
     "text": [
      "/Users/es5891/Documents/GitHub/bugs-in-democracy/rcv_exploration/../rcv_learning/rcv_dimensionality.py:188: RuntimeWarning: divide by zero encountered in divide\n",
      "  distance = 1 / np.sqrt(freq_upper_triangle)\n"
     ]
    },
    {
     "name": "stdout",
     "output_type": "stream",
     "text": [
      "Normalized distances: {'KYRA MUNGIA': 0.0, 'VALARIE BACHELOR': 0.9701466589920166, 'JOEL VELASQUEZ': 2.0}\n"
     ]
    },
    {
     "name": "stderr",
     "output_type": "stream",
     "text": [
      "/Users/es5891/Documents/GitHub/bugs-in-democracy/rcv_exploration/../rcv_learning/rcv_dimensionality.py:188: RuntimeWarning: divide by zero encountered in divide\n",
      "  distance = 1 / np.sqrt(freq_upper_triangle)\n"
     ]
    },
    {
     "name": "stdout",
     "output_type": "stream",
     "text": [
      "Consistency points: {1.1436583381299896: 2289, 1.0298533410079835: 1943, 2.0: 1864, 1.2723900057559876: 689, 0.0: 524, 0.37873166762599797: 372, 0.2574633352519959: 226, 0.5: 88}\n",
      "../rcv_elections_database/single/SanFrancisco_11082022_BoardofSupervisorsD10.csv\n"
     ]
    },
    {
     "name": "stderr",
     "output_type": "stream",
     "text": [
      "/Users/es5891/Documents/GitHub/bugs-in-democracy/rcv_exploration/../rcv_learning/rcv_dimensionality.py:188: RuntimeWarning: divide by zero encountered in divide\n",
      "  distance = 1 / np.sqrt(freq_upper_triangle)\n"
     ]
    },
    {
     "name": "stdout",
     "output_type": "stream",
     "text": [
      "Normalized distances: {'SHAMANN WALTON': 0.0, 'BRIAN SAM ADAM': 1.0}\n"
     ]
    },
    {
     "name": "stderr",
     "output_type": "stream",
     "text": [
      "/Users/es5891/Documents/GitHub/bugs-in-democracy/rcv_exploration/../rcv_learning/rcv_dimensionality.py:188: RuntimeWarning: divide by zero encountered in divide\n",
      "  distance = 1 / np.sqrt(freq_upper_triangle)\n"
     ]
    },
    {
     "name": "stdout",
     "output_type": "stream",
     "text": [
      "Consistency points: {1.0: 2065, 0.25: 5459, 0.0: 6763}\n",
      "Error in file: ../rcv_elections_database/single/SanFrancisco_11082022_BoardofSupervisorsD10.csv\n",
      "unsupported operand type(s) for -: 'float' and 'NoneType'\n",
      "../rcv_elections_database/single/SanFrancisco_11032015_Mayor.csv\n"
     ]
    },
    {
     "name": "stderr",
     "output_type": "stream",
     "text": [
      "/Users/es5891/Documents/GitHub/bugs-in-democracy/rcv_exploration/../rcv_learning/rcv_dimensionality.py:188: RuntimeWarning: divide by zero encountered in divide\n",
      "  distance = 1 / np.sqrt(freq_upper_triangle)\n"
     ]
    },
    {
     "name": "stdout",
     "output_type": "stream",
     "text": [
      "Normalized distances: {'ED LEE': 0.0, 'KENT GRAHAM': 1.4979857686617406, 'REED MARTIN': 2.440916235966783, 'AMY FARAH WEISS': 3.030505280827613, 'FRANCISCO HERRERA': 3.76472105743356, 'STUART SCHUFFMAN': 5.0}\n"
     ]
    },
    {
     "name": "stderr",
     "output_type": "stream",
     "text": [
      "/Users/es5891/Documents/GitHub/bugs-in-democracy/rcv_exploration/../rcv_learning/rcv_dimensionality.py:188: RuntimeWarning: divide by zero encountered in divide\n",
      "  distance = 1 / np.sqrt(freq_upper_triangle)\n"
     ]
    },
    {
     "name": "stdout",
     "output_type": "stream",
     "text": [
      "Consistency points: {0.0: 71722, 0.6839276895992996: 1007, 0.8494032922826467: 3267, 0.5660613811861694: 1913, 2.588313497181991: 134, 2.8352460648756486: 832, 5.0: 3221, 3.7647210574335603: 5082, 1.4979857686617417: 2588, 0.7576263202069033: 2358, 3.0224942859583663: 865, 1.972892618778953: 436, 0.6578383532619128: 955, 1.0038131601034517: 2020, 0.37449644216543543: 1349, 1.693867425620492: 320, 2.127302486599758: 477, 1.095590132179195: 1162, 3.0305052808276134: 3427, 2.4409162359667835: 853, 1.25: 1224, 3.1403605943714963: 845, 0.49236275057856566: 724, 0.7757046616750429: 605, 0.9411802643583901: 2020, 3.331314021599976: 547, 0.6102290589916959: 621, 2.4704471887688606: 425, 3.52287896062071: 606, 3.3684690927999053: 5055, 1.8074170160956058: 205, 4.07354079307517: 543, 3.602950660895975: 292, 2.6800904692577343: 294, 3.144065800517258: 438, 2.7755726474792395: 91, 2.2190794586755014: 210, 3.790198881978693: 431, 0.9301145294958479: 467, 2.2831989676861433: 140, 3.9080651903918233: 363, 3.2140592249791: 1040, 2.7718674413334776: 83, 1.8991939881713493: 156, 1.8811156467032095: 259, 2.46675291183763: 81, 1.5464701644052845: 157, 2.373489326496306: 199, 2.926277309154283: 144, 2.064669590854696: 172, 2.6540011329203477: 111, 1.733718385488002: 145, 3.0806871769750876: 82}\n",
      "../rcv_elections_database/single/Oakland_11062012_CityCouncilDistrict7.csv\n"
     ]
    },
    {
     "name": "stderr",
     "output_type": "stream",
     "text": [
      "/Users/es5891/Documents/GitHub/bugs-in-democracy/rcv_exploration/../rcv_learning/rcv_dimensionality.py:188: RuntimeWarning: divide by zero encountered in divide\n",
      "  distance = 1 / np.sqrt(freq_upper_triangle)\n"
     ]
    },
    {
     "name": "stdout",
     "output_type": "stream",
     "text": [
      "Normalized distances: {'BEVERLY WILLIAMS': 0.0, 'SHERYL WALTON': 0.9508416910560389, 'LARRY E. REID': 2.0}\n"
     ]
    },
    {
     "name": "stderr",
     "output_type": "stream",
     "text": [
      "/Users/es5891/Documents/GitHub/bugs-in-democracy/rcv_exploration/../rcv_learning/rcv_dimensionality.py:188: RuntimeWarning: divide by zero encountered in divide\n",
      "  distance = 1 / np.sqrt(freq_upper_triangle)\n"
     ]
    },
    {
     "name": "stdout",
     "output_type": "stream",
     "text": [
      "Consistency points: {2.0: 3732, 0.9508416910560398: 1552, 1.2131312682920299: 410, 0.0: 473, 0.36885521138200494: 498, 1.094276056910025: 1093, 0.23771042276400994: 187, 0.5: 101}\n",
      "../rcv_elections_database/single/Alaska_11082022_SenateDistrictL.csv\n",
      "Skipping file: ../rcv_elections_database/single/Alaska_11082022_SenateDistrictL.csv\n",
      "../rcv_elections_database/single/SanLeandro_11062012_CountyCouncilDistrict2.csv\n"
     ]
    },
    {
     "name": "stderr",
     "output_type": "stream",
     "text": [
      "/Users/es5891/Documents/GitHub/bugs-in-democracy/rcv_exploration/../rcv_learning/rcv_dimensionality.py:188: RuntimeWarning: divide by zero encountered in divide\n",
      "  distance = 1 / np.sqrt(freq_upper_triangle)\n"
     ]
    },
    {
     "name": "stdout",
     "output_type": "stream",
     "text": [
      "Normalized distances: {'URSULA REED': 0.0, 'MORGAN MACK-ROSE': 0.910514883734045, 'DAN DILLMAN': 2.0}\n"
     ]
    },
    {
     "name": "stderr",
     "output_type": "stream",
     "text": [
      "/Users/es5891/Documents/GitHub/bugs-in-democracy/rcv_exploration/../rcv_learning/rcv_dimensionality.py:188: RuntimeWarning: divide by zero encountered in divide\n",
      "  distance = 1 / np.sqrt(freq_upper_triangle)\n"
     ]
    },
    {
     "name": "stdout",
     "output_type": "stream",
     "text": [
      "Consistency points: {0.36381436046675564: 4920, 0.9105148837340453: 2105, 0.22762872093351133: 1143, 1.0690718023337784: 1778, 2.0: 1338, 0.0: 2894, 0.5: 393, 1.182886162800534: 531}\n",
      "../rcv_elections_database/single/NewYorkCity_06222021_REPCouncilMember32ndCouncilDistrict.csv\n"
     ]
    },
    {
     "name": "stderr",
     "output_type": "stream",
     "text": [
      "/Users/es5891/Documents/GitHub/bugs-in-democracy/rcv_exploration/../rcv_learning/rcv_dimensionality.py:188: RuntimeWarning: divide by zero encountered in divide\n",
      "  distance = 1 / np.sqrt(freq_upper_triangle)\n"
     ]
    },
    {
     "name": "stdout",
     "output_type": "stream",
     "text": [
      "Normalized distances: {'Joann Ariola': 0.0, 'Stephen A. Sirgiovanni': 1.0}\n"
     ]
    },
    {
     "name": "stderr",
     "output_type": "stream",
     "text": [
      "/Users/es5891/Documents/GitHub/bugs-in-democracy/rcv_exploration/../rcv_learning/rcv_dimensionality.py:188: RuntimeWarning: divide by zero encountered in divide\n",
      "  distance = 1 / np.sqrt(freq_upper_triangle)\n"
     ]
    },
    {
     "name": "stdout",
     "output_type": "stream",
     "text": [
      "Consistency points: {0.25: 939, 0.0: 1446, 1.0: 295}\n",
      "Error in file: ../rcv_elections_database/single/NewYorkCity_06222021_REPCouncilMember32ndCouncilDistrict.csv\n",
      "unsupported operand type(s) for -: 'float' and 'NoneType'\n",
      "../rcv_elections_database/single/Minneapolis_11022021_CityCouncilWard8.csv\n"
     ]
    },
    {
     "name": "stderr",
     "output_type": "stream",
     "text": [
      "/Users/es5891/Documents/GitHub/bugs-in-democracy/rcv_exploration/../rcv_learning/rcv_dimensionality.py:188: RuntimeWarning: divide by zero encountered in divide\n",
      "  distance = 1 / np.sqrt(freq_upper_triangle)\n"
     ]
    },
    {
     "name": "stdout",
     "output_type": "stream",
     "text": [
      "Normalized distances: {'Robert \"Bob\" Sullentrop': 0.0, 'Andrea Jenkins': 1.0}\n"
     ]
    },
    {
     "name": "stderr",
     "output_type": "stream",
     "text": [
      "/Users/es5891/Documents/GitHub/bugs-in-democracy/rcv_exploration/../rcv_learning/rcv_dimensionality.py:188: RuntimeWarning: divide by zero encountered in divide\n",
      "  distance = 1 / np.sqrt(freq_upper_triangle)\n"
     ]
    },
    {
     "name": "stdout",
     "output_type": "stream",
     "text": [
      "Consistency points: {0.0: 8596, 0.25: 478, 1.0: 1235}\n",
      "Error in file: ../rcv_elections_database/single/Minneapolis_11022021_CityCouncilWard8.csv\n",
      "unsupported operand type(s) for -: 'float' and 'NoneType'\n",
      "../rcv_elections_database/single/Alaska_11082022_USSenator.csv\n",
      "Skipping file: ../rcv_elections_database/single/Alaska_11082022_USSenator.csv\n",
      "../rcv_elections_database/single/NewYorkCity_06222021_DEMCouncilMember9thCouncilDistrict.csv\n"
     ]
    },
    {
     "name": "stderr",
     "output_type": "stream",
     "text": [
      "/Users/es5891/Documents/GitHub/bugs-in-democracy/rcv_exploration/../rcv_learning/rcv_dimensionality.py:188: RuntimeWarning: divide by zero encountered in divide\n",
      "  distance = 1 / np.sqrt(freq_upper_triangle)\n"
     ]
    },
    {
     "name": "stdout",
     "output_type": "stream",
     "text": [
      "Normalized distances: {'Pierre A. Gooding': 0.0, 'Mario Rosser': 1.8944773643896569, 'Cordell Cleare': 2.7063386372149565, 'Joshua Albert Clennon': 3.6268958673966254, 'William A. Allen': 4.9692099788065995, 'Sheba T. Simpson-Amsterdam': 6.144328070683161, 'Athena Moore': 6.200059037633723, 'Kristin Richardson Jordan': 6.578467816273614, 'Bill Perkins': 7.317161857547296, 'Ruth L. McDaniels': 8.235088772071805, 'Bernadette McNear': 10.309753160438245, 'Keith Taylor': 11.12891178076452, 'Billy Council': 12.0}\n"
     ]
    },
    {
     "name": "stderr",
     "output_type": "stream",
     "text": [
      "/Users/es5891/Documents/GitHub/bugs-in-democracy/rcv_exploration/../rcv_learning/rcv_dimensionality.py:188: RuntimeWarning: divide by zero encountered in divide\n",
      "  distance = 1 / np.sqrt(freq_upper_triangle)\n"
     ]
    },
    {
     "name": "stdout",
     "output_type": "stream",
     "text": [
      "Consistency points: {6.392991846205969: 961, 6.321045460251545: 68, 6.771327663223195: 117, 4.99994509539129: 20, 8.550612474912866: 84, 5.987644259631044: 429, 7.906335114274874: 449, 12.0: 141, 0.0: 68, 7.247387455293538: 253, 7.964262526191942: 1932, 6.696200132340161: 12, 6.688959205850528: 69, 6.481798826271269: 89, 4.078634098107717: 8, 5.773306438271413: 401, 3.5137433180531517: 222, 6.141826692526944: 18, 10.309662321075637: 507, 9.711502723627401: 182, 6.673352713490059: 1, 2.1594721715182463: 100, 6.606590748477861: 362, 7.071743564073291: 15, 8.267330559144586: 10, 2.0103710949183813: 2, 9.947432503476035: 2, 4.520272381730333: 32, 5.600776897091481: 20, 10.191994483126154: 5, 4.031148422430095: 318, 6.778433282089212: 1, 4.132218553447625: 13, 5.826890893611321: 21, 6.7069177422025685: 1, 7.794743884654476: 11, 5.869316176907399: 4, 5.0144269483705575: 67, 10.28362704272055: 4, 8.357627016613005: 16, 7.078984490562924: 8, 6.592575713499357: 1, 7.118687618838014: 1, 6.841017097842605: 1, 1.983824705058352: 2, 8.435540591470154: 4, 6.945418852883824: 8, 7.068148774992192: 53, 6.541343991864536: 1, 6.003277315257169: 5, 7.977664078869964: 1, 6.9073954089724685: 18, 6.87337897907487: 2, 6.038600070224263: 4, 8.112631089589854: 1, 10.069713493301094: 1, 6.311360320505877: 8, 8.973196894643957: 16, 4.944447254031988: 1, 6.097378192117334: 3, 8.687134735097382: 2, 6.7858095162024625: 107, 5.518894132596564: 2, 5.998840825232888: 1, 3.690198830509171: 1, 3.4119755465476658: 1, 7.372159464923386: 77, 8.41669005845142: 2, 4.344806560730363: 1, 8.303535191592754: 11, 7.218850199829463: 1, 0.8784358295132879: 8, 4.233555450091356: 8, 6.24213770388723: 10, 4.4053979837027075: 1, 7.2274268619050925: 2, 6.411421597204093: 10, 4.466687926390424: 18, 5.986685535426716: 3, 6.023361316822571: 2, 4.621609278374064: 11, 10.431830839956632: 5, 7.222619565561327: 16, 1.3692994870033106: 1, 4.65094805351819: 1, 7.994297573895517: 4, 5.710458038274887: 7, 5.2127230688087725: 7, 4.626373120087849: 38, 7.920816967254141: 72, 10.439071766446265: 2, 6.533737510235572: 1, 9.818144734721006: 2, 8.507166915975064: 24, 1.4994263685777547: 2, 3.1165151935464457: 12, 6.467316973292002: 34, 4.81801811337231: 5, 6.599583230988609: 1, 4.767349665050444: 8, 7.25465647058106: 8, 6.185732104188542: 1, 4.203114401221647: 1, 1.9910656315479855: 7, 3.61066976018667: 9, 10.270728432855059: 2, 6.482854109023541: 2, 4.447154352363248: 5, 5.307601922731019: 2, 4.539551396105564: 1, 7.873228680132408: 2, 7.639269148768427: 4, 3.4314509924620693: 6, 6.424364226182545: 4, 5.928227790255052: 17, 5.811472168918994: 2, 6.597411624004388: 1, 6.4064426206414495: 2, 3.4738107008305246: 1, 7.490733194723283: 13, 6.088981156274775: 43, 6.48867048804118: 1, 8.199492007314568: 1, 1.9765837785687186: 3, 6.476097235251211: 5, 7.426606223018139: 27, 3.643094594147388: 5, 5.972203682447449: 2, 8.2767429639228: 7, 6.0361922048264836: 2, 7.227864242911107: 2, 7.496717098014307: 8, 4.350294622979153: 1, 5.812081357601098: 2, 6.80071420483535: 5, 6.734652124010043: 1, 8.012956171739063: 18, 4.619604128638684: 7, 3.5210603763243697: 1, 9.86104262298946: 8, 6.918608875630134: 12, 4.917576638018623: 1, 6.532209558441344: 3, 7.279440984857738: 3, 1.6869843226436403: 1, 8.401072575550806: 27, 8.35420363991462: 12, 6.614220434612007: 6, 4.985754689729877: 2, 8.761904684778411: 2, 1.1608812195405704: 2, 6.049869667417826: 2, 6.302580058546668: 14, 6.474557899781635: 10, 7.157709704916933: 1, 6.319693242538312: 1, 5.063183169446714: 6, 7.863416272377004: 5, 5.993342440849431: 3, 3.6567674512270196: 2, 9.975612634178818: 1, 7.498871702158827: 1, 5.882987708805637: 2, 6.146940091936183: 1, 7.297389515242356: 2, 2.52913601304927: 1, 3.794337535334712: 2, 7.419256422022487: 1, 6.427768417832299: 2, 5.812069106957026: 2, 8.523184614502407: 1, 6.65231648603271: 1, 2.6273912342462085: 5, 7.396710755221955: 1, 5.733343293817388: 3, 5.877559341933186: 2, 6.5291300724860415: 6, 8.224248381604609: 4, 5.776781446263099: 2, 5.848327440531188: 1, 5.988795462277902: 3, 6.706869666441585: 2, 7.32997982870356: 5, 5.007186021880924: 3, 5.8444191766246565: 6, 6.778568589712829: 14, 4.379295836767737: 4, 7.905788813812477: 1, 3.6930006386909806: 4, 6.650506254410302: 3, 6.589627263978093: 2, 7.516157943430475: 1, 8.290139077757777: 2, 4.107896017923045: 3, 0.5398680428795616: 3, 3.9632780443911684: 4, 4.835208180645956: 8, 7.518875026690706: 1, 6.842969505587421: 4, 6.906463589472802: 2, 1.496911064907761: 2, 6.692579669095345: 1, 7.412124370038872: 25, 7.528567808868222: 1, 6.808052542211525: 1, 6.698818001952872: 2, 6.668416715001358: 4, 6.469978000620922: 1, 8.240538331474632: 2, 3.5961879072074034: 6, 6.953140744889997: 1, 7.305324918902926: 8, 7.825013680578654: 3, 6.774973800631731: 7, 4.642353019881368: 1, 5.983413930239657: 1, 3.062930738206538: 2, 8.026635392919076: 1, 7.2799906947419935: 1, 6.539450484930978: 5, 4.172673352351938: 1, 7.583451674788931: 1, 6.077400789141896: 9, 8.174028888541958: 1, 6.965451119580684: 1, 5.645782400227769: 4, 0.7738275742435428: 1, 6.23723684662115: 11, 6.623714026740348: 1, 6.717745191127082: 1, 7.010094490930942: 2, 4.918551792734798: 1, 7.218350356974541: 1, 6.1071706931673395: 1, 4.570940830052198: 4, 5.123599377824223: 1, 6.256619556866497: 4, 6.6069795081223734: 1, 6.747180925265203: 1, 6.767732874142097: 8, 6.862713499542225: 2, 6.549906419747352: 1, 5.859381302499662: 1, 5.83016465633925: 3, 3.5138194498347364: 1, 6.993378825311163: 1, 6.079831933322148: 1, 7.844757674533458: 7, 4.843447817522273: 1, 10.732246740806728: 13, 7.9094333125805765: 3, 5.669784834886766: 1, 8.929751335706156: 10, 7.565952783708736: 1, 6.4905790882304775: 7, 7.518766257824636: 1, 4.0474798095455355: 2, 8.467358506773285: 1, 6.725610229622826: 1, 6.190417174618324: 1, 6.222754993641884: 6, 4.292201825980364: 1, 6.194380554823886: 1, 6.155868074958329: 2, 5.4512369977294215: 5, 4.72840872951001: 2, 6.423495584785581: 1, 5.555130398462908: 1, 6.147007728839241: 1, 3.40701999869879: 2, 6.10327570827138: 10, 10.349462382583965: 3, 8.151689178420938: 1, 4.883524461315905: 1, 2.8072775758492092: 4, 6.246684682458759: 12, 6.646229651240438: 2, 1.5982479615514922: 2, 6.655275952007995: 1, 6.40074603440479: 1, 7.985980369547099: 1, 6.397730590514419: 1, 3.1671836418683115: 3, 4.197019708907594: 4, 6.392189442408968: 2, 6.0080838411724455: 1, 7.7672910148678564: 2, 7.878529904275477: 1, 6.384948515919334: 2, 4.318994053650317: 1, 7.3622906704627065: 2, 8.432858967963199: 2, 5.300360996241386: 1, 2.4980399581519728: 3, 7.97322441956464: 2, 4.755239245479043: 1, 6.631402125180654: 2, 7.030458131929321: 1, 9.635396671820395: 2, 3.7074358995488854: 2, 4.772899887136037: 1, 2.6976636981046163: 1, 6.42590345018336: 5, 1.2926455491364481: 1, 3.324651541326123: 1, 7.004214540881894: 1, 6.052773575579215: 1, 1.0772966240376434: 1, 6.258484524515436: 1, 5.666976967573938: 1, 7.877095493557017: 1, 8.460091048088533: 1, 1.0077871056075238: 3, 7.555079659138873: 1, 6.597122692070886: 1, 3.5406900658481013: 1, 1.3883416386921386: 1, 6.035027241390998: 1, 5.635307488539864: 3, 4.18288700176949: 1, 7.327235232964623: 1, 6.306563607272278: 14, 5.854834323928133: 1, 4.69575274544934: 1, 6.10432151186303: 1, 8.041884699731776: 1, 4.912307167958677: 2, 6.0887938552921135: 8, 7.417634948935032: 1, 3.0754273358871744: 1, 8.30544631244813: 3, 7.322638058054211: 1, 1.3354036237111344: 1, 7.343854123382946: 1, 7.938186222058033: 1, 6.458241269206919: 1, 5.880585774100963: 2, 3.2205833674362845: 1, 5.973509589826422: 1, 2.4673666922192417: 3, 8.118189021479099: 1, 6.378141113750343: 1, 6.672136055853967: 1, 7.242346095890373: 1, 6.75785550961041: 3, 2.4278756809068502: 1, 8.284510242237292: 1, 1.441164691158525: 1, 6.182107107020061: 1, 6.204899027597591: 2, 4.9103166889858585: 1, 7.273891027915452: 2, 6.12353025593477: 1, 6.013725777245609: 1, 1.0183895538936614: 1, 6.4400873646160335: 1, 6.16781363891464: 1, 10.204949395868335: 1, 6.6934296062253615: 1, 9.642637598310028: 1, 4.688424261926553: 2, 6.087919261915601: 1, 7.935296352176537: 1, 6.313804533761911: 2, 8.389897830781466: 2, 4.136595214927558: 1, 7.675473781216595: 1, 8.17263145947414: 1, 5.7344604729338835: 1, 2.6220521924744102: 1, 8.117790659782527: 4, 6.618772062102349: 1, 8.38186147298852: 1, 4.142887693140313: 1, 4.372054910278104: 2, 6.310074725265592: 1, 7.799551180998241: 3, 5.800657153296047: 1, 7.770821803092587: 1, 10.192282283787868: 1, 4.105426325777671: 1, 6.996973614392261: 4, 3.903844734547132: 1, 6.173951373696482: 1, 5.840862608769727: 1, 8.058973211942636: 8, 4.619132193598215: 1, 6.70062823357528: 1, 7.319806771882193: 1, 4.1151369444126775: 1, 5.83714184369062: 1, 4.644932669963338: 1, 10.234603257117083: 1, 10.247694572956192: 1, 4.510533395566795: 2, 4.611891267108582: 6, 6.291695591944176: 1, 1.4433266095678532: 4, 4.544148602382244: 1, 6.700203850950701: 1, 8.432396966294036: 2, 4.493480154060379: 1, 4.159863104373576: 1, 3.729565805373624: 1, 5.679570027456663: 1, 7.376966761267151: 2, 4.763606282900666: 1, 8.135520268909158: 1, 6.316291622156104: 1, 8.249319414511362: 1, 6.807148584405308: 1, 7.419365296528506: 5, 3.217852090190177: 2, 4.805130825259257: 1, 4.848003862348561: 1, 9.927571195588374: 2, 8.152526556325405: 1, 4.422723358599969: 1, 6.641236102648668: 1, 8.090998432112574: 1, 4.491045407519494: 3, 8.42059181098443: 1, 3.5572279491238374: 1, 4.672470811128199: 2, 8.033510712362222: 1, 4.289686452905436: 1, 6.692962924461067: 2, 3.0897229658764918: 1, 10.351279636405845: 1, 4.131287631950275: 1, 8.499916143781515: 1, 6.959900705863091: 2, 7.140757666908726: 1, 4.669145247551321: 2, 5.526006947410451: 1, 4.919548094448311: 2, 4.1307605499386035: 1, 7.380040718725545: 1, 4.169587555924299: 1, 2.5067336670836946: 1, 5.85940528083692: 1, 4.281091419268614: 1, 8.11149096456161: 1, 4.760108738560811: 2, 6.6694846916010695: 1, 6.084000232463954: 1, 1.5566057791440584: 1, 8.416881993626609: 1, 4.340354901227302: 1, 6.102692719884212: 1, 4.5822624766024855: 1, 8.12720306456074: 2, 5.8432007992604476: 1, 5.927431422351473: 1, 7.909655627237085: 1, 7.662512490151293: 1, 9.701424149458248: 1, 2.784604085200008: 1, 7.530847663060436: 1, 4.456145680545983: 1, 5.711311863345241: 1, 6.26552206305184: 1, 1.6922854466489115: 1, 2.209470656227418: 1, 6.306126226266264: 1, 1.8942937095394625: 1, 1.7171961205579194: 1, 4.740557437380491: 1, 6.53241600884239: 1, 6.13969916544655: 1, 9.882756865428917: 1, 8.153995292230695: 5, 9.474943291480326: 1, 4.187155205331205: 1, 6.610594467088401: 1, 6.120954921588347: 2, 7.958092941447349: 1, 6.752209136666172: 1, 4.872931714145344: 1, 6.735370992909832: 1, 10.0112236104601: 1, 4.797040247311295: 1, 6.121652546146606: 1, 5.716546906510271: 1, 6.523916012049456: 1, 6.373599322548487: 1, 5.901994049939778: 1, 2.6024297566393852: 2, 6.070937889247822: 1, 8.148916382744135: 1, 6.352276909956576: 1, 6.3568807208226: 3, 7.073173243611114: 1, 6.392785144484121: 1, 0.90207761923158: 1, 5.824058547532568: 1, 6.773921977165395: 1, 10.020417326109968: 1, 8.454986211810189: 1, 6.769501557955961: 1, 6.172561208574032: 1, 1.3658133450404386: 1, 4.0163788289265705: 1, 6.159655431672745: 1, 3.211806098109566: 1, 5.843809987942552: 1, 1.4701188372378071: 1, 10.09769832953356: 1, 8.190197798053736: 1, 7.914734536723644: 1, 2.609385080393944: 1, 7.880853914181495: 1, 6.350347622867398: 1, 7.98431441958986: 1, 8.179329516391627: 1, 7.097941637289266: 1, 6.235297144274585: 1, 7.265553925318511: 1, 6.732378634724278: 1, 8.475842525231837: 1, 2.7804853481792553: 1, 7.9688350743151055: 1, 7.012253398904283: 1, 6.7422776622694025: 1, 8.481557631673725: 1, 6.130771182424404: 1, 7.140004694165548: 1, 6.3732507447286455: 1, 2.7257556573938304: 1, 2.2628923521384046: 1, 4.677740281188144: 2, 4.648369309769035: 1, 5.278520640604695: 1, 3.363592476866558: 2, 6.34941297610613: 1, 5.5116532061069305: 1, 6.595464201302023: 1, 2.228105936712192: 1, 1.4457488253712296: 1, 4.92360016246721: 1, 4.536763736225549: 1, 6.7554736122185535: 1, 8.225752903350244: 1, 4.426343821844786: 1, 4.733316510890857: 1, 6.427838798754022: 1, 6.404971517004053: 1, 7.375686784297684: 1, 5.225591046560356: 1, 7.999376483382076: 1, 9.952905419749307: 1, 6.652288383273589: 1, 6.532209786859164: 1, 2.577415580268909: 1, 7.546250654584014: 1, 6.93865889191073: 1, 6.927389137589342: 1, 7.396209628237324: 1}\n",
      "../rcv_elections_database/single/Minneapolis_11062009_Ward6CityCouncil.csv\n"
     ]
    },
    {
     "name": "stderr",
     "output_type": "stream",
     "text": [
      "/Users/es5891/Documents/GitHub/bugs-in-democracy/rcv_exploration/../rcv_learning/rcv_dimensionality.py:188: RuntimeWarning: divide by zero encountered in divide\n",
      "  distance = 1 / np.sqrt(freq_upper_triangle)\n"
     ]
    },
    {
     "name": "stdout",
     "output_type": "stream",
     "text": [
      "Normalized distances: {'M. Cali': 0.0, 'Bruce Lundeen': 1.2709586267261566, 'Robert Lilligren': 2.5500608541126626, 'Andy Exley': 2.875868770444469, 'Laura Jean': 3.3584685468127895, 'Michael Tupper': 5.0}\n"
     ]
    },
    {
     "name": "stderr",
     "output_type": "stream",
     "text": [
      "/Users/es5891/Documents/GitHub/bugs-in-democracy/rcv_exploration/../rcv_learning/rcv_dimensionality.py:188: RuntimeWarning: divide by zero encountered in divide\n",
      "  distance = 1 / np.sqrt(freq_upper_triangle)\n"
     ]
    },
    {
     "name": "stdout",
     "output_type": "stream",
     "text": [
      "Consistency points: {2.449939145887338: 428, 5.0: 77, 2.577582018472207: 2, 2.843098422166648: 2, 2.1452582365924426: 18, 2.2055832086384823: 13, 2.6842285938258783: 6, 2.124131229555531: 19, 1.8029073868207663: 15, 1.5569899656308892: 15, 1.7621813972792906: 5, 1.8436333763622423: 21, 2.0035211547855556: 5, 1.638441944713841: 17, 2.3222787615496383: 3, 1.9582175015604675: 4, 2.163408933208869: 2, 1.6415314531872105: 52, 3.0874543594155033: 20, 2.781211966179586: 7, 2.928584531074734: 14, 2.463472309498047: 10, 2.7697147027339644: 14, 3.8461672619905936: 2, 3.7290413732738434: 9, 0.6124847864718345: 20, 1.25: 4, 0.0: 92, 0.8905164036944413: 18, 0.5717587969303586: 8, 0.7316465753536718: 9, 0.5310328073888827: 5, 0.4103828632968026: 10, 0.47070783534284266: 12, 0.5114338248843185: 10, 0.6713216033076317: 7, 0.9312423932359173: 5, 0.7723725648951476: 9, 1.0911301716592305: 5, 0.9322603433184609: 6}\n",
      "../rcv_elections_database/single/SanFrancisco_11032020_BOARDOFSUPERVISORSDISTRICT11.csv\n"
     ]
    },
    {
     "name": "stderr",
     "output_type": "stream",
     "text": [
      "/Users/es5891/Documents/GitHub/bugs-in-democracy/rcv_exploration/../rcv_learning/rcv_dimensionality.py:188: RuntimeWarning: divide by zero encountered in divide\n",
      "  distance = 1 / np.sqrt(freq_upper_triangle)\n"
     ]
    },
    {
     "name": "stdout",
     "output_type": "stream",
     "text": [
      "Normalized distances: {'JOHN AVALOS': 0.0, 'AHSHA SAFAI': 0.5627758690149691, 'MARCELO COLUSSI': 1.1712915177275063, 'JASON CHUYUAN ZENG': 3.0}\n"
     ]
    },
    {
     "name": "stderr",
     "output_type": "stream",
     "text": [
      "/Users/es5891/Documents/GitHub/bugs-in-democracy/rcv_exploration/../rcv_learning/rcv_dimensionality.py:188: RuntimeWarning: divide by zero encountered in divide\n",
      "  distance = 1 / np.sqrt(freq_upper_triangle)\n"
     ]
    },
    {
     "name": "stdout",
     "output_type": "stream",
     "text": [
      "Consistency points: {0.21675842334280962: 6310, 0.644557797566233: 2902, 0.0: 2655, 0.7149047811931042: 722, 0.56277586901497: 3038, 0.29282287943187674: 401, 0.1406939672537425: 1385, 1.171291517727507: 520, 1.6284686382956302: 3, 1.1720819017612274: 2, 3.0: 1}\n",
      "../rcv_elections_database/single/Corvallis_11082022_Mayor.csv\n"
     ]
    },
    {
     "name": "stderr",
     "output_type": "stream",
     "text": [
      "/Users/es5891/Documents/GitHub/bugs-in-democracy/rcv_exploration/../rcv_learning/rcv_dimensionality.py:188: RuntimeWarning: divide by zero encountered in divide\n",
      "  distance = 1 / np.sqrt(freq_upper_triangle)\n"
     ]
    },
    {
     "name": "stdout",
     "output_type": "stream",
     "text": [
      "Normalized distances: {'Roen Hogg': 0.0, 'Andrew Struthers': 1.0511104334731587, 'Charles Maughan': 2.0}\n"
     ]
    },
    {
     "name": "stderr",
     "output_type": "stream",
     "text": [
      "/Users/es5891/Documents/GitHub/bugs-in-democracy/rcv_exploration/../rcv_learning/rcv_dimensionality.py:188: RuntimeWarning: divide by zero encountered in divide\n",
      "  distance = 1 / np.sqrt(freq_upper_triangle)\n"
     ]
    },
    {
     "name": "stdout",
     "output_type": "stream",
     "text": [
      "Consistency points: {1.156944020920724: 3722, 1.288332825104869: 511, 1.0511104334731585: 521, 2.0: 372, 0.0: 847, 0.3813888041841448: 2484, 0.2627776083682896: 228, 0.5: 168}\n",
      "../rcv_elections_database/single/Minneapolis_11072017_PRBoardDistrict6.csv\n"
     ]
    },
    {
     "name": "stderr",
     "output_type": "stream",
     "text": [
      "/Users/es5891/Documents/GitHub/bugs-in-democracy/rcv_exploration/../rcv_learning/rcv_dimensionality.py:188: RuntimeWarning: divide by zero encountered in divide\n",
      "  distance = 1 / np.sqrt(freq_upper_triangle)\n"
     ]
    },
    {
     "name": "stdout",
     "output_type": "stream",
     "text": [
      "Normalized distances: {'Robert M Schlosser \"Bob\"': 0.0, 'Jennifer Zielinski': 1.3769011063328644, 'Bob Fine': 2.0923219194531346, 'Brad Bourn': 3.0}\n"
     ]
    },
    {
     "name": "stderr",
     "output_type": "stream",
     "text": [
      "/Users/es5891/Documents/GitHub/bugs-in-democracy/rcv_exploration/../rcv_learning/rcv_dimensionality.py:188: RuntimeWarning: divide by zero encountered in divide\n",
      "  distance = 1 / np.sqrt(freq_upper_triangle)\n"
     ]
    },
    {
     "name": "stdout",
     "output_type": "stream",
     "text": [
      "Consistency points: {1.2586459221185409: 523, 0.0: 3807, 0.2269195201367163: 1915, 0.9730735237585747: 423, 0.3163471217767502: 737, 0.9076780805468652: 3594, 1.623098893667136: 897, 0.405774723416784: 357, 0.577887361708392: 276, 1.430758560410149: 140, 1.0865332838269328: 482, 0.75: 71, 3.0: 190, 1.9673241702503521: 76, 1.76443680854196: 142}\n",
      "../rcv_elections_database/single/SanFrancisco_11042008_BoardofSupervisorsDistrict11.csv\n"
     ]
    },
    {
     "name": "stderr",
     "output_type": "stream",
     "text": [
      "/Users/es5891/Documents/GitHub/bugs-in-democracy/rcv_exploration/../rcv_learning/rcv_dimensionality.py:177: RuntimeWarning: divide by zero encountered in divide\n",
      "  frequencies = counts / mentioned_together\n",
      "/Users/es5891/Documents/GitHub/bugs-in-democracy/rcv_exploration/../rcv_learning/rcv_dimensionality.py:177: RuntimeWarning: invalid value encountered in divide\n",
      "  frequencies = counts / mentioned_together\n",
      "/Users/es5891/Documents/GitHub/bugs-in-democracy/rcv_exploration/../rcv_learning/rcv_dimensionality.py:188: RuntimeWarning: divide by zero encountered in divide\n",
      "  distance = 1 / np.sqrt(freq_upper_triangle)\n"
     ]
    },
    {
     "name": "stdout",
     "output_type": "stream",
     "text": [
      "Normalized distances: {'ADRIAN BERMUDEZ': 0.0, 'JOHN AVALOS': 0.004137515641991089, 'AHSHA SAFAI': 0.005369160631763372, 'ELI M. HORN': 0.005699940067607621, 'RANDY KNOX': 0.005938200462750979, 'JULIO RAMOS': 0.005975859124366204, 'MARY GOODNATURE': 0.010800546016433606, 'MYRNA LIM': 0.9928989257178368, 'A. JACKSON MATTESON': 8.0}\n"
     ]
    },
    {
     "name": "stderr",
     "output_type": "stream",
     "text": [
      "/Users/es5891/Documents/GitHub/bugs-in-democracy/rcv_exploration/../rcv_learning/rcv_dimensionality.py:177: RuntimeWarning: divide by zero encountered in divide\n",
      "  frequencies = counts / mentioned_together\n",
      "/Users/es5891/Documents/GitHub/bugs-in-democracy/rcv_exploration/../rcv_learning/rcv_dimensionality.py:177: RuntimeWarning: invalid value encountered in divide\n",
      "  frequencies = counts / mentioned_together\n",
      "/Users/es5891/Documents/GitHub/bugs-in-democracy/rcv_exploration/../rcv_learning/rcv_dimensionality.py:188: RuntimeWarning: divide by zero encountered in divide\n",
      "  distance = 1 / np.sqrt(freq_upper_triangle)\n"
     ]
    },
    {
     "name": "stdout",
     "output_type": "stream",
     "text": [
      "Consistency points: {7.253907469412738: 212, 7.994482473769978: 125, 7.994630839368281: 1289, 7.994938750615713: 230, 7.994174562522545: 68, 7.254066341198572: 100, 7.007101074282165: 1112, 7.253233671231096: 30, 7.253983515553694: 136, 8.0: 86, 7.9940617995375804: 505, 7.994204059495256: 65, 7.99586248435801: 1420, 7.254061425036454: 169, 7.994511970742688: 70, 7.2538412555960186: 80, 7.994121364636284: 20, 7.994022470240633: 739, 7.253304801209934: 77, 7.2548086162563745: 45, 7.993904386377765: 20, 7.993879805567174: 33, 7.25345875683365: 45, 7.25413747117741: 201, 7.254291426801126: 113, 7.253831423271782: 104, 7.253228755068978: 100, 7.254654660632658: 30, 7.253912385574856: 83, 7.253866121983252: 34, 7.99597312952621: 30, 7.994914184477671: 20, 7.254578614491702: 47, 7.9904758584467475: 3, 7.994352972242014: 10, 7.994348056079896: 11, 7.990406461023808: 7, 7.991158568405846: 5, 7.252626086866173: 58, 7.990712508929436: 12, 7.253975946288898: 33, 7.99067116149995: 4, 7.9905585533057195: 6, 7.991188350955198: 6, 7.2538363394339: 111, 7.990441159735278: 5, 7.99063646278848: 6, 7.2532634537804475: 13, 7.991900843463649: 4, 7.991153652243728: 7, 7.255325805711624: 12, 7.9952944151824505: 25, 7.2545835306538216: 23, 7.994300059932394: 101, 7.989201124618199: 64, 7.994938765288262: 4, 7.994260036271953: 38, 7.253900820694723: 16, 7.99403230256487: 40, 7.254613313203173: 5, 7.995516852680475: 45, 7.996896863268508: 23, 7.995546349653186: 6, 7.990411377185926: 7, 7.990641378950598: 6, 7.2540961237479245: 16, 7.253871038145371: 26, 7.990446075897396: 6, 7.9941332150930595: 14, 7.994382754791365: 6, 7.990416293348044: 6, 7.994091867663574: 10, 7.253942168124208: 13, 7.994162712065769: 24, 7.990487423326882: 9, 7.990866464553152: 6, 7.991229698384684: 10, 7.990482507164764: 12, 7.996064193301032: 14, 7.994690666038798: 7, 7.990517205876234: 4, 7.995725044949296: 1, 7.9940532991245234: 3, 7.995087678035021: 1, 1.7517752685705412: 1}\n",
      "../rcv_elections_database/single/NewYorkCity_06222021_DEMCouncilMember17thCouncilDistrict.csv\n"
     ]
    },
    {
     "name": "stderr",
     "output_type": "stream",
     "text": [
      "/Users/es5891/Documents/GitHub/bugs-in-democracy/rcv_exploration/../rcv_learning/rcv_dimensionality.py:188: RuntimeWarning: divide by zero encountered in divide\n",
      "  distance = 1 / np.sqrt(freq_upper_triangle)\n"
     ]
    },
    {
     "name": "stdout",
     "output_type": "stream",
     "text": [
      "Normalized distances: {'Helen Hines': 0.0, 'Rafael Salamanca Jr.': 1.0}\n"
     ]
    },
    {
     "name": "stderr",
     "output_type": "stream",
     "text": [
      "/Users/es5891/Documents/GitHub/bugs-in-democracy/rcv_exploration/../rcv_learning/rcv_dimensionality.py:188: RuntimeWarning: divide by zero encountered in divide\n",
      "  distance = 1 / np.sqrt(freq_upper_triangle)\n"
     ]
    },
    {
     "name": "stdout",
     "output_type": "stream",
     "text": [
      "Consistency points: {1.0: 2908, 0.25: 1943, 0.0: 1623}\n",
      "../rcv_elections_database/single/NewYorkCity_06222021_CONCouncilMember19thCouncilDistrict.csv\n"
     ]
    },
    {
     "name": "stderr",
     "output_type": "stream",
     "text": [
      "/Users/es5891/Documents/GitHub/bugs-in-democracy/rcv_exploration/../rcv_learning/rcv_dimensionality.py:188: RuntimeWarning: divide by zero encountered in divide\n",
      "  distance = 1 / np.sqrt(freq_upper_triangle)\n"
     ]
    },
    {
     "name": "stdout",
     "output_type": "stream",
     "text": [
      "Normalized distances: {'John-Alexander Sakelos': 0.0, 'Dawn A. Anatra': 1.0}\n"
     ]
    },
    {
     "name": "stderr",
     "output_type": "stream",
     "text": [
      "/Users/es5891/Documents/GitHub/bugs-in-democracy/rcv_exploration/../rcv_learning/rcv_dimensionality.py:188: RuntimeWarning: divide by zero encountered in divide\n",
      "  distance = 1 / np.sqrt(freq_upper_triangle)\n"
     ]
    },
    {
     "name": "stdout",
     "output_type": "stream",
     "text": [
      "Consistency points: {0.0: 71, 0.25: 37, 1.0: 6}\n",
      "../rcv_elections_database/single/NewYorkCity_06222021_DEMCouncilMember21stCouncilDistrict.csv\n"
     ]
    },
    {
     "name": "stderr",
     "output_type": "stream",
     "text": [
      "/Users/es5891/Documents/GitHub/bugs-in-democracy/rcv_exploration/../rcv_learning/rcv_dimensionality.py:188: RuntimeWarning: divide by zero encountered in divide\n",
      "  distance = 1 / np.sqrt(freq_upper_triangle)\n"
     ]
    },
    {
     "name": "stdout",
     "output_type": "stream",
     "text": [
      "Normalized distances: {'Francisco P. Moya': 0.0, 'Ingrid P. Gomez': 0.8181174144838262, 'George Onuorah': 1.9098424565834682, 'David Aiken': 2.704093482535988, 'Talea E. Wufka': 4.0}\n"
     ]
    },
    {
     "name": "stderr",
     "output_type": "stream",
     "text": [
      "/Users/es5891/Documents/GitHub/bugs-in-democracy/rcv_exploration/../rcv_learning/rcv_dimensionality.py:188: RuntimeWarning: divide by zero encountered in divide\n",
      "  distance = 1 / np.sqrt(freq_upper_triangle)\n"
     ]
    },
    {
     "name": "stdout",
     "output_type": "stream",
     "text": [
      "Consistency points: {0.48029590596706656: 1532, 1.6953127141061406: 426, 4.0: 139, 0.0: 459, 1.0: 32, 0.9170547048987789: 28, 0.784050108001835: 183, 0.12007397649176664: 169, 0.9052242971730629: 68, 0.5568327754234791: 6, 2.7593494892816923: 185, 1.050059301795723: 80, 0.8664539687131159: 17, 2.2714845355796056: 23, 0.9439946256330101: 10, 1.9534877622510105: 8, 1.0721360187385676: 20, 2.784630419046941: 3, 1.7794263127597025: 2, 0.42382817852653515: 24, 1.2051406156355116: 11, 1.3602219294753: 27, 2.0595704463163376: 2, 0.7119140892632676: 4, 0.6343734323433733: 8, 1.8514477904438857: 11, 1.9613219079000286: 33, 0.9945953618186731: 4, 3.069512116961269: 12, 0.6898373723204231: 21, 1.8094448068826443: 5, 2.936507520064325: 4, 0.8449186861602116: 5, 2.1164032217398168: 2, 2.010446177108183: 2, 1.749407818636761: 4, 2.7245934308010575: 1, 2.8605689695556333: 1}\n",
      "../rcv_elections_database/single/Oakland_11082016_CityCouncilDistrict7.csv\n"
     ]
    },
    {
     "name": "stderr",
     "output_type": "stream",
     "text": [
      "/Users/es5891/Documents/GitHub/bugs-in-democracy/rcv_exploration/../rcv_learning/rcv_dimensionality.py:188: RuntimeWarning: divide by zero encountered in divide\n",
      "  distance = 1 / np.sqrt(freq_upper_triangle)\n"
     ]
    },
    {
     "name": "stdout",
     "output_type": "stream",
     "text": [
      "Normalized distances: {'LARRY E. REID': 0.0, 'MARCIE HODGE': 0.9591695993324191, 'NEHANDA IMARA': 2.0}\n"
     ]
    },
    {
     "name": "stderr",
     "output_type": "stream",
     "text": [
      "/Users/es5891/Documents/GitHub/bugs-in-democracy/rcv_exploration/../rcv_learning/rcv_dimensionality.py:188: RuntimeWarning: divide by zero encountered in divide\n",
      "  distance = 1 / np.sqrt(freq_upper_triangle)\n"
     ]
    },
    {
     "name": "stdout",
     "output_type": "stream",
     "text": [
      "Consistency points: {0.2602076001668952: 419, 2.0: 3510, 1.150519000417238: 1040, 0.3801038000834476: 1029, 0.0: 932, 1.0408304006675808: 1027, 1.2806228005006857: 427, 0.5: 275}\n",
      "../rcv_elections_database/single/Portland_06142022_Schoolboarddistrict5.csv\n",
      "Skipping file: ../rcv_elections_database/single/Portland_06142022_Schoolboarddistrict5.csv\n",
      "../rcv_elections_database/single/Albany_11082022_FAKECityCouncil.csv\n"
     ]
    },
    {
     "name": "stderr",
     "output_type": "stream",
     "text": [
      "/Users/es5891/Documents/GitHub/bugs-in-democracy/rcv_exploration/../rcv_learning/rcv_dimensionality.py:188: RuntimeWarning: divide by zero encountered in divide\n",
      "  distance = 1 / np.sqrt(freq_upper_triangle)\n"
     ]
    },
    {
     "name": "stdout",
     "output_type": "stream",
     "text": [
      "Normalized distances: {'NICK PILCH': 0.0, 'JEREMIAH GARRETT PINGUELO': 0.27764057421860977, 'ROBIN D  LOPEZ': 0.7094053453282424, 'JENNIFER HANSEN ROMERO': 1.1742549845374741, 'Write in': 4.0}\n"
     ]
    },
    {
     "name": "stderr",
     "output_type": "stream",
     "text": [
      "/Users/es5891/Documents/GitHub/bugs-in-democracy/rcv_exploration/../rcv_learning/rcv_dimensionality.py:188: RuntimeWarning: divide by zero encountered in divide\n",
      "  distance = 1 / np.sqrt(freq_upper_triangle)\n"
     ]
    },
    {
     "name": "stdout",
     "output_type": "stream",
     "text": [
      "Consistency points: {1.174254984537475: 448, 0.8256177551305511: 67, 0.7542946228531838: 134, 0.7094053453282432: 191, 0.1773513363320608: 355, 0.3855817669960183: 18, 0.0: 203, 0.7369420869645207: 65, 0.29356374613436875: 106, 0.23545754123321477: 134, 0.771647158741847: 27, 0.27764057421861005: 46, 0.5017941767983263: 15, 0.4069150958636211: 71, 0.12338073994335666: 4, 4.0: 12, 1.5320540089961825: 4, 0.06941014355465251: 14, 1.0: 4, 1.8806912384031063: 4, 0.4436879718971723: 5, 0.699736569132337: 1}\n",
      "../rcv_elections_database/single/Minneapolis_11022021_CityCouncilWard9.csv\n"
     ]
    },
    {
     "name": "stderr",
     "output_type": "stream",
     "text": [
      "/Users/es5891/Documents/GitHub/bugs-in-democracy/rcv_exploration/../rcv_learning/rcv_dimensionality.py:188: RuntimeWarning: divide by zero encountered in divide\n",
      "  distance = 1 / np.sqrt(freq_upper_triangle)\n"
     ]
    },
    {
     "name": "stdout",
     "output_type": "stream",
     "text": [
      "Normalized distances: {'Jon Randall Denison': 0.0, 'Yussuf Haji': 2.6507294766947007, 'Jason Chavez': 3.213301968170646, 'Carmen Means': 3.4559551938299085, 'Brenda Short': 3.6447539695679616, 'Alfred \"AJ\" Flowers Jr.': 4.156060232677007, 'Mickey Moore': 5.707368960019691, 'Ross Tenneson': 7.0}\n"
     ]
    },
    {
     "name": "stderr",
     "output_type": "stream",
     "text": [
      "/Users/es5891/Documents/GitHub/bugs-in-democracy/rcv_exploration/../rcv_learning/rcv_dimensionality.py:188: RuntimeWarning: divide by zero encountered in divide\n",
      "  distance = 1 / np.sqrt(freq_upper_triangle)\n"
     ]
    },
    {
     "name": "stdout",
     "output_type": "stream",
     "text": [
      "Consistency points: {4.349270523305298: 522, 1.2926310399803085: 330, 3.6047081125849068: 13, 3.786698031829354: 1694, 3.809496371635045: 97, 2.843939767322993: 82, 1.91614778794257: 89, 3.6155827807172094: 56, 3.149950894884076: 13, 1.6804582218159796: 47, 3.544044806170091: 44, 3.92734115469834: 313, 1.8082847875932408: 15, 3.873409654523676: 133, 0.0: 181, 3.355246030432038: 59, 1.8622162877679054: 14, 1.7983030048792747: 14, 3.58110826561765: 10, 1.767971351671867: 7, 1.8686245663137677: 13, 1.518879341818441: 7, 1.8554844815277542: 3, 2.056790910811556: 46, 1.9864693493770629: 31, 1.7443715047046102: 24, 4.5900235238720155: 25, 3.049297680242175: 8, 3.8829548254922446: 2, 3.205282156974901: 9, 3.0796293334495832: 13, 3.53343059221586: 15, 4.278265149890885: 6, 2.263879033789236: 1, 3.432777377573959: 5, 7.0: 22, 1.75: 10, 0.3231577599950771: 22, 0.8624113545752661: 6, 3.220272456318569: 8, 3.551613640905407: 2, 0.9466745079573385: 11, 3.657838105598006: 2, 1.956137696169655: 2, 2.777852742182419: 3, 3.463109030781367: 11, 3.0189660270347676: 5, 0.5170713509129127: 10, 3.603752153650353: 3, 0.7109849418307482: 7, 0.8288297248940434: 4, 3.3991957478927364: 11, 3.0256978332749185: 3, 3.184346399846348: 1, 1.8318846345604975: 5, 5.011952892478973: 1, 3.119619241676668: 5, 0.6349161339762078: 7, 2.3178105339639004: 4, 3.5171949827290194: 5, 3.4024457243665513: 6, 2.825052436116932: 2, 3.345925279843887: 4, 3.096019394709412: 4, 1.4186588154131623: 1, 4.62987295706335: 1, 2.995366180067511: 5, 4.116686269893346: 2, 2.8857157425317475: 3, 3.3385324414779207: 6, 1.885816134735162: 6, 0.9866644161844237: 1, 1.0873176308263246: 7, 1.2304924709153742: 1, 0.5809846338015433: 1, 2.6634735561193934: 1, 0.9163428547499306: 2, 0.6045844807687999: 1, 1.9325378492023984: 4, 0.7748982247193789: 1, 2.2874788807564927: 1, 1.3483372539786693: 1, 2.3881320953983938: 1, 0.8388115076080095: 1, 0.7984980716866354: 2, 4.266434522824029: 1, 0.8991512863285365: 2, 2.971766333100254: 1, 3.46392451468017: 1, 3.026358865400734: 1, 1.3180056007712615: 1}\n",
      "../rcv_elections_database/single/Minneapolis_11052013_Ward13CityCouncil.csv\n"
     ]
    },
    {
     "name": "stderr",
     "output_type": "stream",
     "text": [
      "/Users/es5891/Documents/GitHub/bugs-in-democracy/rcv_exploration/../rcv_learning/rcv_dimensionality.py:188: RuntimeWarning: divide by zero encountered in divide\n",
      "  distance = 1 / np.sqrt(freq_upper_triangle)\n"
     ]
    },
    {
     "name": "stdout",
     "output_type": "stream",
     "text": [
      "Normalized distances: {'LINEA PALMISANO': 0.0, 'MISSY DURANT': 0.6786559804934826, 'MATT PERRY': 0.6817119456229669, 'BOB REUER': 1.7361102753520026, 'DAVID REGAN': 4.0}\n"
     ]
    },
    {
     "name": "stderr",
     "output_type": "stream",
     "text": [
      "/Users/es5891/Documents/GitHub/bugs-in-democracy/rcv_exploration/../rcv_learning/rcv_dimensionality.py:188: RuntimeWarning: divide by zero encountered in divide\n",
      "  distance = 1 / np.sqrt(freq_upper_triangle)\n"
     ]
    },
    {
     "name": "stdout",
     "output_type": "stream",
     "text": [
      "Consistency points: {3.318288054377022: 706, 2.6127033002831253: 47, 3.4887160407827666: 579, 4.0: 734, 2.2638897246479965: 281, 3.321344019506528: 101, 3.491008014629896: 113, 2.527489307080253: 43, 3.319052045659398: 198, 3.3569162495666385: 121, 2.6979172934859976: 13, 3.0758400121915797: 7, 0.5659724311619991: 95, 2.6130852959243134: 5, 2.2452670827816297: 5, 3.3588262277725796: 24, 0.0: 32, 0.6981542180193155: 4, 3.0739300339856386: 27, 2.2445030914992534: 33, 0.915168002438316: 1, 2.527871302721441: 23, 2.528253298362629: 8, 2.4149310779049977: 11, 0.6977722223781273: 15, 0.7829862155809996: 7, 0.8295720135942555: 1, 0.9147860067971277: 6, 0.8299540092354437: 1, 1.0: 1, 0.830336004876632: 1}\n",
      "../rcv_elections_database/single/SanFrancisco_11072006_BoardofSupervisorsDistrict4.csv\n"
     ]
    },
    {
     "name": "stderr",
     "output_type": "stream",
     "text": [
      "/Users/es5891/Documents/GitHub/bugs-in-democracy/rcv_exploration/../rcv_learning/rcv_dimensionality.py:188: RuntimeWarning: divide by zero encountered in divide\n",
      "  distance = 1 / np.sqrt(freq_upper_triangle)\n"
     ]
    },
    {
     "name": "stdout",
     "output_type": "stream",
     "text": [
      "Normalized distances: {'Houston Zheng': 0.0, 'Doug Chan': 2.356523472798771, 'Ed Jew': 2.8005019495449153, 'Jaynry Mak': 3.4320444566808943, 'Ron Dudum': 3.6813447784557756, 'David Ferguson': 5.0}\n"
     ]
    },
    {
     "name": "stderr",
     "output_type": "stream",
     "text": [
      "/Users/es5891/Documents/GitHub/bugs-in-democracy/rcv_exploration/../rcv_learning/rcv_dimensionality.py:188: RuntimeWarning: divide by zero encountered in divide\n",
      "  distance = 1 / np.sqrt(freq_upper_triangle)\n"
     ]
    },
    {
     "name": "stdout",
     "output_type": "stream",
     "text": [
      "Consistency points: {1.2161483992949158: 197, 1.5679555433191048: 1097, 0.0: 385, 2.1994980504550847: 1042, 0.4709316992217737: 93, 1.7258411701030998: 92, 2.643476527201228: 634, 1.374034026078911: 243, 1.7813384796963678: 608, 0.3919888858297762: 94, 1.3186552215442235: 1638, 1.5943632383652067: 295, 0.43976915899991353: 106, 2.231549856249623: 742, 2.902172829500768: 31, 1.6498605479584747: 192, 1.6408413463747475: 96, 2.3104926696416204: 138, 2.200387316027763: 217, 0.5264290088150416: 48, 1.4850286452654466: 212, 1.5298467271882117: 106, 2.035555413334735: 74, 2.624686281534428: 29, 1.3809803019879439: 127, 0.36082634560791604: 92, 1.8368357892896356: 129, 0.49526646859318146: 47, 2.238991416158168: 9, 1.5388659287719388: 166, 0.3296638053860559: 84, 0.660869131800307: 13, 2.8996235378413138: 27, 0.6053718222070391: 25, 0.8999372563068856: 25, 3.232607395400921: 13, 1.9444259820583212: 32, 0.9554345659001535: 13, 0.5498745126137712: 23, 2.4259666574893286: 21, 5.0: 31, 1.25: 2}\n",
      "../rcv_elections_database/single/NewYorkCity_06222021_DEMCouncilMember12thCouncilDistrict.csv\n"
     ]
    },
    {
     "name": "stderr",
     "output_type": "stream",
     "text": [
      "/Users/es5891/Documents/GitHub/bugs-in-democracy/rcv_exploration/../rcv_learning/rcv_dimensionality.py:188: RuntimeWarning: divide by zero encountered in divide\n",
      "  distance = 1 / np.sqrt(freq_upper_triangle)\n"
     ]
    },
    {
     "name": "stdout",
     "output_type": "stream",
     "text": [
      "Normalized distances: {'Kevin Riley': 0.0, 'Pamela A. Hamilton-Johnson': 1.0566186468233536, 'Shanequa Moore': 2.0}\n"
     ]
    },
    {
     "name": "stderr",
     "output_type": "stream",
     "text": [
      "/Users/es5891/Documents/GitHub/bugs-in-democracy/rcv_exploration/../rcv_learning/rcv_dimensionality.py:188: RuntimeWarning: divide by zero encountered in divide\n",
      "  distance = 1 / np.sqrt(freq_upper_triangle)\n"
     ]
    },
    {
     "name": "stdout",
     "output_type": "stream",
     "text": [
      "Consistency points: {0.36792266914708077: 1305, 2.0: 3585, 0.23584533829416154: 312, 0.0: 1069, 0.9433813531766462: 1420, 1.2075360148824847: 408, 1.0896133457354038: 1040, 0.5: 262}\n",
      "../rcv_elections_database/single/Alaska_11082022_SenateDistrictM.csv\n",
      "Skipping file: ../rcv_elections_database/single/Alaska_11082022_SenateDistrictM.csv\n",
      "../rcv_elections_database/single/SanFrancisco_11022004_BoardofSupervisorsDistrict11.csv\n"
     ]
    },
    {
     "name": "stderr",
     "output_type": "stream",
     "text": [
      "/Users/es5891/Documents/GitHub/bugs-in-democracy/rcv_exploration/../rcv_learning/rcv_dimensionality.py:188: RuntimeWarning: divide by zero encountered in divide\n",
      "  distance = 1 / np.sqrt(freq_upper_triangle)\n"
     ]
    },
    {
     "name": "stdout",
     "output_type": "stream",
     "text": [
      "Normalized distances: {'Fil M. Silverio': 0.0, 'Rolando A. Bonialla': 3.4972373590484302, 'Myrna Viray Lim': 4.04997368726271, 'Tom Yuen': 4.206735913343571, 'Anita Grier': 4.758667189141855, 'Gerardo Sandoval': 5.011379882357542, 'Jose Medina': 5.676604066073866, 'Rebecca Reynolds Silverberg': 7.0}\n"
     ]
    },
    {
     "name": "stderr",
     "output_type": "stream",
     "text": [
      "/Users/es5891/Documents/GitHub/bugs-in-democracy/rcv_exploration/../rcv_learning/rcv_dimensionality.py:188: RuntimeWarning: divide by zero encountered in divide\n",
      "  distance = 1 / np.sqrt(freq_upper_triangle)\n"
     ]
    },
    {
     "name": "stdout",
     "output_type": "stream",
     "text": [
      "Consistency points: {1.5646290368881564: 74, 1.6414668408940298: 79, 1.7105588819208148: 33, 1.6218715626339224: 38, 1.5528801531591367: 42, 1.609877754242069: 90, 1.521291066507176: 139, 1.3242774881144481: 81, 1.489701979855215: 114, 1.8682376106824932: 35, 1.7104582503688155: 24, 1.323395933926134: 411, 2.8848815974394655: 80, 2.999623707055967: 54, 2.719457105698699: 42, 3.08821039479086: 38, 2.95002631273729: 756, 2.1383395849706632: 121, 2.2645735201912145: 39, 2.3989109080678235: 109, 2.241332810858145: 470, 0.534177780832928: 61, 0.4455910930980349: 88, 0.414002006446074: 74, 0.603269821859713: 58, 0.5145825025728205: 20, 0.8065986192111075: 45, 0.7375065781843225: 44, 0.6489198904494293: 101, 0.5603332027145362: 32, 0.6173308037974685: 40, 0.4971550294106144: 44, 0.717911299924215: 17, 0.0: 212, 2.145818643451625: 191, 1.9803941517108585: 92, 2.298063707442951: 114, 2.228971666416166: 118, 1.968645267981839: 250, 2.0517982909463797: 148, 3.241465088231843: 9, 2.1185782337644286: 90, 2.367155748469736: 132, 2.1066280869314102: 51, 2.209376388156058: 74, 1.9412035951906432: 33, 2.1897811098959505: 28, 1.9886201176424576: 1821, 3.50276264095157: 448, 2.763463233701859: 183, 2.731874147049898: 91, 2.621480714398161: 6, 2.7932640866564293: 221, 1.7991455696557082: 43, 1.38745566141837: 128, 2.305392280563547: 10, 2.9680346204040062: 100, 3.9625197345529677: 23, 2.30376407671143: 81, 2.418506186327931: 47, 2.2765236670242333: 35, 7.0: 58, 0.3308489834815335: 33, 0.6293246121893218: 32, 0.5287441160625753: 48, 0.6864228448242535: 37, 0.5977355255373609: 23, 0.8756906602378925: 23, 2.278468429182843: 15, 3.9392266505947315: 7, 2.8324546431766446: 107, 0.6983160216641073: 7, 1.7300535286289231: 35, 2.7425469504446003: 5, 2.441948158765: 42, 1.5902824759819614: 50, 1.525438480367941: 4, 1.7795502913956005: 10, 3.4309996081436087: 10, 1.2437532890921612: 14, 0.7180119314762143: 44, 1.75: 5, 1.3128453301189462: 3, 2.3793156298077163: 25, 1.2241580108320536: 5, 3.8449480649923222: 4, 3.5937664454608065: 17, 2.487598227354716: 23, 2.099149028450448: 24, 4.377071980713677: 6, 2.556690268381501: 22, 2.870058229103468: 8, 2.9706387252302147: 3, 1.6908629721087078: 6, 2.4680029490946085: 10, 2.901647315755429: 2, 0.787003340951: 1, 2.7869052061389277: 2}\n",
      "../rcv_elections_database/single/NewYorkCity_06222021_REPCouncilMember50thCouncilDistrict.csv\n"
     ]
    },
    {
     "name": "stderr",
     "output_type": "stream",
     "text": [
      "/Users/es5891/Documents/GitHub/bugs-in-democracy/rcv_exploration/../rcv_learning/rcv_dimensionality.py:188: RuntimeWarning: divide by zero encountered in divide\n",
      "  distance = 1 / np.sqrt(freq_upper_triangle)\n"
     ]
    },
    {
     "name": "stdout",
     "output_type": "stream",
     "text": [
      "Normalized distances: {'Jordan Hafizi': 0.0, 'David M. Carr': 1.4488671337693966, 'Sam T. Pirozzolo': 2.125259309540302, 'Marko Kepi': 2.8976889325841695, 'Kathleen Sforza': 4.0}\n"
     ]
    },
    {
     "name": "stderr",
     "output_type": "stream",
     "text": [
      "/Users/es5891/Documents/GitHub/bugs-in-democracy/rcv_exploration/../rcv_learning/rcv_dimensionality.py:188: RuntimeWarning: divide by zero encountered in divide\n",
      "  distance = 1 / np.sqrt(freq_upper_triangle)\n"
     ]
    },
    {
     "name": "stdout",
     "output_type": "stream",
     "text": [
      "Consistency points: {1.2940228887959988: 162, 1.1023110674158305: 1700, 1.8691583529365035: 1227, 2.556715203753797: 812, 2.041047565640827: 203, 0.0: 240, 1.4659121015003223: 138, 1.4016258325779263: 55, 1.9451916549507426: 66, 1.1562340053690199: 11, 0.27557776685395763: 34, 4.0: 122, 1.3799674951481604: 50, 0.6391788009384493: 47, 0.5532341945862875: 13, 1.3281232180733433: 28, 1.8267333005618729: 51, 1.9405803744652323: 14, 2.4018687647023773: 32, 1.807402771523764: 36, 1.9428860147079876: 56, 2.0199580593629456: 24, 2.917536402815348: 27, 2.078369257892211: 11, 1.311073053434671: 23, 0.46728958823412586: 29, 0.6434394943516752: 4, 0.8195894004692246: 4, 0.45737828389620344: 7, 0.4595086306028165: 4, 0.3714336775440418: 5, 2.1682239705853146: 5, 0.733644794117063: 7, 1.8762972132372533: 15, 2.104635768113071: 5, 2.5979470023461233: 7, 0.41440598072012264: 1, 2.735735885773102: 6, 1.2471342638901428: 2, 1.6463227010310975: 8, 1.4701727949135481: 12, 1.509228776359854: 1, 1.0: 3, 1.3373395636555305: 2, 2.6668414440596124: 2}\n",
      "../rcv_elections_database/single/SanFrancisco_11062018_AssessorRecorder.csv\n"
     ]
    },
    {
     "name": "stderr",
     "output_type": "stream",
     "text": [
      "/Users/es5891/Documents/GitHub/bugs-in-democracy/rcv_exploration/../rcv_learning/rcv_dimensionality.py:188: RuntimeWarning: divide by zero encountered in divide\n",
      "  distance = 1 / np.sqrt(freq_upper_triangle)\n"
     ]
    },
    {
     "name": "stdout",
     "output_type": "stream",
     "text": [
      "Normalized distances: {'PAUL BELLAR': 0.0, 'CARMEN CHU': 1.0}\n"
     ]
    },
    {
     "name": "stderr",
     "output_type": "stream",
     "text": [
      "/Users/es5891/Documents/GitHub/bugs-in-democracy/rcv_exploration/../rcv_learning/rcv_dimensionality.py:188: RuntimeWarning: divide by zero encountered in divide\n",
      "  distance = 1 / np.sqrt(freq_upper_triangle)\n"
     ]
    },
    {
     "name": "stdout",
     "output_type": "stream",
     "text": [
      "Consistency points: {1.0: 137989, 0.0: 46121, 0.25: 34437}\n",
      "Error in file: ../rcv_elections_database/single/SanFrancisco_11062018_AssessorRecorder.csv\n",
      "unsupported operand type(s) for -: 'float' and 'NoneType'\n",
      "../rcv_elections_database/single/Minneapolis_11062009_Ward4CityCouncil.csv\n"
     ]
    },
    {
     "name": "stderr",
     "output_type": "stream",
     "text": [
      "/Users/es5891/Documents/GitHub/bugs-in-democracy/rcv_exploration/../rcv_learning/rcv_dimensionality.py:188: RuntimeWarning: divide by zero encountered in divide\n",
      "  distance = 1 / np.sqrt(freq_upper_triangle)\n"
     ]
    },
    {
     "name": "stdout",
     "output_type": "stream",
     "text": [
      "Normalized distances: {'Barbara A. Johnson': 0.0, 'Troy Parker': 1.131116161342684, 'Marcus Harcus': 1.7074714696103706, 'Grant Cermak': 3.0}\n"
     ]
    },
    {
     "name": "stderr",
     "output_type": "stream",
     "text": [
      "/Users/es5891/Documents/GitHub/bugs-in-democracy/rcv_exploration/../rcv_learning/rcv_dimensionality.py:188: RuntimeWarning: divide by zero encountered in divide\n",
      "  distance = 1 / np.sqrt(freq_upper_triangle)\n"
     ]
    },
    {
     "name": "stdout",
     "output_type": "stream",
     "text": [
      "Consistency points: {0.0: 190, 0.5365660662987037: 7, 0.3951765461308682: 36, 0.32313213259740736: 23, 0.75: 33, 0.6086104798321645: 17, 0.4672209596643291: 14, 1.5578303314935185: 10, 1.719396397792222: 40, 1.2750512911578475: 71, 1.436617357456551: 45, 1.5780068776243867: 79, 1.2925285303896294: 83, 3.0: 855, 2.1516628789929872: 110, 1.9180523991608227: 31, 1.8688838386573163: 291}\n",
      "../rcv_elections_database/single/Alaska_04102020_PRESIDENTOFTHEUNITEDSTATES.csv\n",
      "Skipping file: ../rcv_elections_database/single/Alaska_04102020_PRESIDENTOFTHEUNITEDSTATES.csv\n",
      "../rcv_elections_database/single/NewYorkCity_06222021_DEMCouncilMember41stCouncilDistrict.csv\n"
     ]
    },
    {
     "name": "stderr",
     "output_type": "stream",
     "text": [
      "/Users/es5891/Documents/GitHub/bugs-in-democracy/rcv_exploration/../rcv_learning/rcv_dimensionality.py:188: RuntimeWarning: divide by zero encountered in divide\n",
      "  distance = 1 / np.sqrt(freq_upper_triangle)\n"
     ]
    },
    {
     "name": "stdout",
     "output_type": "stream",
     "text": [
      "Normalized distances: {'Darlene Mealy': 0.0, 'Alicka Tani Ampry-Samuel': 1.0}\n"
     ]
    },
    {
     "name": "stderr",
     "output_type": "stream",
     "text": [
      "/Users/es5891/Documents/GitHub/bugs-in-democracy/rcv_exploration/../rcv_learning/rcv_dimensionality.py:188: RuntimeWarning: divide by zero encountered in divide\n",
      "  distance = 1 / np.sqrt(freq_upper_triangle)\n"
     ]
    },
    {
     "name": "stdout",
     "output_type": "stream",
     "text": [
      "Consistency points: {0.0: 4290, 0.25: 4584, 1.0: 3482}\n",
      "Error in file: ../rcv_elections_database/single/NewYorkCity_06222021_DEMCouncilMember41stCouncilDistrict.csv\n",
      "unsupported operand type(s) for -: 'float' and 'NoneType'\n",
      "../rcv_elections_database/single/SanFrancisco_11042008_BoardofSupervisorsDistrict5.csv\n"
     ]
    },
    {
     "name": "stderr",
     "output_type": "stream",
     "text": [
      "/Users/es5891/Documents/GitHub/bugs-in-democracy/rcv_exploration/../rcv_learning/rcv_dimensionality.py:188: RuntimeWarning: divide by zero encountered in divide\n",
      "  distance = 1 / np.sqrt(freq_upper_triangle)\n"
     ]
    },
    {
     "name": "stdout",
     "output_type": "stream",
     "text": [
      "Normalized distances: {'ROB ANDERSON': 0.0, \"OWEN P. O''DONNELL\": 0.95270469468908, 'ROSS MIRKARIMI': 2.0}\n"
     ]
    },
    {
     "name": "stderr",
     "output_type": "stream",
     "text": [
      "/Users/es5891/Documents/GitHub/bugs-in-democracy/rcv_exploration/../rcv_learning/rcv_dimensionality.py:188: RuntimeWarning: divide by zero encountered in divide\n",
      "  distance = 1 / np.sqrt(freq_upper_triangle)\n"
     ]
    },
    {
     "name": "stdout",
     "output_type": "stream",
     "text": [
      "Consistency points: {2.0: 12343, 0.9527046946890805: 1346, 0.0: 427, 1.0954404341806754: 1969, 0.36908808683613503: 656, 0.23817617367227012: 246, 1.2145285210168104: 514, 0.5: 137}\n",
      "../rcv_elections_database/single/Payson_11052019_CityCouncil.csv\n",
      "Skipping file: ../rcv_elections_database/single/Payson_11052019_CityCouncil.csv\n",
      "../rcv_elections_database/single/SanFrancisco_11032020_BOARDOFSUPERVISORSDISTRICT1.csv\n"
     ]
    },
    {
     "name": "stderr",
     "output_type": "stream",
     "text": [
      "/Users/es5891/Documents/GitHub/bugs-in-democracy/rcv_exploration/../rcv_learning/rcv_dimensionality.py:188: RuntimeWarning: divide by zero encountered in divide\n",
      "  distance = 1 / np.sqrt(freq_upper_triangle)\n"
     ]
    },
    {
     "name": "stdout",
     "output_type": "stream",
     "text": [
      "Normalized distances: {'MARJAN PHILHOUR': 0.0, 'DAVID E. LEE': 0.7999504423676806, 'CONNIE CHAN': 1.115271673555816, 'AMANDA INOCENCIO': 3.0338091299628873, 'VERONICA SHINZATO': 3.677237600538436, 'ANDREW N. MAJALYA': 5.451849543441469, \"SHERMAN R. D'SILVA\": 6.0}\n"
     ]
    },
    {
     "name": "stderr",
     "output_type": "stream",
     "text": [
      "/Users/es5891/Documents/GitHub/bugs-in-democracy/rcv_exploration/../rcv_learning/rcv_dimensionality.py:188: RuntimeWarning: divide by zero encountered in divide\n",
      "  distance = 1 / np.sqrt(freq_upper_triangle)\n"
     ]
    },
    {
     "name": "stdout",
     "output_type": "stream",
     "text": [
      "Consistency points: {0.49377022609261007: 572, 0.5461317636709117: 853, 4.266733768640581: 250, 0.9278501528044094: 4155, 0.41889230062641236: 2735, 1.2939100409443465: 17, 0.0: 753, 6.0: 32, 1.3808526676299544: 141, 1.7837076964919998: 144, 1.4019893073585021: 318, 0.23196253820110235: 286, 0.10472307515660309: 410, 1.8141692254698092: 30, 0.1683428066788527: 237, 1.596637973900029: 23, 1.3914209874942283: 72, 4.287870408369129: 43, 4.351280327554771: 164, 2.988002942751121: 4, 1.5: 21, 1.0666834421601452: 33, 0.7136806367047508: 63, 1.6080792664141557: 41, 1.02784986217456: 34, 1.4095682513080579: 61, 1.214919584766531: 17, 1.1802967415522458: 4, 1.5975109465498818: 5, 2.854722546819003: 47, 3.228861992002945: 7, 0.6460096164796469: 21, 1.773139376627726: 13, 2.195887614603307: 9, 1.2043512649022574: 18, 1.9897976555476533: 4, 0.890182039432448: 2, 4.219550204721732: 3, 1.5022672081972674: 4, 4.253470275673896: 2, 1.7625710567634523: 25, 1.4944659670220553: 9, 4.763460245666078: 8, 1.0878200818886927: 58, 1.586069654035755: 12, 1.5075513681294042: 6, 3.2077253522743976: 7, 1.8027279329556825: 7, 4.700050326480436: 20, 1.4210095438221848: 5, 1.077251762024419: 10, 3.2182936721386715: 2, 3.6410419101142524: 4, 4.219070142978665: 5, 3.434951951058599: 1, 2.8720216736505697: 1, 2.9032465715003237: 2, 0.9007503592967218: 5, 4.455960998448195: 1, 3.3365631293401785: 1, 4.523548923752738: 2, 1.876184356155553: 1, 3.1643442021635404: 1, 4.262830016357171: 1, 4.271911742300033: 3, 1.0037953388245486: 2, 3.2827125606715617: 1, 4.166708605400363: 5, 3.272144240807288: 1, 3.238673764275692: 1, 1.3126804043622209: 1, 1.2833417210800726: 5, 2.9668663030225733: 3, 1.9792293356833797: 1, 1.6943987934957188: 2, 3.0660542817516343: 1, 1.2096354248343943: 2, 1.3179645642943578: 1, 2.9300123082008454: 3, 4.282689874500914: 1, 1.1068403183523754: 2, 3.052963897357059: 1, 1.6996829534278557: 1}\n",
      "../rcv_elections_database/single/Alaska_11082022_HouseDistrict16.csv\n",
      "Skipping file: ../rcv_elections_database/single/Alaska_11082022_HouseDistrict16.csv\n",
      "../rcv_elections_database/single/Berkeley_11042014_CityCouncilDistrict1.csv\n"
     ]
    },
    {
     "name": "stderr",
     "output_type": "stream",
     "text": [
      "/Users/es5891/Documents/GitHub/bugs-in-democracy/rcv_exploration/../rcv_learning/rcv_dimensionality.py:188: RuntimeWarning: divide by zero encountered in divide\n",
      "  distance = 1 / np.sqrt(freq_upper_triangle)\n"
     ]
    },
    {
     "name": "stdout",
     "output_type": "stream",
     "text": [
      "Normalized distances: {'MERRILIE MITCHELL': 0.0, 'LINDA MAIO': 1.2199157267173255, 'ALEJANDRO SOTO-VIGIL': 2.0}\n"
     ]
    },
    {
     "name": "stderr",
     "output_type": "stream",
     "text": [
      "/Users/es5891/Documents/GitHub/bugs-in-democracy/rcv_exploration/../rcv_learning/rcv_dimensionality.py:188: RuntimeWarning: divide by zero encountered in divide\n",
      "  distance = 1 / np.sqrt(freq_upper_triangle)\n"
     ]
    },
    {
     "name": "stdout",
     "output_type": "stream",
     "text": [
      "Consistency points: {0.0: 683, 0.7800842732826748: 1194, 0.3475105341603344: 713, 0.1950210683206687: 439, 2.0: 80, 1.0850632049620061: 107, 0.5: 159}\n",
      "../rcv_elections_database/single/TakomaPark_11082022_CityCouncilWard4.csv\n",
      "Error in file: ../rcv_elections_database/single/TakomaPark_11082022_CityCouncilWard4.csv\n",
      "zero-size array to reduction operation minimum which has no identity\n",
      "../rcv_elections_database/single/SanLeandro_11032020_MemberCityCouncilDist6SanLeandroRCV.csv\n",
      "Error in file: ../rcv_elections_database/single/SanLeandro_11032020_MemberCityCouncilDist6SanLeandroRCV.csv\n",
      "zero-size array to reduction operation minimum which has no identity\n",
      "../rcv_elections_database/single/Minneapolis_11022021_ParkBoardDistrict2.csv\n"
     ]
    },
    {
     "name": "stderr",
     "output_type": "stream",
     "text": [
      "/Users/es5891/Documents/GitHub/bugs-in-democracy/rcv_exploration/../rcv_learning/rcv_dimensionality.py:188: RuntimeWarning: divide by zero encountered in divide\n",
      "  distance = 1 / np.sqrt(freq_upper_triangle)\n"
     ]
    },
    {
     "name": "stdout",
     "output_type": "stream",
     "text": [
      "Normalized distances: {'Mike Shelton': 0.0, 'Eric Moran': 0.9499279343924093, 'Becka Thompson': 2.0}\n"
     ]
    },
    {
     "name": "stderr",
     "output_type": "stream",
     "text": [
      "/Users/es5891/Documents/GitHub/bugs-in-democracy/rcv_exploration/../rcv_learning/rcv_dimensionality.py:188: RuntimeWarning: divide by zero encountered in divide\n",
      "  distance = 1 / np.sqrt(freq_upper_triangle)\n"
     ]
    },
    {
     "name": "stdout",
     "output_type": "stream",
     "text": [
      "Consistency points: {0.9499279343924089: 1330, 2.0: 2043, 0.36874099179905107: 667, 1.2124459507943066: 232, 1.0937049589952554: 563, 0.0: 1438, 0.5: 232, 0.23748198359810221: 239}\n",
      "../rcv_elections_database/single/Portland_06142022_SchoolboardAL.csv\n",
      "Skipping file: ../rcv_elections_database/single/Portland_06142022_SchoolboardAL.csv\n",
      "../rcv_elections_database/single/Berkeley_11062018_CityCouncilDistrict8.csv\n"
     ]
    },
    {
     "name": "stderr",
     "output_type": "stream",
     "text": [
      "/Users/es5891/Documents/GitHub/bugs-in-democracy/rcv_exploration/../rcv_learning/rcv_dimensionality.py:188: RuntimeWarning: divide by zero encountered in divide\n",
      "  distance = 1 / np.sqrt(freq_upper_triangle)\n"
     ]
    },
    {
     "name": "stdout",
     "output_type": "stream",
     "text": [
      "Normalized distances: {'ALFRED TWU': 0.0, 'LORI DROSTE': 1.2345879079955702, 'MARY KAY LACEY': 1.743038057231832, 'RUSS TILLEMAN': 3.0}\n"
     ]
    },
    {
     "name": "stderr",
     "output_type": "stream",
     "text": [
      "/Users/es5891/Documents/GitHub/bugs-in-democracy/rcv_exploration/../rcv_learning/rcv_dimensionality.py:188: RuntimeWarning: divide by zero encountered in divide\n",
      "  distance = 1 / np.sqrt(freq_upper_triangle)\n"
     ]
    },
    {
     "name": "stdout",
     "output_type": "stream",
     "text": [
      "Consistency points: {0.5038342570506043: 526, 0.0: 936, 1.0306740564048342: 316, 0.3465512530406101: 620, 1.7417359679200466: 98, 0.25766851410120856: 680, 1.0796052772330331: 141, 1.3657225382936315: 228, 1.5230055423036257: 39, 0.5927169959900058: 170, 1.2084395342836374: 145, 0.43543399198001165: 260, 1.8385849799500291: 34, 0.75: 48, 3.0: 28, 2.056301975940035: 17}\n",
      "../rcv_elections_database/single/ElkRidge_11022021_Mayor.csv\n"
     ]
    },
    {
     "name": "stderr",
     "output_type": "stream",
     "text": [
      "/Users/es5891/Documents/GitHub/bugs-in-democracy/rcv_exploration/../rcv_learning/rcv_dimensionality.py:188: RuntimeWarning: divide by zero encountered in divide\n",
      "  distance = 1 / np.sqrt(freq_upper_triangle)\n"
     ]
    },
    {
     "name": "stdout",
     "output_type": "stream",
     "text": [
      "Normalized distances: {'GORDON REYNOLDS': 0.0, 'ROBERT HADDOCK': 0.9784584928242918, 'GEORGE D. POTTER': 2.0}\n"
     ]
    },
    {
     "name": "stderr",
     "output_type": "stream",
     "text": [
      "/Users/es5891/Documents/GitHub/bugs-in-democracy/rcv_exploration/../rcv_learning/rcv_dimensionality.py:188: RuntimeWarning: divide by zero encountered in divide\n",
      "  distance = 1 / np.sqrt(freq_upper_triangle)\n"
     ]
    },
    {
     "name": "stdout",
     "output_type": "stream",
     "text": [
      "Consistency points: {0.0: 98, 0.24461462320607302: 68, 0.9784584928242921: 46, 0.37230731160303654: 241, 2.0: 36, 1.1115365580151826: 235, 1.233843869618219: 40, 0.5: 2}\n",
      "../rcv_elections_database/single/SanLeandro_11062018_CountyCouncilDistrict5.csv\n"
     ]
    },
    {
     "name": "stderr",
     "output_type": "stream",
     "text": [
      "/Users/es5891/Documents/GitHub/bugs-in-democracy/rcv_exploration/../rcv_learning/rcv_dimensionality.py:188: RuntimeWarning: divide by zero encountered in divide\n",
      "  distance = 1 / np.sqrt(freq_upper_triangle)\n"
     ]
    },
    {
     "name": "stdout",
     "output_type": "stream",
     "text": [
      "Normalized distances: {'CORINA N. LOPEZ': 0.0, 'MAXINE OLIVER-BENSON': 1.0}\n"
     ]
    },
    {
     "name": "stderr",
     "output_type": "stream",
     "text": [
      "/Users/es5891/Documents/GitHub/bugs-in-democracy/rcv_exploration/../rcv_learning/rcv_dimensionality.py:188: RuntimeWarning: divide by zero encountered in divide\n",
      "  distance = 1 / np.sqrt(freq_upper_triangle)\n"
     ]
    },
    {
     "name": "stdout",
     "output_type": "stream",
     "text": [
      "Consistency points: {1.0: 7315, 0.0: 2801, 0.25: 4080}\n",
      "Error in file: ../rcv_elections_database/single/SanLeandro_11062018_CountyCouncilDistrict5.csv\n",
      "unsupported operand type(s) for -: 'float' and 'NoneType'\n",
      "../rcv_elections_database/single/Minneapolis_11052013_Ward5CityCouncil.csv\n"
     ]
    },
    {
     "name": "stderr",
     "output_type": "stream",
     "text": [
      "/Users/es5891/Documents/GitHub/bugs-in-democracy/rcv_exploration/../rcv_learning/rcv_dimensionality.py:188: RuntimeWarning: divide by zero encountered in divide\n",
      "  distance = 1 / np.sqrt(freq_upper_triangle)\n"
     ]
    },
    {
     "name": "stdout",
     "output_type": "stream",
     "text": [
      "Normalized distances: {'IAN ALEXANDER': 0.0, 'BLONG YANG': 0.734516613325511, 'BRETT BUCKNER': 1.2289859827511238, 'KALE R. SEVERSON': 3.0}\n"
     ]
    },
    {
     "name": "stderr",
     "output_type": "stream",
     "text": [
      "/Users/es5891/Documents/GitHub/bugs-in-democracy/rcv_exploration/../rcv_learning/rcv_dimensionality.py:188: RuntimeWarning: divide by zero encountered in divide\n",
      "  distance = 1 / np.sqrt(freq_upper_triangle)\n"
     ]
    }
   ],
   "source": [
    "# Search for CSV files in the directory and its subdirectories\n",
    "csv_files = glob.glob(\"../rcv_elections_database/**/*.csv\", recursive=True)\n",
    "\n",
    "# Determine save behavior\n",
    "save = True\n",
    "\n",
    "# Iterate over the CSV files\n",
    "for file_path in csv_files:\n",
    "\n",
    "    # Get the filename only\n",
    "    filename = file_path.split('/')[-1]  \n",
    "    print(file_path)\n",
    "\n",
    "    try:\n",
    "        csv = file_path\n",
    "        filename_prefix = \"plots/\" + filename\n",
    "\n",
    "        # Check if the plot already exists\n",
    "        if os.path.isfile(f\"{filename_prefix}_hist.png\"):\n",
    "            print(\"Skipping file: {}\".format(file_path))\n",
    "            continue\n",
    "\n",
    "        # Perform the RCV analysis\n",
    "        test = perform_rcv_analysis(csv, n_runs=1000)\n",
    "        mds_1d_coordinates, mds_2d_coordinates, most_common_order, order_frequencies, candidate_names = test\n",
    "\n",
    "        # Print the normalized distances between candidates and plot the MDS analysis\n",
    "        normalized_distances = get_distances_normalized(most_common_order, mds_1d_coordinates, candidate_names)\n",
    "        print(\"Normalized distances:\", normalized_distances)\n",
    "        plot_rcv_analysis(mds_1d_coordinates, mds_2d_coordinates, most_common_order, order_frequencies, candidate_names, save=save, filename=filename_prefix)\n",
    "\n",
    "        # Get the consistency points for the bimodality analysis\n",
    "        points = get_consistency_points(csv)\n",
    "        print(\"Consistency points:\", points)\n",
    "\n",
    "        # Create a list of data points\n",
    "        data_points = []\n",
    "        for key, value in points.items():\n",
    "            data_points.extend([key] * value)\n",
    "\n",
    "        # Convert to numpy array\n",
    "        data_points = np.array(data_points)\n",
    "\n",
    "        # Calculate skewness and kurtosis\n",
    "        g = skew(data_points)\n",
    "        k = kurtosis(data_points)\n",
    "\n",
    "        # Calculate KDE without plotting\n",
    "        density = gaussian_kde(data_points)\n",
    "        x_vals = np.linspace(min(data_points), max(data_points), 1000)\n",
    "        y_vals = density(x_vals)\n",
    "\n",
    "        # Identify local maxima in the KDE\n",
    "        maxima_indices = argrelextrema(y_vals, np.greater)\n",
    "\n",
    "        # Get the x-values of the maxima\n",
    "        modes = x_vals[maxima_indices]\n",
    "\n",
    "        # Check if there are at least two modes\n",
    "        if len(modes) >= 2:\n",
    "            mode1, mode2 = modes[:2]\n",
    "\n",
    "            # Calculate the amplitudes of the two modes\n",
    "            amp1 = density(mode1)[0]\n",
    "            amp2 = density(mode2)[0]\n",
    "\n",
    "            # Calculate the amplitude ratio with higher amplitude as denominator\n",
    "            if amp1 > amp2:\n",
    "                amplitude_ratio = amp2 / amp1\n",
    "            else:\n",
    "                amplitude_ratio = amp1 / amp2\n",
    "\n",
    "            # Calculate x-axis distance between the two modes\n",
    "            mode_distance = abs(mode2 - mode1)\n",
    "\n",
    "        else:\n",
    "            mode1, mode2 = None, None\n",
    "            amplitude_ratio = None\n",
    "            mode_distance = None\n",
    "\n",
    "        # Split the data into two groups based on proximity to the modes\n",
    "        data_group1 = [point for point in data_points if abs(point - mode1) < abs(point - mode2)]\n",
    "        data_group2 = [point for point in data_points if abs(point - mode1) > abs(point - mode2)]\n",
    "\n",
    "        # Display mean and variance for each group\n",
    "        mu1, sigma1_sq = np.mean(data_group1), np.var(data_group1)\n",
    "        mu2, sigma2_sq = np.mean(data_group2), np.var(data_group2)\n",
    "\n",
    "        # Calculate Ashman's D statistic (D > 2)\n",
    "        ashmans_D = abs(mu1 - mu2) / np.sqrt((sigma1_sq + sigma2_sq) / 2)\n",
    "\n",
    "        # Calculate Sarle's bimodality coefficient b (b > 5/9)\n",
    "        n = len(data_points)\n",
    "        sarle = (g**2 + 1) / (k + 3 * (n-1)**2 / ((n-2) * (n-3)))\n",
    "\n",
    "        # Calculate Hartigan's dip statistic (calculate p value)\n",
    "        hartigan_dip = dip_statistic(data_points)\n",
    "\n",
    "        # Prepare data for histogram\n",
    "        data_list = [x for x, count in points.items() for _ in range(count)]\n",
    "        normalized_points = []\n",
    "        normalized_names = []\n",
    "        for name in normalized_distances:\n",
    "            normalized_names.append(name)\n",
    "            normalized_points.append(normalized_distances[name])\n",
    "\n",
    "        # Plot histogram\n",
    "        plt.figure(figsize=(10, 6))\n",
    "        plt.hist(data_list, bins=50, density=True, alpha=0.7)\n",
    "        plt.title('Histogram of Data')\n",
    "        plt.xticks(normalized_points, normalized_names, rotation=45)\n",
    "        plt.xlabel('Value')\n",
    "        plt.ylabel('Density')\n",
    "        plt.grid(True)\n",
    "\n",
    "        # Display measures in a text box\n",
    "        text_str = f\"Skewness: {g:.2f}\\nKurtosis: {k:.2f}\\nMode Distance: {mode_distance:.2f}\"\n",
    "        plt.text(0.05, 0.95, text_str, transform=plt.gca().transAxes, fontsize=10, verticalalignment='top', bbox=dict(boxstyle='round', facecolor='white', alpha=0.5))\n",
    "\n",
    "        if save:\n",
    "            plt.savefig(f\"{filename_prefix}_hist.png\", bbox_inches='tight')\n",
    "            plt.close()\n",
    "        else:\n",
    "            plt.show()\n",
    "\n",
    "        # Plot kernal density estimation\n",
    "        plt.figure(figsize=(10, 6))\n",
    "        sns.kdeplot(data_list, fill=True)\n",
    "        plt.title('Kernel Density Estimation of Data')\n",
    "        plt.xticks(normalized_points, normalized_names, rotation=45)\n",
    "        plt.xlabel('Value')\n",
    "        plt.ylabel('Density')\n",
    "        plt.grid(True)\n",
    "\n",
    "        # Display bimodality measures in a text box\n",
    "        text_str = f\"Ashman's D: {ashmans_D:.10f}\\nSarle's Coefficient: {sarle:.10f}\\nHartigan's Dip: {hartigan_dip:.10f}\\nAmplitude Ratio: {amplitude_ratio:.10f}\"\n",
    "        plt.text(0.05, 0.95, text_str, transform=plt.gca().transAxes, fontsize=10, verticalalignment='top', bbox=dict(boxstyle='round', facecolor='white', alpha=0.5))\n",
    "\n",
    "        if save:\n",
    "            plt.savefig(f\"{filename_prefix}_kde.png\", bbox_inches='tight')\n",
    "            plt.close()\n",
    "        else:\n",
    "            plt.show()\n",
    "\n",
    "    except Exception as e:\n",
    "        print(\"Error in file: {}\".format(file_path))\n",
    "        print(e)"
   ]
  },
  {
   "cell_type": "code",
   "execution_count": null,
   "metadata": {},
   "outputs": [],
   "source": []
  }
 ],
 "metadata": {
  "kernelspec": {
   "display_name": "Python 3",
   "language": "python",
   "name": "python3"
  },
  "language_info": {
   "codemirror_mode": {
    "name": "ipython",
    "version": 3
   },
   "file_extension": ".py",
   "mimetype": "text/x-python",
   "name": "python",
   "nbconvert_exporter": "python",
   "pygments_lexer": "ipython3",
   "version": "3.9.7"
  },
  "orig_nbformat": 4
 },
 "nbformat": 4,
 "nbformat_minor": 2
}
